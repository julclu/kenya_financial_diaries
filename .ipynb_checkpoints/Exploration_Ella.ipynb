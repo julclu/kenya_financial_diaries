{
 "cells": [
  {
   "cell_type": "code",
   "execution_count": 2,
   "metadata": {},
   "outputs": [],
   "source": [
    "import pandas as pd\n",
    "import numpy as np\n",
    "import math as math"
   ]
  },
  {
   "cell_type": "code",
   "execution_count": 3,
   "metadata": {},
   "outputs": [],
   "source": [
    "df = pd.read_csv(\"kenya_data/diaries_transactions_all.csv\", dtype={'account_startclose_balance': str})"
   ]
  },
  {
   "cell_type": "markdown",
   "metadata": {},
   "source": [
    "I set the type of 'account_startclose_balance to str because it would otherwise give me an error. I checked for the types that this column contains and it seems like it is NaN and 'start' and 'close', so string seemed appropriate. This is how I checked for it."
   ]
  },
  {
   "cell_type": "code",
   "execution_count": 10,
   "metadata": {},
   "outputs": [
    {
     "name": "stdout",
     "output_type": "stream",
     "text": [
      "{<class 'str'>, <class 'float'>}\n"
     ]
    }
   ],
   "source": [
    "d = set()\n",
    "for element in df['account_startclose_balance']:\n",
    "    d.add(type(element))\n",
    "          \n",
    "print(d)"
   ]
  },
  {
   "cell_type": "code",
   "execution_count": 11,
   "metadata": {},
   "outputs": [
    {
     "name": "stdout",
     "output_type": "stream",
     "text": [
      "{'nan'}\n"
     ]
    }
   ],
   "source": [
    "f = set()\n",
    "for element in df['account_startclose_balance']:\n",
    "    if type(element)==float:\n",
    "        f.add(str(element))\n",
    "\n",
    "print(f)"
   ]
  },
  {
   "cell_type": "code",
   "execution_count": 12,
   "metadata": {},
   "outputs": [
    {
     "name": "stdout",
     "output_type": "stream",
     "text": [
      "{'Start', 'Close'}\n"
     ]
    }
   ],
   "source": [
    "f = set()\n",
    "for element in df['account_startclose_balance']:\n",
    "    if type(element)==str:\n",
    "        f.add(element)\n",
    "\n",
    "print(f)"
   ]
  },
  {
   "cell_type": "code",
   "execution_count": 13,
   "metadata": {},
   "outputs": [
    {
     "data": {
      "text/html": [
       "<div>\n",
       "<style scoped>\n",
       "    .dataframe tbody tr th:only-of-type {\n",
       "        vertical-align: middle;\n",
       "    }\n",
       "\n",
       "    .dataframe tbody tr th {\n",
       "        vertical-align: top;\n",
       "    }\n",
       "\n",
       "    .dataframe thead th {\n",
       "        text-align: right;\n",
       "    }\n",
       "</style>\n",
       "<table border=\"1\" class=\"dataframe\">\n",
       "  <thead>\n",
       "    <tr style=\"text-align: right;\">\n",
       "      <th></th>\n",
       "      <th>hh_ids</th>\n",
       "      <th>unique_hhs</th>\n",
       "      <th>first_trx_date_hh</th>\n",
       "      <th>last_trx_date_hh</th>\n",
       "      <th>tot_hh_daysofobs</th>\n",
       "      <th>tot_hh_monthsofobs</th>\n",
       "      <th>interview_designation</th>\n",
       "      <th>int_date</th>\n",
       "      <th>int_month</th>\n",
       "      <th>int_year</th>\n",
       "      <th>...</th>\n",
       "      <th>trx_distance_km</th>\n",
       "      <th>trx_outlet</th>\n",
       "      <th>trx_direction</th>\n",
       "      <th>trx_value_kes</th>\n",
       "      <th>trx_value_usd</th>\n",
       "      <th>ddd_gift</th>\n",
       "      <th>trx_inkind_units</th>\n",
       "      <th>trx_inkind_value_usd</th>\n",
       "      <th>trx_inkind_value_kes</th>\n",
       "      <th>trx_stdtime_mnths_hh_nr</th>\n",
       "    </tr>\n",
       "  </thead>\n",
       "  <tbody>\n",
       "    <tr>\n",
       "      <th>0</th>\n",
       "      <td>KELDL02</td>\n",
       "      <td>NaN</td>\n",
       "      <td>03sep2012</td>\n",
       "      <td>02oct2013</td>\n",
       "      <td>394</td>\n",
       "      <td>13</td>\n",
       "      <td>04=Diaries Interview</td>\n",
       "      <td>02oct2013</td>\n",
       "      <td>10</td>\n",
       "      <td>2013</td>\n",
       "      <td>...</td>\n",
       "      <td>NaN</td>\n",
       "      <td>NaN</td>\n",
       "      <td>NaN</td>\n",
       "      <td>0.0</td>\n",
       "      <td>0.000000</td>\n",
       "      <td>0</td>\n",
       "      <td>NaN</td>\n",
       "      <td>NaN</td>\n",
       "      <td>NaN</td>\n",
       "      <td>13.586210</td>\n",
       "    </tr>\n",
       "    <tr>\n",
       "      <th>1</th>\n",
       "      <td>KVIHC16</td>\n",
       "      <td>NaN</td>\n",
       "      <td>24sep2012</td>\n",
       "      <td>19sep2013</td>\n",
       "      <td>360</td>\n",
       "      <td>12</td>\n",
       "      <td>04=Diaries Interview</td>\n",
       "      <td>22apr2013</td>\n",
       "      <td>4</td>\n",
       "      <td>2013</td>\n",
       "      <td>...</td>\n",
       "      <td>NaN</td>\n",
       "      <td>NaN</td>\n",
       "      <td>Outflow</td>\n",
       "      <td>100.0</td>\n",
       "      <td>1.176471</td>\n",
       "      <td>0</td>\n",
       "      <td>NaN</td>\n",
       "      <td>NaN</td>\n",
       "      <td>NaN</td>\n",
       "      <td>7.206897</td>\n",
       "    </tr>\n",
       "    <tr>\n",
       "      <th>2</th>\n",
       "      <td>KELDK21</td>\n",
       "      <td>NaN</td>\n",
       "      <td>20sep2012</td>\n",
       "      <td>22oct2013</td>\n",
       "      <td>397</td>\n",
       "      <td>13</td>\n",
       "      <td>04=Diaries Interview</td>\n",
       "      <td>02oct2013</td>\n",
       "      <td>10</td>\n",
       "      <td>2013</td>\n",
       "      <td>...</td>\n",
       "      <td>NaN</td>\n",
       "      <td>NaN</td>\n",
       "      <td>NaN</td>\n",
       "      <td>0.0</td>\n",
       "      <td>0.000000</td>\n",
       "      <td>0</td>\n",
       "      <td>NaN</td>\n",
       "      <td>NaN</td>\n",
       "      <td>NaN</td>\n",
       "      <td>13.000000</td>\n",
       "    </tr>\n",
       "    <tr>\n",
       "      <th>3</th>\n",
       "      <td>KMOMT22</td>\n",
       "      <td>NaN</td>\n",
       "      <td>21sep2012</td>\n",
       "      <td>01nov2013</td>\n",
       "      <td>406</td>\n",
       "      <td>14</td>\n",
       "      <td>04=Diaries Interview</td>\n",
       "      <td>21feb2013</td>\n",
       "      <td>2</td>\n",
       "      <td>2013</td>\n",
       "      <td>...</td>\n",
       "      <td>NaN</td>\n",
       "      <td>NaN</td>\n",
       "      <td>Inflow</td>\n",
       "      <td>710.0</td>\n",
       "      <td>8.352942</td>\n",
       "      <td>0</td>\n",
       "      <td>NaN</td>\n",
       "      <td>NaN</td>\n",
       "      <td>NaN</td>\n",
       "      <td>4.793103</td>\n",
       "    </tr>\n",
       "    <tr>\n",
       "      <th>4</th>\n",
       "      <td>KMOMT32</td>\n",
       "      <td>NaN</td>\n",
       "      <td>20sep2012</td>\n",
       "      <td>18oct2013</td>\n",
       "      <td>393</td>\n",
       "      <td>13</td>\n",
       "      <td>04=Diaries Interview</td>\n",
       "      <td>02may2013</td>\n",
       "      <td>5</td>\n",
       "      <td>2013</td>\n",
       "      <td>...</td>\n",
       "      <td>NaN</td>\n",
       "      <td>NaN</td>\n",
       "      <td>Outflow</td>\n",
       "      <td>100.0</td>\n",
       "      <td>1.176471</td>\n",
       "      <td>0</td>\n",
       "      <td>NaN</td>\n",
       "      <td>NaN</td>\n",
       "      <td>NaN</td>\n",
       "      <td>6.517241</td>\n",
       "    </tr>\n",
       "  </tbody>\n",
       "</table>\n",
       "<p>5 rows × 58 columns</p>\n",
       "</div>"
      ],
      "text/plain": [
       "    hh_ids  unique_hhs first_trx_date_hh last_trx_date_hh  tot_hh_daysofobs  \\\n",
       "0  KELDL02         NaN         03sep2012        02oct2013               394   \n",
       "1  KVIHC16         NaN         24sep2012        19sep2013               360   \n",
       "2  KELDK21         NaN         20sep2012        22oct2013               397   \n",
       "3  KMOMT22         NaN         21sep2012        01nov2013               406   \n",
       "4  KMOMT32         NaN         20sep2012        18oct2013               393   \n",
       "\n",
       "   tot_hh_monthsofobs interview_designation   int_date  int_month  int_year  \\\n",
       "0                  13  04=Diaries Interview  02oct2013         10      2013   \n",
       "1                  12  04=Diaries Interview  22apr2013          4      2013   \n",
       "2                  13  04=Diaries Interview  02oct2013         10      2013   \n",
       "3                  14  04=Diaries Interview  21feb2013          2      2013   \n",
       "4                  13  04=Diaries Interview  02may2013          5      2013   \n",
       "\n",
       "            ...           trx_distance_km trx_outlet trx_direction  \\\n",
       "0           ...                       NaN        NaN           NaN   \n",
       "1           ...                       NaN        NaN       Outflow   \n",
       "2           ...                       NaN        NaN           NaN   \n",
       "3           ...                       NaN        NaN        Inflow   \n",
       "4           ...                       NaN        NaN       Outflow   \n",
       "\n",
       "   trx_value_kes trx_value_usd  ddd_gift trx_inkind_units  \\\n",
       "0            0.0      0.000000         0              NaN   \n",
       "1          100.0      1.176471         0              NaN   \n",
       "2            0.0      0.000000         0              NaN   \n",
       "3          710.0      8.352942         0              NaN   \n",
       "4          100.0      1.176471         0              NaN   \n",
       "\n",
       "  trx_inkind_value_usd trx_inkind_value_kes trx_stdtime_mnths_hh_nr  \n",
       "0                  NaN                  NaN               13.586210  \n",
       "1                  NaN                  NaN                7.206897  \n",
       "2                  NaN                  NaN               13.000000  \n",
       "3                  NaN                  NaN                4.793103  \n",
       "4                  NaN                  NaN                6.517241  \n",
       "\n",
       "[5 rows x 58 columns]"
      ]
     },
     "execution_count": 13,
     "metadata": {},
     "output_type": "execute_result"
    }
   ],
   "source": [
    "df.head()"
   ]
  },
  {
   "cell_type": "code",
   "execution_count": 14,
   "metadata": {},
   "outputs": [
    {
     "data": {
      "text/plain": [
       "(483949, 58)"
      ]
     },
     "execution_count": 14,
     "metadata": {},
     "output_type": "execute_result"
    }
   ],
   "source": [
    "df.shape"
   ]
  },
  {
   "cell_type": "code",
   "execution_count": 15,
   "metadata": {},
   "outputs": [
    {
     "data": {
      "text/html": [
       "<div>\n",
       "<style scoped>\n",
       "    .dataframe tbody tr th:only-of-type {\n",
       "        vertical-align: middle;\n",
       "    }\n",
       "\n",
       "    .dataframe tbody tr th {\n",
       "        vertical-align: top;\n",
       "    }\n",
       "\n",
       "    .dataframe thead th {\n",
       "        text-align: right;\n",
       "    }\n",
       "</style>\n",
       "<table border=\"1\" class=\"dataframe\">\n",
       "  <thead>\n",
       "    <tr style=\"text-align: right;\">\n",
       "      <th></th>\n",
       "      <th>unique_hhs</th>\n",
       "      <th>tot_hh_daysofobs</th>\n",
       "      <th>tot_hh_monthsofobs</th>\n",
       "      <th>int_month</th>\n",
       "      <th>int_year</th>\n",
       "      <th>unique_accnts</th>\n",
       "      <th>unique_hm_owner</th>\n",
       "      <th>tot_acc_daysofobs</th>\n",
       "      <th>tot_acc_monthsofobs</th>\n",
       "      <th>trx_id</th>\n",
       "      <th>...</th>\n",
       "      <th>trx_fee</th>\n",
       "      <th>trx_mode_code</th>\n",
       "      <th>trx_place_incommunity</th>\n",
       "      <th>trx_distance_km</th>\n",
       "      <th>trx_value_kes</th>\n",
       "      <th>trx_value_usd</th>\n",
       "      <th>ddd_gift</th>\n",
       "      <th>trx_inkind_value_usd</th>\n",
       "      <th>trx_inkind_value_kes</th>\n",
       "      <th>trx_stdtime_mnths_hh_nr</th>\n",
       "    </tr>\n",
       "  </thead>\n",
       "  <tbody>\n",
       "    <tr>\n",
       "      <th>count</th>\n",
       "      <td>298.0</td>\n",
       "      <td>483949.000000</td>\n",
       "      <td>483949.000000</td>\n",
       "      <td>483949.000000</td>\n",
       "      <td>483949.000000</td>\n",
       "      <td>9546.0</td>\n",
       "      <td>670.0</td>\n",
       "      <td>483949.000000</td>\n",
       "      <td>483949.000000</td>\n",
       "      <td>4.839490e+05</td>\n",
       "      <td>...</td>\n",
       "      <td>77070.000000</td>\n",
       "      <td>476292.000000</td>\n",
       "      <td>457703.000000</td>\n",
       "      <td>457498.000000</td>\n",
       "      <td>4.834300e+05</td>\n",
       "      <td>483430.000000</td>\n",
       "      <td>483949.000000</td>\n",
       "      <td>12798.000000</td>\n",
       "      <td>12798.000000</td>\n",
       "      <td>483949.000000</td>\n",
       "    </tr>\n",
       "    <tr>\n",
       "      <th>mean</th>\n",
       "      <td>1.0</td>\n",
       "      <td>394.805825</td>\n",
       "      <td>13.125895</td>\n",
       "      <td>6.426041</td>\n",
       "      <td>2012.847717</td>\n",
       "      <td>1.0</td>\n",
       "      <td>1.0</td>\n",
       "      <td>421.460920</td>\n",
       "      <td>14.157174</td>\n",
       "      <td>7.068031e+16</td>\n",
       "      <td>...</td>\n",
       "      <td>0.067679</td>\n",
       "      <td>2.199067</td>\n",
       "      <td>0.869527</td>\n",
       "      <td>6.824379</td>\n",
       "      <td>6.547228e+02</td>\n",
       "      <td>7.702621</td>\n",
       "      <td>0.003350</td>\n",
       "      <td>3.616619</td>\n",
       "      <td>307.412564</td>\n",
       "      <td>7.336331</td>\n",
       "    </tr>\n",
       "    <tr>\n",
       "      <th>std</th>\n",
       "      <td>0.0</td>\n",
       "      <td>32.657529</td>\n",
       "      <td>1.141561</td>\n",
       "      <td>3.204513</td>\n",
       "      <td>0.359490</td>\n",
       "      <td>0.0</td>\n",
       "      <td>0.0</td>\n",
       "      <td>118.927981</td>\n",
       "      <td>4.169955</td>\n",
       "      <td>1.964200e+16</td>\n",
       "      <td>...</td>\n",
       "      <td>0.251195</td>\n",
       "      <td>3.461173</td>\n",
       "      <td>0.336824</td>\n",
       "      <td>79.340121</td>\n",
       "      <td>5.453241e+03</td>\n",
       "      <td>64.155778</td>\n",
       "      <td>0.057778</td>\n",
       "      <td>28.127688</td>\n",
       "      <td>2390.853350</td>\n",
       "      <td>3.766231</td>\n",
       "    </tr>\n",
       "    <tr>\n",
       "      <th>min</th>\n",
       "      <td>1.0</td>\n",
       "      <td>214.000000</td>\n",
       "      <td>7.000000</td>\n",
       "      <td>1.000000</td>\n",
       "      <td>2012.000000</td>\n",
       "      <td>1.0</td>\n",
       "      <td>1.0</td>\n",
       "      <td>0.000000</td>\n",
       "      <td>0.000000</td>\n",
       "      <td>3.413549e+16</td>\n",
       "      <td>...</td>\n",
       "      <td>0.000000</td>\n",
       "      <td>1.000000</td>\n",
       "      <td>0.000000</td>\n",
       "      <td>0.000000</td>\n",
       "      <td>-2.595000e+04</td>\n",
       "      <td>-305.294100</td>\n",
       "      <td>0.000000</td>\n",
       "      <td>0.000000</td>\n",
       "      <td>0.000000</td>\n",
       "      <td>0.000000</td>\n",
       "    </tr>\n",
       "    <tr>\n",
       "      <th>25%</th>\n",
       "      <td>1.0</td>\n",
       "      <td>375.000000</td>\n",
       "      <td>12.000000</td>\n",
       "      <td>4.000000</td>\n",
       "      <td>2013.000000</td>\n",
       "      <td>1.0</td>\n",
       "      <td>1.0</td>\n",
       "      <td>358.000000</td>\n",
       "      <td>12.000000</td>\n",
       "      <td>5.713807e+16</td>\n",
       "      <td>...</td>\n",
       "      <td>0.000000</td>\n",
       "      <td>1.000000</td>\n",
       "      <td>1.000000</td>\n",
       "      <td>0.000000</td>\n",
       "      <td>2.000000e+01</td>\n",
       "      <td>0.235294</td>\n",
       "      <td>0.000000</td>\n",
       "      <td>0.000000</td>\n",
       "      <td>0.000000</td>\n",
       "      <td>4.275862</td>\n",
       "    </tr>\n",
       "    <tr>\n",
       "      <th>50%</th>\n",
       "      <td>1.0</td>\n",
       "      <td>391.000000</td>\n",
       "      <td>13.000000</td>\n",
       "      <td>7.000000</td>\n",
       "      <td>2013.000000</td>\n",
       "      <td>1.0</td>\n",
       "      <td>1.0</td>\n",
       "      <td>502.000000</td>\n",
       "      <td>17.000000</td>\n",
       "      <td>6.213598e+16</td>\n",
       "      <td>...</td>\n",
       "      <td>0.000000</td>\n",
       "      <td>1.000000</td>\n",
       "      <td>1.000000</td>\n",
       "      <td>0.000000</td>\n",
       "      <td>5.000000e+01</td>\n",
       "      <td>0.588235</td>\n",
       "      <td>0.000000</td>\n",
       "      <td>0.470588</td>\n",
       "      <td>40.000000</td>\n",
       "      <td>7.620690</td>\n",
       "    </tr>\n",
       "    <tr>\n",
       "      <th>75%</th>\n",
       "      <td>1.0</td>\n",
       "      <td>413.000000</td>\n",
       "      <td>14.000000</td>\n",
       "      <td>9.000000</td>\n",
       "      <td>2013.000000</td>\n",
       "      <td>1.0</td>\n",
       "      <td>1.0</td>\n",
       "      <td>502.000000</td>\n",
       "      <td>17.000000</td>\n",
       "      <td>8.913662e+16</td>\n",
       "      <td>...</td>\n",
       "      <td>0.000000</td>\n",
       "      <td>1.000000</td>\n",
       "      <td>1.000000</td>\n",
       "      <td>0.000000</td>\n",
       "      <td>2.300000e+02</td>\n",
       "      <td>2.705882</td>\n",
       "      <td>0.000000</td>\n",
       "      <td>1.529412</td>\n",
       "      <td>130.000000</td>\n",
       "      <td>10.482760</td>\n",
       "    </tr>\n",
       "    <tr>\n",
       "      <th>max</th>\n",
       "      <td>1.0</td>\n",
       "      <td>501.000000</td>\n",
       "      <td>17.000000</td>\n",
       "      <td>12.000000</td>\n",
       "      <td>2015.000000</td>\n",
       "      <td>1.0</td>\n",
       "      <td>1.0</td>\n",
       "      <td>502.000000</td>\n",
       "      <td>17.000000</td>\n",
       "      <td>1.121385e+17</td>\n",
       "      <td>...</td>\n",
       "      <td>1.000000</td>\n",
       "      <td>19.000000</td>\n",
       "      <td>1.000000</td>\n",
       "      <td>14317.670000</td>\n",
       "      <td>1.200000e+06</td>\n",
       "      <td>14117.650000</td>\n",
       "      <td>1.000000</td>\n",
       "      <td>1529.412000</td>\n",
       "      <td>130000.000000</td>\n",
       "      <td>17.275860</td>\n",
       "    </tr>\n",
       "  </tbody>\n",
       "</table>\n",
       "<p>8 rows × 28 columns</p>\n",
       "</div>"
      ],
      "text/plain": [
       "       unique_hhs  tot_hh_daysofobs  tot_hh_monthsofobs      int_month  \\\n",
       "count       298.0     483949.000000       483949.000000  483949.000000   \n",
       "mean          1.0        394.805825           13.125895       6.426041   \n",
       "std           0.0         32.657529            1.141561       3.204513   \n",
       "min           1.0        214.000000            7.000000       1.000000   \n",
       "25%           1.0        375.000000           12.000000       4.000000   \n",
       "50%           1.0        391.000000           13.000000       7.000000   \n",
       "75%           1.0        413.000000           14.000000       9.000000   \n",
       "max           1.0        501.000000           17.000000      12.000000   \n",
       "\n",
       "            int_year  unique_accnts  unique_hm_owner  tot_acc_daysofobs  \\\n",
       "count  483949.000000         9546.0            670.0      483949.000000   \n",
       "mean     2012.847717            1.0              1.0         421.460920   \n",
       "std         0.359490            0.0              0.0         118.927981   \n",
       "min      2012.000000            1.0              1.0           0.000000   \n",
       "25%      2013.000000            1.0              1.0         358.000000   \n",
       "50%      2013.000000            1.0              1.0         502.000000   \n",
       "75%      2013.000000            1.0              1.0         502.000000   \n",
       "max      2015.000000            1.0              1.0         502.000000   \n",
       "\n",
       "       tot_acc_monthsofobs        trx_id           ...             \\\n",
       "count        483949.000000  4.839490e+05           ...              \n",
       "mean             14.157174  7.068031e+16           ...              \n",
       "std               4.169955  1.964200e+16           ...              \n",
       "min               0.000000  3.413549e+16           ...              \n",
       "25%              12.000000  5.713807e+16           ...              \n",
       "50%              17.000000  6.213598e+16           ...              \n",
       "75%              17.000000  8.913662e+16           ...              \n",
       "max              17.000000  1.121385e+17           ...              \n",
       "\n",
       "            trx_fee  trx_mode_code  trx_place_incommunity  trx_distance_km  \\\n",
       "count  77070.000000  476292.000000          457703.000000    457498.000000   \n",
       "mean       0.067679       2.199067               0.869527         6.824379   \n",
       "std        0.251195       3.461173               0.336824        79.340121   \n",
       "min        0.000000       1.000000               0.000000         0.000000   \n",
       "25%        0.000000       1.000000               1.000000         0.000000   \n",
       "50%        0.000000       1.000000               1.000000         0.000000   \n",
       "75%        0.000000       1.000000               1.000000         0.000000   \n",
       "max        1.000000      19.000000               1.000000     14317.670000   \n",
       "\n",
       "       trx_value_kes  trx_value_usd       ddd_gift  trx_inkind_value_usd  \\\n",
       "count   4.834300e+05  483430.000000  483949.000000          12798.000000   \n",
       "mean    6.547228e+02       7.702621       0.003350              3.616619   \n",
       "std     5.453241e+03      64.155778       0.057778             28.127688   \n",
       "min    -2.595000e+04    -305.294100       0.000000              0.000000   \n",
       "25%     2.000000e+01       0.235294       0.000000              0.000000   \n",
       "50%     5.000000e+01       0.588235       0.000000              0.470588   \n",
       "75%     2.300000e+02       2.705882       0.000000              1.529412   \n",
       "max     1.200000e+06   14117.650000       1.000000           1529.412000   \n",
       "\n",
       "       trx_inkind_value_kes  trx_stdtime_mnths_hh_nr  \n",
       "count          12798.000000            483949.000000  \n",
       "mean             307.412564                 7.336331  \n",
       "std             2390.853350                 3.766231  \n",
       "min                0.000000                 0.000000  \n",
       "25%                0.000000                 4.275862  \n",
       "50%               40.000000                 7.620690  \n",
       "75%              130.000000                10.482760  \n",
       "max           130000.000000                17.275860  \n",
       "\n",
       "[8 rows x 28 columns]"
      ]
     },
     "execution_count": 15,
     "metadata": {},
     "output_type": "execute_result"
    }
   ],
   "source": [
    "df.describe()"
   ]
  },
  {
   "cell_type": "code",
   "execution_count": 16,
   "metadata": {
    "scrolled": true
   },
   "outputs": [],
   "source": [
    "# this just took way too long\n",
    "#for col in df.columns:\n",
    "#    df[col].hist()\n",
    "# I think that this is because some columns have too many values??"
   ]
  },
  {
   "cell_type": "code",
   "execution_count": 17,
   "metadata": {},
   "outputs": [
    {
     "data": {
      "text/plain": [
       "<matplotlib.axes._subplots.AxesSubplot at 0x11e045b70>"
      ]
     },
     "execution_count": 17,
     "metadata": {},
     "output_type": "execute_result"
    }
   ],
   "source": [
    "df['trx_month'].hist(figsize=(8,8))"
   ]
  },
  {
   "cell_type": "markdown",
   "metadata": {},
   "source": [
    "### the big majority of transactions seems to be very small"
   ]
  },
  {
   "cell_type": "code",
   "execution_count": 29,
   "metadata": {},
   "outputs": [
    {
     "name": "stdout",
     "output_type": "stream",
     "text": [
      "AxesSubplot(0.125,0.125;0.775x0.755)\n"
     ]
    },
    {
     "data": {
      "text/plain": [
       "<matplotlib.axes._subplots.AxesSubplot at 0x11d809390>"
      ]
     },
     "execution_count": 29,
     "metadata": {},
     "output_type": "execute_result"
    },
    {
     "data": {
      "image/png": "[encoded data removed]",
      "text/plain": [
       "<Figure size 576x576 with 1 Axes>"
      ]
     },
     "metadata": {
      "needs_background": "light"
     },
     "output_type": "display_data"
    }
   ],
   "source": [
    "print(df['trx_inkind_value_kes'].hist(figsize=(8,8),bins=100))\n"
   ]
  },
  {
   "cell_type": "code",
   "execution_count": 33,
   "metadata": {},
   "outputs": [
    {
     "data": {
      "text/plain": [
       "<matplotlib.axes._subplots.AxesSubplot at 0x118e53978>"
      ]
     },
     "execution_count": 33,
     "metadata": {},
     "output_type": "execute_result"
    },
    {
     "data": {
      "image/png": "[encoded data removed]",
      "text/plain": [
       "<Figure size 576x576 with 1 Axes>"
      ]
     },
     "metadata": {
      "needs_background": "light"
     },
     "output_type": "display_data"
    }
   ],
   "source": [
    "df[df['trx_inkind_value_kes']<=1000]['trx_inkind_value_kes'].hist(figsize=(8,8),bins=100)"
   ]
  },
  {
   "cell_type": "markdown",
   "metadata": {},
   "source": [
    "## value of transactions wrt time\n",
    "I am not sure though if it orders the dates correctly since they are formatted in a weird way. (like 02oct2013)"
   ]
  },
  {
   "cell_type": "code",
   "execution_count": 18,
   "metadata": {},
   "outputs": [
    {
     "data": {
      "text/plain": [
       "<matplotlib.axes._subplots.AxesSubplot at 0x11e378eb8>"
      ]
     },
     "execution_count": 18,
     "metadata": {},
     "output_type": "execute_result"
    },
    {
     "data": {
      "image/png": "[encoded data removed]",
      "text/plain": [
       "<Figure size 432x288 with 1 Axes>"
      ]
     },
     "metadata": {
      "needs_background": "light"
     },
     "output_type": "display_data"
    }
   ],
   "source": [
    "df.plot(x = \"trx_date\",y=\"trx_value_kes\",style='.')"
   ]
  },
  {
   "cell_type": "markdown",
   "metadata": {},
   "source": [
    "### How many unique households."
   ]
  },
  {
   "cell_type": "code",
   "execution_count": 19,
   "metadata": {},
   "outputs": [],
   "source": [
    "ids = {}\n",
    "for id in df['hh_ids']:\n",
    "    if id in ids:\n",
    "        ids[id] += 1\n",
    "    else:\n",
    "        ids[id] = 1\n",
    "    "
   ]
  },
  {
   "cell_type": "code",
   "execution_count": 20,
   "metadata": {},
   "outputs": [
    {
     "data": {
      "text/plain": [
       "298"
      ]
     },
     "execution_count": 20,
     "metadata": {},
     "output_type": "execute_result"
    }
   ],
   "source": [
    "len(ids)"
   ]
  },
  {
   "cell_type": "markdown",
   "metadata": {},
   "source": [
    "### How many transactions per household on average"
   ]
  },
  {
   "cell_type": "code",
   "execution_count": 21,
   "metadata": {},
   "outputs": [
    {
     "data": {
      "text/plain": [
       "1623.989932885906"
      ]
     },
     "execution_count": 21,
     "metadata": {},
     "output_type": "execute_result"
    }
   ],
   "source": [
    "sum=0\n",
    "for id, count in ids.items():\n",
    "    sum = sum + count\n",
    "sum/len(ids)"
   ]
  },
  {
   "cell_type": "markdown",
   "metadata": {},
   "source": [
    "# Let's look at a random household."
   ]
  },
  {
   "cell_type": "code",
   "execution_count": 22,
   "metadata": {},
   "outputs": [
    {
     "data": {
      "text/plain": [
       "'KELDK19'"
      ]
     },
     "execution_count": 22,
     "metadata": {},
     "output_type": "execute_result"
    }
   ],
   "source": [
    "import random \n",
    "random.choice(list(ids.keys()))"
   ]
  },
  {
   "cell_type": "code",
   "execution_count": 23,
   "metadata": {},
   "outputs": [
    {
     "data": {
      "text/plain": [
       "1020"
      ]
     },
     "execution_count": 23,
     "metadata": {},
     "output_type": "execute_result"
    }
   ],
   "source": [
    "ids[\"KELDK36\"]"
   ]
  },
  {
   "cell_type": "code",
   "execution_count": 24,
   "metadata": {},
   "outputs": [],
   "source": [
    "df_sin = df[df['hh_ids']==\"KELDK36\"]"
   ]
  },
  {
   "cell_type": "code",
   "execution_count": 25,
   "metadata": {},
   "outputs": [
    {
     "data": {
      "text/html": [
       "<div>\n",
       "<style scoped>\n",
       "    .dataframe tbody tr th:only-of-type {\n",
       "        vertical-align: middle;\n",
       "    }\n",
       "\n",
       "    .dataframe tbody tr th {\n",
       "        vertical-align: top;\n",
       "    }\n",
       "\n",
       "    .dataframe thead th {\n",
       "        text-align: right;\n",
       "    }\n",
       "</style>\n",
       "<table border=\"1\" class=\"dataframe\">\n",
       "  <thead>\n",
       "    <tr style=\"text-align: right;\">\n",
       "      <th></th>\n",
       "      <th>unique_hhs</th>\n",
       "      <th>tot_hh_daysofobs</th>\n",
       "      <th>tot_hh_monthsofobs</th>\n",
       "      <th>int_month</th>\n",
       "      <th>int_year</th>\n",
       "      <th>unique_accnts</th>\n",
       "      <th>unique_hm_owner</th>\n",
       "      <th>tot_acc_daysofobs</th>\n",
       "      <th>tot_acc_monthsofobs</th>\n",
       "      <th>trx_id</th>\n",
       "      <th>...</th>\n",
       "      <th>trx_fee</th>\n",
       "      <th>trx_mode_code</th>\n",
       "      <th>trx_place_incommunity</th>\n",
       "      <th>trx_distance_km</th>\n",
       "      <th>trx_value_kes</th>\n",
       "      <th>trx_value_usd</th>\n",
       "      <th>ddd_gift</th>\n",
       "      <th>trx_inkind_value_usd</th>\n",
       "      <th>trx_inkind_value_kes</th>\n",
       "      <th>trx_stdtime_mnths_hh_nr</th>\n",
       "    </tr>\n",
       "  </thead>\n",
       "  <tbody>\n",
       "    <tr>\n",
       "      <th>count</th>\n",
       "      <td>1.0</td>\n",
       "      <td>1020.0</td>\n",
       "      <td>1020.0</td>\n",
       "      <td>1020.000000</td>\n",
       "      <td>1020.000000</td>\n",
       "      <td>22.0</td>\n",
       "      <td>2.0</td>\n",
       "      <td>1020.000000</td>\n",
       "      <td>1020.000000</td>\n",
       "      <td>1.020000e+03</td>\n",
       "      <td>...</td>\n",
       "      <td>167.000000</td>\n",
       "      <td>1004.000000</td>\n",
       "      <td>967.000000</td>\n",
       "      <td>967.000000</td>\n",
       "      <td>1019.000000</td>\n",
       "      <td>1019.000000</td>\n",
       "      <td>1020.000000</td>\n",
       "      <td>155.0</td>\n",
       "      <td>155.0</td>\n",
       "      <td>1020.000000</td>\n",
       "    </tr>\n",
       "    <tr>\n",
       "      <th>mean</th>\n",
       "      <td>1.0</td>\n",
       "      <td>417.0</td>\n",
       "      <td>14.0</td>\n",
       "      <td>6.919608</td>\n",
       "      <td>2012.843137</td>\n",
       "      <td>1.0</td>\n",
       "      <td>1.0</td>\n",
       "      <td>401.158824</td>\n",
       "      <td>13.465686</td>\n",
       "      <td>9.605851e+16</td>\n",
       "      <td>...</td>\n",
       "      <td>0.167665</td>\n",
       "      <td>2.027888</td>\n",
       "      <td>0.650465</td>\n",
       "      <td>6.942170</td>\n",
       "      <td>2267.903827</td>\n",
       "      <td>26.681223</td>\n",
       "      <td>0.005882</td>\n",
       "      <td>0.0</td>\n",
       "      <td>0.0</td>\n",
       "      <td>7.661663</td>\n",
       "    </tr>\n",
       "    <tr>\n",
       "      <th>std</th>\n",
       "      <td>NaN</td>\n",
       "      <td>0.0</td>\n",
       "      <td>0.0</td>\n",
       "      <td>2.676802</td>\n",
       "      <td>0.363850</td>\n",
       "      <td>0.0</td>\n",
       "      <td>0.0</td>\n",
       "      <td>117.422725</td>\n",
       "      <td>4.086383</td>\n",
       "      <td>1.898434e+16</td>\n",
       "      <td>...</td>\n",
       "      <td>0.374692</td>\n",
       "      <td>3.728206</td>\n",
       "      <td>0.477070</td>\n",
       "      <td>32.417744</td>\n",
       "      <td>6930.166336</td>\n",
       "      <td>81.531382</td>\n",
       "      <td>0.076508</td>\n",
       "      <td>0.0</td>\n",
       "      <td>0.0</td>\n",
       "      <td>3.720021</td>\n",
       "    </tr>\n",
       "    <tr>\n",
       "      <th>min</th>\n",
       "      <td>1.0</td>\n",
       "      <td>417.0</td>\n",
       "      <td>14.0</td>\n",
       "      <td>1.000000</td>\n",
       "      <td>2012.000000</td>\n",
       "      <td>1.0</td>\n",
       "      <td>1.0</td>\n",
       "      <td>0.000000</td>\n",
       "      <td>0.000000</td>\n",
       "      <td>5.113548e+16</td>\n",
       "      <td>...</td>\n",
       "      <td>0.000000</td>\n",
       "      <td>1.000000</td>\n",
       "      <td>0.000000</td>\n",
       "      <td>0.000000</td>\n",
       "      <td>0.000000</td>\n",
       "      <td>0.000000</td>\n",
       "      <td>0.000000</td>\n",
       "      <td>0.0</td>\n",
       "      <td>0.0</td>\n",
       "      <td>0.000000</td>\n",
       "    </tr>\n",
       "    <tr>\n",
       "      <th>25%</th>\n",
       "      <td>1.0</td>\n",
       "      <td>417.0</td>\n",
       "      <td>14.0</td>\n",
       "      <td>4.000000</td>\n",
       "      <td>2013.000000</td>\n",
       "      <td>1.0</td>\n",
       "      <td>1.0</td>\n",
       "      <td>273.000000</td>\n",
       "      <td>9.000000</td>\n",
       "      <td>1.051366e+17</td>\n",
       "      <td>...</td>\n",
       "      <td>0.000000</td>\n",
       "      <td>1.000000</td>\n",
       "      <td>0.000000</td>\n",
       "      <td>0.000000</td>\n",
       "      <td>100.000000</td>\n",
       "      <td>1.176471</td>\n",
       "      <td>0.000000</td>\n",
       "      <td>0.0</td>\n",
       "      <td>0.0</td>\n",
       "      <td>4.931035</td>\n",
       "    </tr>\n",
       "    <tr>\n",
       "      <th>50%</th>\n",
       "      <td>1.0</td>\n",
       "      <td>417.0</td>\n",
       "      <td>14.0</td>\n",
       "      <td>7.000000</td>\n",
       "      <td>2013.000000</td>\n",
       "      <td>1.0</td>\n",
       "      <td>1.0</td>\n",
       "      <td>502.000000</td>\n",
       "      <td>17.000000</td>\n",
       "      <td>1.051370e+17</td>\n",
       "      <td>...</td>\n",
       "      <td>0.000000</td>\n",
       "      <td>1.000000</td>\n",
       "      <td>1.000000</td>\n",
       "      <td>0.000000</td>\n",
       "      <td>200.000000</td>\n",
       "      <td>2.352941</td>\n",
       "      <td>0.000000</td>\n",
       "      <td>0.0</td>\n",
       "      <td>0.0</td>\n",
       "      <td>8.534482</td>\n",
       "    </tr>\n",
       "    <tr>\n",
       "      <th>75%</th>\n",
       "      <td>1.0</td>\n",
       "      <td>417.0</td>\n",
       "      <td>14.0</td>\n",
       "      <td>9.000000</td>\n",
       "      <td>2013.000000</td>\n",
       "      <td>1.0</td>\n",
       "      <td>1.0</td>\n",
       "      <td>502.000000</td>\n",
       "      <td>17.000000</td>\n",
       "      <td>1.051375e+17</td>\n",
       "      <td>...</td>\n",
       "      <td>0.000000</td>\n",
       "      <td>1.000000</td>\n",
       "      <td>1.000000</td>\n",
       "      <td>8.651168</td>\n",
       "      <td>2700.000000</td>\n",
       "      <td>31.764710</td>\n",
       "      <td>0.000000</td>\n",
       "      <td>0.0</td>\n",
       "      <td>0.0</td>\n",
       "      <td>10.517240</td>\n",
       "    </tr>\n",
       "    <tr>\n",
       "      <th>max</th>\n",
       "      <td>1.0</td>\n",
       "      <td>417.0</td>\n",
       "      <td>14.0</td>\n",
       "      <td>12.000000</td>\n",
       "      <td>2013.000000</td>\n",
       "      <td>1.0</td>\n",
       "      <td>1.0</td>\n",
       "      <td>502.000000</td>\n",
       "      <td>17.000000</td>\n",
       "      <td>1.051404e+17</td>\n",
       "      <td>...</td>\n",
       "      <td>1.000000</td>\n",
       "      <td>19.000000</td>\n",
       "      <td>1.000000</td>\n",
       "      <td>245.429700</td>\n",
       "      <td>100000.000000</td>\n",
       "      <td>1176.471000</td>\n",
       "      <td>1.000000</td>\n",
       "      <td>0.0</td>\n",
       "      <td>0.0</td>\n",
       "      <td>14.379310</td>\n",
       "    </tr>\n",
       "  </tbody>\n",
       "</table>\n",
       "<p>8 rows × 28 columns</p>\n",
       "</div>"
      ],
      "text/plain": [
       "       unique_hhs  tot_hh_daysofobs  tot_hh_monthsofobs    int_month  \\\n",
       "count         1.0            1020.0              1020.0  1020.000000   \n",
       "mean          1.0             417.0                14.0     6.919608   \n",
       "std           NaN               0.0                 0.0     2.676802   \n",
       "min           1.0             417.0                14.0     1.000000   \n",
       "25%           1.0             417.0                14.0     4.000000   \n",
       "50%           1.0             417.0                14.0     7.000000   \n",
       "75%           1.0             417.0                14.0     9.000000   \n",
       "max           1.0             417.0                14.0    12.000000   \n",
       "\n",
       "          int_year  unique_accnts  unique_hm_owner  tot_acc_daysofobs  \\\n",
       "count  1020.000000           22.0              2.0        1020.000000   \n",
       "mean   2012.843137            1.0              1.0         401.158824   \n",
       "std       0.363850            0.0              0.0         117.422725   \n",
       "min    2012.000000            1.0              1.0           0.000000   \n",
       "25%    2013.000000            1.0              1.0         273.000000   \n",
       "50%    2013.000000            1.0              1.0         502.000000   \n",
       "75%    2013.000000            1.0              1.0         502.000000   \n",
       "max    2013.000000            1.0              1.0         502.000000   \n",
       "\n",
       "       tot_acc_monthsofobs        trx_id           ...                trx_fee  \\\n",
       "count          1020.000000  1.020000e+03           ...             167.000000   \n",
       "mean             13.465686  9.605851e+16           ...               0.167665   \n",
       "std               4.086383  1.898434e+16           ...               0.374692   \n",
       "min               0.000000  5.113548e+16           ...               0.000000   \n",
       "25%               9.000000  1.051366e+17           ...               0.000000   \n",
       "50%              17.000000  1.051370e+17           ...               0.000000   \n",
       "75%              17.000000  1.051375e+17           ...               0.000000   \n",
       "max              17.000000  1.051404e+17           ...               1.000000   \n",
       "\n",
       "       trx_mode_code  trx_place_incommunity  trx_distance_km  trx_value_kes  \\\n",
       "count    1004.000000             967.000000       967.000000    1019.000000   \n",
       "mean        2.027888               0.650465         6.942170    2267.903827   \n",
       "std         3.728206               0.477070        32.417744    6930.166336   \n",
       "min         1.000000               0.000000         0.000000       0.000000   \n",
       "25%         1.000000               0.000000         0.000000     100.000000   \n",
       "50%         1.000000               1.000000         0.000000     200.000000   \n",
       "75%         1.000000               1.000000         8.651168    2700.000000   \n",
       "max        19.000000               1.000000       245.429700  100000.000000   \n",
       "\n",
       "       trx_value_usd     ddd_gift  trx_inkind_value_usd  trx_inkind_value_kes  \\\n",
       "count    1019.000000  1020.000000                 155.0                 155.0   \n",
       "mean       26.681223     0.005882                   0.0                   0.0   \n",
       "std        81.531382     0.076508                   0.0                   0.0   \n",
       "min         0.000000     0.000000                   0.0                   0.0   \n",
       "25%         1.176471     0.000000                   0.0                   0.0   \n",
       "50%         2.352941     0.000000                   0.0                   0.0   \n",
       "75%        31.764710     0.000000                   0.0                   0.0   \n",
       "max      1176.471000     1.000000                   0.0                   0.0   \n",
       "\n",
       "       trx_stdtime_mnths_hh_nr  \n",
       "count              1020.000000  \n",
       "mean                  7.661663  \n",
       "std                   3.720021  \n",
       "min                   0.000000  \n",
       "25%                   4.931035  \n",
       "50%                   8.534482  \n",
       "75%                  10.517240  \n",
       "max                  14.379310  \n",
       "\n",
       "[8 rows x 28 columns]"
      ]
     },
     "execution_count": 25,
     "metadata": {},
     "output_type": "execute_result"
    }
   ],
   "source": [
    "df_sin.describe()"
   ]
  },
  {
   "cell_type": "code",
   "execution_count": 26,
   "metadata": {},
   "outputs": [
    {
     "data": {
      "text/plain": [
       "hh_ids                                                                  KELDK36\n",
       "unique_hhs                                                                  NaN\n",
       "first_trx_date_hh                                                     14sep2012\n",
       "last_trx_date_hh                                                      05nov2013\n",
       "tot_hh_daysofobs                                                            417\n",
       "tot_hh_monthsofobs                                                           14\n",
       "interview_designation                                      04=Diaries Interview\n",
       "int_date                                                              12aug2013\n",
       "int_month                                                                     8\n",
       "int_year                                                                   2013\n",
       "int_yr_mo                                                               2013_08\n",
       "first_int_date                                                        22sep2012\n",
       "account_ids                                                  105137156836600000\n",
       "unique_accnts                                                               NaN\n",
       "m_ids_owner                                                   56134382808300000\n",
       "unique_hm_owner                                                             NaN\n",
       "account_bsheet_desig                                                      Asset\n",
       "account_startclose_balance                                                  NaN\n",
       "account_formal                                                           Formal\n",
       "account_liquid                                                      More liquid\n",
       "first_trx_date_acc                                                    04may2013\n",
       "last_trx_date_acc                                                     05nov2013\n",
       "tot_acc_daysofobs                                                           185\n",
       "tot_acc_monthsofobs                                                           6\n",
       "trx_id                                                       105137631900300000\n",
       "m_ids_trx                                                     56134382808300000\n",
       "trx_date                                                              07aug2013\n",
       "trx_month                                                                     8\n",
       "trx_year                                                                   2013\n",
       "trx_yr_mo                                                               2013_08\n",
       "trx_dq_round                                                                 13\n",
       "trx_stdtime_days_hh                                                         327\n",
       "trx_stdtime_mnths_hh                                                         11\n",
       "trx_stdtime_days_acc                                                         95\n",
       "trx_stdtime_mnths_acc                                                         3\n",
       "trx_class_code                                                           findev\n",
       "trx_class_desc                Borrowing, lending, savings or insurance media...\n",
       "trx_family_code                                                        FRMSAVWA\n",
       "trx_family_desc                                     Formal savings: with access\n",
       "trx_type_code                                                              2719\n",
       "trx_type_desc                                      Checking  or Current Account\n",
       "trx_prx_purpose                                               4. Any known fees\n",
       "trx_prx_purpose_fd                                                          NaN\n",
       "trx_fee                                                                       1\n",
       "trx_bsheet_direction                                                   Decrease\n",
       "trx_mode_code                                                                16\n",
       "trx_mode_desc                                                         Automatic\n",
       "trx_place_incommunity                                                       NaN\n",
       "trx_distance_km                                                             NaN\n",
       "trx_outlet                                                                  NaN\n",
       "trx_direction                                                               NaN\n",
       "trx_value_kes                                                                30\n",
       "trx_value_usd                                                          0.352941\n",
       "ddd_gift                                                                      0\n",
       "trx_inkind_units                                                            NaN\n",
       "trx_inkind_value_usd                                                        NaN\n",
       "trx_inkind_value_kes                                                        NaN\n",
       "trx_stdtime_mnths_hh_nr                                                 11.2759\n",
       "Name: 710, dtype: object"
      ]
     },
     "execution_count": 26,
     "metadata": {},
     "output_type": "execute_result"
    }
   ],
   "source": [
    "df_sin.iloc[3]"
   ]
  },
  {
   "cell_type": "markdown",
   "metadata": {},
   "source": [
    "### evolution of value of transactions in time wrt the days since the household was first interviewed"
   ]
  },
  {
   "cell_type": "code",
   "execution_count": 27,
   "metadata": {},
   "outputs": [
    {
     "data": {
      "text/plain": [
       "<matplotlib.axes._subplots.AxesSubplot at 0x11e443898>"
      ]
     },
     "execution_count": 27,
     "metadata": {},
     "output_type": "execute_result"
    },
    {
     "data": {
      "image/png": "[encoded data removed]",
      "text/plain": [
       "<Figure size 432x288 with 1 Axes>"
      ]
     },
     "metadata": {
      "needs_background": "light"
     },
     "output_type": "display_data"
    }
   ],
   "source": [
    "df_sin.plot(x = \"trx_stdtime_days_hh\",y=\"trx_value_kes\",style='.')"
   ]
  },
  {
   "cell_type": "markdown",
   "metadata": {},
   "source": [
    "### The next graph is wrt the date. I guess that they do not know how to order the dates properly which makes sense since they are saved as strings."
   ]
  },
  {
   "cell_type": "code",
   "execution_count": 28,
   "metadata": {},
   "outputs": [
    {
     "data": {
      "text/plain": [
       "<matplotlib.axes._subplots.AxesSubplot at 0x11ed05278>"
      ]
     },
     "execution_count": 28,
     "metadata": {},
     "output_type": "execute_result"
    },
    {
     "data": {
      "image/png": "[encoded data removed]",
      "text/plain": [
       "<Figure size 432x288 with 1 Axes>"
      ]
     },
     "metadata": {
      "needs_background": "light"
     },
     "output_type": "display_data"
    }
   ],
   "source": [
    "df_sin.plot(x = \"trx_date\",y=\"trx_value_kes\",style='.')"
   ]
  },
  {
   "cell_type": "code",
   "execution_count": 29,
   "metadata": {},
   "outputs": [
    {
     "data": {
      "text/html": [
       "<div>\n",
       "<style scoped>\n",
       "    .dataframe tbody tr th:only-of-type {\n",
       "        vertical-align: middle;\n",
       "    }\n",
       "\n",
       "    .dataframe tbody tr th {\n",
       "        vertical-align: top;\n",
       "    }\n",
       "\n",
       "    .dataframe thead th {\n",
       "        text-align: right;\n",
       "    }\n",
       "</style>\n",
       "<table border=\"1\" class=\"dataframe\">\n",
       "  <thead>\n",
       "    <tr style=\"text-align: right;\">\n",
       "      <th></th>\n",
       "      <th>hh_ids</th>\n",
       "      <th>unique_hhs</th>\n",
       "      <th>first_trx_date_hh</th>\n",
       "      <th>last_trx_date_hh</th>\n",
       "      <th>tot_hh_daysofobs</th>\n",
       "      <th>tot_hh_monthsofobs</th>\n",
       "      <th>interview_designation</th>\n",
       "      <th>int_date</th>\n",
       "      <th>int_month</th>\n",
       "      <th>int_year</th>\n",
       "      <th>...</th>\n",
       "      <th>trx_distance_km</th>\n",
       "      <th>trx_outlet</th>\n",
       "      <th>trx_direction</th>\n",
       "      <th>trx_value_kes</th>\n",
       "      <th>trx_value_usd</th>\n",
       "      <th>ddd_gift</th>\n",
       "      <th>trx_inkind_units</th>\n",
       "      <th>trx_inkind_value_usd</th>\n",
       "      <th>trx_inkind_value_kes</th>\n",
       "      <th>trx_stdtime_mnths_hh_nr</th>\n",
       "    </tr>\n",
       "  </thead>\n",
       "  <tbody>\n",
       "    <tr>\n",
       "      <th>114</th>\n",
       "      <td>KELDK36</td>\n",
       "      <td>NaN</td>\n",
       "      <td>14sep2012</td>\n",
       "      <td>05nov2013</td>\n",
       "      <td>417</td>\n",
       "      <td>14</td>\n",
       "      <td>06=Cleaning interview</td>\n",
       "      <td>16oct2013</td>\n",
       "      <td>10</td>\n",
       "      <td>2013</td>\n",
       "      <td>...</td>\n",
       "      <td>NaN</td>\n",
       "      <td>NaN</td>\n",
       "      <td>NaN</td>\n",
       "      <td>73821.0</td>\n",
       "      <td>868.482400</td>\n",
       "      <td>0</td>\n",
       "      <td>NaN</td>\n",
       "      <td>NaN</td>\n",
       "      <td>NaN</td>\n",
       "      <td>0.275862</td>\n",
       "    </tr>\n",
       "    <tr>\n",
       "      <th>320</th>\n",
       "      <td>KELDK36</td>\n",
       "      <td>NaN</td>\n",
       "      <td>14sep2012</td>\n",
       "      <td>05nov2013</td>\n",
       "      <td>417</td>\n",
       "      <td>14</td>\n",
       "      <td>06=Cleaning interview</td>\n",
       "      <td>16oct2013</td>\n",
       "      <td>10</td>\n",
       "      <td>2013</td>\n",
       "      <td>...</td>\n",
       "      <td>NaN</td>\n",
       "      <td>NaN</td>\n",
       "      <td>NaN</td>\n",
       "      <td>0.0</td>\n",
       "      <td>0.000000</td>\n",
       "      <td>0</td>\n",
       "      <td>NaN</td>\n",
       "      <td>NaN</td>\n",
       "      <td>NaN</td>\n",
       "      <td>13.310340</td>\n",
       "    </tr>\n",
       "    <tr>\n",
       "      <th>614</th>\n",
       "      <td>KELDK36</td>\n",
       "      <td>NaN</td>\n",
       "      <td>14sep2012</td>\n",
       "      <td>05nov2013</td>\n",
       "      <td>417</td>\n",
       "      <td>14</td>\n",
       "      <td>04=Diaries Interview</td>\n",
       "      <td>15oct2013</td>\n",
       "      <td>10</td>\n",
       "      <td>2013</td>\n",
       "      <td>...</td>\n",
       "      <td>NaN</td>\n",
       "      <td>NaN</td>\n",
       "      <td>NaN</td>\n",
       "      <td>3000.0</td>\n",
       "      <td>35.294120</td>\n",
       "      <td>0</td>\n",
       "      <td>NaN</td>\n",
       "      <td>NaN</td>\n",
       "      <td>NaN</td>\n",
       "      <td>13.655170</td>\n",
       "    </tr>\n",
       "    <tr>\n",
       "      <th>710</th>\n",
       "      <td>KELDK36</td>\n",
       "      <td>NaN</td>\n",
       "      <td>14sep2012</td>\n",
       "      <td>05nov2013</td>\n",
       "      <td>417</td>\n",
       "      <td>14</td>\n",
       "      <td>04=Diaries Interview</td>\n",
       "      <td>12aug2013</td>\n",
       "      <td>8</td>\n",
       "      <td>2013</td>\n",
       "      <td>...</td>\n",
       "      <td>NaN</td>\n",
       "      <td>NaN</td>\n",
       "      <td>NaN</td>\n",
       "      <td>30.0</td>\n",
       "      <td>0.352941</td>\n",
       "      <td>0</td>\n",
       "      <td>NaN</td>\n",
       "      <td>NaN</td>\n",
       "      <td>NaN</td>\n",
       "      <td>11.275860</td>\n",
       "    </tr>\n",
       "    <tr>\n",
       "      <th>754</th>\n",
       "      <td>KELDK36</td>\n",
       "      <td>NaN</td>\n",
       "      <td>14sep2012</td>\n",
       "      <td>05nov2013</td>\n",
       "      <td>417</td>\n",
       "      <td>14</td>\n",
       "      <td>04=Diaries Interview</td>\n",
       "      <td>15apr2013</td>\n",
       "      <td>4</td>\n",
       "      <td>2013</td>\n",
       "      <td>...</td>\n",
       "      <td>NaN</td>\n",
       "      <td>01=Bank, MFI, SACCO, insurance branch</td>\n",
       "      <td>Outflow</td>\n",
       "      <td>7800.0</td>\n",
       "      <td>91.764710</td>\n",
       "      <td>0</td>\n",
       "      <td>NaN</td>\n",
       "      <td>NaN</td>\n",
       "      <td>NaN</td>\n",
       "      <td>4.965517</td>\n",
       "    </tr>\n",
       "  </tbody>\n",
       "</table>\n",
       "<p>5 rows × 58 columns</p>\n",
       "</div>"
      ],
      "text/plain": [
       "      hh_ids  unique_hhs first_trx_date_hh last_trx_date_hh  tot_hh_daysofobs  \\\n",
       "114  KELDK36         NaN         14sep2012        05nov2013               417   \n",
       "320  KELDK36         NaN         14sep2012        05nov2013               417   \n",
       "614  KELDK36         NaN         14sep2012        05nov2013               417   \n",
       "710  KELDK36         NaN         14sep2012        05nov2013               417   \n",
       "754  KELDK36         NaN         14sep2012        05nov2013               417   \n",
       "\n",
       "     tot_hh_monthsofobs  interview_designation   int_date  int_month  \\\n",
       "114                  14  06=Cleaning interview  16oct2013         10   \n",
       "320                  14  06=Cleaning interview  16oct2013         10   \n",
       "614                  14   04=Diaries Interview  15oct2013         10   \n",
       "710                  14   04=Diaries Interview  12aug2013          8   \n",
       "754                  14   04=Diaries Interview  15apr2013          4   \n",
       "\n",
       "     int_year           ...           trx_distance_km  \\\n",
       "114      2013           ...                       NaN   \n",
       "320      2013           ...                       NaN   \n",
       "614      2013           ...                       NaN   \n",
       "710      2013           ...                       NaN   \n",
       "754      2013           ...                       NaN   \n",
       "\n",
       "                                trx_outlet trx_direction  trx_value_kes  \\\n",
       "114                                    NaN           NaN        73821.0   \n",
       "320                                    NaN           NaN            0.0   \n",
       "614                                    NaN           NaN         3000.0   \n",
       "710                                    NaN           NaN           30.0   \n",
       "754  01=Bank, MFI, SACCO, insurance branch       Outflow         7800.0   \n",
       "\n",
       "    trx_value_usd  ddd_gift trx_inkind_units trx_inkind_value_usd  \\\n",
       "114    868.482400         0              NaN                  NaN   \n",
       "320      0.000000         0              NaN                  NaN   \n",
       "614     35.294120         0              NaN                  NaN   \n",
       "710      0.352941         0              NaN                  NaN   \n",
       "754     91.764710         0              NaN                  NaN   \n",
       "\n",
       "    trx_inkind_value_kes trx_stdtime_mnths_hh_nr  \n",
       "114                  NaN                0.275862  \n",
       "320                  NaN               13.310340  \n",
       "614                  NaN               13.655170  \n",
       "710                  NaN               11.275860  \n",
       "754                  NaN                4.965517  \n",
       "\n",
       "[5 rows x 58 columns]"
      ]
     },
     "execution_count": 29,
     "metadata": {},
     "output_type": "execute_result"
    }
   ],
   "source": [
    "df_sin.head()"
   ]
  },
  {
   "cell_type": "code",
   "execution_count": 30,
   "metadata": {},
   "outputs": [
    {
     "data": {
      "text/plain": [
       "(1020, 58)"
      ]
     },
     "execution_count": 30,
     "metadata": {},
     "output_type": "execute_result"
    }
   ],
   "source": [
    "df_sin_rec = df_sin\n",
    "df_sin_rec.shape"
   ]
  },
  {
   "cell_type": "markdown",
   "metadata": {},
   "source": [
    "### My goal is to multiply the transaction with the column \"trx_bsheet_direction\" that indicated whether it increased or decreased the balance. Directly setting all elements of that column to -1 or 1 did not work, I guess because the type of the variable does not match."
   ]
  },
  {
   "cell_type": "code",
   "execution_count": 31,
   "metadata": {},
   "outputs": [
    {
     "data": {
      "text/plain": [
       "114    Increase\n",
       "320         NaN\n",
       "614         NaN\n",
       "710    Decrease\n",
       "754    Increase\n",
       "Name: trx_bsheet_direction, dtype: object"
      ]
     },
     "execution_count": 31,
     "metadata": {},
     "output_type": "execute_result"
    }
   ],
   "source": [
    "df_sin_rec.insert(58, \"trx_num_dir\", np.zeros(df_sin_rec.shape[0]))\n",
    "df_sin_rec[\"trx_bsheet_direction\"].head()"
   ]
  },
  {
   "cell_type": "code",
   "execution_count": 32,
   "metadata": {},
   "outputs": [
    {
     "data": {
      "text/plain": [
       "172410    0.0\n",
       "404576   -1.0\n",
       "438996    0.0\n",
       "256677    0.0\n",
       "332771    0.0\n",
       "48287     1.0\n",
       "433705    0.0\n",
       "434205    0.0\n",
       "86550     0.0\n",
       "322684    0.0\n",
       "Name: trx_num_dir, dtype: float64"
      ]
     },
     "execution_count": 32,
     "metadata": {},
     "output_type": "execute_result"
    }
   ],
   "source": [
    "for index, row in df_sin_rec.iterrows():\n",
    "    if row[\"trx_bsheet_direction\"]=='Increase':\n",
    "        df_sin_rec.at[index,\"trx_num_dir\"]=1\n",
    "    elif row[\"trx_bsheet_direction\"]=='Decrease':\n",
    "        df_sin_rec.at[index,\"trx_num_dir\"]=-1\n",
    "\n",
    "df_sin_rec.loc[:][\"trx_num_dir\"].sample(10)"
   ]
  },
  {
   "cell_type": "markdown",
   "metadata": {},
   "source": [
    "### It seems like a big part of the transactions are neither labelled as 'Increase' nor 'Decrease'."
   ]
  },
  {
   "cell_type": "code",
   "execution_count": 33,
   "metadata": {},
   "outputs": [
    {
     "name": "stdout",
     "output_type": "stream",
     "text": [
      "871\n"
     ]
    }
   ],
   "source": [
    "count = 0\n",
    "for index, row in df_sin_rec.iterrows():\n",
    "    if row[\"trx_num_dir\"]==0:\n",
    "        count +=1\n",
    "print(count)"
   ]
  },
  {
   "cell_type": "markdown",
   "metadata": {},
   "source": [
    "### Let's see what kind of entries are neither."
   ]
  },
  {
   "cell_type": "code",
   "execution_count": 34,
   "metadata": {},
   "outputs": [
    {
     "name": "stdout",
     "output_type": "stream",
     "text": [
      "trx_type_desc           Saving in a ROSCA\n",
      "trx_value_kes                           0\n",
      "trx_bsheet_direction                  NaN\n",
      "Name: 320, dtype: object\n",
      "trx_type_desc           Keeping Money (Cash) at Home\n",
      "trx_value_kes                                   3000\n",
      "trx_bsheet_direction                             NaN\n",
      "Name: 614, dtype: object\n",
      "trx_type_desc           Friends and family: Borrowing\n",
      "trx_value_kes                                       0\n",
      "trx_bsheet_direction                              NaN\n",
      "Name: 1521, dtype: object\n",
      "trx_type_desc           Friends and family: Borrowing\n",
      "trx_value_kes                                       0\n",
      "trx_bsheet_direction                              NaN\n",
      "Name: 1746, dtype: object\n",
      "trx_type_desc           Cash on hand now\n",
      "trx_value_kes                        500\n",
      "trx_bsheet_direction                 NaN\n",
      "Name: 3203, dtype: object\n",
      "trx_type_desc           Cash on hand now\n",
      "trx_value_kes                        700\n",
      "trx_bsheet_direction                 NaN\n",
      "Name: 3684, dtype: object\n",
      "trx_type_desc           Cash on hand now\n",
      "trx_value_kes                       3900\n",
      "trx_bsheet_direction                 NaN\n",
      "Name: 4183, dtype: object\n",
      "trx_type_desc           Cash on hand now\n",
      "trx_value_kes                        900\n",
      "trx_bsheet_direction                 NaN\n",
      "Name: 6097, dtype: object\n",
      "trx_type_desc           Mobile Money\n",
      "trx_value_kes                      1\n",
      "trx_bsheet_direction             NaN\n",
      "Name: 6937, dtype: object\n",
      "trx_type_desc           Cash on hand now\n",
      "trx_value_kes                       1300\n",
      "trx_bsheet_direction                 NaN\n",
      "Name: 7589, dtype: object\n",
      "trx_type_desc           Cash on hand now\n",
      "trx_value_kes                       1700\n",
      "trx_bsheet_direction                 NaN\n",
      "Name: 8492, dtype: object\n",
      "trx_type_desc           Agricultural Income\n",
      "trx_value_kes                         18300\n",
      "trx_bsheet_direction                    NaN\n",
      "Name: 9568, dtype: object\n",
      "trx_type_desc           Cash on hand now\n",
      "trx_value_kes                        200\n",
      "trx_bsheet_direction                 NaN\n",
      "Name: 10435, dtype: object\n",
      "trx_type_desc           Cash on hand now\n",
      "trx_value_kes                       2000\n",
      "trx_bsheet_direction                 NaN\n",
      "Name: 12988, dtype: object\n",
      "trx_type_desc           Cash on hand now\n",
      "trx_value_kes                       2000\n",
      "trx_bsheet_direction                 NaN\n",
      "Name: 13882, dtype: object\n",
      "trx_type_desc           Donations to church, another house of worship,...\n",
      "trx_value_kes                                                        1000\n",
      "trx_bsheet_direction                                                  NaN\n",
      "Name: 16661, dtype: object\n",
      "trx_type_desc           Cash on hand now\n",
      "trx_value_kes                          0\n",
      "trx_bsheet_direction                 NaN\n",
      "Name: 16819, dtype: object\n",
      "trx_type_desc           Cash on hand now\n",
      "trx_value_kes                       1800\n",
      "trx_bsheet_direction                 NaN\n",
      "Name: 16944, dtype: object\n",
      "trx_type_desc           Cash on hand now\n",
      "trx_value_kes                       3000\n",
      "trx_bsheet_direction                 NaN\n",
      "Name: 17071, dtype: object\n",
      "trx_type_desc           Cash on hand now\n",
      "trx_value_kes                       2700\n",
      "trx_bsheet_direction                 NaN\n",
      "Name: 18420, dtype: object\n",
      "trx_type_desc           Cash on hand now\n",
      "trx_value_kes                        300\n",
      "trx_bsheet_direction                 NaN\n",
      "Name: 19304, dtype: object\n"
     ]
    }
   ],
   "source": [
    "count = 0\n",
    "for index, row in df_sin_rec.iterrows():\n",
    "    if count >20:\n",
    "        break\n",
    "    elif row[\"trx_num_dir\"]==0:\n",
    "        print(row[['trx_type_desc','trx_value_kes', 'trx_bsheet_direction']])\n",
    "        count +=1"
   ]
  },
  {
   "cell_type": "markdown",
   "metadata": {},
   "source": [
    "### I understand that \"Cash on Hand\" does not have an increase or decrease but apparently some of the other transactions still have a value, like the ones called \"Donations to church\" or \"Agricultural Income\". I wonder why that is."
   ]
  },
  {
   "cell_type": "markdown",
   "metadata": {},
   "source": [
    "### I still want to try to plot the evolution of the balance of this household."
   ]
  },
  {
   "cell_type": "markdown",
   "metadata": {},
   "source": [
    "### First we insert a column that will contain the value*direction"
   ]
  },
  {
   "cell_type": "code",
   "execution_count": 35,
   "metadata": {},
   "outputs": [],
   "source": [
    "\n",
    "df_sin_rec.insert(59, \"trx_val_dir\", np.zeros(df_sin_rec.shape[0]))"
   ]
  },
  {
   "cell_type": "code",
   "execution_count": 36,
   "metadata": {
    "scrolled": true
   },
   "outputs": [
    {
     "data": {
      "text/plain": [
       "293467    30000.0\n",
       "435566        0.0\n",
       "434126        0.0\n",
       "435012    -4000.0\n",
       "200664        0.0\n",
       "133737        0.0\n",
       "274164        0.0\n",
       "407487        0.0\n",
       "144745        0.0\n",
       "76210         0.0\n",
       "Name: trx_val_dir, dtype: float64"
      ]
     },
     "execution_count": 36,
     "metadata": {},
     "output_type": "execute_result"
    }
   ],
   "source": [
    "for index, row in df_sin_rec.iterrows():\n",
    "    # to make sure we don't get nan's later\n",
    "    if not math.isnan(row[\"trx_value_kes\"]):\n",
    "        df_sin_rec.at[index,\"trx_val_dir\"]=row[\"trx_value_kes\"]*row[\"trx_num_dir\"]\n",
    "    \n",
    "\n",
    "df_sin_rec.loc[:][\"trx_val_dir\"].sample(10)"
   ]
  },
  {
   "cell_type": "markdown",
   "metadata": {},
   "source": [
    "### Only keep those cells that have a non-zero transaction."
   ]
  },
  {
   "cell_type": "code",
   "execution_count": 37,
   "metadata": {},
   "outputs": [],
   "source": [
    "df_sin_rec2 = df_sin_rec[df_sin_rec[\"trx_val_dir\"]!=0]"
   ]
  },
  {
   "cell_type": "code",
   "execution_count": 38,
   "metadata": {
    "scrolled": true
   },
   "outputs": [
    {
     "data": {
      "text/plain": [
       "<matplotlib.axes._subplots.AxesSubplot at 0x11fb218d0>"
      ]
     },
     "execution_count": 38,
     "metadata": {},
     "output_type": "execute_result"
    },
    {
     "data": {
      "image/png": "[encoded data removed]",
      "text/plain": [
       "<Figure size 432x288 with 1 Axes>"
      ]
     },
     "metadata": {
      "needs_background": "light"
     },
     "output_type": "display_data"
    }
   ],
   "source": [
    "df_sin_rec2.plot(x = \"trx_stdtime_days_hh\", y = \"trx_val_dir\",style=('o'))"
   ]
  },
  {
   "cell_type": "markdown",
   "metadata": {},
   "source": [
    "## I just realized that the below does not make sense at all since the rows are not ordered accorsing to the date. So please don't mind the rest.\n",
    "\n",
    "### Again inserting a new column that now is the cummulative sum of all the previous transactions, that where multiplied by + or -1 according to their direction."
   ]
  },
  {
   "cell_type": "code",
   "execution_count": 39,
   "metadata": {},
   "outputs": [],
   "source": [
    "df_sin_rec2.insert(60,\"balance_evol\", np.zeros(df_sin_rec2.shape[0]))"
   ]
  },
  {
   "cell_type": "code",
   "execution_count": 40,
   "metadata": {},
   "outputs": [],
   "source": [
    "s=0\n",
    "for index, row in df_sin_rec2.iterrows():\n",
    "    if not math.isnan(row[\"trx_val_dir\"]):\n",
    "        s += row[\"trx_val_dir\"]\n",
    "        df_sin_rec2.at[index,\"balance_evol\"]=s\n",
    "    else:\n",
    "        print(index,row[\"trx_value_kes\"], type(row[\"trx_value_kes\"]))\n",
    "        \n"
   ]
  },
  {
   "cell_type": "code",
   "execution_count": 41,
   "metadata": {},
   "outputs": [
    {
     "data": {
      "text/plain": [
       "<matplotlib.axes._subplots.AxesSubplot at 0x11ece9e80>"
      ]
     },
     "execution_count": 41,
     "metadata": {},
     "output_type": "execute_result"
    },
    {
     "data": {
      "image/png": "[encoded data removed]",
      "text/plain": [
       "<Figure size 432x288 with 1 Axes>"
      ]
     },
     "metadata": {
      "needs_background": "light"
     },
     "output_type": "display_data"
    }
   ],
   "source": [
    "df_sin_rec2.plot(x = \"trx_stdtime_days_hh\", y = \"balance_evol\")"
   ]
  },
  {
   "cell_type": "markdown",
   "metadata": {},
   "source": [
    "### Haha this is definitely not how this should look. Why does it look this way?"
   ]
  },
  {
   "cell_type": "code",
   "execution_count": 42,
   "metadata": {
    "scrolled": true
   },
   "outputs": [
    {
     "data": {
      "text/plain": [
       "<matplotlib.axes._subplots.AxesSubplot at 0x11ee05c18>"
      ]
     },
     "execution_count": 42,
     "metadata": {},
     "output_type": "execute_result"
    },
    {
     "data": {
      "image/png": "[encoded data removed]",
      "text/plain": [
       "<Figure size 432x288 with 1 Axes>"
      ]
     },
     "metadata": {
      "needs_background": "light"
     },
     "output_type": "display_data"
    }
   ],
   "source": [
    "df_sin_rec2.plot(x = \"trx_stdtime_days_hh\", y = \"balance_evol\", style=('o'))"
   ]
  },
  {
   "cell_type": "code",
   "execution_count": 77,
   "metadata": {
    "scrolled": true
   },
   "outputs": [
    {
     "data": {
      "text/plain": [
       "114         8\n",
       "710       327\n",
       "754       144\n",
       "3115       62\n",
       "3422       60\n",
       "7861        0\n",
       "10370      31\n",
       "11295     386\n",
       "11370       8\n",
       "11605      78\n",
       "12426     353\n",
       "14345      67\n",
       "15215     386\n",
       "21159     347\n",
       "21299     322\n",
       "22472     174\n",
       "23273     203\n",
       "24236     327\n",
       "24573     146\n",
       "24598     358\n",
       "25538     377\n",
       "25937      67\n",
       "43868     299\n",
       "48287      36\n",
       "56497     325\n",
       "60519       8\n",
       "80568     278\n",
       "84610      50\n",
       "102583    382\n",
       "106796    276\n",
       "         ... \n",
       "434965    292\n",
       "434992    322\n",
       "435012    386\n",
       "435056    383\n",
       "435232     99\n",
       "435242     80\n",
       "435262    353\n",
       "435272    143\n",
       "435370    100\n",
       "435406    291\n",
       "435415    353\n",
       "435506     62\n",
       "435549     55\n",
       "435571     62\n",
       "435595     60\n",
       "444918     62\n",
       "445684    215\n",
       "445709    347\n",
       "447709    386\n",
       "449066    353\n",
       "449253    115\n",
       "449340    278\n",
       "449757    215\n",
       "450279     61\n",
       "451313     61\n",
       "452312    358\n",
       "452378    267\n",
       "452385    237\n",
       "452432    327\n",
       "452471    386\n",
       "Name: trx_stdtime_days_hh, Length: 148, dtype: int64"
      ]
     },
     "execution_count": 77,
     "metadata": {},
     "output_type": "execute_result"
    }
   ],
   "source": [
    "df_sin_rec2['trx_stdtime_days_hh']"
   ]
  },
  {
   "cell_type": "markdown",
   "metadata": {},
   "source": [
    "### this is a total mess as the entries are not ordered according to date"
   ]
  },
  {
   "cell_type": "markdown",
   "metadata": {},
   "source": [
    "### It would probably be better to only calculate the final balance for each day. (But we should then probably also count the cash on hand as a positive balance.) I wonder whether there already is a dataset that contains these values."
   ]
  },
  {
   "cell_type": "code",
   "execution_count": 76,
   "metadata": {},
   "outputs": [
    {
     "name": "stdout",
     "output_type": "stream",
     "text": [
      "8\n",
      "327\n",
      "[8, 327]\n"
     ]
    }
   ],
   "source": [
    "bal_evol = pd.DataFrame()\n",
    "days = [df_sin_rec2.iloc[0, df.columns.get_loc(\"trx_stdtime_days_hh\")]]\n",
    "\n",
    "for day in df_sin_rec2[\"trx_stdtime_days_hh\"]:\n",
    "    print(day)\n",
    "    if not day == days[len(days)-1]:\n",
    "        days.append(day)\n",
    "        break\n",
    "    \n",
    "print(days)"
   ]
  },
  {
   "cell_type": "code",
   "execution_count": null,
   "metadata": {},
   "outputs": [],
   "source": [
    "bal_evol.insert(0,\"day\", [0])\n",
    "bal_evol.insert(1,\"balance\",[0])\n",
    "\n",
    "bal_evol.head()"
   ]
  },
  {
   "cell_type": "code",
   "execution_count": 50,
   "metadata": {},
   "outputs": [
    {
     "data": {
      "text/html": [
       "<div>\n",
       "<style scoped>\n",
       "    .dataframe tbody tr th:only-of-type {\n",
       "        vertical-align: middle;\n",
       "    }\n",
       "\n",
       "    .dataframe tbody tr th {\n",
       "        vertical-align: top;\n",
       "    }\n",
       "\n",
       "    .dataframe thead th {\n",
       "        text-align: right;\n",
       "    }\n",
       "</style>\n",
       "<table border=\"1\" class=\"dataframe\">\n",
       "  <thead>\n",
       "    <tr style=\"text-align: right;\">\n",
       "      <th></th>\n",
       "      <th>day</th>\n",
       "      <th>balance</th>\n",
       "    </tr>\n",
       "  </thead>\n",
       "  <tbody>\n",
       "    <tr>\n",
       "      <th>0</th>\n",
       "      <td>0</td>\n",
       "      <td>0.0</td>\n",
       "    </tr>\n",
       "    <tr>\n",
       "      <th>1</th>\n",
       "      <td>1</td>\n",
       "      <td>0.0</td>\n",
       "    </tr>\n",
       "    <tr>\n",
       "      <th>2</th>\n",
       "      <td>2</td>\n",
       "      <td>0.0</td>\n",
       "    </tr>\n",
       "    <tr>\n",
       "      <th>3</th>\n",
       "      <td>3</td>\n",
       "      <td>0.0</td>\n",
       "    </tr>\n",
       "    <tr>\n",
       "      <th>4</th>\n",
       "      <td>4</td>\n",
       "      <td>0.0</td>\n",
       "    </tr>\n",
       "  </tbody>\n",
       "</table>\n",
       "</div>"
      ],
      "text/plain": [
       "   day  balance\n",
       "0    0      0.0\n",
       "1    1      0.0\n",
       "2    2      0.0\n",
       "3    3      0.0\n",
       "4    4      0.0"
      ]
     },
     "execution_count": 50,
     "metadata": {},
     "output_type": "execute_result"
    }
   ],
   "source": [
    "bal_evol = pd.DataFrame()\n",
    "\n",
    "bal_evol.insert(0,\"day\", np.arange(df_sin_rec2[\"trx_stdtime_days_hh\"].max()))\n",
    "bal_evol.insert(1,\"balance\",np.zeros(df_sin_rec2[\"trx_stdtime_days_hh\"].max()))\n",
    "\n",
    "bal_evol.head()"
   ]
  },
  {
   "cell_type": "code",
   "execution_count": 54,
   "metadata": {},
   "outputs": [
    {
     "data": {
      "text/plain": [
       "0        0\n",
       "1        1\n",
       "2        2\n",
       "3        3\n",
       "4        4\n",
       "5        5\n",
       "6        6\n",
       "7        7\n",
       "8        8\n",
       "9        9\n",
       "10      10\n",
       "11      11\n",
       "12      12\n",
       "13      13\n",
       "14      14\n",
       "15      15\n",
       "16      16\n",
       "17      17\n",
       "18      18\n",
       "19      19\n",
       "20      20\n",
       "21      21\n",
       "22      22\n",
       "23      23\n",
       "24      24\n",
       "25      25\n",
       "26      26\n",
       "27      27\n",
       "28      28\n",
       "29      29\n",
       "      ... \n",
       "358    358\n",
       "359    359\n",
       "360    360\n",
       "361    361\n",
       "362    362\n",
       "363    363\n",
       "364    364\n",
       "365    365\n",
       "366    366\n",
       "367    367\n",
       "368    368\n",
       "369    369\n",
       "370    370\n",
       "371    371\n",
       "372    372\n",
       "373    373\n",
       "374    374\n",
       "375    375\n",
       "376    376\n",
       "377    377\n",
       "378    378\n",
       "379    379\n",
       "380    380\n",
       "381    381\n",
       "382    382\n",
       "383    383\n",
       "384    384\n",
       "385    385\n",
       "386    386\n",
       "387    387\n",
       "Name: day, Length: 388, dtype: int64"
      ]
     },
     "execution_count": 54,
     "metadata": {},
     "output_type": "execute_result"
    }
   ],
   "source": [
    "bal_evol[\"day\"]"
   ]
  },
  {
   "cell_type": "code",
   "execution_count": 58,
   "metadata": {
    "scrolled": true
   },
   "outputs": [],
   "source": [
    "#s = 0\n",
    "#for index, day in bal_evol.iterrows:\n",
    "#    for "
   ]
  },
  {
   "cell_type": "code",
   "execution_count": null,
   "metadata": {},
   "outputs": [],
   "source": []
  }
 ],
 "metadata": {
  "kernelspec": {
   "display_name": "Python 3",
   "language": "python",
   "name": "python3"
  },
  "language_info": {
   "codemirror_mode": {
    "name": "ipython",
    "version": 3
   },
   "file_extension": ".py",
   "mimetype": "text/x-python",
   "name": "python",
   "nbconvert_exporter": "python",
   "pygments_lexer": "ipython3",
   "version": "3.7.1"
  }
 },
 "nbformat": 4,
 "nbformat_minor": 2
}
