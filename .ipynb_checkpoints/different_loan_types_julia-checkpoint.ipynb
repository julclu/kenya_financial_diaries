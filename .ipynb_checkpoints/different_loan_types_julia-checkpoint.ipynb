{
 "cells": [
  {
   "cell_type": "markdown",
   "metadata": {},
   "source": [
    "## Want to explore different loan types"
   ]
  },
  {
   "cell_type": "code",
   "execution_count": 1,
   "metadata": {},
   "outputs": [],
   "source": [
    "import os\n",
    "import pandas as pd \n",
    "import glob"
   ]
  },
  {
   "cell_type": "code",
   "execution_count": 2,
   "metadata": {},
   "outputs": [
    {
     "data": {
      "text/plain": [
       "['Well_Being.ipynb',\n",
       " 'info.pdf',\n",
       " '.DS_Store',\n",
       " 'different_loan_types_julia.ipynb',\n",
       " 'Demo_Individual.ipynb',\n",
       " 'House Ownership.ipynb',\n",
       " 'diaries_transactions_all.csv',\n",
       " 'consumption_julia.ipynb',\n",
       " 'README.md',\n",
       " '.gitignore',\n",
       " 'Exploration_Ella.ipynb',\n",
       " '.ipynb_checkpoints',\n",
       " 'aux_data_exploration_julia.ipynb',\n",
       " '.git',\n",
       " 'Exploration_Loan_Ella.ipynb',\n",
       " 'initial_exploration_julia.ipynb',\n",
       " 'aux_data']"
      ]
     },
     "execution_count": 2,
     "metadata": {},
     "output_type": "execute_result"
    }
   ],
   "source": [
    "os.listdir()"
   ]
  },
  {
   "cell_type": "code",
   "execution_count": 3,
   "metadata": {},
   "outputs": [],
   "source": [
    "trx = pd.read_csv('diaries_transactions_all.csv', low_memory=False)"
   ]
  },
  {
   "cell_type": "code",
   "execution_count": 4,
   "metadata": {},
   "outputs": [],
   "source": [
    "pd.set_option('display.max_columns',200)"
   ]
  },
  {
   "cell_type": "code",
   "execution_count": 5,
   "metadata": {},
   "outputs": [
    {
     "data": {
      "text/plain": [
       "(483949, 58)"
      ]
     },
     "execution_count": 5,
     "metadata": {},
     "output_type": "execute_result"
    }
   ],
   "source": [
    "trx.shape"
   ]
  },
  {
   "cell_type": "code",
   "execution_count": 6,
   "metadata": {},
   "outputs": [
    {
     "data": {
      "text/plain": [
       "Index(['hh_ids', 'unique_hhs', 'first_trx_date_hh', 'last_trx_date_hh',\n",
       "       'tot_hh_daysofobs', 'tot_hh_monthsofobs', 'interview_designation',\n",
       "       'int_date', 'int_month', 'int_year', 'int_yr_mo', 'first_int_date',\n",
       "       'account_ids', 'unique_accnts', 'm_ids_owner', 'unique_hm_owner',\n",
       "       'account_bsheet_desig', 'account_startclose_balance', 'account_formal',\n",
       "       'account_liquid', 'first_trx_date_acc', 'last_trx_date_acc',\n",
       "       'tot_acc_daysofobs', 'tot_acc_monthsofobs', 'trx_id', 'm_ids_trx',\n",
       "       'trx_date', 'trx_month', 'trx_year', 'trx_yr_mo', 'trx_dq_round',\n",
       "       'trx_stdtime_days_hh', 'trx_stdtime_mnths_hh', 'trx_stdtime_days_acc',\n",
       "       'trx_stdtime_mnths_acc', 'trx_class_code', 'trx_class_desc',\n",
       "       'trx_family_code', 'trx_family_desc', 'trx_type_code', 'trx_type_desc',\n",
       "       'trx_prx_purpose', 'trx_prx_purpose_fd', 'trx_fee',\n",
       "       'trx_bsheet_direction', 'trx_mode_code', 'trx_mode_desc',\n",
       "       'trx_place_incommunity', 'trx_distance_km', 'trx_outlet',\n",
       "       'trx_direction', 'trx_value_kes', 'trx_value_usd', 'ddd_gift',\n",
       "       'trx_inkind_units', 'trx_inkind_value_usd', 'trx_inkind_value_kes',\n",
       "       'trx_stdtime_mnths_hh_nr'],\n",
       "      dtype='object')"
      ]
     },
     "execution_count": 6,
     "metadata": {},
     "output_type": "execute_result"
    }
   ],
   "source": [
    "trx.columns"
   ]
  },
  {
   "cell_type": "markdown",
   "metadata": {},
   "source": [
    "## Account questions: "
   ]
  },
  {
   "cell_type": "markdown",
   "metadata": {},
   "source": [
    "### How many accounts are there? "
   ]
  },
  {
   "cell_type": "code",
   "execution_count": 7,
   "metadata": {},
   "outputs": [
    {
     "data": {
      "text/plain": [
       "9547"
      ]
     },
     "execution_count": 7,
     "metadata": {},
     "output_type": "execute_result"
    }
   ],
   "source": [
    "len(trx.account_ids.unique())"
   ]
  },
  {
   "cell_type": "markdown",
   "metadata": {},
   "source": [
    "Is this the same as unique_accounts ? "
   ]
  },
  {
   "cell_type": "code",
   "execution_count": 8,
   "metadata": {},
   "outputs": [
    {
     "data": {
      "text/plain": [
       "1.0    9546\n",
       "Name: unique_accnts, dtype: int64"
      ]
     },
     "execution_count": 8,
     "metadata": {},
     "output_type": "execute_result"
    }
   ],
   "source": [
    "trx.unique_accnts.value_counts()"
   ]
  },
  {
   "cell_type": "markdown",
   "metadata": {},
   "source": [
    "Yup. "
   ]
  },
  {
   "cell_type": "markdown",
   "metadata": {},
   "source": [
    "### Account types?"
   ]
  },
  {
   "cell_type": "code",
   "execution_count": 9,
   "metadata": {},
   "outputs": [
    {
     "data": {
      "text/plain": [
       "Asset        52021\n",
       "Liability    23078\n",
       "Insurance     1971\n",
       "Name: account_bsheet_desig, dtype: int64"
      ]
     },
     "execution_count": 9,
     "metadata": {},
     "output_type": "execute_result"
    }
   ],
   "source": [
    "trx.account_bsheet_desig.value_counts()"
   ]
  },
  {
   "cell_type": "markdown",
   "metadata": {},
   "source": [
    "### How many unique liabilities accounts, e.g. loans?  "
   ]
  },
  {
   "cell_type": "code",
   "execution_count": 10,
   "metadata": {},
   "outputs": [
    {
     "data": {
      "text/plain": [
       "(9546, 58)"
      ]
     },
     "execution_count": 10,
     "metadata": {},
     "output_type": "execute_result"
    }
   ],
   "source": [
    "trx.loc[trx['unique_accnts']==1].shape"
   ]
  },
  {
   "cell_type": "code",
   "execution_count": 11,
   "metadata": {},
   "outputs": [
    {
     "data": {
      "text/plain": [
       "Asset        2828\n",
       "Liability    1906\n",
       "Insurance     254\n",
       "Name: account_bsheet_desig, dtype: int64"
      ]
     },
     "execution_count": 11,
     "metadata": {},
     "output_type": "execute_result"
    }
   ],
   "source": [
    "trx.loc[trx['unique_accnts']==1].account_bsheet_desig.value_counts()"
   ]
  },
  {
   "cell_type": "markdown",
   "metadata": {},
   "source": [
    "1906 loans in total to work with. "
   ]
  },
  {
   "cell_type": "markdown",
   "metadata": {},
   "source": [
    "### How many of these accounts are formal? "
   ]
  },
  {
   "cell_type": "code",
   "execution_count": 12,
   "metadata": {},
   "outputs": [
    {
     "data": {
      "text/plain": [
       "Informal    1691\n",
       "Formal       215\n",
       "Name: account_formal, dtype: int64"
      ]
     },
     "execution_count": 12,
     "metadata": {},
     "output_type": "execute_result"
    }
   ],
   "source": [
    "trx.loc[trx['unique_accnts']==1].loc[trx['account_bsheet_desig']==\"Liability\"].account_formal.value_counts()"
   ]
  },
  {
   "cell_type": "markdown",
   "metadata": {},
   "source": [
    "### What kinds of transactions are happening with liabilities? "
   ]
  },
  {
   "cell_type": "code",
   "execution_count": 13,
   "metadata": {},
   "outputs": [
    {
     "data": {
      "text/plain": [
       "INFP2P     14755\n",
       "SUPPCRD     4050\n",
       "FRMLN       1429\n",
       "INFGRP      1377\n",
       "ARREARS     1058\n",
       "ADVANCE      280\n",
       "EMPLN        111\n",
       "PAWN          16\n",
       "OTHER          2\n",
       "Name: trx_family_code, dtype: int64"
      ]
     },
     "execution_count": 13,
     "metadata": {},
     "output_type": "execute_result"
    }
   ],
   "source": [
    "trx.loc[trx['account_bsheet_desig']==\"Liability\"].trx_family_code.value_counts()"
   ]
  },
  {
   "cell_type": "code",
   "execution_count": 14,
   "metadata": {},
   "outputs": [
    {
     "data": {
      "text/plain": [
       "Informal P2P                              14755\n",
       "Supplier credit                            4050\n",
       "Formal loan                                1429\n",
       "Informal group                             1377\n",
       "Arrears owed to or owed by respondents     1058\n",
       "Advance                                     280\n",
       "Loan from employer                          111\n",
       "Pawning assets                               16\n",
       "Other                                         2\n",
       "Name: trx_family_desc, dtype: int64"
      ]
     },
     "execution_count": 14,
     "metadata": {},
     "output_type": "execute_result"
    }
   ],
   "source": [
    "trx.loc[trx['account_bsheet_desig']==\"Liability\"].trx_family_desc.value_counts()"
   ]
  },
  {
   "cell_type": "markdown",
   "metadata": {},
   "source": [
    "### What transactions are in \"informal\" loan categories, and which are in the \"formal\" categories? "
   ]
  },
  {
   "cell_type": "code",
   "execution_count": 15,
   "metadata": {},
   "outputs": [
    {
     "data": {
      "text/plain": [
       "Supplier credit    2973\n",
       "Formal loan        1276\n",
       "Other                 2\n",
       "Name: trx_family_desc, dtype: int64"
      ]
     },
     "execution_count": 15,
     "metadata": {},
     "output_type": "execute_result"
    }
   ],
   "source": [
    "trx.loc[trx['account_bsheet_desig']==\"Liability\"].loc[trx['account_formal']==\"Formal\"].trx_family_desc.value_counts()"
   ]
  },
  {
   "cell_type": "code",
   "execution_count": 16,
   "metadata": {},
   "outputs": [
    {
     "data": {
      "text/plain": [
       "Informal P2P                              14755\n",
       "Informal group                             1377\n",
       "Supplier credit                            1077\n",
       "Arrears owed to or owed by respondents     1058\n",
       "Advance                                     280\n",
       "Formal loan                                 153\n",
       "Loan from employer                          111\n",
       "Pawning assets                               16\n",
       "Name: trx_family_desc, dtype: int64"
      ]
     },
     "execution_count": 16,
     "metadata": {},
     "output_type": "execute_result"
    }
   ],
   "source": [
    "trx.loc[trx['account_bsheet_desig']==\"Liability\"].loc[trx['account_formal']==\"Informal\"].trx_family_desc.value_counts()"
   ]
  },
  {
   "cell_type": "markdown",
   "metadata": {},
   "source": [
    "### How many closing balances of a formal loan are recorded? "
   ]
  },
  {
   "cell_type": "code",
   "execution_count": 17,
   "metadata": {},
   "outputs": [
    {
     "data": {
      "text/plain": [
       "Close    201\n",
       "Start     77\n",
       "Name: account_startclose_balance, dtype: int64"
      ]
     },
     "execution_count": 17,
     "metadata": {},
     "output_type": "execute_result"
    }
   ],
   "source": [
    "trx.loc[trx['account_bsheet_desig']==\"Liability\"].loc[trx['account_formal']==\"Formal\"].account_startclose_balance.value_counts()\n"
   ]
  },
  {
   "cell_type": "markdown",
   "metadata": {},
   "source": [
    "### For those listed as a closing balance, how many are zero? "
   ]
  },
  {
   "cell_type": "code",
   "execution_count": 18,
   "metadata": {},
   "outputs": [
    {
     "data": {
      "text/plain": [
       "0.0       114\n",
       "20.0        5\n",
       "50.0        4\n",
       "10.0        4\n",
       "1075.0      2\n",
       "Name: trx_value_kes, dtype: int64"
      ]
     },
     "execution_count": 18,
     "metadata": {},
     "output_type": "execute_result"
    }
   ],
   "source": [
    "trx.loc[trx['account_bsheet_desig']==\"Liability\"].loc[trx['account_formal']==\"Formal\"].loc[trx['account_startclose_balance']=='Close'].trx_value_kes.value_counts().head()\n"
   ]
  },
  {
   "cell_type": "markdown",
   "metadata": {},
   "source": [
    "### What is the average number of days these liability accounts are observed? "
   ]
  },
  {
   "cell_type": "markdown",
   "metadata": {},
   "source": [
    "All liabilities: "
   ]
  },
  {
   "cell_type": "code",
   "execution_count": 19,
   "metadata": {},
   "outputs": [
    {
     "data": {
      "text/plain": [
       "221.24186778593915"
      ]
     },
     "execution_count": 19,
     "metadata": {},
     "output_type": "execute_result"
    }
   ],
   "source": [
    "trx.loc[trx['unique_accnts']==1].loc[trx['account_bsheet_desig']==\"Liability\"].tot_acc_daysofobs.mean()"
   ]
  },
  {
   "cell_type": "markdown",
   "metadata": {},
   "source": [
    "Formal liabilities: "
   ]
  },
  {
   "cell_type": "code",
   "execution_count": 20,
   "metadata": {},
   "outputs": [
    {
     "data": {
      "text/plain": [
       "236.05116279069767"
      ]
     },
     "execution_count": 20,
     "metadata": {},
     "output_type": "execute_result"
    }
   ],
   "source": [
    "trx.loc[trx['unique_accnts']==1].loc[trx['account_bsheet_desig']==\"Liability\"].loc[trx['account_formal']=='Formal'].tot_acc_daysofobs.mean()"
   ]
  },
  {
   "cell_type": "markdown",
   "metadata": {},
   "source": [
    "## How many unique liabilities accounts are there? s"
   ]
  },
  {
   "cell_type": "code",
   "execution_count": null,
   "metadata": {},
   "outputs": [],
   "source": []
  },
  {
   "cell_type": "code",
   "execution_count": null,
   "metadata": {},
   "outputs": [],
   "source": []
  }
 ],
 "metadata": {
  "kernelspec": {
   "display_name": "Python 3",
   "language": "python",
   "name": "python3"
  },
  "language_info": {
   "codemirror_mode": {
    "name": "ipython",
    "version": 3
   },
   "file_extension": ".py",
   "mimetype": "text/x-python",
   "name": "python",
   "nbconvert_exporter": "python",
   "pygments_lexer": "ipython3",
   "version": "3.6.4"
  }
 },
 "nbformat": 4,
 "nbformat_minor": 2
}
