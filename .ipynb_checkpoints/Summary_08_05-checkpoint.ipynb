{
 "cells": [
  {
   "cell_type": "code",
   "execution_count": 1,
   "metadata": {},
   "outputs": [],
   "source": [
    "import pandas as pd\n",
    "import numpy as np\n",
    "import math as math\n",
    "import matplotlib.pyplot as plt\n",
    "import seaborn as sns\n",
    "import random\n",
    "%matplotlib inline "
   ]
  },
  {
   "cell_type": "code",
   "execution_count": 2,
   "metadata": {},
   "outputs": [],
   "source": [
    "df = pd.read_csv(\"kenya_data/diaries_transactions_all.csv\", dtype={'account_startclose_balance': str})"
   ]
  },
  {
   "cell_type": "markdown",
   "metadata": {},
   "source": [
    "# 1. Outcome"
   ]
  },
  {
   "cell_type": "markdown",
   "metadata": {},
   "source": [
    "The general question is what loans we want to predict. If we want to predict microloans, we should maybe only use loans that are very similar to this as an outcome (like Business and Agriculture loans) but there are only 48 of those. Maybe we should generalize the question to predicting whether people pay back any kind of loan that is similar to a formal loan."
   ]
  },
  {
   "cell_type": "markdown",
   "metadata": {},
   "source": [
    "## 1.1. Which loans to include?"
   ]
  },
  {
   "cell_type": "markdown",
   "metadata": {},
   "source": [
    "### 1.1.2 Kinds of loans"
   ]
  },
  {
   "cell_type": "markdown",
   "metadata": {},
   "source": [
    "We think that we should use as outcome all loans that are reasonably close to a formal loan. These include: \n",
    "1. all formal loans (Credit Card, Student Loan, Individual Business or Agricultural loan, Payday loan, Consumer/personal loan (not payday loan), Joint liability loan, School feed loan, Hire purchase, Group enterprise loan, M-SHWARI loan.)\n",
    "2. loans from informal groups\n",
    "\n",
    "We are not sure if we should include other informal loans:\n",
    "1. Informal credit at a store (Many very small new borrowings and repayments.)\n",
    "2. Friends and Family: Borrowing (Usually paid back at once.)\n",
    "3. Act as monay guard (Usually paid back at once.)\n",
    "4. Moneylender or Shylock Borrowing (Usually paid back at once with a large interest).\n",
    "Maybe the above are better suited as explanatory variables. In that case it might be a problem that not everybody has done all or some of the above. One solution to this could be to assign a score for each of the above. It could be 1 for people who did the above and paid it back (in a certain amount of time). This leads again to the problem of fairness since we do not have the conditions. And a score of 0 to people who did not do it. And a score of -1 to people who did the above but did not repay it.\n",
    "\n",
    "Also we are not sure if we should include the following, which we need to investigate first.\n",
    "1. Pawning assets\n",
    "2. Supplier credit\n",
    "3. Okoa Jahazi\n",
    "4. Advances\n",
    "5. Arrears owed to or owed by respondents.\n",
    "6. Loan from employer"
   ]
  },
  {
   "cell_type": "markdown",
   "metadata": {},
   "source": [
    "Below are the number of accounts that are liabilities that fall into each category."
   ]
  },
  {
   "cell_type": "code",
   "execution_count": 19,
   "metadata": {},
   "outputs": [
    {
     "data": {
      "text/plain": [
       "Friends and family: Borrowing                605\n",
       "Informal credit at a store                   430\n",
       "Arrears owed by respondents                  232\n",
       "Borrowing from an informal Group             159\n",
       "Okoa Jahazi                                   82\n",
       "Act as money guard                            76\n",
       "Supplier credit                               67\n",
       "Individual Business or Agriculture Loan       48\n",
       "Wage advance                                  40\n",
       "Moneylender or Shylock Borrowing              39\n",
       "Consumer/ personal loan (not payday loan)     33\n",
       "Hire Purchase                                 24\n",
       "Joint liability loan                          21\n",
       "M-SHWARI Loan                                 14\n",
       "School Fees Loan                              12\n",
       "Loan from employer                            12\n",
       "Pawning assets                                 5\n",
       "Credit card (including store card)             2\n",
       "Payday loan                                    2\n",
       "Group Enterprise Loan                          2\n",
       "Student loan                                   1\n",
       "Name: trx_type_desc, dtype: int64"
      ]
     },
     "execution_count": 19,
     "metadata": {},
     "output_type": "execute_result"
    }
   ],
   "source": [
    "df[(df[\"account_bsheet_desig\"]==\"Liability\")&(df[\"unique_accnts\"]==1)][\"trx_type_desc\"].value_counts()"
   ]
  },
  {
   "cell_type": "markdown",
   "metadata": {},
   "source": [
    "When choosing the kinds of loans we want to include we might also need to assess how close any of these loans are to a microcredit. For instance the purpose of a microcredit and a credit at a store are very different."
   ]
  },
  {
   "cell_type": "markdown",
   "metadata": {},
   "source": [
    "### 1.1.2 Threshold"
   ]
  },
  {
   "cell_type": "code",
   "execution_count": null,
   "metadata": {},
   "outputs": [],
   "source": []
  },
  {
   "cell_type": "markdown",
   "metadata": {},
   "source": [
    "Another question is whether we should exclude certain loans that are very low. If yes then the question is what should be the threshold. Minimum wage (income) in Kenya is ~4000 KES, if we use that as the minimum threshold, we would exclude approximately 25% of the Agriculture and Business loans."
   ]
  },
  {
   "cell_type": "markdown",
   "metadata": {},
   "source": [
    "If we are only interested in microloans we might also want to exclude very high loans (<100 0000KES)."
   ]
  },
  {
   "cell_type": "markdown",
   "metadata": {},
   "source": [
    "## 1.2. What metric to use?"
   ]
  },
  {
   "cell_type": "markdown",
   "metadata": {},
   "source": [
    "One reason for the restriction above is that we need the loans to resemble each other more or less in order to define a metric that measured how good of a borrower someone was.\n",
    "\n",
    "1. Idea: For loans that have an initial amount that is borrowed, and then smaller repayments over a period of time, we can define a metric by using the regularity of the height of payments and the regularity of the intervals between payments. One way to do this is to compare the standard deviation with the mean. So someone for which the sd(height of payment)/mean(height of payment) is large would be considered a bad borrower. Similarly for intervals between payments.\n",
    "2. Idea: To get started just look at wether someone who took a loan towards the beginning of the experiment has payed it back before the end of the experiment. Here we have the concern that this would not be fair."
   ]
  },
  {
   "cell_type": "markdown",
   "metadata": {},
   "source": [
    "## 1.3 Implementation of metrics"
   ]
  },
  {
   "cell_type": "markdown",
   "metadata": {},
   "source": [
    "This program computes some properties of a loan, such that we have data that is not time dependent. The information it produces about each account are: Household ID, Account Owner ID, Starting balance, Closing Balance, Interests accrued, Number of new borrowings, Mean height of new borrowings, Total number of days the account was observed, Mean Payment height, Standard deviation of the payment height, Mean interval between payments, Standard deviation of intervals between payments. "
   ]
  },
  {
   "cell_type": "code",
   "execution_count": 10,
   "metadata": {},
   "outputs": [],
   "source": [
    "# For now we only keep Individual Business and Agricultural loans.\n",
    "dfb = df[(df[\"trx_family_code\"]==\"FRMLN\")&(df[\"trx_type_code\"]==2760)]"
   ]
  },
  {
   "cell_type": "code",
   "execution_count": 11,
   "metadata": {},
   "outputs": [],
   "source": [
    "# this creates a new dataframe that has only one entry for each loan with the information mentioned above\n",
    "loans = pd.DataFrame(columns=[\"hh_ids\",\"account_ids\", \"m_ids_owner\",\"start_bal_kes\", \"clos_bal_kes\", \"interests_kes\", \"num_new_borrowing\", \"mean_borrowing_kes\", \"tot_acc_daysofobs\", \"mean_pay_int_days\",\"sd_pay_int_days\",\"mean_pay_height_kes\",\"sd_pay_height_kes\"] )"
   ]
  },
  {
   "cell_type": "code",
   "execution_count": 12,
   "metadata": {},
   "outputs": [
    {
     "name": "stdout",
     "output_type": "stream",
     "text": [
      "60137430710900000\n",
      "105136540140100000\n",
      "56134761927800000\n",
      "105137049319900000\n",
      "56134798164800000\n",
      "59134726342000000\n",
      "59134753176900000\n",
      "Error: no closing balance.\n",
      "59134691680100000\n",
      "Error: no closing balance.\n",
      "59134666467600000\n",
      "Error: several starting balances\n",
      "105137769890900000\n",
      "59134727113000000\n",
      "59135021173400000\n",
      "60136531885600000\n",
      "59136376033300000\n",
      "60136436488300000\n",
      "56135290200100000\n",
      "60134752045800000\n",
      "60134787021500000\n",
      "105137414874400000\n",
      "58134763288300000\n",
      "61134770676600000\n",
      "84136514083500000\n",
      "Error: no starting balance or new borrowing\n",
      "59136685821800000\n",
      "59135288408400000\n",
      "Error: no starting balance or new borrowing\n",
      "60138558075900000\n",
      "59134942516400000\n",
      "62134821651800000\n",
      "59134752569200000\n",
      "Error: several closing balances.\n",
      "59135900709000000\n",
      "84136879000800000\n",
      "59134865220800000\n",
      "Error: several closing balances.\n",
      "59136386375100000\n",
      "111137291327800000\n",
      "105137636847800000\n",
      "60134978362300000\n",
      "59135332895300000\n",
      "59137629648900000\n",
      "60135893778700000\n",
      "58134814374400000\n",
      "56135201879700000\n",
      "105137629836900000\n",
      "59134942469700000\n",
      "56134752442400000\n",
      "105137899512900000\n",
      "59136861465600000\n",
      "105137395238900000\n",
      "105136910664600000\n",
      "60136500338400000\n",
      "Error: no closing balance.\n"
     ]
    }
   ],
   "source": [
    "i = 0\n",
    "for acc in (dfb[\"account_ids\"].unique()):\n",
    "    print(acc)\n",
    "    # get household corresponding to the loan\n",
    "    if len(dfb[dfb[\"account_ids\"]==acc][\"hh_ids\"].unique())==1:\n",
    "        hh = dfb[dfb[\"account_ids\"]==acc][\"hh_ids\"].unique()[0]\n",
    "    else:\n",
    "        print(\"Error: account associated to several accounts.\")\n",
    "    \n",
    "    #get account owner id\n",
    "    if len(dfb[dfb[\"account_ids\"]==acc][\"m_ids_owner\"].unique())==1:\n",
    "        if \"HH\" in dfb[dfb[\"account_ids\"]==acc][\"m_ids_owner\"].unique():\n",
    "            ind_id = \"HH\"\n",
    "        else:\n",
    "            ind_id = int(dfb[dfb[\"account_ids\"]==acc][\"m_ids_owner\"].unique()[0])\n",
    "    else:\n",
    "        print(\"Error: account associated to several individuals.\")\n",
    "        print(dfb[dfb[\"m_ids_owner\"]==acc][\"m_ids_owner\"].unique())\n",
    "        break\n",
    "        \n",
    "    #get total number of observation days\n",
    "    if len(dfb[dfb[\"account_ids\"]==acc][\"tot_acc_daysofobs\"].unique())==1:\n",
    "        obs_days = dfb[dfb[\"account_ids\"]==acc][\"tot_acc_daysofobs\"].unique()[0]\n",
    "    else:\n",
    "        print(\"Error: several different observation lengths.\")\n",
    "      \n",
    "    #create new dataset with values sorted according to the day of transaction\n",
    "    lna = dfb[dfb[\"account_ids\"]==acc]\n",
    "    lna = lna.sort_values(\"trx_stdtime_days_acc\")\n",
    "    \n",
    "    #get starting balance\n",
    "    start_bal = np.nan\n",
    "    new_borrowings = np.nan\n",
    "    mean_new_borrowings = np.nan\n",
    "    if lna[lna[\"trx_prx_purpose\"]==\"1. Starting balance (today)\"].shape[0]==1:\n",
    "        start_bal = lna[lna[\"trx_prx_purpose\"]==\"1. Starting balance (today)\"][\"trx_value_kes\"].unique()[0]\n",
    "        new_borrowings = lna[lna[\"trx_prx_purpose\"]==\"2. New borrowing\"].shape[0]\n",
    "        all_borrow = lna[(lna[\"trx_prx_purpose\"]==\"2. New borrowing\")|(lna[\"trx_prx_purpose\"]==\"1. Starting balance (today)\")]\n",
    "        # we want to exclude all new borrowings or starting balances that are 0\n",
    "        mean_new_borrowings = all_borrow[all_borrow[\"trx_value_kes\"]>0][\"trx_value_kes\"].mean()\n",
    "    elif lna[lna[\"trx_prx_purpose\"]==\"1. Starting balance (today)\"].shape[0]>1:\n",
    "        print(\"Error: several starting balances\")\n",
    "    #if there is no starting balance at all\n",
    "    elif lna[lna[\"trx_prx_purpose\"]==\"2. New borrowing\"].shape[0]==1:\n",
    "        start_bal = lna[lna[\"trx_prx_purpose\"]==\"2. New borrowing\"][\"trx_value_kes\"].unique()[0]\n",
    "        new_borrowings = 0\n",
    "        mean_new_borrowings= start_bal\n",
    "    elif lna[lna[\"trx_prx_purpose\"]==\"2. New borrowing\"].shape[0]>1:\n",
    "        start_bal = lna[lna[\"trx_prx_purpose\"]==\"2. New borrowing\"].iloc[0,lna.columns.get_loc(\"trx_value_kes\")]\n",
    "        new_borrowings = lna[lna[\"trx_prx_purpose\"]==\"2. New borrowing\"].shape[0]-1\n",
    "        mean_new_borrowings = lna[lna[\"trx_prx_purpose\"]==\"2. New borrowing\"][\"trx_value_kes\"].mean()\n",
    "    else: \n",
    "        print(\"Error: no starting balance or new borrowing\")\n",
    "    \n",
    "    #get total iterests accrued\n",
    "    interests = 0\n",
    "    interests = lna[lna[\"trx_prx_purpose\"]==\"5. Interest accruing\"][\"trx_value_kes\"].sum()\n",
    "    \n",
    "    #get closing balance\n",
    "    close_bal = np.nan\n",
    "    if lna[lna[\"trx_prx_purpose\"]==\"6. Closing Balance--End of last DQ\"].shape[0]==1:\n",
    "        close_bal = lna[lna[\"trx_prx_purpose\"]==\"6. Closing Balance--End of last DQ\"][\"trx_value_kes\"].unique()[0]\n",
    "    elif lna[lna[\"trx_prx_purpose\"]==\"6. Closing Balance--End of last DQ\"].shape[0]>1:\n",
    "        print(\"Error: several closing balances.\")\n",
    "    else: \n",
    "        print(\"Error: no closing balance.\")\n",
    "\n",
    "    hei_mean,hei_sd,inter_mean,inter_sd = np.nan, np.nan, np.nan, np.nan\n",
    "    #get the height of payments\n",
    "    if lna[lna[\"trx_prx_purpose\"]==\"3. Payments\"].shape[0]>0:\n",
    "        hei_mean = lna[lna[\"trx_prx_purpose\"]==\"3. Payments\"][\"trx_value_kes\"].mean()\n",
    "        hei_sd = lna[lna[\"trx_prx_purpose\"]==\"3. Payments\"][\"trx_value_kes\"].std()\n",
    "        \n",
    "        ##get the intervals between payments\n",
    "        lna.insert(lna.shape[1],\"time_since_last_payment\",np.full(lna.shape[0],np.nan))\n",
    "        ## first index in dataframe\n",
    "        l =  lna[lna[\"trx_prx_purpose\"]==\"3. Payments\"].index[0]\n",
    "        for index, row in lna.iterrows():\n",
    "            #there is no payment interval before the first payment\n",
    "            if index == l:\n",
    "                continue\n",
    "            elif row[\"trx_prx_purpose\"] == \"3. Payments\":\n",
    "                lna.at[index,\"time_since_last_payment\"]=lna.loc[index,\"trx_stdtime_days_acc\"]-lna.loc[l,\"trx_stdtime_days_acc\"]\n",
    "                l = index\n",
    "        inter_mean = lna[\"time_since_last_payment\"].mean()\n",
    "        inter_sd = lna[\"time_since_last_payment\"].std()\n",
    "    \n",
    "    loans.loc[i]=[hh,int(acc),ind_id,start_bal, close_bal, interests, new_borrowings, mean_new_borrowings, obs_days,inter_mean,inter_sd,hei_mean,hei_sd]\n",
    "    i += 1"
   ]
  },
  {
   "cell_type": "code",
   "execution_count": 13,
   "metadata": {},
   "outputs": [
    {
     "data": {
      "text/html": [
       "<div>\n",
       "<style scoped>\n",
       "    .dataframe tbody tr th:only-of-type {\n",
       "        vertical-align: middle;\n",
       "    }\n",
       "\n",
       "    .dataframe tbody tr th {\n",
       "        vertical-align: top;\n",
       "    }\n",
       "\n",
       "    .dataframe thead th {\n",
       "        text-align: right;\n",
       "    }\n",
       "</style>\n",
       "<table border=\"1\" class=\"dataframe\">\n",
       "  <thead>\n",
       "    <tr style=\"text-align: right;\">\n",
       "      <th></th>\n",
       "      <th>hh_ids</th>\n",
       "      <th>account_ids</th>\n",
       "      <th>m_ids_owner</th>\n",
       "      <th>start_bal_kes</th>\n",
       "      <th>clos_bal_kes</th>\n",
       "      <th>interests_kes</th>\n",
       "      <th>num_new_borrowing</th>\n",
       "      <th>mean_borrowing_kes</th>\n",
       "      <th>tot_acc_daysofobs</th>\n",
       "      <th>mean_pay_int_days</th>\n",
       "      <th>sd_pay_int_days</th>\n",
       "      <th>mean_pay_height_kes</th>\n",
       "      <th>sd_pay_height_kes</th>\n",
       "    </tr>\n",
       "  </thead>\n",
       "  <tbody>\n",
       "    <tr>\n",
       "      <th>0</th>\n",
       "      <td>KVIHK40</td>\n",
       "      <td>60137430710900000</td>\n",
       "      <td>60134547419200000</td>\n",
       "      <td>100000.0</td>\n",
       "      <td>101300.0</td>\n",
       "      <td>35000.0</td>\n",
       "      <td>0</td>\n",
       "      <td>100000.0</td>\n",
       "      <td>129</td>\n",
       "      <td>32.500000</td>\n",
       "      <td>2.121320</td>\n",
       "      <td>11233.333333</td>\n",
       "      <td>28.867513</td>\n",
       "    </tr>\n",
       "    <tr>\n",
       "      <th>1</th>\n",
       "      <td>KELDK37</td>\n",
       "      <td>105136540140100000</td>\n",
       "      <td>65134432186900000</td>\n",
       "      <td>18000.0</td>\n",
       "      <td>35000.0</td>\n",
       "      <td>0.0</td>\n",
       "      <td>1</td>\n",
       "      <td>39000.0</td>\n",
       "      <td>200</td>\n",
       "      <td>39.200000</td>\n",
       "      <td>19.460216</td>\n",
       "      <td>7166.666667</td>\n",
       "      <td>5307.227776</td>\n",
       "    </tr>\n",
       "    <tr>\n",
       "      <th>2</th>\n",
       "      <td>KELDK20</td>\n",
       "      <td>56134761927800000</td>\n",
       "      <td>65134442822400000</td>\n",
       "      <td>18870.0</td>\n",
       "      <td>0.0</td>\n",
       "      <td>2580.0</td>\n",
       "      <td>0</td>\n",
       "      <td>18870.0</td>\n",
       "      <td>377</td>\n",
       "      <td>36.400000</td>\n",
       "      <td>14.397917</td>\n",
       "      <td>3575.000000</td>\n",
       "      <td>1127.718937</td>\n",
       "    </tr>\n",
       "    <tr>\n",
       "      <th>3</th>\n",
       "      <td>KELDK38</td>\n",
       "      <td>105137049319900000</td>\n",
       "      <td>56134397318700000</td>\n",
       "      <td>298000.0</td>\n",
       "      <td>253608.0</td>\n",
       "      <td>0.0</td>\n",
       "      <td>0</td>\n",
       "      <td>298000.0</td>\n",
       "      <td>154</td>\n",
       "      <td>31.333333</td>\n",
       "      <td>18.147543</td>\n",
       "      <td>11098.000000</td>\n",
       "      <td>0.000000</td>\n",
       "    </tr>\n",
       "    <tr>\n",
       "      <th>4</th>\n",
       "      <td>KELDK15</td>\n",
       "      <td>56134798164800000</td>\n",
       "      <td>65134433094700000</td>\n",
       "      <td>50000.0</td>\n",
       "      <td>21250.0</td>\n",
       "      <td>0.0</td>\n",
       "      <td>0</td>\n",
       "      <td>50000.0</td>\n",
       "      <td>356</td>\n",
       "      <td>69.200000</td>\n",
       "      <td>75.014665</td>\n",
       "      <td>4750.000000</td>\n",
       "      <td>612.372436</td>\n",
       "    </tr>\n",
       "  </tbody>\n",
       "</table>\n",
       "</div>"
      ],
      "text/plain": [
       "    hh_ids         account_ids        m_ids_owner  start_bal_kes  \\\n",
       "0  KVIHK40   60137430710900000  60134547419200000       100000.0   \n",
       "1  KELDK37  105136540140100000  65134432186900000        18000.0   \n",
       "2  KELDK20   56134761927800000  65134442822400000        18870.0   \n",
       "3  KELDK38  105137049319900000  56134397318700000       298000.0   \n",
       "4  KELDK15   56134798164800000  65134433094700000        50000.0   \n",
       "\n",
       "   clos_bal_kes  interests_kes num_new_borrowing  mean_borrowing_kes  \\\n",
       "0      101300.0        35000.0                 0            100000.0   \n",
       "1       35000.0            0.0                 1             39000.0   \n",
       "2           0.0         2580.0                 0             18870.0   \n",
       "3      253608.0            0.0                 0            298000.0   \n",
       "4       21250.0            0.0                 0             50000.0   \n",
       "\n",
       "  tot_acc_daysofobs  mean_pay_int_days  sd_pay_int_days  mean_pay_height_kes  \\\n",
       "0               129          32.500000         2.121320         11233.333333   \n",
       "1               200          39.200000        19.460216          7166.666667   \n",
       "2               377          36.400000        14.397917          3575.000000   \n",
       "3               154          31.333333        18.147543         11098.000000   \n",
       "4               356          69.200000        75.014665          4750.000000   \n",
       "\n",
       "   sd_pay_height_kes  \n",
       "0          28.867513  \n",
       "1        5307.227776  \n",
       "2        1127.718937  \n",
       "3           0.000000  \n",
       "4         612.372436  "
      ]
     },
     "execution_count": 13,
     "metadata": {},
     "output_type": "execute_result"
    }
   ],
   "source": [
    "loans.head()"
   ]
  },
  {
   "cell_type": "markdown",
   "metadata": {},
   "source": [
    "## 1.4. Problems in the implementation, and how they were solved for now."
   ]
  },
  {
   "cell_type": "markdown",
   "metadata": {},
   "source": [
    "### 1.4.1. Problems with this way of summarizing"
   ]
  },
  {
   "cell_type": "markdown",
   "metadata": {},
   "source": [
    "As can also be seen from the errors produced, there are several problems with this summary:\n",
    "1. No starting balance. Solution: In this case we can use the first new borrowing instead. New problem: How should we count the number of new borrowings in this case.\n",
    "2. Several starting balances.\n",
    "3. No closing balance. Possible solution: Use the last balance instead?\n",
    "4. Several closing balances. Possible solution: Use last one?\n",
    "5. No starting balance or new borrowing."
   ]
  },
  {
   "cell_type": "markdown",
   "metadata": {},
   "source": [
    "### 1.4.2. Problems with the metric"
   ]
  },
  {
   "cell_type": "markdown",
   "metadata": {},
   "source": [
    "Problem: The metric only works properly when there is a starting balance and then payments. If there is a new borrowing in between, a change in payments heights or intervals does not seem problematic to me. Especially since some people seem to take a loan, pay it of, and a long time after that take a new loan on the same account. \n",
    "\n",
    "Possible Solution: Consider each new borrowing as a new loan, even if it is on the same account.\n",
    "\n",
    "Problem with this solution: \n",
    "1. This would mess up the closing balance.\n",
    "2. There are loans were one starts to pay in, before one gets the money from the bank."
   ]
  },
  {
   "cell_type": "markdown",
   "metadata": {},
   "source": [
    "# 2. Which explaining variables to use?"
   ]
  },
  {
   "cell_type": "markdown",
   "metadata": {},
   "source": [
    "## 2.1. General Attitude"
   ]
  },
  {
   "cell_type": "markdown",
   "metadata": {},
   "source": [
    "Questions:\n",
    "1. Should we only use variables that a person giving a microcredit would have access to? That would exclude a lot of information like Well-Being or Goings-On, for two reasons: (a) That data is very hard to collect (b) that seems to violate privacy. But we could still fit a model using these variables to see whether it gives any interesting results.\n",
    "2. Is it realistic to use data about other loans (like credit from a store) to predict loan repayment?"
   ]
  },
  {
   "cell_type": "markdown",
   "metadata": {},
   "source": [
    "## 2.2. What to use from Individual Data-Sets"
   ]
  },
  {
   "cell_type": "markdown",
   "metadata": {},
   "source": [
    "### 2.2.1. Well-Being"
   ]
  },
  {
   "cell_type": "markdown",
   "metadata": {},
   "source": [
    "There are 4 questions in the well-being data-set: Happiness, Confidence, Relationships, Economical well-being. We could use the average of the score over the whole year of each indiviual, i.e. each person would have a global happiness score, confidence score, etc."
   ]
  },
  {
   "cell_type": "markdown",
   "metadata": {},
   "source": [
    "### 2.2.2. Goings-on"
   ]
  },
  {
   "cell_type": "markdown",
   "metadata": {},
   "source": [
    "There are 10 questions here, again we could use an average score over the year."
   ]
  },
  {
   "cell_type": "markdown",
   "metadata": {},
   "source": [
    "### 2.2.3. Transactions"
   ]
  },
  {
   "cell_type": "markdown",
   "metadata": {},
   "source": [
    "Probably here too, we should use the average income over the whole preiod, average money spent on food over the whole period, etc. rather than looking at individual transactions."
   ]
  },
  {
   "cell_type": "markdown",
   "metadata": {},
   "source": [
    "2.2.4. Housing conditions\n",
    "We could use the information about property that the family owns as a metric for evaluation the ability to pay off the debt as well as evaluate the general living conditions and financial obstacles that may make it hard for family to pay in time. \n"
   ]
  },
  {
   "cell_type": "markdown",
   "metadata": {},
   "source": [
    "2.2.5. Poverty\n",
    "\n",
    "Here we are able to evaluate a daily income of family members"
   ]
  },
  {
   "cell_type": "markdown",
   "metadata": {},
   "source": [
    "Summary of meeting (sorry for spelling)\n",
    "\n",
    "1) Trunkate data time frame (6 month from loan start and so it ends withing the study period), chop off guys who pay longer \n",
    "2) Point system to evaluate the loan (going down every month by particular %)- #regularity and good loan payer behaviour - seady progress (does size of loan and type of loan (choose simple case) affect)  \n",
    "3) How fast they are able to pay it off (loan takers) or in larger chunks, strong measure! but harder to see. \n",
    "4) Divide into two groups (bad payers and good loan takers) to find out the most reliable person to give a loan to. \n",
    "5) Incorporate the amount itself \n",
    "\n",
    "Optional: check seasonalty and other quant measures \n"
   ]
  },
  {
   "cell_type": "code",
   "execution_count": null,
   "metadata": {},
   "outputs": [],
   "source": []
  }
 ],
 "metadata": {
  "kernelspec": {
   "display_name": "Python 3",
   "language": "python",
   "name": "python3"
  },
  "language_info": {
   "codemirror_mode": {
    "name": "ipython",
    "version": 3
   },
   "file_extension": ".py",
   "mimetype": "text/x-python",
   "name": "python",
   "nbconvert_exporter": "python",
   "pygments_lexer": "ipython3",
   "version": "3.7.3"
  }
 },
 "nbformat": 4,
 "nbformat_minor": 2
}
