{
 "cells": [
  {
   "cell_type": "markdown",
   "metadata": {},
   "source": [
    "## Trying to get a sense of the types of information recorded in the aux data! "
   ]
  },
  {
   "cell_type": "code",
   "execution_count": 1,
   "metadata": {},
   "outputs": [],
   "source": [
    "import pandas as pd \n",
    "import os\n",
    "import glob"
   ]
  },
  {
   "cell_type": "code",
   "execution_count": 4,
   "metadata": {},
   "outputs": [
    {
     "data": {
      "text/plain": [
       "['aux_data/inc_ind_over_trx_yr_mo_usd_incRR.csv',\n",
       " 'aux_data/con_prod_hh_by_trx_yr_mo_usd.csv',\n",
       " 'aux_data/inc_hh_over_trx_yr_mo_usd_incRR.csv',\n",
       " 'aux_data/rem_hh_over_trx_yr_mo_usd.csv',\n",
       " 'aux_data/con_pur_hh_over_trx_yr_mo_usd.csv',\n",
       " 'aux_data/pov_hh_by_trx_yr_mo_usd_excRR.csv',\n",
       " 'aux_data/pov_hh_over_trx_yr_mo_usd_incRR.csv',\n",
       " 'aux_data/con_prod_hh_over_trx_yr_mo_usd.csv',\n",
       " 'aux_data/inc_ind_by_trx_yr_mo_usd_incRR.csv',\n",
       " 'aux_data/inc_hh_by_trx_yr_mo_usd_incRR.csv',\n",
       " 'aux_data/inc_hh_by_trx_yr_mo_usd_excRR.csv',\n",
       " 'aux_data/inc_ind_by_trx_yr_mo_usd_excRR.csv',\n",
       " 'aux_data/con_pur_hh_by_trx_yr_mo_usd.csv',\n",
       " 'aux_data/rem_hh_by_trx_yr_mo_usd.csv',\n",
       " 'aux_data/inc_ind_over_trx_yr_mo_usd_excRR.csv',\n",
       " 'aux_data/pov_hh_over_trx_yr_mo_usd_excRR.csv',\n",
       " 'aux_data/pov_hh_by_trx_yr_mo_usd_incRR.csv',\n",
       " 'aux_data/rem_ind_over_trx_yr_mo_usd.csv',\n",
       " 'aux_data/rem_ind_by_trx_yr_mo_usd.csv',\n",
       " 'aux_data/inc_hh_over_trx_yr_mo_usd_excRR.csv']"
      ]
     },
     "execution_count": 4,
     "metadata": {},
     "output_type": "execute_result"
    }
   ],
   "source": [
    "glob.glob('aux_data/*usd*.csv')"
   ]
  },
  {
   "cell_type": "code",
   "execution_count": null,
   "metadata": {},
   "outputs": [],
   "source": []
  }
 ],
 "metadata": {
  "kernelspec": {
   "display_name": "Python 3",
   "language": "python",
   "name": "python3"
  },
  "language_info": {
   "codemirror_mode": {
    "name": "ipython",
    "version": 3
   },
   "file_extension": ".py",
   "mimetype": "text/x-python",
   "name": "python",
   "nbconvert_exporter": "python",
   "pygments_lexer": "ipython3",
   "version": "3.6.4"
  }
 },
 "nbformat": 4,
 "nbformat_minor": 2
}
