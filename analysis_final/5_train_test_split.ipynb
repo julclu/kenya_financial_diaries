{
 "cells": [
  {
   "cell_type": "code",
   "execution_count": 3,
   "metadata": {},
   "outputs": [],
   "source": [
    "import pandas as pd\n",
    "import glob\n",
    "import os\n",
    "from sklearn.model_selection import train_test_split"
   ]
  },
  {
   "cell_type": "code",
   "execution_count": 56,
   "metadata": {},
   "outputs": [
    {
     "data": {
      "text/plain": [
       "['loan_outcomes_33_150.csv',\n",
       " 'individual_outcomes_33_150.csv',\n",
       " 'data.csv',\n",
       " 'diaries_trx_trunc_loans_start_bal.csv',\n",
       " 'binary_y_train.csv',\n",
       " 'data_merged_nocatvars.csv',\n",
       " 'binary_x_train.csv',\n",
       " 'binary_x_test.csv',\n",
       " 'binary_y_test.csv']"
      ]
     },
     "execution_count": 56,
     "metadata": {},
     "output_type": "execute_result"
    }
   ],
   "source": [
    "glob.glob('*.csv')"
   ]
  },
  {
   "cell_type": "code",
   "execution_count": 57,
   "metadata": {},
   "outputs": [],
   "source": [
    "data = pd.read_csv('data_merged_nocatvars.csv')"
   ]
  },
  {
   "cell_type": "code",
   "execution_count": 58,
   "metadata": {},
   "outputs": [
    {
     "data": {
      "text/plain": [
       "(139, 102)"
      ]
     },
     "execution_count": 58,
     "metadata": {},
     "output_type": "execute_result"
    }
   ],
   "source": [
    "data.shape"
   ]
  },
  {
   "cell_type": "code",
   "execution_count": 59,
   "metadata": {},
   "outputs": [],
   "source": [
    "## dropping the \"HH\" owner ID b/c it is nonsense: "
   ]
  },
  {
   "cell_type": "code",
   "execution_count": 60,
   "metadata": {},
   "outputs": [
    {
     "data": {
      "text/plain": [
       "35"
      ]
     },
     "execution_count": 60,
     "metadata": {},
     "output_type": "execute_result"
    }
   ],
   "source": [
    "idx = data[data['m_ids_owner']==\"HH\"].index\n",
    "list(idx)[0]"
   ]
  },
  {
   "cell_type": "code",
   "execution_count": 61,
   "metadata": {},
   "outputs": [],
   "source": [
    "data = data.drop(list(idx)[0])"
   ]
  },
  {
   "cell_type": "code",
   "execution_count": 62,
   "metadata": {},
   "outputs": [
    {
     "data": {
      "text/html": [
       "<div>\n",
       "<style scoped>\n",
       "    .dataframe tbody tr th:only-of-type {\n",
       "        vertical-align: middle;\n",
       "    }\n",
       "\n",
       "    .dataframe tbody tr th {\n",
       "        vertical-align: top;\n",
       "    }\n",
       "\n",
       "    .dataframe thead th {\n",
       "        text-align: right;\n",
       "    }\n",
       "</style>\n",
       "<table border=\"1\" class=\"dataframe\">\n",
       "  <thead>\n",
       "    <tr style=\"text-align: right;\">\n",
       "      <th></th>\n",
       "      <th>m_ids_owner</th>\n",
       "      <th>owner_score</th>\n",
       "      <th>binarize_score</th>\n",
       "      <th>hh_ids</th>\n",
       "      <th>con_pur_hh_meanptrx</th>\n",
       "      <th>con_pur_hh_sdptrx</th>\n",
       "      <th>con_pur_hh_minpti</th>\n",
       "      <th>con_pur_hh_meanpti</th>\n",
       "      <th>con_pur_hh_medpti</th>\n",
       "      <th>con_pur_hh_maxpti</th>\n",
       "      <th>...</th>\n",
       "      <th>dem_i_relhead_s_or_d</th>\n",
       "      <th>never_married</th>\n",
       "      <th>tribe_Kalenjin</th>\n",
       "      <th>tribe_Kamba</th>\n",
       "      <th>tribe_Kikuyu</th>\n",
       "      <th>tribe_Kisii</th>\n",
       "      <th>tribe_Luhya</th>\n",
       "      <th>tribe_Luo</th>\n",
       "      <th>tribe_Mijikenda/Swahili</th>\n",
       "      <th>tribe_Taita/Taveta</th>\n",
       "    </tr>\n",
       "  </thead>\n",
       "  <tbody>\n",
       "    <tr>\n",
       "      <th>0</th>\n",
       "      <td>65134441430300000</td>\n",
       "      <td>0.75</td>\n",
       "      <td>1</td>\n",
       "      <td>KELDK21</td>\n",
       "      <td>1061.1900</td>\n",
       "      <td>4257.9390</td>\n",
       "      <td>1150</td>\n",
       "      <td>26529.750</td>\n",
       "      <td>17300.0</td>\n",
       "      <td>75020</td>\n",
       "      <td>...</td>\n",
       "      <td>0</td>\n",
       "      <td>1</td>\n",
       "      <td>1</td>\n",
       "      <td>0</td>\n",
       "      <td>0</td>\n",
       "      <td>0</td>\n",
       "      <td>0</td>\n",
       "      <td>0</td>\n",
       "      <td>0</td>\n",
       "      <td>0</td>\n",
       "    </tr>\n",
       "    <tr>\n",
       "      <th>1</th>\n",
       "      <td>60134547419200000</td>\n",
       "      <td>0.50</td>\n",
       "      <td>999</td>\n",
       "      <td>KVIHK40</td>\n",
       "      <td>213.3567</td>\n",
       "      <td>406.9379</td>\n",
       "      <td>1810</td>\n",
       "      <td>14703.830</td>\n",
       "      <td>15589.5</td>\n",
       "      <td>29414</td>\n",
       "      <td>...</td>\n",
       "      <td>0</td>\n",
       "      <td>1</td>\n",
       "      <td>0</td>\n",
       "      <td>0</td>\n",
       "      <td>0</td>\n",
       "      <td>0</td>\n",
       "      <td>1</td>\n",
       "      <td>0</td>\n",
       "      <td>0</td>\n",
       "      <td>0</td>\n",
       "    </tr>\n",
       "    <tr>\n",
       "      <th>2</th>\n",
       "      <td>63134425702500000</td>\n",
       "      <td>1.00</td>\n",
       "      <td>1</td>\n",
       "      <td>KMAKE06</td>\n",
       "      <td>153.4010</td>\n",
       "      <td>1022.1200</td>\n",
       "      <td>120</td>\n",
       "      <td>5036.667</td>\n",
       "      <td>4232.5</td>\n",
       "      <td>18320</td>\n",
       "      <td>...</td>\n",
       "      <td>0</td>\n",
       "      <td>1</td>\n",
       "      <td>0</td>\n",
       "      <td>1</td>\n",
       "      <td>0</td>\n",
       "      <td>0</td>\n",
       "      <td>0</td>\n",
       "      <td>0</td>\n",
       "      <td>0</td>\n",
       "      <td>0</td>\n",
       "    </tr>\n",
       "    <tr>\n",
       "      <th>3</th>\n",
       "      <td>64134429266300000</td>\n",
       "      <td>1.00</td>\n",
       "      <td>1</td>\n",
       "      <td>KNBOK05</td>\n",
       "      <td>273.7134</td>\n",
       "      <td>1146.3220</td>\n",
       "      <td>3920</td>\n",
       "      <td>30884.000</td>\n",
       "      <td>29395.5</td>\n",
       "      <td>67102</td>\n",
       "      <td>...</td>\n",
       "      <td>0</td>\n",
       "      <td>1</td>\n",
       "      <td>0</td>\n",
       "      <td>0</td>\n",
       "      <td>1</td>\n",
       "      <td>0</td>\n",
       "      <td>0</td>\n",
       "      <td>0</td>\n",
       "      <td>0</td>\n",
       "      <td>0</td>\n",
       "    </tr>\n",
       "    <tr>\n",
       "      <th>4</th>\n",
       "      <td>65134432186900000</td>\n",
       "      <td>1.00</td>\n",
       "      <td>1</td>\n",
       "      <td>KELDK37</td>\n",
       "      <td>217.1206</td>\n",
       "      <td>648.0765</td>\n",
       "      <td>10</td>\n",
       "      <td>9752.333</td>\n",
       "      <td>8557.5</td>\n",
       "      <td>26320</td>\n",
       "      <td>...</td>\n",
       "      <td>0</td>\n",
       "      <td>1</td>\n",
       "      <td>1</td>\n",
       "      <td>0</td>\n",
       "      <td>0</td>\n",
       "      <td>0</td>\n",
       "      <td>0</td>\n",
       "      <td>0</td>\n",
       "      <td>0</td>\n",
       "      <td>0</td>\n",
       "    </tr>\n",
       "  </tbody>\n",
       "</table>\n",
       "<p>5 rows × 102 columns</p>\n",
       "</div>"
      ],
      "text/plain": [
       "         m_ids_owner  owner_score  binarize_score   hh_ids  \\\n",
       "0  65134441430300000         0.75               1  KELDK21   \n",
       "1  60134547419200000         0.50             999  KVIHK40   \n",
       "2  63134425702500000         1.00               1  KMAKE06   \n",
       "3  64134429266300000         1.00               1  KNBOK05   \n",
       "4  65134432186900000         1.00               1  KELDK37   \n",
       "\n",
       "   con_pur_hh_meanptrx  con_pur_hh_sdptrx  con_pur_hh_minpti  \\\n",
       "0            1061.1900          4257.9390               1150   \n",
       "1             213.3567           406.9379               1810   \n",
       "2             153.4010          1022.1200                120   \n",
       "3             273.7134          1146.3220               3920   \n",
       "4             217.1206           648.0765                 10   \n",
       "\n",
       "   con_pur_hh_meanpti  con_pur_hh_medpti  con_pur_hh_maxpti  \\\n",
       "0           26529.750            17300.0              75020   \n",
       "1           14703.830            15589.5              29414   \n",
       "2            5036.667             4232.5              18320   \n",
       "3           30884.000            29395.5              67102   \n",
       "4            9752.333             8557.5              26320   \n",
       "\n",
       "          ...          dem_i_relhead_s_or_d  never_married  tribe_Kalenjin  \\\n",
       "0         ...                             0              1               1   \n",
       "1         ...                             0              1               0   \n",
       "2         ...                             0              1               0   \n",
       "3         ...                             0              1               0   \n",
       "4         ...                             0              1               1   \n",
       "\n",
       "   tribe_Kamba  tribe_Kikuyu  tribe_Kisii  tribe_Luhya  tribe_Luo  \\\n",
       "0            0             0            0            0          0   \n",
       "1            0             0            0            1          0   \n",
       "2            1             0            0            0          0   \n",
       "3            0             1            0            0          0   \n",
       "4            0             0            0            0          0   \n",
       "\n",
       "   tribe_Mijikenda/Swahili  tribe_Taita/Taveta  \n",
       "0                        0                   0  \n",
       "1                        0                   0  \n",
       "2                        0                   0  \n",
       "3                        0                   0  \n",
       "4                        0                   0  \n",
       "\n",
       "[5 rows x 102 columns]"
      ]
     },
     "execution_count": 62,
     "metadata": {},
     "output_type": "execute_result"
    }
   ],
   "source": [
    "data.head()"
   ]
  },
  {
   "cell_type": "code",
   "execution_count": 63,
   "metadata": {},
   "outputs": [],
   "source": [
    "data = data.loc[data['binarize_score'] != 999]"
   ]
  },
  {
   "cell_type": "code",
   "execution_count": 64,
   "metadata": {},
   "outputs": [
    {
     "data": {
      "text/plain": [
       "1    90\n",
       "0    24\n",
       "Name: binarize_score, dtype: int64"
      ]
     },
     "execution_count": 64,
     "metadata": {},
     "output_type": "execute_result"
    }
   ],
   "source": [
    "data.binarize_score.value_counts()"
   ]
  },
  {
   "cell_type": "code",
   "execution_count": 65,
   "metadata": {},
   "outputs": [],
   "source": [
    "labels = data.binarize_score \n",
    "data = data.drop(['binarize_score'], axis = 1)"
   ]
  },
  {
   "cell_type": "code",
   "execution_count": 66,
   "metadata": {},
   "outputs": [],
   "source": [
    "x_train, x_test, y_train, y_test = train_test_split(data, labels, stratify = labels, random_state=42, test_size = 0.2 )"
   ]
  },
  {
   "cell_type": "code",
   "execution_count": 67,
   "metadata": {},
   "outputs": [],
   "source": [
    "x_train.to_csv('binary_x_train.csv', index =0)\n",
    "x_test.to_csv('binary_x_test.csv', index =0)\n",
    "y_train.to_csv('binary_y_train.csv', index = 0)\n",
    "y_test.to_csv('binary_y_test.csv', index = 0)\n"
   ]
  },
  {
   "cell_type": "code",
   "execution_count": null,
   "metadata": {},
   "outputs": [],
   "source": []
  }
 ],
 "metadata": {
  "kernelspec": {
   "display_name": "Python 3",
   "language": "python",
   "name": "python3"
  },
  "language_info": {
   "codemirror_mode": {
    "name": "ipython",
    "version": 3
   },
   "file_extension": ".py",
   "mimetype": "text/x-python",
   "name": "python",
   "nbconvert_exporter": "python",
   "pygments_lexer": "ipython3",
   "version": "3.6.4"
  }
 },
 "nbformat": 4,
 "nbformat_minor": 2
}
