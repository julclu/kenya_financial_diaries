{
 "cells": [
  {
   "cell_type": "code",
   "execution_count": 1,
   "metadata": {},
   "outputs": [],
   "source": [
    "import pandas as pd \n",
    "import os \n",
    "import glob \n",
    "from collections import Counter"
   ]
  },
  {
   "cell_type": "markdown",
   "metadata": {},
   "source": [
    "# Merging"
   ]
  },
  {
   "cell_type": "code",
   "execution_count": 2,
   "metadata": {},
   "outputs": [
    {
     "data": {
      "text/plain": [
       "['../datasets/cons_wb_go_edu_demos.csv',\n",
       " '../datasets/cons_wb_go_edu_demos_inc.csv',\n",
       " '../datasets/cons_wb_go_edu_demos_inc_pov_hou_rem.csv',\n",
       " '../datasets/cons_wb_go_edu_demos_inc_pov_rem.csv',\n",
       " '../datasets/consumption_mapped_to_m_ids.csv',\n",
       " '../datasets/demos_merged.csv',\n",
       " '../datasets/edu_hh_ind_merge.csv',\n",
       " '../datasets/goingson.csv',\n",
       " '../datasets/hou.csv',\n",
       " '../datasets/hou_merge.csv',\n",
       " '../datasets/income.csv',\n",
       " '../datasets/pov_hou_rem_merge.csv',\n",
       " '../datasets/pov_hou_rem_merge_rev4.csv',\n",
       " '../datasets/pov_hou_rem_merged.csv',\n",
       " '../datasets/wellbeing.csv',\n",
       " '../datasets/wellbeing_goingson.csv']"
      ]
     },
     "execution_count": 2,
     "metadata": {},
     "output_type": "execute_result"
    }
   ],
   "source": [
    "glob.glob('../datasets/*csv')"
   ]
  },
  {
   "cell_type": "code",
   "execution_count": 3,
   "metadata": {},
   "outputs": [],
   "source": [
    "predictors = pd.read_csv('../datasets/cons_wb_go_edu_demos_inc_pov_rem.csv', dtype = {'m_ids_owner': 'object'})"
   ]
  },
  {
   "cell_type": "code",
   "execution_count": 4,
   "metadata": {},
   "outputs": [
    {
     "data": {
      "text/plain": [
       "['all_data.csv',\n",
       " 'binary_test.csv',\n",
       " 'binary_train.csv',\n",
       " 'binary_x_test.csv',\n",
       " 'binary_x_train.csv',\n",
       " 'binary_y_test.csv',\n",
       " 'binary_y_train.csv',\n",
       " 'data_merged_nocatvars.csv',\n",
       " 'data_merged_noMissingData.csv',\n",
       " 'diaries_trx_trunc_loans_start_bal.csv',\n",
       " 'individual_outcomes_33_150.csv',\n",
       " 'loan_outcomes_33_150.csv']"
      ]
     },
     "execution_count": 4,
     "metadata": {},
     "output_type": "execute_result"
    }
   ],
   "source": [
    "glob.glob('*csv')"
   ]
  },
  {
   "cell_type": "code",
   "execution_count": 5,
   "metadata": {},
   "outputs": [],
   "source": [
    "outcome = pd.read_csv('individual_outcomes_33_150.csv', dtype = {'m_ids_owner': 'object'})"
   ]
  },
  {
   "cell_type": "code",
   "execution_count": 6,
   "metadata": {},
   "outputs": [
    {
     "name": "stdout",
     "output_type": "stream",
     "text": [
      "(670, 191)\n",
      "(136, 4)\n"
     ]
    }
   ],
   "source": [
    "print(predictors.shape)\n",
    "print(outcome.shape)"
   ]
  },
  {
   "cell_type": "code",
   "execution_count": 7,
   "metadata": {},
   "outputs": [
    {
     "data": {
      "text/html": [
       "<div>\n",
       "<style scoped>\n",
       "    .dataframe tbody tr th:only-of-type {\n",
       "        vertical-align: middle;\n",
       "    }\n",
       "\n",
       "    .dataframe tbody tr th {\n",
       "        vertical-align: top;\n",
       "    }\n",
       "\n",
       "    .dataframe thead th {\n",
       "        text-align: right;\n",
       "    }\n",
       "</style>\n",
       "<table border=\"1\" class=\"dataframe\">\n",
       "  <thead>\n",
       "    <tr style=\"text-align: right;\">\n",
       "      <th></th>\n",
       "      <th>m_ids_owner</th>\n",
       "      <th>hh_ids</th>\n",
       "      <th>con_pur_hh_meanptrx</th>\n",
       "      <th>con_pur_hh_sdptrx</th>\n",
       "      <th>con_pur_hh_minpti</th>\n",
       "      <th>con_pur_hh_meanpti</th>\n",
       "      <th>con_pur_hh_medpti_x</th>\n",
       "      <th>con_pur_hh_maxpti</th>\n",
       "      <th>con_pur_hh_meanpti_ALC</th>\n",
       "      <th>con_pur_hh_medpti_ALC</th>\n",
       "      <th>...</th>\n",
       "      <th>hh_inf_electricity_access</th>\n",
       "      <th>hh_inf_interiorcond</th>\n",
       "      <th>hh_asset_internet_access</th>\n",
       "      <th>hh_env_settingdesc</th>\n",
       "      <th>hh_env_dilapbuildings</th>\n",
       "      <th>hh_ownership_docu</th>\n",
       "      <th>hh_otherprop_any</th>\n",
       "      <th>hh_otherprop_N</th>\n",
       "      <th>hh_othershamba_N</th>\n",
       "      <th>add_prop_value</th>\n",
       "    </tr>\n",
       "  </thead>\n",
       "  <tbody>\n",
       "    <tr>\n",
       "      <th>0</th>\n",
       "      <td>58134383397900000</td>\n",
       "      <td>KELDL02</td>\n",
       "      <td>107.9147</td>\n",
       "      <td>286.7984</td>\n",
       "      <td>3293</td>\n",
       "      <td>14372.27</td>\n",
       "      <td>15640.0</td>\n",
       "      <td>23670</td>\n",
       "      <td>204.5455</td>\n",
       "      <td>0.0</td>\n",
       "      <td>...</td>\n",
       "      <td>NaN</td>\n",
       "      <td>NaN</td>\n",
       "      <td>NaN</td>\n",
       "      <td>NaN</td>\n",
       "      <td>NaN</td>\n",
       "      <td>NaN</td>\n",
       "      <td>NaN</td>\n",
       "      <td>NaN</td>\n",
       "      <td>NaN</td>\n",
       "      <td>NaN</td>\n",
       "    </tr>\n",
       "    <tr>\n",
       "      <th>1</th>\n",
       "      <td>58134383535800000</td>\n",
       "      <td>KELDL02</td>\n",
       "      <td>107.9147</td>\n",
       "      <td>286.7984</td>\n",
       "      <td>3293</td>\n",
       "      <td>14372.27</td>\n",
       "      <td>15640.0</td>\n",
       "      <td>23670</td>\n",
       "      <td>204.5455</td>\n",
       "      <td>0.0</td>\n",
       "      <td>...</td>\n",
       "      <td>2.0</td>\n",
       "      <td>3.0</td>\n",
       "      <td>0.0</td>\n",
       "      <td>1.0</td>\n",
       "      <td>2.0</td>\n",
       "      <td>NaN</td>\n",
       "      <td>0.0</td>\n",
       "      <td>NaN</td>\n",
       "      <td>NaN</td>\n",
       "      <td>NaN</td>\n",
       "    </tr>\n",
       "    <tr>\n",
       "      <th>2</th>\n",
       "      <td>HH</td>\n",
       "      <td>KVIHC16</td>\n",
       "      <td>115.6588</td>\n",
       "      <td>345.8901</td>\n",
       "      <td>1070</td>\n",
       "      <td>5825.00</td>\n",
       "      <td>5470.0</td>\n",
       "      <td>15380</td>\n",
       "      <td>0.0000</td>\n",
       "      <td>0.0</td>\n",
       "      <td>...</td>\n",
       "      <td>NaN</td>\n",
       "      <td>NaN</td>\n",
       "      <td>NaN</td>\n",
       "      <td>NaN</td>\n",
       "      <td>NaN</td>\n",
       "      <td>NaN</td>\n",
       "      <td>NaN</td>\n",
       "      <td>NaN</td>\n",
       "      <td>NaN</td>\n",
       "      <td>NaN</td>\n",
       "    </tr>\n",
       "    <tr>\n",
       "      <th>3</th>\n",
       "      <td>59134423954300000</td>\n",
       "      <td>KVIHC16</td>\n",
       "      <td>115.6588</td>\n",
       "      <td>345.8901</td>\n",
       "      <td>1070</td>\n",
       "      <td>5825.00</td>\n",
       "      <td>5470.0</td>\n",
       "      <td>15380</td>\n",
       "      <td>0.0000</td>\n",
       "      <td>0.0</td>\n",
       "      <td>...</td>\n",
       "      <td>0.0</td>\n",
       "      <td>3.0</td>\n",
       "      <td>0.0</td>\n",
       "      <td>0.0</td>\n",
       "      <td>2.0</td>\n",
       "      <td>0.0</td>\n",
       "      <td>0.0</td>\n",
       "      <td>NaN</td>\n",
       "      <td>NaN</td>\n",
       "      <td>NaN</td>\n",
       "    </tr>\n",
       "    <tr>\n",
       "      <th>4</th>\n",
       "      <td>65134441430300000</td>\n",
       "      <td>KELDK21</td>\n",
       "      <td>1061.1900</td>\n",
       "      <td>4257.9390</td>\n",
       "      <td>1150</td>\n",
       "      <td>26529.75</td>\n",
       "      <td>17300.0</td>\n",
       "      <td>75020</td>\n",
       "      <td>0.0000</td>\n",
       "      <td>0.0</td>\n",
       "      <td>...</td>\n",
       "      <td>NaN</td>\n",
       "      <td>NaN</td>\n",
       "      <td>NaN</td>\n",
       "      <td>NaN</td>\n",
       "      <td>NaN</td>\n",
       "      <td>NaN</td>\n",
       "      <td>NaN</td>\n",
       "      <td>NaN</td>\n",
       "      <td>NaN</td>\n",
       "      <td>NaN</td>\n",
       "    </tr>\n",
       "  </tbody>\n",
       "</table>\n",
       "<p>5 rows × 191 columns</p>\n",
       "</div>"
      ],
      "text/plain": [
       "         m_ids_owner   hh_ids  con_pur_hh_meanptrx  con_pur_hh_sdptrx  \\\n",
       "0  58134383397900000  KELDL02             107.9147           286.7984   \n",
       "1  58134383535800000  KELDL02             107.9147           286.7984   \n",
       "2                 HH  KVIHC16             115.6588           345.8901   \n",
       "3  59134423954300000  KVIHC16             115.6588           345.8901   \n",
       "4  65134441430300000  KELDK21            1061.1900          4257.9390   \n",
       "\n",
       "   con_pur_hh_minpti  con_pur_hh_meanpti  con_pur_hh_medpti_x  \\\n",
       "0               3293            14372.27              15640.0   \n",
       "1               3293            14372.27              15640.0   \n",
       "2               1070             5825.00               5470.0   \n",
       "3               1070             5825.00               5470.0   \n",
       "4               1150            26529.75              17300.0   \n",
       "\n",
       "   con_pur_hh_maxpti  con_pur_hh_meanpti_ALC  con_pur_hh_medpti_ALC  ...  \\\n",
       "0              23670                204.5455                    0.0  ...   \n",
       "1              23670                204.5455                    0.0  ...   \n",
       "2              15380                  0.0000                    0.0  ...   \n",
       "3              15380                  0.0000                    0.0  ...   \n",
       "4              75020                  0.0000                    0.0  ...   \n",
       "\n",
       "   hh_inf_electricity_access  hh_inf_interiorcond  hh_asset_internet_access  \\\n",
       "0                        NaN                  NaN                       NaN   \n",
       "1                        2.0                  3.0                       0.0   \n",
       "2                        NaN                  NaN                       NaN   \n",
       "3                        0.0                  3.0                       0.0   \n",
       "4                        NaN                  NaN                       NaN   \n",
       "\n",
       "   hh_env_settingdesc  hh_env_dilapbuildings  hh_ownership_docu  \\\n",
       "0                 NaN                    NaN                NaN   \n",
       "1                 1.0                    2.0                NaN   \n",
       "2                 NaN                    NaN                NaN   \n",
       "3                 0.0                    2.0                0.0   \n",
       "4                 NaN                    NaN                NaN   \n",
       "\n",
       "   hh_otherprop_any  hh_otherprop_N  hh_othershamba_N  add_prop_value  \n",
       "0               NaN             NaN               NaN             NaN  \n",
       "1               0.0             NaN               NaN             NaN  \n",
       "2               NaN             NaN               NaN             NaN  \n",
       "3               0.0             NaN               NaN             NaN  \n",
       "4               NaN             NaN               NaN             NaN  \n",
       "\n",
       "[5 rows x 191 columns]"
      ]
     },
     "execution_count": 7,
     "metadata": {},
     "output_type": "execute_result"
    }
   ],
   "source": [
    "predictors.head()"
   ]
  },
  {
   "cell_type": "code",
   "execution_count": 8,
   "metadata": {},
   "outputs": [
    {
     "data": {
      "text/html": [
       "<div>\n",
       "<style scoped>\n",
       "    .dataframe tbody tr th:only-of-type {\n",
       "        vertical-align: middle;\n",
       "    }\n",
       "\n",
       "    .dataframe tbody tr th {\n",
       "        vertical-align: top;\n",
       "    }\n",
       "\n",
       "    .dataframe thead th {\n",
       "        text-align: right;\n",
       "    }\n",
       "</style>\n",
       "<table border=\"1\" class=\"dataframe\">\n",
       "  <thead>\n",
       "    <tr style=\"text-align: right;\">\n",
       "      <th></th>\n",
       "      <th>loans</th>\n",
       "      <th>m_ids_owner</th>\n",
       "      <th>owner_score</th>\n",
       "      <th>binarize_score</th>\n",
       "    </tr>\n",
       "  </thead>\n",
       "  <tbody>\n",
       "    <tr>\n",
       "      <th>0</th>\n",
       "      <td>['56134804374600000.3', '56134804374600000.1',...</td>\n",
       "      <td>65134441430300000</td>\n",
       "      <td>0.75</td>\n",
       "      <td>1</td>\n",
       "    </tr>\n",
       "    <tr>\n",
       "      <th>1</th>\n",
       "      <td>['60137430710900000.1', '60134978362300000.1']</td>\n",
       "      <td>60134547419200000</td>\n",
       "      <td>0.50</td>\n",
       "      <td>999</td>\n",
       "    </tr>\n",
       "    <tr>\n",
       "      <th>2</th>\n",
       "      <td>['63136740549700000.1', '63136740416600000.2',...</td>\n",
       "      <td>63134425702500000</td>\n",
       "      <td>1.00</td>\n",
       "      <td>1</td>\n",
       "    </tr>\n",
       "    <tr>\n",
       "      <th>3</th>\n",
       "      <td>['89136459180500000.2']</td>\n",
       "      <td>64134429266300000</td>\n",
       "      <td>1.00</td>\n",
       "      <td>1</td>\n",
       "    </tr>\n",
       "    <tr>\n",
       "      <th>4</th>\n",
       "      <td>['105136540140100000.1', '105136540140100000.2']</td>\n",
       "      <td>65134432186900000</td>\n",
       "      <td>1.00</td>\n",
       "      <td>1</td>\n",
       "    </tr>\n",
       "  </tbody>\n",
       "</table>\n",
       "</div>"
      ],
      "text/plain": [
       "                                               loans        m_ids_owner  \\\n",
       "0  ['56134804374600000.3', '56134804374600000.1',...  65134441430300000   \n",
       "1     ['60137430710900000.1', '60134978362300000.1']  60134547419200000   \n",
       "2  ['63136740549700000.1', '63136740416600000.2',...  63134425702500000   \n",
       "3                            ['89136459180500000.2']  64134429266300000   \n",
       "4   ['105136540140100000.1', '105136540140100000.2']  65134432186900000   \n",
       "\n",
       "   owner_score  binarize_score  \n",
       "0         0.75               1  \n",
       "1         0.50             999  \n",
       "2         1.00               1  \n",
       "3         1.00               1  \n",
       "4         1.00               1  "
      ]
     },
     "execution_count": 8,
     "metadata": {},
     "output_type": "execute_result"
    }
   ],
   "source": [
    "outcome.head()"
   ]
  },
  {
   "cell_type": "code",
   "execution_count": 9,
   "metadata": {},
   "outputs": [],
   "source": [
    " outcome = outcome.drop(['loans'], axis = 1)"
   ]
  },
  {
   "cell_type": "code",
   "execution_count": 10,
   "metadata": {},
   "outputs": [
    {
     "data": {
      "text/plain": [
       "(136, 3)"
      ]
     },
     "execution_count": 10,
     "metadata": {},
     "output_type": "execute_result"
    }
   ],
   "source": [
    "outcome.shape"
   ]
  },
  {
   "cell_type": "code",
   "execution_count": 11,
   "metadata": {},
   "outputs": [],
   "source": [
    "data = outcome.merge(predictors, on = 'm_ids_owner', how = 'left')"
   ]
  },
  {
   "cell_type": "code",
   "execution_count": 12,
   "metadata": {},
   "outputs": [
    {
     "data": {
      "text/plain": [
       "(136, 193)"
      ]
     },
     "execution_count": 12,
     "metadata": {},
     "output_type": "execute_result"
    }
   ],
   "source": [
    "data.shape"
   ]
  },
  {
   "cell_type": "code",
   "execution_count": 13,
   "metadata": {},
   "outputs": [],
   "source": [
    "data.to_csv('all_data.csv', index = False)"
   ]
  },
  {
   "cell_type": "code",
   "execution_count": null,
   "metadata": {},
   "outputs": [],
   "source": []
  }
 ],
 "metadata": {
  "kernelspec": {
   "display_name": "Python 3",
   "language": "python",
   "name": "python3"
  },
  "language_info": {
   "codemirror_mode": {
    "name": "ipython",
    "version": 3
   },
   "file_extension": ".py",
   "mimetype": "text/x-python",
   "name": "python",
   "nbconvert_exporter": "python",
   "pygments_lexer": "ipython3",
   "version": "3.7.3"
  }
 },
 "nbformat": 4,
 "nbformat_minor": 2
}
