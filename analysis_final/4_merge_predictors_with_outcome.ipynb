{
 "cells": [
  {
   "cell_type": "code",
   "execution_count": 44,
   "metadata": {},
   "outputs": [],
   "source": [
    "import pandas as pd \n",
    "import os \n",
    "import glob \n",
    "from collections import Counter"
   ]
  },
  {
   "cell_type": "markdown",
   "metadata": {},
   "source": [
    "# Merging"
   ]
  },
  {
   "cell_type": "code",
   "execution_count": 3,
   "metadata": {},
   "outputs": [
    {
     "data": {
      "text/plain": [
       "['../datasets/cons_wb_go_edu_demos.csv',\n",
       " '../datasets/edu_hh_ind_merge.csv',\n",
       " '../datasets/wellbeing_goingson.csv',\n",
       " '../datasets/goingson.csv',\n",
       " '../datasets/demos_merged.csv',\n",
       " '../datasets/wellbeing.csv',\n",
       " '../datasets/consumption_mapped_to_m_ids.csv']"
      ]
     },
     "execution_count": 3,
     "metadata": {},
     "output_type": "execute_result"
    }
   ],
   "source": [
    "glob.glob('../datasets/*csv')"
   ]
  },
  {
   "cell_type": "code",
   "execution_count": 4,
   "metadata": {},
   "outputs": [],
   "source": [
    "predictors = pd.read_csv('../datasets/cons_wb_go_edu_demos.csv', dtype = {'m_ids_owner': 'object'})"
   ]
  },
  {
   "cell_type": "code",
   "execution_count": 5,
   "metadata": {},
   "outputs": [
    {
     "data": {
      "text/plain": [
       "['loan_outcomes_33_150.csv',\n",
       " 'individual_outcomes_33_150.csv',\n",
       " 'data.csv',\n",
       " 'diaries_trx_trunc_loans_start_bal.csv',\n",
       " 'binary_y_train.csv',\n",
       " 'binary_x_train.csv',\n",
       " 'binary_x_test.csv',\n",
       " 'binary_y_test.csv']"
      ]
     },
     "execution_count": 5,
     "metadata": {},
     "output_type": "execute_result"
    }
   ],
   "source": [
    "glob.glob('*csv')"
   ]
  },
  {
   "cell_type": "code",
   "execution_count": 6,
   "metadata": {},
   "outputs": [],
   "source": [
    "outcome = pd.read_csv('individual_outcomes_33_150.csv', dtype = {'m_ids_owner': 'object'})"
   ]
  },
  {
   "cell_type": "code",
   "execution_count": 7,
   "metadata": {},
   "outputs": [
    {
     "name": "stdout",
     "output_type": "stream",
     "text": [
      "(670, 91)\n",
      "(139, 4)\n"
     ]
    }
   ],
   "source": [
    "print(predictors.shape)\n",
    "print(outcome.shape)"
   ]
  },
  {
   "cell_type": "code",
   "execution_count": 8,
   "metadata": {},
   "outputs": [
    {
     "data": {
      "text/html": [
       "<div>\n",
       "<style scoped>\n",
       "    .dataframe tbody tr th:only-of-type {\n",
       "        vertical-align: middle;\n",
       "    }\n",
       "\n",
       "    .dataframe tbody tr th {\n",
       "        vertical-align: top;\n",
       "    }\n",
       "\n",
       "    .dataframe thead th {\n",
       "        text-align: right;\n",
       "    }\n",
       "</style>\n",
       "<table border=\"1\" class=\"dataframe\">\n",
       "  <thead>\n",
       "    <tr style=\"text-align: right;\">\n",
       "      <th></th>\n",
       "      <th>m_ids_owner</th>\n",
       "      <th>hh_ids</th>\n",
       "      <th>con_pur_hh_meanptrx</th>\n",
       "      <th>con_pur_hh_sdptrx</th>\n",
       "      <th>con_pur_hh_minpti</th>\n",
       "      <th>con_pur_hh_meanpti</th>\n",
       "      <th>con_pur_hh_medpti</th>\n",
       "      <th>con_pur_hh_maxpti</th>\n",
       "      <th>con_pur_hh_meanpti_ALC</th>\n",
       "      <th>con_pur_hh_medpti_ALC</th>\n",
       "      <th>...</th>\n",
       "      <th>dem_hh_ages15plus</th>\n",
       "      <th>dem_hh_ages18plus</th>\n",
       "      <th>dem_hh_ages65plus</th>\n",
       "      <th>dem_hh_ages20_30</th>\n",
       "      <th>dem_hh_workage</th>\n",
       "      <th>dem_hh_dependents</th>\n",
       "      <th>dem_hh_agehead</th>\n",
       "      <th>dem_hh_malehead</th>\n",
       "      <th>dem_pae_oecd</th>\n",
       "      <th>dem_pae_kihbs</th>\n",
       "    </tr>\n",
       "  </thead>\n",
       "  <tbody>\n",
       "    <tr>\n",
       "      <th>0</th>\n",
       "      <td>58134383397900000</td>\n",
       "      <td>KELDL02</td>\n",
       "      <td>107.9147</td>\n",
       "      <td>286.7984</td>\n",
       "      <td>3293</td>\n",
       "      <td>14372.27</td>\n",
       "      <td>15640.0</td>\n",
       "      <td>23670</td>\n",
       "      <td>204.5455</td>\n",
       "      <td>0.0</td>\n",
       "      <td>...</td>\n",
       "      <td>2.0</td>\n",
       "      <td>2.0</td>\n",
       "      <td>0.0</td>\n",
       "      <td>2.0</td>\n",
       "      <td>0.50</td>\n",
       "      <td>0.50</td>\n",
       "      <td>27.0</td>\n",
       "      <td>1.0</td>\n",
       "      <td>2.7</td>\n",
       "      <td>2.48</td>\n",
       "    </tr>\n",
       "    <tr>\n",
       "      <th>1</th>\n",
       "      <td>58134383535800000</td>\n",
       "      <td>KELDL02</td>\n",
       "      <td>107.9147</td>\n",
       "      <td>286.7984</td>\n",
       "      <td>3293</td>\n",
       "      <td>14372.27</td>\n",
       "      <td>15640.0</td>\n",
       "      <td>23670</td>\n",
       "      <td>204.5455</td>\n",
       "      <td>0.0</td>\n",
       "      <td>...</td>\n",
       "      <td>2.0</td>\n",
       "      <td>2.0</td>\n",
       "      <td>0.0</td>\n",
       "      <td>2.0</td>\n",
       "      <td>0.50</td>\n",
       "      <td>0.50</td>\n",
       "      <td>27.0</td>\n",
       "      <td>1.0</td>\n",
       "      <td>2.7</td>\n",
       "      <td>2.48</td>\n",
       "    </tr>\n",
       "    <tr>\n",
       "      <th>2</th>\n",
       "      <td>HH</td>\n",
       "      <td>KVIHC16</td>\n",
       "      <td>115.6588</td>\n",
       "      <td>345.8901</td>\n",
       "      <td>1070</td>\n",
       "      <td>5825.00</td>\n",
       "      <td>5470.0</td>\n",
       "      <td>15380</td>\n",
       "      <td>0.0000</td>\n",
       "      <td>0.0</td>\n",
       "      <td>...</td>\n",
       "      <td>NaN</td>\n",
       "      <td>NaN</td>\n",
       "      <td>NaN</td>\n",
       "      <td>NaN</td>\n",
       "      <td>NaN</td>\n",
       "      <td>NaN</td>\n",
       "      <td>NaN</td>\n",
       "      <td>NaN</td>\n",
       "      <td>NaN</td>\n",
       "      <td>NaN</td>\n",
       "    </tr>\n",
       "    <tr>\n",
       "      <th>3</th>\n",
       "      <td>59134423954300000</td>\n",
       "      <td>KVIHC16</td>\n",
       "      <td>115.6588</td>\n",
       "      <td>345.8901</td>\n",
       "      <td>1070</td>\n",
       "      <td>5825.00</td>\n",
       "      <td>5470.0</td>\n",
       "      <td>15380</td>\n",
       "      <td>0.0000</td>\n",
       "      <td>0.0</td>\n",
       "      <td>...</td>\n",
       "      <td>2.0</td>\n",
       "      <td>1.0</td>\n",
       "      <td>0.0</td>\n",
       "      <td>0.0</td>\n",
       "      <td>0.40</td>\n",
       "      <td>0.60</td>\n",
       "      <td>39.0</td>\n",
       "      <td>0.0</td>\n",
       "      <td>3.2</td>\n",
       "      <td>3.95</td>\n",
       "    </tr>\n",
       "    <tr>\n",
       "      <th>4</th>\n",
       "      <td>65134441430300000</td>\n",
       "      <td>KELDK21</td>\n",
       "      <td>1061.1900</td>\n",
       "      <td>4257.9390</td>\n",
       "      <td>1150</td>\n",
       "      <td>26529.75</td>\n",
       "      <td>17300.0</td>\n",
       "      <td>75020</td>\n",
       "      <td>0.0000</td>\n",
       "      <td>0.0</td>\n",
       "      <td>...</td>\n",
       "      <td>4.0</td>\n",
       "      <td>4.0</td>\n",
       "      <td>1.0</td>\n",
       "      <td>1.0</td>\n",
       "      <td>0.75</td>\n",
       "      <td>0.25</td>\n",
       "      <td>56.0</td>\n",
       "      <td>1.0</td>\n",
       "      <td>3.1</td>\n",
       "      <td>4.00</td>\n",
       "    </tr>\n",
       "  </tbody>\n",
       "</table>\n",
       "<p>5 rows × 91 columns</p>\n",
       "</div>"
      ],
      "text/plain": [
       "         m_ids_owner   hh_ids  con_pur_hh_meanptrx  con_pur_hh_sdptrx  \\\n",
       "0  58134383397900000  KELDL02             107.9147           286.7984   \n",
       "1  58134383535800000  KELDL02             107.9147           286.7984   \n",
       "2                 HH  KVIHC16             115.6588           345.8901   \n",
       "3  59134423954300000  KVIHC16             115.6588           345.8901   \n",
       "4  65134441430300000  KELDK21            1061.1900          4257.9390   \n",
       "\n",
       "   con_pur_hh_minpti  con_pur_hh_meanpti  con_pur_hh_medpti  \\\n",
       "0               3293            14372.27            15640.0   \n",
       "1               3293            14372.27            15640.0   \n",
       "2               1070             5825.00             5470.0   \n",
       "3               1070             5825.00             5470.0   \n",
       "4               1150            26529.75            17300.0   \n",
       "\n",
       "   con_pur_hh_maxpti  con_pur_hh_meanpti_ALC  con_pur_hh_medpti_ALC  \\\n",
       "0              23670                204.5455                    0.0   \n",
       "1              23670                204.5455                    0.0   \n",
       "2              15380                  0.0000                    0.0   \n",
       "3              15380                  0.0000                    0.0   \n",
       "4              75020                  0.0000                    0.0   \n",
       "\n",
       "       ...        dem_hh_ages15plus  dem_hh_ages18plus  dem_hh_ages65plus  \\\n",
       "0      ...                      2.0                2.0                0.0   \n",
       "1      ...                      2.0                2.0                0.0   \n",
       "2      ...                      NaN                NaN                NaN   \n",
       "3      ...                      2.0                1.0                0.0   \n",
       "4      ...                      4.0                4.0                1.0   \n",
       "\n",
       "   dem_hh_ages20_30  dem_hh_workage  dem_hh_dependents  dem_hh_agehead  \\\n",
       "0               2.0            0.50               0.50            27.0   \n",
       "1               2.0            0.50               0.50            27.0   \n",
       "2               NaN             NaN                NaN             NaN   \n",
       "3               0.0            0.40               0.60            39.0   \n",
       "4               1.0            0.75               0.25            56.0   \n",
       "\n",
       "   dem_hh_malehead  dem_pae_oecd  dem_pae_kihbs  \n",
       "0              1.0           2.7           2.48  \n",
       "1              1.0           2.7           2.48  \n",
       "2              NaN           NaN            NaN  \n",
       "3              0.0           3.2           3.95  \n",
       "4              1.0           3.1           4.00  \n",
       "\n",
       "[5 rows x 91 columns]"
      ]
     },
     "execution_count": 8,
     "metadata": {},
     "output_type": "execute_result"
    }
   ],
   "source": [
    "predictors.head()"
   ]
  },
  {
   "cell_type": "code",
   "execution_count": 9,
   "metadata": {},
   "outputs": [
    {
     "data": {
      "text/html": [
       "<div>\n",
       "<style scoped>\n",
       "    .dataframe tbody tr th:only-of-type {\n",
       "        vertical-align: middle;\n",
       "    }\n",
       "\n",
       "    .dataframe tbody tr th {\n",
       "        vertical-align: top;\n",
       "    }\n",
       "\n",
       "    .dataframe thead th {\n",
       "        text-align: right;\n",
       "    }\n",
       "</style>\n",
       "<table border=\"1\" class=\"dataframe\">\n",
       "  <thead>\n",
       "    <tr style=\"text-align: right;\">\n",
       "      <th></th>\n",
       "      <th>loans</th>\n",
       "      <th>m_ids_owner</th>\n",
       "      <th>owner_score</th>\n",
       "      <th>binarize_score</th>\n",
       "    </tr>\n",
       "  </thead>\n",
       "  <tbody>\n",
       "    <tr>\n",
       "      <th>0</th>\n",
       "      <td>['56134804374600000.3', '56134804374600000.1',...</td>\n",
       "      <td>65134441430300000</td>\n",
       "      <td>0.75</td>\n",
       "      <td>1</td>\n",
       "    </tr>\n",
       "    <tr>\n",
       "      <th>1</th>\n",
       "      <td>['60137430710900000.1', '60134978362300000.1']</td>\n",
       "      <td>60134547419200000</td>\n",
       "      <td>0.50</td>\n",
       "      <td>999</td>\n",
       "    </tr>\n",
       "    <tr>\n",
       "      <th>2</th>\n",
       "      <td>['63136740549700000.1', '63136740416600000.2',...</td>\n",
       "      <td>63134425702500000</td>\n",
       "      <td>1.00</td>\n",
       "      <td>1</td>\n",
       "    </tr>\n",
       "    <tr>\n",
       "      <th>3</th>\n",
       "      <td>['89136459180500000.2', '89136459180500000.1']</td>\n",
       "      <td>64134429266300000</td>\n",
       "      <td>1.00</td>\n",
       "      <td>1</td>\n",
       "    </tr>\n",
       "    <tr>\n",
       "      <th>4</th>\n",
       "      <td>['105136540140100000.1', '105136540140100000.2']</td>\n",
       "      <td>65134432186900000</td>\n",
       "      <td>1.00</td>\n",
       "      <td>1</td>\n",
       "    </tr>\n",
       "  </tbody>\n",
       "</table>\n",
       "</div>"
      ],
      "text/plain": [
       "                                               loans        m_ids_owner  \\\n",
       "0  ['56134804374600000.3', '56134804374600000.1',...  65134441430300000   \n",
       "1     ['60137430710900000.1', '60134978362300000.1']  60134547419200000   \n",
       "2  ['63136740549700000.1', '63136740416600000.2',...  63134425702500000   \n",
       "3     ['89136459180500000.2', '89136459180500000.1']  64134429266300000   \n",
       "4   ['105136540140100000.1', '105136540140100000.2']  65134432186900000   \n",
       "\n",
       "   owner_score  binarize_score  \n",
       "0         0.75               1  \n",
       "1         0.50             999  \n",
       "2         1.00               1  \n",
       "3         1.00               1  \n",
       "4         1.00               1  "
      ]
     },
     "execution_count": 9,
     "metadata": {},
     "output_type": "execute_result"
    }
   ],
   "source": [
    "outcome.head()"
   ]
  },
  {
   "cell_type": "code",
   "execution_count": 10,
   "metadata": {},
   "outputs": [],
   "source": [
    " outcome = outcome.drop(['loans'], axis = 1)"
   ]
  },
  {
   "cell_type": "code",
   "execution_count": 11,
   "metadata": {},
   "outputs": [
    {
     "data": {
      "text/plain": [
       "(139, 3)"
      ]
     },
     "execution_count": 11,
     "metadata": {},
     "output_type": "execute_result"
    }
   ],
   "source": [
    "outcome.shape"
   ]
  },
  {
   "cell_type": "code",
   "execution_count": 118,
   "metadata": {},
   "outputs": [],
   "source": [
    "data = outcome.merge(predictors, on = 'm_ids_owner', how = 'left')"
   ]
  },
  {
   "cell_type": "code",
   "execution_count": 119,
   "metadata": {},
   "outputs": [
    {
     "data": {
      "text/plain": [
       "(139, 93)"
      ]
     },
     "execution_count": 119,
     "metadata": {},
     "output_type": "execute_result"
    }
   ],
   "source": [
    "data.shape"
   ]
  },
  {
   "cell_type": "code",
   "execution_count": 120,
   "metadata": {},
   "outputs": [],
   "source": [
    "# data.to_csv('data.csv', index = False)"
   ]
  },
  {
   "cell_type": "markdown",
   "metadata": {},
   "source": [
    "# Formatting: "
   ]
  },
  {
   "cell_type": "markdown",
   "metadata": {},
   "source": [
    "## Dealing with the categorical variables: "
   ]
  },
  {
   "cell_type": "code",
   "execution_count": 121,
   "metadata": {},
   "outputs": [
    {
     "data": {
      "text/plain": [
       "m_ids_owner         object\n",
       "hh_ids              object\n",
       "edu_i_attain        object\n",
       "dem_i_male          object\n",
       "dem_i_age_5yrgrp    object\n",
       "dem_i_relhead       object\n",
       "dem_i_marstat       object\n",
       "dem_i_tribe         object\n",
       "dtype: object"
      ]
     },
     "execution_count": 121,
     "metadata": {},
     "output_type": "execute_result"
    }
   ],
   "source": [
    "data.dtypes[data.dtypes == 'object']"
   ]
  },
  {
   "cell_type": "markdown",
   "metadata": {},
   "source": [
    "#### Dropping age group b/c we have age itself: "
   ]
  },
  {
   "cell_type": "code",
   "execution_count": 122,
   "metadata": {},
   "outputs": [],
   "source": [
    "data = data.drop(['dem_i_age_5yrgrp'], axis = 1)"
   ]
  },
  {
   "cell_type": "markdown",
   "metadata": {},
   "source": [
    "#### Reformatting the edu_i_attain entries: "
   ]
  },
  {
   "cell_type": "code",
   "execution_count": 123,
   "metadata": {},
   "outputs": [
    {
     "data": {
      "text/plain": [
       "Primary (some or complete)           71\n",
       "Secondary (some or complete)         52\n",
       "Post-secondary (some or complete)    11\n",
       "No education                          3\n",
       "Nursery/ Kindergarten                 1\n",
       "Name: edu_i_attain, dtype: int64"
      ]
     },
     "execution_count": 123,
     "metadata": {},
     "output_type": "execute_result"
    }
   ],
   "source": [
    "data.edu_i_attain.value_counts()"
   ]
  },
  {
   "cell_type": "code",
   "execution_count": 124,
   "metadata": {},
   "outputs": [],
   "source": [
    "new_edu = []\n",
    "for idx, row in data.iterrows(): \n",
    "    if 'Primary' in str(row['edu_i_attain']): \n",
    "        new_edu.append(2)\n",
    "    elif 'Secondary' in str(row['edu_i_attain']): \n",
    "        new_edu.append(3)\n",
    "    elif 'Post-secondary' in str(row['edu_i_attain']): \n",
    "        new_edu.append(4)\n",
    "    elif 'education' in str(row['edu_i_attain']): \n",
    "        new_edu.append(0)\n",
    "    else: \n",
    "        new_edu.append(1)"
   ]
  },
  {
   "cell_type": "code",
   "execution_count": 125,
   "metadata": {},
   "outputs": [
    {
     "data": {
      "text/plain": [
       "Counter({0: 3, 1: 2, 2: 71, 3: 52, 4: 11})"
      ]
     },
     "execution_count": 125,
     "metadata": {},
     "output_type": "execute_result"
    }
   ],
   "source": [
    "Counter(new_edu)"
   ]
  },
  {
   "cell_type": "code",
   "execution_count": 126,
   "metadata": {},
   "outputs": [],
   "source": [
    "data.edu_i_attain = new_edu"
   ]
  },
  {
   "cell_type": "code",
   "execution_count": 127,
   "metadata": {},
   "outputs": [
    {
     "data": {
      "text/plain": [
       "2    71\n",
       "3    52\n",
       "4    11\n",
       "0     3\n",
       "1     2\n",
       "Name: edu_i_attain, dtype: int64"
      ]
     },
     "execution_count": 127,
     "metadata": {},
     "output_type": "execute_result"
    }
   ],
   "source": [
    "data.edu_i_attain.value_counts()"
   ]
  },
  {
   "cell_type": "markdown",
   "metadata": {},
   "source": [
    "#### Reformatting the dem_i_male entries: "
   ]
  },
  {
   "cell_type": "code",
   "execution_count": 128,
   "metadata": {},
   "outputs": [
    {
     "data": {
      "text/plain": [
       "Female    100\n",
       "Male       38\n",
       "Name: dem_i_male, dtype: int64"
      ]
     },
     "execution_count": 128,
     "metadata": {},
     "output_type": "execute_result"
    }
   ],
   "source": [
    "data.dem_i_male.value_counts()"
   ]
  },
  {
   "cell_type": "code",
   "execution_count": 129,
   "metadata": {},
   "outputs": [],
   "source": [
    "new_male = []\n",
    "for idx, row in data.iterrows(): \n",
    "    if 'Female' in str(row['dem_i_male']): \n",
    "        new_male.append(0)\n",
    "    else: \n",
    "        new_male.append(1)"
   ]
  },
  {
   "cell_type": "code",
   "execution_count": 130,
   "metadata": {},
   "outputs": [],
   "source": [
    "data.dem_i_male = new_male"
   ]
  },
  {
   "cell_type": "code",
   "execution_count": 131,
   "metadata": {},
   "outputs": [
    {
     "data": {
      "text/plain": [
       "m_ids_owner      object\n",
       "hh_ids           object\n",
       "dem_i_relhead    object\n",
       "dem_i_marstat    object\n",
       "dem_i_tribe      object\n",
       "dtype: object"
      ]
     },
     "execution_count": 131,
     "metadata": {},
     "output_type": "execute_result"
    }
   ],
   "source": [
    "data.dtypes[data.dtypes == 'object']"
   ]
  },
  {
   "cell_type": "markdown",
   "metadata": {},
   "source": [
    "#### Reformatting the dem_i_relhead entries: "
   ]
  },
  {
   "cell_type": "code",
   "execution_count": 132,
   "metadata": {
    "scrolled": true
   },
   "outputs": [
    {
     "data": {
      "text/plain": [
       "Household head               92\n",
       "Husband or wife              42\n",
       "Son or daughter               3\n",
       "Parent (mother or father)     1\n",
       "Name: dem_i_relhead, dtype: int64"
      ]
     },
     "execution_count": 132,
     "metadata": {},
     "output_type": "execute_result"
    }
   ],
   "source": [
    "data.dem_i_relhead.value_counts()"
   ]
  },
  {
   "cell_type": "code",
   "execution_count": 133,
   "metadata": {},
   "outputs": [],
   "source": [
    "new_relhead = []\n",
    "for idx, row in data.iterrows(): \n",
    "    if 'Household' in str(row['dem_i_relhead']): \n",
    "        new_relhead.append('hh_head')\n",
    "    elif 'Husband' in str(row['dem_i_relhead']):\n",
    "        new_relhead.append('h_or_w')\n",
    "    elif 'Son' in str(row['dem_i_relhead']):\n",
    "        new_relhead.append('s_or_d')    \n",
    "    else: \n",
    "        new_relhead.append('parent')\n",
    "        "
   ]
  },
  {
   "cell_type": "code",
   "execution_count": 134,
   "metadata": {},
   "outputs": [],
   "source": [
    "data.dem_i_relhead = new_relhead"
   ]
  },
  {
   "cell_type": "code",
   "execution_count": 135,
   "metadata": {},
   "outputs": [],
   "source": [
    "new_relhead = pd.get_dummies(data.dem_i_relhead, prefix = 'dem_i_relhead')"
   ]
  },
  {
   "cell_type": "code",
   "execution_count": 136,
   "metadata": {},
   "outputs": [],
   "source": [
    "data = pd.concat([data.reset_index(drop=True), new_relhead], axis=1)"
   ]
  },
  {
   "cell_type": "code",
   "execution_count": 138,
   "metadata": {},
   "outputs": [],
   "source": [
    "data = data.drop('dem_i_relhead', axis = 1)"
   ]
  },
  {
   "cell_type": "code",
   "execution_count": 140,
   "metadata": {},
   "outputs": [],
   "source": [
    "# data.columns"
   ]
  },
  {
   "cell_type": "code",
   "execution_count": 141,
   "metadata": {},
   "outputs": [
    {
     "data": {
      "text/plain": [
       "m_ids_owner      object\n",
       "hh_ids           object\n",
       "dem_i_marstat    object\n",
       "dem_i_tribe      object\n",
       "dtype: object"
      ]
     },
     "execution_count": 141,
     "metadata": {},
     "output_type": "execute_result"
    }
   ],
   "source": [
    "data.dtypes[data.dtypes == 'object']"
   ]
  },
  {
   "cell_type": "markdown",
   "metadata": {},
   "source": [
    "#### Reformatting the dem_i_marstat entries: "
   ]
  },
  {
   "cell_type": "code",
   "execution_count": 142,
   "metadata": {
    "scrolled": true
   },
   "outputs": [
    {
     "data": {
      "text/plain": [
       "Married/living together         104\n",
       "Widowed                          17\n",
       "Separated/divorced                9\n",
       "Never married/lived together      8\n",
       "Name: dem_i_marstat, dtype: int64"
      ]
     },
     "execution_count": 142,
     "metadata": {},
     "output_type": "execute_result"
    }
   ],
   "source": [
    "data.dem_i_marstat.value_counts()"
   ]
  },
  {
   "cell_type": "code",
   "execution_count": 145,
   "metadata": {},
   "outputs": [],
   "source": [
    "new_marstat = []\n",
    "for idx, row in data.iterrows(): \n",
    "    if 'Married' in str(row['dem_i_marstat']): \n",
    "        new_marstat.append('married')\n",
    "    elif 'Widowed' in str(row['dem_i_marstat']):\n",
    "        new_marstat.append('widowed')\n",
    "    elif 'Separated' in str(row['dem_i_marstat']):\n",
    "        new_marstat.append('separated')    \n",
    "    else: \n",
    "        new_marstat.append('never_married')\n",
    "        "
   ]
  },
  {
   "cell_type": "code",
   "execution_count": 146,
   "metadata": {},
   "outputs": [],
   "source": [
    "data.dem_i_marstat = new_marstat"
   ]
  },
  {
   "cell_type": "code",
   "execution_count": 147,
   "metadata": {},
   "outputs": [],
   "source": [
    "new_marstat = pd.get_dummies(data.dem_i_marstat)"
   ]
  },
  {
   "cell_type": "code",
   "execution_count": 148,
   "metadata": {},
   "outputs": [],
   "source": [
    "data = pd.concat([data.reset_index(drop=True), new_marstat], axis=1)"
   ]
  },
  {
   "cell_type": "code",
   "execution_count": 149,
   "metadata": {},
   "outputs": [],
   "source": [
    "data = data.drop('dem_i_marstat', axis = 1)"
   ]
  },
  {
   "cell_type": "code",
   "execution_count": 150,
   "metadata": {
    "scrolled": false
   },
   "outputs": [
    {
     "data": {
      "text/plain": [
       "m_ids_owner    object\n",
       "hh_ids         object\n",
       "dem_i_tribe    object\n",
       "dtype: object"
      ]
     },
     "execution_count": 150,
     "metadata": {},
     "output_type": "execute_result"
    }
   ],
   "source": [
    "data.dtypes[data.dtypes == 'object']"
   ]
  },
  {
   "cell_type": "markdown",
   "metadata": {},
   "source": [
    "#### Reformatting the dem_i_tribe entries: "
   ]
  },
  {
   "cell_type": "code",
   "execution_count": 151,
   "metadata": {
    "scrolled": true
   },
   "outputs": [
    {
     "data": {
      "text/plain": [
       "Luhya                40\n",
       "Kamba                33\n",
       "Kalenjin             25\n",
       "Mijikenda/Swahili    15\n",
       "Luo                  11\n",
       "Kikuyu               11\n",
       "Kisii                 2\n",
       "Taita/Taveta          1\n",
       "Name: dem_i_tribe, dtype: int64"
      ]
     },
     "execution_count": 151,
     "metadata": {},
     "output_type": "execute_result"
    }
   ],
   "source": [
    "data.dem_i_tribe.value_counts()"
   ]
  },
  {
   "cell_type": "code",
   "execution_count": 152,
   "metadata": {},
   "outputs": [],
   "source": [
    "new_tribe = pd.get_dummies(data.dem_i_tribe, prefix = 'tribe')"
   ]
  },
  {
   "cell_type": "code",
   "execution_count": 153,
   "metadata": {},
   "outputs": [],
   "source": [
    "data = pd.concat([data.reset_index(drop=True), new_tribe], axis=1)"
   ]
  },
  {
   "cell_type": "code",
   "execution_count": 154,
   "metadata": {},
   "outputs": [],
   "source": [
    "data = data.drop('dem_i_tribe', axis = 1)"
   ]
  },
  {
   "cell_type": "code",
   "execution_count": 155,
   "metadata": {
    "scrolled": false
   },
   "outputs": [
    {
     "data": {
      "text/plain": [
       "m_ids_owner    object\n",
       "hh_ids         object\n",
       "dtype: object"
      ]
     },
     "execution_count": 155,
     "metadata": {},
     "output_type": "execute_result"
    }
   ],
   "source": [
    "data.dtypes[data.dtypes == 'object']"
   ]
  },
  {
   "cell_type": "code",
   "execution_count": 156,
   "metadata": {},
   "outputs": [],
   "source": [
    "data.to_csv('data_merged_nocatvars.csv', index = False)"
   ]
  },
  {
   "cell_type": "code",
   "execution_count": null,
   "metadata": {},
   "outputs": [],
   "source": []
  }
 ],
 "metadata": {
  "kernelspec": {
   "display_name": "Python 3",
   "language": "python",
   "name": "python3"
  },
  "language_info": {
   "codemirror_mode": {
    "name": "ipython",
    "version": 3
   },
   "file_extension": ".py",
   "mimetype": "text/x-python",
   "name": "python",
   "nbconvert_exporter": "python",
   "pygments_lexer": "ipython3",
   "version": "3.6.4"
  }
 },
 "nbformat": 4,
 "nbformat_minor": 2
}
