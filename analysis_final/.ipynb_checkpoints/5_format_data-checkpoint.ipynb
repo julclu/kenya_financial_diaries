{
 "cells": [
  {
   "cell_type": "code",
   "execution_count": 29,
   "metadata": {},
   "outputs": [],
   "source": [
    "import pandas as pd \n",
    "import os \n",
    "import glob \n",
    "from collections import Counter"
   ]
  },
  {
   "cell_type": "markdown",
   "metadata": {},
   "source": [
    "# Merging"
   ]
  },
  {
   "cell_type": "code",
   "execution_count": 30,
   "metadata": {},
   "outputs": [
    {
     "data": {
      "text/plain": [
       "['all_data.csv',\n",
       " 'binary_test.csv',\n",
       " 'binary_train.csv',\n",
       " 'binary_x_test.csv',\n",
       " 'binary_x_train.csv',\n",
       " 'binary_y_test.csv',\n",
       " 'binary_y_train.csv',\n",
       " 'data_merged_nocatvars.csv',\n",
       " 'data_merged_noMissingData.csv',\n",
       " 'diaries_trx_trunc_loans_start_bal.csv',\n",
       " 'individual_outcomes_33_150.csv',\n",
       " 'loan_outcomes_33_150.csv']"
      ]
     },
     "execution_count": 30,
     "metadata": {},
     "output_type": "execute_result"
    }
   ],
   "source": [
    "glob.glob(\"*csv\")"
   ]
  },
  {
   "cell_type": "code",
   "execution_count": 31,
   "metadata": {},
   "outputs": [],
   "source": [
    "pd.set_option('display.max_rows', 500)\n",
    "pd.set_option('display.max_columns', 500)\n",
    "pd.set_option('display.width', 1000)"
   ]
  },
  {
   "cell_type": "code",
   "execution_count": 32,
   "metadata": {},
   "outputs": [],
   "source": [
    "data = pd.read_csv('all_data.csv', dtype = {'m_ids_owner': 'object'})"
   ]
  },
  {
   "cell_type": "code",
   "execution_count": 33,
   "metadata": {},
   "outputs": [
    {
     "data": {
      "text/plain": [
       "Index(['m_ids_owner', 'owner_score', 'binarize_score', 'hh_ids', 'con_pur_hh_meanptrx', 'con_pur_hh_sdptrx', 'con_pur_hh_minpti', 'con_pur_hh_meanpti', 'con_pur_hh_medpti_x', 'con_pur_hh_maxpti',\n",
       "       ...\n",
       "       'hh_inf_electricity_access', 'hh_inf_interiorcond', 'hh_asset_internet_access', 'hh_env_settingdesc', 'hh_env_dilapbuildings', 'hh_ownership_docu', 'hh_otherprop_any', 'hh_otherprop_N', 'hh_othershamba_N', 'add_prop_value'], dtype='object', length=193)"
      ]
     },
     "execution_count": 33,
     "metadata": {},
     "output_type": "execute_result"
    }
   ],
   "source": [
    "data.columns"
   ]
  },
  {
   "cell_type": "markdown",
   "metadata": {},
   "source": [
    "# Formatting: "
   ]
  },
  {
   "cell_type": "code",
   "execution_count": 34,
   "metadata": {},
   "outputs": [
    {
     "data": {
      "text/plain": [
       "(136, 193)"
      ]
     },
     "execution_count": 34,
     "metadata": {},
     "output_type": "execute_result"
    }
   ],
   "source": [
    "data.shape"
   ]
  },
  {
   "cell_type": "markdown",
   "metadata": {},
   "source": [
    "## Dealing with the categorical variables: "
   ]
  },
  {
   "cell_type": "code",
   "execution_count": 35,
   "metadata": {},
   "outputs": [
    {
     "data": {
      "text/plain": [
       "m_ids_owner               object\n",
       "hh_ids                    object\n",
       "edu_i_attain              object\n",
       "dem_i_male                object\n",
       "dem_i_age_5yrgrp          object\n",
       "dem_i_relhead             object\n",
       "dem_i_marstat             object\n",
       "dem_i_tribe               object\n",
       "hh_inf_lighting_source    object\n",
       "dtype: object"
      ]
     },
     "execution_count": 35,
     "metadata": {},
     "output_type": "execute_result"
    }
   ],
   "source": [
    "data.dtypes[data.dtypes == 'object']"
   ]
  },
  {
   "cell_type": "markdown",
   "metadata": {},
   "source": [
    "#### Dropping age group b/c we have age itself: "
   ]
  },
  {
   "cell_type": "code",
   "execution_count": 36,
   "metadata": {},
   "outputs": [],
   "source": [
    "data = data.drop(['dem_i_age_5yrgrp'], axis = 1)"
   ]
  },
  {
   "cell_type": "markdown",
   "metadata": {},
   "source": [
    "#### Reformatting the edu_i_attain entries: "
   ]
  },
  {
   "cell_type": "code",
   "execution_count": 37,
   "metadata": {},
   "outputs": [
    {
     "data": {
      "text/plain": [
       "Primary (some or complete)           70\n",
       "Secondary (some or complete)         50\n",
       "Post-secondary (some or complete)    11\n",
       "No education                          3\n",
       "Nursery/ Kindergarten                 1\n",
       "Name: edu_i_attain, dtype: int64"
      ]
     },
     "execution_count": 37,
     "metadata": {},
     "output_type": "execute_result"
    }
   ],
   "source": [
    "data.edu_i_attain.value_counts()"
   ]
  },
  {
   "cell_type": "code",
   "execution_count": 38,
   "metadata": {},
   "outputs": [],
   "source": [
    "new_edu = []\n",
    "for idx, row in data.iterrows(): \n",
    "    if 'Primary' in str(row['edu_i_attain']): \n",
    "        new_edu.append(2)\n",
    "    elif 'Secondary' in str(row['edu_i_attain']): \n",
    "        new_edu.append(3)\n",
    "    elif 'Post-secondary' in str(row['edu_i_attain']): \n",
    "        new_edu.append(4)\n",
    "    elif 'education' in str(row['edu_i_attain']): \n",
    "        new_edu.append(0)\n",
    "    else: \n",
    "        new_edu.append(1)"
   ]
  },
  {
   "cell_type": "code",
   "execution_count": 39,
   "metadata": {},
   "outputs": [
    {
     "data": {
      "text/plain": [
       "Counter({3: 50, 4: 11, 2: 70, 0: 3, 1: 2})"
      ]
     },
     "execution_count": 39,
     "metadata": {},
     "output_type": "execute_result"
    }
   ],
   "source": [
    "Counter(new_edu)"
   ]
  },
  {
   "cell_type": "code",
   "execution_count": 40,
   "metadata": {},
   "outputs": [],
   "source": [
    "data.edu_i_attain = new_edu"
   ]
  },
  {
   "cell_type": "code",
   "execution_count": 41,
   "metadata": {},
   "outputs": [
    {
     "data": {
      "text/plain": [
       "2    70\n",
       "3    50\n",
       "4    11\n",
       "0     3\n",
       "1     2\n",
       "Name: edu_i_attain, dtype: int64"
      ]
     },
     "execution_count": 41,
     "metadata": {},
     "output_type": "execute_result"
    }
   ],
   "source": [
    "data.edu_i_attain.value_counts()"
   ]
  },
  {
   "cell_type": "markdown",
   "metadata": {},
   "source": [
    "#### Reformatting the dem_i_male entries: "
   ]
  },
  {
   "cell_type": "code",
   "execution_count": 42,
   "metadata": {},
   "outputs": [
    {
     "data": {
      "text/plain": [
       "Female    98\n",
       "Male      37\n",
       "Name: dem_i_male, dtype: int64"
      ]
     },
     "execution_count": 42,
     "metadata": {},
     "output_type": "execute_result"
    }
   ],
   "source": [
    "data.dem_i_male.value_counts()"
   ]
  },
  {
   "cell_type": "code",
   "execution_count": 43,
   "metadata": {},
   "outputs": [],
   "source": [
    "new_male = []\n",
    "for idx, row in data.iterrows(): \n",
    "    if 'Female' in str(row['dem_i_male']): \n",
    "        new_male.append(0)\n",
    "    else: \n",
    "        new_male.append(1)"
   ]
  },
  {
   "cell_type": "code",
   "execution_count": 44,
   "metadata": {},
   "outputs": [],
   "source": [
    "data.dem_i_male = new_male"
   ]
  },
  {
   "cell_type": "code",
   "execution_count": 45,
   "metadata": {},
   "outputs": [
    {
     "data": {
      "text/plain": [
       "m_ids_owner               object\n",
       "hh_ids                    object\n",
       "dem_i_relhead             object\n",
       "dem_i_marstat             object\n",
       "dem_i_tribe               object\n",
       "hh_inf_lighting_source    object\n",
       "dtype: object"
      ]
     },
     "execution_count": 45,
     "metadata": {},
     "output_type": "execute_result"
    }
   ],
   "source": [
    "data.dtypes[data.dtypes == 'object']"
   ]
  },
  {
   "cell_type": "markdown",
   "metadata": {},
   "source": [
    "#### Reformatting the dem_i_relhead entries: "
   ]
  },
  {
   "cell_type": "code",
   "execution_count": 46,
   "metadata": {
    "scrolled": true
   },
   "outputs": [
    {
     "data": {
      "text/plain": [
       "Household head               89\n",
       "Husband or wife              42\n",
       "Son or daughter               3\n",
       "Parent (mother or father)     1\n",
       "Name: dem_i_relhead, dtype: int64"
      ]
     },
     "execution_count": 46,
     "metadata": {},
     "output_type": "execute_result"
    }
   ],
   "source": [
    "data.dem_i_relhead.value_counts()"
   ]
  },
  {
   "cell_type": "code",
   "execution_count": 47,
   "metadata": {},
   "outputs": [],
   "source": [
    "new_relhead = []\n",
    "for idx, row in data.iterrows(): \n",
    "    if 'Household' in str(row['dem_i_relhead']): \n",
    "        new_relhead.append('hh_head')\n",
    "    elif 'Husband' in str(row['dem_i_relhead']):\n",
    "        new_relhead.append('h_or_w')\n",
    "    elif 'Son' in str(row['dem_i_relhead']):\n",
    "        new_relhead.append('s_or_d')    \n",
    "    else: \n",
    "        new_relhead.append('parent')\n",
    "        "
   ]
  },
  {
   "cell_type": "code",
   "execution_count": 48,
   "metadata": {},
   "outputs": [],
   "source": [
    "data.dem_i_relhead = new_relhead"
   ]
  },
  {
   "cell_type": "code",
   "execution_count": 49,
   "metadata": {},
   "outputs": [],
   "source": [
    "new_relhead = pd.get_dummies(data.dem_i_relhead, prefix = 'dem_i_relhead')"
   ]
  },
  {
   "cell_type": "code",
   "execution_count": 50,
   "metadata": {},
   "outputs": [],
   "source": [
    "data = pd.concat([data.reset_index(drop=True), new_relhead], axis=1)"
   ]
  },
  {
   "cell_type": "code",
   "execution_count": 51,
   "metadata": {},
   "outputs": [],
   "source": [
    "data = data.drop('dem_i_relhead', axis = 1)"
   ]
  },
  {
   "cell_type": "code",
   "execution_count": 52,
   "metadata": {},
   "outputs": [],
   "source": [
    "# data.columns"
   ]
  },
  {
   "cell_type": "code",
   "execution_count": 53,
   "metadata": {},
   "outputs": [
    {
     "data": {
      "text/plain": [
       "m_ids_owner               object\n",
       "hh_ids                    object\n",
       "dem_i_marstat             object\n",
       "dem_i_tribe               object\n",
       "hh_inf_lighting_source    object\n",
       "dtype: object"
      ]
     },
     "execution_count": 53,
     "metadata": {},
     "output_type": "execute_result"
    }
   ],
   "source": [
    "data.dtypes[data.dtypes == 'object']"
   ]
  },
  {
   "cell_type": "markdown",
   "metadata": {},
   "source": [
    "#### Reformatting the dem_i_marstat entries: "
   ]
  },
  {
   "cell_type": "code",
   "execution_count": 54,
   "metadata": {
    "scrolled": true
   },
   "outputs": [
    {
     "data": {
      "text/plain": [
       "Married/living together         102\n",
       "Widowed                          17\n",
       "Never married/lived together      8\n",
       "Separated/divorced                8\n",
       "Name: dem_i_marstat, dtype: int64"
      ]
     },
     "execution_count": 54,
     "metadata": {},
     "output_type": "execute_result"
    }
   ],
   "source": [
    "data.dem_i_marstat.value_counts()"
   ]
  },
  {
   "cell_type": "code",
   "execution_count": 55,
   "metadata": {},
   "outputs": [],
   "source": [
    "new_marstat = []\n",
    "for idx, row in data.iterrows(): \n",
    "    if 'Married' in str(row['dem_i_marstat']): \n",
    "        new_marstat.append('married')\n",
    "    elif 'Widowed' in str(row['dem_i_marstat']):\n",
    "        new_marstat.append('widowed')\n",
    "    elif 'Separated' in str(row['dem_i_marstat']):\n",
    "        new_marstat.append('separated')    \n",
    "    else: \n",
    "        new_marstat.append('never_married')\n",
    "        "
   ]
  },
  {
   "cell_type": "code",
   "execution_count": 56,
   "metadata": {},
   "outputs": [],
   "source": [
    "data.dem_i_marstat = new_marstat"
   ]
  },
  {
   "cell_type": "code",
   "execution_count": 57,
   "metadata": {},
   "outputs": [],
   "source": [
    "new_marstat = pd.get_dummies(data.dem_i_marstat)"
   ]
  },
  {
   "cell_type": "code",
   "execution_count": 58,
   "metadata": {},
   "outputs": [],
   "source": [
    "data = pd.concat([data.reset_index(drop=True), new_marstat], axis=1)"
   ]
  },
  {
   "cell_type": "code",
   "execution_count": 59,
   "metadata": {},
   "outputs": [],
   "source": [
    "data = data.drop('dem_i_marstat', axis = 1)"
   ]
  },
  {
   "cell_type": "code",
   "execution_count": 60,
   "metadata": {
    "scrolled": false
   },
   "outputs": [
    {
     "data": {
      "text/plain": [
       "m_ids_owner               object\n",
       "hh_ids                    object\n",
       "dem_i_tribe               object\n",
       "hh_inf_lighting_source    object\n",
       "dtype: object"
      ]
     },
     "execution_count": 60,
     "metadata": {},
     "output_type": "execute_result"
    }
   ],
   "source": [
    "data.dtypes[data.dtypes == 'object']"
   ]
  },
  {
   "cell_type": "markdown",
   "metadata": {},
   "source": [
    "#### Reformatting the dem_i_tribe entries: "
   ]
  },
  {
   "cell_type": "code",
   "execution_count": 61,
   "metadata": {
    "scrolled": true
   },
   "outputs": [
    {
     "data": {
      "text/plain": [
       "Luhya                40\n",
       "Kamba                32\n",
       "Kalenjin             25\n",
       "Mijikenda/Swahili    14\n",
       "Kikuyu               11\n",
       "Luo                  10\n",
       "Kisii                 2\n",
       "Taita/Taveta          1\n",
       "Name: dem_i_tribe, dtype: int64"
      ]
     },
     "execution_count": 61,
     "metadata": {},
     "output_type": "execute_result"
    }
   ],
   "source": [
    "data.dem_i_tribe.value_counts()"
   ]
  },
  {
   "cell_type": "code",
   "execution_count": 62,
   "metadata": {},
   "outputs": [],
   "source": [
    "new_tribe = pd.get_dummies(data.dem_i_tribe, prefix = 'tribe')"
   ]
  },
  {
   "cell_type": "code",
   "execution_count": 63,
   "metadata": {},
   "outputs": [],
   "source": [
    "data = pd.concat([data.reset_index(drop=True), new_tribe], axis=1)"
   ]
  },
  {
   "cell_type": "code",
   "execution_count": 64,
   "metadata": {},
   "outputs": [],
   "source": [
    "data = data.drop('dem_i_tribe', axis = 1)"
   ]
  },
  {
   "cell_type": "code",
   "execution_count": 65,
   "metadata": {
    "scrolled": true
   },
   "outputs": [
    {
     "data": {
      "text/plain": [
       "m_ids_owner               object\n",
       "hh_ids                    object\n",
       "hh_inf_lighting_source    object\n",
       "dtype: object"
      ]
     },
     "execution_count": 65,
     "metadata": {},
     "output_type": "execute_result"
    }
   ],
   "source": [
    "data.dtypes[data.dtypes == 'object']"
   ]
  },
  {
   "cell_type": "code",
   "execution_count": 66,
   "metadata": {},
   "outputs": [
    {
     "data": {
      "text/plain": [
       "4                     75\n",
       "6                     27\n",
       "7                      9\n",
       "5                      1\n",
       "3                      1\n",
       "Collected Firewood     1\n",
       "Name: hh_inf_lighting_source, dtype: int64"
      ]
     },
     "execution_count": 66,
     "metadata": {},
     "output_type": "execute_result"
    }
   ],
   "source": [
    "data[\"hh_inf_lighting_source\"].value_counts()"
   ]
  },
  {
   "cell_type": "code",
   "execution_count": 67,
   "metadata": {
    "scrolled": false
   },
   "outputs": [
    {
     "data": {
      "text/plain": [
       "m_ids_owner               object\n",
       "hh_ids                    object\n",
       "hh_inf_lighting_source    object\n",
       "dtype: object"
      ]
     },
     "execution_count": 67,
     "metadata": {},
     "output_type": "execute_result"
    }
   ],
   "source": [
    "data.dtypes[data.dtypes == 'object']"
   ]
  },
  {
   "cell_type": "markdown",
   "metadata": {},
   "source": [
    "###  deleting \"HH\" from m_ids_owner"
   ]
  },
  {
   "cell_type": "code",
   "execution_count": 68,
   "metadata": {},
   "outputs": [
    {
     "data": {
      "text/html": [
       "<div>\n",
       "<style scoped>\n",
       "    .dataframe tbody tr th:only-of-type {\n",
       "        vertical-align: middle;\n",
       "    }\n",
       "\n",
       "    .dataframe tbody tr th {\n",
       "        vertical-align: top;\n",
       "    }\n",
       "\n",
       "    .dataframe thead th {\n",
       "        text-align: right;\n",
       "    }\n",
       "</style>\n",
       "<table border=\"1\" class=\"dataframe\">\n",
       "  <thead>\n",
       "    <tr style=\"text-align: right;\">\n",
       "      <th></th>\n",
       "      <th>m_ids_owner</th>\n",
       "      <th>owner_score</th>\n",
       "      <th>binarize_score</th>\n",
       "      <th>hh_ids</th>\n",
       "      <th>con_pur_hh_meanptrx</th>\n",
       "      <th>con_pur_hh_sdptrx</th>\n",
       "      <th>con_pur_hh_minpti</th>\n",
       "      <th>con_pur_hh_meanpti</th>\n",
       "      <th>con_pur_hh_medpti_x</th>\n",
       "      <th>con_pur_hh_maxpti</th>\n",
       "      <th>con_pur_hh_meanpti_ALC</th>\n",
       "      <th>con_pur_hh_medpti_ALC</th>\n",
       "      <th>con_pur_hh_meanpti_CLN</th>\n",
       "      <th>con_pur_hh_medpti_CLN</th>\n",
       "      <th>con_pur_hh_meanpti_CLTH</th>\n",
       "      <th>con_pur_hh_medpti_CLTH</th>\n",
       "      <th>con_pur_hh_meanpti_COMM</th>\n",
       "      <th>con_pur_hh_medpti_COMM</th>\n",
       "      <th>con_pur_hh_meanpti_EDU</th>\n",
       "      <th>con_pur_hh_medpti_EDU</th>\n",
       "      <th>con_pur_hh_meanpti_ENRGY</th>\n",
       "      <th>con_pur_hh_medpti_ENRGY</th>\n",
       "      <th>con_pur_hh_meanpti_ENT</th>\n",
       "      <th>con_pur_hh_medpti_ENT</th>\n",
       "      <th>con_pur_hh_meanpti_FOOD</th>\n",
       "      <th>con_pur_hh_medpti_FOOD</th>\n",
       "      <th>con_pur_hh_meanpti_H20</th>\n",
       "      <th>con_pur_hh_medpti_H20</th>\n",
       "      <th>con_pur_hh_meanpti_HSNG</th>\n",
       "      <th>con_pur_hh_medpti_HSNG</th>\n",
       "      <th>con_pur_hh_meanpti_MED</th>\n",
       "      <th>con_pur_hh_medpti_MED</th>\n",
       "      <th>con_pur_hh_meanpti_OTH</th>\n",
       "      <th>con_pur_hh_medpti_OTH</th>\n",
       "      <th>con_pur_hh_meanpti_PERS</th>\n",
       "      <th>con_pur_hh_medpti_PERS</th>\n",
       "      <th>con_pur_hh_meanpti_REL</th>\n",
       "      <th>con_pur_hh_medpti_REL</th>\n",
       "      <th>con_pur_hh_meanpti_TRNSP</th>\n",
       "      <th>con_pur_hh_medpti_TRNSP</th>\n",
       "      <th>Unnamed: 0_x</th>\n",
       "      <th>happiness</th>\n",
       "      <th>economically</th>\n",
       "      <th>relationships</th>\n",
       "      <th>confidence</th>\n",
       "      <th>police</th>\n",
       "      <th>doctor</th>\n",
       "      <th>unsafe</th>\n",
       "      <th>utilities</th>\n",
       "      <th>asset_taken</th>\n",
       "      <th>miss_app</th>\n",
       "      <th>miss_inc</th>\n",
       "      <th>romantic</th>\n",
       "      <th>hungry</th>\n",
       "      <th>school_sent</th>\n",
       "      <th>m_ids_x</th>\n",
       "      <th>edu_i_enrolled</th>\n",
       "      <th>edu_i_attain</th>\n",
       "      <th>edu_i_attain_yrs</th>\n",
       "      <th>edu_hh_child613inschool</th>\n",
       "      <th>edu_hh_child1417inschool</th>\n",
       "      <th>edu_hh_girls613inschool</th>\n",
       "      <th>edu_hh_girls1417inschool</th>\n",
       "      <th>edu_hh_boys613inschool</th>\n",
       "      <th>edu_hh_boys1417inschool</th>\n",
       "      <th>edu_hh_headattain_yrs</th>\n",
       "      <th>m_ids_y</th>\n",
       "      <th>dem_i_male</th>\n",
       "      <th>dem_i_age_yrs</th>\n",
       "      <th>dem_i_age_workage</th>\n",
       "      <th>dem_i_hhead</th>\n",
       "      <th>dem_i_children_tot</th>\n",
       "      <th>dem_i_children_inhh</th>\n",
       "      <th>dem_urban_x</th>\n",
       "      <th>dem_hh_size_x</th>\n",
       "      <th>dem_hh_meanage</th>\n",
       "      <th>dem_hh_ages0_4</th>\n",
       "      <th>dem_hh_ages5_14</th>\n",
       "      <th>dem_hh_ages15_17</th>\n",
       "      <th>dem_hh_ages0_17</th>\n",
       "      <th>dem_hh_ages15plus</th>\n",
       "      <th>dem_hh_ages18plus</th>\n",
       "      <th>dem_hh_ages65plus</th>\n",
       "      <th>dem_hh_ages20_30</th>\n",
       "      <th>dem_hh_workage</th>\n",
       "      <th>dem_hh_dependents</th>\n",
       "      <th>dem_hh_agehead</th>\n",
       "      <th>dem_hh_malehead</th>\n",
       "      <th>dem_pae_oecd_x</th>\n",
       "      <th>dem_pae_kihbs_x</th>\n",
       "      <th>Unnamed: 0_y</th>\n",
       "      <th>hh_income</th>\n",
       "      <th>hh_income_only</th>\n",
       "      <th>inc_i_unique_sources</th>\n",
       "      <th>inc_i_minpti</th>\n",
       "      <th>inc_i_meanpti</th>\n",
       "      <th>inc_i_sdpti</th>\n",
       "      <th>inc_i_maxpti</th>\n",
       "      <th>inc_i_meanpti_AGRI</th>\n",
       "      <th>inc_i_sdpti_AGRI</th>\n",
       "      <th>inc_i_meanpti_CITMPC</th>\n",
       "      <th>inc_i_sdpti_CITMPC</th>\n",
       "      <th>inc_i_meanpti_NEINCG</th>\n",
       "      <th>inc_i_sdpti_NEINCG</th>\n",
       "      <th>inc_i_meanpti_REI</th>\n",
       "      <th>inc_i_sdpti_REI</th>\n",
       "      <th>inc_i_meanpti_RIOI</th>\n",
       "      <th>inc_i_sdpti_RIOI</th>\n",
       "      <th>inc_i_meanpti_SEI</th>\n",
       "      <th>inc_i_sdpti_SEI</th>\n",
       "      <th>dom_inc_AGRI</th>\n",
       "      <th>dom_inc_CITMPC</th>\n",
       "      <th>dom_inc_NEINCG</th>\n",
       "      <th>dom_inc_REI</th>\n",
       "      <th>dom_inc_RIOI</th>\n",
       "      <th>dom_inc_SEI</th>\n",
       "      <th>Unnamed: 0</th>\n",
       "      <th>rem_i_unique_sources</th>\n",
       "      <th>rem_i_meanptrx</th>\n",
       "      <th>rem_i_sdptrx</th>\n",
       "      <th>rem_i_meanptrx_RG</th>\n",
       "      <th>rem_i_sdptrx_RG</th>\n",
       "      <th>rem_i_meanptrx_RR</th>\n",
       "      <th>rem_i_sdptrx_RR</th>\n",
       "      <th>rem_i_count_medianpti</th>\n",
       "      <th>rem_i_abs_medianpti</th>\n",
       "      <th>rem_i_net_medianpti</th>\n",
       "      <th>rem_i_count_medianpti_RG</th>\n",
       "      <th>rem_i_abs_medianpti_RG</th>\n",
       "      <th>rem_i_count_medianpti_RR</th>\n",
       "      <th>rem_i_abs_medianpti_RR</th>\n",
       "      <th>rem_i_count_medianpti_cash</th>\n",
       "      <th>rem_i_abs_medianpti_cash</th>\n",
       "      <th>rem_i_net_medianpti_cash</th>\n",
       "      <th>rem_i_count_medianpti_inkind</th>\n",
       "      <th>rem_i_abs_medianpti_inkind</th>\n",
       "      <th>rem_i_net_medianpti_inkind</th>\n",
       "      <th>rem_i_count_medianpti_mm</th>\n",
       "      <th>rem_i_abs_medianpti_mm</th>\n",
       "      <th>rem_i_net_medianpti_mm</th>\n",
       "      <th>rem_i_count_medianpti_other</th>\n",
       "      <th>rem_i_abs_medianpti_other</th>\n",
       "      <th>rem_i_net_medianpti_other</th>\n",
       "      <th>inc_hh_medianpti</th>\n",
       "      <th>con_pur_hh_medpti_y</th>\n",
       "      <th>con_prod_hh_medpti</th>\n",
       "      <th>dem_urban_y</th>\n",
       "      <th>dem_hh_size_y</th>\n",
       "      <th>dem_pae_oecd_y</th>\n",
       "      <th>dem_pae_kihbs_y</th>\n",
       "      <th>con_hh_medpti</th>\n",
       "      <th>inc_hh_pti_pae_oecd</th>\n",
       "      <th>con_hh_pti_pae_oecd</th>\n",
       "      <th>inc_hh_pti_pae_kihbs</th>\n",
       "      <th>con_hh_pti_pae_kihbs</th>\n",
       "      <th>inc_below_85_kes_oecd</th>\n",
       "      <th>con_below_85_kes_oecd</th>\n",
       "      <th>inc_below_85_kes_kihbs</th>\n",
       "      <th>con_below_85_kes_kihbs</th>\n",
       "      <th>inc_below_170_kes_oecd</th>\n",
       "      <th>con_below_170_kes_oecd</th>\n",
       "      <th>inc_below_170_kes_kihbs</th>\n",
       "      <th>con_below_170_kes_kihbs</th>\n",
       "      <th>inc_below_425_kes_oecd</th>\n",
       "      <th>con_below_425_kes_oecd</th>\n",
       "      <th>inc_below_425_kes_kihbs</th>\n",
       "      <th>con_below_425_kes_kihbs</th>\n",
       "      <th>monthly_left</th>\n",
       "      <th>hh_inf_wall_material</th>\n",
       "      <th>hh_inf_roof_material</th>\n",
       "      <th>hh_inf_floor_material</th>\n",
       "      <th>hh_inf_cookfuel_source</th>\n",
       "      <th>hh_inf_lighting_source</th>\n",
       "      <th>hh_inf_water_source</th>\n",
       "      <th>hh_inf_rooms_habitable</th>\n",
       "      <th>hh_inf_rooms_other</th>\n",
       "      <th>hh_inf_toilet_type</th>\n",
       "      <th>hh_inf_toilet_shared</th>\n",
       "      <th>hh_inf_housing_type</th>\n",
       "      <th>hh_inf_electricity_access</th>\n",
       "      <th>hh_inf_interiorcond</th>\n",
       "      <th>hh_asset_internet_access</th>\n",
       "      <th>hh_env_settingdesc</th>\n",
       "      <th>hh_env_dilapbuildings</th>\n",
       "      <th>hh_ownership_docu</th>\n",
       "      <th>hh_otherprop_any</th>\n",
       "      <th>hh_otherprop_N</th>\n",
       "      <th>hh_othershamba_N</th>\n",
       "      <th>add_prop_value</th>\n",
       "      <th>dem_i_relhead_h_or_w</th>\n",
       "      <th>dem_i_relhead_hh_head</th>\n",
       "      <th>dem_i_relhead_parent</th>\n",
       "      <th>dem_i_relhead_s_or_d</th>\n",
       "      <th>married</th>\n",
       "      <th>never_married</th>\n",
       "      <th>separated</th>\n",
       "      <th>widowed</th>\n",
       "      <th>tribe_Kalenjin</th>\n",
       "      <th>tribe_Kamba</th>\n",
       "      <th>tribe_Kikuyu</th>\n",
       "      <th>tribe_Kisii</th>\n",
       "      <th>tribe_Luhya</th>\n",
       "      <th>tribe_Luo</th>\n",
       "      <th>tribe_Mijikenda/Swahili</th>\n",
       "      <th>tribe_Taita/Taveta</th>\n",
       "    </tr>\n",
       "  </thead>\n",
       "  <tbody>\n",
       "    <tr>\n",
       "      <th>35</th>\n",
       "      <td>HH</td>\n",
       "      <td>0.571429</td>\n",
       "      <td>999</td>\n",
       "      <td>KVIHC16</td>\n",
       "      <td>115.6588</td>\n",
       "      <td>345.8901</td>\n",
       "      <td>1070</td>\n",
       "      <td>5825.0</td>\n",
       "      <td>5470.0</td>\n",
       "      <td>15380</td>\n",
       "      <td>0.0</td>\n",
       "      <td>0.0</td>\n",
       "      <td>119.0909</td>\n",
       "      <td>150.0</td>\n",
       "      <td>50.0</td>\n",
       "      <td>0</td>\n",
       "      <td>72.72727</td>\n",
       "      <td>70.0</td>\n",
       "      <td>1145.455</td>\n",
       "      <td>0.0</td>\n",
       "      <td>234.5455</td>\n",
       "      <td>230.0</td>\n",
       "      <td>0.0</td>\n",
       "      <td>0</td>\n",
       "      <td>3925.909</td>\n",
       "      <td>4040.0</td>\n",
       "      <td>0.0</td>\n",
       "      <td>0.0</td>\n",
       "      <td>0.0</td>\n",
       "      <td>0.0</td>\n",
       "      <td>50.0</td>\n",
       "      <td>0</td>\n",
       "      <td>27.27273</td>\n",
       "      <td>0.0</td>\n",
       "      <td>10.90909</td>\n",
       "      <td>0.0</td>\n",
       "      <td>15.45455</td>\n",
       "      <td>0.0</td>\n",
       "      <td>173.6364</td>\n",
       "      <td>60.0</td>\n",
       "      <td>245</td>\n",
       "      <td>3.6</td>\n",
       "      <td>3.45</td>\n",
       "      <td>4.0</td>\n",
       "      <td>3.95</td>\n",
       "      <td>0.0</td>\n",
       "      <td>0.157895</td>\n",
       "      <td>0.0</td>\n",
       "      <td>0.0</td>\n",
       "      <td>0.0</td>\n",
       "      <td>0.052632</td>\n",
       "      <td>0.052632</td>\n",
       "      <td>0.0</td>\n",
       "      <td>0.105263</td>\n",
       "      <td>0.272727</td>\n",
       "      <td>NaN</td>\n",
       "      <td>NaN</td>\n",
       "      <td>1</td>\n",
       "      <td>NaN</td>\n",
       "      <td>NaN</td>\n",
       "      <td>NaN</td>\n",
       "      <td>NaN</td>\n",
       "      <td>NaN</td>\n",
       "      <td>NaN</td>\n",
       "      <td>NaN</td>\n",
       "      <td>NaN</td>\n",
       "      <td>NaN</td>\n",
       "      <td>1</td>\n",
       "      <td>NaN</td>\n",
       "      <td>NaN</td>\n",
       "      <td>NaN</td>\n",
       "      <td>NaN</td>\n",
       "      <td>NaN</td>\n",
       "      <td>NaN</td>\n",
       "      <td>NaN</td>\n",
       "      <td>NaN</td>\n",
       "      <td>NaN</td>\n",
       "      <td>NaN</td>\n",
       "      <td>NaN</td>\n",
       "      <td>NaN</td>\n",
       "      <td>NaN</td>\n",
       "      <td>NaN</td>\n",
       "      <td>NaN</td>\n",
       "      <td>NaN</td>\n",
       "      <td>NaN</td>\n",
       "      <td>NaN</td>\n",
       "      <td>NaN</td>\n",
       "      <td>NaN</td>\n",
       "      <td>NaN</td>\n",
       "      <td>NaN</td>\n",
       "      <td>NaN</td>\n",
       "      <td>NaN</td>\n",
       "      <td>NaN</td>\n",
       "      <td>NaN</td>\n",
       "      <td>NaN</td>\n",
       "      <td>NaN</td>\n",
       "      <td>NaN</td>\n",
       "      <td>NaN</td>\n",
       "      <td>NaN</td>\n",
       "      <td>NaN</td>\n",
       "      <td>NaN</td>\n",
       "      <td>NaN</td>\n",
       "      <td>NaN</td>\n",
       "      <td>NaN</td>\n",
       "      <td>NaN</td>\n",
       "      <td>NaN</td>\n",
       "      <td>NaN</td>\n",
       "      <td>NaN</td>\n",
       "      <td>NaN</td>\n",
       "      <td>NaN</td>\n",
       "      <td>NaN</td>\n",
       "      <td>NaN</td>\n",
       "      <td>NaN</td>\n",
       "      <td>NaN</td>\n",
       "      <td>NaN</td>\n",
       "      <td>NaN</td>\n",
       "      <td>NaN</td>\n",
       "      <td>NaN</td>\n",
       "      <td>NaN</td>\n",
       "      <td>NaN</td>\n",
       "      <td>NaN</td>\n",
       "      <td>NaN</td>\n",
       "      <td>NaN</td>\n",
       "      <td>NaN</td>\n",
       "      <td>NaN</td>\n",
       "      <td>NaN</td>\n",
       "      <td>NaN</td>\n",
       "      <td>NaN</td>\n",
       "      <td>NaN</td>\n",
       "      <td>NaN</td>\n",
       "      <td>NaN</td>\n",
       "      <td>NaN</td>\n",
       "      <td>NaN</td>\n",
       "      <td>NaN</td>\n",
       "      <td>NaN</td>\n",
       "      <td>NaN</td>\n",
       "      <td>NaN</td>\n",
       "      <td>NaN</td>\n",
       "      <td>NaN</td>\n",
       "      <td>NaN</td>\n",
       "      <td>NaN</td>\n",
       "      <td>NaN</td>\n",
       "      <td>NaN</td>\n",
       "      <td>NaN</td>\n",
       "      <td>NaN</td>\n",
       "      <td>NaN</td>\n",
       "      <td>NaN</td>\n",
       "      <td>NaN</td>\n",
       "      <td>NaN</td>\n",
       "      <td>NaN</td>\n",
       "      <td>NaN</td>\n",
       "      <td>NaN</td>\n",
       "      <td>NaN</td>\n",
       "      <td>NaN</td>\n",
       "      <td>NaN</td>\n",
       "      <td>NaN</td>\n",
       "      <td>NaN</td>\n",
       "      <td>NaN</td>\n",
       "      <td>NaN</td>\n",
       "      <td>NaN</td>\n",
       "      <td>NaN</td>\n",
       "      <td>NaN</td>\n",
       "      <td>NaN</td>\n",
       "      <td>NaN</td>\n",
       "      <td>NaN</td>\n",
       "      <td>NaN</td>\n",
       "      <td>NaN</td>\n",
       "      <td>NaN</td>\n",
       "      <td>NaN</td>\n",
       "      <td>NaN</td>\n",
       "      <td>NaN</td>\n",
       "      <td>NaN</td>\n",
       "      <td>NaN</td>\n",
       "      <td>NaN</td>\n",
       "      <td>NaN</td>\n",
       "      <td>NaN</td>\n",
       "      <td>NaN</td>\n",
       "      <td>NaN</td>\n",
       "      <td>NaN</td>\n",
       "      <td>NaN</td>\n",
       "      <td>NaN</td>\n",
       "      <td>NaN</td>\n",
       "      <td>NaN</td>\n",
       "      <td>NaN</td>\n",
       "      <td>NaN</td>\n",
       "      <td>NaN</td>\n",
       "      <td>NaN</td>\n",
       "      <td>NaN</td>\n",
       "      <td>NaN</td>\n",
       "      <td>0</td>\n",
       "      <td>0</td>\n",
       "      <td>1</td>\n",
       "      <td>0</td>\n",
       "      <td>0</td>\n",
       "      <td>1</td>\n",
       "      <td>0</td>\n",
       "      <td>0</td>\n",
       "      <td>0</td>\n",
       "      <td>0</td>\n",
       "      <td>0</td>\n",
       "      <td>0</td>\n",
       "      <td>0</td>\n",
       "      <td>0</td>\n",
       "      <td>0</td>\n",
       "      <td>0</td>\n",
       "    </tr>\n",
       "  </tbody>\n",
       "</table>\n",
       "</div>"
      ],
      "text/plain": [
       "   m_ids_owner  owner_score  binarize_score   hh_ids  con_pur_hh_meanptrx  con_pur_hh_sdptrx  con_pur_hh_minpti  con_pur_hh_meanpti  con_pur_hh_medpti_x  con_pur_hh_maxpti  con_pur_hh_meanpti_ALC  con_pur_hh_medpti_ALC  con_pur_hh_meanpti_CLN  con_pur_hh_medpti_CLN  con_pur_hh_meanpti_CLTH  con_pur_hh_medpti_CLTH  con_pur_hh_meanpti_COMM  con_pur_hh_medpti_COMM  con_pur_hh_meanpti_EDU  con_pur_hh_medpti_EDU  con_pur_hh_meanpti_ENRGY  con_pur_hh_medpti_ENRGY  con_pur_hh_meanpti_ENT  con_pur_hh_medpti_ENT  con_pur_hh_meanpti_FOOD  con_pur_hh_medpti_FOOD  con_pur_hh_meanpti_H20  con_pur_hh_medpti_H20  con_pur_hh_meanpti_HSNG  con_pur_hh_medpti_HSNG  con_pur_hh_meanpti_MED  con_pur_hh_medpti_MED  con_pur_hh_meanpti_OTH  con_pur_hh_medpti_OTH  con_pur_hh_meanpti_PERS  con_pur_hh_medpti_PERS  con_pur_hh_meanpti_REL  con_pur_hh_medpti_REL  con_pur_hh_meanpti_TRNSP  con_pur_hh_medpti_TRNSP  Unnamed: 0_x  happiness  economically  relationships  confidence  police    doctor  unsafe  utilities  \\\n",
       "35          HH     0.571429             999  KVIHC16             115.6588           345.8901               1070              5825.0               5470.0              15380                     0.0                    0.0                119.0909                  150.0                     50.0                       0                 72.72727                    70.0                1145.455                    0.0                  234.5455                    230.0                     0.0                      0                 3925.909                  4040.0                     0.0                    0.0                      0.0                     0.0                    50.0                      0                27.27273                    0.0                 10.90909                     0.0                15.45455                    0.0                  173.6364                     60.0           245        3.6          3.45            4.0        3.95     0.0  0.157895     0.0        0.0   \n",
       "\n",
       "    asset_taken  miss_app  miss_inc  romantic    hungry  school_sent  m_ids_x  edu_i_enrolled  edu_i_attain  edu_i_attain_yrs  edu_hh_child613inschool  edu_hh_child1417inschool  edu_hh_girls613inschool  edu_hh_girls1417inschool  edu_hh_boys613inschool  edu_hh_boys1417inschool  edu_hh_headattain_yrs  m_ids_y  dem_i_male  dem_i_age_yrs  dem_i_age_workage  dem_i_hhead  dem_i_children_tot  dem_i_children_inhh  dem_urban_x  dem_hh_size_x  dem_hh_meanage  dem_hh_ages0_4  dem_hh_ages5_14  dem_hh_ages15_17  dem_hh_ages0_17  dem_hh_ages15plus  dem_hh_ages18plus  dem_hh_ages65plus  dem_hh_ages20_30  dem_hh_workage  dem_hh_dependents  dem_hh_agehead  dem_hh_malehead  dem_pae_oecd_x  dem_pae_kihbs_x  Unnamed: 0_y  hh_income  hh_income_only  inc_i_unique_sources  inc_i_minpti  inc_i_meanpti  inc_i_sdpti  inc_i_maxpti  inc_i_meanpti_AGRI  inc_i_sdpti_AGRI  inc_i_meanpti_CITMPC  inc_i_sdpti_CITMPC  inc_i_meanpti_NEINCG  inc_i_sdpti_NEINCG  inc_i_meanpti_REI  inc_i_sdpti_REI  inc_i_meanpti_RIOI  \\\n",
       "35          0.0  0.052632  0.052632       0.0  0.105263     0.272727      NaN             NaN             1               NaN                      NaN                       NaN                      NaN                       NaN                     NaN                      NaN                    NaN      NaN           1            NaN                NaN          NaN                 NaN                  NaN          NaN            NaN             NaN             NaN              NaN               NaN              NaN                NaN                NaN                NaN               NaN             NaN                NaN             NaN              NaN             NaN              NaN           NaN        NaN             NaN                   NaN           NaN            NaN          NaN           NaN                 NaN               NaN                   NaN                 NaN                   NaN                 NaN                NaN              NaN                 NaN   \n",
       "\n",
       "    inc_i_sdpti_RIOI  inc_i_meanpti_SEI  inc_i_sdpti_SEI  dom_inc_AGRI  dom_inc_CITMPC  dom_inc_NEINCG  dom_inc_REI  dom_inc_RIOI  dom_inc_SEI  Unnamed: 0  rem_i_unique_sources  rem_i_meanptrx  rem_i_sdptrx  rem_i_meanptrx_RG  rem_i_sdptrx_RG  rem_i_meanptrx_RR  rem_i_sdptrx_RR  rem_i_count_medianpti  rem_i_abs_medianpti  rem_i_net_medianpti  rem_i_count_medianpti_RG  rem_i_abs_medianpti_RG  rem_i_count_medianpti_RR  rem_i_abs_medianpti_RR  rem_i_count_medianpti_cash  rem_i_abs_medianpti_cash  rem_i_net_medianpti_cash  rem_i_count_medianpti_inkind  rem_i_abs_medianpti_inkind  rem_i_net_medianpti_inkind  rem_i_count_medianpti_mm  rem_i_abs_medianpti_mm  rem_i_net_medianpti_mm  rem_i_count_medianpti_other  rem_i_abs_medianpti_other  rem_i_net_medianpti_other  inc_hh_medianpti  con_pur_hh_medpti_y  con_prod_hh_medpti  dem_urban_y  dem_hh_size_y  dem_pae_oecd_y  dem_pae_kihbs_y  con_hh_medpti  inc_hh_pti_pae_oecd  con_hh_pti_pae_oecd  inc_hh_pti_pae_kihbs  con_hh_pti_pae_kihbs  \\\n",
       "35               NaN                NaN              NaN           NaN             NaN             NaN          NaN           NaN          NaN         NaN                   NaN             NaN           NaN                NaN              NaN                NaN              NaN                    NaN                  NaN                  NaN                       NaN                     NaN                       NaN                     NaN                         NaN                       NaN                       NaN                           NaN                         NaN                         NaN                       NaN                     NaN                     NaN                          NaN                        NaN                        NaN               NaN                  NaN                 NaN          NaN            NaN             NaN              NaN            NaN                  NaN                  NaN                   NaN                   NaN   \n",
       "\n",
       "    inc_below_85_kes_oecd  con_below_85_kes_oecd  inc_below_85_kes_kihbs  con_below_85_kes_kihbs  inc_below_170_kes_oecd  con_below_170_kes_oecd  inc_below_170_kes_kihbs  con_below_170_kes_kihbs  inc_below_425_kes_oecd  con_below_425_kes_oecd  inc_below_425_kes_kihbs  con_below_425_kes_kihbs  monthly_left  hh_inf_wall_material  hh_inf_roof_material  hh_inf_floor_material  hh_inf_cookfuel_source hh_inf_lighting_source  hh_inf_water_source  hh_inf_rooms_habitable  hh_inf_rooms_other  hh_inf_toilet_type  hh_inf_toilet_shared  hh_inf_housing_type  hh_inf_electricity_access  hh_inf_interiorcond  hh_asset_internet_access  hh_env_settingdesc  hh_env_dilapbuildings  hh_ownership_docu  hh_otherprop_any  hh_otherprop_N  hh_othershamba_N  add_prop_value  dem_i_relhead_h_or_w  dem_i_relhead_hh_head  dem_i_relhead_parent  dem_i_relhead_s_or_d  married  never_married  separated  widowed  tribe_Kalenjin  tribe_Kamba  tribe_Kikuyu  tribe_Kisii  tribe_Luhya  tribe_Luo  tribe_Mijikenda/Swahili  \\\n",
       "35                    NaN                    NaN                     NaN                     NaN                     NaN                     NaN                      NaN                      NaN                     NaN                     NaN                      NaN                      NaN           NaN                   NaN                   NaN                    NaN                     NaN                    NaN                  NaN                     NaN                 NaN                 NaN                   NaN                  NaN                        NaN                  NaN                       NaN                 NaN                    NaN                NaN               NaN             NaN               NaN             NaN                     0                      0                     1                     0        0              1          0        0               0            0             0            0            0          0                        0   \n",
       "\n",
       "    tribe_Taita/Taveta  \n",
       "35                   0  "
      ]
     },
     "execution_count": 68,
     "metadata": {},
     "output_type": "execute_result"
    }
   ],
   "source": [
    "data.loc[data['m_ids_owner']==\"HH\"]"
   ]
  },
  {
   "cell_type": "code",
   "execution_count": 69,
   "metadata": {},
   "outputs": [],
   "source": [
    "data = data.drop(35)"
   ]
  },
  {
   "cell_type": "code",
   "execution_count": 70,
   "metadata": {},
   "outputs": [],
   "source": [
    "data.to_csv('data_merged_nocatvars.csv', index = False)"
   ]
  },
  {
   "cell_type": "markdown",
   "metadata": {},
   "source": [
    "## I'm only going to take those variables that are complete from here; later once Dinara's ds is fixed we can do more with imputation and stuff: "
   ]
  },
  {
   "cell_type": "code",
   "execution_count": 71,
   "metadata": {},
   "outputs": [],
   "source": [
    "data = pd.read_csv('data_merged_nocatvars.csv')"
   ]
  },
  {
   "cell_type": "code",
   "execution_count": 72,
   "metadata": {},
   "outputs": [
    {
     "data": {
      "text/plain": [
       "m_ids_owner                     135.0\n",
       "owner_score                     135.0\n",
       "binarize_score                  135.0\n",
       "con_pur_hh_meanptrx             135.0\n",
       "con_pur_hh_sdptrx               135.0\n",
       "con_pur_hh_minpti               135.0\n",
       "con_pur_hh_meanpti              135.0\n",
       "con_pur_hh_medpti_x             135.0\n",
       "con_pur_hh_maxpti               135.0\n",
       "con_pur_hh_meanpti_ALC          135.0\n",
       "con_pur_hh_medpti_ALC           135.0\n",
       "con_pur_hh_meanpti_CLN          135.0\n",
       "con_pur_hh_medpti_CLN           135.0\n",
       "con_pur_hh_meanpti_CLTH         135.0\n",
       "con_pur_hh_medpti_CLTH          135.0\n",
       "con_pur_hh_meanpti_COMM         135.0\n",
       "con_pur_hh_medpti_COMM          135.0\n",
       "con_pur_hh_meanpti_EDU          135.0\n",
       "con_pur_hh_medpti_EDU           135.0\n",
       "con_pur_hh_meanpti_ENRGY        135.0\n",
       "con_pur_hh_medpti_ENRGY         135.0\n",
       "con_pur_hh_meanpti_ENT          135.0\n",
       "con_pur_hh_medpti_ENT           135.0\n",
       "con_pur_hh_meanpti_FOOD         135.0\n",
       "con_pur_hh_medpti_FOOD          135.0\n",
       "con_pur_hh_meanpti_H20          135.0\n",
       "con_pur_hh_medpti_H20           135.0\n",
       "con_pur_hh_meanpti_HSNG         135.0\n",
       "con_pur_hh_medpti_HSNG          135.0\n",
       "con_pur_hh_meanpti_MED          135.0\n",
       "con_pur_hh_medpti_MED           135.0\n",
       "con_pur_hh_meanpti_OTH          135.0\n",
       "con_pur_hh_medpti_OTH           135.0\n",
       "con_pur_hh_meanpti_PERS         135.0\n",
       "con_pur_hh_medpti_PERS          135.0\n",
       "con_pur_hh_meanpti_REL          135.0\n",
       "con_pur_hh_medpti_REL           135.0\n",
       "con_pur_hh_meanpti_TRNSP        135.0\n",
       "con_pur_hh_medpti_TRNSP         135.0\n",
       "Unnamed: 0_x                    135.0\n",
       "happiness                       135.0\n",
       "economically                    135.0\n",
       "relationships                   135.0\n",
       "confidence                      135.0\n",
       "police                          135.0\n",
       "doctor                          135.0\n",
       "unsafe                          135.0\n",
       "utilities                       135.0\n",
       "asset_taken                     135.0\n",
       "miss_app                        135.0\n",
       "miss_inc                        135.0\n",
       "romantic                        135.0\n",
       "hungry                          135.0\n",
       "school_sent                     135.0\n",
       "m_ids_x                         135.0\n",
       "edu_i_enrolled                  135.0\n",
       "edu_i_attain                    135.0\n",
       "edu_i_attain_yrs                133.0\n",
       "edu_hh_child613inschool          99.0\n",
       "edu_hh_child1417inschool         81.0\n",
       "edu_hh_girls613inschool          62.0\n",
       "edu_hh_girls1417inschool         54.0\n",
       "edu_hh_boys613inschool           68.0\n",
       "edu_hh_boys1417inschool          42.0\n",
       "edu_hh_headattain_yrs           133.0\n",
       "m_ids_y                         135.0\n",
       "dem_i_male                      135.0\n",
       "dem_i_age_yrs                   135.0\n",
       "dem_i_age_workage               135.0\n",
       "dem_i_hhead                     135.0\n",
       "dem_i_children_tot              128.0\n",
       "dem_i_children_inhh             128.0\n",
       "dem_urban_x                     135.0\n",
       "dem_hh_size_x                   135.0\n",
       "dem_hh_meanage                  135.0\n",
       "dem_hh_ages0_4                  135.0\n",
       "dem_hh_ages5_14                 135.0\n",
       "dem_hh_ages15_17                135.0\n",
       "dem_hh_ages0_17                 135.0\n",
       "dem_hh_ages15plus               135.0\n",
       "dem_hh_ages18plus               135.0\n",
       "dem_hh_ages65plus               135.0\n",
       "dem_hh_ages20_30                135.0\n",
       "dem_hh_workage                  135.0\n",
       "dem_hh_dependents               135.0\n",
       "dem_hh_agehead                  135.0\n",
       "dem_hh_malehead                 135.0\n",
       "dem_pae_oecd_x                  135.0\n",
       "dem_pae_kihbs_x                 135.0\n",
       "Unnamed: 0_y                    134.0\n",
       "hh_income                       134.0\n",
       "hh_income_only                  134.0\n",
       "inc_i_unique_sources            134.0\n",
       "inc_i_minpti                    134.0\n",
       "inc_i_meanpti                   134.0\n",
       "inc_i_sdpti                     123.0\n",
       "inc_i_maxpti                    134.0\n",
       "inc_i_meanpti_AGRI              134.0\n",
       "inc_i_sdpti_AGRI                123.0\n",
       "inc_i_meanpti_CITMPC            134.0\n",
       "inc_i_sdpti_CITMPC              123.0\n",
       "inc_i_meanpti_NEINCG            134.0\n",
       "inc_i_sdpti_NEINCG              123.0\n",
       "inc_i_meanpti_REI               134.0\n",
       "inc_i_sdpti_REI                 123.0\n",
       "inc_i_meanpti_RIOI              134.0\n",
       "inc_i_sdpti_RIOI                123.0\n",
       "inc_i_meanpti_SEI               134.0\n",
       "inc_i_sdpti_SEI                 123.0\n",
       "dom_inc_AGRI                    134.0\n",
       "dom_inc_CITMPC                  134.0\n",
       "dom_inc_NEINCG                  134.0\n",
       "dom_inc_REI                     134.0\n",
       "dom_inc_RIOI                    134.0\n",
       "dom_inc_SEI                     134.0\n",
       "Unnamed: 0                      116.0\n",
       "rem_i_unique_sources            116.0\n",
       "rem_i_meanptrx                  116.0\n",
       "rem_i_sdptrx                    109.0\n",
       "rem_i_meanptrx_RG                42.0\n",
       "rem_i_sdptrx_RG                  32.0\n",
       "rem_i_meanptrx_RR                74.0\n",
       "rem_i_sdptrx_RR                  70.0\n",
       "rem_i_count_medianpti           116.0\n",
       "rem_i_abs_medianpti             116.0\n",
       "rem_i_net_medianpti             116.0\n",
       "rem_i_count_medianpti_RG        116.0\n",
       "rem_i_abs_medianpti_RG          116.0\n",
       "rem_i_count_medianpti_RR        116.0\n",
       "rem_i_abs_medianpti_RR          116.0\n",
       "rem_i_count_medianpti_cash      116.0\n",
       "rem_i_abs_medianpti_cash        116.0\n",
       "rem_i_net_medianpti_cash        116.0\n",
       "rem_i_count_medianpti_inkind    116.0\n",
       "rem_i_abs_medianpti_inkind      116.0\n",
       "rem_i_net_medianpti_inkind      116.0\n",
       "rem_i_count_medianpti_mm        116.0\n",
       "rem_i_abs_medianpti_mm          116.0\n",
       "rem_i_net_medianpti_mm          116.0\n",
       "rem_i_count_medianpti_other     116.0\n",
       "rem_i_abs_medianpti_other       116.0\n",
       "rem_i_net_medianpti_other       116.0\n",
       "inc_hh_medianpti                116.0\n",
       "con_pur_hh_medpti_y             116.0\n",
       "con_prod_hh_medpti              116.0\n",
       "dem_urban_y                     116.0\n",
       "dem_hh_size_y                   116.0\n",
       "dem_pae_oecd_y                  116.0\n",
       "dem_pae_kihbs_y                 116.0\n",
       "con_hh_medpti                   116.0\n",
       "inc_hh_pti_pae_oecd             116.0\n",
       "con_hh_pti_pae_oecd             116.0\n",
       "inc_hh_pti_pae_kihbs            116.0\n",
       "con_hh_pti_pae_kihbs            116.0\n",
       "inc_below_85_kes_oecd           116.0\n",
       "con_below_85_kes_oecd           116.0\n",
       "inc_below_85_kes_kihbs          116.0\n",
       "con_below_85_kes_kihbs          116.0\n",
       "inc_below_170_kes_oecd          116.0\n",
       "con_below_170_kes_oecd          116.0\n",
       "inc_below_170_kes_kihbs         116.0\n",
       "con_below_170_kes_kihbs         116.0\n",
       "inc_below_425_kes_oecd          116.0\n",
       "con_below_425_kes_oecd          116.0\n",
       "inc_below_425_kes_kihbs         116.0\n",
       "con_below_425_kes_kihbs         116.0\n",
       "monthly_left                    116.0\n",
       "hh_inf_wall_material            113.0\n",
       "hh_inf_roof_material            112.0\n",
       "hh_inf_floor_material           113.0\n",
       "hh_inf_cookfuel_source          115.0\n",
       "hh_inf_water_source             115.0\n",
       "hh_inf_rooms_habitable          114.0\n",
       "hh_inf_rooms_other              114.0\n",
       "hh_inf_toilet_type              114.0\n",
       "hh_inf_toilet_shared            108.0\n",
       "hh_inf_housing_type             113.0\n",
       "hh_inf_electricity_access       109.0\n",
       "hh_inf_interiorcond             111.0\n",
       "hh_asset_internet_access        114.0\n",
       "hh_env_settingdesc              115.0\n",
       "hh_env_dilapbuildings           106.0\n",
       "hh_ownership_docu                82.0\n",
       "hh_otherprop_any                114.0\n",
       "hh_otherprop_N                   35.0\n",
       "hh_othershamba_N                 23.0\n",
       "add_prop_value                    0.0\n",
       "dem_i_relhead_h_or_w            135.0\n",
       "dem_i_relhead_hh_head           135.0\n",
       "dem_i_relhead_parent            135.0\n",
       "dem_i_relhead_s_or_d            135.0\n",
       "married                         135.0\n",
       "never_married                   135.0\n",
       "separated                       135.0\n",
       "widowed                         135.0\n",
       "tribe_Kalenjin                  135.0\n",
       "tribe_Kamba                     135.0\n",
       "tribe_Kikuyu                    135.0\n",
       "tribe_Kisii                     135.0\n",
       "tribe_Luhya                     135.0\n",
       "tribe_Luo                       135.0\n",
       "tribe_Mijikenda/Swahili         135.0\n",
       "tribe_Taita/Taveta              135.0\n",
       "Name: count, dtype: float64"
      ]
     },
     "execution_count": 72,
     "metadata": {},
     "output_type": "execute_result"
    }
   ],
   "source": [
    "data.describe().loc['count']"
   ]
  },
  {
   "cell_type": "code",
   "execution_count": 75,
   "metadata": {
    "scrolled": true
   },
   "outputs": [
    {
     "data": {
      "text/html": [
       "<div>\n",
       "<style scoped>\n",
       "    .dataframe tbody tr th:only-of-type {\n",
       "        vertical-align: middle;\n",
       "    }\n",
       "\n",
       "    .dataframe tbody tr th {\n",
       "        vertical-align: top;\n",
       "    }\n",
       "\n",
       "    .dataframe thead th {\n",
       "        text-align: right;\n",
       "    }\n",
       "</style>\n",
       "<table border=\"1\" class=\"dataframe\">\n",
       "  <thead>\n",
       "    <tr style=\"text-align: right;\">\n",
       "      <th></th>\n",
       "      <th>m_ids_owner</th>\n",
       "      <th>owner_score</th>\n",
       "      <th>binarize_score</th>\n",
       "      <th>hh_ids</th>\n",
       "      <th>con_pur_hh_meanptrx</th>\n",
       "      <th>con_pur_hh_sdptrx</th>\n",
       "      <th>con_pur_hh_minpti</th>\n",
       "      <th>con_pur_hh_meanpti</th>\n",
       "      <th>con_pur_hh_medpti_x</th>\n",
       "      <th>con_pur_hh_maxpti</th>\n",
       "      <th>con_pur_hh_meanpti_ALC</th>\n",
       "      <th>con_pur_hh_medpti_ALC</th>\n",
       "      <th>con_pur_hh_meanpti_CLN</th>\n",
       "      <th>con_pur_hh_medpti_CLN</th>\n",
       "      <th>con_pur_hh_meanpti_CLTH</th>\n",
       "      <th>con_pur_hh_medpti_CLTH</th>\n",
       "      <th>con_pur_hh_meanpti_COMM</th>\n",
       "      <th>con_pur_hh_medpti_COMM</th>\n",
       "      <th>con_pur_hh_meanpti_EDU</th>\n",
       "      <th>con_pur_hh_medpti_EDU</th>\n",
       "      <th>con_pur_hh_meanpti_ENRGY</th>\n",
       "      <th>con_pur_hh_medpti_ENRGY</th>\n",
       "      <th>con_pur_hh_meanpti_ENT</th>\n",
       "      <th>con_pur_hh_medpti_ENT</th>\n",
       "      <th>con_pur_hh_meanpti_FOOD</th>\n",
       "      <th>con_pur_hh_medpti_FOOD</th>\n",
       "      <th>con_pur_hh_meanpti_H20</th>\n",
       "      <th>con_pur_hh_medpti_H20</th>\n",
       "      <th>con_pur_hh_meanpti_HSNG</th>\n",
       "      <th>con_pur_hh_medpti_HSNG</th>\n",
       "      <th>con_pur_hh_meanpti_MED</th>\n",
       "      <th>con_pur_hh_medpti_MED</th>\n",
       "      <th>con_pur_hh_meanpti_OTH</th>\n",
       "      <th>con_pur_hh_medpti_OTH</th>\n",
       "      <th>con_pur_hh_meanpti_PERS</th>\n",
       "      <th>con_pur_hh_medpti_PERS</th>\n",
       "      <th>con_pur_hh_meanpti_REL</th>\n",
       "      <th>con_pur_hh_medpti_REL</th>\n",
       "      <th>con_pur_hh_meanpti_TRNSP</th>\n",
       "      <th>con_pur_hh_medpti_TRNSP</th>\n",
       "      <th>Unnamed: 0_x</th>\n",
       "      <th>happiness</th>\n",
       "      <th>economically</th>\n",
       "      <th>relationships</th>\n",
       "      <th>confidence</th>\n",
       "      <th>police</th>\n",
       "      <th>doctor</th>\n",
       "      <th>unsafe</th>\n",
       "      <th>utilities</th>\n",
       "      <th>asset_taken</th>\n",
       "      <th>miss_app</th>\n",
       "      <th>miss_inc</th>\n",
       "      <th>romantic</th>\n",
       "      <th>hungry</th>\n",
       "      <th>school_sent</th>\n",
       "      <th>m_ids_x</th>\n",
       "      <th>edu_i_enrolled</th>\n",
       "      <th>edu_i_attain</th>\n",
       "      <th>edu_i_attain_yrs</th>\n",
       "      <th>edu_hh_child613inschool</th>\n",
       "      <th>edu_hh_child1417inschool</th>\n",
       "      <th>edu_hh_girls613inschool</th>\n",
       "      <th>edu_hh_girls1417inschool</th>\n",
       "      <th>edu_hh_boys613inschool</th>\n",
       "      <th>edu_hh_boys1417inschool</th>\n",
       "      <th>edu_hh_headattain_yrs</th>\n",
       "      <th>m_ids_y</th>\n",
       "      <th>dem_i_male</th>\n",
       "      <th>dem_i_age_yrs</th>\n",
       "      <th>dem_i_age_workage</th>\n",
       "      <th>dem_i_hhead</th>\n",
       "      <th>dem_i_children_tot</th>\n",
       "      <th>dem_i_children_inhh</th>\n",
       "      <th>dem_urban_x</th>\n",
       "      <th>dem_hh_size_x</th>\n",
       "      <th>dem_hh_meanage</th>\n",
       "      <th>dem_hh_ages0_4</th>\n",
       "      <th>dem_hh_ages5_14</th>\n",
       "      <th>dem_hh_ages15_17</th>\n",
       "      <th>dem_hh_ages0_17</th>\n",
       "      <th>dem_hh_ages15plus</th>\n",
       "      <th>dem_hh_ages18plus</th>\n",
       "      <th>dem_hh_ages65plus</th>\n",
       "      <th>dem_hh_ages20_30</th>\n",
       "      <th>dem_hh_workage</th>\n",
       "      <th>dem_hh_dependents</th>\n",
       "      <th>dem_hh_agehead</th>\n",
       "      <th>dem_hh_malehead</th>\n",
       "      <th>dem_pae_oecd_x</th>\n",
       "      <th>dem_pae_kihbs_x</th>\n",
       "      <th>Unnamed: 0_y</th>\n",
       "      <th>hh_income</th>\n",
       "      <th>hh_income_only</th>\n",
       "      <th>inc_i_unique_sources</th>\n",
       "      <th>inc_i_minpti</th>\n",
       "      <th>inc_i_meanpti</th>\n",
       "      <th>inc_i_sdpti</th>\n",
       "      <th>inc_i_maxpti</th>\n",
       "      <th>inc_i_meanpti_AGRI</th>\n",
       "      <th>inc_i_sdpti_AGRI</th>\n",
       "      <th>inc_i_meanpti_CITMPC</th>\n",
       "      <th>inc_i_sdpti_CITMPC</th>\n",
       "      <th>inc_i_meanpti_NEINCG</th>\n",
       "      <th>inc_i_sdpti_NEINCG</th>\n",
       "      <th>inc_i_meanpti_REI</th>\n",
       "      <th>inc_i_sdpti_REI</th>\n",
       "      <th>inc_i_meanpti_RIOI</th>\n",
       "      <th>inc_i_sdpti_RIOI</th>\n",
       "      <th>inc_i_meanpti_SEI</th>\n",
       "      <th>inc_i_sdpti_SEI</th>\n",
       "      <th>dom_inc_AGRI</th>\n",
       "      <th>dom_inc_CITMPC</th>\n",
       "      <th>dom_inc_NEINCG</th>\n",
       "      <th>dom_inc_REI</th>\n",
       "      <th>dom_inc_RIOI</th>\n",
       "      <th>dom_inc_SEI</th>\n",
       "      <th>Unnamed: 0</th>\n",
       "      <th>rem_i_unique_sources</th>\n",
       "      <th>rem_i_meanptrx</th>\n",
       "      <th>rem_i_sdptrx</th>\n",
       "      <th>rem_i_meanptrx_RG</th>\n",
       "      <th>rem_i_sdptrx_RG</th>\n",
       "      <th>rem_i_meanptrx_RR</th>\n",
       "      <th>rem_i_sdptrx_RR</th>\n",
       "      <th>rem_i_count_medianpti</th>\n",
       "      <th>rem_i_abs_medianpti</th>\n",
       "      <th>rem_i_net_medianpti</th>\n",
       "      <th>rem_i_count_medianpti_RG</th>\n",
       "      <th>rem_i_abs_medianpti_RG</th>\n",
       "      <th>rem_i_count_medianpti_RR</th>\n",
       "      <th>rem_i_abs_medianpti_RR</th>\n",
       "      <th>rem_i_count_medianpti_cash</th>\n",
       "      <th>rem_i_abs_medianpti_cash</th>\n",
       "      <th>rem_i_net_medianpti_cash</th>\n",
       "      <th>rem_i_count_medianpti_inkind</th>\n",
       "      <th>rem_i_abs_medianpti_inkind</th>\n",
       "      <th>rem_i_net_medianpti_inkind</th>\n",
       "      <th>rem_i_count_medianpti_mm</th>\n",
       "      <th>rem_i_abs_medianpti_mm</th>\n",
       "      <th>rem_i_net_medianpti_mm</th>\n",
       "      <th>rem_i_count_medianpti_other</th>\n",
       "      <th>rem_i_abs_medianpti_other</th>\n",
       "      <th>rem_i_net_medianpti_other</th>\n",
       "      <th>inc_hh_medianpti</th>\n",
       "      <th>con_pur_hh_medpti_y</th>\n",
       "      <th>con_prod_hh_medpti</th>\n",
       "      <th>dem_urban_y</th>\n",
       "      <th>dem_hh_size_y</th>\n",
       "      <th>dem_pae_oecd_y</th>\n",
       "      <th>dem_pae_kihbs_y</th>\n",
       "      <th>con_hh_medpti</th>\n",
       "      <th>inc_hh_pti_pae_oecd</th>\n",
       "      <th>con_hh_pti_pae_oecd</th>\n",
       "      <th>inc_hh_pti_pae_kihbs</th>\n",
       "      <th>con_hh_pti_pae_kihbs</th>\n",
       "      <th>inc_below_85_kes_oecd</th>\n",
       "      <th>con_below_85_kes_oecd</th>\n",
       "      <th>inc_below_85_kes_kihbs</th>\n",
       "      <th>con_below_85_kes_kihbs</th>\n",
       "      <th>inc_below_170_kes_oecd</th>\n",
       "      <th>con_below_170_kes_oecd</th>\n",
       "      <th>inc_below_170_kes_kihbs</th>\n",
       "      <th>con_below_170_kes_kihbs</th>\n",
       "      <th>inc_below_425_kes_oecd</th>\n",
       "      <th>con_below_425_kes_oecd</th>\n",
       "      <th>inc_below_425_kes_kihbs</th>\n",
       "      <th>con_below_425_kes_kihbs</th>\n",
       "      <th>monthly_left</th>\n",
       "      <th>hh_inf_wall_material</th>\n",
       "      <th>hh_inf_roof_material</th>\n",
       "      <th>hh_inf_floor_material</th>\n",
       "      <th>hh_inf_cookfuel_source</th>\n",
       "      <th>hh_inf_lighting_source</th>\n",
       "      <th>hh_inf_water_source</th>\n",
       "      <th>hh_inf_rooms_habitable</th>\n",
       "      <th>hh_inf_rooms_other</th>\n",
       "      <th>hh_inf_toilet_type</th>\n",
       "      <th>hh_inf_toilet_shared</th>\n",
       "      <th>hh_inf_housing_type</th>\n",
       "      <th>hh_inf_electricity_access</th>\n",
       "      <th>hh_inf_interiorcond</th>\n",
       "      <th>hh_asset_internet_access</th>\n",
       "      <th>hh_env_settingdesc</th>\n",
       "      <th>hh_env_dilapbuildings</th>\n",
       "      <th>hh_ownership_docu</th>\n",
       "      <th>hh_otherprop_any</th>\n",
       "      <th>hh_otherprop_N</th>\n",
       "      <th>hh_othershamba_N</th>\n",
       "      <th>add_prop_value</th>\n",
       "      <th>dem_i_relhead_h_or_w</th>\n",
       "      <th>dem_i_relhead_hh_head</th>\n",
       "      <th>dem_i_relhead_parent</th>\n",
       "      <th>dem_i_relhead_s_or_d</th>\n",
       "      <th>married</th>\n",
       "      <th>never_married</th>\n",
       "      <th>separated</th>\n",
       "      <th>widowed</th>\n",
       "      <th>tribe_Kalenjin</th>\n",
       "      <th>tribe_Kamba</th>\n",
       "      <th>tribe_Kikuyu</th>\n",
       "      <th>tribe_Kisii</th>\n",
       "      <th>tribe_Luhya</th>\n",
       "      <th>tribe_Luo</th>\n",
       "      <th>tribe_Mijikenda/Swahili</th>\n",
       "      <th>tribe_Taita/Taveta</th>\n",
       "    </tr>\n",
       "  </thead>\n",
       "  <tbody>\n",
       "    <tr>\n",
       "      <th>121</th>\n",
       "      <td>65134382764500000</td>\n",
       "      <td>1.0</td>\n",
       "      <td>1</td>\n",
       "      <td>KMAKL10</td>\n",
       "      <td>122.5856</td>\n",
       "      <td>224.0656</td>\n",
       "      <td>2008</td>\n",
       "      <td>3711.0</td>\n",
       "      <td>3005.0</td>\n",
       "      <td>6545</td>\n",
       "      <td>0.0</td>\n",
       "      <td>0.0</td>\n",
       "      <td>73.63636</td>\n",
       "      <td>70.0</td>\n",
       "      <td>247.2727</td>\n",
       "      <td>0</td>\n",
       "      <td>28.18182</td>\n",
       "      <td>10.0</td>\n",
       "      <td>876.0909</td>\n",
       "      <td>400.0</td>\n",
       "      <td>112.2727</td>\n",
       "      <td>115.0</td>\n",
       "      <td>0.0</td>\n",
       "      <td>0</td>\n",
       "      <td>1595.636</td>\n",
       "      <td>1840.0</td>\n",
       "      <td>0.0</td>\n",
       "      <td>0.0</td>\n",
       "      <td>0.0</td>\n",
       "      <td>0.0</td>\n",
       "      <td>158.6364</td>\n",
       "      <td>150</td>\n",
       "      <td>5.454545</td>\n",
       "      <td>0.0</td>\n",
       "      <td>40.63636</td>\n",
       "      <td>25.0</td>\n",
       "      <td>156.8182</td>\n",
       "      <td>75.0</td>\n",
       "      <td>416.3636</td>\n",
       "      <td>0.0</td>\n",
       "      <td>96</td>\n",
       "      <td>3.090909</td>\n",
       "      <td>3.0</td>\n",
       "      <td>4.181818</td>\n",
       "      <td>4.045455</td>\n",
       "      <td>0.0</td>\n",
       "      <td>0.052632</td>\n",
       "      <td>0.0</td>\n",
       "      <td>0.0</td>\n",
       "      <td>0.0</td>\n",
       "      <td>0.0</td>\n",
       "      <td>0.052632</td>\n",
       "      <td>0.0</td>\n",
       "      <td>0.0</td>\n",
       "      <td>0.357143</td>\n",
       "      <td>6.513438e+16</td>\n",
       "      <td>1.0</td>\n",
       "      <td>1</td>\n",
       "      <td>0.0</td>\n",
       "      <td>0.666667</td>\n",
       "      <td>1.0</td>\n",
       "      <td>0.5</td>\n",
       "      <td>NaN</td>\n",
       "      <td>1.0</td>\n",
       "      <td>1.0</td>\n",
       "      <td>8.0</td>\n",
       "      <td>6.513438e+16</td>\n",
       "      <td>0</td>\n",
       "      <td>17.0</td>\n",
       "      <td>1.0</td>\n",
       "      <td>0.0</td>\n",
       "      <td>NaN</td>\n",
       "      <td>NaN</td>\n",
       "      <td>0.0</td>\n",
       "      <td>8.0</td>\n",
       "      <td>16.5</td>\n",
       "      <td>1.0</td>\n",
       "      <td>4.0</td>\n",
       "      <td>1.0</td>\n",
       "      <td>6.0</td>\n",
       "      <td>3.0</td>\n",
       "      <td>2.0</td>\n",
       "      <td>0.0</td>\n",
       "      <td>0.0</td>\n",
       "      <td>0.375</td>\n",
       "      <td>0.625</td>\n",
       "      <td>38.0</td>\n",
       "      <td>0.0</td>\n",
       "      <td>4.9</td>\n",
       "      <td>5.84</td>\n",
       "      <td>NaN</td>\n",
       "      <td>NaN</td>\n",
       "      <td>NaN</td>\n",
       "      <td>NaN</td>\n",
       "      <td>NaN</td>\n",
       "      <td>NaN</td>\n",
       "      <td>NaN</td>\n",
       "      <td>NaN</td>\n",
       "      <td>NaN</td>\n",
       "      <td>NaN</td>\n",
       "      <td>NaN</td>\n",
       "      <td>NaN</td>\n",
       "      <td>NaN</td>\n",
       "      <td>NaN</td>\n",
       "      <td>NaN</td>\n",
       "      <td>NaN</td>\n",
       "      <td>NaN</td>\n",
       "      <td>NaN</td>\n",
       "      <td>NaN</td>\n",
       "      <td>NaN</td>\n",
       "      <td>NaN</td>\n",
       "      <td>NaN</td>\n",
       "      <td>NaN</td>\n",
       "      <td>NaN</td>\n",
       "      <td>NaN</td>\n",
       "      <td>NaN</td>\n",
       "      <td>NaN</td>\n",
       "      <td>NaN</td>\n",
       "      <td>NaN</td>\n",
       "      <td>NaN</td>\n",
       "      <td>NaN</td>\n",
       "      <td>NaN</td>\n",
       "      <td>NaN</td>\n",
       "      <td>NaN</td>\n",
       "      <td>NaN</td>\n",
       "      <td>NaN</td>\n",
       "      <td>NaN</td>\n",
       "      <td>NaN</td>\n",
       "      <td>NaN</td>\n",
       "      <td>NaN</td>\n",
       "      <td>NaN</td>\n",
       "      <td>NaN</td>\n",
       "      <td>NaN</td>\n",
       "      <td>NaN</td>\n",
       "      <td>NaN</td>\n",
       "      <td>NaN</td>\n",
       "      <td>NaN</td>\n",
       "      <td>NaN</td>\n",
       "      <td>NaN</td>\n",
       "      <td>NaN</td>\n",
       "      <td>NaN</td>\n",
       "      <td>NaN</td>\n",
       "      <td>NaN</td>\n",
       "      <td>NaN</td>\n",
       "      <td>NaN</td>\n",
       "      <td>NaN</td>\n",
       "      <td>NaN</td>\n",
       "      <td>NaN</td>\n",
       "      <td>NaN</td>\n",
       "      <td>NaN</td>\n",
       "      <td>NaN</td>\n",
       "      <td>NaN</td>\n",
       "      <td>NaN</td>\n",
       "      <td>NaN</td>\n",
       "      <td>NaN</td>\n",
       "      <td>NaN</td>\n",
       "      <td>NaN</td>\n",
       "      <td>NaN</td>\n",
       "      <td>NaN</td>\n",
       "      <td>NaN</td>\n",
       "      <td>NaN</td>\n",
       "      <td>NaN</td>\n",
       "      <td>NaN</td>\n",
       "      <td>NaN</td>\n",
       "      <td>NaN</td>\n",
       "      <td>NaN</td>\n",
       "      <td>NaN</td>\n",
       "      <td>NaN</td>\n",
       "      <td>NaN</td>\n",
       "      <td>NaN</td>\n",
       "      <td>NaN</td>\n",
       "      <td>NaN</td>\n",
       "      <td>NaN</td>\n",
       "      <td>NaN</td>\n",
       "      <td>NaN</td>\n",
       "      <td>NaN</td>\n",
       "      <td>NaN</td>\n",
       "      <td>NaN</td>\n",
       "      <td>NaN</td>\n",
       "      <td>NaN</td>\n",
       "      <td>NaN</td>\n",
       "      <td>NaN</td>\n",
       "      <td>NaN</td>\n",
       "      <td>NaN</td>\n",
       "      <td>NaN</td>\n",
       "      <td>NaN</td>\n",
       "      <td>NaN</td>\n",
       "      <td>NaN</td>\n",
       "      <td>NaN</td>\n",
       "      <td>0</td>\n",
       "      <td>0</td>\n",
       "      <td>0</td>\n",
       "      <td>1</td>\n",
       "      <td>0</td>\n",
       "      <td>1</td>\n",
       "      <td>0</td>\n",
       "      <td>0</td>\n",
       "      <td>0</td>\n",
       "      <td>1</td>\n",
       "      <td>0</td>\n",
       "      <td>0</td>\n",
       "      <td>0</td>\n",
       "      <td>0</td>\n",
       "      <td>0</td>\n",
       "      <td>0</td>\n",
       "    </tr>\n",
       "  </tbody>\n",
       "</table>\n",
       "</div>"
      ],
      "text/plain": [
       "           m_ids_owner  owner_score  binarize_score   hh_ids  con_pur_hh_meanptrx  con_pur_hh_sdptrx  con_pur_hh_minpti  con_pur_hh_meanpti  con_pur_hh_medpti_x  con_pur_hh_maxpti  con_pur_hh_meanpti_ALC  con_pur_hh_medpti_ALC  con_pur_hh_meanpti_CLN  con_pur_hh_medpti_CLN  con_pur_hh_meanpti_CLTH  con_pur_hh_medpti_CLTH  con_pur_hh_meanpti_COMM  con_pur_hh_medpti_COMM  con_pur_hh_meanpti_EDU  con_pur_hh_medpti_EDU  con_pur_hh_meanpti_ENRGY  con_pur_hh_medpti_ENRGY  con_pur_hh_meanpti_ENT  con_pur_hh_medpti_ENT  con_pur_hh_meanpti_FOOD  con_pur_hh_medpti_FOOD  con_pur_hh_meanpti_H20  con_pur_hh_medpti_H20  con_pur_hh_meanpti_HSNG  con_pur_hh_medpti_HSNG  con_pur_hh_meanpti_MED  con_pur_hh_medpti_MED  con_pur_hh_meanpti_OTH  con_pur_hh_medpti_OTH  con_pur_hh_meanpti_PERS  con_pur_hh_medpti_PERS  con_pur_hh_meanpti_REL  con_pur_hh_medpti_REL  con_pur_hh_meanpti_TRNSP  con_pur_hh_medpti_TRNSP  Unnamed: 0_x  happiness  economically  relationships  confidence  police    doctor  unsafe  \\\n",
       "121  65134382764500000          1.0               1  KMAKL10             122.5856           224.0656               2008              3711.0               3005.0               6545                     0.0                    0.0                73.63636                   70.0                 247.2727                       0                 28.18182                    10.0                876.0909                  400.0                  112.2727                    115.0                     0.0                      0                 1595.636                  1840.0                     0.0                    0.0                      0.0                     0.0                158.6364                    150                5.454545                    0.0                 40.63636                    25.0                156.8182                   75.0                  416.3636                      0.0            96   3.090909           3.0       4.181818    4.045455     0.0  0.052632     0.0   \n",
       "\n",
       "     utilities  asset_taken  miss_app  miss_inc  romantic  hungry  school_sent       m_ids_x  edu_i_enrolled  edu_i_attain  edu_i_attain_yrs  edu_hh_child613inschool  edu_hh_child1417inschool  edu_hh_girls613inschool  edu_hh_girls1417inschool  edu_hh_boys613inschool  edu_hh_boys1417inschool  edu_hh_headattain_yrs       m_ids_y  dem_i_male  dem_i_age_yrs  dem_i_age_workage  dem_i_hhead  dem_i_children_tot  dem_i_children_inhh  dem_urban_x  dem_hh_size_x  dem_hh_meanage  dem_hh_ages0_4  dem_hh_ages5_14  dem_hh_ages15_17  dem_hh_ages0_17  dem_hh_ages15plus  dem_hh_ages18plus  dem_hh_ages65plus  dem_hh_ages20_30  dem_hh_workage  dem_hh_dependents  dem_hh_agehead  dem_hh_malehead  dem_pae_oecd_x  dem_pae_kihbs_x  Unnamed: 0_y  hh_income  hh_income_only  inc_i_unique_sources  inc_i_minpti  inc_i_meanpti  inc_i_sdpti  inc_i_maxpti  inc_i_meanpti_AGRI  inc_i_sdpti_AGRI  inc_i_meanpti_CITMPC  inc_i_sdpti_CITMPC  inc_i_meanpti_NEINCG  inc_i_sdpti_NEINCG  inc_i_meanpti_REI  inc_i_sdpti_REI  \\\n",
       "121        0.0          0.0       0.0  0.052632       0.0     0.0     0.357143  6.513438e+16             1.0             1               0.0                 0.666667                       1.0                      0.5                       NaN                     1.0                      1.0                    8.0  6.513438e+16           0           17.0                1.0          0.0                 NaN                  NaN          0.0            8.0            16.5             1.0              4.0               1.0              6.0                3.0                2.0                0.0               0.0           0.375              0.625            38.0              0.0             4.9             5.84           NaN        NaN             NaN                   NaN           NaN            NaN          NaN           NaN                 NaN               NaN                   NaN                 NaN                   NaN                 NaN                NaN              NaN   \n",
       "\n",
       "     inc_i_meanpti_RIOI  inc_i_sdpti_RIOI  inc_i_meanpti_SEI  inc_i_sdpti_SEI  dom_inc_AGRI  dom_inc_CITMPC  dom_inc_NEINCG  dom_inc_REI  dom_inc_RIOI  dom_inc_SEI  Unnamed: 0  rem_i_unique_sources  rem_i_meanptrx  rem_i_sdptrx  rem_i_meanptrx_RG  rem_i_sdptrx_RG  rem_i_meanptrx_RR  rem_i_sdptrx_RR  rem_i_count_medianpti  rem_i_abs_medianpti  rem_i_net_medianpti  rem_i_count_medianpti_RG  rem_i_abs_medianpti_RG  rem_i_count_medianpti_RR  rem_i_abs_medianpti_RR  rem_i_count_medianpti_cash  rem_i_abs_medianpti_cash  rem_i_net_medianpti_cash  rem_i_count_medianpti_inkind  rem_i_abs_medianpti_inkind  rem_i_net_medianpti_inkind  rem_i_count_medianpti_mm  rem_i_abs_medianpti_mm  rem_i_net_medianpti_mm  rem_i_count_medianpti_other  rem_i_abs_medianpti_other  rem_i_net_medianpti_other  inc_hh_medianpti  con_pur_hh_medpti_y  con_prod_hh_medpti  dem_urban_y  dem_hh_size_y  dem_pae_oecd_y  dem_pae_kihbs_y  con_hh_medpti  inc_hh_pti_pae_oecd  con_hh_pti_pae_oecd  inc_hh_pti_pae_kihbs  \\\n",
       "121                 NaN               NaN                NaN              NaN           NaN             NaN             NaN          NaN           NaN          NaN         NaN                   NaN             NaN           NaN                NaN              NaN                NaN              NaN                    NaN                  NaN                  NaN                       NaN                     NaN                       NaN                     NaN                         NaN                       NaN                       NaN                           NaN                         NaN                         NaN                       NaN                     NaN                     NaN                          NaN                        NaN                        NaN               NaN                  NaN                 NaN          NaN            NaN             NaN              NaN            NaN                  NaN                  NaN                   NaN   \n",
       "\n",
       "     con_hh_pti_pae_kihbs  inc_below_85_kes_oecd  con_below_85_kes_oecd  inc_below_85_kes_kihbs  con_below_85_kes_kihbs  inc_below_170_kes_oecd  con_below_170_kes_oecd  inc_below_170_kes_kihbs  con_below_170_kes_kihbs  inc_below_425_kes_oecd  con_below_425_kes_oecd  inc_below_425_kes_kihbs  con_below_425_kes_kihbs  monthly_left  hh_inf_wall_material  hh_inf_roof_material  hh_inf_floor_material  hh_inf_cookfuel_source hh_inf_lighting_source  hh_inf_water_source  hh_inf_rooms_habitable  hh_inf_rooms_other  hh_inf_toilet_type  hh_inf_toilet_shared  hh_inf_housing_type  hh_inf_electricity_access  hh_inf_interiorcond  hh_asset_internet_access  hh_env_settingdesc  hh_env_dilapbuildings  hh_ownership_docu  hh_otherprop_any  hh_otherprop_N  hh_othershamba_N  add_prop_value  dem_i_relhead_h_or_w  dem_i_relhead_hh_head  dem_i_relhead_parent  dem_i_relhead_s_or_d  married  never_married  separated  widowed  tribe_Kalenjin  tribe_Kamba  tribe_Kikuyu  tribe_Kisii  tribe_Luhya  tribe_Luo  \\\n",
       "121                   NaN                    NaN                    NaN                     NaN                     NaN                     NaN                     NaN                      NaN                      NaN                     NaN                     NaN                      NaN                      NaN           NaN                   NaN                   NaN                    NaN                     NaN                    NaN                  NaN                     NaN                 NaN                 NaN                   NaN                  NaN                        NaN                  NaN                       NaN                 NaN                    NaN                NaN               NaN             NaN               NaN             NaN                     0                      0                     0                     1        0              1          0        0               0            1             0            0            0          0   \n",
       "\n",
       "     tribe_Mijikenda/Swahili  tribe_Taita/Taveta  \n",
       "121                        0                   0  "
      ]
     },
     "execution_count": 75,
     "metadata": {},
     "output_type": "execute_result"
    }
   ],
   "source": [
    "data[data[\"inc_i_meanpti\"].isnull()]"
   ]
  },
  {
   "cell_type": "markdown",
   "metadata": {},
   "source": [
    "There seems to be one person that has a loan but has no income information: 65134382764500000."
   ]
  },
  {
   "cell_type": "code",
   "execution_count": 45,
   "metadata": {},
   "outputs": [],
   "source": [
    "cols_to_remove = data.describe().count().index[data.describe().loc['count']<135]"
   ]
  },
  {
   "cell_type": "code",
   "execution_count": 46,
   "metadata": {},
   "outputs": [],
   "source": [
    "data = data.drop(cols_to_remove, axis= 1)"
   ]
  },
  {
   "cell_type": "code",
   "execution_count": 47,
   "metadata": {},
   "outputs": [
    {
     "data": {
      "text/plain": [
       "135.0    95\n",
       "Name: count, dtype: int64"
      ]
     },
     "execution_count": 47,
     "metadata": {},
     "output_type": "execute_result"
    }
   ],
   "source": [
    "data.describe().loc['count'].value_counts()"
   ]
  },
  {
   "cell_type": "code",
   "execution_count": 48,
   "metadata": {},
   "outputs": [],
   "source": [
    "data.to_csv('data_merged_noMissingData.csv', index = False)"
   ]
  },
  {
   "cell_type": "markdown",
   "metadata": {},
   "source": [
    "## Removing unnecessary variables: "
   ]
  },
  {
   "cell_type": "markdown",
   "metadata": {},
   "source": [
    "This shows how many columns have 139 entries"
   ]
  },
  {
   "cell_type": "code",
   "execution_count": 49,
   "metadata": {},
   "outputs": [],
   "source": [
    "data = pd.read_csv('data_merged_nocatvars.csv')"
   ]
  },
  {
   "cell_type": "code",
   "execution_count": 50,
   "metadata": {},
   "outputs": [
    {
     "data": {
      "text/plain": [
       "(135, 205)"
      ]
     },
     "execution_count": 50,
     "metadata": {},
     "output_type": "execute_result"
    }
   ],
   "source": [
    "data.shape"
   ]
  },
  {
   "cell_type": "code",
   "execution_count": 51,
   "metadata": {},
   "outputs": [
    {
     "data": {
      "text/plain": [
       "135.0    95\n",
       "116.0    47\n",
       "134.0    19\n",
       "123.0     7\n",
       "114.0     5\n",
       "115.0     3\n",
       "113.0     3\n",
       "133.0     2\n",
       "42.0      2\n",
       "128.0     2\n",
       "109.0     2\n",
       "99.0      1\n",
       "81.0      1\n",
       "62.0      1\n",
       "54.0      1\n",
       "68.0      1\n",
       "0.0       1\n",
       "23.0      1\n",
       "74.0      1\n",
       "70.0      1\n",
       "112.0     1\n",
       "108.0     1\n",
       "111.0     1\n",
       "106.0     1\n",
       "82.0      1\n",
       "35.0      1\n",
       "32.0      1\n",
       "Name: count, dtype: int64"
      ]
     },
     "execution_count": 51,
     "metadata": {},
     "output_type": "execute_result"
    }
   ],
   "source": [
    "pd.DataFrame(data.describe()).loc['count'].value_counts()"
   ]
  },
  {
   "cell_type": "markdown",
   "metadata": {},
   "source": [
    "98 cols have 138 entries (e.g. no NA values) "
   ]
  },
  {
   "cell_type": "markdown",
   "metadata": {},
   "source": [
    "If we don't have information for over half the population, going to just delete those columns: "
   ]
  },
  {
   "cell_type": "code",
   "execution_count": 52,
   "metadata": {},
   "outputs": [
    {
     "data": {
      "text/plain": [
       "m_ids_owner                     False\n",
       "owner_score                     False\n",
       "binarize_score                  False\n",
       "con_pur_hh_meanptrx             False\n",
       "con_pur_hh_sdptrx               False\n",
       "con_pur_hh_minpti               False\n",
       "con_pur_hh_meanpti              False\n",
       "con_pur_hh_medpti_x             False\n",
       "con_pur_hh_maxpti               False\n",
       "con_pur_hh_meanpti_ALC          False\n",
       "con_pur_hh_medpti_ALC           False\n",
       "con_pur_hh_meanpti_CLN          False\n",
       "con_pur_hh_medpti_CLN           False\n",
       "con_pur_hh_meanpti_CLTH         False\n",
       "con_pur_hh_medpti_CLTH          False\n",
       "con_pur_hh_meanpti_COMM         False\n",
       "con_pur_hh_medpti_COMM          False\n",
       "con_pur_hh_meanpti_EDU          False\n",
       "con_pur_hh_medpti_EDU           False\n",
       "con_pur_hh_meanpti_ENRGY        False\n",
       "con_pur_hh_medpti_ENRGY         False\n",
       "con_pur_hh_meanpti_ENT          False\n",
       "con_pur_hh_medpti_ENT           False\n",
       "con_pur_hh_meanpti_FOOD         False\n",
       "con_pur_hh_medpti_FOOD          False\n",
       "con_pur_hh_meanpti_H20          False\n",
       "con_pur_hh_medpti_H20           False\n",
       "con_pur_hh_meanpti_HSNG         False\n",
       "con_pur_hh_medpti_HSNG          False\n",
       "con_pur_hh_meanpti_MED          False\n",
       "con_pur_hh_medpti_MED           False\n",
       "con_pur_hh_meanpti_OTH          False\n",
       "con_pur_hh_medpti_OTH           False\n",
       "con_pur_hh_meanpti_PERS         False\n",
       "con_pur_hh_medpti_PERS          False\n",
       "con_pur_hh_meanpti_REL          False\n",
       "con_pur_hh_medpti_REL           False\n",
       "con_pur_hh_meanpti_TRNSP        False\n",
       "con_pur_hh_medpti_TRNSP         False\n",
       "Unnamed: 0_x                    False\n",
       "happiness                       False\n",
       "economically                    False\n",
       "relationships                   False\n",
       "confidence                      False\n",
       "police                          False\n",
       "doctor                          False\n",
       "unsafe                          False\n",
       "utilities                       False\n",
       "asset_taken                     False\n",
       "miss_app                        False\n",
       "miss_inc                        False\n",
       "romantic                        False\n",
       "hungry                          False\n",
       "school_sent                     False\n",
       "m_ids_x                         False\n",
       "edu_i_enrolled                  False\n",
       "edu_i_attain                    False\n",
       "edu_i_attain_yrs                False\n",
       "edu_hh_child613inschool         False\n",
       "edu_hh_child1417inschool        False\n",
       "edu_hh_girls613inschool          True\n",
       "edu_hh_girls1417inschool         True\n",
       "edu_hh_boys613inschool           True\n",
       "edu_hh_boys1417inschool          True\n",
       "edu_hh_headattain_yrs           False\n",
       "m_ids_y                         False\n",
       "dem_i_male                      False\n",
       "dem_i_age_yrs                   False\n",
       "dem_i_age_workage               False\n",
       "dem_i_hhead                     False\n",
       "dem_i_children_tot              False\n",
       "dem_i_children_inhh             False\n",
       "dem_urban_x                     False\n",
       "dem_hh_size_x                   False\n",
       "dem_hh_meanage                  False\n",
       "dem_hh_ages0_4                  False\n",
       "dem_hh_ages5_14                 False\n",
       "dem_hh_ages15_17                False\n",
       "dem_hh_ages0_17                 False\n",
       "dem_hh_ages15plus               False\n",
       "dem_hh_ages18plus               False\n",
       "dem_hh_ages65plus               False\n",
       "dem_hh_ages20_30                False\n",
       "dem_hh_workage                  False\n",
       "dem_hh_dependents               False\n",
       "dem_hh_agehead                  False\n",
       "dem_hh_malehead                 False\n",
       "dem_pae_oecd_x                  False\n",
       "dem_pae_kihbs_x                 False\n",
       "Unnamed: 0_y                    False\n",
       "hh_income                       False\n",
       "hh_income_only                  False\n",
       "inc_i_unique_sources            False\n",
       "inc_i_minpti                    False\n",
       "inc_i_meanpti                   False\n",
       "inc_i_sdpti                     False\n",
       "inc_i_maxpti                    False\n",
       "inc_i_meanpti_AGRI              False\n",
       "inc_i_sdpti_AGRI                False\n",
       "inc_i_meanpti_CITMPC            False\n",
       "inc_i_sdpti_CITMPC              False\n",
       "inc_i_meanpti_NEINCG            False\n",
       "inc_i_sdpti_NEINCG              False\n",
       "inc_i_meanpti_REI               False\n",
       "inc_i_sdpti_REI                 False\n",
       "inc_i_meanpti_RIOI              False\n",
       "inc_i_sdpti_RIOI                False\n",
       "inc_i_meanpti_SEI               False\n",
       "inc_i_sdpti_SEI                 False\n",
       "dom_inc_AGRI                    False\n",
       "dom_inc_CITMPC                  False\n",
       "dom_inc_NEINCG                  False\n",
       "dom_inc_REI                     False\n",
       "dom_inc_RIOI                    False\n",
       "dom_inc_SEI                     False\n",
       "Unnamed: 0                      False\n",
       "rem_i_unique_sources            False\n",
       "rem_i_meanptrx                  False\n",
       "rem_i_sdptrx                    False\n",
       "rem_i_meanptrx_RG                True\n",
       "rem_i_sdptrx_RG                  True\n",
       "rem_i_meanptrx_RR               False\n",
       "rem_i_sdptrx_RR                 False\n",
       "rem_i_count_medianpti           False\n",
       "rem_i_abs_medianpti             False\n",
       "rem_i_net_medianpti             False\n",
       "rem_i_count_medianpti_RG        False\n",
       "rem_i_abs_medianpti_RG          False\n",
       "rem_i_count_medianpti_RR        False\n",
       "rem_i_abs_medianpti_RR          False\n",
       "rem_i_count_medianpti_cash      False\n",
       "rem_i_abs_medianpti_cash        False\n",
       "rem_i_net_medianpti_cash        False\n",
       "rem_i_count_medianpti_inkind    False\n",
       "rem_i_abs_medianpti_inkind      False\n",
       "rem_i_net_medianpti_inkind      False\n",
       "rem_i_count_medianpti_mm        False\n",
       "rem_i_abs_medianpti_mm          False\n",
       "rem_i_net_medianpti_mm          False\n",
       "rem_i_count_medianpti_other     False\n",
       "rem_i_abs_medianpti_other       False\n",
       "rem_i_net_medianpti_other       False\n",
       "inc_hh_medianpti                False\n",
       "con_pur_hh_medpti_y             False\n",
       "con_prod_hh_medpti              False\n",
       "dem_urban_y                     False\n",
       "dem_hh_size_y                   False\n",
       "dem_pae_oecd_y                  False\n",
       "dem_pae_kihbs_y                 False\n",
       "con_hh_medpti                   False\n",
       "inc_hh_pti_pae_oecd             False\n",
       "con_hh_pti_pae_oecd             False\n",
       "inc_hh_pti_pae_kihbs            False\n",
       "con_hh_pti_pae_kihbs            False\n",
       "inc_below_85_kes_oecd           False\n",
       "con_below_85_kes_oecd           False\n",
       "inc_below_85_kes_kihbs          False\n",
       "con_below_85_kes_kihbs          False\n",
       "inc_below_170_kes_oecd          False\n",
       "con_below_170_kes_oecd          False\n",
       "inc_below_170_kes_kihbs         False\n",
       "con_below_170_kes_kihbs         False\n",
       "inc_below_425_kes_oecd          False\n",
       "con_below_425_kes_oecd          False\n",
       "inc_below_425_kes_kihbs         False\n",
       "con_below_425_kes_kihbs         False\n",
       "monthly_left                    False\n",
       "hh_inf_wall_material            False\n",
       "hh_inf_roof_material            False\n",
       "hh_inf_floor_material           False\n",
       "hh_inf_cookfuel_source          False\n",
       "hh_inf_water_source             False\n",
       "hh_inf_rooms_habitable          False\n",
       "hh_inf_rooms_other              False\n",
       "hh_inf_toilet_type              False\n",
       "hh_inf_toilet_shared            False\n",
       "hh_inf_housing_type             False\n",
       "hh_inf_electricity_access       False\n",
       "hh_inf_interiorcond             False\n",
       "hh_asset_internet_access        False\n",
       "hh_env_settingdesc              False\n",
       "hh_env_dilapbuildings           False\n",
       "hh_ownership_docu               False\n",
       "hh_otherprop_any                False\n",
       "hh_otherprop_N                   True\n",
       "hh_othershamba_N                 True\n",
       "add_prop_value                   True\n",
       "dem_i_relhead_h_or_w            False\n",
       "dem_i_relhead_hh_head           False\n",
       "dem_i_relhead_parent            False\n",
       "dem_i_relhead_s_or_d            False\n",
       "married                         False\n",
       "never_married                   False\n",
       "separated                       False\n",
       "widowed                         False\n",
       "tribe_Kalenjin                  False\n",
       "tribe_Kamba                     False\n",
       "tribe_Kikuyu                    False\n",
       "tribe_Kisii                     False\n",
       "tribe_Luhya                     False\n",
       "tribe_Luo                       False\n",
       "tribe_Mijikenda/Swahili         False\n",
       "tribe_Taita/Taveta              False\n",
       "Name: count, dtype: bool"
      ]
     },
     "execution_count": 52,
     "metadata": {},
     "output_type": "execute_result"
    }
   ],
   "source": [
    "data.describe().loc['count']<69"
   ]
  },
  {
   "cell_type": "code",
   "execution_count": 53,
   "metadata": {},
   "outputs": [],
   "source": [
    "cols_to_remove = data.describe().count().index[data.describe().loc['count']<69]"
   ]
  },
  {
   "cell_type": "code",
   "execution_count": 54,
   "metadata": {},
   "outputs": [],
   "source": [
    "data = data.drop(cols_to_remove, axis= 1)"
   ]
  },
  {
   "cell_type": "code",
   "execution_count": 55,
   "metadata": {},
   "outputs": [
    {
     "data": {
      "text/plain": [
       "135.0    95\n",
       "116.0    47\n",
       "134.0    19\n",
       "123.0     7\n",
       "114.0     5\n",
       "115.0     3\n",
       "113.0     3\n",
       "133.0     2\n",
       "128.0     2\n",
       "109.0     2\n",
       "99.0      1\n",
       "81.0      1\n",
       "82.0      1\n",
       "106.0     1\n",
       "70.0      1\n",
       "112.0     1\n",
       "108.0     1\n",
       "111.0     1\n",
       "74.0      1\n",
       "Name: count, dtype: int64"
      ]
     },
     "execution_count": 55,
     "metadata": {},
     "output_type": "execute_result"
    }
   ],
   "source": [
    "data.describe().loc['count'].value_counts()"
   ]
  },
  {
   "cell_type": "code",
   "execution_count": 56,
   "metadata": {},
   "outputs": [
    {
     "data": {
      "text/plain": [
       "(135, 196)"
      ]
     },
     "execution_count": 56,
     "metadata": {},
     "output_type": "execute_result"
    }
   ],
   "source": [
    "data.shape"
   ]
  },
  {
   "cell_type": "code",
   "execution_count": null,
   "metadata": {},
   "outputs": [],
   "source": []
  },
  {
   "cell_type": "code",
   "execution_count": null,
   "metadata": {},
   "outputs": [],
   "source": []
  },
  {
   "cell_type": "code",
   "execution_count": null,
   "metadata": {},
   "outputs": [],
   "source": []
  }
 ],
 "metadata": {
  "kernelspec": {
   "display_name": "Python 3",
   "language": "python",
   "name": "python3"
  },
  "language_info": {
   "codemirror_mode": {
    "name": "ipython",
    "version": 3
   },
   "file_extension": ".py",
   "mimetype": "text/x-python",
   "name": "python",
   "nbconvert_exporter": "python",
   "pygments_lexer": "ipython3",
   "version": "3.7.3"
  }
 },
 "nbformat": 4,
 "nbformat_minor": 2
}
