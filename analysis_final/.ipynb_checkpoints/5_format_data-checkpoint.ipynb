{
 "cells": [
  {
   "cell_type": "code",
   "execution_count": 52,
   "metadata": {},
   "outputs": [],
   "source": [
    "import pandas as pd \n",
    "import os \n",
    "import glob \n",
    "from collections import Counter"
   ]
  },
  {
   "cell_type": "markdown",
   "metadata": {},
   "source": [
    "# Merging"
   ]
  },
  {
   "cell_type": "code",
   "execution_count": 53,
   "metadata": {},
   "outputs": [
    {
     "data": {
      "text/plain": [
       "['loan_outcomes_33_150.csv',\n",
       " 'individual_outcomes_33_150.csv',\n",
       " 'binary_train.csv',\n",
       " 'all_data.csv',\n",
       " 'binary_test.csv',\n",
       " 'data_merged_noMissingData.csv',\n",
       " 'data.csv',\n",
       " 'diaries_trx_trunc_loans_start_bal.csv',\n",
       " 'binary_y_train.csv',\n",
       " 'data_merged_nocatvars.csv',\n",
       " 'binary_x_train.csv',\n",
       " 'binary_x_test.csv',\n",
       " 'binary_y_test.csv']"
      ]
     },
     "execution_count": 53,
     "metadata": {},
     "output_type": "execute_result"
    }
   ],
   "source": [
    "glob.glob(\"*csv\")"
   ]
  },
  {
   "cell_type": "code",
   "execution_count": 54,
   "metadata": {},
   "outputs": [],
   "source": [
    "pd.set_option('display.max_rows', 500)\n",
    "pd.set_option('display.max_columns', 500)\n",
    "pd.set_option('display.width', 1000)"
   ]
  },
  {
   "cell_type": "code",
   "execution_count": 55,
   "metadata": {},
   "outputs": [],
   "source": [
    "data = pd.read_csv('all_data.csv', dtype = {'m_ids_owner': 'object'})"
   ]
  },
  {
   "cell_type": "code",
   "execution_count": 56,
   "metadata": {},
   "outputs": [
    {
     "data": {
      "text/plain": [
       "Index(['m_ids_owner', 'owner_score', 'binarize_score', 'hh_ids', 'con_pur_hh_meanptrx', 'con_pur_hh_sdptrx', 'con_pur_hh_minpti', 'con_pur_hh_meanpti', 'con_pur_hh_medpti_x', 'con_pur_hh_maxpti',\n",
       "       ...\n",
       "       'inc_below_85_kes_kihbs', 'con_below_85_kes_kihbs', 'inc_below_170_kes_oecd', 'con_below_170_kes_oecd', 'inc_below_170_kes_kihbs', 'con_below_170_kes_kihbs', 'inc_below_425_kes_oecd', 'con_below_425_kes_oecd', 'inc_below_425_kes_kihbs', 'con_below_425_kes_kihbs'], dtype='object', length=138)"
      ]
     },
     "execution_count": 56,
     "metadata": {},
     "output_type": "execute_result"
    }
   ],
   "source": [
    "data.columns"
   ]
  },
  {
   "cell_type": "markdown",
   "metadata": {},
   "source": [
    "# Formatting: "
   ]
  },
  {
   "cell_type": "code",
   "execution_count": null,
   "metadata": {},
   "outputs": [],
   "source": []
  },
  {
   "cell_type": "markdown",
   "metadata": {},
   "source": [
    "## Dealing with the categorical variables: "
   ]
  },
  {
   "cell_type": "code",
   "execution_count": 57,
   "metadata": {},
   "outputs": [
    {
     "data": {
      "text/plain": [
       "m_ids_owner         object\n",
       "hh_ids              object\n",
       "edu_i_attain        object\n",
       "dem_i_male          object\n",
       "dem_i_age_5yrgrp    object\n",
       "dem_i_relhead       object\n",
       "dem_i_marstat       object\n",
       "dem_i_tribe         object\n",
       "inc_i_dom           object\n",
       "dtype: object"
      ]
     },
     "execution_count": 57,
     "metadata": {},
     "output_type": "execute_result"
    }
   ],
   "source": [
    "data.dtypes[data.dtypes == 'object']"
   ]
  },
  {
   "cell_type": "markdown",
   "metadata": {},
   "source": [
    "#### Dropping age group b/c we have age itself: "
   ]
  },
  {
   "cell_type": "code",
   "execution_count": 58,
   "metadata": {},
   "outputs": [],
   "source": [
    "data = data.drop(['dem_i_age_5yrgrp'], axis = 1)"
   ]
  },
  {
   "cell_type": "markdown",
   "metadata": {},
   "source": [
    "#### Reformatting the edu_i_attain entries: "
   ]
  },
  {
   "cell_type": "code",
   "execution_count": 59,
   "metadata": {},
   "outputs": [
    {
     "data": {
      "text/plain": [
       "Primary (some or complete)           71\n",
       "Secondary (some or complete)         52\n",
       "Post-secondary (some or complete)    11\n",
       "No education                          3\n",
       "Nursery/ Kindergarten                 1\n",
       "Name: edu_i_attain, dtype: int64"
      ]
     },
     "execution_count": 59,
     "metadata": {},
     "output_type": "execute_result"
    }
   ],
   "source": [
    "data.edu_i_attain.value_counts()"
   ]
  },
  {
   "cell_type": "code",
   "execution_count": 60,
   "metadata": {},
   "outputs": [],
   "source": [
    "new_edu = []\n",
    "for idx, row in data.iterrows(): \n",
    "    if 'Primary' in str(row['edu_i_attain']): \n",
    "        new_edu.append(2)\n",
    "    elif 'Secondary' in str(row['edu_i_attain']): \n",
    "        new_edu.append(3)\n",
    "    elif 'Post-secondary' in str(row['edu_i_attain']): \n",
    "        new_edu.append(4)\n",
    "    elif 'education' in str(row['edu_i_attain']): \n",
    "        new_edu.append(0)\n",
    "    else: \n",
    "        new_edu.append(1)"
   ]
  },
  {
   "cell_type": "code",
   "execution_count": 61,
   "metadata": {},
   "outputs": [
    {
     "data": {
      "text/plain": [
       "Counter({0: 3, 1: 2, 2: 71, 3: 52, 4: 11})"
      ]
     },
     "execution_count": 61,
     "metadata": {},
     "output_type": "execute_result"
    }
   ],
   "source": [
    "Counter(new_edu)"
   ]
  },
  {
   "cell_type": "code",
   "execution_count": 62,
   "metadata": {},
   "outputs": [],
   "source": [
    "data.edu_i_attain = new_edu"
   ]
  },
  {
   "cell_type": "code",
   "execution_count": 63,
   "metadata": {},
   "outputs": [
    {
     "data": {
      "text/plain": [
       "2    71\n",
       "3    52\n",
       "4    11\n",
       "0     3\n",
       "1     2\n",
       "Name: edu_i_attain, dtype: int64"
      ]
     },
     "execution_count": 63,
     "metadata": {},
     "output_type": "execute_result"
    }
   ],
   "source": [
    "data.edu_i_attain.value_counts()"
   ]
  },
  {
   "cell_type": "markdown",
   "metadata": {},
   "source": [
    "#### Reformatting the dem_i_male entries: "
   ]
  },
  {
   "cell_type": "code",
   "execution_count": 64,
   "metadata": {},
   "outputs": [
    {
     "data": {
      "text/plain": [
       "Female    100\n",
       "Male       38\n",
       "Name: dem_i_male, dtype: int64"
      ]
     },
     "execution_count": 64,
     "metadata": {},
     "output_type": "execute_result"
    }
   ],
   "source": [
    "data.dem_i_male.value_counts()"
   ]
  },
  {
   "cell_type": "code",
   "execution_count": 65,
   "metadata": {},
   "outputs": [],
   "source": [
    "new_male = []\n",
    "for idx, row in data.iterrows(): \n",
    "    if 'Female' in str(row['dem_i_male']): \n",
    "        new_male.append(0)\n",
    "    else: \n",
    "        new_male.append(1)"
   ]
  },
  {
   "cell_type": "code",
   "execution_count": 66,
   "metadata": {},
   "outputs": [],
   "source": [
    "data.dem_i_male = new_male"
   ]
  },
  {
   "cell_type": "code",
   "execution_count": 67,
   "metadata": {},
   "outputs": [
    {
     "data": {
      "text/plain": [
       "m_ids_owner      object\n",
       "hh_ids           object\n",
       "dem_i_relhead    object\n",
       "dem_i_marstat    object\n",
       "dem_i_tribe      object\n",
       "inc_i_dom        object\n",
       "dtype: object"
      ]
     },
     "execution_count": 67,
     "metadata": {},
     "output_type": "execute_result"
    }
   ],
   "source": [
    "data.dtypes[data.dtypes == 'object']"
   ]
  },
  {
   "cell_type": "markdown",
   "metadata": {},
   "source": [
    "#### Reformatting the dem_i_relhead entries: "
   ]
  },
  {
   "cell_type": "code",
   "execution_count": 68,
   "metadata": {
    "scrolled": true
   },
   "outputs": [
    {
     "data": {
      "text/plain": [
       "Household head               92\n",
       "Husband or wife              42\n",
       "Son or daughter               3\n",
       "Parent (mother or father)     1\n",
       "Name: dem_i_relhead, dtype: int64"
      ]
     },
     "execution_count": 68,
     "metadata": {},
     "output_type": "execute_result"
    }
   ],
   "source": [
    "data.dem_i_relhead.value_counts()"
   ]
  },
  {
   "cell_type": "code",
   "execution_count": 69,
   "metadata": {},
   "outputs": [],
   "source": [
    "new_relhead = []\n",
    "for idx, row in data.iterrows(): \n",
    "    if 'Household' in str(row['dem_i_relhead']): \n",
    "        new_relhead.append('hh_head')\n",
    "    elif 'Husband' in str(row['dem_i_relhead']):\n",
    "        new_relhead.append('h_or_w')\n",
    "    elif 'Son' in str(row['dem_i_relhead']):\n",
    "        new_relhead.append('s_or_d')    \n",
    "    else: \n",
    "        new_relhead.append('parent')\n",
    "        "
   ]
  },
  {
   "cell_type": "code",
   "execution_count": 70,
   "metadata": {},
   "outputs": [],
   "source": [
    "data.dem_i_relhead = new_relhead"
   ]
  },
  {
   "cell_type": "code",
   "execution_count": 71,
   "metadata": {},
   "outputs": [],
   "source": [
    "new_relhead = pd.get_dummies(data.dem_i_relhead, prefix = 'dem_i_relhead')"
   ]
  },
  {
   "cell_type": "code",
   "execution_count": 72,
   "metadata": {},
   "outputs": [],
   "source": [
    "data = pd.concat([data.reset_index(drop=True), new_relhead], axis=1)"
   ]
  },
  {
   "cell_type": "code",
   "execution_count": 73,
   "metadata": {},
   "outputs": [],
   "source": [
    "data = data.drop('dem_i_relhead', axis = 1)"
   ]
  },
  {
   "cell_type": "code",
   "execution_count": 74,
   "metadata": {},
   "outputs": [],
   "source": [
    "# data.columns"
   ]
  },
  {
   "cell_type": "code",
   "execution_count": 75,
   "metadata": {},
   "outputs": [
    {
     "data": {
      "text/plain": [
       "m_ids_owner      object\n",
       "hh_ids           object\n",
       "dem_i_marstat    object\n",
       "dem_i_tribe      object\n",
       "inc_i_dom        object\n",
       "dtype: object"
      ]
     },
     "execution_count": 75,
     "metadata": {},
     "output_type": "execute_result"
    }
   ],
   "source": [
    "data.dtypes[data.dtypes == 'object']"
   ]
  },
  {
   "cell_type": "markdown",
   "metadata": {},
   "source": [
    "#### Reformatting the dem_i_marstat entries: "
   ]
  },
  {
   "cell_type": "code",
   "execution_count": 76,
   "metadata": {
    "scrolled": true
   },
   "outputs": [
    {
     "data": {
      "text/plain": [
       "Married/living together         104\n",
       "Widowed                          17\n",
       "Separated/divorced                9\n",
       "Never married/lived together      8\n",
       "Name: dem_i_marstat, dtype: int64"
      ]
     },
     "execution_count": 76,
     "metadata": {},
     "output_type": "execute_result"
    }
   ],
   "source": [
    "data.dem_i_marstat.value_counts()"
   ]
  },
  {
   "cell_type": "code",
   "execution_count": 77,
   "metadata": {},
   "outputs": [],
   "source": [
    "new_marstat = []\n",
    "for idx, row in data.iterrows(): \n",
    "    if 'Married' in str(row['dem_i_marstat']): \n",
    "        new_marstat.append('married')\n",
    "    elif 'Widowed' in str(row['dem_i_marstat']):\n",
    "        new_marstat.append('widowed')\n",
    "    elif 'Separated' in str(row['dem_i_marstat']):\n",
    "        new_marstat.append('separated')    \n",
    "    else: \n",
    "        new_marstat.append('never_married')\n",
    "        "
   ]
  },
  {
   "cell_type": "code",
   "execution_count": 78,
   "metadata": {},
   "outputs": [],
   "source": [
    "data.dem_i_marstat = new_marstat"
   ]
  },
  {
   "cell_type": "code",
   "execution_count": 79,
   "metadata": {},
   "outputs": [],
   "source": [
    "new_marstat = pd.get_dummies(data.dem_i_marstat)"
   ]
  },
  {
   "cell_type": "code",
   "execution_count": 80,
   "metadata": {},
   "outputs": [],
   "source": [
    "data = pd.concat([data.reset_index(drop=True), new_marstat], axis=1)"
   ]
  },
  {
   "cell_type": "code",
   "execution_count": 81,
   "metadata": {},
   "outputs": [],
   "source": [
    "data = data.drop('dem_i_marstat', axis = 1)"
   ]
  },
  {
   "cell_type": "code",
   "execution_count": 82,
   "metadata": {
    "scrolled": false
   },
   "outputs": [
    {
     "data": {
      "text/plain": [
       "m_ids_owner    object\n",
       "hh_ids         object\n",
       "dem_i_tribe    object\n",
       "inc_i_dom      object\n",
       "dtype: object"
      ]
     },
     "execution_count": 82,
     "metadata": {},
     "output_type": "execute_result"
    }
   ],
   "source": [
    "data.dtypes[data.dtypes == 'object']"
   ]
  },
  {
   "cell_type": "markdown",
   "metadata": {},
   "source": [
    "#### Reformatting the dem_i_tribe entries: "
   ]
  },
  {
   "cell_type": "code",
   "execution_count": 83,
   "metadata": {
    "scrolled": true
   },
   "outputs": [
    {
     "data": {
      "text/plain": [
       "Luhya                40\n",
       "Kamba                33\n",
       "Kalenjin             25\n",
       "Mijikenda/Swahili    15\n",
       "Luo                  11\n",
       "Kikuyu               11\n",
       "Kisii                 2\n",
       "Taita/Taveta          1\n",
       "Name: dem_i_tribe, dtype: int64"
      ]
     },
     "execution_count": 83,
     "metadata": {},
     "output_type": "execute_result"
    }
   ],
   "source": [
    "data.dem_i_tribe.value_counts()"
   ]
  },
  {
   "cell_type": "code",
   "execution_count": 84,
   "metadata": {},
   "outputs": [],
   "source": [
    "new_tribe = pd.get_dummies(data.dem_i_tribe, prefix = 'tribe')"
   ]
  },
  {
   "cell_type": "code",
   "execution_count": 85,
   "metadata": {},
   "outputs": [],
   "source": [
    "data = pd.concat([data.reset_index(drop=True), new_tribe], axis=1)"
   ]
  },
  {
   "cell_type": "code",
   "execution_count": 86,
   "metadata": {},
   "outputs": [],
   "source": [
    "data = data.drop('dem_i_tribe', axis = 1)"
   ]
  },
  {
   "cell_type": "code",
   "execution_count": 87,
   "metadata": {
    "scrolled": true
   },
   "outputs": [
    {
     "data": {
      "text/plain": [
       "m_ids_owner    object\n",
       "hh_ids         object\n",
       "inc_i_dom      object\n",
       "dtype: object"
      ]
     },
     "execution_count": 87,
     "metadata": {},
     "output_type": "execute_result"
    }
   ],
   "source": [
    "data.dtypes[data.dtypes == 'object']"
   ]
  },
  {
   "cell_type": "markdown",
   "metadata": {},
   "source": [
    "#### Reformatting the inc_i_dom entries: "
   ]
  },
  {
   "cell_type": "code",
   "execution_count": 88,
   "metadata": {
    "scrolled": true
   },
   "outputs": [
    {
     "data": {
      "text/plain": [
       "SEI       51\n",
       "CITMPC    27\n",
       "AGRI      23\n",
       "REI       21\n",
       "NEINCG     8\n",
       "RIOI       6\n",
       "Name: inc_i_dom, dtype: int64"
      ]
     },
     "execution_count": 88,
     "metadata": {},
     "output_type": "execute_result"
    }
   ],
   "source": [
    "data.inc_i_dom.value_counts()"
   ]
  },
  {
   "cell_type": "code",
   "execution_count": 89,
   "metadata": {},
   "outputs": [],
   "source": [
    "new_tribe = pd.get_dummies(data.inc_i_dom, prefix = 'inc_i_dom')"
   ]
  },
  {
   "cell_type": "code",
   "execution_count": 90,
   "metadata": {},
   "outputs": [],
   "source": [
    "data = pd.concat([data.reset_index(drop=True), new_tribe], axis=1)"
   ]
  },
  {
   "cell_type": "code",
   "execution_count": 91,
   "metadata": {},
   "outputs": [],
   "source": [
    "data = data.drop('inc_i_dom', axis = 1)"
   ]
  },
  {
   "cell_type": "code",
   "execution_count": 92,
   "metadata": {
    "scrolled": true
   },
   "outputs": [
    {
     "data": {
      "text/plain": [
       "m_ids_owner    object\n",
       "hh_ids         object\n",
       "dtype: object"
      ]
     },
     "execution_count": 92,
     "metadata": {},
     "output_type": "execute_result"
    }
   ],
   "source": [
    "data.dtypes[data.dtypes == 'object']"
   ]
  },
  {
   "cell_type": "markdown",
   "metadata": {},
   "source": [
    "###  deleting \"HH\" from m_ids_owner"
   ]
  },
  {
   "cell_type": "code",
   "execution_count": 93,
   "metadata": {},
   "outputs": [
    {
     "data": {
      "text/html": [
       "<div>\n",
       "<style scoped>\n",
       "    .dataframe tbody tr th:only-of-type {\n",
       "        vertical-align: middle;\n",
       "    }\n",
       "\n",
       "    .dataframe tbody tr th {\n",
       "        vertical-align: top;\n",
       "    }\n",
       "\n",
       "    .dataframe thead th {\n",
       "        text-align: right;\n",
       "    }\n",
       "</style>\n",
       "<table border=\"1\" class=\"dataframe\">\n",
       "  <thead>\n",
       "    <tr style=\"text-align: right;\">\n",
       "      <th></th>\n",
       "      <th>m_ids_owner</th>\n",
       "      <th>owner_score</th>\n",
       "      <th>binarize_score</th>\n",
       "      <th>hh_ids</th>\n",
       "      <th>con_pur_hh_meanptrx</th>\n",
       "      <th>con_pur_hh_sdptrx</th>\n",
       "      <th>con_pur_hh_minpti</th>\n",
       "      <th>con_pur_hh_meanpti</th>\n",
       "      <th>con_pur_hh_medpti_x</th>\n",
       "      <th>con_pur_hh_maxpti</th>\n",
       "      <th>con_pur_hh_meanpti_ALC</th>\n",
       "      <th>con_pur_hh_medpti_ALC</th>\n",
       "      <th>con_pur_hh_meanpti_CLN</th>\n",
       "      <th>con_pur_hh_medpti_CLN</th>\n",
       "      <th>con_pur_hh_meanpti_CLTH</th>\n",
       "      <th>con_pur_hh_medpti_CLTH</th>\n",
       "      <th>con_pur_hh_meanpti_COMM</th>\n",
       "      <th>con_pur_hh_medpti_COMM</th>\n",
       "      <th>con_pur_hh_meanpti_EDU</th>\n",
       "      <th>con_pur_hh_medpti_EDU</th>\n",
       "      <th>con_pur_hh_meanpti_ENRGY</th>\n",
       "      <th>con_pur_hh_medpti_ENRGY</th>\n",
       "      <th>con_pur_hh_meanpti_ENT</th>\n",
       "      <th>con_pur_hh_medpti_ENT</th>\n",
       "      <th>con_pur_hh_meanpti_FOOD</th>\n",
       "      <th>con_pur_hh_medpti_FOOD</th>\n",
       "      <th>con_pur_hh_meanpti_H20</th>\n",
       "      <th>con_pur_hh_medpti_H20</th>\n",
       "      <th>con_pur_hh_meanpti_HSNG</th>\n",
       "      <th>con_pur_hh_medpti_HSNG</th>\n",
       "      <th>con_pur_hh_meanpti_MED</th>\n",
       "      <th>con_pur_hh_medpti_MED</th>\n",
       "      <th>con_pur_hh_meanpti_OTH</th>\n",
       "      <th>con_pur_hh_medpti_OTH</th>\n",
       "      <th>con_pur_hh_meanpti_PERS</th>\n",
       "      <th>con_pur_hh_medpti_PERS</th>\n",
       "      <th>con_pur_hh_meanpti_REL</th>\n",
       "      <th>con_pur_hh_medpti_REL</th>\n",
       "      <th>con_pur_hh_meanpti_TRNSP</th>\n",
       "      <th>con_pur_hh_medpti_TRNSP</th>\n",
       "      <th>happiness</th>\n",
       "      <th>economically</th>\n",
       "      <th>relationships</th>\n",
       "      <th>confidence</th>\n",
       "      <th>police</th>\n",
       "      <th>doctor</th>\n",
       "      <th>unsafe</th>\n",
       "      <th>utilities</th>\n",
       "      <th>asset_taken</th>\n",
       "      <th>miss_app</th>\n",
       "      <th>miss_inc</th>\n",
       "      <th>romantic</th>\n",
       "      <th>hungry</th>\n",
       "      <th>school_sent</th>\n",
       "      <th>m_ids_x</th>\n",
       "      <th>edu_i_enrolled</th>\n",
       "      <th>edu_i_attain</th>\n",
       "      <th>edu_i_attain_yrs</th>\n",
       "      <th>edu_hh_child613inschool</th>\n",
       "      <th>edu_hh_child1417inschool</th>\n",
       "      <th>edu_hh_girls613inschool</th>\n",
       "      <th>edu_hh_girls1417inschool</th>\n",
       "      <th>edu_hh_boys613inschool</th>\n",
       "      <th>edu_hh_boys1417inschool</th>\n",
       "      <th>edu_hh_headattain_yrs</th>\n",
       "      <th>m_ids_y</th>\n",
       "      <th>dem_i_male</th>\n",
       "      <th>dem_i_age_yrs</th>\n",
       "      <th>dem_i_age_workage</th>\n",
       "      <th>dem_i_hhead</th>\n",
       "      <th>dem_i_children_tot</th>\n",
       "      <th>dem_i_children_inhh</th>\n",
       "      <th>dem_urban_x</th>\n",
       "      <th>dem_hh_size_x</th>\n",
       "      <th>dem_hh_meanage</th>\n",
       "      <th>dem_hh_ages0_4</th>\n",
       "      <th>dem_hh_ages5_14</th>\n",
       "      <th>dem_hh_ages15_17</th>\n",
       "      <th>dem_hh_ages0_17</th>\n",
       "      <th>dem_hh_ages15plus</th>\n",
       "      <th>dem_hh_ages18plus</th>\n",
       "      <th>dem_hh_ages65plus</th>\n",
       "      <th>dem_hh_ages20_30</th>\n",
       "      <th>dem_hh_workage</th>\n",
       "      <th>dem_hh_dependents</th>\n",
       "      <th>dem_hh_agehead</th>\n",
       "      <th>dem_hh_malehead</th>\n",
       "      <th>dem_pae_oecd_x</th>\n",
       "      <th>dem_pae_kihbs_x</th>\n",
       "      <th>Unnamed: 0</th>\n",
       "      <th>hh_income</th>\n",
       "      <th>hh_income_only</th>\n",
       "      <th>inc_i_unique_sources</th>\n",
       "      <th>inc_i_minpti</th>\n",
       "      <th>inc_i_meanpti</th>\n",
       "      <th>inc_i_sdpti</th>\n",
       "      <th>inc_i_maxpti</th>\n",
       "      <th>inc_i_meanpti_AGRI</th>\n",
       "      <th>inc_i_sdpti_AGRI</th>\n",
       "      <th>inc_i_meanpti_CITMPC</th>\n",
       "      <th>inc_i_sdpti_CITMPC</th>\n",
       "      <th>inc_i_meanpti_NEINCG</th>\n",
       "      <th>inc_i_sdpti_NEINCG</th>\n",
       "      <th>inc_i_meanpti_REI</th>\n",
       "      <th>inc_i_sdpti_REI</th>\n",
       "      <th>inc_i_meanpti_RIOI</th>\n",
       "      <th>inc_i_sdpti_RIOI</th>\n",
       "      <th>inc_i_meanpti_SEI</th>\n",
       "      <th>inc_i_sdpti_SEI</th>\n",
       "      <th>inc_hh_medianpti</th>\n",
       "      <th>con_pur_hh_medpti_y</th>\n",
       "      <th>con_prod_hh_medpti</th>\n",
       "      <th>dem_urban_y</th>\n",
       "      <th>dem_hh_size_y</th>\n",
       "      <th>dem_pae_oecd_y</th>\n",
       "      <th>dem_pae_kihbs_y</th>\n",
       "      <th>con_hh_medpti</th>\n",
       "      <th>inc_hh_pti_pae_oecd</th>\n",
       "      <th>con_hh_pti_pae_oecd</th>\n",
       "      <th>inc_hh_pti_pae_kihbs</th>\n",
       "      <th>con_hh_pti_pae_kihbs</th>\n",
       "      <th>inc_below_85_kes_oecd</th>\n",
       "      <th>con_below_85_kes_oecd</th>\n",
       "      <th>inc_below_85_kes_kihbs</th>\n",
       "      <th>con_below_85_kes_kihbs</th>\n",
       "      <th>inc_below_170_kes_oecd</th>\n",
       "      <th>con_below_170_kes_oecd</th>\n",
       "      <th>inc_below_170_kes_kihbs</th>\n",
       "      <th>con_below_170_kes_kihbs</th>\n",
       "      <th>inc_below_425_kes_oecd</th>\n",
       "      <th>con_below_425_kes_oecd</th>\n",
       "      <th>inc_below_425_kes_kihbs</th>\n",
       "      <th>con_below_425_kes_kihbs</th>\n",
       "      <th>dem_i_relhead_h_or_w</th>\n",
       "      <th>dem_i_relhead_hh_head</th>\n",
       "      <th>dem_i_relhead_parent</th>\n",
       "      <th>dem_i_relhead_s_or_d</th>\n",
       "      <th>married</th>\n",
       "      <th>never_married</th>\n",
       "      <th>separated</th>\n",
       "      <th>widowed</th>\n",
       "      <th>tribe_Kalenjin</th>\n",
       "      <th>tribe_Kamba</th>\n",
       "      <th>tribe_Kikuyu</th>\n",
       "      <th>tribe_Kisii</th>\n",
       "      <th>tribe_Luhya</th>\n",
       "      <th>tribe_Luo</th>\n",
       "      <th>tribe_Mijikenda/Swahili</th>\n",
       "      <th>tribe_Taita/Taveta</th>\n",
       "      <th>inc_i_dom_AGRI</th>\n",
       "      <th>inc_i_dom_CITMPC</th>\n",
       "      <th>inc_i_dom_NEINCG</th>\n",
       "      <th>inc_i_dom_REI</th>\n",
       "      <th>inc_i_dom_RIOI</th>\n",
       "      <th>inc_i_dom_SEI</th>\n",
       "    </tr>\n",
       "  </thead>\n",
       "  <tbody>\n",
       "    <tr>\n",
       "      <th>35</th>\n",
       "      <td>HH</td>\n",
       "      <td>0.666667</td>\n",
       "      <td>999</td>\n",
       "      <td>KVIHC16</td>\n",
       "      <td>115.6588</td>\n",
       "      <td>345.8901</td>\n",
       "      <td>1070</td>\n",
       "      <td>5825.0</td>\n",
       "      <td>5470.0</td>\n",
       "      <td>15380</td>\n",
       "      <td>0.0</td>\n",
       "      <td>0.0</td>\n",
       "      <td>119.0909</td>\n",
       "      <td>150.0</td>\n",
       "      <td>50.0</td>\n",
       "      <td>0</td>\n",
       "      <td>72.72727</td>\n",
       "      <td>70.0</td>\n",
       "      <td>1145.455</td>\n",
       "      <td>0.0</td>\n",
       "      <td>234.5455</td>\n",
       "      <td>230.0</td>\n",
       "      <td>0.0</td>\n",
       "      <td>0</td>\n",
       "      <td>3925.909</td>\n",
       "      <td>4040.0</td>\n",
       "      <td>0.0</td>\n",
       "      <td>0.0</td>\n",
       "      <td>0.0</td>\n",
       "      <td>0.0</td>\n",
       "      <td>50.0</td>\n",
       "      <td>0</td>\n",
       "      <td>27.27273</td>\n",
       "      <td>0.0</td>\n",
       "      <td>10.90909</td>\n",
       "      <td>0.0</td>\n",
       "      <td>15.45455</td>\n",
       "      <td>0.0</td>\n",
       "      <td>173.6364</td>\n",
       "      <td>60.0</td>\n",
       "      <td>3.6</td>\n",
       "      <td>3.45</td>\n",
       "      <td>4.0</td>\n",
       "      <td>3.95</td>\n",
       "      <td>0.0</td>\n",
       "      <td>0.157895</td>\n",
       "      <td>0.0</td>\n",
       "      <td>0.0</td>\n",
       "      <td>0.0</td>\n",
       "      <td>0.052632</td>\n",
       "      <td>0.052632</td>\n",
       "      <td>0.0</td>\n",
       "      <td>0.105263</td>\n",
       "      <td>0.272727</td>\n",
       "      <td>NaN</td>\n",
       "      <td>NaN</td>\n",
       "      <td>1</td>\n",
       "      <td>NaN</td>\n",
       "      <td>NaN</td>\n",
       "      <td>NaN</td>\n",
       "      <td>NaN</td>\n",
       "      <td>NaN</td>\n",
       "      <td>NaN</td>\n",
       "      <td>NaN</td>\n",
       "      <td>NaN</td>\n",
       "      <td>NaN</td>\n",
       "      <td>1</td>\n",
       "      <td>NaN</td>\n",
       "      <td>NaN</td>\n",
       "      <td>NaN</td>\n",
       "      <td>NaN</td>\n",
       "      <td>NaN</td>\n",
       "      <td>NaN</td>\n",
       "      <td>NaN</td>\n",
       "      <td>NaN</td>\n",
       "      <td>NaN</td>\n",
       "      <td>NaN</td>\n",
       "      <td>NaN</td>\n",
       "      <td>NaN</td>\n",
       "      <td>NaN</td>\n",
       "      <td>NaN</td>\n",
       "      <td>NaN</td>\n",
       "      <td>NaN</td>\n",
       "      <td>NaN</td>\n",
       "      <td>NaN</td>\n",
       "      <td>NaN</td>\n",
       "      <td>NaN</td>\n",
       "      <td>NaN</td>\n",
       "      <td>NaN</td>\n",
       "      <td>NaN</td>\n",
       "      <td>NaN</td>\n",
       "      <td>NaN</td>\n",
       "      <td>NaN</td>\n",
       "      <td>NaN</td>\n",
       "      <td>NaN</td>\n",
       "      <td>NaN</td>\n",
       "      <td>NaN</td>\n",
       "      <td>NaN</td>\n",
       "      <td>NaN</td>\n",
       "      <td>NaN</td>\n",
       "      <td>NaN</td>\n",
       "      <td>NaN</td>\n",
       "      <td>NaN</td>\n",
       "      <td>NaN</td>\n",
       "      <td>NaN</td>\n",
       "      <td>NaN</td>\n",
       "      <td>NaN</td>\n",
       "      <td>NaN</td>\n",
       "      <td>NaN</td>\n",
       "      <td>5345.0</td>\n",
       "      <td>5470.0</td>\n",
       "      <td>102.8571</td>\n",
       "      <td>0</td>\n",
       "      <td>5</td>\n",
       "      <td>3.2</td>\n",
       "      <td>3.95</td>\n",
       "      <td>5572.857</td>\n",
       "      <td>54.76434</td>\n",
       "      <td>57.09894</td>\n",
       "      <td>44.36605</td>\n",
       "      <td>46.25737</td>\n",
       "      <td>1</td>\n",
       "      <td>1</td>\n",
       "      <td>1</td>\n",
       "      <td>1</td>\n",
       "      <td>1</td>\n",
       "      <td>1</td>\n",
       "      <td>1</td>\n",
       "      <td>1</td>\n",
       "      <td>1</td>\n",
       "      <td>1</td>\n",
       "      <td>1</td>\n",
       "      <td>1</td>\n",
       "      <td>0</td>\n",
       "      <td>0</td>\n",
       "      <td>1</td>\n",
       "      <td>0</td>\n",
       "      <td>0</td>\n",
       "      <td>1</td>\n",
       "      <td>0</td>\n",
       "      <td>0</td>\n",
       "      <td>0</td>\n",
       "      <td>0</td>\n",
       "      <td>0</td>\n",
       "      <td>0</td>\n",
       "      <td>0</td>\n",
       "      <td>0</td>\n",
       "      <td>0</td>\n",
       "      <td>0</td>\n",
       "      <td>0</td>\n",
       "      <td>0</td>\n",
       "      <td>0</td>\n",
       "      <td>0</td>\n",
       "      <td>0</td>\n",
       "      <td>0</td>\n",
       "    </tr>\n",
       "  </tbody>\n",
       "</table>\n",
       "</div>"
      ],
      "text/plain": [
       "   m_ids_owner  owner_score  binarize_score   hh_ids  con_pur_hh_meanptrx  con_pur_hh_sdptrx  con_pur_hh_minpti  con_pur_hh_meanpti  con_pur_hh_medpti_x  con_pur_hh_maxpti  con_pur_hh_meanpti_ALC  con_pur_hh_medpti_ALC  con_pur_hh_meanpti_CLN  con_pur_hh_medpti_CLN  con_pur_hh_meanpti_CLTH  con_pur_hh_medpti_CLTH  con_pur_hh_meanpti_COMM  con_pur_hh_medpti_COMM  con_pur_hh_meanpti_EDU  con_pur_hh_medpti_EDU  con_pur_hh_meanpti_ENRGY  con_pur_hh_medpti_ENRGY  con_pur_hh_meanpti_ENT  con_pur_hh_medpti_ENT  con_pur_hh_meanpti_FOOD  con_pur_hh_medpti_FOOD  con_pur_hh_meanpti_H20  con_pur_hh_medpti_H20  con_pur_hh_meanpti_HSNG  con_pur_hh_medpti_HSNG  con_pur_hh_meanpti_MED  con_pur_hh_medpti_MED  con_pur_hh_meanpti_OTH  con_pur_hh_medpti_OTH  con_pur_hh_meanpti_PERS  con_pur_hh_medpti_PERS  con_pur_hh_meanpti_REL  con_pur_hh_medpti_REL  con_pur_hh_meanpti_TRNSP  con_pur_hh_medpti_TRNSP  happiness  economically  relationships  confidence  police    doctor  unsafe  utilities  asset_taken  \\\n",
       "35          HH     0.666667             999  KVIHC16             115.6588           345.8901               1070              5825.0               5470.0              15380                     0.0                    0.0                119.0909                  150.0                     50.0                       0                 72.72727                    70.0                1145.455                    0.0                  234.5455                    230.0                     0.0                      0                 3925.909                  4040.0                     0.0                    0.0                      0.0                     0.0                    50.0                      0                27.27273                    0.0                 10.90909                     0.0                15.45455                    0.0                  173.6364                     60.0        3.6          3.45            4.0        3.95     0.0  0.157895     0.0        0.0          0.0   \n",
       "\n",
       "    miss_app  miss_inc  romantic    hungry  school_sent  m_ids_x  edu_i_enrolled  edu_i_attain  edu_i_attain_yrs  edu_hh_child613inschool  edu_hh_child1417inschool  edu_hh_girls613inschool  edu_hh_girls1417inschool  edu_hh_boys613inschool  edu_hh_boys1417inschool  edu_hh_headattain_yrs  m_ids_y  dem_i_male  dem_i_age_yrs  dem_i_age_workage  dem_i_hhead  dem_i_children_tot  dem_i_children_inhh  dem_urban_x  dem_hh_size_x  dem_hh_meanage  dem_hh_ages0_4  dem_hh_ages5_14  dem_hh_ages15_17  dem_hh_ages0_17  dem_hh_ages15plus  dem_hh_ages18plus  dem_hh_ages65plus  dem_hh_ages20_30  dem_hh_workage  dem_hh_dependents  dem_hh_agehead  dem_hh_malehead  dem_pae_oecd_x  dem_pae_kihbs_x  Unnamed: 0  hh_income  hh_income_only  inc_i_unique_sources  inc_i_minpti  inc_i_meanpti  inc_i_sdpti  inc_i_maxpti  inc_i_meanpti_AGRI  inc_i_sdpti_AGRI  inc_i_meanpti_CITMPC  inc_i_sdpti_CITMPC  inc_i_meanpti_NEINCG  inc_i_sdpti_NEINCG  inc_i_meanpti_REI  inc_i_sdpti_REI  inc_i_meanpti_RIOI  inc_i_sdpti_RIOI  \\\n",
       "35  0.052632  0.052632       0.0  0.105263     0.272727      NaN             NaN             1               NaN                      NaN                       NaN                      NaN                       NaN                     NaN                      NaN                    NaN      NaN           1            NaN                NaN          NaN                 NaN                  NaN          NaN            NaN             NaN             NaN              NaN               NaN              NaN                NaN                NaN                NaN               NaN             NaN                NaN             NaN              NaN             NaN              NaN         NaN        NaN             NaN                   NaN           NaN            NaN          NaN           NaN                 NaN               NaN                   NaN                 NaN                   NaN                 NaN                NaN              NaN                 NaN               NaN   \n",
       "\n",
       "    inc_i_meanpti_SEI  inc_i_sdpti_SEI  inc_hh_medianpti  con_pur_hh_medpti_y  con_prod_hh_medpti  dem_urban_y  dem_hh_size_y  dem_pae_oecd_y  dem_pae_kihbs_y  con_hh_medpti  inc_hh_pti_pae_oecd  con_hh_pti_pae_oecd  inc_hh_pti_pae_kihbs  con_hh_pti_pae_kihbs  inc_below_85_kes_oecd  con_below_85_kes_oecd  inc_below_85_kes_kihbs  con_below_85_kes_kihbs  inc_below_170_kes_oecd  con_below_170_kes_oecd  inc_below_170_kes_kihbs  con_below_170_kes_kihbs  inc_below_425_kes_oecd  con_below_425_kes_oecd  inc_below_425_kes_kihbs  con_below_425_kes_kihbs  dem_i_relhead_h_or_w  dem_i_relhead_hh_head  dem_i_relhead_parent  dem_i_relhead_s_or_d  married  never_married  separated  widowed  tribe_Kalenjin  tribe_Kamba  tribe_Kikuyu  tribe_Kisii  tribe_Luhya  tribe_Luo  tribe_Mijikenda/Swahili  tribe_Taita/Taveta  inc_i_dom_AGRI  inc_i_dom_CITMPC  inc_i_dom_NEINCG  inc_i_dom_REI  inc_i_dom_RIOI  inc_i_dom_SEI  \n",
       "35                NaN              NaN            5345.0               5470.0            102.8571            0              5             3.2             3.95       5572.857             54.76434             57.09894              44.36605              46.25737                      1                      1                       1                       1                       1                       1                        1                        1                       1                       1                        1                        1                     0                      0                     1                     0        0              1          0        0               0            0             0            0            0          0                        0                   0               0                 0                 0              0               0              0  "
      ]
     },
     "execution_count": 93,
     "metadata": {},
     "output_type": "execute_result"
    }
   ],
   "source": [
    "data.loc[data['m_ids_owner']==\"HH\"]"
   ]
  },
  {
   "cell_type": "code",
   "execution_count": 94,
   "metadata": {},
   "outputs": [],
   "source": [
    "data = data.drop(35)"
   ]
  },
  {
   "cell_type": "code",
   "execution_count": 95,
   "metadata": {},
   "outputs": [],
   "source": [
    "data.to_csv('data_merged_nocatvars.csv', index = False)"
   ]
  },
  {
   "cell_type": "markdown",
   "metadata": {},
   "source": [
    "## I'm only going to take those variables that are complete from here; later once Dinara's ds is fixed we can do more with imputation and stuff: "
   ]
  },
  {
   "cell_type": "code",
   "execution_count": 96,
   "metadata": {},
   "outputs": [],
   "source": [
    "data = pd.read_csv('data_merged_nocatvars.csv')"
   ]
  },
  {
   "cell_type": "code",
   "execution_count": 97,
   "metadata": {},
   "outputs": [
    {
     "data": {
      "text/plain": [
       "m_ids_owner                 138.0\n",
       "owner_score                 138.0\n",
       "binarize_score              138.0\n",
       "con_pur_hh_meanptrx         138.0\n",
       "con_pur_hh_sdptrx           138.0\n",
       "con_pur_hh_minpti           138.0\n",
       "con_pur_hh_meanpti          138.0\n",
       "con_pur_hh_medpti_x         138.0\n",
       "con_pur_hh_maxpti           138.0\n",
       "con_pur_hh_meanpti_ALC      138.0\n",
       "con_pur_hh_medpti_ALC       138.0\n",
       "con_pur_hh_meanpti_CLN      138.0\n",
       "con_pur_hh_medpti_CLN       138.0\n",
       "con_pur_hh_meanpti_CLTH     138.0\n",
       "con_pur_hh_medpti_CLTH      138.0\n",
       "con_pur_hh_meanpti_COMM     138.0\n",
       "con_pur_hh_medpti_COMM      138.0\n",
       "con_pur_hh_meanpti_EDU      138.0\n",
       "con_pur_hh_medpti_EDU       138.0\n",
       "con_pur_hh_meanpti_ENRGY    138.0\n",
       "con_pur_hh_medpti_ENRGY     138.0\n",
       "con_pur_hh_meanpti_ENT      138.0\n",
       "con_pur_hh_medpti_ENT       138.0\n",
       "con_pur_hh_meanpti_FOOD     138.0\n",
       "con_pur_hh_medpti_FOOD      138.0\n",
       "con_pur_hh_meanpti_H20      138.0\n",
       "con_pur_hh_medpti_H20       138.0\n",
       "con_pur_hh_meanpti_HSNG     138.0\n",
       "con_pur_hh_medpti_HSNG      138.0\n",
       "con_pur_hh_meanpti_MED      138.0\n",
       "con_pur_hh_medpti_MED       138.0\n",
       "con_pur_hh_meanpti_OTH      138.0\n",
       "con_pur_hh_medpti_OTH       138.0\n",
       "con_pur_hh_meanpti_PERS     138.0\n",
       "con_pur_hh_medpti_PERS      138.0\n",
       "con_pur_hh_meanpti_REL      138.0\n",
       "con_pur_hh_medpti_REL       138.0\n",
       "con_pur_hh_meanpti_TRNSP    138.0\n",
       "con_pur_hh_medpti_TRNSP     138.0\n",
       "happiness                   138.0\n",
       "economically                138.0\n",
       "relationships               138.0\n",
       "confidence                  138.0\n",
       "police                      138.0\n",
       "doctor                      138.0\n",
       "unsafe                      138.0\n",
       "utilities                   138.0\n",
       "asset_taken                 138.0\n",
       "miss_app                    138.0\n",
       "miss_inc                    138.0\n",
       "romantic                    138.0\n",
       "hungry                      138.0\n",
       "school_sent                 138.0\n",
       "m_ids_x                     138.0\n",
       "edu_i_enrolled              138.0\n",
       "edu_i_attain                138.0\n",
       "edu_i_attain_yrs            136.0\n",
       "edu_hh_child613inschool     101.0\n",
       "edu_hh_child1417inschool     82.0\n",
       "edu_hh_girls613inschool      63.0\n",
       "edu_hh_girls1417inschool     54.0\n",
       "edu_hh_boys613inschool       70.0\n",
       "edu_hh_boys1417inschool      43.0\n",
       "edu_hh_headattain_yrs       136.0\n",
       "m_ids_y                     138.0\n",
       "dem_i_male                  138.0\n",
       "dem_i_age_yrs               138.0\n",
       "dem_i_age_workage           138.0\n",
       "dem_i_hhead                 138.0\n",
       "dem_i_children_tot          131.0\n",
       "dem_i_children_inhh         131.0\n",
       "dem_urban_x                 138.0\n",
       "dem_hh_size_x               138.0\n",
       "dem_hh_meanage              138.0\n",
       "dem_hh_ages0_4              138.0\n",
       "dem_hh_ages5_14             138.0\n",
       "dem_hh_ages15_17            138.0\n",
       "dem_hh_ages0_17             138.0\n",
       "dem_hh_ages15plus           138.0\n",
       "dem_hh_ages18plus           138.0\n",
       "dem_hh_ages65plus           138.0\n",
       "dem_hh_ages20_30            138.0\n",
       "dem_hh_workage              138.0\n",
       "dem_hh_dependents           138.0\n",
       "dem_hh_agehead              138.0\n",
       "dem_hh_malehead             138.0\n",
       "dem_pae_oecd_x              138.0\n",
       "dem_pae_kihbs_x             138.0\n",
       "Unnamed: 0                  136.0\n",
       "hh_income                   136.0\n",
       "hh_income_only              136.0\n",
       "inc_i_unique_sources        136.0\n",
       "inc_i_minpti                136.0\n",
       "inc_i_meanpti               136.0\n",
       "inc_i_sdpti                 125.0\n",
       "inc_i_maxpti                136.0\n",
       "inc_i_meanpti_AGRI          136.0\n",
       "inc_i_sdpti_AGRI            125.0\n",
       "inc_i_meanpti_CITMPC        136.0\n",
       "inc_i_sdpti_CITMPC          125.0\n",
       "inc_i_meanpti_NEINCG        136.0\n",
       "inc_i_sdpti_NEINCG          125.0\n",
       "inc_i_meanpti_REI           136.0\n",
       "inc_i_sdpti_REI             125.0\n",
       "inc_i_meanpti_RIOI          136.0\n",
       "inc_i_sdpti_RIOI            125.0\n",
       "inc_i_meanpti_SEI           136.0\n",
       "inc_i_sdpti_SEI             125.0\n",
       "inc_hh_medianpti            138.0\n",
       "con_pur_hh_medpti_y         138.0\n",
       "con_prod_hh_medpti          138.0\n",
       "dem_urban_y                 138.0\n",
       "dem_hh_size_y               138.0\n",
       "dem_pae_oecd_y              138.0\n",
       "dem_pae_kihbs_y             138.0\n",
       "con_hh_medpti               138.0\n",
       "inc_hh_pti_pae_oecd         138.0\n",
       "con_hh_pti_pae_oecd         138.0\n",
       "inc_hh_pti_pae_kihbs        138.0\n",
       "con_hh_pti_pae_kihbs        138.0\n",
       "inc_below_85_kes_oecd       138.0\n",
       "con_below_85_kes_oecd       138.0\n",
       "inc_below_85_kes_kihbs      138.0\n",
       "con_below_85_kes_kihbs      138.0\n",
       "inc_below_170_kes_oecd      138.0\n",
       "con_below_170_kes_oecd      138.0\n",
       "inc_below_170_kes_kihbs     138.0\n",
       "con_below_170_kes_kihbs     138.0\n",
       "inc_below_425_kes_oecd      138.0\n",
       "con_below_425_kes_oecd      138.0\n",
       "inc_below_425_kes_kihbs     138.0\n",
       "con_below_425_kes_kihbs     138.0\n",
       "dem_i_relhead_h_or_w        138.0\n",
       "dem_i_relhead_hh_head       138.0\n",
       "dem_i_relhead_parent        138.0\n",
       "dem_i_relhead_s_or_d        138.0\n",
       "married                     138.0\n",
       "never_married               138.0\n",
       "separated                   138.0\n",
       "widowed                     138.0\n",
       "tribe_Kalenjin              138.0\n",
       "tribe_Kamba                 138.0\n",
       "tribe_Kikuyu                138.0\n",
       "tribe_Kisii                 138.0\n",
       "tribe_Luhya                 138.0\n",
       "tribe_Luo                   138.0\n",
       "tribe_Mijikenda/Swahili     138.0\n",
       "tribe_Taita/Taveta          138.0\n",
       "inc_i_dom_AGRI              138.0\n",
       "inc_i_dom_CITMPC            138.0\n",
       "inc_i_dom_NEINCG            138.0\n",
       "inc_i_dom_REI               138.0\n",
       "inc_i_dom_RIOI              138.0\n",
       "inc_i_dom_SEI               138.0\n",
       "Name: count, dtype: float64"
      ]
     },
     "execution_count": 97,
     "metadata": {},
     "output_type": "execute_result"
    }
   ],
   "source": [
    "data.describe().loc['count']"
   ]
  },
  {
   "cell_type": "code",
   "execution_count": 98,
   "metadata": {},
   "outputs": [],
   "source": [
    "cols_to_remove = data.describe().count().index[data.describe().loc['count']<138]"
   ]
  },
  {
   "cell_type": "code",
   "execution_count": 99,
   "metadata": {},
   "outputs": [],
   "source": [
    "data = data.drop(cols_to_remove, axis= 1)"
   ]
  },
  {
   "cell_type": "code",
   "execution_count": 100,
   "metadata": {},
   "outputs": [
    {
     "data": {
      "text/plain": [
       "138.0    124\n",
       "Name: count, dtype: int64"
      ]
     },
     "execution_count": 100,
     "metadata": {},
     "output_type": "execute_result"
    }
   ],
   "source": [
    "data.describe().loc['count'].value_counts()"
   ]
  },
  {
   "cell_type": "code",
   "execution_count": 101,
   "metadata": {},
   "outputs": [],
   "source": [
    "data.to_csv('data_merged_noMissingData.csv', index = False)"
   ]
  },
  {
   "cell_type": "markdown",
   "metadata": {},
   "source": [
    "## Removing unnecessary variables: "
   ]
  },
  {
   "cell_type": "markdown",
   "metadata": {},
   "source": [
    "This shows how many columns have 139 entries"
   ]
  },
  {
   "cell_type": "code",
   "execution_count": 102,
   "metadata": {},
   "outputs": [],
   "source": [
    "data = pd.read_csv('data_merged_nocatvars.csv')"
   ]
  },
  {
   "cell_type": "code",
   "execution_count": 103,
   "metadata": {},
   "outputs": [
    {
     "data": {
      "text/plain": [
       "(138, 155)"
      ]
     },
     "execution_count": 103,
     "metadata": {},
     "output_type": "execute_result"
    }
   ],
   "source": [
    "data.shape"
   ]
  },
  {
   "cell_type": "code",
   "execution_count": 104,
   "metadata": {},
   "outputs": [
    {
     "data": {
      "text/plain": [
       "138.0    124\n",
       "136.0     15\n",
       "125.0      7\n",
       "131.0      2\n",
       "43.0       1\n",
       "70.0       1\n",
       "54.0       1\n",
       "63.0       1\n",
       "82.0       1\n",
       "101.0      1\n",
       "Name: count, dtype: int64"
      ]
     },
     "execution_count": 104,
     "metadata": {},
     "output_type": "execute_result"
    }
   ],
   "source": [
    "pd.DataFrame(data.describe()).loc['count'].value_counts()"
   ]
  },
  {
   "cell_type": "markdown",
   "metadata": {},
   "source": [
    "98 cols have 138 entries (e.g. no NA values) "
   ]
  },
  {
   "cell_type": "markdown",
   "metadata": {},
   "source": [
    "If we don't have information for over half the population, going to just delete those columns: "
   ]
  },
  {
   "cell_type": "code",
   "execution_count": 105,
   "metadata": {},
   "outputs": [
    {
     "data": {
      "text/plain": [
       "m_ids_owner                 False\n",
       "owner_score                 False\n",
       "binarize_score              False\n",
       "con_pur_hh_meanptrx         False\n",
       "con_pur_hh_sdptrx           False\n",
       "con_pur_hh_minpti           False\n",
       "con_pur_hh_meanpti          False\n",
       "con_pur_hh_medpti_x         False\n",
       "con_pur_hh_maxpti           False\n",
       "con_pur_hh_meanpti_ALC      False\n",
       "con_pur_hh_medpti_ALC       False\n",
       "con_pur_hh_meanpti_CLN      False\n",
       "con_pur_hh_medpti_CLN       False\n",
       "con_pur_hh_meanpti_CLTH     False\n",
       "con_pur_hh_medpti_CLTH      False\n",
       "con_pur_hh_meanpti_COMM     False\n",
       "con_pur_hh_medpti_COMM      False\n",
       "con_pur_hh_meanpti_EDU      False\n",
       "con_pur_hh_medpti_EDU       False\n",
       "con_pur_hh_meanpti_ENRGY    False\n",
       "con_pur_hh_medpti_ENRGY     False\n",
       "con_pur_hh_meanpti_ENT      False\n",
       "con_pur_hh_medpti_ENT       False\n",
       "con_pur_hh_meanpti_FOOD     False\n",
       "con_pur_hh_medpti_FOOD      False\n",
       "con_pur_hh_meanpti_H20      False\n",
       "con_pur_hh_medpti_H20       False\n",
       "con_pur_hh_meanpti_HSNG     False\n",
       "con_pur_hh_medpti_HSNG      False\n",
       "con_pur_hh_meanpti_MED      False\n",
       "con_pur_hh_medpti_MED       False\n",
       "con_pur_hh_meanpti_OTH      False\n",
       "con_pur_hh_medpti_OTH       False\n",
       "con_pur_hh_meanpti_PERS     False\n",
       "con_pur_hh_medpti_PERS      False\n",
       "con_pur_hh_meanpti_REL      False\n",
       "con_pur_hh_medpti_REL       False\n",
       "con_pur_hh_meanpti_TRNSP    False\n",
       "con_pur_hh_medpti_TRNSP     False\n",
       "happiness                   False\n",
       "economically                False\n",
       "relationships               False\n",
       "confidence                  False\n",
       "police                      False\n",
       "doctor                      False\n",
       "unsafe                      False\n",
       "utilities                   False\n",
       "asset_taken                 False\n",
       "miss_app                    False\n",
       "miss_inc                    False\n",
       "romantic                    False\n",
       "hungry                      False\n",
       "school_sent                 False\n",
       "m_ids_x                     False\n",
       "edu_i_enrolled              False\n",
       "edu_i_attain                False\n",
       "edu_i_attain_yrs            False\n",
       "edu_hh_child613inschool     False\n",
       "edu_hh_child1417inschool    False\n",
       "edu_hh_girls613inschool      True\n",
       "edu_hh_girls1417inschool     True\n",
       "edu_hh_boys613inschool      False\n",
       "edu_hh_boys1417inschool      True\n",
       "edu_hh_headattain_yrs       False\n",
       "m_ids_y                     False\n",
       "dem_i_male                  False\n",
       "dem_i_age_yrs               False\n",
       "dem_i_age_workage           False\n",
       "dem_i_hhead                 False\n",
       "dem_i_children_tot          False\n",
       "dem_i_children_inhh         False\n",
       "dem_urban_x                 False\n",
       "dem_hh_size_x               False\n",
       "dem_hh_meanage              False\n",
       "dem_hh_ages0_4              False\n",
       "dem_hh_ages5_14             False\n",
       "dem_hh_ages15_17            False\n",
       "dem_hh_ages0_17             False\n",
       "dem_hh_ages15plus           False\n",
       "dem_hh_ages18plus           False\n",
       "dem_hh_ages65plus           False\n",
       "dem_hh_ages20_30            False\n",
       "dem_hh_workage              False\n",
       "dem_hh_dependents           False\n",
       "dem_hh_agehead              False\n",
       "dem_hh_malehead             False\n",
       "dem_pae_oecd_x              False\n",
       "dem_pae_kihbs_x             False\n",
       "Unnamed: 0                  False\n",
       "hh_income                   False\n",
       "hh_income_only              False\n",
       "inc_i_unique_sources        False\n",
       "inc_i_minpti                False\n",
       "inc_i_meanpti               False\n",
       "inc_i_sdpti                 False\n",
       "inc_i_maxpti                False\n",
       "inc_i_meanpti_AGRI          False\n",
       "inc_i_sdpti_AGRI            False\n",
       "inc_i_meanpti_CITMPC        False\n",
       "inc_i_sdpti_CITMPC          False\n",
       "inc_i_meanpti_NEINCG        False\n",
       "inc_i_sdpti_NEINCG          False\n",
       "inc_i_meanpti_REI           False\n",
       "inc_i_sdpti_REI             False\n",
       "inc_i_meanpti_RIOI          False\n",
       "inc_i_sdpti_RIOI            False\n",
       "inc_i_meanpti_SEI           False\n",
       "inc_i_sdpti_SEI             False\n",
       "inc_hh_medianpti            False\n",
       "con_pur_hh_medpti_y         False\n",
       "con_prod_hh_medpti          False\n",
       "dem_urban_y                 False\n",
       "dem_hh_size_y               False\n",
       "dem_pae_oecd_y              False\n",
       "dem_pae_kihbs_y             False\n",
       "con_hh_medpti               False\n",
       "inc_hh_pti_pae_oecd         False\n",
       "con_hh_pti_pae_oecd         False\n",
       "inc_hh_pti_pae_kihbs        False\n",
       "con_hh_pti_pae_kihbs        False\n",
       "inc_below_85_kes_oecd       False\n",
       "con_below_85_kes_oecd       False\n",
       "inc_below_85_kes_kihbs      False\n",
       "con_below_85_kes_kihbs      False\n",
       "inc_below_170_kes_oecd      False\n",
       "con_below_170_kes_oecd      False\n",
       "inc_below_170_kes_kihbs     False\n",
       "con_below_170_kes_kihbs     False\n",
       "inc_below_425_kes_oecd      False\n",
       "con_below_425_kes_oecd      False\n",
       "inc_below_425_kes_kihbs     False\n",
       "con_below_425_kes_kihbs     False\n",
       "dem_i_relhead_h_or_w        False\n",
       "dem_i_relhead_hh_head       False\n",
       "dem_i_relhead_parent        False\n",
       "dem_i_relhead_s_or_d        False\n",
       "married                     False\n",
       "never_married               False\n",
       "separated                   False\n",
       "widowed                     False\n",
       "tribe_Kalenjin              False\n",
       "tribe_Kamba                 False\n",
       "tribe_Kikuyu                False\n",
       "tribe_Kisii                 False\n",
       "tribe_Luhya                 False\n",
       "tribe_Luo                   False\n",
       "tribe_Mijikenda/Swahili     False\n",
       "tribe_Taita/Taveta          False\n",
       "inc_i_dom_AGRI              False\n",
       "inc_i_dom_CITMPC            False\n",
       "inc_i_dom_NEINCG            False\n",
       "inc_i_dom_REI               False\n",
       "inc_i_dom_RIOI              False\n",
       "inc_i_dom_SEI               False\n",
       "Name: count, dtype: bool"
      ]
     },
     "execution_count": 105,
     "metadata": {},
     "output_type": "execute_result"
    }
   ],
   "source": [
    "data.describe().loc['count']<69"
   ]
  },
  {
   "cell_type": "code",
   "execution_count": 121,
   "metadata": {},
   "outputs": [],
   "source": [
    "cols_to_remove = data.describe().count().index[data.describe().loc['count']<69]"
   ]
  },
  {
   "cell_type": "code",
   "execution_count": 122,
   "metadata": {},
   "outputs": [],
   "source": [
    "data = data.drop(cols_to_remove, axis= 1)"
   ]
  },
  {
   "cell_type": "code",
   "execution_count": 123,
   "metadata": {},
   "outputs": [
    {
     "data": {
      "text/plain": [
       "138.0    98\n",
       "121.0    41\n",
       "136.0    15\n",
       "125.0     7\n",
       "119.0     6\n",
       "118.0     3\n",
       "131.0     2\n",
       "114.0     2\n",
       "120.0     2\n",
       "113.0     1\n",
       "78.0      1\n",
       "74.0      1\n",
       "117.0     1\n",
       "70.0      1\n",
       "82.0      1\n",
       "101.0     1\n",
       "116.0     1\n",
       "Name: count, dtype: int64"
      ]
     },
     "execution_count": 123,
     "metadata": {},
     "output_type": "execute_result"
    }
   ],
   "source": [
    "data.describe().loc['count'].value_counts()"
   ]
  },
  {
   "cell_type": "code",
   "execution_count": 124,
   "metadata": {},
   "outputs": [
    {
     "data": {
      "text/plain": [
       "(138, 185)"
      ]
     },
     "execution_count": 124,
     "metadata": {},
     "output_type": "execute_result"
    }
   ],
   "source": [
    "data.shape"
   ]
  },
  {
   "cell_type": "code",
   "execution_count": null,
   "metadata": {},
   "outputs": [],
   "source": []
  },
  {
   "cell_type": "code",
   "execution_count": null,
   "metadata": {},
   "outputs": [],
   "source": []
  },
  {
   "cell_type": "code",
   "execution_count": null,
   "metadata": {},
   "outputs": [],
   "source": []
  }
 ],
 "metadata": {
  "kernelspec": {
   "display_name": "Python 3",
   "language": "python",
   "name": "python3"
  },
  "language_info": {
   "codemirror_mode": {
    "name": "ipython",
    "version": 3
   },
   "file_extension": ".py",
   "mimetype": "text/x-python",
   "name": "python",
   "nbconvert_exporter": "python",
   "pygments_lexer": "ipython3",
   "version": "3.6.4"
  }
 },
 "nbformat": 4,
 "nbformat_minor": 2
}
