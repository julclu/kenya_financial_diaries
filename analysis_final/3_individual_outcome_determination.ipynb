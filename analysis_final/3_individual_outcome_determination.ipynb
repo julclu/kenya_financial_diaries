{
 "cells": [
  {
   "cell_type": "code",
   "execution_count": 105,
   "metadata": {},
   "outputs": [],
   "source": [
    "import os\n",
    "import pandas as pd \n",
    "import glob\n",
    "import random \n",
    "import numpy as np\n",
    "import matplotlib.pyplot as plt\n",
    "%matplotlib inline \n",
    "import math"
   ]
  },
  {
   "cell_type": "code",
   "execution_count": 106,
   "metadata": {},
   "outputs": [],
   "source": [
    "pd.set_option('display.max_columns',200)\n",
    "pd.set_option('display.max_rows',680)"
   ]
  },
  {
   "cell_type": "markdown",
   "metadata": {},
   "source": [
    "## Read in loan outcomes: "
   ]
  },
  {
   "cell_type": "code",
   "execution_count": 132,
   "metadata": {},
   "outputs": [],
   "source": [
    "outcomes = pd.read_csv('loan_outcomes_33_150.csv', dtype = {'new_account_ids': 'object'})"
   ]
  },
  {
   "cell_type": "code",
   "execution_count": 133,
   "metadata": {},
   "outputs": [
    {
     "data": {
      "text/plain": [
       "(344, 4)"
      ]
     },
     "execution_count": 133,
     "metadata": {},
     "output_type": "execute_result"
    }
   ],
   "source": [
    "outcomes.shape"
   ]
  },
  {
   "cell_type": "code",
   "execution_count": 134,
   "metadata": {},
   "outputs": [
    {
     "data": {
      "text/html": [
       "<div>\n",
       "<style scoped>\n",
       "    .dataframe tbody tr th:only-of-type {\n",
       "        vertical-align: middle;\n",
       "    }\n",
       "\n",
       "    .dataframe tbody tr th {\n",
       "        vertical-align: top;\n",
       "    }\n",
       "\n",
       "    .dataframe thead th {\n",
       "        text-align: right;\n",
       "    }\n",
       "</style>\n",
       "<table border=\"1\" class=\"dataframe\">\n",
       "  <thead>\n",
       "    <tr style=\"text-align: right;\">\n",
       "      <th></th>\n",
       "      <th>m_ids_owner</th>\n",
       "      <th>new_account_ids</th>\n",
       "      <th>paid_back_in_150_days</th>\n",
       "      <th>every_payment_under_33_days</th>\n",
       "    </tr>\n",
       "  </thead>\n",
       "  <tbody>\n",
       "    <tr>\n",
       "      <th>0</th>\n",
       "      <td>65134441430300000</td>\n",
       "      <td>56134804374600000.3</td>\n",
       "      <td>1.0</td>\n",
       "      <td>1.0</td>\n",
       "    </tr>\n",
       "    <tr>\n",
       "      <th>1</th>\n",
       "      <td>60134547419200000</td>\n",
       "      <td>60137430710900000.1</td>\n",
       "      <td>0.0</td>\n",
       "      <td>0.0</td>\n",
       "    </tr>\n",
       "    <tr>\n",
       "      <th>2</th>\n",
       "      <td>63134425702500000</td>\n",
       "      <td>63136740549700000.1</td>\n",
       "      <td>0.0</td>\n",
       "      <td>1.0</td>\n",
       "    </tr>\n",
       "    <tr>\n",
       "      <th>3</th>\n",
       "      <td>64134429266300000</td>\n",
       "      <td>89136459180500000.2</td>\n",
       "      <td>1.0</td>\n",
       "      <td>1.0</td>\n",
       "    </tr>\n",
       "    <tr>\n",
       "      <th>4</th>\n",
       "      <td>65134432186900000</td>\n",
       "      <td>105136540140100000.1</td>\n",
       "      <td>1.0</td>\n",
       "      <td>1.0</td>\n",
       "    </tr>\n",
       "  </tbody>\n",
       "</table>\n",
       "</div>"
      ],
      "text/plain": [
       "         m_ids_owner       new_account_ids  paid_back_in_150_days  \\\n",
       "0  65134441430300000   56134804374600000.3                    1.0   \n",
       "1  60134547419200000   60137430710900000.1                    0.0   \n",
       "2  63134425702500000   63136740549700000.1                    0.0   \n",
       "3  64134429266300000   89136459180500000.2                    1.0   \n",
       "4  65134432186900000  105136540140100000.1                    1.0   \n",
       "\n",
       "   every_payment_under_33_days  \n",
       "0                          1.0  \n",
       "1                          0.0  \n",
       "2                          1.0  \n",
       "3                          1.0  \n",
       "4                          1.0  "
      ]
     },
     "execution_count": 134,
     "metadata": {},
     "output_type": "execute_result"
    }
   ],
   "source": [
    "outcomes.head()"
   ]
  },
  {
   "cell_type": "code",
   "execution_count": 135,
   "metadata": {},
   "outputs": [
    {
     "data": {
      "text/plain": [
       "139"
      ]
     },
     "execution_count": 135,
     "metadata": {},
     "output_type": "execute_result"
    }
   ],
   "source": [
    "len(outcomes.m_ids_owner.unique())"
   ]
  },
  {
   "cell_type": "markdown",
   "metadata": {},
   "source": [
    "## First categorize loans:"
   ]
  },
  {
   "cell_type": "code",
   "execution_count": 136,
   "metadata": {},
   "outputs": [
    {
     "data": {
      "text/plain": [
       "4"
      ]
     },
     "execution_count": 136,
     "metadata": {},
     "output_type": "execute_result"
    }
   ],
   "source": [
    "outcomes.shape[1]"
   ]
  },
  {
   "cell_type": "code",
   "execution_count": 137,
   "metadata": {},
   "outputs": [],
   "source": [
    "# outcomes.insert(outcomes.shape[1],\"loan_cat\", np.zeros(outcomes.shape[0]))"
   ]
  },
  {
   "cell_type": "code",
   "execution_count": 138,
   "metadata": {},
   "outputs": [
    {
     "data": {
      "text/plain": [
       "m_ids_owner                     object\n",
       "new_account_ids                 object\n",
       "paid_back_in_150_days          float64\n",
       "every_payment_under_33_days    float64\n",
       "dtype: object"
      ]
     },
     "execution_count": 138,
     "metadata": {},
     "output_type": "execute_result"
    }
   ],
   "source": [
    "outcomes.dtypes"
   ]
  },
  {
   "cell_type": "code",
   "execution_count": 139,
   "metadata": {},
   "outputs": [],
   "source": [
    "outcomes = outcomes[['m_ids_owner', 'new_account_ids', 'every_payment_under_33_days', \n",
    "       'paid_back_in_150_days']]"
   ]
  },
  {
   "cell_type": "code",
   "execution_count": 140,
   "metadata": {},
   "outputs": [
    {
     "data": {
      "text/html": [
       "<div>\n",
       "<style scoped>\n",
       "    .dataframe tbody tr th:only-of-type {\n",
       "        vertical-align: middle;\n",
       "    }\n",
       "\n",
       "    .dataframe tbody tr th {\n",
       "        vertical-align: top;\n",
       "    }\n",
       "\n",
       "    .dataframe thead th {\n",
       "        text-align: right;\n",
       "    }\n",
       "</style>\n",
       "<table border=\"1\" class=\"dataframe\">\n",
       "  <thead>\n",
       "    <tr style=\"text-align: right;\">\n",
       "      <th></th>\n",
       "      <th>m_ids_owner</th>\n",
       "      <th>new_account_ids</th>\n",
       "      <th>every_payment_under_33_days</th>\n",
       "      <th>paid_back_in_150_days</th>\n",
       "    </tr>\n",
       "  </thead>\n",
       "  <tbody>\n",
       "    <tr>\n",
       "      <th>0</th>\n",
       "      <td>65134441430300000</td>\n",
       "      <td>56134804374600000.3</td>\n",
       "      <td>1.0</td>\n",
       "      <td>1.0</td>\n",
       "    </tr>\n",
       "    <tr>\n",
       "      <th>1</th>\n",
       "      <td>60134547419200000</td>\n",
       "      <td>60137430710900000.1</td>\n",
       "      <td>0.0</td>\n",
       "      <td>0.0</td>\n",
       "    </tr>\n",
       "    <tr>\n",
       "      <th>2</th>\n",
       "      <td>63134425702500000</td>\n",
       "      <td>63136740549700000.1</td>\n",
       "      <td>1.0</td>\n",
       "      <td>0.0</td>\n",
       "    </tr>\n",
       "    <tr>\n",
       "      <th>3</th>\n",
       "      <td>64134429266300000</td>\n",
       "      <td>89136459180500000.2</td>\n",
       "      <td>1.0</td>\n",
       "      <td>1.0</td>\n",
       "    </tr>\n",
       "    <tr>\n",
       "      <th>4</th>\n",
       "      <td>65134432186900000</td>\n",
       "      <td>105136540140100000.1</td>\n",
       "      <td>1.0</td>\n",
       "      <td>1.0</td>\n",
       "    </tr>\n",
       "  </tbody>\n",
       "</table>\n",
       "</div>"
      ],
      "text/plain": [
       "         m_ids_owner       new_account_ids  every_payment_under_33_days  \\\n",
       "0  65134441430300000   56134804374600000.3                          1.0   \n",
       "1  60134547419200000   60137430710900000.1                          0.0   \n",
       "2  63134425702500000   63136740549700000.1                          1.0   \n",
       "3  64134429266300000   89136459180500000.2                          1.0   \n",
       "4  65134432186900000  105136540140100000.1                          1.0   \n",
       "\n",
       "   paid_back_in_150_days  \n",
       "0                    1.0  \n",
       "1                    0.0  \n",
       "2                    0.0  \n",
       "3                    1.0  \n",
       "4                    1.0  "
      ]
     },
     "execution_count": 140,
     "metadata": {},
     "output_type": "execute_result"
    }
   ],
   "source": [
    "outcomes.head()"
   ]
  },
  {
   "cell_type": "code",
   "execution_count": 141,
   "metadata": {},
   "outputs": [
    {
     "data": {
      "text/plain": [
       "(344, 4)"
      ]
     },
     "execution_count": 141,
     "metadata": {},
     "output_type": "execute_result"
    }
   ],
   "source": [
    "outcomes.shape"
   ]
  },
  {
   "cell_type": "markdown",
   "metadata": {},
   "source": [
    "## This creates a binary outcome per loan: "
   ]
  },
  {
   "cell_type": "markdown",
   "metadata": {},
   "source": [
    "It will give loans a score of 1 if they meet either of our criteria, else 0m\n"
   ]
  },
  {
   "cell_type": "code",
   "execution_count": 142,
   "metadata": {},
   "outputs": [],
   "source": [
    "def score_loan_binary(outcomes, x_days, thresh): \n",
    "    # x_days = paid back in x days (e.g. 150)\n",
    "    # thresh = regularity threshold (e.g. 33 days)\n",
    "    new_outcomes = outcomes.copy()\n",
    "    \n",
    "    key_x_days = 'paid_back_in_'+str(x_days)+\"_days\"\n",
    "    key_thresh = 'every_payment_under_'+str(thresh)+'_days'\n",
    "    \n",
    "    #insert loan category \n",
    "    new_outcomes.insert(new_outcomes.shape[1],\"binary_loan_score\", np.zeros(new_outcomes.shape[0]))\n",
    "    \n",
    "    for idx, row in new_outcomes.iterrows():\n",
    "        \n",
    "        if row[key_x_days] == 1:\n",
    "            new_outcomes.at[idx,'binary_loan_score'] = 1\n",
    "        else: \n",
    "            if row[key_thresh] == 1: \n",
    "                new_outcomes.at[idx,'binary_loan_score'] = 1\n",
    "            else: \n",
    "                new_outcomes.at[idx,'binary_loan_score'] = 0\n",
    "    return new_outcomes "
   ]
  },
  {
   "cell_type": "code",
   "execution_count": 143,
   "metadata": {},
   "outputs": [],
   "source": [
    "new_outcomes = score_loan_binary(outcomes, 150, 33)"
   ]
  },
  {
   "cell_type": "code",
   "execution_count": 144,
   "metadata": {},
   "outputs": [
    {
     "data": {
      "text/plain": [
       "1.0    278\n",
       "0.0     66\n",
       "Name: binary_loan_score, dtype: int64"
      ]
     },
     "execution_count": 144,
     "metadata": {},
     "output_type": "execute_result"
    }
   ],
   "source": [
    "new_outcomes.binary_loan_score.value_counts()"
   ]
  },
  {
   "cell_type": "code",
   "execution_count": 145,
   "metadata": {},
   "outputs": [
    {
     "data": {
      "text/plain": [
       "(344, 4)"
      ]
     },
     "execution_count": 145,
     "metadata": {},
     "output_type": "execute_result"
    }
   ],
   "source": [
    "outcomes.shape"
   ]
  },
  {
   "cell_type": "code",
   "execution_count": 146,
   "metadata": {},
   "outputs": [
    {
     "data": {
      "text/plain": [
       "(344, 5)"
      ]
     },
     "execution_count": 146,
     "metadata": {},
     "output_type": "execute_result"
    }
   ],
   "source": [
    "new_outcomes.shape"
   ]
  },
  {
   "cell_type": "code",
   "execution_count": 147,
   "metadata": {},
   "outputs": [],
   "source": [
    "binary_outcomes = new_outcomes.copy()"
   ]
  },
  {
   "cell_type": "markdown",
   "metadata": {},
   "source": [
    "## This creates a scaled score for a loan, weighting things however you like: "
   ]
  },
  {
   "cell_type": "code",
   "execution_count": 148,
   "metadata": {},
   "outputs": [],
   "source": [
    "def score_loan_continuous(outcomes, x_days, thresh, weight_regularity = 0.5): \n",
    "    # x_days = paid back in x days (e.g. 150)\n",
    "    # thresh = regularity threshold (e.g. 33 days)\n",
    "    # weight_regularity = do we want to weight regularity a bit higher than weight_paidback? default = 0.5\n",
    "    \n",
    "    weight_paidback = 1-weight_regularity \n",
    "    \n",
    "    new_outcomes = outcomes.copy()\n",
    "    \n",
    "    # determines the keys \n",
    "    key_x_days = 'paid_back_in_'+str(x_days)+\"_days\"\n",
    "    key_thresh = 'every_payment_under_'+str(thresh)+'_days'\n",
    "    \n",
    "    #insert loan category \n",
    "    new_outcomes.insert(new_outcomes.shape[1],\"continuous_loan_score\", np.zeros(new_outcomes.shape[0]))\n",
    "    \n",
    "    for idx, row in new_outcomes.iterrows():\n",
    "        if row[key_x_days] == 1:\n",
    "            if row[key_thresh] == 1: \n",
    "                new_outcomes.at[idx,'continuous_loan_score'] = 1\n",
    "            else: \n",
    "                new_outcomes.at[idx,'continuous_loan_score'] = weight_paidback\n",
    "        else: \n",
    "            if row['every_payment_under_33_days'] == 1: \n",
    "                new_outcomes.at[idx,'continuous_loan_score'] = weight_regularity\n",
    "            else: \n",
    "                new_outcomes.at[idx,'continuous_loan_score'] = 0\n",
    "    return new_outcomes "
   ]
  },
  {
   "cell_type": "code",
   "execution_count": 149,
   "metadata": {},
   "outputs": [],
   "source": [
    "cont_outcomes = score_loan_continuous(binary_outcomes, 150, 33, 0.5)"
   ]
  },
  {
   "cell_type": "code",
   "execution_count": 150,
   "metadata": {},
   "outputs": [
    {
     "data": {
      "text/plain": [
       "(344, 6)"
      ]
     },
     "execution_count": 150,
     "metadata": {},
     "output_type": "execute_result"
    }
   ],
   "source": [
    "cont_outcomes.shape"
   ]
  },
  {
   "cell_type": "code",
   "execution_count": 151,
   "metadata": {},
   "outputs": [
    {
     "data": {
      "text/html": [
       "<div>\n",
       "<style scoped>\n",
       "    .dataframe tbody tr th:only-of-type {\n",
       "        vertical-align: middle;\n",
       "    }\n",
       "\n",
       "    .dataframe tbody tr th {\n",
       "        vertical-align: top;\n",
       "    }\n",
       "\n",
       "    .dataframe thead th {\n",
       "        text-align: right;\n",
       "    }\n",
       "</style>\n",
       "<table border=\"1\" class=\"dataframe\">\n",
       "  <thead>\n",
       "    <tr style=\"text-align: right;\">\n",
       "      <th></th>\n",
       "      <th>m_ids_owner</th>\n",
       "      <th>new_account_ids</th>\n",
       "      <th>every_payment_under_33_days</th>\n",
       "      <th>paid_back_in_150_days</th>\n",
       "      <th>binary_loan_score</th>\n",
       "      <th>continuous_loan_score</th>\n",
       "    </tr>\n",
       "  </thead>\n",
       "  <tbody>\n",
       "    <tr>\n",
       "      <th>0</th>\n",
       "      <td>65134441430300000</td>\n",
       "      <td>56134804374600000.3</td>\n",
       "      <td>1.0</td>\n",
       "      <td>1.0</td>\n",
       "      <td>1.0</td>\n",
       "      <td>1.0</td>\n",
       "    </tr>\n",
       "    <tr>\n",
       "      <th>1</th>\n",
       "      <td>60134547419200000</td>\n",
       "      <td>60137430710900000.1</td>\n",
       "      <td>0.0</td>\n",
       "      <td>0.0</td>\n",
       "      <td>0.0</td>\n",
       "      <td>0.0</td>\n",
       "    </tr>\n",
       "    <tr>\n",
       "      <th>2</th>\n",
       "      <td>63134425702500000</td>\n",
       "      <td>63136740549700000.1</td>\n",
       "      <td>1.0</td>\n",
       "      <td>0.0</td>\n",
       "      <td>1.0</td>\n",
       "      <td>0.5</td>\n",
       "    </tr>\n",
       "    <tr>\n",
       "      <th>3</th>\n",
       "      <td>64134429266300000</td>\n",
       "      <td>89136459180500000.2</td>\n",
       "      <td>1.0</td>\n",
       "      <td>1.0</td>\n",
       "      <td>1.0</td>\n",
       "      <td>1.0</td>\n",
       "    </tr>\n",
       "    <tr>\n",
       "      <th>4</th>\n",
       "      <td>65134432186900000</td>\n",
       "      <td>105136540140100000.1</td>\n",
       "      <td>1.0</td>\n",
       "      <td>1.0</td>\n",
       "      <td>1.0</td>\n",
       "      <td>1.0</td>\n",
       "    </tr>\n",
       "  </tbody>\n",
       "</table>\n",
       "</div>"
      ],
      "text/plain": [
       "         m_ids_owner       new_account_ids  every_payment_under_33_days  \\\n",
       "0  65134441430300000   56134804374600000.3                          1.0   \n",
       "1  60134547419200000   60137430710900000.1                          0.0   \n",
       "2  63134425702500000   63136740549700000.1                          1.0   \n",
       "3  64134429266300000   89136459180500000.2                          1.0   \n",
       "4  65134432186900000  105136540140100000.1                          1.0   \n",
       "\n",
       "   paid_back_in_150_days  binary_loan_score  continuous_loan_score  \n",
       "0                    1.0                1.0                    1.0  \n",
       "1                    0.0                0.0                    0.0  \n",
       "2                    0.0                1.0                    0.5  \n",
       "3                    1.0                1.0                    1.0  \n",
       "4                    1.0                1.0                    1.0  "
      ]
     },
     "execution_count": 151,
     "metadata": {},
     "output_type": "execute_result"
    }
   ],
   "source": [
    "cont_outcomes.head()"
   ]
  },
  {
   "cell_type": "markdown",
   "metadata": {},
   "source": [
    "## This creates outcomes on a per-person basis: "
   ]
  },
  {
   "cell_type": "code",
   "execution_count": 152,
   "metadata": {},
   "outputs": [],
   "source": [
    "outcomes_perperson = pd.DataFrame()"
   ]
  },
  {
   "cell_type": "code",
   "execution_count": 159,
   "metadata": {},
   "outputs": [],
   "source": [
    "def create_perperson_outcomes(outcomes_total, binary_or_cont = 'binary', good_thresh = 0.75, bad_thresh = 0.25): \n",
    "    \n",
    "    outcomes_perperson = pd.DataFrame()\n",
    "    if binary_or_cont == 'binary': \n",
    "        for m_ids_owner in list(outcomes_total.m_ids_owner.unique()): \n",
    "            \n",
    "            # take all loans for that person :\n",
    "            owner_df = outcomes_total.loc[outcomes_total['m_ids_owner']==m_ids_owner]\n",
    "            \n",
    "            # calc mean of loan paying \n",
    "            owner_score = np.mean(owner_df.binary_loan_score)\n",
    "            \n",
    "            # add that to outcomes_perperson DF\n",
    "            outcomes_perperson_line = {'m_ids_owner': m_ids_owner, 'loans': list(owner_df.new_account_ids), 'owner_score': owner_score}\n",
    "            outcomes_perperson = outcomes_perperson.append(outcomes_perperson_line, ignore_index= True)\n",
    "    \n",
    "        outcomes_perperson['binarize_score'] = [1 if x >= good_thresh else 0 if x <= bad_thresh else 999 for x in outcomes_perperson.owner_score]\n",
    "    \n",
    "    else: \n",
    "        for m_ids_owner in list(outcomes_total.m_ids_owner.unique()): \n",
    "            \n",
    "            # take all loans for that person :\n",
    "            owner_df = outcomes_total.loc[outcomes_total['m_ids_owner']==m_ids_owner]\n",
    "            \n",
    "            # calc mean of loan paying \n",
    "            owner_score = np.mean(owner_df.continuous_loan_score)\n",
    "            \n",
    "            # add that to outcomes_perperson DF\n",
    "            outcomes_perperson_line = {'m_ids_owner': m_ids_owner, 'loans': list(owner_df.new_account_ids), 'owner_score': owner_score}\n",
    "            outcomes_perperson = outcomes_perperson.append(outcomes_perperson_line, ignore_index= True)\n",
    "    \n",
    "        outcomes_perperson['binarize_score'] = [1 if x >= good_thresh else 0 if x <= bad_thresh else 999 for x in outcomes_perperson.owner_score]\n",
    "    \n",
    "    return outcomes_perperson\n",
    "\n"
   ]
  },
  {
   "cell_type": "code",
   "execution_count": 160,
   "metadata": {},
   "outputs": [],
   "source": [
    "outcomes_perperson = create_perperson_outcomes(cont_outcomes, 'binary')"
   ]
  },
  {
   "cell_type": "code",
   "execution_count": 163,
   "metadata": {},
   "outputs": [
    {
     "data": {
      "text/plain": [
       "1      90\n",
       "999    25\n",
       "0      24\n",
       "Name: binarize_score, dtype: int64"
      ]
     },
     "execution_count": 163,
     "metadata": {},
     "output_type": "execute_result"
    }
   ],
   "source": [
    "outcomes_perperson.binarize_score.value_counts()"
   ]
  },
  {
   "cell_type": "code",
   "execution_count": 166,
   "metadata": {},
   "outputs": [],
   "source": [
    "outcomes_perperson.to_csv('individual_outcomes_33_150.csv', index = False)"
   ]
  },
  {
   "cell_type": "code",
   "execution_count": null,
   "metadata": {},
   "outputs": [],
   "source": []
  }
 ],
 "metadata": {
  "kernelspec": {
   "display_name": "Python 3",
   "language": "python",
   "name": "python3"
  },
  "language_info": {
   "codemirror_mode": {
    "name": "ipython",
    "version": 3
   },
   "file_extension": ".py",
   "mimetype": "text/x-python",
   "name": "python",
   "nbconvert_exporter": "python",
   "pygments_lexer": "ipython3",
   "version": "3.6.4"
  }
 },
 "nbformat": 4,
 "nbformat_minor": 2
}
