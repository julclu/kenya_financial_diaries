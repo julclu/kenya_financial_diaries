{
 "cells": [
  {
   "cell_type": "code",
   "execution_count": 1,
   "metadata": {},
   "outputs": [],
   "source": [
    "import os\n",
    "import pandas as pd \n",
    "import glob\n",
    "import random \n",
    "import numpy as np\n",
    "import matplotlib.pyplot as plt\n",
    "%matplotlib inline "
   ]
  },
  {
   "cell_type": "code",
   "execution_count": 42,
   "metadata": {},
   "outputs": [],
   "source": [
    "pd.set_option('display.max_columns',200)\n",
    "pd.set_option('display.max_rows',680)"
   ]
  },
  {
   "cell_type": "markdown",
   "metadata": {},
   "source": [
    "## Determine the number of people with formal loans that also have other loans, and other quesitons regarding numbers of loans per person: "
   ]
  },
  {
   "cell_type": "code",
   "execution_count": 5,
   "metadata": {},
   "outputs": [],
   "source": [
    "trx = pd.read_csv('../diaries_transactions_all.csv', low_memory = False)"
   ]
  },
  {
   "cell_type": "code",
   "execution_count": 6,
   "metadata": {},
   "outputs": [
    {
     "data": {
      "text/plain": [
       "Index(['hh_ids', 'unique_hhs', 'first_trx_date_hh', 'last_trx_date_hh',\n",
       "       'tot_hh_daysofobs', 'tot_hh_monthsofobs', 'interview_designation',\n",
       "       'int_date', 'int_month', 'int_year', 'int_yr_mo', 'first_int_date',\n",
       "       'account_ids', 'unique_accnts', 'm_ids_owner', 'unique_hm_owner',\n",
       "       'account_bsheet_desig', 'account_startclose_balance', 'account_formal',\n",
       "       'account_liquid', 'first_trx_date_acc', 'last_trx_date_acc',\n",
       "       'tot_acc_daysofobs', 'tot_acc_monthsofobs', 'trx_id', 'm_ids_trx',\n",
       "       'trx_date', 'trx_month', 'trx_year', 'trx_yr_mo', 'trx_dq_round',\n",
       "       'trx_stdtime_days_hh', 'trx_stdtime_mnths_hh', 'trx_stdtime_days_acc',\n",
       "       'trx_stdtime_mnths_acc', 'trx_class_code', 'trx_class_desc',\n",
       "       'trx_family_code', 'trx_family_desc', 'trx_type_code', 'trx_type_desc',\n",
       "       'trx_prx_purpose', 'trx_prx_purpose_fd', 'trx_fee',\n",
       "       'trx_bsheet_direction', 'trx_mode_code', 'trx_mode_desc',\n",
       "       'trx_place_incommunity', 'trx_distance_km', 'trx_outlet',\n",
       "       'trx_direction', 'trx_value_kes', 'trx_value_usd', 'ddd_gift',\n",
       "       'trx_inkind_units', 'trx_inkind_value_usd', 'trx_inkind_value_kes',\n",
       "       'trx_stdtime_mnths_hh_nr'],\n",
       "      dtype='object')"
      ]
     },
     "execution_count": 6,
     "metadata": {},
     "output_type": "execute_result"
    }
   ],
   "source": [
    "trx.columns"
   ]
  },
  {
   "cell_type": "markdown",
   "metadata": {},
   "source": [
    "### Question 1: How many individuals have any type of loan? "
   ]
  },
  {
   "cell_type": "code",
   "execution_count": 7,
   "metadata": {},
   "outputs": [
    {
     "data": {
      "text/plain": [
       "Asset        52021\n",
       "Liability    23078\n",
       "Insurance     1971\n",
       "Name: account_bsheet_desig, dtype: int64"
      ]
     },
     "execution_count": 7,
     "metadata": {},
     "output_type": "execute_result"
    }
   ],
   "source": [
    "trx.account_bsheet_desig.value_counts()"
   ]
  },
  {
   "cell_type": "code",
   "execution_count": 9,
   "metadata": {},
   "outputs": [
    {
     "data": {
      "text/plain": [
       "(23078, 58)"
      ]
     },
     "execution_count": 9,
     "metadata": {},
     "output_type": "execute_result"
    }
   ],
   "source": [
    "liability_trx = trx.loc[trx['account_bsheet_desig'] == \"Liability\"]\n",
    "liability_trx.shape"
   ]
  },
  {
   "cell_type": "code",
   "execution_count": 13,
   "metadata": {},
   "outputs": [
    {
     "data": {
      "text/plain": [
       "436"
      ]
     },
     "execution_count": 13,
     "metadata": {},
     "output_type": "execute_result"
    }
   ],
   "source": [
    "len(liability_trx.m_ids_owner.unique())"
   ]
  },
  {
   "cell_type": "code",
   "execution_count": 21,
   "metadata": {},
   "outputs": [
    {
     "data": {
      "text/plain": [
       "HH                   1615\n",
       "63134449728600000     682\n",
       "57134408247700000     652\n",
       "61134407559000000     450\n",
       "59134373356900000     446\n",
       "Name: m_ids_owner, dtype: int64"
      ]
     },
     "execution_count": 21,
     "metadata": {},
     "output_type": "execute_result"
    }
   ],
   "source": [
    "liability_trx.m_ids_owner.value_counts().head()"
   ]
  },
  {
   "cell_type": "code",
   "execution_count": 19,
   "metadata": {},
   "outputs": [
    {
     "data": {
      "text/plain": [
       "(97, 58)"
      ]
     },
     "execution_count": 19,
     "metadata": {},
     "output_type": "execute_result"
    }
   ],
   "source": [
    "liability_trx.loc[liability_trx['unique_hm_owner']==1].shape"
   ]
  },
  {
   "cell_type": "markdown",
   "metadata": {},
   "source": [
    "I am confused why the \"unique_hm_owner\" is 97, while the number of unique values of owners in the liability_trx df is 436; this is a big disparity so I'm not sure which one to use. Let's check it out"
   ]
  },
  {
   "cell_type": "markdown",
   "metadata": {},
   "source": [
    "### What is the individual loan profile for \"63134449728600000\", this account owner that has over 682 trxs in the dataset"
   ]
  },
  {
   "cell_type": "code",
   "execution_count": 29,
   "metadata": {},
   "outputs": [],
   "source": [
    "id_a = '63134449728600000'\n",
    "trx_id_a = liability_trx.loc[liability_trx['m_ids_owner']==id_a]"
   ]
  },
  {
   "cell_type": "code",
   "execution_count": 30,
   "metadata": {},
   "outputs": [
    {
     "data": {
      "text/plain": [
       "63135290342200000    671\n",
       "63136377011000000     11\n",
       "Name: account_ids, dtype: int64"
      ]
     },
     "execution_count": 30,
     "metadata": {},
     "output_type": "execute_result"
    }
   ],
   "source": [
    "trx_id_a.account_ids.value_counts()"
   ]
  },
  {
   "cell_type": "code",
   "execution_count": 31,
   "metadata": {},
   "outputs": [],
   "source": [
    "loan_1 = '63135290342200000'\n",
    "trx_loan_1 = liability_trx.loc[liability_trx['account_ids']==loan_1]"
   ]
  },
  {
   "cell_type": "code",
   "execution_count": 33,
   "metadata": {},
   "outputs": [],
   "source": [
    "trx_loan_1 = trx_loan_1.copy()"
   ]
  },
  {
   "cell_type": "code",
   "execution_count": 34,
   "metadata": {},
   "outputs": [],
   "source": [
    "trx_loan_1.sort_values(\"trx_stdtime_days_acc\", inplace=True)"
   ]
  },
  {
   "cell_type": "code",
   "execution_count": 35,
   "metadata": {},
   "outputs": [
    {
     "name": "stdout",
     "output_type": "stream",
     "text": [
      "Error neither increase nor decrease at index7421\n"
     ]
    }
   ],
   "source": [
    "for index, row in trx_loan_1.iterrows():\n",
    "    if trx_loan_1.loc[index,\"trx_bsheet_direction\"]==\"Increase\":\n",
    "        trx_loan_1.at[index,\"trx_val_dir\"] = trx_loan_1.loc[index,\"trx_value_kes\"]\n",
    "    elif trx_loan_1.loc[index,\"trx_bsheet_direction\"]==\"Decrease\":\n",
    "        trx_loan_1.at[index,\"trx_val_dir\"] = -trx_loan_1.loc[index,\"trx_value_kes\"]\n",
    "    else:\n",
    "        print(\"Error neither increase nor decrease at index\" + str(index))"
   ]
  },
  {
   "cell_type": "code",
   "execution_count": 37,
   "metadata": {},
   "outputs": [],
   "source": [
    "trx_loan_1.insert(59,\"bal_evol\",np.zeros(trx_loan_1.shape[0]))"
   ]
  },
  {
   "cell_type": "code",
   "execution_count": 38,
   "metadata": {},
   "outputs": [],
   "source": [
    "s=0\n",
    "for index,row in trx_loan_1.iterrows():\n",
    "    s+=trx_loan_1.loc[index,\"trx_val_dir\"]\n",
    "    trx_loan_1.at[index,\"bal_evol\"]=s"
   ]
  },
  {
   "cell_type": "code",
   "execution_count": 44,
   "metadata": {},
   "outputs": [
    {
     "data": {
      "image/png": "[encoded data removed]",
      "text/plain": [
       "<matplotlib.figure.Figure at 0x11e278240>"
      ]
     },
     "metadata": {},
     "output_type": "display_data"
    }
   ],
   "source": [
    "trx_loan_1.plot(x=\"trx_stdtime_days_acc\",y=\"bal_evol\", marker = \"o\")\n",
    "plt.title( 'ACCT # '+str(a))\n",
    "plt_name = 'acct_'+str(a)+'_graph.png'\n",
    "plt.savefig(plt_name)"
   ]
  },
  {
   "cell_type": "code",
   "execution_count": 84,
   "metadata": {},
   "outputs": [],
   "source": [
    "# trx_loan_1[[\"trx_stdtime_days_acc\",\"trx_value_kes\",\"trx_prx_purpose\",\"trx_direction\",\"trx_bsheet_direction\",\"trx_val_dir\"]]"
   ]
  },
  {
   "cell_type": "markdown",
   "metadata": {},
   "source": [
    "### What is the individual loan profile for \"57134408247700000\", this account owner that has over 652 trxs in the dataset"
   ]
  },
  {
   "cell_type": "code",
   "execution_count": 70,
   "metadata": {},
   "outputs": [],
   "source": [
    "id_b = '57134408247700000'\n",
    "trx_id_b = liability_trx.loc[liability_trx['m_ids_owner']==id_b]"
   ]
  },
  {
   "cell_type": "code",
   "execution_count": 72,
   "metadata": {},
   "outputs": [],
   "source": [
    "loan_2 = '57136612748000000'\n",
    "trx_loan_2 = liability_trx.loc[liability_trx['account_ids']==loan_2]"
   ]
  },
  {
   "cell_type": "code",
   "execution_count": 73,
   "metadata": {},
   "outputs": [],
   "source": [
    "trx_loan_2 = trx_loan_2.copy()"
   ]
  },
  {
   "cell_type": "code",
   "execution_count": 85,
   "metadata": {
    "scrolled": true
   },
   "outputs": [],
   "source": [
    "# trx_loan_2.head()"
   ]
  },
  {
   "cell_type": "code",
   "execution_count": 76,
   "metadata": {},
   "outputs": [],
   "source": [
    "trx_loan_2.sort_values(\"trx_stdtime_days_acc\", inplace=True)"
   ]
  },
  {
   "cell_type": "code",
   "execution_count": 77,
   "metadata": {},
   "outputs": [
    {
     "name": "stdout",
     "output_type": "stream",
     "text": [
      "Error neither increase nor decrease at index1860\n"
     ]
    }
   ],
   "source": [
    "for index, row in trx_loan_2.iterrows():\n",
    "    if trx_loan_2.loc[index,\"trx_bsheet_direction\"]==\"Increase\":\n",
    "        trx_loan_2.at[index,\"trx_val_dir\"] = trx_loan_2.loc[index,\"trx_value_kes\"]\n",
    "    elif trx_loan_2.loc[index,\"trx_bsheet_direction\"]==\"Decrease\":\n",
    "        trx_loan_2.at[index,\"trx_val_dir\"] = -trx_loan_2.loc[index,\"trx_value_kes\"]\n",
    "    else:\n",
    "        print(\"Error neither increase nor decrease at index\" + str(index))"
   ]
  },
  {
   "cell_type": "code",
   "execution_count": 78,
   "metadata": {},
   "outputs": [],
   "source": [
    "trx_loan_2.insert(trx_loan_2.shape[1],\"bal_evol\",np.zeros(trx_loan_2.shape[0]))"
   ]
  },
  {
   "cell_type": "code",
   "execution_count": 80,
   "metadata": {},
   "outputs": [],
   "source": [
    "s=0\n",
    "for index,row in trx_loan_2.iterrows():\n",
    "    s+=trx_loan_2.loc[index,\"trx_val_dir\"]\n",
    "    trx_loan_2.at[index,\"bal_evol\"]=s"
   ]
  },
  {
   "cell_type": "code",
   "execution_count": 81,
   "metadata": {},
   "outputs": [
    {
     "data": {
      "image/png": "[encoded data removed]",
      "text/plain": [
       "<matplotlib.figure.Figure at 0x11e278160>"
      ]
     },
     "metadata": {},
     "output_type": "display_data"
    }
   ],
   "source": [
    "trx_loan_2.plot(x=\"trx_stdtime_days_acc\",y=\"bal_evol\", marker = \"o\")\n",
    "plt.title( 'ACCT # '+str(a))\n",
    "plt_name = 'acct_'+str(a)+'_graph.png'\n",
    "plt.savefig(plt_name)"
   ]
  },
  {
   "cell_type": "code",
   "execution_count": 83,
   "metadata": {
    "scrolled": false
   },
   "outputs": [],
   "source": [
    "# trx_loan_2[[\"trx_stdtime_days_acc\",\"trx_value_kes\",\"trx_prx_purpose\",\"trx_direction\",\"trx_bsheet_direction\",\"trx_val_dir\"]]"
   ]
  },
  {
   "cell_type": "markdown",
   "metadata": {},
   "source": [
    "### Conclusions from this section: "
   ]
  },
  {
   "cell_type": "markdown",
   "metadata": {},
   "source": [
    "It appears that these accounts are supplier credits. We should get rid of all with \"unexplained balance adjustments\" though; let's see what happens when we do that, and how many loans are left: "
   ]
  },
  {
   "cell_type": "markdown",
   "metadata": {},
   "source": [
    "## Removing those w/ unexplained balance adjustments & seeing how many loans we are left with, and if this is feasible: "
   ]
  },
  {
   "cell_type": "code",
   "execution_count": 88,
   "metadata": {},
   "outputs": [
    {
     "data": {
      "text/plain": [
       "2. New purchases on credit                      9862\n",
       "3. Payments                                     4353\n",
       "7. Closing Balance--End of last DQ              1190\n",
       "2. New borrowing                                1040\n",
       "Fee for using service (10% of repayment)         980\n",
       "New airtime on credit/new borrowing              978\n",
       "Repayment of outstanding credit w top up         934\n",
       "1. Starting balance (today)                      629\n",
       "2. New purchase on credit                        595\n",
       "3. Paying off debts                              356\n",
       "5. Interest accruing                             343\n",
       "2. New debt                                      297\n",
       "5. Closing Balance--End of last DQ               238\n",
       "6. Closing Balance--End of last DQ               225\n",
       "2. Accepting new deposits                        207\n",
       "1. Starting balance                              151\n",
       "3. Providing withdrawals                         123\n",
       "INCREASE--Unexplained balance adjustment         101\n",
       "DECREASE--Unexplained balance adjustment          92\n",
       "Closing Balance--End of last DQ                   77\n",
       "4. Closing Balance--End of last DQ                70\n",
       "4. Any known fees                                 44\n",
       "2. New Borrowing                                  32\n",
       "4. Repayments                                     29\n",
       "3. Interest or Service Fee                        28\n",
       "3. Payments--individual portion                   23\n",
       "6. Loan written off                               21\n",
       "4. Debt written off                               13\n",
       "2. New purchase on credit--total value            13\n",
       "2. New borrowinng (individual portion)            11\n",
       "2. New borrowinng                                 10\n",
       "6. Debt written off                                6\n",
       "7. Refund from lender                              2\n",
       "5. Interest accruing--individual portion           1\n",
       "4. Any known fees--individual portion              1\n",
       "2. New borrowing--individual portion               1\n",
       "7. Assets seized for write off                     1\n",
       "1. Starting balance (today)--individual part       1\n",
       "Name: trx_prx_purpose, dtype: int64"
      ]
     },
     "execution_count": 88,
     "metadata": {},
     "output_type": "execute_result"
    }
   ],
   "source": [
    "liability_trx.trx_prx_purpose.value_counts()"
   ]
  },
  {
   "cell_type": "code",
   "execution_count": 104,
   "metadata": {},
   "outputs": [],
   "source": [
    "increase_idxs = [idx for idx, purpose in enumerate(list(liability_trx['trx_prx_purpose'])) if 'INCREASE' in purpose]\n",
    "decrease_idxs = [idx for idx, purpose in enumerate(list(liability_trx['trx_prx_purpose'])) if 'DECREASE' in purpose]\n",
    "unexplained_idxs = [idx for idx, purpose in enumerate(list(liability_trx['trx_prx_purpose'])) if \"Unexplained\" in purpose]"
   ]
  },
  {
   "cell_type": "code",
   "execution_count": 106,
   "metadata": {},
   "outputs": [
    {
     "data": {
      "text/plain": [
       "True"
      ]
     },
     "execution_count": 106,
     "metadata": {},
     "output_type": "execute_result"
    }
   ],
   "source": [
    "set(unexplained_idxs) == set(increase_idxs+decrease_idxs)"
   ]
  },
  {
   "cell_type": "code",
   "execution_count": 113,
   "metadata": {},
   "outputs": [],
   "source": [
    "accts_with_unexplained_balance_adjustments = liability_trx.iloc[unexplained_idxs].account_ids"
   ]
  },
  {
   "cell_type": "code",
   "execution_count": 114,
   "metadata": {},
   "outputs": [
    {
     "data": {
      "text/plain": [
       "193"
      ]
     },
     "execution_count": 114,
     "metadata": {},
     "output_type": "execute_result"
    }
   ],
   "source": [
    "len(accts_with_unexplained_balance_adjustments)"
   ]
  },
  {
   "cell_type": "code",
   "execution_count": 116,
   "metadata": {},
   "outputs": [
    {
     "data": {
      "text/plain": [
       "1909"
      ]
     },
     "execution_count": 116,
     "metadata": {},
     "output_type": "execute_result"
    }
   ],
   "source": [
    "len(liability_trx.account_ids.unique())"
   ]
  },
  {
   "cell_type": "markdown",
   "metadata": {},
   "source": [
    "## We would have to get rid of how many formal loans if we take out those accounts w/ unexplained balance adjustments? "
   ]
  },
  {
   "cell_type": "code",
   "execution_count": 119,
   "metadata": {},
   "outputs": [],
   "source": [
    "unique_formal_loans = liability_trx.loc[liability_trx['account_formal']==\"Formal\"].account_ids.unique()"
   ]
  },
  {
   "cell_type": "code",
   "execution_count": 120,
   "metadata": {},
   "outputs": [],
   "source": [
    "count = 0\n",
    "for i in accts_with_unexplained_balance_adjustments: \n",
    "    if i in unique_formal_loans: \n",
    "        count+=1"
   ]
  },
  {
   "cell_type": "code",
   "execution_count": 121,
   "metadata": {},
   "outputs": [
    {
     "data": {
      "text/plain": [
       "30"
      ]
     },
     "execution_count": 121,
     "metadata": {},
     "output_type": "execute_result"
    }
   ],
   "source": [
    "count"
   ]
  },
  {
   "cell_type": "markdown",
   "metadata": {},
   "source": [
    "## Ok getting off track. Here is figuring out how many individuals have formal loans, of each different type: "
   ]
  },
  {
   "cell_type": "code",
   "execution_count": 123,
   "metadata": {},
   "outputs": [
    {
     "data": {
      "text/plain": [
       "217"
      ]
     },
     "execution_count": 123,
     "metadata": {},
     "output_type": "execute_result"
    }
   ],
   "source": [
    "len(unique_formal_loans)"
   ]
  },
  {
   "cell_type": "markdown",
   "metadata": {},
   "source": [
    "### 217 formal loans exist. Of these, how many individual owners: "
   ]
  },
  {
   "cell_type": "code",
   "execution_count": 125,
   "metadata": {},
   "outputs": [],
   "source": [
    "unique_formal_accts_df = liability_trx.loc[liability_trx['account_formal']==\"Formal\"].loc[liability_trx['unique_accnts']==1]"
   ]
  },
  {
   "cell_type": "code",
   "execution_count": 127,
   "metadata": {},
   "outputs": [
    {
     "data": {
      "text/plain": [
       "154"
      ]
     },
     "execution_count": 127,
     "metadata": {},
     "output_type": "execute_result"
    }
   ],
   "source": [
    "len(unique_formal_accts_df.m_ids_owner.unique())"
   ]
  },
  {
   "cell_type": "markdown",
   "metadata": {},
   "source": [
    "### 154 loaners of formal acounts. How many of these individuals have 'formal loan' and how many have 'supplier credit'? How many have both? "
   ]
  },
  {
   "cell_type": "code",
   "execution_count": 143,
   "metadata": {},
   "outputs": [
    {
     "data": {
      "text/plain": [
       "FRMLN      133\n",
       "SUPPCRD     82\n",
       "Name: trx_family_code, dtype: int64"
      ]
     },
     "execution_count": 143,
     "metadata": {},
     "output_type": "execute_result"
    }
   ],
   "source": [
    "unique_formal_accts_df.trx_family_code.value_counts()"
   ]
  },
  {
   "cell_type": "code",
   "execution_count": 142,
   "metadata": {},
   "outputs": [
    {
     "data": {
      "text/plain": [
       "Okoa Jahazi                                  82\n",
       "Individual Business or Agriculture Loan      48\n",
       "Consumer/ personal loan (not payday loan)    33\n",
       "Joint liability loan                         21\n",
       "M-SHWARI Loan                                14\n",
       "School Fees Loan                             12\n",
       "Credit card (including store card)            2\n",
       "Group Enterprise Loan                         2\n",
       "Student loan                                  1\n",
       "Name: trx_type_desc, dtype: int64"
      ]
     },
     "execution_count": 142,
     "metadata": {},
     "output_type": "execute_result"
    }
   ],
   "source": [
    "unique_formal_accts_df.trx_type_desc.value_counts()"
   ]
  },
  {
   "cell_type": "code",
   "execution_count": 145,
   "metadata": {},
   "outputs": [],
   "source": [
    "both = []\n",
    "suppl = []\n",
    "frmln = []\n",
    "\n",
    "for owner in unique_formal_accts_df.m_ids_owner.unique(): \n",
    "    owner_df = unique_formal_accts_df.loc[unique_formal_accts_df['m_ids_owner']== owner]\n",
    "    if len(owner_df.trx_family_code.value_counts()) == 1: \n",
    "        if list(owner_df['trx_family_code'])[0] == \"SUPPCRD\": \n",
    "            suppl.append(owner)\n",
    "        else: \n",
    "            frmln.append(owner)\n",
    "    else: \n",
    "        both.append(owner)"
   ]
  },
  {
   "cell_type": "code",
   "execution_count": 147,
   "metadata": {},
   "outputs": [
    {
     "data": {
      "text/plain": [
       "['57134364414700000',\n",
       " '61134398779000000',\n",
       " '57134320447800000',\n",
       " '63134459785700000',\n",
       " '59134363516700000',\n",
       " '57134408247700000',\n",
       " '63134363237200000',\n",
       " '61134338082500000',\n",
       " '79134829266800000',\n",
       " '64134382466300000',\n",
       " '57134319815200000',\n",
       " '59134372493300000',\n",
       " '57134381707600000',\n",
       " '57134363181700000',\n",
       " '79134985767500000',\n",
       " '58134382346100000']"
      ]
     },
     "execution_count": 147,
     "metadata": {},
     "output_type": "execute_result"
    }
   ],
   "source": [
    "both"
   ]
  },
  {
   "cell_type": "markdown",
   "metadata": {},
   "source": [
    "### Ok, so let's say we want to include the informal \"group\" loans, "
   ]
  },
  {
   "cell_type": "code",
   "execution_count": 166,
   "metadata": {},
   "outputs": [],
   "source": [
    "unique_liabilities = liability_trx.loc[liability_trx['unique_accnts']==1]"
   ]
  },
  {
   "cell_type": "code",
   "execution_count": 169,
   "metadata": {},
   "outputs": [
    {
     "data": {
      "text/plain": [
       "436"
      ]
     },
     "execution_count": 169,
     "metadata": {},
     "output_type": "execute_result"
    }
   ],
   "source": [
    "unique_owners = unique_liabilities.m_ids_owner.unique()\n",
    "len(unique_owners)"
   ]
  },
  {
   "cell_type": "code",
   "execution_count": 164,
   "metadata": {},
   "outputs": [
    {
     "data": {
      "text/html": [
       "<div>\n",
       "<style scoped>\n",
       "    .dataframe tbody tr th:only-of-type {\n",
       "        vertical-align: middle;\n",
       "    }\n",
       "\n",
       "    .dataframe tbody tr th {\n",
       "        vertical-align: top;\n",
       "    }\n",
       "\n",
       "    .dataframe thead th {\n",
       "        text-align: right;\n",
       "    }\n",
       "</style>\n",
       "<table border=\"1\" class=\"dataframe\">\n",
       "  <thead>\n",
       "    <tr style=\"text-align: right;\">\n",
       "      <th></th>\n",
       "    </tr>\n",
       "  </thead>\n",
       "  <tbody>\n",
       "  </tbody>\n",
       "</table>\n",
       "</div>"
      ],
      "text/plain": [
       "Empty DataFrame\n",
       "Columns: []\n",
       "Index: []"
      ]
     },
     "execution_count": 164,
     "metadata": {},
     "output_type": "execute_result"
    }
   ],
   "source": []
  },
  {
   "cell_type": "code",
   "execution_count": null,
   "metadata": {},
   "outputs": [],
   "source": []
  }
 ],
 "metadata": {
  "kernelspec": {
   "display_name": "Python 3",
   "language": "python",
   "name": "python3"
  },
  "language_info": {
   "codemirror_mode": {
    "name": "ipython",
    "version": 3
   },
   "file_extension": ".py",
   "mimetype": "text/x-python",
   "name": "python",
   "nbconvert_exporter": "python",
   "pygments_lexer": "ipython3",
   "version": "3.7.3"
  }
 },
 "nbformat": 4,
 "nbformat_minor": 2
}
