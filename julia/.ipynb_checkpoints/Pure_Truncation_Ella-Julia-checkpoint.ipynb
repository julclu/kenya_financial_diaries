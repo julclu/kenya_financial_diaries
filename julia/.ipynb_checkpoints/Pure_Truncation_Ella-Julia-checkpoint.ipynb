{
 "cells": [
  {
   "cell_type": "code",
   "execution_count": 2,
   "metadata": {},
   "outputs": [],
   "source": [
    "import pandas as pd\n",
    "import numpy as np\n",
    "import math as math\n",
    "import matplotlib.pyplot as plt\n",
    "import seaborn as sns\n",
    "import random\n",
    "%matplotlib inline "
   ]
  },
  {
   "cell_type": "code",
   "execution_count": 3,
   "metadata": {},
   "outputs": [],
   "source": [
    "# to see all the columns when using head() or describe()\n",
    "pd.set_option('display.max_columns',60)"
   ]
  },
  {
   "cell_type": "code",
   "execution_count": 4,
   "metadata": {},
   "outputs": [],
   "source": [
    "df = pd.read_csv(\"../diaries_transactions_all.csv\", dtype={'account_startclose_balance': str})"
   ]
  },
  {
   "cell_type": "markdown",
   "metadata": {},
   "source": [
    "## For now I keep only \"business and agriculture loans\", \"joint liability loans\", \"personal loans\", \"borrowing from an informal group\""
   ]
  },
  {
   "cell_type": "code",
   "execution_count": 5,
   "metadata": {},
   "outputs": [],
   "source": [
    "dfb = df[((df[\"trx_family_code\"]==\"FRMLN\")&((df[\"trx_type_code\"]==2760)|(df[\"trx_type_code\"]==3247)|(df[\"trx_type_code\"]==2762)))|((df[\"trx_family_code\"]==\"INFGRP\")&(df[\"trx_type_code\"]==3395))]"
   ]
  },
  {
   "cell_type": "markdown",
   "metadata": {},
   "source": [
    "# 1. Get rid of loans of with unexplained balance adjustments"
   ]
  },
  {
   "cell_type": "code",
   "execution_count": 6,
   "metadata": {
    "scrolled": true
   },
   "outputs": [
    {
     "data": {
      "text/plain": [
       "array(['7. Closing Balance--End of last DQ',\n",
       "       '6. Closing Balance--End of last DQ',\n",
       "       '1. Starting balance (today)', '5. Interest accruing',\n",
       "       'DECREASE--Unexplained balance adjustment',\n",
       "       'INCREASE--Unexplained balance adjustment', '3. Payments',\n",
       "       '4. Any known fees', '2. New borrowinng (individual portion)',\n",
       "       '2. New borrowing', '7. Refund from lender'], dtype=object)"
      ]
     },
     "execution_count": 6,
     "metadata": {},
     "output_type": "execute_result"
    }
   ],
   "source": [
    "dfb[\"trx_prx_purpose\"].unique()"
   ]
  },
  {
   "cell_type": "markdown",
   "metadata": {},
   "source": [
    "We insert a new column that is 0 if there is no unexplained balance adjustment for this account and a 1 if there is one. The column in 1 or 0 for all entries that correspond to that account."
   ]
  },
  {
   "cell_type": "code",
   "execution_count": 7,
   "metadata": {},
   "outputs": [],
   "source": [
    "dfb.insert(dfb.shape[1], \"acc_unexplained_trx\", np.zeros(dfb.shape[0]))"
   ]
  },
  {
   "cell_type": "markdown",
   "metadata": {},
   "source": [
    "This program goes through all unique accounts, checks whether it has an unexplained balance adjustment and if yes sets the variable u to 1. Then it goes through another for-loop and sets the entries of that column 0 for all accounts that have an unexplained balance adjustment."
   ]
  },
  {
   "cell_type": "code",
   "execution_count": 8,
   "metadata": {},
   "outputs": [],
   "source": [
    "for acc in dfb[\"account_ids\"].unique():\n",
    "    u = 0\n",
    "    for index,row in dfb[dfb[\"account_ids\"]==acc].iterrows():\n",
    "        if row[\"trx_prx_purpose\"]==\"DECREASE--Unexplained balance adjustment\" or row[\"trx_prx_purpose\"]==\"INCREASE--Unexplained balance adjustment\":\n",
    "            u = 1\n",
    "    for index,row in dfb[dfb[\"account_ids\"]==acc].iterrows():\n",
    "        dfb.at[index,\"acc_unexplained_trx\"] = u"
   ]
  },
  {
   "cell_type": "markdown",
   "metadata": {},
   "source": [
    "### Let us check if it worked."
   ]
  },
  {
   "cell_type": "code",
   "execution_count": 9,
   "metadata": {
    "scrolled": false
   },
   "outputs": [
    {
     "name": "stdout",
     "output_type": "stream",
     "text": [
      "{'6. Closing Balance--End of last DQ', '3. Payments', '1. Starting balance (today)', '2. New borrowing', '5. Interest accruing', '7. Closing Balance--End of last DQ', '4. Any known fees', '7. Refund from lender', '2. New borrowinng (individual portion)'}\n"
     ]
    }
   ],
   "source": [
    "s = set()\n",
    "for acc in dfb[dfb[\"acc_unexplained_trx\"]==0][\"account_ids\"].unique():\n",
    "     for i in dfb[dfb[\"account_ids\"]==acc][\"trx_prx_purpose\"].unique():\n",
    "            s.add(i)\n",
    "print(s)"
   ]
  },
  {
   "cell_type": "markdown",
   "metadata": {},
   "source": [
    "# Let's now only use the loans that have no unexplained balance adjustments."
   ]
  },
  {
   "cell_type": "code",
   "execution_count": 10,
   "metadata": {},
   "outputs": [],
   "source": [
    "dfb = dfb[dfb[\"acc_unexplained_trx\"]==0]"
   ]
  },
  {
   "cell_type": "markdown",
   "metadata": {},
   "source": [
    "# 2. Truncation into chunks with no new borrowing"
   ]
  },
  {
   "cell_type": "markdown",
   "metadata": {},
   "source": [
    "We first insert a column for the new account numbers. These will be like the old account numbers but with a .1 or .2 for each chunk after a new borrowing."
   ]
  },
  {
   "cell_type": "code",
   "execution_count": 11,
   "metadata": {},
   "outputs": [],
   "source": [
    "# this is sometimes necessary if we mess smt up\n",
    "# del dfb[\"new_account_ids\"]"
   ]
  },
  {
   "cell_type": "code",
   "execution_count": 12,
   "metadata": {},
   "outputs": [],
   "source": [
    "dfb.insert(df.columns.get_loc(\"account_ids\")+1,\"new_account_ids\", [\"-\"]*(dfb.shape[0]))"
   ]
  },
  {
   "cell_type": "markdown",
   "metadata": {},
   "source": [
    "### Now let's adjust this such that new borrowings are always the first thing on one day, and then run the same program as before."
   ]
  },
  {
   "cell_type": "code",
   "execution_count": 13,
   "metadata": {
    "scrolled": true
   },
   "outputs": [
    {
     "name": "stdout",
     "output_type": "stream",
     "text": [
      "Several new borrowings on day 244, check manually account 61135946960100000 in category [3395]\n"
     ]
    }
   ],
   "source": [
    "for acc in dfb[\"account_ids\"].unique():\n",
    "    i=0\n",
    "    # we will use \"indices\" to save the reordered indices of the dataset for each unique loan\n",
    "    indices = []\n",
    "    # we will use \"index_bor\" to save the index of the new borrowing that happens on a given day,\n",
    "    #whenever there were also other transactions (since we need that index to be first)\n",
    "    index_bor = 0\n",
    "    #only keep the rows of that account\n",
    "    lna = dfb[dfb[\"account_ids\"]==acc]\n",
    "    # sort the dataset according to time\n",
    "    lna = lna.sort_values(\"trx_stdtime_days_acc\")\n",
    "    # for each day in the dataset of the account, we check whether there was \n",
    "    # a new borrowingo or starting balance and if yes reorder\n",
    "    for d in lna[\"trx_stdtime_days_acc\"].unique():\n",
    "        # if only one entry that day we just add the index to indices\n",
    "        if lna[lna[\"trx_stdtime_days_acc\"]==d].shape[0]==1:\n",
    "            indices.append(lna[lna[\"trx_stdtime_days_acc\"]==d].index[0])\n",
    "        # if there are more than 1 entry that day\n",
    "        elif lna[lna[\"trx_stdtime_days_acc\"]==d].shape[0]>1:\n",
    "            # if there are more than one new borrowings or starting balances, we need to check manually\n",
    "            if lna[(lna[\"trx_stdtime_days_acc\"]==d)&((lna[\"trx_prx_purpose\"]==\"2. New borrowing\")|(lna[\"trx_prx_purpose\"]==\"2. New borrowing (individual portion)\")|(lna[\"trx_prx_purpose\"]==\"1. Starting balance (today)\"))].shape[0]>1:\n",
    "                print(\"Several new borrowings on day \" + str(d) +\", check manually account \" + acc + \" in category \"+ str(lna[\"trx_type_code\"].unique()))\n",
    "            #if there is exactly one new borrowing or starting balance that day (here we will need to check for each loan type what they exactly call new borrowings)\n",
    "            elif lna[(lna[\"trx_stdtime_days_acc\"]==d)&((lna[\"trx_prx_purpose\"]==\"2. New borrowing\")|(lna[\"trx_prx_purpose\"]==\"2. New borrowing (individual portion)\")|(lna[\"trx_prx_purpose\"]==\"1. Starting balance (today)\"))].shape[0]==1:\n",
    "                #for each type of new borrowing if there is one that day, put that index first into indices\n",
    "                for kind in [\"2. New borrowing\",\"2. New borrowing (individual portion)\",\"1. Starting balance (today)\"]:\n",
    "                    if kind in lna[lna[\"trx_stdtime_days_acc\"]==d][\"trx_prx_purpose\"].unique():\n",
    "                        index_bor = lna[(lna[\"trx_stdtime_days_acc\"]==d) & (lna[\"trx_prx_purpose\"]==kind)].index[0]\n",
    "                        indices.append(index_bor)\n",
    "                        #then add all other indices of that day\n",
    "                        for i in lna[lna[\"trx_stdtime_days_acc\"]==d].index.drop(index_bor):\n",
    "                           indices.append(i)\n",
    "            # if there are several entries for that day but none of them new borrowings just add all indices of that day            \n",
    "            else:\n",
    "                for i in lna[lna[\"trx_stdtime_days_acc\"]==d].index:\n",
    "                    indices.append(i)\n",
    "    # here we reindex the lna dataset\n",
    "    lna = lna.loc[indices,]\n",
    "    #v will be the index of the chunk we are currently at\n",
    "    v=1\n",
    "    # saving the old account number\n",
    "    acc = lna[\"account_ids\"].unique()[0]\n",
    "    # a is the new account number for each chunk\n",
    "    a = lna[\"account_ids\"].unique()[0]+\".1\"\n",
    "    # we go through all rows of lna and change the entries of the column \"new_account_ids\" in the original dataset.\n",
    "    for index, row in lna.iterrows():\n",
    "        # if there is a new borrowing in the row, increase v by 1 and set a to acc.v\n",
    "        if row[\"trx_prx_purpose\"] == \"2. New borrowinng (individual portion)\" or row[\"trx_prx_purpose\"] == \"2. New borrowing\":\n",
    "            v +=1\n",
    "            a = acc+\".\"+str(v)\n",
    "            dfb.at[index,\"new_account_ids\"]=a\n",
    "        # otherwise set the new account number in that row to a\n",
    "        else:\n",
    "             dfb.at[index,\"new_account_ids\"]=a"
   ]
  },
  {
   "cell_type": "markdown",
   "metadata": {},
   "source": [
    "The account 61135946960100000 seems to have several new borrowings on day 244."
   ]
  },
  {
   "cell_type": "code",
   "execution_count": 14,
   "metadata": {},
   "outputs": [
    {
     "data": {
      "text/html": [
       "<div>\n",
       "<style scoped>\n",
       "    .dataframe tbody tr th:only-of-type {\n",
       "        vertical-align: middle;\n",
       "    }\n",
       "\n",
       "    .dataframe tbody tr th {\n",
       "        vertical-align: top;\n",
       "    }\n",
       "\n",
       "    .dataframe thead th {\n",
       "        text-align: right;\n",
       "    }\n",
       "</style>\n",
       "<table border=\"1\" class=\"dataframe\">\n",
       "  <thead>\n",
       "    <tr style=\"text-align: right;\">\n",
       "      <th></th>\n",
       "      <th>trx_stdtime_days_acc</th>\n",
       "      <th>trx_prx_purpose</th>\n",
       "      <th>trx_value_kes</th>\n",
       "      <th>trx_bsheet_direction</th>\n",
       "    </tr>\n",
       "  </thead>\n",
       "  <tbody>\n",
       "    <tr>\n",
       "      <th>5052</th>\n",
       "      <td>285</td>\n",
       "      <td>7. Closing Balance--End of last DQ</td>\n",
       "      <td>3800.0</td>\n",
       "      <td>NaN</td>\n",
       "    </tr>\n",
       "    <tr>\n",
       "      <th>43429</th>\n",
       "      <td>141</td>\n",
       "      <td>2. New borrowing</td>\n",
       "      <td>2000.0</td>\n",
       "      <td>Increase</td>\n",
       "    </tr>\n",
       "    <tr>\n",
       "      <th>118905</th>\n",
       "      <td>0</td>\n",
       "      <td>2. New borrowing</td>\n",
       "      <td>500.0</td>\n",
       "      <td>Increase</td>\n",
       "    </tr>\n",
       "    <tr>\n",
       "      <th>195059</th>\n",
       "      <td>5</td>\n",
       "      <td>3. Payments</td>\n",
       "      <td>500.0</td>\n",
       "      <td>Decrease</td>\n",
       "    </tr>\n",
       "    <tr>\n",
       "      <th>212855</th>\n",
       "      <td>244</td>\n",
       "      <td>2. New borrowing</td>\n",
       "      <td>1300.0</td>\n",
       "      <td>Increase</td>\n",
       "    </tr>\n",
       "    <tr>\n",
       "      <th>295268</th>\n",
       "      <td>244</td>\n",
       "      <td>2. New borrowing</td>\n",
       "      <td>500.0</td>\n",
       "      <td>Increase</td>\n",
       "    </tr>\n",
       "  </tbody>\n",
       "</table>\n",
       "</div>"
      ],
      "text/plain": [
       "        trx_stdtime_days_acc                     trx_prx_purpose  \\\n",
       "5052                     285  7. Closing Balance--End of last DQ   \n",
       "43429                    141                    2. New borrowing   \n",
       "118905                     0                    2. New borrowing   \n",
       "195059                     5                         3. Payments   \n",
       "212855                   244                    2. New borrowing   \n",
       "295268                   244                    2. New borrowing   \n",
       "\n",
       "        trx_value_kes trx_bsheet_direction  \n",
       "5052           3800.0                  NaN  \n",
       "43429          2000.0             Increase  \n",
       "118905          500.0             Increase  \n",
       "195059          500.0             Decrease  \n",
       "212855         1300.0             Increase  \n",
       "295268          500.0             Increase  "
      ]
     },
     "execution_count": 14,
     "metadata": {},
     "output_type": "execute_result"
    }
   ],
   "source": [
    "dfb[dfb[\"account_ids\"]==\"61135946960100000\"][[\"trx_stdtime_days_acc\",\"trx_prx_purpose\",\"trx_value_kes\",\"trx_bsheet_direction\"]]"
   ]
  },
  {
   "cell_type": "markdown",
   "metadata": {},
   "source": [
    "### Should we just get rid of this account?"
   ]
  },
  {
   "cell_type": "code",
   "execution_count": 15,
   "metadata": {},
   "outputs": [],
   "source": [
    "dfb = dfb[dfb[\"account_ids\"]!=\"61135946960100000\"]"
   ]
  },
  {
   "cell_type": "code",
   "execution_count": 16,
   "metadata": {},
   "outputs": [],
   "source": [
    "dfb.to_csv(\"diaries_trx_trunc_loans.csv\")"
   ]
  },
  {
   "cell_type": "markdown",
   "metadata": {},
   "source": [
    "### Careful: the column \"unique_accnts\" is not accurate anymore."
   ]
  },
  {
   "cell_type": "code",
   "execution_count": null,
   "metadata": {},
   "outputs": [],
   "source": []
  }
 ],
 "metadata": {
  "kernelspec": {
   "display_name": "Python 3",
   "language": "python",
   "name": "python3"
  },
  "language_info": {
   "codemirror_mode": {
    "name": "ipython",
    "version": 3
   },
   "file_extension": ".py",
   "mimetype": "text/x-python",
   "name": "python",
   "nbconvert_exporter": "python",
   "pygments_lexer": "ipython3",
   "version": "3.6.4"
  }
 },
 "nbformat": 4,
 "nbformat_minor": 2
}
