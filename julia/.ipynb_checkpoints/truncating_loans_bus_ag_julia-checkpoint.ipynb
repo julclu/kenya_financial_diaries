{
 "cells": [
  {
   "cell_type": "code",
   "execution_count": 1,
   "metadata": {},
   "outputs": [],
   "source": [
    "import os\n",
    "import pandas as pd \n",
    "import glob\n",
    "import random \n",
    "import numpy as np\n",
    "import matplotlib.pyplot as plt\n",
    "%matplotlib inline "
   ]
  },
  {
   "cell_type": "markdown",
   "metadata": {},
   "source": [
    "## Goal: Truncate loans at appropriate places; perhaps using new borrowing as a place to start? "
   ]
  },
  {
   "cell_type": "code",
   "execution_count": 2,
   "metadata": {},
   "outputs": [],
   "source": [
    "trx = pd.read_csv('../diaries_transactions_all.csv', low_memory=False)"
   ]
  },
  {
   "cell_type": "code",
   "execution_count": 3,
   "metadata": {},
   "outputs": [
    {
     "data": {
      "text/plain": [
       "Index(['hh_ids', 'unique_hhs', 'first_trx_date_hh', 'last_trx_date_hh',\n",
       "       'tot_hh_daysofobs', 'tot_hh_monthsofobs', 'interview_designation',\n",
       "       'int_date', 'int_month', 'int_year', 'int_yr_mo', 'first_int_date',\n",
       "       'account_ids', 'unique_accnts', 'm_ids_owner', 'unique_hm_owner',\n",
       "       'account_bsheet_desig', 'account_startclose_balance', 'account_formal',\n",
       "       'account_liquid', 'first_trx_date_acc', 'last_trx_date_acc',\n",
       "       'tot_acc_daysofobs', 'tot_acc_monthsofobs', 'trx_id', 'm_ids_trx',\n",
       "       'trx_date', 'trx_month', 'trx_year', 'trx_yr_mo', 'trx_dq_round',\n",
       "       'trx_stdtime_days_hh', 'trx_stdtime_mnths_hh', 'trx_stdtime_days_acc',\n",
       "       'trx_stdtime_mnths_acc', 'trx_class_code', 'trx_class_desc',\n",
       "       'trx_family_code', 'trx_family_desc', 'trx_type_code', 'trx_type_desc',\n",
       "       'trx_prx_purpose', 'trx_prx_purpose_fd', 'trx_fee',\n",
       "       'trx_bsheet_direction', 'trx_mode_code', 'trx_mode_desc',\n",
       "       'trx_place_incommunity', 'trx_distance_km', 'trx_outlet',\n",
       "       'trx_direction', 'trx_value_kes', 'trx_value_usd', 'ddd_gift',\n",
       "       'trx_inkind_units', 'trx_inkind_value_usd', 'trx_inkind_value_kes',\n",
       "       'trx_stdtime_mnths_hh_nr'],\n",
       "      dtype='object')"
      ]
     },
     "execution_count": 3,
     "metadata": {},
     "output_type": "execute_result"
    }
   ],
   "source": [
    "trx.columns"
   ]
  },
  {
   "cell_type": "code",
   "execution_count": 4,
   "metadata": {},
   "outputs": [],
   "source": [
    "pd.set_option('display.max_columns',200)"
   ]
  },
  {
   "cell_type": "markdown",
   "metadata": {},
   "source": [
    "### Subset to Formal Loans: "
   ]
  },
  {
   "cell_type": "code",
   "execution_count": 5,
   "metadata": {},
   "outputs": [
    {
     "data": {
      "text/plain": [
       "(1429, 58)"
      ]
     },
     "execution_count": 5,
     "metadata": {},
     "output_type": "execute_result"
    }
   ],
   "source": [
    "frmln_trx = trx.loc[trx['trx_family_code']=='FRMLN']\n",
    "frmln_trx.shape"
   ]
  },
  {
   "cell_type": "markdown",
   "metadata": {},
   "source": [
    "#### How many individual business or agriculture loans are there? "
   ]
  },
  {
   "cell_type": "code",
   "execution_count": 7,
   "metadata": {},
   "outputs": [
    {
     "data": {
      "text/plain": [
       "Individual Business or Agriculture Loan      48\n",
       "Consumer/ personal loan (not payday loan)    33\n",
       "Hire Purchase                                24\n",
       "Joint liability loan                         21\n",
       "M-SHWARI Loan                                14\n",
       "School Fees Loan                             12\n",
       "Payday loan                                   2\n",
       "Credit card (including store card)            2\n",
       "Group Enterprise Loan                         2\n",
       "Student loan                                  1\n",
       "Name: trx_type_desc, dtype: int64"
      ]
     },
     "execution_count": 7,
     "metadata": {},
     "output_type": "execute_result"
    }
   ],
   "source": [
    "frmln_trx.loc[frmln_trx['unique_accnts']==1].trx_type_desc.value_counts()"
   ]
  },
  {
   "cell_type": "code",
   "execution_count": 9,
   "metadata": {},
   "outputs": [
    {
     "data": {
      "text/plain": [
       "2760    48\n",
       "2762    33\n",
       "3398    24\n",
       "3247    21\n",
       "4219    14\n",
       "3397    12\n",
       "2761     2\n",
       "2746     2\n",
       "3502     2\n",
       "2759     1\n",
       "Name: trx_type_code, dtype: int64"
      ]
     },
     "execution_count": 9,
     "metadata": {},
     "output_type": "execute_result"
    }
   ],
   "source": [
    "frmln_trx.loc[frmln_trx['unique_accnts']==1].trx_type_code.value_counts()"
   ]
  },
  {
   "cell_type": "markdown",
   "metadata": {},
   "source": [
    "#### Subset to only those formal loans of business or agriculture: "
   ]
  },
  {
   "cell_type": "code",
   "execution_count": 11,
   "metadata": {},
   "outputs": [],
   "source": [
    "bus_ag_trx = frmln_trx.loc[frmln_trx['trx_type_code']==2760]"
   ]
  },
  {
   "cell_type": "code",
   "execution_count": 12,
   "metadata": {},
   "outputs": [
    {
     "data": {
      "text/plain": [
       "(442, 58)"
      ]
     },
     "execution_count": 12,
     "metadata": {},
     "output_type": "execute_result"
    }
   ],
   "source": [
    "bus_ag_trx.shape"
   ]
  },
  {
   "cell_type": "code",
   "execution_count": 13,
   "metadata": {},
   "outputs": [
    {
     "data": {
      "text/plain": [
       "(48, 58)"
      ]
     },
     "execution_count": 13,
     "metadata": {},
     "output_type": "execute_result"
    }
   ],
   "source": [
    "bus_ag_trx.loc[bus_ag_trx['unique_accnts']==1].shape"
   ]
  },
  {
   "cell_type": "code",
   "execution_count": 14,
   "metadata": {},
   "outputs": [],
   "source": [
    "unique_accnt_ids = bus_ag_trx.loc[bus_ag_trx['unique_accnts']==1].account_ids"
   ]
  },
  {
   "cell_type": "code",
   "execution_count": 15,
   "metadata": {},
   "outputs": [
    {
     "data": {
      "text/plain": [
       "48"
      ]
     },
     "execution_count": 15,
     "metadata": {},
     "output_type": "execute_result"
    }
   ],
   "source": [
    "len(unique_accnt_ids)"
   ]
  },
  {
   "cell_type": "markdown",
   "metadata": {},
   "source": [
    "## Cycle through loans and observe their graphs "
   ]
  },
  {
   "cell_type": "code",
   "execution_count": 17,
   "metadata": {},
   "outputs": [],
   "source": [
    "bal_evol_df = pd.DataFrame()"
   ]
  },
  {
   "cell_type": "code",
   "execution_count": 20,
   "metadata": {},
   "outputs": [
    {
     "name": "stdout",
     "output_type": "stream",
     "text": [
      "0 105136540140100000\n",
      "Error neither increase nor decrease at index19299\n",
      "(9, 59)\n",
      "1 105137049319900000\n",
      "Error neither increase nor decrease at index3193\n",
      "(6, 59)\n",
      "2 56134798164800000\n",
      "Error neither increase nor decrease at index1078\n",
      "(9, 59)\n",
      "3 59134666467600000\n",
      "Error neither increase nor decrease at index19693\n",
      "(22, 59)\n",
      "4 60136436488300000\n",
      "Error neither increase nor decrease at index17802\n",
      "(9, 59)\n",
      "5 60134752045800000\n",
      "Error neither increase nor decrease at index20002\n",
      "(8, 59)\n",
      "6 60134787021500000\n",
      "Error neither increase nor decrease at index15364\n",
      "(2, 59)\n",
      "7 84136514083500000\n",
      "Error neither increase nor decrease at index5632\n",
      "(1, 58)\n",
      "Loan has only 1 entry for 84136514083500000\n",
      "8 59134752569200000\n",
      "Error neither increase nor decrease at index19873\n",
      "Error neither increase nor decrease at index24068\n",
      "(14, 59)\n",
      "9 60137430710900000\n",
      "Error neither increase nor decrease at index27\n",
      "(6, 59)\n",
      "10 84136879000800000\n",
      "Error neither increase nor decrease at index9403\n",
      "(9, 59)\n",
      "11 60138558075900000\n",
      "Error neither increase nor decrease at index6257\n",
      "(2, 59)\n",
      "12 59134942516400000\n",
      "Error neither increase nor decrease at index6641\n",
      "(8, 59)\n",
      "13 61134770676600000\n",
      "Error neither increase nor decrease at index5453\n",
      "(18, 59)\n",
      "14 59135021173400000\n",
      "Error neither increase nor decrease at index3716\n",
      "(4, 59)\n",
      "15 59134727113000000\n",
      "Error neither increase nor decrease at index3378\n",
      "(2, 59)\n",
      "16 105137629836900000\n",
      "Error neither increase nor decrease at index17639\n",
      "(4, 59)\n",
      "17 105137636847800000\n",
      "Error neither increase nor decrease at index21998\n",
      "(5, 59)\n",
      "18 59134691680100000\n",
      "(12, 59)\n",
      "19 59134726342000000\n",
      "Error neither increase nor decrease at index1956\n",
      "(15, 59)\n",
      "20 59134942469700000\n",
      "Error neither increase nor decrease at index21202\n",
      "(16, 59)\n",
      "21 56134761927800000\n",
      "Error neither increase nor decrease at index1340\n",
      "(9, 59)\n",
      "22 105136910664600000\n",
      "Error neither increase nor decrease at index24917\n",
      "(5, 59)\n",
      "23 60134978362300000\n",
      "Error neither increase nor decrease at index14332\n",
      "(27, 59)\n",
      "24 58134763288300000\n",
      "Error neither increase nor decrease at index5203\n",
      "(10, 59)\n",
      "25 59136376033300000\n",
      "Error neither increase nor decrease at index38535\n",
      "Error neither increase nor decrease at index4027\n",
      "(13, 59)\n",
      "26 59135332895300000\n",
      "Error neither increase nor decrease at index15424\n",
      "(13, 59)\n",
      "27 105137395238900000\n",
      "Error neither increase nor decrease at index23238\n",
      "(15, 59)\n",
      "28 60136500338400000\n",
      "(2, 59)\n",
      "29 59135288408400000\n",
      "Error neither increase nor decrease at index177005\n",
      "Error neither increase nor decrease at index5984\n",
      "(4, 59)\n",
      "30 60136531885600000\n",
      "Error neither increase nor decrease at index4005\n",
      "(5, 59)\n",
      "31 59135900709000000\n",
      "Error neither increase nor decrease at index6802\n",
      "(6, 59)\n",
      "32 59136386375100000\n",
      "Error neither increase nor decrease at index12641\n",
      "(11, 59)\n",
      "33 59136685821800000\n",
      "Error neither increase nor decrease at index5750\n",
      "(23, 59)\n",
      "34 60135893778700000\n",
      "Error neither increase nor decrease at index15825\n",
      "(6, 59)\n",
      "35 111137291327800000\n",
      "Error neither increase nor decrease at index12980\n",
      "(7, 59)\n",
      "36 59136861465600000\n",
      "Error neither increase nor decrease at index20951\n",
      "(8, 59)\n",
      "37 56134752442400000\n",
      "Error neither increase nor decrease at index23986\n",
      "(16, 59)\n",
      "38 62134821651800000\n",
      "Error neither increase nor decrease at index9179\n",
      "(17, 59)\n",
      "39 56135201879700000\n",
      "Error neither increase nor decrease at index17446\n",
      "(4, 59)\n",
      "40 59134753176900000\n",
      "(7, 59)\n",
      "41 58134814374400000\n",
      "Error neither increase nor decrease at index22920\n",
      "(13, 59)\n",
      "42 105137899512900000\n",
      "Error neither increase nor decrease at index20047\n",
      "(3, 59)\n",
      "43 56135290200100000\n",
      "Error neither increase nor decrease at index11397\n",
      "(12, 59)\n",
      "44 105137414874400000\n",
      "Error neither increase nor decrease at index5194\n",
      "(3, 59)\n",
      "45 59134865220800000\n",
      "Error neither increase nor decrease at index24633\n",
      "Error neither increase nor decrease at index14442\n",
      "(14, 59)\n",
      "46 59137629648900000\n",
      "Error neither increase nor decrease at index15503\n",
      "(6, 59)\n",
      "47 105137769890900000\n",
      "Error neither increase nor decrease at index3304\n",
      "(2, 59)\n"
     ]
    }
   ],
   "source": [
    "for idx, acct_id in enumerate(list(unique_accnt_ids)):\n",
    "    print(idx, acct_id)\n",
    "    loan_df = bus_ag_trx.loc[bus_ag_trx['account_ids']==acct_id]    \n",
    "    loan_df = loan_df.copy()\n",
    "    loan_df.sort_values(\"trx_stdtime_days_acc\", inplace=True)\n",
    "    for index, row in loan_df.iterrows():\n",
    "        if loan_df.loc[index,\"trx_bsheet_direction\"]==\"Increase\":\n",
    "            loan_df.at[index,\"trx_val_dir\"] = loan_df.loc[index,\"trx_value_kes\"]\n",
    "        elif loan_df.loc[index,\"trx_bsheet_direction\"]==\"Decrease\":\n",
    "            loan_df.at[index,\"trx_val_dir\"] = -loan_df.loc[index,\"trx_value_kes\"]\n",
    "        else:\n",
    "            print(\"Error neither increase nor decrease at index\" + str(index))\n",
    "    print(loan_df.shape) \n",
    "    if loan_df.shape[0] > 1: \n",
    "        loan_df.insert(loan_df.shape[1],\"bal_evol\",np.zeros(loan_df.shape[0]))\n",
    "        s=0\n",
    "        for index,row in loan_df.iterrows():\n",
    "            s+=loan_df.loc[index,\"trx_val_dir\"]\n",
    "            loan_df.at[index,\"bal_evol\"]=s\n",
    "    else: \n",
    "        print('Loan has only 1 entry for %s' %acct_id)\n",
    "    \n",
    "    bal_evol_df = bal_evol_df.append(loan_df, ignore_index = True)\n"
   ]
  },
  {
   "cell_type": "code",
   "execution_count": 21,
   "metadata": {},
   "outputs": [
    {
     "data": {
      "text/plain": [
       "(442, 60)"
      ]
     },
     "execution_count": 21,
     "metadata": {},
     "output_type": "execute_result"
    }
   ],
   "source": [
    "bal_evol_df.shape"
   ]
  },
  {
   "cell_type": "code",
   "execution_count": null,
   "metadata": {},
   "outputs": [],
   "source": [
    "bal_evol_df"
   ]
  }
 ],
 "metadata": {
  "kernelspec": {
   "display_name": "Python 3",
   "language": "python",
   "name": "python3"
  },
  "language_info": {
   "codemirror_mode": {
    "name": "ipython",
    "version": 3
   },
   "file_extension": ".py",
   "mimetype": "text/x-python",
   "name": "python",
   "nbconvert_exporter": "python",
   "pygments_lexer": "ipython3",
   "version": "3.6.4"
  }
 },
 "nbformat": 4,
 "nbformat_minor": 2
}
