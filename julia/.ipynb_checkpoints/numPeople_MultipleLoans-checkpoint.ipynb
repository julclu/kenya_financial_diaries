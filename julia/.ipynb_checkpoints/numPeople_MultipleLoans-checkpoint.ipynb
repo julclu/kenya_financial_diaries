{
 "cells": [
  {
   "cell_type": "code",
   "execution_count": 2,
   "metadata": {},
   "outputs": [],
   "source": [
    "import os\n",
    "import pandas as pd \n",
    "import glob\n",
    "import random \n",
    "import numpy as np\n",
    "import matplotlib.pyplot as plt\n",
    "%matplotlib inline "
   ]
  },
  {
   "cell_type": "code",
   "execution_count": 3,
   "metadata": {},
   "outputs": [],
   "source": [
    "pd.set_option('display.max_columns',200)\n",
    "pd.set_option('display.max_rows',680)"
   ]
  },
  {
   "cell_type": "markdown",
   "metadata": {},
   "source": [
    "## Determine the number of people with formal loans that also have other loans, and other quesitons regarding numbers of loans per person: "
   ]
  },
  {
   "cell_type": "code",
   "execution_count": 4,
   "metadata": {},
   "outputs": [],
   "source": [
    "trx = pd.read_csv('../diaries_transactions_all.csv', low_memory = False)"
   ]
  },
  {
   "cell_type": "code",
   "execution_count": 5,
   "metadata": {},
   "outputs": [
    {
     "data": {
      "text/plain": [
       "Index(['hh_ids', 'unique_hhs', 'first_trx_date_hh', 'last_trx_date_hh',\n",
       "       'tot_hh_daysofobs', 'tot_hh_monthsofobs', 'interview_designation',\n",
       "       'int_date', 'int_month', 'int_year', 'int_yr_mo', 'first_int_date',\n",
       "       'account_ids', 'unique_accnts', 'm_ids_owner', 'unique_hm_owner',\n",
       "       'account_bsheet_desig', 'account_startclose_balance', 'account_formal',\n",
       "       'account_liquid', 'first_trx_date_acc', 'last_trx_date_acc',\n",
       "       'tot_acc_daysofobs', 'tot_acc_monthsofobs', 'trx_id', 'm_ids_trx',\n",
       "       'trx_date', 'trx_month', 'trx_year', 'trx_yr_mo', 'trx_dq_round',\n",
       "       'trx_stdtime_days_hh', 'trx_stdtime_mnths_hh', 'trx_stdtime_days_acc',\n",
       "       'trx_stdtime_mnths_acc', 'trx_class_code', 'trx_class_desc',\n",
       "       'trx_family_code', 'trx_family_desc', 'trx_type_code', 'trx_type_desc',\n",
       "       'trx_prx_purpose', 'trx_prx_purpose_fd', 'trx_fee',\n",
       "       'trx_bsheet_direction', 'trx_mode_code', 'trx_mode_desc',\n",
       "       'trx_place_incommunity', 'trx_distance_km', 'trx_outlet',\n",
       "       'trx_direction', 'trx_value_kes', 'trx_value_usd', 'ddd_gift',\n",
       "       'trx_inkind_units', 'trx_inkind_value_usd', 'trx_inkind_value_kes',\n",
       "       'trx_stdtime_mnths_hh_nr'],\n",
       "      dtype='object')"
      ]
     },
     "execution_count": 5,
     "metadata": {},
     "output_type": "execute_result"
    }
   ],
   "source": [
    "trx.columns"
   ]
  },
  {
   "cell_type": "markdown",
   "metadata": {},
   "source": [
    "### Question 1: How many individuals have any type of loan? "
   ]
  },
  {
   "cell_type": "code",
   "execution_count": 6,
   "metadata": {},
   "outputs": [
    {
     "data": {
      "text/plain": [
       "Asset        52021\n",
       "Liability    23078\n",
       "Insurance     1971\n",
       "Name: account_bsheet_desig, dtype: int64"
      ]
     },
     "execution_count": 6,
     "metadata": {},
     "output_type": "execute_result"
    }
   ],
   "source": [
    "trx.account_bsheet_desig.value_counts()"
   ]
  },
  {
   "cell_type": "code",
   "execution_count": 7,
   "metadata": {},
   "outputs": [
    {
     "data": {
      "text/plain": [
       "(23078, 58)"
      ]
     },
     "execution_count": 7,
     "metadata": {},
     "output_type": "execute_result"
    }
   ],
   "source": [
    "liability_trx = trx.loc[trx['account_bsheet_desig'] == \"Liability\"]\n",
    "liability_trx.shape"
   ]
  },
  {
   "cell_type": "code",
   "execution_count": 8,
   "metadata": {},
   "outputs": [
    {
     "data": {
      "text/plain": [
       "436"
      ]
     },
     "execution_count": 8,
     "metadata": {},
     "output_type": "execute_result"
    }
   ],
   "source": [
    "len(liability_trx.m_ids_owner.unique())"
   ]
  },
  {
   "cell_type": "code",
   "execution_count": 9,
   "metadata": {},
   "outputs": [
    {
     "data": {
      "text/plain": [
       "HH                   1615\n",
       "63134449728600000     682\n",
       "57134408247700000     652\n",
       "61134407559000000     450\n",
       "59134373356900000     446\n",
       "Name: m_ids_owner, dtype: int64"
      ]
     },
     "execution_count": 9,
     "metadata": {},
     "output_type": "execute_result"
    }
   ],
   "source": [
    "liability_trx.m_ids_owner.value_counts().head()"
   ]
  },
  {
   "cell_type": "code",
   "execution_count": 10,
   "metadata": {},
   "outputs": [
    {
     "data": {
      "text/plain": [
       "(97, 58)"
      ]
     },
     "execution_count": 10,
     "metadata": {},
     "output_type": "execute_result"
    }
   ],
   "source": [
    "liability_trx.loc[liability_trx['unique_hm_owner']==1].shape"
   ]
  },
  {
   "cell_type": "markdown",
   "metadata": {},
   "source": [
    "I am confused why the \"unique_hm_owner\" is 97, while the number of unique values of owners in the liability_trx df is 436; this is a big disparity so I'm not sure which one to use. Let's check it out"
   ]
  },
  {
   "cell_type": "markdown",
   "metadata": {},
   "source": [
    "### What is the individual loan profile for \"63134449728600000\", this account owner that has over 682 trxs in the dataset"
   ]
  },
  {
   "cell_type": "code",
   "execution_count": 11,
   "metadata": {},
   "outputs": [],
   "source": [
    "id_a = '63134449728600000'\n",
    "trx_id_a = liability_trx.loc[liability_trx['m_ids_owner']==id_a]"
   ]
  },
  {
   "cell_type": "code",
   "execution_count": 12,
   "metadata": {},
   "outputs": [
    {
     "data": {
      "text/plain": [
       "63135290342200000    671\n",
       "63136377011000000     11\n",
       "Name: account_ids, dtype: int64"
      ]
     },
     "execution_count": 12,
     "metadata": {},
     "output_type": "execute_result"
    }
   ],
   "source": [
    "trx_id_a.account_ids.value_counts()"
   ]
  },
  {
   "cell_type": "code",
   "execution_count": 13,
   "metadata": {},
   "outputs": [],
   "source": [
    "loan_1 = '63135290342200000'\n",
    "trx_loan_1 = liability_trx.loc[liability_trx['account_ids']==loan_1]"
   ]
  },
  {
   "cell_type": "code",
   "execution_count": 14,
   "metadata": {},
   "outputs": [],
   "source": [
    "trx_loan_1 = trx_loan_1.copy()"
   ]
  },
  {
   "cell_type": "code",
   "execution_count": 15,
   "metadata": {},
   "outputs": [],
   "source": [
    "trx_loan_1.sort_values(\"trx_stdtime_days_acc\", inplace=True)"
   ]
  },
  {
   "cell_type": "code",
   "execution_count": 16,
   "metadata": {},
   "outputs": [
    {
     "name": "stdout",
     "output_type": "stream",
     "text": [
      "Error neither increase nor decrease at index7421\n"
     ]
    }
   ],
   "source": [
    "for index, row in trx_loan_1.iterrows():\n",
    "    if trx_loan_1.loc[index,\"trx_bsheet_direction\"]==\"Increase\":\n",
    "        trx_loan_1.at[index,\"trx_val_dir\"] = trx_loan_1.loc[index,\"trx_value_kes\"]\n",
    "    elif trx_loan_1.loc[index,\"trx_bsheet_direction\"]==\"Decrease\":\n",
    "        trx_loan_1.at[index,\"trx_val_dir\"] = -trx_loan_1.loc[index,\"trx_value_kes\"]\n",
    "    else:\n",
    "        print(\"Error neither increase nor decrease at index\" + str(index))"
   ]
  },
  {
   "cell_type": "code",
   "execution_count": 17,
   "metadata": {},
   "outputs": [],
   "source": [
    "trx_loan_1.insert(59,\"bal_evol\",np.zeros(trx_loan_1.shape[0]))"
   ]
  },
  {
   "cell_type": "code",
   "execution_count": 18,
   "metadata": {},
   "outputs": [],
   "source": [
    "s=0\n",
    "for index,row in trx_loan_1.iterrows():\n",
    "    s+=trx_loan_1.loc[index,\"trx_val_dir\"]\n",
    "    trx_loan_1.at[index,\"bal_evol\"]=s"
   ]
  },
  {
   "cell_type": "code",
   "execution_count": 19,
   "metadata": {},
   "outputs": [
    {
     "ename": "NameError",
     "evalue": "name 'a' is not defined",
     "output_type": "error",
     "traceback": [
      "\u001b[0;31m---------------------------------------------------------------------------\u001b[0m",
      "\u001b[0;31mNameError\u001b[0m                                 Traceback (most recent call last)",
      "\u001b[0;32m<ipython-input-19-ed59210f206e>\u001b[0m in \u001b[0;36m<module>\u001b[0;34m()\u001b[0m\n\u001b[1;32m      1\u001b[0m \u001b[0mtrx_loan_1\u001b[0m\u001b[0;34m.\u001b[0m\u001b[0mplot\u001b[0m\u001b[0;34m(\u001b[0m\u001b[0mx\u001b[0m\u001b[0;34m=\u001b[0m\u001b[0;34m\"trx_stdtime_days_acc\"\u001b[0m\u001b[0;34m,\u001b[0m\u001b[0my\u001b[0m\u001b[0;34m=\u001b[0m\u001b[0;34m\"bal_evol\"\u001b[0m\u001b[0;34m,\u001b[0m \u001b[0mmarker\u001b[0m \u001b[0;34m=\u001b[0m \u001b[0;34m\"o\"\u001b[0m\u001b[0;34m)\u001b[0m\u001b[0;34m\u001b[0m\u001b[0m\n\u001b[0;32m----> 2\u001b[0;31m \u001b[0mplt\u001b[0m\u001b[0;34m.\u001b[0m\u001b[0mtitle\u001b[0m\u001b[0;34m(\u001b[0m \u001b[0;34m'ACCT # '\u001b[0m\u001b[0;34m+\u001b[0m\u001b[0mstr\u001b[0m\u001b[0;34m(\u001b[0m\u001b[0ma\u001b[0m\u001b[0;34m)\u001b[0m\u001b[0;34m)\u001b[0m\u001b[0;34m\u001b[0m\u001b[0m\n\u001b[0m\u001b[1;32m      3\u001b[0m \u001b[0mplt_name\u001b[0m \u001b[0;34m=\u001b[0m \u001b[0;34m'acct_'\u001b[0m\u001b[0;34m+\u001b[0m\u001b[0mstr\u001b[0m\u001b[0;34m(\u001b[0m\u001b[0ma\u001b[0m\u001b[0;34m)\u001b[0m\u001b[0;34m+\u001b[0m\u001b[0;34m'_graph.png'\u001b[0m\u001b[0;34m\u001b[0m\u001b[0m\n\u001b[1;32m      4\u001b[0m \u001b[0mplt\u001b[0m\u001b[0;34m.\u001b[0m\u001b[0msavefig\u001b[0m\u001b[0;34m(\u001b[0m\u001b[0mplt_name\u001b[0m\u001b[0;34m)\u001b[0m\u001b[0;34m\u001b[0m\u001b[0m\n",
      "\u001b[0;31mNameError\u001b[0m: name 'a' is not defined"
     ]
    },
    {
     "data": {
      "image/png": "[encoded data removed]",
      "text/plain": [
       "<matplotlib.figure.Figure at 0x10c205898>"
      ]
     },
     "metadata": {},
     "output_type": "display_data"
    }
   ],
   "source": [
    "trx_loan_1.plot(x=\"trx_stdtime_days_acc\",y=\"bal_evol\", marker = \"o\")\n",
    "plt.title( 'ACCT # '+str(a))\n",
    "plt_name = 'acct_'+str(a)+'_graph.png'\n",
    "plt.savefig(plt_name)"
   ]
  },
  {
   "cell_type": "code",
   "execution_count": 20,
   "metadata": {},
   "outputs": [],
   "source": [
    "# trx_loan_1[[\"trx_stdtime_days_acc\",\"trx_value_kes\",\"trx_prx_purpose\",\"trx_direction\",\"trx_bsheet_direction\",\"trx_val_dir\"]]"
   ]
  },
  {
   "cell_type": "markdown",
   "metadata": {},
   "source": [
    "### What is the individual loan profile for \"57134408247700000\", this account owner that has over 652 trxs in the dataset"
   ]
  },
  {
   "cell_type": "code",
   "execution_count": 21,
   "metadata": {},
   "outputs": [],
   "source": [
    "id_b = '57134408247700000'\n",
    "trx_id_b = liability_trx.loc[liability_trx['m_ids_owner']==id_b]"
   ]
  },
  {
   "cell_type": "code",
   "execution_count": 22,
   "metadata": {},
   "outputs": [],
   "source": [
    "loan_2 = '57136612748000000'\n",
    "trx_loan_2 = liability_trx.loc[liability_trx['account_ids']==loan_2]"
   ]
  },
  {
   "cell_type": "code",
   "execution_count": 23,
   "metadata": {},
   "outputs": [],
   "source": [
    "trx_loan_2 = trx_loan_2.copy()"
   ]
  },
  {
   "cell_type": "code",
   "execution_count": 24,
   "metadata": {
    "scrolled": true
   },
   "outputs": [],
   "source": [
    "# trx_loan_2.head()"
   ]
  },
  {
   "cell_type": "code",
   "execution_count": 25,
   "metadata": {},
   "outputs": [],
   "source": [
    "trx_loan_2.sort_values(\"trx_stdtime_days_acc\", inplace=True)"
   ]
  },
  {
   "cell_type": "code",
   "execution_count": 26,
   "metadata": {},
   "outputs": [
    {
     "name": "stdout",
     "output_type": "stream",
     "text": [
      "Error neither increase nor decrease at index1860\n"
     ]
    }
   ],
   "source": [
    "for index, row in trx_loan_2.iterrows():\n",
    "    if trx_loan_2.loc[index,\"trx_bsheet_direction\"]==\"Increase\":\n",
    "        trx_loan_2.at[index,\"trx_val_dir\"] = trx_loan_2.loc[index,\"trx_value_kes\"]\n",
    "    elif trx_loan_2.loc[index,\"trx_bsheet_direction\"]==\"Decrease\":\n",
    "        trx_loan_2.at[index,\"trx_val_dir\"] = -trx_loan_2.loc[index,\"trx_value_kes\"]\n",
    "    else:\n",
    "        print(\"Error neither increase nor decrease at index\" + str(index))"
   ]
  },
  {
   "cell_type": "code",
   "execution_count": 27,
   "metadata": {},
   "outputs": [],
   "source": [
    "trx_loan_2.insert(trx_loan_2.shape[1],\"bal_evol\",np.zeros(trx_loan_2.shape[0]))"
   ]
  },
  {
   "cell_type": "code",
   "execution_count": 28,
   "metadata": {},
   "outputs": [],
   "source": [
    "s=0\n",
    "for index,row in trx_loan_2.iterrows():\n",
    "    s+=trx_loan_2.loc[index,\"trx_val_dir\"]\n",
    "    trx_loan_2.at[index,\"bal_evol\"]=s"
   ]
  },
  {
   "cell_type": "code",
   "execution_count": 29,
   "metadata": {},
   "outputs": [
    {
     "ename": "NameError",
     "evalue": "name 'a' is not defined",
     "output_type": "error",
     "traceback": [
      "\u001b[0;31m---------------------------------------------------------------------------\u001b[0m",
      "\u001b[0;31mNameError\u001b[0m                                 Traceback (most recent call last)",
      "\u001b[0;32m<ipython-input-29-569166dac9a4>\u001b[0m in \u001b[0;36m<module>\u001b[0;34m()\u001b[0m\n\u001b[1;32m      1\u001b[0m \u001b[0mtrx_loan_2\u001b[0m\u001b[0;34m.\u001b[0m\u001b[0mplot\u001b[0m\u001b[0;34m(\u001b[0m\u001b[0mx\u001b[0m\u001b[0;34m=\u001b[0m\u001b[0;34m\"trx_stdtime_days_acc\"\u001b[0m\u001b[0;34m,\u001b[0m\u001b[0my\u001b[0m\u001b[0;34m=\u001b[0m\u001b[0;34m\"bal_evol\"\u001b[0m\u001b[0;34m,\u001b[0m \u001b[0mmarker\u001b[0m \u001b[0;34m=\u001b[0m \u001b[0;34m\"o\"\u001b[0m\u001b[0;34m)\u001b[0m\u001b[0;34m\u001b[0m\u001b[0m\n\u001b[0;32m----> 2\u001b[0;31m \u001b[0mplt\u001b[0m\u001b[0;34m.\u001b[0m\u001b[0mtitle\u001b[0m\u001b[0;34m(\u001b[0m \u001b[0;34m'ACCT # '\u001b[0m\u001b[0;34m+\u001b[0m\u001b[0mstr\u001b[0m\u001b[0;34m(\u001b[0m\u001b[0ma\u001b[0m\u001b[0;34m)\u001b[0m\u001b[0;34m)\u001b[0m\u001b[0;34m\u001b[0m\u001b[0m\n\u001b[0m\u001b[1;32m      3\u001b[0m \u001b[0mplt_name\u001b[0m \u001b[0;34m=\u001b[0m \u001b[0;34m'acct_'\u001b[0m\u001b[0;34m+\u001b[0m\u001b[0mstr\u001b[0m\u001b[0;34m(\u001b[0m\u001b[0ma\u001b[0m\u001b[0;34m)\u001b[0m\u001b[0;34m+\u001b[0m\u001b[0;34m'_graph.png'\u001b[0m\u001b[0;34m\u001b[0m\u001b[0m\n\u001b[1;32m      4\u001b[0m \u001b[0mplt\u001b[0m\u001b[0;34m.\u001b[0m\u001b[0msavefig\u001b[0m\u001b[0;34m(\u001b[0m\u001b[0mplt_name\u001b[0m\u001b[0;34m)\u001b[0m\u001b[0;34m\u001b[0m\u001b[0m\n",
      "\u001b[0;31mNameError\u001b[0m: name 'a' is not defined"
     ]
    },
    {
     "data": {
      "image/png": "[encoded data removed]",
      "text/plain": [
       "<matplotlib.figure.Figure at 0x10cc2ffd0>"
      ]
     },
     "metadata": {},
     "output_type": "display_data"
    }
   ],
   "source": [
    "trx_loan_2.plot(x=\"trx_stdtime_days_acc\",y=\"bal_evol\", marker = \"o\")\n",
    "plt.title( 'ACCT # '+str(a))\n",
    "plt_name = 'acct_'+str(a)+'_graph.png'\n",
    "plt.savefig(plt_name)"
   ]
  },
  {
   "cell_type": "code",
   "execution_count": null,
   "metadata": {
    "scrolled": false
   },
   "outputs": [],
   "source": [
    "# trx_loan_2[[\"trx_stdtime_days_acc\",\"trx_value_kes\",\"trx_prx_purpose\",\"trx_direction\",\"trx_bsheet_direction\",\"trx_val_dir\"]]"
   ]
  },
  {
   "cell_type": "markdown",
   "metadata": {},
   "source": [
    "### Conclusions from this section: "
   ]
  },
  {
   "cell_type": "markdown",
   "metadata": {},
   "source": [
    "It appears that these accounts are supplier credits. We should get rid of all with \"unexplained balance adjustments\" though; let's see what happens when we do that, and how many loans are left: "
   ]
  },
  {
   "cell_type": "markdown",
   "metadata": {},
   "source": [
    "## Removing those w/ unexplained balance adjustments & seeing how many loans we are left with, and if this is feasible: "
   ]
  },
  {
   "cell_type": "code",
   "execution_count": 35,
   "metadata": {},
   "outputs": [
    {
     "data": {
      "text/plain": [
       "2. New purchases on credit                      9862\n",
       "3. Payments                                     4353\n",
       "7. Closing Balance--End of last DQ              1190\n",
       "2. New borrowing                                1040\n",
       "Fee for using service (10% of repayment)         980\n",
       "New airtime on credit/new borrowing              978\n",
       "Repayment of outstanding credit w top up         934\n",
       "1. Starting balance (today)                      629\n",
       "2. New purchase on credit                        595\n",
       "3. Paying off debts                              356\n",
       "5. Interest accruing                             343\n",
       "2. New debt                                      297\n",
       "5. Closing Balance--End of last DQ               238\n",
       "6. Closing Balance--End of last DQ               225\n",
       "2. Accepting new deposits                        207\n",
       "1. Starting balance                              151\n",
       "3. Providing withdrawals                         123\n",
       "INCREASE--Unexplained balance adjustment         101\n",
       "DECREASE--Unexplained balance adjustment          92\n",
       "Closing Balance--End of last DQ                   77\n",
       "4. Closing Balance--End of last DQ                70\n",
       "4. Any known fees                                 44\n",
       "2. New Borrowing                                  32\n",
       "4. Repayments                                     29\n",
       "3. Interest or Service Fee                        28\n",
       "3. Payments--individual portion                   23\n",
       "6. Loan written off                               21\n",
       "2. New purchase on credit--total value            13\n",
       "4. Debt written off                               13\n",
       "2. New borrowinng (individual portion)            11\n",
       "2. New borrowinng                                 10\n",
       "6. Debt written off                                6\n",
       "7. Refund from lender                              2\n",
       "2. New borrowing--individual portion               1\n",
       "4. Any known fees--individual portion              1\n",
       "5. Interest accruing--individual portion           1\n",
       "1. Starting balance (today)--individual part       1\n",
       "7. Assets seized for write off                     1\n",
       "Name: trx_prx_purpose, dtype: int64"
      ]
     },
     "execution_count": 35,
     "metadata": {},
     "output_type": "execute_result"
    }
   ],
   "source": [
    "liability_trx.trx_prx_purpose.value_counts()"
   ]
  },
  {
   "cell_type": "code",
   "execution_count": 36,
   "metadata": {},
   "outputs": [],
   "source": [
    "increase_idxs = [idx for idx, purpose in enumerate(list(liability_trx['trx_prx_purpose'])) if 'INCREASE' in purpose]\n",
    "decrease_idxs = [idx for idx, purpose in enumerate(list(liability_trx['trx_prx_purpose'])) if 'DECREASE' in purpose]\n",
    "unexplained_idxs = [idx for idx, purpose in enumerate(list(liability_trx['trx_prx_purpose'])) if \"Unexplained\" in purpose]"
   ]
  },
  {
   "cell_type": "code",
   "execution_count": 37,
   "metadata": {},
   "outputs": [
    {
     "data": {
      "text/plain": [
       "True"
      ]
     },
     "execution_count": 37,
     "metadata": {},
     "output_type": "execute_result"
    }
   ],
   "source": [
    "set(unexplained_idxs) == set(increase_idxs+decrease_idxs)"
   ]
  },
  {
   "cell_type": "code",
   "execution_count": 38,
   "metadata": {},
   "outputs": [],
   "source": [
    "accts_with_unexplained_balance_adjustments = liability_trx.iloc[unexplained_idxs].account_ids"
   ]
  },
  {
   "cell_type": "code",
   "execution_count": 39,
   "metadata": {},
   "outputs": [
    {
     "data": {
      "text/plain": [
       "193"
      ]
     },
     "execution_count": 39,
     "metadata": {},
     "output_type": "execute_result"
    }
   ],
   "source": [
    "len(accts_with_unexplained_balance_adjustments)"
   ]
  },
  {
   "cell_type": "code",
   "execution_count": 40,
   "metadata": {},
   "outputs": [
    {
     "data": {
      "text/plain": [
       "1909"
      ]
     },
     "execution_count": 40,
     "metadata": {},
     "output_type": "execute_result"
    }
   ],
   "source": [
    "len(liability_trx.account_ids.unique())"
   ]
  },
  {
   "cell_type": "markdown",
   "metadata": {},
   "source": [
    "## We would have to get rid of how many formal loans if we take out those accounts w/ unexplained balance adjustments? "
   ]
  },
  {
   "cell_type": "code",
   "execution_count": 41,
   "metadata": {},
   "outputs": [],
   "source": [
    "unique_formal_loans = liability_trx.loc[liability_trx['account_formal']==\"Formal\"].account_ids.unique()"
   ]
  },
  {
   "cell_type": "code",
   "execution_count": 42,
   "metadata": {},
   "outputs": [],
   "source": [
    "count = 0\n",
    "for i in accts_with_unexplained_balance_adjustments: \n",
    "    if i in unique_formal_loans: \n",
    "        count+=1"
   ]
  },
  {
   "cell_type": "code",
   "execution_count": 43,
   "metadata": {},
   "outputs": [
    {
     "data": {
      "text/plain": [
       "30"
      ]
     },
     "execution_count": 43,
     "metadata": {},
     "output_type": "execute_result"
    }
   ],
   "source": [
    "count"
   ]
  },
  {
   "cell_type": "markdown",
   "metadata": {},
   "source": [
    "## How many informal loans do we get rid of w/ unexplained balance adjustments: "
   ]
  },
  {
   "cell_type": "code",
   "execution_count": 44,
   "metadata": {},
   "outputs": [],
   "source": [
    "unique_informal_loans = liability_trx.loc[liability_trx['account_formal']==\"Informal\"].account_ids.unique()"
   ]
  },
  {
   "cell_type": "code",
   "execution_count": 45,
   "metadata": {},
   "outputs": [],
   "source": [
    "count = 0\n",
    "for i in accts_with_unexplained_balance_adjustments: \n",
    "    if i in unique_informal_loans: \n",
    "        count+=1"
   ]
  },
  {
   "cell_type": "code",
   "execution_count": 46,
   "metadata": {},
   "outputs": [
    {
     "data": {
      "text/plain": [
       "163"
      ]
     },
     "execution_count": 46,
     "metadata": {},
     "output_type": "execute_result"
    }
   ],
   "source": [
    "count"
   ]
  },
  {
   "cell_type": "markdown",
   "metadata": {},
   "source": [
    "## Ok getting off track. Here is figuring out how many individuals have formal loans, of each different type: "
   ]
  },
  {
   "cell_type": "code",
   "execution_count": 123,
   "metadata": {},
   "outputs": [
    {
     "data": {
      "text/plain": [
       "217"
      ]
     },
     "execution_count": 123,
     "metadata": {},
     "output_type": "execute_result"
    }
   ],
   "source": [
    "len(unique_formal_loans)"
   ]
  },
  {
   "cell_type": "markdown",
   "metadata": {},
   "source": [
    "### 217 formal loans exist. Of these, how many individual owners: "
   ]
  },
  {
   "cell_type": "code",
   "execution_count": 125,
   "metadata": {},
   "outputs": [],
   "source": [
    "unique_formal_accts_df = liability_trx.loc[liability_trx['account_formal']==\"Formal\"].loc[liability_trx['unique_accnts']==1]"
   ]
  },
  {
   "cell_type": "code",
   "execution_count": 127,
   "metadata": {},
   "outputs": [
    {
     "data": {
      "text/plain": [
       "154"
      ]
     },
     "execution_count": 127,
     "metadata": {},
     "output_type": "execute_result"
    }
   ],
   "source": [
    "len(unique_formal_accts_df.m_ids_owner.unique())"
   ]
  },
  {
   "cell_type": "markdown",
   "metadata": {},
   "source": [
    "### 154 loaners of formal acounts. How many of these individuals have 'formal loan' and how many have 'supplier credit'? How many have both? "
   ]
  },
  {
   "cell_type": "code",
   "execution_count": 143,
   "metadata": {},
   "outputs": [
    {
     "data": {
      "text/plain": [
       "FRMLN      133\n",
       "SUPPCRD     82\n",
       "Name: trx_family_code, dtype: int64"
      ]
     },
     "execution_count": 143,
     "metadata": {},
     "output_type": "execute_result"
    }
   ],
   "source": [
    "unique_formal_accts_df.trx_family_code.value_counts()"
   ]
  },
  {
   "cell_type": "code",
   "execution_count": 142,
   "metadata": {},
   "outputs": [
    {
     "data": {
      "text/plain": [
       "Okoa Jahazi                                  82\n",
       "Individual Business or Agriculture Loan      48\n",
       "Consumer/ personal loan (not payday loan)    33\n",
       "Joint liability loan                         21\n",
       "M-SHWARI Loan                                14\n",
       "School Fees Loan                             12\n",
       "Credit card (including store card)            2\n",
       "Group Enterprise Loan                         2\n",
       "Student loan                                  1\n",
       "Name: trx_type_desc, dtype: int64"
      ]
     },
     "execution_count": 142,
     "metadata": {},
     "output_type": "execute_result"
    }
   ],
   "source": [
    "unique_formal_accts_df.trx_type_desc.value_counts()"
   ]
  },
  {
   "cell_type": "code",
   "execution_count": 145,
   "metadata": {},
   "outputs": [],
   "source": [
    "both = []\n",
    "suppl = []\n",
    "frmln = []\n",
    "\n",
    "for owner in unique_formal_accts_df.m_ids_owner.unique(): \n",
    "    owner_df = unique_formal_accts_df.loc[unique_formal_accts_df['m_ids_owner']== owner]\n",
    "    if len(owner_df.trx_family_code.value_counts()) == 1: \n",
    "        if list(owner_df['trx_family_code'])[0] == \"SUPPCRD\": \n",
    "            suppl.append(owner)\n",
    "        else: \n",
    "            frmln.append(owner)\n",
    "    else: \n",
    "        both.append(owner)"
   ]
  },
  {
   "cell_type": "code",
   "execution_count": 171,
   "metadata": {},
   "outputs": [
    {
     "data": {
      "text/plain": [
       "16"
      ]
     },
     "execution_count": 171,
     "metadata": {},
     "output_type": "execute_result"
    }
   ],
   "source": [
    "len(both)"
   ]
  },
  {
   "cell_type": "markdown",
   "metadata": {},
   "source": [
    "Next question is, of all the people with a FMRLN, how many other accounts do they have at all? "
   ]
  },
  {
   "cell_type": "code",
   "execution_count": 63,
   "metadata": {},
   "outputs": [],
   "source": [
    "FRMLN_owners = liability_trx.loc[liability_trx['trx_family_code']==\"FRMLN\"].m_ids_owner.unique()\n",
    "num_accounts_per_owner = []\n",
    "for owner in FRMLN_owners: \n",
    "    owner_df = liability_trx.loc[liability_trx['m_ids_owner']==owner]\n",
    "    unique_liab_accts_owner = owner_df.account_ids.unique()\n",
    "    num_accounts_per_owner.append({'owner': owner,'num_accounts': len(unique_liab_accts_owner), 'acct_families':  owner_df.trx_family_code.unique()})\n"
   ]
  },
  {
   "cell_type": "code",
   "execution_count": 66,
   "metadata": {},
   "outputs": [],
   "source": [
    "accounts_per_FRMLN_owner = pd.DataFrame(num_accounts_per_owner)"
   ]
  },
  {
   "cell_type": "code",
   "execution_count": 67,
   "metadata": {},
   "outputs": [
    {
     "data": {
      "text/html": [
       "<div>\n",
       "<style scoped>\n",
       "    .dataframe tbody tr th:only-of-type {\n",
       "        vertical-align: middle;\n",
       "    }\n",
       "\n",
       "    .dataframe tbody tr th {\n",
       "        vertical-align: top;\n",
       "    }\n",
       "\n",
       "    .dataframe thead th {\n",
       "        text-align: right;\n",
       "    }\n",
       "</style>\n",
       "<table border=\"1\" class=\"dataframe\">\n",
       "  <thead>\n",
       "    <tr style=\"text-align: right;\">\n",
       "      <th></th>\n",
       "      <th>acct_families</th>\n",
       "      <th>num_accounts</th>\n",
       "      <th>owner</th>\n",
       "    </tr>\n",
       "  </thead>\n",
       "  <tbody>\n",
       "    <tr>\n",
       "      <th>0</th>\n",
       "      <td>[FRMLN, INFP2P]</td>\n",
       "      <td>4</td>\n",
       "      <td>60134547419200000</td>\n",
       "    </tr>\n",
       "    <tr>\n",
       "      <th>1</th>\n",
       "      <td>[FRMLN, INFGRP, INFP2P]</td>\n",
       "      <td>8</td>\n",
       "      <td>63134425702500000</td>\n",
       "    </tr>\n",
       "    <tr>\n",
       "      <th>2</th>\n",
       "      <td>[FRMLN, INFP2P]</td>\n",
       "      <td>3</td>\n",
       "      <td>56134328473900000</td>\n",
       "    </tr>\n",
       "    <tr>\n",
       "      <th>3</th>\n",
       "      <td>[FRMLN, INFP2P]</td>\n",
       "      <td>3</td>\n",
       "      <td>56134381592900000</td>\n",
       "    </tr>\n",
       "    <tr>\n",
       "      <th>4</th>\n",
       "      <td>[FRMLN, INFP2P, ARREARS]</td>\n",
       "      <td>3</td>\n",
       "      <td>56134410709700000</td>\n",
       "    </tr>\n",
       "    <tr>\n",
       "      <th>5</th>\n",
       "      <td>[FRMLN, INFP2P]</td>\n",
       "      <td>7</td>\n",
       "      <td>65134432186900000</td>\n",
       "    </tr>\n",
       "    <tr>\n",
       "      <th>6</th>\n",
       "      <td>[FRMLN, ARREARS, INFGRP, INFP2P]</td>\n",
       "      <td>6</td>\n",
       "      <td>65134442822400000</td>\n",
       "    </tr>\n",
       "    <tr>\n",
       "      <th>7</th>\n",
       "      <td>[FRMLN, INFP2P, INFGRP]</td>\n",
       "      <td>3</td>\n",
       "      <td>61134406652800000</td>\n",
       "    </tr>\n",
       "    <tr>\n",
       "      <th>8</th>\n",
       "      <td>[FRMLN, ADVANCE, INFP2P, OTHER]</td>\n",
       "      <td>6</td>\n",
       "      <td>57134322015900000</td>\n",
       "    </tr>\n",
       "    <tr>\n",
       "      <th>9</th>\n",
       "      <td>[INFP2P, ARREARS, FRMLN, SUPPCRD, ADVANCE, INF...</td>\n",
       "      <td>15</td>\n",
       "      <td>79134985767500000</td>\n",
       "    </tr>\n",
       "    <tr>\n",
       "      <th>10</th>\n",
       "      <td>[FRMLN, INFP2P, ADVANCE, SUPPCRD, EMPLN]</td>\n",
       "      <td>11</td>\n",
       "      <td>57134320447800000</td>\n",
       "    </tr>\n",
       "    <tr>\n",
       "      <th>11</th>\n",
       "      <td>[FRMLN, INFP2P]</td>\n",
       "      <td>2</td>\n",
       "      <td>60134336915700000</td>\n",
       "    </tr>\n",
       "    <tr>\n",
       "      <th>12</th>\n",
       "      <td>[ARREARS, FRMLN, INFP2P]</td>\n",
       "      <td>8</td>\n",
       "      <td>57134407687800000</td>\n",
       "    </tr>\n",
       "    <tr>\n",
       "      <th>13</th>\n",
       "      <td>[FRMLN, INFP2P, ADVANCE]</td>\n",
       "      <td>5</td>\n",
       "      <td>56134397318700000</td>\n",
       "    </tr>\n",
       "    <tr>\n",
       "      <th>14</th>\n",
       "      <td>[INFP2P, FRMLN, OTHER]</td>\n",
       "      <td>5</td>\n",
       "      <td>57134433115100000</td>\n",
       "    </tr>\n",
       "    <tr>\n",
       "      <th>15</th>\n",
       "      <td>[FRMLN, INFP2P, ARREARS]</td>\n",
       "      <td>6</td>\n",
       "      <td>65134433094700000</td>\n",
       "    </tr>\n",
       "    <tr>\n",
       "      <th>16</th>\n",
       "      <td>[FRMLN, INFP2P, INFGRP, SUPPCRD]</td>\n",
       "      <td>7</td>\n",
       "      <td>61134398779000000</td>\n",
       "    </tr>\n",
       "    <tr>\n",
       "      <th>17</th>\n",
       "      <td>[INFP2P, EMPLN, FRMLN, ADVANCE]</td>\n",
       "      <td>10</td>\n",
       "      <td>57134339147100000</td>\n",
       "    </tr>\n",
       "    <tr>\n",
       "      <th>18</th>\n",
       "      <td>[SUPPCRD, INFP2P, FRMLN, ARREARS]</td>\n",
       "      <td>36</td>\n",
       "      <td>57134381707600000</td>\n",
       "    </tr>\n",
       "    <tr>\n",
       "      <th>19</th>\n",
       "      <td>[INFP2P, FRMLN, SUPPCRD, ARREARS]</td>\n",
       "      <td>10</td>\n",
       "      <td>62134424394500000</td>\n",
       "    </tr>\n",
       "  </tbody>\n",
       "</table>\n",
       "</div>"
      ],
      "text/plain": [
       "                                        acct_families  num_accounts  \\\n",
       "0                                     [FRMLN, INFP2P]             4   \n",
       "1                             [FRMLN, INFGRP, INFP2P]             8   \n",
       "2                                     [FRMLN, INFP2P]             3   \n",
       "3                                     [FRMLN, INFP2P]             3   \n",
       "4                            [FRMLN, INFP2P, ARREARS]             3   \n",
       "5                                     [FRMLN, INFP2P]             7   \n",
       "6                    [FRMLN, ARREARS, INFGRP, INFP2P]             6   \n",
       "7                             [FRMLN, INFP2P, INFGRP]             3   \n",
       "8                     [FRMLN, ADVANCE, INFP2P, OTHER]             6   \n",
       "9   [INFP2P, ARREARS, FRMLN, SUPPCRD, ADVANCE, INF...            15   \n",
       "10           [FRMLN, INFP2P, ADVANCE, SUPPCRD, EMPLN]            11   \n",
       "11                                    [FRMLN, INFP2P]             2   \n",
       "12                           [ARREARS, FRMLN, INFP2P]             8   \n",
       "13                           [FRMLN, INFP2P, ADVANCE]             5   \n",
       "14                             [INFP2P, FRMLN, OTHER]             5   \n",
       "15                           [FRMLN, INFP2P, ARREARS]             6   \n",
       "16                   [FRMLN, INFP2P, INFGRP, SUPPCRD]             7   \n",
       "17                    [INFP2P, EMPLN, FRMLN, ADVANCE]            10   \n",
       "18                  [SUPPCRD, INFP2P, FRMLN, ARREARS]            36   \n",
       "19                  [INFP2P, FRMLN, SUPPCRD, ARREARS]            10   \n",
       "\n",
       "                owner  \n",
       "0   60134547419200000  \n",
       "1   63134425702500000  \n",
       "2   56134328473900000  \n",
       "3   56134381592900000  \n",
       "4   56134410709700000  \n",
       "5   65134432186900000  \n",
       "6   65134442822400000  \n",
       "7   61134406652800000  \n",
       "8   57134322015900000  \n",
       "9   79134985767500000  \n",
       "10  57134320447800000  \n",
       "11  60134336915700000  \n",
       "12  57134407687800000  \n",
       "13  56134397318700000  \n",
       "14  57134433115100000  \n",
       "15  65134433094700000  \n",
       "16  61134398779000000  \n",
       "17  57134339147100000  \n",
       "18  57134381707600000  \n",
       "19  62134424394500000  "
      ]
     },
     "execution_count": 67,
     "metadata": {},
     "output_type": "execute_result"
    }
   ],
   "source": [
    "accounts_per_FRMLN_owner.head(20)"
   ]
  },
  {
   "cell_type": "markdown",
   "metadata": {},
   "source": [
    "### Looking at informal loans: "
   ]
  },
  {
   "cell_type": "code",
   "execution_count": 47,
   "metadata": {},
   "outputs": [
    {
     "data": {
      "text/plain": [
       "1692"
      ]
     },
     "execution_count": 47,
     "metadata": {},
     "output_type": "execute_result"
    }
   ],
   "source": [
    "len(unique_informal_loans)"
   ]
  },
  {
   "cell_type": "code",
   "execution_count": 55,
   "metadata": {},
   "outputs": [
    {
     "data": {
      "text/plain": [
       "(1691, 58)"
      ]
     },
     "execution_count": 55,
     "metadata": {},
     "output_type": "execute_result"
    }
   ],
   "source": [
    "unique_informal_accts_df = liability_trx.loc[liability_trx['account_formal']==\"Informal\"].loc[liability_trx['unique_accnts']==1]\n",
    "unique_informal_accts_df.shape"
   ]
  },
  {
   "cell_type": "code",
   "execution_count": 56,
   "metadata": {},
   "outputs": [
    {
     "data": {
      "text/plain": [
       "419"
      ]
     },
     "execution_count": 56,
     "metadata": {},
     "output_type": "execute_result"
    }
   ],
   "source": [
    "len(unique_informal_accts_df.m_ids_owner.unique())"
   ]
  },
  {
   "cell_type": "markdown",
   "metadata": {},
   "source": [
    "#### 1692 informal loans exist w/ 419 unique owners."
   ]
  },
  {
   "cell_type": "code",
   "execution_count": 57,
   "metadata": {},
   "outputs": [],
   "source": [
    "unique_liabilities = liability_trx.loc[liability_trx['unique_accnts']==1]"
   ]
  },
  {
   "cell_type": "code",
   "execution_count": 58,
   "metadata": {},
   "outputs": [
    {
     "data": {
      "text/plain": [
       "436"
      ]
     },
     "execution_count": 58,
     "metadata": {},
     "output_type": "execute_result"
    }
   ],
   "source": [
    "unique_owners = unique_liabilities.m_ids_owner.unique()\n",
    "len(unique_owners)"
   ]
  },
  {
   "cell_type": "markdown",
   "metadata": {},
   "source": [
    "### Almost everyone has an informal account! Only 17 people have formal but not informal loan accounts. "
   ]
  },
  {
   "cell_type": "code",
   "execution_count": null,
   "metadata": {},
   "outputs": [],
   "source": []
  }
 ],
 "metadata": {
  "kernelspec": {
   "display_name": "Python 3",
   "language": "python",
   "name": "python3"
  },
  "language_info": {
   "codemirror_mode": {
    "name": "ipython",
    "version": 3
   },
   "file_extension": ".py",
   "mimetype": "text/x-python",
   "name": "python",
   "nbconvert_exporter": "python",
   "pygments_lexer": "ipython3",
   "version": "3.6.4"
  }
 },
 "nbformat": 4,
 "nbformat_minor": 2
}
