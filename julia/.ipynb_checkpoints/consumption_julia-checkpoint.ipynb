{
 "cells": [
  {
   "cell_type": "code",
   "execution_count": 1,
   "metadata": {},
   "outputs": [],
   "source": [
    "import os\n",
    "import pandas as pd \n",
    "import glob"
   ]
  },
  {
   "cell_type": "code",
   "execution_count": 10,
   "metadata": {},
   "outputs": [
    {
     "data": {
      "text/plain": [
       "['../aux_data/con_pur_hh_by_trx_yr_mo_kes.csv',\n",
       " '../aux_data/con_pur_hh_over_trx_yr_mo_kes.csv',\n",
       " '../aux_data/con_prod_hh_over_trx_yr_mo_kes.csv',\n",
       " '../aux_data/con_prod_hh_by_trx_yr_mo_kes.csv']"
      ]
     },
     "execution_count": 10,
     "metadata": {},
     "output_type": "execute_result"
    }
   ],
   "source": [
    "glob.glob('../aux_data/*con*kes*csv')"
   ]
  },
  {
   "cell_type": "markdown",
   "metadata": {},
   "source": [
    "Notes: \n",
    "- con_pur_hh_over_trx_yr_mo_kes = Mean/ Median aggregate calendar month purchases by type and household (over study period)\n",
    "- con_pur_hh_by_trx_yr_mo_kes = Aggregate purchases by type, calendar month and household\n",
    "- con_prod_hh_over_trx_yr_mo_kes  = Total value of own production (for food) by household (median monthly food production) \n",
    "- con_prod_hh_by_trx_yr_mo_kes = Total value of own production (for food) by household and calendar month\n"
   ]
  },
  {
   "cell_type": "code",
   "execution_count": 13,
   "metadata": {},
   "outputs": [],
   "source": [
    "con_pur_hh_over_trx_yr_mo_kes  = pd.read_csv('../aux_data/con_pur_hh_over_trx_yr_mo_kes.csv')\n",
    "con_pur_hh_by_trx_yr_mo_kes    = pd.read_csv('../aux_data/con_pur_hh_by_trx_yr_mo_kes.csv')\n",
    "con_prod_hh_over_trx_yr_mo_kes = pd.read_csv('../aux_data/con_prod_hh_over_trx_yr_mo_kes.csv')\n",
    "con_prod_hh_by_trx_yr_mo_kes   = pd.read_csv('../aux_data/con_prod_hh_by_trx_yr_mo_kes.csv')"
   ]
  },
  {
   "cell_type": "code",
   "execution_count": 14,
   "metadata": {},
   "outputs": [
    {
     "data": {
      "text/html": [
       "<div>\n",
       "<style scoped>\n",
       "    .dataframe tbody tr th:only-of-type {\n",
       "        vertical-align: middle;\n",
       "    }\n",
       "\n",
       "    .dataframe tbody tr th {\n",
       "        vertical-align: top;\n",
       "    }\n",
       "\n",
       "    .dataframe thead th {\n",
       "        text-align: right;\n",
       "    }\n",
       "</style>\n",
       "<table border=\"1\" class=\"dataframe\">\n",
       "  <thead>\n",
       "    <tr style=\"text-align: right;\">\n",
       "      <th></th>\n",
       "      <th>hh_ids</th>\n",
       "      <th>con_pur_hh_meanptrx</th>\n",
       "      <th>con_pur_hh_sdptrx</th>\n",
       "      <th>con_pur_hh_minpti</th>\n",
       "      <th>con_pur_hh_meanpti</th>\n",
       "      <th>con_pur_hh_medpti</th>\n",
       "      <th>con_pur_hh_maxpti</th>\n",
       "      <th>con_pur_hh_meanpti_ALC</th>\n",
       "      <th>con_pur_hh_medpti_ALC</th>\n",
       "      <th>con_pur_hh_meanpti_CLN</th>\n",
       "      <th>...</th>\n",
       "      <th>con_pur_hh_meanpti_MED</th>\n",
       "      <th>con_pur_hh_medpti_MED</th>\n",
       "      <th>con_pur_hh_meanpti_OTH</th>\n",
       "      <th>con_pur_hh_medpti_OTH</th>\n",
       "      <th>con_pur_hh_meanpti_PERS</th>\n",
       "      <th>con_pur_hh_medpti_PERS</th>\n",
       "      <th>con_pur_hh_meanpti_REL</th>\n",
       "      <th>con_pur_hh_medpti_REL</th>\n",
       "      <th>con_pur_hh_meanpti_TRNSP</th>\n",
       "      <th>con_pur_hh_medpti_TRNSP</th>\n",
       "    </tr>\n",
       "  </thead>\n",
       "  <tbody>\n",
       "    <tr>\n",
       "      <th>0</th>\n",
       "      <td>KELDK01</td>\n",
       "      <td>83.46289</td>\n",
       "      <td>228.7540</td>\n",
       "      <td>1470</td>\n",
       "      <td>7122.167</td>\n",
       "      <td>8805.0</td>\n",
       "      <td>10055</td>\n",
       "      <td>0.0000</td>\n",
       "      <td>0.0</td>\n",
       "      <td>110.83330</td>\n",
       "      <td>...</td>\n",
       "      <td>109.16670</td>\n",
       "      <td>0</td>\n",
       "      <td>132.5</td>\n",
       "      <td>0.0</td>\n",
       "      <td>183.33330</td>\n",
       "      <td>150.0</td>\n",
       "      <td>81.666660</td>\n",
       "      <td>0.0</td>\n",
       "      <td>212.50000</td>\n",
       "      <td>0.0</td>\n",
       "    </tr>\n",
       "    <tr>\n",
       "      <th>1</th>\n",
       "      <td>KELDK02</td>\n",
       "      <td>321.83330</td>\n",
       "      <td>1245.0830</td>\n",
       "      <td>5815</td>\n",
       "      <td>12873.330</td>\n",
       "      <td>10665.0</td>\n",
       "      <td>31300</td>\n",
       "      <td>0.0000</td>\n",
       "      <td>0.0</td>\n",
       "      <td>180.41670</td>\n",
       "      <td>...</td>\n",
       "      <td>170.00000</td>\n",
       "      <td>0</td>\n",
       "      <td>0.0</td>\n",
       "      <td>0.0</td>\n",
       "      <td>36.66667</td>\n",
       "      <td>0.0</td>\n",
       "      <td>475.000000</td>\n",
       "      <td>200.0</td>\n",
       "      <td>748.33330</td>\n",
       "      <td>715.0</td>\n",
       "    </tr>\n",
       "    <tr>\n",
       "      <th>2</th>\n",
       "      <td>KELDK08</td>\n",
       "      <td>47.59043</td>\n",
       "      <td>142.9910</td>\n",
       "      <td>800</td>\n",
       "      <td>3137.308</td>\n",
       "      <td>2890.0</td>\n",
       "      <td>4590</td>\n",
       "      <td>0.0000</td>\n",
       "      <td>0.0</td>\n",
       "      <td>90.76923</td>\n",
       "      <td>...</td>\n",
       "      <td>20.76923</td>\n",
       "      <td>0</td>\n",
       "      <td>0.0</td>\n",
       "      <td>0.0</td>\n",
       "      <td>33.84615</td>\n",
       "      <td>0.0</td>\n",
       "      <td>8.461538</td>\n",
       "      <td>0.0</td>\n",
       "      <td>53.07692</td>\n",
       "      <td>0.0</td>\n",
       "    </tr>\n",
       "    <tr>\n",
       "      <th>3</th>\n",
       "      <td>KELDK09</td>\n",
       "      <td>123.30040</td>\n",
       "      <td>549.5599</td>\n",
       "      <td>3600</td>\n",
       "      <td>8507.728</td>\n",
       "      <td>6415.0</td>\n",
       "      <td>18105</td>\n",
       "      <td>0.0000</td>\n",
       "      <td>0.0</td>\n",
       "      <td>219.54550</td>\n",
       "      <td>...</td>\n",
       "      <td>0.00000</td>\n",
       "      <td>0</td>\n",
       "      <td>0.0</td>\n",
       "      <td>0.0</td>\n",
       "      <td>528.18180</td>\n",
       "      <td>510.0</td>\n",
       "      <td>117.272700</td>\n",
       "      <td>100.0</td>\n",
       "      <td>377.27270</td>\n",
       "      <td>100.0</td>\n",
       "    </tr>\n",
       "    <tr>\n",
       "      <th>4</th>\n",
       "      <td>KELDK10</td>\n",
       "      <td>82.70786</td>\n",
       "      <td>186.6864</td>\n",
       "      <td>40</td>\n",
       "      <td>6134.167</td>\n",
       "      <td>6005.0</td>\n",
       "      <td>12035</td>\n",
       "      <td>320.8333</td>\n",
       "      <td>0.0</td>\n",
       "      <td>238.33330</td>\n",
       "      <td>...</td>\n",
       "      <td>41.66667</td>\n",
       "      <td>0</td>\n",
       "      <td>0.0</td>\n",
       "      <td>0.0</td>\n",
       "      <td>912.08330</td>\n",
       "      <td>827.5</td>\n",
       "      <td>82.500000</td>\n",
       "      <td>0.0</td>\n",
       "      <td>734.16670</td>\n",
       "      <td>825.0</td>\n",
       "    </tr>\n",
       "  </tbody>\n",
       "</table>\n",
       "<p>5 rows × 37 columns</p>\n",
       "</div>"
      ],
      "text/plain": [
       "    hh_ids  con_pur_hh_meanptrx  con_pur_hh_sdptrx  con_pur_hh_minpti  \\\n",
       "0  KELDK01             83.46289           228.7540               1470   \n",
       "1  KELDK02            321.83330          1245.0830               5815   \n",
       "2  KELDK08             47.59043           142.9910                800   \n",
       "3  KELDK09            123.30040           549.5599               3600   \n",
       "4  KELDK10             82.70786           186.6864                 40   \n",
       "\n",
       "   con_pur_hh_meanpti  con_pur_hh_medpti  con_pur_hh_maxpti  \\\n",
       "0            7122.167             8805.0              10055   \n",
       "1           12873.330            10665.0              31300   \n",
       "2            3137.308             2890.0               4590   \n",
       "3            8507.728             6415.0              18105   \n",
       "4            6134.167             6005.0              12035   \n",
       "\n",
       "   con_pur_hh_meanpti_ALC  con_pur_hh_medpti_ALC  con_pur_hh_meanpti_CLN  \\\n",
       "0                  0.0000                    0.0               110.83330   \n",
       "1                  0.0000                    0.0               180.41670   \n",
       "2                  0.0000                    0.0                90.76923   \n",
       "3                  0.0000                    0.0               219.54550   \n",
       "4                320.8333                    0.0               238.33330   \n",
       "\n",
       "            ...             con_pur_hh_meanpti_MED  con_pur_hh_medpti_MED  \\\n",
       "0           ...                          109.16670                      0   \n",
       "1           ...                          170.00000                      0   \n",
       "2           ...                           20.76923                      0   \n",
       "3           ...                            0.00000                      0   \n",
       "4           ...                           41.66667                      0   \n",
       "\n",
       "   con_pur_hh_meanpti_OTH  con_pur_hh_medpti_OTH  con_pur_hh_meanpti_PERS  \\\n",
       "0                   132.5                    0.0                183.33330   \n",
       "1                     0.0                    0.0                 36.66667   \n",
       "2                     0.0                    0.0                 33.84615   \n",
       "3                     0.0                    0.0                528.18180   \n",
       "4                     0.0                    0.0                912.08330   \n",
       "\n",
       "   con_pur_hh_medpti_PERS  con_pur_hh_meanpti_REL  con_pur_hh_medpti_REL  \\\n",
       "0                   150.0               81.666660                    0.0   \n",
       "1                     0.0              475.000000                  200.0   \n",
       "2                     0.0                8.461538                    0.0   \n",
       "3                   510.0              117.272700                  100.0   \n",
       "4                   827.5               82.500000                    0.0   \n",
       "\n",
       "   con_pur_hh_meanpti_TRNSP  con_pur_hh_medpti_TRNSP  \n",
       "0                 212.50000                      0.0  \n",
       "1                 748.33330                    715.0  \n",
       "2                  53.07692                      0.0  \n",
       "3                 377.27270                    100.0  \n",
       "4                 734.16670                    825.0  \n",
       "\n",
       "[5 rows x 37 columns]"
      ]
     },
     "execution_count": 14,
     "metadata": {},
     "output_type": "execute_result"
    }
   ],
   "source": [
    "con_pur_hh_over_trx_yr_mo_kes.head() "
   ]
  },
  {
   "cell_type": "code",
   "execution_count": 19,
   "metadata": {},
   "outputs": [
    {
     "data": {
      "text/plain": [
       "Index(['hh_ids', 'con_pur_hh_meanptrx', 'con_pur_hh_sdptrx',\n",
       "       'con_pur_hh_minpti', 'con_pur_hh_meanpti', 'con_pur_hh_medpti',\n",
       "       'con_pur_hh_maxpti', 'con_pur_hh_meanpti_ALC', 'con_pur_hh_medpti_ALC',\n",
       "       'con_pur_hh_meanpti_CLN', 'con_pur_hh_medpti_CLN',\n",
       "       'con_pur_hh_meanpti_CLTH', 'con_pur_hh_medpti_CLTH',\n",
       "       'con_pur_hh_meanpti_COMM', 'con_pur_hh_medpti_COMM',\n",
       "       'con_pur_hh_meanpti_EDU', 'con_pur_hh_medpti_EDU',\n",
       "       'con_pur_hh_meanpti_ENRGY', 'con_pur_hh_medpti_ENRGY',\n",
       "       'con_pur_hh_meanpti_ENT', 'con_pur_hh_medpti_ENT',\n",
       "       'con_pur_hh_meanpti_FOOD', 'con_pur_hh_medpti_FOOD',\n",
       "       'con_pur_hh_meanpti_H20', 'con_pur_hh_medpti_H20',\n",
       "       'con_pur_hh_meanpti_HSNG', 'con_pur_hh_medpti_HSNG',\n",
       "       'con_pur_hh_meanpti_MED', 'con_pur_hh_medpti_MED',\n",
       "       'con_pur_hh_meanpti_OTH', 'con_pur_hh_medpti_OTH',\n",
       "       'con_pur_hh_meanpti_PERS', 'con_pur_hh_medpti_PERS',\n",
       "       'con_pur_hh_meanpti_REL', 'con_pur_hh_medpti_REL',\n",
       "       'con_pur_hh_meanpti_TRNSP', 'con_pur_hh_medpti_TRNSP'],\n",
       "      dtype='object')"
      ]
     },
     "execution_count": 19,
     "metadata": {},
     "output_type": "execute_result"
    }
   ],
   "source": [
    "con_pur_hh_over_trx_yr_mo_kes.columns"
   ]
  },
  {
   "cell_type": "code",
   "execution_count": 20,
   "metadata": {},
   "outputs": [
    {
     "data": {
      "text/plain": [
       "(298, 37)"
      ]
     },
     "execution_count": 20,
     "metadata": {},
     "output_type": "execute_result"
    }
   ],
   "source": [
    "con_pur_hh_over_trx_yr_mo_kes.shape"
   ]
  },
  {
   "cell_type": "code",
   "execution_count": 16,
   "metadata": {},
   "outputs": [
    {
     "data": {
      "text/html": [
       "<div>\n",
       "<style scoped>\n",
       "    .dataframe tbody tr th:only-of-type {\n",
       "        vertical-align: middle;\n",
       "    }\n",
       "\n",
       "    .dataframe tbody tr th {\n",
       "        vertical-align: top;\n",
       "    }\n",
       "\n",
       "    .dataframe thead th {\n",
       "        text-align: right;\n",
       "    }\n",
       "</style>\n",
       "<table border=\"1\" class=\"dataframe\">\n",
       "  <thead>\n",
       "    <tr style=\"text-align: right;\">\n",
       "      <th></th>\n",
       "      <th>hh_ids</th>\n",
       "      <th>trx_yr_mo</th>\n",
       "      <th>con_pur_hh_byti</th>\n",
       "      <th>con_pur_hh_byti_ALC</th>\n",
       "      <th>con_pur_hh_byti_CLN</th>\n",
       "      <th>con_pur_hh_byti_CLTH</th>\n",
       "      <th>con_pur_hh_byti_COMM</th>\n",
       "      <th>con_pur_hh_byti_EDU</th>\n",
       "      <th>con_pur_hh_byti_ENRGY</th>\n",
       "      <th>con_pur_hh_byti_ENT</th>\n",
       "      <th>con_pur_hh_byti_FOOD</th>\n",
       "      <th>con_pur_hh_byti_H20</th>\n",
       "      <th>con_pur_hh_byti_HSNG</th>\n",
       "      <th>con_pur_hh_byti_MED</th>\n",
       "      <th>con_pur_hh_byti_OTH</th>\n",
       "      <th>con_pur_hh_byti_PERS</th>\n",
       "      <th>con_pur_hh_byti_REL</th>\n",
       "      <th>con_pur_hh_byti_TRNSP</th>\n",
       "    </tr>\n",
       "  </thead>\n",
       "  <tbody>\n",
       "    <tr>\n",
       "      <th>0</th>\n",
       "      <td>KELDK01</td>\n",
       "      <td>2012_10</td>\n",
       "      <td>1470</td>\n",
       "      <td>0</td>\n",
       "      <td>0</td>\n",
       "      <td>700</td>\n",
       "      <td>40</td>\n",
       "      <td>20</td>\n",
       "      <td>300</td>\n",
       "      <td>0</td>\n",
       "      <td>410</td>\n",
       "      <td>0</td>\n",
       "      <td>0</td>\n",
       "      <td>0</td>\n",
       "      <td>0</td>\n",
       "      <td>0</td>\n",
       "      <td>0</td>\n",
       "      <td>0</td>\n",
       "    </tr>\n",
       "    <tr>\n",
       "      <th>1</th>\n",
       "      <td>KELDK01</td>\n",
       "      <td>2012_11</td>\n",
       "      <td>3445</td>\n",
       "      <td>0</td>\n",
       "      <td>0</td>\n",
       "      <td>0</td>\n",
       "      <td>80</td>\n",
       "      <td>0</td>\n",
       "      <td>920</td>\n",
       "      <td>0</td>\n",
       "      <td>865</td>\n",
       "      <td>360</td>\n",
       "      <td>600</td>\n",
       "      <td>600</td>\n",
       "      <td>0</td>\n",
       "      <td>0</td>\n",
       "      <td>20</td>\n",
       "      <td>0</td>\n",
       "    </tr>\n",
       "    <tr>\n",
       "      <th>2</th>\n",
       "      <td>KELDK01</td>\n",
       "      <td>2012_12</td>\n",
       "      <td>3607</td>\n",
       "      <td>0</td>\n",
       "      <td>90</td>\n",
       "      <td>600</td>\n",
       "      <td>50</td>\n",
       "      <td>0</td>\n",
       "      <td>390</td>\n",
       "      <td>0</td>\n",
       "      <td>1377</td>\n",
       "      <td>0</td>\n",
       "      <td>0</td>\n",
       "      <td>0</td>\n",
       "      <td>0</td>\n",
       "      <td>0</td>\n",
       "      <td>0</td>\n",
       "      <td>1100</td>\n",
       "    </tr>\n",
       "    <tr>\n",
       "      <th>3</th>\n",
       "      <td>KELDK01</td>\n",
       "      <td>2013_01</td>\n",
       "      <td>4100</td>\n",
       "      <td>0</td>\n",
       "      <td>0</td>\n",
       "      <td>0</td>\n",
       "      <td>300</td>\n",
       "      <td>600</td>\n",
       "      <td>320</td>\n",
       "      <td>0</td>\n",
       "      <td>1350</td>\n",
       "      <td>0</td>\n",
       "      <td>600</td>\n",
       "      <td>0</td>\n",
       "      <td>0</td>\n",
       "      <td>60</td>\n",
       "      <td>120</td>\n",
       "      <td>750</td>\n",
       "    </tr>\n",
       "    <tr>\n",
       "      <th>4</th>\n",
       "      <td>KELDK01</td>\n",
       "      <td>2013_02</td>\n",
       "      <td>9140</td>\n",
       "      <td>0</td>\n",
       "      <td>0</td>\n",
       "      <td>0</td>\n",
       "      <td>700</td>\n",
       "      <td>0</td>\n",
       "      <td>1240</td>\n",
       "      <td>0</td>\n",
       "      <td>6240</td>\n",
       "      <td>0</td>\n",
       "      <td>600</td>\n",
       "      <td>0</td>\n",
       "      <td>0</td>\n",
       "      <td>120</td>\n",
       "      <td>240</td>\n",
       "      <td>0</td>\n",
       "    </tr>\n",
       "  </tbody>\n",
       "</table>\n",
       "</div>"
      ],
      "text/plain": [
       "    hh_ids trx_yr_mo  con_pur_hh_byti  con_pur_hh_byti_ALC  \\\n",
       "0  KELDK01   2012_10             1470                    0   \n",
       "1  KELDK01   2012_11             3445                    0   \n",
       "2  KELDK01   2012_12             3607                    0   \n",
       "3  KELDK01   2013_01             4100                    0   \n",
       "4  KELDK01   2013_02             9140                    0   \n",
       "\n",
       "   con_pur_hh_byti_CLN  con_pur_hh_byti_CLTH  con_pur_hh_byti_COMM  \\\n",
       "0                    0                   700                    40   \n",
       "1                    0                     0                    80   \n",
       "2                   90                   600                    50   \n",
       "3                    0                     0                   300   \n",
       "4                    0                     0                   700   \n",
       "\n",
       "   con_pur_hh_byti_EDU  con_pur_hh_byti_ENRGY  con_pur_hh_byti_ENT  \\\n",
       "0                   20                    300                    0   \n",
       "1                    0                    920                    0   \n",
       "2                    0                    390                    0   \n",
       "3                  600                    320                    0   \n",
       "4                    0                   1240                    0   \n",
       "\n",
       "   con_pur_hh_byti_FOOD  con_pur_hh_byti_H20  con_pur_hh_byti_HSNG  \\\n",
       "0                   410                    0                     0   \n",
       "1                   865                  360                   600   \n",
       "2                  1377                    0                     0   \n",
       "3                  1350                    0                   600   \n",
       "4                  6240                    0                   600   \n",
       "\n",
       "   con_pur_hh_byti_MED  con_pur_hh_byti_OTH  con_pur_hh_byti_PERS  \\\n",
       "0                    0                    0                     0   \n",
       "1                  600                    0                     0   \n",
       "2                    0                    0                     0   \n",
       "3                    0                    0                    60   \n",
       "4                    0                    0                   120   \n",
       "\n",
       "   con_pur_hh_byti_REL  con_pur_hh_byti_TRNSP  \n",
       "0                    0                      0  \n",
       "1                   20                      0  \n",
       "2                    0                   1100  \n",
       "3                  120                    750  \n",
       "4                  240                      0  "
      ]
     },
     "execution_count": 16,
     "metadata": {},
     "output_type": "execute_result"
    }
   ],
   "source": [
    "con_pur_hh_by_trx_yr_mo_kes.head()"
   ]
  },
  {
   "cell_type": "code",
   "execution_count": 18,
   "metadata": {},
   "outputs": [
    {
     "data": {
      "text/plain": [
       "Index(['hh_ids', 'trx_yr_mo', 'con_pur_hh_byti', 'con_pur_hh_byti_ALC',\n",
       "       'con_pur_hh_byti_CLN', 'con_pur_hh_byti_CLTH', 'con_pur_hh_byti_COMM',\n",
       "       'con_pur_hh_byti_EDU', 'con_pur_hh_byti_ENRGY', 'con_pur_hh_byti_ENT',\n",
       "       'con_pur_hh_byti_FOOD', 'con_pur_hh_byti_H20', 'con_pur_hh_byti_HSNG',\n",
       "       'con_pur_hh_byti_MED', 'con_pur_hh_byti_OTH', 'con_pur_hh_byti_PERS',\n",
       "       'con_pur_hh_byti_REL', 'con_pur_hh_byti_TRNSP'],\n",
       "      dtype='object')"
      ]
     },
     "execution_count": 18,
     "metadata": {},
     "output_type": "execute_result"
    }
   ],
   "source": [
    "con_pur_hh_by_trx_yr_mo_kes.columns"
   ]
  },
  {
   "cell_type": "code",
   "execution_count": 21,
   "metadata": {},
   "outputs": [
    {
     "data": {
      "text/plain": [
       "(3466, 18)"
      ]
     },
     "execution_count": 21,
     "metadata": {},
     "output_type": "execute_result"
    }
   ],
   "source": [
    "con_pur_hh_by_trx_yr_mo_kes.shape"
   ]
  },
  {
   "cell_type": "markdown",
   "metadata": {},
   "source": [
    "## So this is on a per-household basis, and is giving averages of different consumption statistics here. "
   ]
  },
  {
   "cell_type": "code",
   "execution_count": 7,
   "metadata": {},
   "outputs": [],
   "source": [
    "## Here I will merge the two datasets: "
   ]
  },
  {
   "cell_type": "code",
   "execution_count": 8,
   "metadata": {},
   "outputs": [
    {
     "data": {
      "text/plain": [
       "['info.pdf',\n",
       " '.DS_Store',\n",
       " 'different_loan_types_julia.ipynb',\n",
       " 'Demo_Individual.ipynb',\n",
       " 'House Ownership.ipynb',\n",
       " 'diaries_transactions_all.csv',\n",
       " 'consumption_julia.ipynb',\n",
       " 'README.md',\n",
       " '.gitignore',\n",
       " 'Exploration_Ella.ipynb',\n",
       " '.ipynb_checkpoints',\n",
       " 'aux_data_exploration_julia.ipynb',\n",
       " '.git',\n",
       " 'Exploration_Loan_Ella.ipynb',\n",
       " 'initial_exploration_julia.ipynb',\n",
       " 'aux_data']"
      ]
     },
     "execution_count": 8,
     "metadata": {},
     "output_type": "execute_result"
    }
   ],
   "source": [
    "os.listdir()"
   ]
  },
  {
   "cell_type": "markdown",
   "metadata": {},
   "source": [
    "We need to merge w/ hh to individual id "
   ]
  },
  {
   "cell_type": "code",
   "execution_count": null,
   "metadata": {},
   "outputs": [],
   "source": [
    "con_pur_hh_over_trx_yr_mo_kes"
   ]
  },
  {
   "cell_type": "code",
   "execution_count": null,
   "metadata": {},
   "outputs": [],
   "source": []
  }
 ],
 "metadata": {
  "kernelspec": {
   "display_name": "Python 3",
   "language": "python",
   "name": "python3"
  },
  "language_info": {
   "codemirror_mode": {
    "name": "ipython",
    "version": 3
   },
   "file_extension": ".py",
   "mimetype": "text/x-python",
   "name": "python",
   "nbconvert_exporter": "python",
   "pygments_lexer": "ipython3",
   "version": "3.6.4"
  }
 },
 "nbformat": 4,
 "nbformat_minor": 2
}
