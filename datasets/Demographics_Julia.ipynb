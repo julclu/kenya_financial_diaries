{
 "cells": [
  {
   "cell_type": "code",
   "execution_count": 1,
   "metadata": {},
   "outputs": [],
   "source": [
    "import os\n",
    "import pandas as pd\n",
    "import glob"
   ]
  },
  {
   "cell_type": "code",
   "execution_count": 2,
   "metadata": {},
   "outputs": [
    {
     "data": {
      "text/plain": [
       "['../aux_data/demo_ind.csv', '../aux_data/demo_hh.csv']"
      ]
     },
     "execution_count": 2,
     "metadata": {},
     "output_type": "execute_result"
    }
   ],
   "source": [
    "glob.glob('../aux_data/*demo*csv')"
   ]
  },
  {
   "cell_type": "code",
   "execution_count": 22,
   "metadata": {},
   "outputs": [],
   "source": [
    "demo_ind = pd.read_csv('../aux_data/demo_ind.csv', dtype = {'m_ids': 'object'})\n",
    "demo_hh  = pd.read_csv('../aux_data/demo_hh.csv')\n",
    "trx = pd.read_csv('../diaries_transactions_all.csv',dtype = {'m_ids_owner': 'object'}, low_memory = False)"
   ]
  },
  {
   "cell_type": "code",
   "execution_count": 23,
   "metadata": {},
   "outputs": [],
   "source": [
    "keep_ids = list(trx.m_ids_owner.unique())"
   ]
  },
  {
   "cell_type": "code",
   "execution_count": 25,
   "metadata": {},
   "outputs": [
    {
     "data": {
      "text/plain": [
       "(1565, 12)"
      ]
     },
     "execution_count": 25,
     "metadata": {},
     "output_type": "execute_result"
    }
   ],
   "source": [
    "demo_ind.shape"
   ]
  },
  {
   "cell_type": "code",
   "execution_count": 26,
   "metadata": {},
   "outputs": [
    {
     "data": {
      "text/plain": [
       "(298, 18)"
      ]
     },
     "execution_count": 26,
     "metadata": {},
     "output_type": "execute_result"
    }
   ],
   "source": [
    "demo_hh.shape"
   ]
  },
  {
   "cell_type": "code",
   "execution_count": 27,
   "metadata": {},
   "outputs": [
    {
     "data": {
      "text/html": [
       "<div>\n",
       "<style scoped>\n",
       "    .dataframe tbody tr th:only-of-type {\n",
       "        vertical-align: middle;\n",
       "    }\n",
       "\n",
       "    .dataframe tbody tr th {\n",
       "        vertical-align: top;\n",
       "    }\n",
       "\n",
       "    .dataframe thead th {\n",
       "        text-align: right;\n",
       "    }\n",
       "</style>\n",
       "<table border=\"1\" class=\"dataframe\">\n",
       "  <thead>\n",
       "    <tr style=\"text-align: right;\">\n",
       "      <th></th>\n",
       "      <th>hh_ids</th>\n",
       "      <th>m_ids</th>\n",
       "      <th>dem_i_male</th>\n",
       "      <th>dem_i_age_yrs</th>\n",
       "      <th>dem_i_age_5yrgrp</th>\n",
       "      <th>dem_i_age_workage</th>\n",
       "      <th>dem_i_relhead</th>\n",
       "      <th>dem_i_hhead</th>\n",
       "      <th>dem_i_marstat</th>\n",
       "      <th>dem_i_tribe</th>\n",
       "      <th>dem_i_children_tot</th>\n",
       "      <th>dem_i_children_inhh</th>\n",
       "    </tr>\n",
       "  </thead>\n",
       "  <tbody>\n",
       "    <tr>\n",
       "      <th>0</th>\n",
       "      <td>KELDK01</td>\n",
       "      <td>56134392820800000</td>\n",
       "      <td>Female</td>\n",
       "      <td>8</td>\n",
       "      <td>[5 - 10)</td>\n",
       "      <td>0</td>\n",
       "      <td>Son or daughter</td>\n",
       "      <td>0</td>\n",
       "      <td>Never married/lived together</td>\n",
       "      <td>Kalenjin</td>\n",
       "      <td>NaN</td>\n",
       "      <td>NaN</td>\n",
       "    </tr>\n",
       "    <tr>\n",
       "      <th>1</th>\n",
       "      <td>KELDK01</td>\n",
       "      <td>56134390476100000</td>\n",
       "      <td>Male</td>\n",
       "      <td>30</td>\n",
       "      <td>[30 - 35)</td>\n",
       "      <td>1</td>\n",
       "      <td>Household head</td>\n",
       "      <td>1</td>\n",
       "      <td>Married/living together</td>\n",
       "      <td>Kalenjin</td>\n",
       "      <td>2.0</td>\n",
       "      <td>0.0</td>\n",
       "    </tr>\n",
       "    <tr>\n",
       "      <th>2</th>\n",
       "      <td>KELDK01</td>\n",
       "      <td>56134392826900000</td>\n",
       "      <td>Male</td>\n",
       "      <td>2</td>\n",
       "      <td>[0 - 5)</td>\n",
       "      <td>0</td>\n",
       "      <td>Son or daughter</td>\n",
       "      <td>0</td>\n",
       "      <td>Never married/lived together</td>\n",
       "      <td>Kalenjin</td>\n",
       "      <td>NaN</td>\n",
       "      <td>NaN</td>\n",
       "    </tr>\n",
       "    <tr>\n",
       "      <th>3</th>\n",
       "      <td>KELDK01</td>\n",
       "      <td>56134390654900000</td>\n",
       "      <td>Female</td>\n",
       "      <td>24</td>\n",
       "      <td>[20 - 25)</td>\n",
       "      <td>1</td>\n",
       "      <td>Husband or wife</td>\n",
       "      <td>0</td>\n",
       "      <td>Married/living together</td>\n",
       "      <td>Kalenjin</td>\n",
       "      <td>2.0</td>\n",
       "      <td>0.0</td>\n",
       "    </tr>\n",
       "    <tr>\n",
       "      <th>4</th>\n",
       "      <td>KELDK02</td>\n",
       "      <td>56134389772300000</td>\n",
       "      <td>Female</td>\n",
       "      <td>35</td>\n",
       "      <td>[35 - 40)</td>\n",
       "      <td>1</td>\n",
       "      <td>Husband or wife</td>\n",
       "      <td>0</td>\n",
       "      <td>Married/living together</td>\n",
       "      <td>Luhya</td>\n",
       "      <td>1.0</td>\n",
       "      <td>1.0</td>\n",
       "    </tr>\n",
       "  </tbody>\n",
       "</table>\n",
       "</div>"
      ],
      "text/plain": [
       "    hh_ids              m_ids dem_i_male  dem_i_age_yrs dem_i_age_5yrgrp  \\\n",
       "0  KELDK01  56134392820800000     Female              8         [5 - 10)   \n",
       "1  KELDK01  56134390476100000       Male             30        [30 - 35)   \n",
       "2  KELDK01  56134392826900000       Male              2          [0 - 5)   \n",
       "3  KELDK01  56134390654900000     Female             24        [20 - 25)   \n",
       "4  KELDK02  56134389772300000     Female             35        [35 - 40)   \n",
       "\n",
       "   dem_i_age_workage    dem_i_relhead  dem_i_hhead  \\\n",
       "0                  0  Son or daughter            0   \n",
       "1                  1   Household head            1   \n",
       "2                  0  Son or daughter            0   \n",
       "3                  1  Husband or wife            0   \n",
       "4                  1  Husband or wife            0   \n",
       "\n",
       "                  dem_i_marstat dem_i_tribe  dem_i_children_tot  \\\n",
       "0  Never married/lived together    Kalenjin                 NaN   \n",
       "1       Married/living together    Kalenjin                 2.0   \n",
       "2  Never married/lived together    Kalenjin                 NaN   \n",
       "3       Married/living together    Kalenjin                 2.0   \n",
       "4       Married/living together       Luhya                 1.0   \n",
       "\n",
       "   dem_i_children_inhh  \n",
       "0                  NaN  \n",
       "1                  0.0  \n",
       "2                  NaN  \n",
       "3                  0.0  \n",
       "4                  1.0  "
      ]
     },
     "execution_count": 27,
     "metadata": {},
     "output_type": "execute_result"
    }
   ],
   "source": [
    "demo_ind.head()"
   ]
  },
  {
   "cell_type": "code",
   "execution_count": 28,
   "metadata": {},
   "outputs": [],
   "source": [
    "demo_ind = demo_ind.loc[demo_ind['m_ids'].isin(keep_ids)]"
   ]
  },
  {
   "cell_type": "code",
   "execution_count": 29,
   "metadata": {},
   "outputs": [
    {
     "data": {
      "text/plain": [
       "(669, 12)"
      ]
     },
     "execution_count": 29,
     "metadata": {},
     "output_type": "execute_result"
    }
   ],
   "source": [
    "demo_ind.shape"
   ]
  },
  {
   "cell_type": "code",
   "execution_count": 30,
   "metadata": {},
   "outputs": [],
   "source": [
    "demos = demo_ind.merge(demo_hh, how = 'left', on='hh_ids')"
   ]
  },
  {
   "cell_type": "code",
   "execution_count": 31,
   "metadata": {},
   "outputs": [
    {
     "data": {
      "text/plain": [
       "(669, 29)"
      ]
     },
     "execution_count": 31,
     "metadata": {},
     "output_type": "execute_result"
    }
   ],
   "source": [
    "demos.shape"
   ]
  },
  {
   "cell_type": "code",
   "execution_count": 32,
   "metadata": {},
   "outputs": [
    {
     "data": {
      "text/html": [
       "<div>\n",
       "<style scoped>\n",
       "    .dataframe tbody tr th:only-of-type {\n",
       "        vertical-align: middle;\n",
       "    }\n",
       "\n",
       "    .dataframe tbody tr th {\n",
       "        vertical-align: top;\n",
       "    }\n",
       "\n",
       "    .dataframe thead th {\n",
       "        text-align: right;\n",
       "    }\n",
       "</style>\n",
       "<table border=\"1\" class=\"dataframe\">\n",
       "  <thead>\n",
       "    <tr style=\"text-align: right;\">\n",
       "      <th></th>\n",
       "      <th>hh_ids</th>\n",
       "      <th>m_ids</th>\n",
       "      <th>dem_i_male</th>\n",
       "      <th>dem_i_age_yrs</th>\n",
       "      <th>dem_i_age_5yrgrp</th>\n",
       "      <th>dem_i_age_workage</th>\n",
       "      <th>dem_i_relhead</th>\n",
       "      <th>dem_i_hhead</th>\n",
       "      <th>dem_i_marstat</th>\n",
       "      <th>dem_i_tribe</th>\n",
       "      <th>...</th>\n",
       "      <th>dem_hh_ages15plus</th>\n",
       "      <th>dem_hh_ages18plus</th>\n",
       "      <th>dem_hh_ages65plus</th>\n",
       "      <th>dem_hh_ages20_30</th>\n",
       "      <th>dem_hh_workage</th>\n",
       "      <th>dem_hh_dependents</th>\n",
       "      <th>dem_hh_agehead</th>\n",
       "      <th>dem_hh_malehead</th>\n",
       "      <th>dem_pae_oecd</th>\n",
       "      <th>dem_pae_kihbs</th>\n",
       "    </tr>\n",
       "  </thead>\n",
       "  <tbody>\n",
       "    <tr>\n",
       "      <th>0</th>\n",
       "      <td>KELDK01</td>\n",
       "      <td>56134390476100000</td>\n",
       "      <td>Male</td>\n",
       "      <td>30</td>\n",
       "      <td>[30 - 35)</td>\n",
       "      <td>1</td>\n",
       "      <td>Household head</td>\n",
       "      <td>1</td>\n",
       "      <td>Married/living together</td>\n",
       "      <td>Kalenjin</td>\n",
       "      <td>...</td>\n",
       "      <td>2</td>\n",
       "      <td>2</td>\n",
       "      <td>0</td>\n",
       "      <td>2</td>\n",
       "      <td>0.500000</td>\n",
       "      <td>0.500000</td>\n",
       "      <td>30</td>\n",
       "      <td>1</td>\n",
       "      <td>2.7</td>\n",
       "      <td>2.89</td>\n",
       "    </tr>\n",
       "    <tr>\n",
       "      <th>1</th>\n",
       "      <td>KELDK01</td>\n",
       "      <td>56134390654900000</td>\n",
       "      <td>Female</td>\n",
       "      <td>24</td>\n",
       "      <td>[20 - 25)</td>\n",
       "      <td>1</td>\n",
       "      <td>Husband or wife</td>\n",
       "      <td>0</td>\n",
       "      <td>Married/living together</td>\n",
       "      <td>Kalenjin</td>\n",
       "      <td>...</td>\n",
       "      <td>2</td>\n",
       "      <td>2</td>\n",
       "      <td>0</td>\n",
       "      <td>2</td>\n",
       "      <td>0.500000</td>\n",
       "      <td>0.500000</td>\n",
       "      <td>30</td>\n",
       "      <td>1</td>\n",
       "      <td>2.7</td>\n",
       "      <td>2.89</td>\n",
       "    </tr>\n",
       "    <tr>\n",
       "      <th>2</th>\n",
       "      <td>KELDK02</td>\n",
       "      <td>56134389503000000</td>\n",
       "      <td>Male</td>\n",
       "      <td>42</td>\n",
       "      <td>[40 - 45)</td>\n",
       "      <td>1</td>\n",
       "      <td>Household head</td>\n",
       "      <td>1</td>\n",
       "      <td>Married/living together</td>\n",
       "      <td>Luhya</td>\n",
       "      <td>...</td>\n",
       "      <td>3</td>\n",
       "      <td>2</td>\n",
       "      <td>0</td>\n",
       "      <td>0</td>\n",
       "      <td>1.000000</td>\n",
       "      <td>0.000000</td>\n",
       "      <td>42</td>\n",
       "      <td>1</td>\n",
       "      <td>2.4</td>\n",
       "      <td>3.00</td>\n",
       "    </tr>\n",
       "    <tr>\n",
       "      <th>3</th>\n",
       "      <td>KELDK08</td>\n",
       "      <td>56134410709700000</td>\n",
       "      <td>Female</td>\n",
       "      <td>20</td>\n",
       "      <td>[20 - 25)</td>\n",
       "      <td>1</td>\n",
       "      <td>Husband or wife</td>\n",
       "      <td>0</td>\n",
       "      <td>Married/living together</td>\n",
       "      <td>Kalenjin</td>\n",
       "      <td>...</td>\n",
       "      <td>2</td>\n",
       "      <td>2</td>\n",
       "      <td>0</td>\n",
       "      <td>2</td>\n",
       "      <td>0.666667</td>\n",
       "      <td>0.333333</td>\n",
       "      <td>26</td>\n",
       "      <td>1</td>\n",
       "      <td>2.2</td>\n",
       "      <td>2.24</td>\n",
       "    </tr>\n",
       "    <tr>\n",
       "      <th>4</th>\n",
       "      <td>KELDK08</td>\n",
       "      <td>56134410699600000</td>\n",
       "      <td>Male</td>\n",
       "      <td>26</td>\n",
       "      <td>[25 - 30)</td>\n",
       "      <td>1</td>\n",
       "      <td>Household head</td>\n",
       "      <td>1</td>\n",
       "      <td>Married/living together</td>\n",
       "      <td>Luhya</td>\n",
       "      <td>...</td>\n",
       "      <td>2</td>\n",
       "      <td>2</td>\n",
       "      <td>0</td>\n",
       "      <td>2</td>\n",
       "      <td>0.666667</td>\n",
       "      <td>0.333333</td>\n",
       "      <td>26</td>\n",
       "      <td>1</td>\n",
       "      <td>2.2</td>\n",
       "      <td>2.24</td>\n",
       "    </tr>\n",
       "  </tbody>\n",
       "</table>\n",
       "<p>5 rows × 29 columns</p>\n",
       "</div>"
      ],
      "text/plain": [
       "    hh_ids              m_ids dem_i_male  dem_i_age_yrs dem_i_age_5yrgrp  \\\n",
       "0  KELDK01  56134390476100000       Male             30        [30 - 35)   \n",
       "1  KELDK01  56134390654900000     Female             24        [20 - 25)   \n",
       "2  KELDK02  56134389503000000       Male             42        [40 - 45)   \n",
       "3  KELDK08  56134410709700000     Female             20        [20 - 25)   \n",
       "4  KELDK08  56134410699600000       Male             26        [25 - 30)   \n",
       "\n",
       "   dem_i_age_workage    dem_i_relhead  dem_i_hhead            dem_i_marstat  \\\n",
       "0                  1   Household head            1  Married/living together   \n",
       "1                  1  Husband or wife            0  Married/living together   \n",
       "2                  1   Household head            1  Married/living together   \n",
       "3                  1  Husband or wife            0  Married/living together   \n",
       "4                  1   Household head            1  Married/living together   \n",
       "\n",
       "  dem_i_tribe      ...        dem_hh_ages15plus  dem_hh_ages18plus  \\\n",
       "0    Kalenjin      ...                        2                  2   \n",
       "1    Kalenjin      ...                        2                  2   \n",
       "2       Luhya      ...                        3                  2   \n",
       "3    Kalenjin      ...                        2                  2   \n",
       "4       Luhya      ...                        2                  2   \n",
       "\n",
       "   dem_hh_ages65plus  dem_hh_ages20_30  dem_hh_workage  dem_hh_dependents  \\\n",
       "0                  0                 2        0.500000           0.500000   \n",
       "1                  0                 2        0.500000           0.500000   \n",
       "2                  0                 0        1.000000           0.000000   \n",
       "3                  0                 2        0.666667           0.333333   \n",
       "4                  0                 2        0.666667           0.333333   \n",
       "\n",
       "   dem_hh_agehead  dem_hh_malehead  dem_pae_oecd  dem_pae_kihbs  \n",
       "0              30                1           2.7           2.89  \n",
       "1              30                1           2.7           2.89  \n",
       "2              42                1           2.4           3.00  \n",
       "3              26                1           2.2           2.24  \n",
       "4              26                1           2.2           2.24  \n",
       "\n",
       "[5 rows x 29 columns]"
      ]
     },
     "execution_count": 32,
     "metadata": {},
     "output_type": "execute_result"
    }
   ],
   "source": [
    "demos.head()"
   ]
  },
  {
   "cell_type": "code",
   "execution_count": 33,
   "metadata": {},
   "outputs": [],
   "source": [
    "demos.to_csv('demos_merged.csv', index = False)"
   ]
  },
  {
   "cell_type": "code",
   "execution_count": null,
   "metadata": {},
   "outputs": [],
   "source": []
  }
 ],
 "metadata": {
  "kernelspec": {
   "display_name": "Python 3",
   "language": "python",
   "name": "python3"
  },
  "language_info": {
   "codemirror_mode": {
    "name": "ipython",
    "version": 3
   },
   "file_extension": ".py",
   "mimetype": "text/x-python",
   "name": "python",
   "nbconvert_exporter": "python",
   "pygments_lexer": "ipython3",
   "version": "3.7.3"
  }
 },
 "nbformat": 4,
 "nbformat_minor": 2
}
