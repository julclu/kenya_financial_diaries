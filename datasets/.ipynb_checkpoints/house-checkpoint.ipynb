{
 "cells": [
  {
   "cell_type": "code",
   "execution_count": 1,
   "metadata": {},
   "outputs": [],
   "source": [
    "import pandas as pd\n",
    "import numpy as np\n",
    "import math as math\n",
    "import matplotlib.pyplot as plt\n",
    "import seaborn as sns\n",
    "import random\n",
    "%matplotlib inline "
   ]
  },
  {
   "cell_type": "code",
   "execution_count": 3,
   "metadata": {},
   "outputs": [],
   "source": [
    "df = pd.read_csv(\"../../diaries_transactions_all.csv\", dtype={'account_startclose_balance': str})"
   ]
  },
  {
   "cell_type": "code",
   "execution_count": 4,
   "metadata": {},
   "outputs": [],
   "source": [
    "dfb = df[(df[\"trx_family_code\"]==\"FRMLN\")&((df[\"trx_type_code\"]==2760)|(df[\"trx_type_code\"]==3247))]"
   ]
  },
  {
   "cell_type": "code",
   "execution_count": 8,
   "metadata": {},
   "outputs": [
    {
     "data": {
      "text/plain": [
       "array(['6. Closing Balance--End of last DQ',\n",
       "       '1. Starting balance (today)', '5. Interest accruing',\n",
       "       '3. Payments', 'INCREASE--Unexplained balance adjustment',\n",
       "       '2. New borrowinng (individual portion)', '4. Any known fees',\n",
       "       'DECREASE--Unexplained balance adjustment',\n",
       "       '7. Refund from lender', '2. New borrowing'], dtype=object)"
      ]
     },
     "execution_count": 8,
     "metadata": {},
     "output_type": "execute_result"
    }
   ],
   "source": [
    "dfb[\"trx_prx_purpose\"].unique()"
   ]
  },
  {
   "cell_type": "code",
   "execution_count": 9,
   "metadata": {},
   "outputs": [],
   "source": [
    "for acc in dfb[\"account_ids\"].unique():\n",
    "    u = 0\n",
    "    for index,row in dfb[dfb[\"account_ids\"]==acc].iterrows():\n",
    "        if row[\"trx_prx_purpose\"]==\"DECREASE--Unexplained balance adjustment\" or row[\"trx_prx_purpose\"]==\"INCREASE--Unexplained balance adjustment\":\n",
    "            u = 1\n",
    "    for index,row in dfb[dfb[\"account_ids\"]==acc].iterrows():\n",
    "        dfb.at[index,\"acc_unexplained_trx\"] = u"
   ]
  },
  {
   "cell_type": "code",
   "execution_count": 10,
   "metadata": {},
   "outputs": [
    {
     "name": "stdout",
     "output_type": "stream",
     "text": [
      "{'4. Any known fees', '2. New borrowinng (individual portion)', '7. Refund from lender', '2. New borrowing', '1. Starting balance (today)', '6. Closing Balance--End of last DQ', '5. Interest accruing', '3. Payments'}\n"
     ]
    }
   ],
   "source": [
    "s = set()\n",
    "for acc in dfb[dfb[\"acc_unexplained_trx\"]==0][\"account_ids\"].unique():\n",
    "     for i in dfb[dfb[\"account_ids\"]==acc][\"trx_prx_purpose\"].unique():\n",
    "            s.add(i)\n",
    "print(s)"
   ]
  },
  {
   "cell_type": "code",
   "execution_count": 11,
   "metadata": {},
   "outputs": [],
   "source": [
    "dfb = dfb[dfb[\"acc_unexplained_trx\"]==0]"
   ]
  },
  {
   "cell_type": "code",
   "execution_count": 27,
   "metadata": {},
   "outputs": [
    {
     "data": {
      "text/html": [
       "<div>\n",
       "<style scoped>\n",
       "    .dataframe tbody tr th:only-of-type {\n",
       "        vertical-align: middle;\n",
       "    }\n",
       "\n",
       "    .dataframe tbody tr th {\n",
       "        vertical-align: top;\n",
       "    }\n",
       "\n",
       "    .dataframe thead th {\n",
       "        text-align: right;\n",
       "    }\n",
       "</style>\n",
       "<table border=\"1\" class=\"dataframe\">\n",
       "  <thead>\n",
       "    <tr style=\"text-align: right;\">\n",
       "      <th></th>\n",
       "      <th>hh_ids</th>\n",
       "      <th>unique_hhs</th>\n",
       "      <th>first_trx_date_hh</th>\n",
       "      <th>last_trx_date_hh</th>\n",
       "      <th>tot_hh_daysofobs</th>\n",
       "      <th>tot_hh_monthsofobs</th>\n",
       "      <th>interview_designation</th>\n",
       "      <th>int_date</th>\n",
       "      <th>int_month</th>\n",
       "      <th>int_year</th>\n",
       "      <th>...</th>\n",
       "      <th>trx_outlet</th>\n",
       "      <th>trx_direction</th>\n",
       "      <th>trx_value_kes</th>\n",
       "      <th>trx_value_usd</th>\n",
       "      <th>ddd_gift</th>\n",
       "      <th>trx_inkind_units</th>\n",
       "      <th>trx_inkind_value_usd</th>\n",
       "      <th>trx_inkind_value_kes</th>\n",
       "      <th>trx_stdtime_mnths_hh_nr</th>\n",
       "      <th>acc_unexplained_trx</th>\n",
       "    </tr>\n",
       "  </thead>\n",
       "  <tbody>\n",
       "    <tr>\n",
       "      <th>288513</th>\n",
       "      <td>KVIHC35</td>\n",
       "      <td>NaN</td>\n",
       "      <td>05aug2012</td>\n",
       "      <td>22sep2013</td>\n",
       "      <td>413</td>\n",
       "      <td>14</td>\n",
       "      <td>04=Diaries Interview</td>\n",
       "      <td>25jan2013</td>\n",
       "      <td>1</td>\n",
       "      <td>2013</td>\n",
       "      <td>...</td>\n",
       "      <td>07=Group meeting</td>\n",
       "      <td>Outflow</td>\n",
       "      <td>12350.0</td>\n",
       "      <td>145.2941</td>\n",
       "      <td>0</td>\n",
       "      <td>NaN</td>\n",
       "      <td>NaN</td>\n",
       "      <td>NaN</td>\n",
       "      <td>5.689655</td>\n",
       "      <td>0.0</td>\n",
       "    </tr>\n",
       "  </tbody>\n",
       "</table>\n",
       "<p>1 rows × 60 columns</p>\n",
       "</div>"
      ],
      "text/plain": [
       "         hh_ids  unique_hhs first_trx_date_hh last_trx_date_hh  \\\n",
       "288513  KVIHC35         NaN         05aug2012        22sep2013   \n",
       "\n",
       "        tot_hh_daysofobs  tot_hh_monthsofobs interview_designation   int_date  \\\n",
       "288513               413                  14  04=Diaries Interview  25jan2013   \n",
       "\n",
       "        int_month  int_year  ...        trx_outlet trx_direction  \\\n",
       "288513          1      2013  ...  07=Group meeting       Outflow   \n",
       "\n",
       "       trx_value_kes trx_value_usd  ddd_gift trx_inkind_units  \\\n",
       "288513       12350.0      145.2941         0              NaN   \n",
       "\n",
       "        trx_inkind_value_usd trx_inkind_value_kes trx_stdtime_mnths_hh_nr  \\\n",
       "288513                   NaN                  NaN                5.689655   \n",
       "\n",
       "       acc_unexplained_trx  \n",
       "288513                 0.0  \n",
       "\n",
       "[1 rows x 60 columns]"
      ]
     },
     "execution_count": 27,
     "metadata": {},
     "output_type": "execute_result"
    }
   ],
   "source": [
    "del dfb[\"new_account_ids\"]\n",
    "dfb.insert(df.columns.get_loc(\"account_ids\")+1,\"new_account_ids\", [\"-\"]*(dfb.shape[0]))\n",
    "dfb.sample(1)"
   ]
  },
  {
   "cell_type": "markdown",
   "metadata": {},
   "source": [
    "### Here I \"cleaned\" data for housing in excel. What can be extracted: if owned, number and value of additional property "
   ]
  },
  {
   "cell_type": "code",
   "execution_count": 56,
   "metadata": {},
   "outputs": [
    {
     "data": {
      "text/html": [
       "<div>\n",
       "<style scoped>\n",
       "    .dataframe tbody tr th:only-of-type {\n",
       "        vertical-align: middle;\n",
       "    }\n",
       "\n",
       "    .dataframe tbody tr th {\n",
       "        vertical-align: top;\n",
       "    }\n",
       "\n",
       "    .dataframe thead th {\n",
       "        text-align: right;\n",
       "    }\n",
       "</style>\n",
       "<table border=\"1\" class=\"dataframe\">\n",
       "  <thead>\n",
       "    <tr style=\"text-align: right;\">\n",
       "      <th></th>\n",
       "      <th>hh_ids</th>\n",
       "      <th>owned</th>\n",
       "      <th>N</th>\n",
       "      <th>other_prop_or_shamba_value</th>\n",
       "    </tr>\n",
       "  </thead>\n",
       "  <tbody>\n",
       "    <tr>\n",
       "      <th>0</th>\n",
       "      <td>KNBOK31</td>\n",
       "      <td>0</td>\n",
       "      <td>NaN</td>\n",
       "      <td>NaN</td>\n",
       "    </tr>\n",
       "    <tr>\n",
       "      <th>1</th>\n",
       "      <td>KNBOK01</td>\n",
       "      <td>1</td>\n",
       "      <td>NaN</td>\n",
       "      <td>NaN</td>\n",
       "    </tr>\n",
       "    <tr>\n",
       "      <th>2</th>\n",
       "      <td>KNBOK02</td>\n",
       "      <td>1</td>\n",
       "      <td>NaN</td>\n",
       "      <td>NaN</td>\n",
       "    </tr>\n",
       "    <tr>\n",
       "      <th>3</th>\n",
       "      <td>KNBOK04</td>\n",
       "      <td>1</td>\n",
       "      <td>1.0</td>\n",
       "      <td>1500000.0</td>\n",
       "    </tr>\n",
       "    <tr>\n",
       "      <th>4</th>\n",
       "      <td>KNBOK05</td>\n",
       "      <td>1</td>\n",
       "      <td>NaN</td>\n",
       "      <td>NaN</td>\n",
       "    </tr>\n",
       "  </tbody>\n",
       "</table>\n",
       "</div>"
      ],
      "text/plain": [
       "    hh_ids  owned    N  other_prop_or_shamba_value\n",
       "0  KNBOK31      0  NaN                         NaN\n",
       "1  KNBOK01      1  NaN                         NaN\n",
       "2  KNBOK02      1  NaN                         NaN\n",
       "3  KNBOK04      1  1.0                   1500000.0\n",
       "4  KNBOK05      1  NaN                         NaN"
      ]
     },
     "execution_count": 56,
     "metadata": {},
     "output_type": "execute_result"
    }
   ],
   "source": [
    "df1 = pd.read_csv('../housing_conditions_ownership.csv')\n",
    "df1.replace({\"yes\":1, \"no\":0}, inplace=True)\n",
    "dfh=df1[['hh_ids','owned','N', 'other_prop_or_shamba_value' ]]\n",
    "dfh.head()"
   ]
  },
  {
   "cell_type": "code",
   "execution_count": 57,
   "metadata": {},
   "outputs": [],
   "source": [
    "house=pd.merge(dfb, dfh, on = 'hh_ids', how='outer')\n"
   ]
  },
  {
   "cell_type": "code",
   "execution_count": null,
   "metadata": {},
   "outputs": [],
   "source": []
  },
  {
   "cell_type": "markdown",
   "metadata": {},
   "source": []
  },
  {
   "cell_type": "code",
   "execution_count": null,
   "metadata": {},
   "outputs": [],
   "source": []
  },
  {
   "cell_type": "code",
   "execution_count": 58,
   "metadata": {},
   "outputs": [],
   "source": [
    "house.to_csv('../datasets/house.csv')"
   ]
  },
  {
   "cell_type": "code",
   "execution_count": null,
   "metadata": {},
   "outputs": [],
   "source": []
  },
  {
   "cell_type": "code",
   "execution_count": null,
   "metadata": {},
   "outputs": [],
   "source": []
  },
  {
   "cell_type": "code",
   "execution_count": null,
   "metadata": {},
   "outputs": [],
   "source": []
  }
 ],
 "metadata": {
  "kernelspec": {
   "display_name": "Python 3",
   "language": "python",
   "name": "python3"
  },
  "language_info": {
   "codemirror_mode": {
    "name": "ipython",
    "version": 3
   },
   "file_extension": ".py",
   "mimetype": "text/x-python",
   "name": "python",
   "nbconvert_exporter": "python",
   "pygments_lexer": "ipython3",
   "version": "3.7.3"
  }
 },
 "nbformat": 4,
 "nbformat_minor": 2
}
