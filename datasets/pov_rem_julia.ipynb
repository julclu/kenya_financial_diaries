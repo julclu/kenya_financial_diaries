{
 "cells": [
  {
   "cell_type": "code",
   "execution_count": 1,
   "metadata": {},
   "outputs": [],
   "source": [
    "import pandas as pd\n",
    "import glob\n",
    "import os"
   ]
  },
  {
   "cell_type": "code",
   "execution_count": 15,
   "metadata": {},
   "outputs": [],
   "source": [
    "pd.set_option('display.max_rows', 500)\n",
    "pd.set_option('display.max_columns', 500)\n",
    "pd.set_option('display.width', 1000)"
   ]
  },
  {
   "cell_type": "code",
   "execution_count": 6,
   "metadata": {},
   "outputs": [
    {
     "data": {
      "text/plain": [
       "['../aux_data/pov_hh_over_trx_yr_mo_kes_incRR.csv',\n",
       " '../aux_data/pov_hh_over_trx_yr_mo_kes_excRR.csv']"
      ]
     },
     "execution_count": 6,
     "metadata": {},
     "output_type": "execute_result"
    }
   ],
   "source": [
    "glob.glob('../aux_data/*pov*over*kes*.csv')"
   ]
  },
  {
   "cell_type": "code",
   "execution_count": 7,
   "metadata": {},
   "outputs": [],
   "source": [
    "pov_rem = pd.read_csv(\"../aux_data/pov_hh_over_trx_yr_mo_kes_incRR.csv\")"
   ]
  },
  {
   "cell_type": "code",
   "execution_count": 10,
   "metadata": {},
   "outputs": [
    {
     "data": {
      "text/plain": [
       "['../aux_data/housing_conditions_ownership.csv']"
      ]
     },
     "execution_count": 10,
     "metadata": {},
     "output_type": "execute_result"
    }
   ],
   "source": [
    "glob.glob('../aux_data/*hou*.csv')"
   ]
  },
  {
   "cell_type": "code",
   "execution_count": 27,
   "metadata": {},
   "outputs": [
    {
     "data": {
      "text/html": [
       "<div>\n",
       "<style scoped>\n",
       "    .dataframe tbody tr th:only-of-type {\n",
       "        vertical-align: middle;\n",
       "    }\n",
       "\n",
       "    .dataframe tbody tr th {\n",
       "        vertical-align: top;\n",
       "    }\n",
       "\n",
       "    .dataframe thead th {\n",
       "        text-align: right;\n",
       "    }\n",
       "</style>\n",
       "<table border=\"1\" class=\"dataframe\">\n",
       "  <thead>\n",
       "    <tr style=\"text-align: right;\">\n",
       "      <th></th>\n",
       "      <th>hh_ids</th>\n",
       "      <th>inc_hh_medianpti</th>\n",
       "      <th>con_pur_hh_medpti</th>\n",
       "      <th>con_prod_hh_medpti</th>\n",
       "      <th>dem_urban</th>\n",
       "      <th>dem_hh_size</th>\n",
       "      <th>dem_pae_oecd</th>\n",
       "      <th>dem_pae_kihbs</th>\n",
       "      <th>con_hh_medpti</th>\n",
       "      <th>inc_hh_pti_pae_oecd</th>\n",
       "      <th>con_hh_pti_pae_oecd</th>\n",
       "      <th>inc_hh_pti_pae_kihbs</th>\n",
       "      <th>con_hh_pti_pae_kihbs</th>\n",
       "      <th>inc_below_85_kes_oecd</th>\n",
       "      <th>con_below_85_kes_oecd</th>\n",
       "      <th>inc_below_85_kes_kihbs</th>\n",
       "      <th>con_below_85_kes_kihbs</th>\n",
       "      <th>inc_below_170_kes_oecd</th>\n",
       "      <th>con_below_170_kes_oecd</th>\n",
       "      <th>inc_below_170_kes_kihbs</th>\n",
       "      <th>con_below_170_kes_kihbs</th>\n",
       "      <th>inc_below_425_kes_oecd</th>\n",
       "      <th>con_below_425_kes_oecd</th>\n",
       "      <th>inc_below_425_kes_kihbs</th>\n",
       "      <th>con_below_425_kes_kihbs</th>\n",
       "    </tr>\n",
       "  </thead>\n",
       "  <tbody>\n",
       "    <tr>\n",
       "      <th>0</th>\n",
       "      <td>KELDK01</td>\n",
       "      <td>9900.0</td>\n",
       "      <td>8805.0</td>\n",
       "      <td>0.0</td>\n",
       "      <td>0</td>\n",
       "      <td>4</td>\n",
       "      <td>2.7</td>\n",
       "      <td>2.89</td>\n",
       "      <td>8805.0</td>\n",
       "      <td>120.21860</td>\n",
       "      <td>106.92170</td>\n",
       "      <td>112.31490</td>\n",
       "      <td>99.89222</td>\n",
       "      <td>0</td>\n",
       "      <td>0</td>\n",
       "      <td>0</td>\n",
       "      <td>0</td>\n",
       "      <td>1</td>\n",
       "      <td>1</td>\n",
       "      <td>1</td>\n",
       "      <td>1</td>\n",
       "      <td>1</td>\n",
       "      <td>1</td>\n",
       "      <td>1</td>\n",
       "      <td>1</td>\n",
       "    </tr>\n",
       "    <tr>\n",
       "      <th>1</th>\n",
       "      <td>KELDK02</td>\n",
       "      <td>35472.5</td>\n",
       "      <td>10665.0</td>\n",
       "      <td>0.0</td>\n",
       "      <td>0</td>\n",
       "      <td>3</td>\n",
       "      <td>2.4</td>\n",
       "      <td>3.00</td>\n",
       "      <td>10665.0</td>\n",
       "      <td>484.59700</td>\n",
       "      <td>145.69670</td>\n",
       "      <td>387.67760</td>\n",
       "      <td>116.55740</td>\n",
       "      <td>0</td>\n",
       "      <td>0</td>\n",
       "      <td>0</td>\n",
       "      <td>0</td>\n",
       "      <td>0</td>\n",
       "      <td>1</td>\n",
       "      <td>0</td>\n",
       "      <td>1</td>\n",
       "      <td>0</td>\n",
       "      <td>1</td>\n",
       "      <td>1</td>\n",
       "      <td>1</td>\n",
       "    </tr>\n",
       "    <tr>\n",
       "      <th>2</th>\n",
       "      <td>KELDK08</td>\n",
       "      <td>3555.0</td>\n",
       "      <td>2890.0</td>\n",
       "      <td>0.0</td>\n",
       "      <td>0</td>\n",
       "      <td>3</td>\n",
       "      <td>2.2</td>\n",
       "      <td>2.24</td>\n",
       "      <td>2890.0</td>\n",
       "      <td>52.98063</td>\n",
       "      <td>43.07005</td>\n",
       "      <td>52.03454</td>\n",
       "      <td>42.30094</td>\n",
       "      <td>1</td>\n",
       "      <td>1</td>\n",
       "      <td>1</td>\n",
       "      <td>1</td>\n",
       "      <td>1</td>\n",
       "      <td>1</td>\n",
       "      <td>1</td>\n",
       "      <td>1</td>\n",
       "      <td>1</td>\n",
       "      <td>1</td>\n",
       "      <td>1</td>\n",
       "      <td>1</td>\n",
       "    </tr>\n",
       "    <tr>\n",
       "      <th>3</th>\n",
       "      <td>KELDK09</td>\n",
       "      <td>9000.0</td>\n",
       "      <td>6415.0</td>\n",
       "      <td>0.0</td>\n",
       "      <td>0</td>\n",
       "      <td>2</td>\n",
       "      <td>1.5</td>\n",
       "      <td>1.65</td>\n",
       "      <td>6415.0</td>\n",
       "      <td>196.72130</td>\n",
       "      <td>140.21860</td>\n",
       "      <td>178.83760</td>\n",
       "      <td>127.47140</td>\n",
       "      <td>0</td>\n",
       "      <td>0</td>\n",
       "      <td>0</td>\n",
       "      <td>0</td>\n",
       "      <td>0</td>\n",
       "      <td>1</td>\n",
       "      <td>0</td>\n",
       "      <td>1</td>\n",
       "      <td>1</td>\n",
       "      <td>1</td>\n",
       "      <td>1</td>\n",
       "      <td>1</td>\n",
       "    </tr>\n",
       "    <tr>\n",
       "      <th>4</th>\n",
       "      <td>KELDK10</td>\n",
       "      <td>8250.0</td>\n",
       "      <td>6005.0</td>\n",
       "      <td>0.0</td>\n",
       "      <td>0</td>\n",
       "      <td>1</td>\n",
       "      <td>1.0</td>\n",
       "      <td>1.00</td>\n",
       "      <td>6005.0</td>\n",
       "      <td>270.49180</td>\n",
       "      <td>196.88520</td>\n",
       "      <td>270.49180</td>\n",
       "      <td>196.88520</td>\n",
       "      <td>0</td>\n",
       "      <td>0</td>\n",
       "      <td>0</td>\n",
       "      <td>0</td>\n",
       "      <td>0</td>\n",
       "      <td>0</td>\n",
       "      <td>0</td>\n",
       "      <td>0</td>\n",
       "      <td>1</td>\n",
       "      <td>1</td>\n",
       "      <td>1</td>\n",
       "      <td>1</td>\n",
       "    </tr>\n",
       "  </tbody>\n",
       "</table>\n",
       "</div>"
      ],
      "text/plain": [
       "    hh_ids  inc_hh_medianpti  con_pur_hh_medpti  con_prod_hh_medpti  dem_urban  dem_hh_size  dem_pae_oecd  dem_pae_kihbs  con_hh_medpti  inc_hh_pti_pae_oecd  con_hh_pti_pae_oecd  inc_hh_pti_pae_kihbs  con_hh_pti_pae_kihbs  inc_below_85_kes_oecd  con_below_85_kes_oecd  inc_below_85_kes_kihbs  con_below_85_kes_kihbs  inc_below_170_kes_oecd  con_below_170_kes_oecd  inc_below_170_kes_kihbs  con_below_170_kes_kihbs  inc_below_425_kes_oecd  con_below_425_kes_oecd  inc_below_425_kes_kihbs  con_below_425_kes_kihbs\n",
       "0  KELDK01            9900.0             8805.0                 0.0          0            4           2.7           2.89         8805.0            120.21860            106.92170             112.31490              99.89222                      0                      0                       0                       0                       1                       1                        1                        1                       1                       1                        1                        1\n",
       "1  KELDK02           35472.5            10665.0                 0.0          0            3           2.4           3.00        10665.0            484.59700            145.69670             387.67760             116.55740                      0                      0                       0                       0                       0                       1                        0                        1                       0                       1                        1                        1\n",
       "2  KELDK08            3555.0             2890.0                 0.0          0            3           2.2           2.24         2890.0             52.98063             43.07005              52.03454              42.30094                      1                      1                       1                       1                       1                       1                        1                        1                       1                       1                        1                        1\n",
       "3  KELDK09            9000.0             6415.0                 0.0          0            2           1.5           1.65         6415.0            196.72130            140.21860             178.83760             127.47140                      0                      0                       0                       0                       0                       1                        0                        1                       1                       1                        1                        1\n",
       "4  KELDK10            8250.0             6005.0                 0.0          0            1           1.0           1.00         6005.0            270.49180            196.88520             270.49180             196.88520                      0                      0                       0                       0                       0                       0                        0                        0                       1                       1                        1                        1"
      ]
     },
     "execution_count": 27,
     "metadata": {},
     "output_type": "execute_result"
    }
   ],
   "source": [
    "pov_rem.head()"
   ]
  },
  {
   "cell_type": "code",
   "execution_count": 28,
   "metadata": {},
   "outputs": [],
   "source": [
    "trx = pd.read_csv('../diaries_transactions_all.csv', low_memory = False)"
   ]
  },
  {
   "cell_type": "code",
   "execution_count": 29,
   "metadata": {},
   "outputs": [],
   "source": [
    "trx_hh_mids = trx[['hh_ids', 'm_ids_owner']]"
   ]
  },
  {
   "cell_type": "code",
   "execution_count": 30,
   "metadata": {},
   "outputs": [],
   "source": [
    "trx_hh_mids = trx_hh_mids.drop_duplicates(['m_ids_owner'])"
   ]
  },
  {
   "cell_type": "code",
   "execution_count": 31,
   "metadata": {},
   "outputs": [
    {
     "data": {
      "text/plain": [
       "(670, 2)"
      ]
     },
     "execution_count": 31,
     "metadata": {},
     "output_type": "execute_result"
    }
   ],
   "source": [
    "trx_hh_mids.shape"
   ]
  },
  {
   "cell_type": "code",
   "execution_count": 35,
   "metadata": {},
   "outputs": [],
   "source": [
    "pov_rem_to_m_ids = trx_hh_mids.merge(pov_rem, on = ['hh_ids'], how = 'left')"
   ]
  },
  {
   "cell_type": "code",
   "execution_count": 36,
   "metadata": {},
   "outputs": [
    {
     "data": {
      "text/plain": [
       "(670, 26)"
      ]
     },
     "execution_count": 36,
     "metadata": {},
     "output_type": "execute_result"
    }
   ],
   "source": [
    "pov_rem_to_m_ids.shape"
   ]
  },
  {
   "cell_type": "code",
   "execution_count": 38,
   "metadata": {},
   "outputs": [
    {
     "data": {
      "text/plain": [
       "inc_hh_medianpti           670.0\n",
       "con_pur_hh_medpti          670.0\n",
       "con_prod_hh_medpti         670.0\n",
       "dem_urban                  670.0\n",
       "dem_hh_size                670.0\n",
       "dem_pae_oecd               670.0\n",
       "dem_pae_kihbs              670.0\n",
       "con_hh_medpti              670.0\n",
       "inc_hh_pti_pae_oecd        670.0\n",
       "con_hh_pti_pae_oecd        670.0\n",
       "inc_hh_pti_pae_kihbs       670.0\n",
       "con_hh_pti_pae_kihbs       670.0\n",
       "inc_below_85_kes_oecd      670.0\n",
       "con_below_85_kes_oecd      670.0\n",
       "inc_below_85_kes_kihbs     670.0\n",
       "con_below_85_kes_kihbs     670.0\n",
       "inc_below_170_kes_oecd     670.0\n",
       "con_below_170_kes_oecd     670.0\n",
       "inc_below_170_kes_kihbs    670.0\n",
       "con_below_170_kes_kihbs    670.0\n",
       "inc_below_425_kes_oecd     670.0\n",
       "con_below_425_kes_oecd     670.0\n",
       "inc_below_425_kes_kihbs    670.0\n",
       "con_below_425_kes_kihbs    670.0\n",
       "Name: count, dtype: float64"
      ]
     },
     "execution_count": 38,
     "metadata": {},
     "output_type": "execute_result"
    }
   ],
   "source": [
    "pov_rem_to_m_ids.describe().loc['count']"
   ]
  },
  {
   "cell_type": "code",
   "execution_count": 39,
   "metadata": {},
   "outputs": [],
   "source": [
    "pov_rem_to_m_ids.to_csv('pov_rem_to_m_ids.csv', index = False)"
   ]
  },
  {
   "cell_type": "code",
   "execution_count": null,
   "metadata": {},
   "outputs": [],
   "source": []
  }
 ],
 "metadata": {
  "kernelspec": {
   "display_name": "Python 3",
   "language": "python",
   "name": "python3"
  },
  "language_info": {
   "codemirror_mode": {
    "name": "ipython",
    "version": 3
   },
   "file_extension": ".py",
   "mimetype": "text/x-python",
   "name": "python",
   "nbconvert_exporter": "python",
   "pygments_lexer": "ipython3",
   "version": "3.6.4"
  }
 },
 "nbformat": 4,
 "nbformat_minor": 2
}
