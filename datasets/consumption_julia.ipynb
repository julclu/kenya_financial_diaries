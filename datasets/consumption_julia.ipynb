{
 "cells": [
  {
   "cell_type": "code",
   "execution_count": 2,
   "metadata": {},
   "outputs": [],
   "source": [
    "import os\n",
    "import pandas as pd \n",
    "import glob"
   ]
  },
  {
   "cell_type": "code",
   "execution_count": 3,
   "metadata": {},
   "outputs": [
    {
     "data": {
      "text/plain": [
       "[]"
      ]
     },
     "execution_count": 3,
     "metadata": {},
     "output_type": "execute_result"
    }
   ],
   "source": [
    "glob.glob('../aux_data/*con*kes*csv')"
   ]
  },
  {
   "cell_type": "markdown",
   "metadata": {},
   "source": [
    "Notes: \n",
    "- con_pur_hh_over_trx_yr_mo_kes = Mean/ Median aggregate calendar month purchases by type and household (over study period)\n",
    "- con_pur_hh_by_trx_yr_mo_kes = Aggregate purchases by type, calendar month and household\n",
    "- con_prod_hh_over_trx_yr_mo_kes  = Total value of own production (for food) by household (median monthly food production) \n",
    "- con_prod_hh_by_trx_yr_mo_kes = Total value of own production (for food) by household and calendar month\n"
   ]
  },
  {
   "cell_type": "code",
   "execution_count": 4,
   "metadata": {},
   "outputs": [
    {
     "ename": "FileNotFoundError",
     "evalue": "[Errno 2] File b'../aux_data/con_pur_hh_over_trx_yr_mo_kes.csv' does not exist: b'../aux_data/con_pur_hh_over_trx_yr_mo_kes.csv'",
     "output_type": "error",
     "traceback": [
      "\u001b[1;31m---------------------------------------------------------------------------\u001b[0m",
      "\u001b[1;31mFileNotFoundError\u001b[0m                         Traceback (most recent call last)",
      "\u001b[1;32m<ipython-input-4-e3e25371e221>\u001b[0m in \u001b[0;36m<module>\u001b[1;34m\u001b[0m\n\u001b[1;32m----> 1\u001b[1;33m \u001b[0mcon_pur_hh_over_trx_yr_mo_kes\u001b[0m  \u001b[1;33m=\u001b[0m \u001b[0mpd\u001b[0m\u001b[1;33m.\u001b[0m\u001b[0mread_csv\u001b[0m\u001b[1;33m(\u001b[0m\u001b[1;34m'../aux_data/con_pur_hh_over_trx_yr_mo_kes.csv'\u001b[0m\u001b[1;33m)\u001b[0m\u001b[1;33m\u001b[0m\u001b[1;33m\u001b[0m\u001b[0m\n\u001b[0m\u001b[0;32m      2\u001b[0m \u001b[0mcon_pur_hh_by_trx_yr_mo_kes\u001b[0m    \u001b[1;33m=\u001b[0m \u001b[0mpd\u001b[0m\u001b[1;33m.\u001b[0m\u001b[0mread_csv\u001b[0m\u001b[1;33m(\u001b[0m\u001b[1;34m'../aux_data/con_pur_hh_by_trx_yr_mo_kes.csv'\u001b[0m\u001b[1;33m)\u001b[0m\u001b[1;33m\u001b[0m\u001b[1;33m\u001b[0m\u001b[0m\n\u001b[0;32m      3\u001b[0m \u001b[0mcon_prod_hh_over_trx_yr_mo_kes\u001b[0m \u001b[1;33m=\u001b[0m \u001b[0mpd\u001b[0m\u001b[1;33m.\u001b[0m\u001b[0mread_csv\u001b[0m\u001b[1;33m(\u001b[0m\u001b[1;34m'../aux_data/con_prod_hh_over_trx_yr_mo_kes.csv'\u001b[0m\u001b[1;33m)\u001b[0m\u001b[1;33m\u001b[0m\u001b[1;33m\u001b[0m\u001b[0m\n\u001b[0;32m      4\u001b[0m \u001b[0mcon_prod_hh_by_trx_yr_mo_kes\u001b[0m   \u001b[1;33m=\u001b[0m \u001b[0mpd\u001b[0m\u001b[1;33m.\u001b[0m\u001b[0mread_csv\u001b[0m\u001b[1;33m(\u001b[0m\u001b[1;34m'../aux_data/con_prod_hh_by_trx_yr_mo_kes.csv'\u001b[0m\u001b[1;33m)\u001b[0m\u001b[1;33m\u001b[0m\u001b[1;33m\u001b[0m\u001b[0m\n",
      "\u001b[1;32m~\\Anaconda3\\lib\\site-packages\\pandas\\io\\parsers.py\u001b[0m in \u001b[0;36mparser_f\u001b[1;34m(filepath_or_buffer, sep, delimiter, header, names, index_col, usecols, squeeze, prefix, mangle_dupe_cols, dtype, engine, converters, true_values, false_values, skipinitialspace, skiprows, skipfooter, nrows, na_values, keep_default_na, na_filter, verbose, skip_blank_lines, parse_dates, infer_datetime_format, keep_date_col, date_parser, dayfirst, iterator, chunksize, compression, thousands, decimal, lineterminator, quotechar, quoting, doublequote, escapechar, comment, encoding, dialect, tupleize_cols, error_bad_lines, warn_bad_lines, delim_whitespace, low_memory, memory_map, float_precision)\u001b[0m\n\u001b[0;32m    700\u001b[0m                     skip_blank_lines=skip_blank_lines)\n\u001b[0;32m    701\u001b[0m \u001b[1;33m\u001b[0m\u001b[0m\n\u001b[1;32m--> 702\u001b[1;33m         \u001b[1;32mreturn\u001b[0m \u001b[0m_read\u001b[0m\u001b[1;33m(\u001b[0m\u001b[0mfilepath_or_buffer\u001b[0m\u001b[1;33m,\u001b[0m \u001b[0mkwds\u001b[0m\u001b[1;33m)\u001b[0m\u001b[1;33m\u001b[0m\u001b[1;33m\u001b[0m\u001b[0m\n\u001b[0m\u001b[0;32m    703\u001b[0m \u001b[1;33m\u001b[0m\u001b[0m\n\u001b[0;32m    704\u001b[0m     \u001b[0mparser_f\u001b[0m\u001b[1;33m.\u001b[0m\u001b[0m__name__\u001b[0m \u001b[1;33m=\u001b[0m \u001b[0mname\u001b[0m\u001b[1;33m\u001b[0m\u001b[1;33m\u001b[0m\u001b[0m\n",
      "\u001b[1;32m~\\Anaconda3\\lib\\site-packages\\pandas\\io\\parsers.py\u001b[0m in \u001b[0;36m_read\u001b[1;34m(filepath_or_buffer, kwds)\u001b[0m\n\u001b[0;32m    427\u001b[0m \u001b[1;33m\u001b[0m\u001b[0m\n\u001b[0;32m    428\u001b[0m     \u001b[1;31m# Create the parser.\u001b[0m\u001b[1;33m\u001b[0m\u001b[1;33m\u001b[0m\u001b[1;33m\u001b[0m\u001b[0m\n\u001b[1;32m--> 429\u001b[1;33m     \u001b[0mparser\u001b[0m \u001b[1;33m=\u001b[0m \u001b[0mTextFileReader\u001b[0m\u001b[1;33m(\u001b[0m\u001b[0mfilepath_or_buffer\u001b[0m\u001b[1;33m,\u001b[0m \u001b[1;33m**\u001b[0m\u001b[0mkwds\u001b[0m\u001b[1;33m)\u001b[0m\u001b[1;33m\u001b[0m\u001b[1;33m\u001b[0m\u001b[0m\n\u001b[0m\u001b[0;32m    430\u001b[0m \u001b[1;33m\u001b[0m\u001b[0m\n\u001b[0;32m    431\u001b[0m     \u001b[1;32mif\u001b[0m \u001b[0mchunksize\u001b[0m \u001b[1;32mor\u001b[0m \u001b[0miterator\u001b[0m\u001b[1;33m:\u001b[0m\u001b[1;33m\u001b[0m\u001b[1;33m\u001b[0m\u001b[0m\n",
      "\u001b[1;32m~\\Anaconda3\\lib\\site-packages\\pandas\\io\\parsers.py\u001b[0m in \u001b[0;36m__init__\u001b[1;34m(self, f, engine, **kwds)\u001b[0m\n\u001b[0;32m    893\u001b[0m             \u001b[0mself\u001b[0m\u001b[1;33m.\u001b[0m\u001b[0moptions\u001b[0m\u001b[1;33m[\u001b[0m\u001b[1;34m'has_index_names'\u001b[0m\u001b[1;33m]\u001b[0m \u001b[1;33m=\u001b[0m \u001b[0mkwds\u001b[0m\u001b[1;33m[\u001b[0m\u001b[1;34m'has_index_names'\u001b[0m\u001b[1;33m]\u001b[0m\u001b[1;33m\u001b[0m\u001b[1;33m\u001b[0m\u001b[0m\n\u001b[0;32m    894\u001b[0m \u001b[1;33m\u001b[0m\u001b[0m\n\u001b[1;32m--> 895\u001b[1;33m         \u001b[0mself\u001b[0m\u001b[1;33m.\u001b[0m\u001b[0m_make_engine\u001b[0m\u001b[1;33m(\u001b[0m\u001b[0mself\u001b[0m\u001b[1;33m.\u001b[0m\u001b[0mengine\u001b[0m\u001b[1;33m)\u001b[0m\u001b[1;33m\u001b[0m\u001b[1;33m\u001b[0m\u001b[0m\n\u001b[0m\u001b[0;32m    896\u001b[0m \u001b[1;33m\u001b[0m\u001b[0m\n\u001b[0;32m    897\u001b[0m     \u001b[1;32mdef\u001b[0m \u001b[0mclose\u001b[0m\u001b[1;33m(\u001b[0m\u001b[0mself\u001b[0m\u001b[1;33m)\u001b[0m\u001b[1;33m:\u001b[0m\u001b[1;33m\u001b[0m\u001b[1;33m\u001b[0m\u001b[0m\n",
      "\u001b[1;32m~\\Anaconda3\\lib\\site-packages\\pandas\\io\\parsers.py\u001b[0m in \u001b[0;36m_make_engine\u001b[1;34m(self, engine)\u001b[0m\n\u001b[0;32m   1120\u001b[0m     \u001b[1;32mdef\u001b[0m \u001b[0m_make_engine\u001b[0m\u001b[1;33m(\u001b[0m\u001b[0mself\u001b[0m\u001b[1;33m,\u001b[0m \u001b[0mengine\u001b[0m\u001b[1;33m=\u001b[0m\u001b[1;34m'c'\u001b[0m\u001b[1;33m)\u001b[0m\u001b[1;33m:\u001b[0m\u001b[1;33m\u001b[0m\u001b[1;33m\u001b[0m\u001b[0m\n\u001b[0;32m   1121\u001b[0m         \u001b[1;32mif\u001b[0m \u001b[0mengine\u001b[0m \u001b[1;33m==\u001b[0m \u001b[1;34m'c'\u001b[0m\u001b[1;33m:\u001b[0m\u001b[1;33m\u001b[0m\u001b[1;33m\u001b[0m\u001b[0m\n\u001b[1;32m-> 1122\u001b[1;33m             \u001b[0mself\u001b[0m\u001b[1;33m.\u001b[0m\u001b[0m_engine\u001b[0m \u001b[1;33m=\u001b[0m \u001b[0mCParserWrapper\u001b[0m\u001b[1;33m(\u001b[0m\u001b[0mself\u001b[0m\u001b[1;33m.\u001b[0m\u001b[0mf\u001b[0m\u001b[1;33m,\u001b[0m \u001b[1;33m**\u001b[0m\u001b[0mself\u001b[0m\u001b[1;33m.\u001b[0m\u001b[0moptions\u001b[0m\u001b[1;33m)\u001b[0m\u001b[1;33m\u001b[0m\u001b[1;33m\u001b[0m\u001b[0m\n\u001b[0m\u001b[0;32m   1123\u001b[0m         \u001b[1;32melse\u001b[0m\u001b[1;33m:\u001b[0m\u001b[1;33m\u001b[0m\u001b[1;33m\u001b[0m\u001b[0m\n\u001b[0;32m   1124\u001b[0m             \u001b[1;32mif\u001b[0m \u001b[0mengine\u001b[0m \u001b[1;33m==\u001b[0m \u001b[1;34m'python'\u001b[0m\u001b[1;33m:\u001b[0m\u001b[1;33m\u001b[0m\u001b[1;33m\u001b[0m\u001b[0m\n",
      "\u001b[1;32m~\\Anaconda3\\lib\\site-packages\\pandas\\io\\parsers.py\u001b[0m in \u001b[0;36m__init__\u001b[1;34m(self, src, **kwds)\u001b[0m\n\u001b[0;32m   1851\u001b[0m         \u001b[0mkwds\u001b[0m\u001b[1;33m[\u001b[0m\u001b[1;34m'usecols'\u001b[0m\u001b[1;33m]\u001b[0m \u001b[1;33m=\u001b[0m \u001b[0mself\u001b[0m\u001b[1;33m.\u001b[0m\u001b[0musecols\u001b[0m\u001b[1;33m\u001b[0m\u001b[1;33m\u001b[0m\u001b[0m\n\u001b[0;32m   1852\u001b[0m \u001b[1;33m\u001b[0m\u001b[0m\n\u001b[1;32m-> 1853\u001b[1;33m         \u001b[0mself\u001b[0m\u001b[1;33m.\u001b[0m\u001b[0m_reader\u001b[0m \u001b[1;33m=\u001b[0m \u001b[0mparsers\u001b[0m\u001b[1;33m.\u001b[0m\u001b[0mTextReader\u001b[0m\u001b[1;33m(\u001b[0m\u001b[0msrc\u001b[0m\u001b[1;33m,\u001b[0m \u001b[1;33m**\u001b[0m\u001b[0mkwds\u001b[0m\u001b[1;33m)\u001b[0m\u001b[1;33m\u001b[0m\u001b[1;33m\u001b[0m\u001b[0m\n\u001b[0m\u001b[0;32m   1854\u001b[0m         \u001b[0mself\u001b[0m\u001b[1;33m.\u001b[0m\u001b[0munnamed_cols\u001b[0m \u001b[1;33m=\u001b[0m \u001b[0mself\u001b[0m\u001b[1;33m.\u001b[0m\u001b[0m_reader\u001b[0m\u001b[1;33m.\u001b[0m\u001b[0munnamed_cols\u001b[0m\u001b[1;33m\u001b[0m\u001b[1;33m\u001b[0m\u001b[0m\n\u001b[0;32m   1855\u001b[0m \u001b[1;33m\u001b[0m\u001b[0m\n",
      "\u001b[1;32mpandas/_libs/parsers.pyx\u001b[0m in \u001b[0;36mpandas._libs.parsers.TextReader.__cinit__\u001b[1;34m()\u001b[0m\n",
      "\u001b[1;32mpandas/_libs/parsers.pyx\u001b[0m in \u001b[0;36mpandas._libs.parsers.TextReader._setup_parser_source\u001b[1;34m()\u001b[0m\n",
      "\u001b[1;31mFileNotFoundError\u001b[0m: [Errno 2] File b'../aux_data/con_pur_hh_over_trx_yr_mo_kes.csv' does not exist: b'../aux_data/con_pur_hh_over_trx_yr_mo_kes.csv'"
     ]
    }
   ],
   "source": [
    "con_pur_hh_over_trx_yr_mo_kes  = pd.read_csv('../aux_data/con_pur_hh_over_trx_yr_mo_kes.csv')\n",
    "con_pur_hh_by_trx_yr_mo_kes    = pd.read_csv('../aux_data/con_pur_hh_by_trx_yr_mo_kes.csv')\n",
    "con_prod_hh_over_trx_yr_mo_kes = pd.read_csv('../aux_data/con_prod_hh_over_trx_yr_mo_kes.csv')\n",
    "con_prod_hh_by_trx_yr_mo_kes   = pd.read_csv('../aux_data/con_prod_hh_by_trx_yr_mo_kes.csv')"
   ]
  },
  {
   "cell_type": "code",
   "execution_count": 5,
   "metadata": {},
   "outputs": [
    {
     "ename": "NameError",
     "evalue": "name 'con_pur_hh_over_trx_yr_mo_kes' is not defined",
     "output_type": "error",
     "traceback": [
      "\u001b[1;31m---------------------------------------------------------------------------\u001b[0m",
      "\u001b[1;31mNameError\u001b[0m                                 Traceback (most recent call last)",
      "\u001b[1;32m<ipython-input-5-4b5caacc78a6>\u001b[0m in \u001b[0;36m<module>\u001b[1;34m\u001b[0m\n\u001b[1;32m----> 1\u001b[1;33m \u001b[0mcon_pur_hh_over_trx_yr_mo_kes\u001b[0m\u001b[1;33m.\u001b[0m\u001b[0mhead\u001b[0m\u001b[1;33m(\u001b[0m\u001b[1;33m)\u001b[0m\u001b[1;33m\u001b[0m\u001b[1;33m\u001b[0m\u001b[0m\n\u001b[0m",
      "\u001b[1;31mNameError\u001b[0m: name 'con_pur_hh_over_trx_yr_mo_kes' is not defined"
     ]
    }
   ],
   "source": [
    "con_pur_hh_over_trx_yr_mo_kes.head() "
   ]
  },
  {
   "cell_type": "code",
   "execution_count": 6,
   "metadata": {},
   "outputs": [
    {
     "ename": "NameError",
     "evalue": "name 'con_pur_hh_over_trx_yr_mo_kes' is not defined",
     "output_type": "error",
     "traceback": [
      "\u001b[1;31m---------------------------------------------------------------------------\u001b[0m",
      "\u001b[1;31mNameError\u001b[0m                                 Traceback (most recent call last)",
      "\u001b[1;32m<ipython-input-6-08b5733969ec>\u001b[0m in \u001b[0;36m<module>\u001b[1;34m\u001b[0m\n\u001b[1;32m----> 1\u001b[1;33m \u001b[0mcon_pur_hh_over_trx_yr_mo_kes\u001b[0m\u001b[1;33m.\u001b[0m\u001b[0mcolumns\u001b[0m\u001b[1;33m\u001b[0m\u001b[1;33m\u001b[0m\u001b[0m\n\u001b[0m",
      "\u001b[1;31mNameError\u001b[0m: name 'con_pur_hh_over_trx_yr_mo_kes' is not defined"
     ]
    }
   ],
   "source": [
    "con_pur_hh_over_trx_yr_mo_kes.columns"
   ]
  },
  {
   "cell_type": "code",
   "execution_count": 7,
   "metadata": {},
   "outputs": [
    {
     "ename": "NameError",
     "evalue": "name 'con_pur_hh_over_trx_yr_mo_kes' is not defined",
     "output_type": "error",
     "traceback": [
      "\u001b[1;31m---------------------------------------------------------------------------\u001b[0m",
      "\u001b[1;31mNameError\u001b[0m                                 Traceback (most recent call last)",
      "\u001b[1;32m<ipython-input-7-a81e7e3bb9af>\u001b[0m in \u001b[0;36m<module>\u001b[1;34m\u001b[0m\n\u001b[1;32m----> 1\u001b[1;33m \u001b[0mcon_pur_hh_over_trx_yr_mo_kes\u001b[0m\u001b[1;33m.\u001b[0m\u001b[0mshape\u001b[0m\u001b[1;33m\u001b[0m\u001b[1;33m\u001b[0m\u001b[0m\n\u001b[0m",
      "\u001b[1;31mNameError\u001b[0m: name 'con_pur_hh_over_trx_yr_mo_kes' is not defined"
     ]
    }
   ],
   "source": [
    "con_pur_hh_over_trx_yr_mo_kes.shape"
   ]
  },
  {
   "cell_type": "code",
   "execution_count": 8,
   "metadata": {},
   "outputs": [
    {
     "ename": "NameError",
     "evalue": "name 'con_pur_hh_by_trx_yr_mo_kes' is not defined",
     "output_type": "error",
     "traceback": [
      "\u001b[1;31m---------------------------------------------------------------------------\u001b[0m",
      "\u001b[1;31mNameError\u001b[0m                                 Traceback (most recent call last)",
      "\u001b[1;32m<ipython-input-8-6757e3808194>\u001b[0m in \u001b[0;36m<module>\u001b[1;34m\u001b[0m\n\u001b[1;32m----> 1\u001b[1;33m \u001b[0mcon_pur_hh_by_trx_yr_mo_kes\u001b[0m\u001b[1;33m.\u001b[0m\u001b[0mhead\u001b[0m\u001b[1;33m(\u001b[0m\u001b[1;33m)\u001b[0m\u001b[1;33m\u001b[0m\u001b[1;33m\u001b[0m\u001b[0m\n\u001b[0m",
      "\u001b[1;31mNameError\u001b[0m: name 'con_pur_hh_by_trx_yr_mo_kes' is not defined"
     ]
    }
   ],
   "source": [
    "con_pur_hh_by_trx_yr_mo_kes.head()"
   ]
  },
  {
   "cell_type": "code",
   "execution_count": 9,
   "metadata": {},
   "outputs": [
    {
     "ename": "NameError",
     "evalue": "name 'con_pur_hh_by_trx_yr_mo_kes' is not defined",
     "output_type": "error",
     "traceback": [
      "\u001b[1;31m---------------------------------------------------------------------------\u001b[0m",
      "\u001b[1;31mNameError\u001b[0m                                 Traceback (most recent call last)",
      "\u001b[1;32m<ipython-input-9-ae2ebd5c284b>\u001b[0m in \u001b[0;36m<module>\u001b[1;34m\u001b[0m\n\u001b[1;32m----> 1\u001b[1;33m \u001b[0mcon_pur_hh_by_trx_yr_mo_kes\u001b[0m\u001b[1;33m.\u001b[0m\u001b[0mcolumns\u001b[0m\u001b[1;33m\u001b[0m\u001b[1;33m\u001b[0m\u001b[0m\n\u001b[0m",
      "\u001b[1;31mNameError\u001b[0m: name 'con_pur_hh_by_trx_yr_mo_kes' is not defined"
     ]
    }
   ],
   "source": [
    "con_pur_hh_by_trx_yr_mo_kes.columns"
   ]
  },
  {
   "cell_type": "code",
   "execution_count": 9,
   "metadata": {},
   "outputs": [
    {
     "data": {
      "text/plain": [
       "(3466, 18)"
      ]
     },
     "execution_count": 9,
     "metadata": {},
     "output_type": "execute_result"
    }
   ],
   "source": [
    "con_pur_hh_by_trx_yr_mo_kes.shape"
   ]
  },
  {
   "cell_type": "markdown",
   "metadata": {},
   "source": [
    "## So this is on a per-household basis, and is giving averages of different consumption statistics here. "
   ]
  },
  {
   "cell_type": "code",
   "execution_count": 10,
   "metadata": {},
   "outputs": [],
   "source": [
    "## Here I will merge the two datasets: "
   ]
  },
  {
   "cell_type": "code",
   "execution_count": 11,
   "metadata": {},
   "outputs": [
    {
     "data": {
      "text/plain": [
       "['Untitled.ipynb',\n",
       " 'wellbeing_goingson.csv',\n",
       " 'Goings-On-To-csv.ipynb',\n",
       " 'Pure_Truncation_Start_Bal_Ella.ipynb',\n",
       " 'consumption_julia.ipynb',\n",
       " 'goingson.csv',\n",
       " '.ipynb_checkpoints',\n",
       " 'Well-Being_CSV.ipynb',\n",
       " 'wellbeing.csv']"
      ]
     },
     "execution_count": 11,
     "metadata": {},
     "output_type": "execute_result"
    }
   ],
   "source": [
    "os.listdir()"
   ]
  },
  {
   "cell_type": "markdown",
   "metadata": {},
   "source": [
    "We need to merge w/ hh to individual id! "
   ]
  },
  {
   "cell_type": "code",
   "execution_count": 12,
   "metadata": {},
   "outputs": [
    {
     "data": {
      "text/html": [
       "<div>\n",
       "<style scoped>\n",
       "    .dataframe tbody tr th:only-of-type {\n",
       "        vertical-align: middle;\n",
       "    }\n",
       "\n",
       "    .dataframe tbody tr th {\n",
       "        vertical-align: top;\n",
       "    }\n",
       "\n",
       "    .dataframe thead th {\n",
       "        text-align: right;\n",
       "    }\n",
       "</style>\n",
       "<table border=\"1\" class=\"dataframe\">\n",
       "  <thead>\n",
       "    <tr style=\"text-align: right;\">\n",
       "      <th></th>\n",
       "      <th>con_pur_hh_meanptrx</th>\n",
       "      <th>con_pur_hh_sdptrx</th>\n",
       "      <th>con_pur_hh_minpti</th>\n",
       "      <th>con_pur_hh_meanpti</th>\n",
       "      <th>con_pur_hh_medpti</th>\n",
       "      <th>con_pur_hh_maxpti</th>\n",
       "      <th>con_pur_hh_meanpti_ALC</th>\n",
       "      <th>con_pur_hh_medpti_ALC</th>\n",
       "      <th>con_pur_hh_meanpti_CLN</th>\n",
       "      <th>con_pur_hh_medpti_CLN</th>\n",
       "      <th>...</th>\n",
       "      <th>con_pur_hh_meanpti_MED</th>\n",
       "      <th>con_pur_hh_medpti_MED</th>\n",
       "      <th>con_pur_hh_meanpti_OTH</th>\n",
       "      <th>con_pur_hh_medpti_OTH</th>\n",
       "      <th>con_pur_hh_meanpti_PERS</th>\n",
       "      <th>con_pur_hh_medpti_PERS</th>\n",
       "      <th>con_pur_hh_meanpti_REL</th>\n",
       "      <th>con_pur_hh_medpti_REL</th>\n",
       "      <th>con_pur_hh_meanpti_TRNSP</th>\n",
       "      <th>con_pur_hh_medpti_TRNSP</th>\n",
       "    </tr>\n",
       "  </thead>\n",
       "  <tbody>\n",
       "    <tr>\n",
       "      <th>count</th>\n",
       "      <td>298.000000</td>\n",
       "      <td>298.000000</td>\n",
       "      <td>298.000000</td>\n",
       "      <td>298.000000</td>\n",
       "      <td>298.000000</td>\n",
       "      <td>298.000000</td>\n",
       "      <td>298.000000</td>\n",
       "      <td>298.000000</td>\n",
       "      <td>298.000000</td>\n",
       "      <td>298.000000</td>\n",
       "      <td>...</td>\n",
       "      <td>298.000000</td>\n",
       "      <td>298.000000</td>\n",
       "      <td>298.000000</td>\n",
       "      <td>298.000000</td>\n",
       "      <td>298.000000</td>\n",
       "      <td>298.000000</td>\n",
       "      <td>298.000000</td>\n",
       "      <td>298.000000</td>\n",
       "      <td>298.000000</td>\n",
       "      <td>298.000000</td>\n",
       "    </tr>\n",
       "    <tr>\n",
       "      <th>mean</th>\n",
       "      <td>126.598419</td>\n",
       "      <td>490.652002</td>\n",
       "      <td>1918.127517</td>\n",
       "      <td>8001.986538</td>\n",
       "      <td>7103.894295</td>\n",
       "      <td>19204.060403</td>\n",
       "      <td>158.168218</td>\n",
       "      <td>133.015101</td>\n",
       "      <td>172.819700</td>\n",
       "      <td>130.036913</td>\n",
       "      <td>...</td>\n",
       "      <td>314.239108</td>\n",
       "      <td>46.983221</td>\n",
       "      <td>339.108841</td>\n",
       "      <td>88.739933</td>\n",
       "      <td>120.496525</td>\n",
       "      <td>66.005034</td>\n",
       "      <td>142.287746</td>\n",
       "      <td>68.139262</td>\n",
       "      <td>483.769695</td>\n",
       "      <td>291.963087</td>\n",
       "    </tr>\n",
       "    <tr>\n",
       "      <th>std</th>\n",
       "      <td>103.206386</td>\n",
       "      <td>622.049551</td>\n",
       "      <td>2957.169382</td>\n",
       "      <td>7809.719385</td>\n",
       "      <td>7698.218112</td>\n",
       "      <td>21005.000154</td>\n",
       "      <td>1457.215166</td>\n",
       "      <td>1482.072705</td>\n",
       "      <td>261.895791</td>\n",
       "      <td>266.517560</td>\n",
       "      <td>...</td>\n",
       "      <td>711.436922</td>\n",
       "      <td>209.371168</td>\n",
       "      <td>1235.224399</td>\n",
       "      <td>621.137098</td>\n",
       "      <td>181.983106</td>\n",
       "      <td>162.150440</td>\n",
       "      <td>278.131260</td>\n",
       "      <td>174.053728</td>\n",
       "      <td>587.196533</td>\n",
       "      <td>540.903352</td>\n",
       "    </tr>\n",
       "    <tr>\n",
       "      <th>min</th>\n",
       "      <td>27.469430</td>\n",
       "      <td>29.810620</td>\n",
       "      <td>10.000000</td>\n",
       "      <td>568.416700</td>\n",
       "      <td>439.000000</td>\n",
       "      <td>1540.000000</td>\n",
       "      <td>0.000000</td>\n",
       "      <td>0.000000</td>\n",
       "      <td>0.000000</td>\n",
       "      <td>0.000000</td>\n",
       "      <td>...</td>\n",
       "      <td>0.000000</td>\n",
       "      <td>0.000000</td>\n",
       "      <td>0.000000</td>\n",
       "      <td>0.000000</td>\n",
       "      <td>0.000000</td>\n",
       "      <td>0.000000</td>\n",
       "      <td>0.000000</td>\n",
       "      <td>0.000000</td>\n",
       "      <td>0.000000</td>\n",
       "      <td>0.000000</td>\n",
       "    </tr>\n",
       "    <tr>\n",
       "      <th>25%</th>\n",
       "      <td>60.822405</td>\n",
       "      <td>147.576875</td>\n",
       "      <td>345.500000</td>\n",
       "      <td>3662.312500</td>\n",
       "      <td>3059.375000</td>\n",
       "      <td>7109.000000</td>\n",
       "      <td>0.000000</td>\n",
       "      <td>0.000000</td>\n",
       "      <td>66.303573</td>\n",
       "      <td>20.000000</td>\n",
       "      <td>...</td>\n",
       "      <td>22.814682</td>\n",
       "      <td>0.000000</td>\n",
       "      <td>4.562938</td>\n",
       "      <td>0.000000</td>\n",
       "      <td>22.774620</td>\n",
       "      <td>0.000000</td>\n",
       "      <td>12.307690</td>\n",
       "      <td>0.000000</td>\n",
       "      <td>119.375025</td>\n",
       "      <td>0.000000</td>\n",
       "    </tr>\n",
       "    <tr>\n",
       "      <th>50%</th>\n",
       "      <td>96.543005</td>\n",
       "      <td>264.221600</td>\n",
       "      <td>937.500000</td>\n",
       "      <td>5655.557000</td>\n",
       "      <td>4947.500000</td>\n",
       "      <td>12207.000000</td>\n",
       "      <td>0.000000</td>\n",
       "      <td>0.000000</td>\n",
       "      <td>109.087100</td>\n",
       "      <td>80.000000</td>\n",
       "      <td>...</td>\n",
       "      <td>80.384615</td>\n",
       "      <td>0.000000</td>\n",
       "      <td>41.987180</td>\n",
       "      <td>0.000000</td>\n",
       "      <td>55.090910</td>\n",
       "      <td>12.500000</td>\n",
       "      <td>50.000000</td>\n",
       "      <td>0.000000</td>\n",
       "      <td>277.867100</td>\n",
       "      <td>100.000000</td>\n",
       "    </tr>\n",
       "    <tr>\n",
       "      <th>75%</th>\n",
       "      <td>156.267225</td>\n",
       "      <td>561.234700</td>\n",
       "      <td>2290.000000</td>\n",
       "      <td>9892.958000</td>\n",
       "      <td>8620.500000</td>\n",
       "      <td>23291.750000</td>\n",
       "      <td>0.000000</td>\n",
       "      <td>0.000000</td>\n",
       "      <td>175.520825</td>\n",
       "      <td>150.000000</td>\n",
       "      <td>...</td>\n",
       "      <td>249.943150</td>\n",
       "      <td>0.000000</td>\n",
       "      <td>178.236550</td>\n",
       "      <td>0.000000</td>\n",
       "      <td>161.687525</td>\n",
       "      <td>60.000000</td>\n",
       "      <td>156.780325</td>\n",
       "      <td>60.000000</td>\n",
       "      <td>619.261350</td>\n",
       "      <td>337.500000</td>\n",
       "    </tr>\n",
       "    <tr>\n",
       "      <th>max</th>\n",
       "      <td>1061.190000</td>\n",
       "      <td>5431.841000</td>\n",
       "      <td>24919.000000</td>\n",
       "      <td>71189.360000</td>\n",
       "      <td>79977.500000</td>\n",
       "      <td>190920.000000</td>\n",
       "      <td>24235.420000</td>\n",
       "      <td>24997.500000</td>\n",
       "      <td>2409.091000</td>\n",
       "      <td>3000.000000</td>\n",
       "      <td>...</td>\n",
       "      <td>4775.909000</td>\n",
       "      <td>2750.000000</td>\n",
       "      <td>14018.460000</td>\n",
       "      <td>9410.000000</td>\n",
       "      <td>1901.643000</td>\n",
       "      <td>1970.000000</td>\n",
       "      <td>2061.111000</td>\n",
       "      <td>1350.000000</td>\n",
       "      <td>4805.833000</td>\n",
       "      <td>4560.000000</td>\n",
       "    </tr>\n",
       "  </tbody>\n",
       "</table>\n",
       "<p>8 rows × 36 columns</p>\n",
       "</div>"
      ],
      "text/plain": [
       "       con_pur_hh_meanptrx  con_pur_hh_sdptrx  con_pur_hh_minpti  \\\n",
       "count           298.000000         298.000000         298.000000   \n",
       "mean            126.598419         490.652002        1918.127517   \n",
       "std             103.206386         622.049551        2957.169382   \n",
       "min              27.469430          29.810620          10.000000   \n",
       "25%              60.822405         147.576875         345.500000   \n",
       "50%              96.543005         264.221600         937.500000   \n",
       "75%             156.267225         561.234700        2290.000000   \n",
       "max            1061.190000        5431.841000       24919.000000   \n",
       "\n",
       "       con_pur_hh_meanpti  con_pur_hh_medpti  con_pur_hh_maxpti  \\\n",
       "count          298.000000         298.000000         298.000000   \n",
       "mean          8001.986538        7103.894295       19204.060403   \n",
       "std           7809.719385        7698.218112       21005.000154   \n",
       "min            568.416700         439.000000        1540.000000   \n",
       "25%           3662.312500        3059.375000        7109.000000   \n",
       "50%           5655.557000        4947.500000       12207.000000   \n",
       "75%           9892.958000        8620.500000       23291.750000   \n",
       "max          71189.360000       79977.500000      190920.000000   \n",
       "\n",
       "       con_pur_hh_meanpti_ALC  con_pur_hh_medpti_ALC  con_pur_hh_meanpti_CLN  \\\n",
       "count              298.000000             298.000000              298.000000   \n",
       "mean               158.168218             133.015101              172.819700   \n",
       "std               1457.215166            1482.072705              261.895791   \n",
       "min                  0.000000               0.000000                0.000000   \n",
       "25%                  0.000000               0.000000               66.303573   \n",
       "50%                  0.000000               0.000000              109.087100   \n",
       "75%                  0.000000               0.000000              175.520825   \n",
       "max              24235.420000           24997.500000             2409.091000   \n",
       "\n",
       "       con_pur_hh_medpti_CLN           ...             con_pur_hh_meanpti_MED  \\\n",
       "count             298.000000           ...                         298.000000   \n",
       "mean              130.036913           ...                         314.239108   \n",
       "std               266.517560           ...                         711.436922   \n",
       "min                 0.000000           ...                           0.000000   \n",
       "25%                20.000000           ...                          22.814682   \n",
       "50%                80.000000           ...                          80.384615   \n",
       "75%               150.000000           ...                         249.943150   \n",
       "max              3000.000000           ...                        4775.909000   \n",
       "\n",
       "       con_pur_hh_medpti_MED  con_pur_hh_meanpti_OTH  con_pur_hh_medpti_OTH  \\\n",
       "count             298.000000              298.000000             298.000000   \n",
       "mean               46.983221              339.108841              88.739933   \n",
       "std               209.371168             1235.224399             621.137098   \n",
       "min                 0.000000                0.000000               0.000000   \n",
       "25%                 0.000000                4.562938               0.000000   \n",
       "50%                 0.000000               41.987180               0.000000   \n",
       "75%                 0.000000              178.236550               0.000000   \n",
       "max              2750.000000            14018.460000            9410.000000   \n",
       "\n",
       "       con_pur_hh_meanpti_PERS  con_pur_hh_medpti_PERS  \\\n",
       "count               298.000000              298.000000   \n",
       "mean                120.496525               66.005034   \n",
       "std                 181.983106              162.150440   \n",
       "min                   0.000000                0.000000   \n",
       "25%                  22.774620                0.000000   \n",
       "50%                  55.090910               12.500000   \n",
       "75%                 161.687525               60.000000   \n",
       "max                1901.643000             1970.000000   \n",
       "\n",
       "       con_pur_hh_meanpti_REL  con_pur_hh_medpti_REL  \\\n",
       "count              298.000000             298.000000   \n",
       "mean               142.287746              68.139262   \n",
       "std                278.131260             174.053728   \n",
       "min                  0.000000               0.000000   \n",
       "25%                 12.307690               0.000000   \n",
       "50%                 50.000000               0.000000   \n",
       "75%                156.780325              60.000000   \n",
       "max               2061.111000            1350.000000   \n",
       "\n",
       "       con_pur_hh_meanpti_TRNSP  con_pur_hh_medpti_TRNSP  \n",
       "count                298.000000               298.000000  \n",
       "mean                 483.769695               291.963087  \n",
       "std                  587.196533               540.903352  \n",
       "min                    0.000000                 0.000000  \n",
       "25%                  119.375025                 0.000000  \n",
       "50%                  277.867100               100.000000  \n",
       "75%                  619.261350               337.500000  \n",
       "max                 4805.833000              4560.000000  \n",
       "\n",
       "[8 rows x 36 columns]"
      ]
     },
     "execution_count": 12,
     "metadata": {},
     "output_type": "execute_result"
    }
   ],
   "source": [
    "con_pur_hh_over_trx_yr_mo_kes.describe()"
   ]
  },
  {
   "cell_type": "code",
   "execution_count": 13,
   "metadata": {},
   "outputs": [
    {
     "data": {
      "text/plain": [
       "Index(['hh_ids', 'con_pur_hh_meanptrx', 'con_pur_hh_sdptrx',\n",
       "       'con_pur_hh_minpti', 'con_pur_hh_meanpti', 'con_pur_hh_medpti',\n",
       "       'con_pur_hh_maxpti', 'con_pur_hh_meanpti_ALC', 'con_pur_hh_medpti_ALC',\n",
       "       'con_pur_hh_meanpti_CLN', 'con_pur_hh_medpti_CLN',\n",
       "       'con_pur_hh_meanpti_CLTH', 'con_pur_hh_medpti_CLTH',\n",
       "       'con_pur_hh_meanpti_COMM', 'con_pur_hh_medpti_COMM',\n",
       "       'con_pur_hh_meanpti_EDU', 'con_pur_hh_medpti_EDU',\n",
       "       'con_pur_hh_meanpti_ENRGY', 'con_pur_hh_medpti_ENRGY',\n",
       "       'con_pur_hh_meanpti_ENT', 'con_pur_hh_medpti_ENT',\n",
       "       'con_pur_hh_meanpti_FOOD', 'con_pur_hh_medpti_FOOD',\n",
       "       'con_pur_hh_meanpti_H20', 'con_pur_hh_medpti_H20',\n",
       "       'con_pur_hh_meanpti_HSNG', 'con_pur_hh_medpti_HSNG',\n",
       "       'con_pur_hh_meanpti_MED', 'con_pur_hh_medpti_MED',\n",
       "       'con_pur_hh_meanpti_OTH', 'con_pur_hh_medpti_OTH',\n",
       "       'con_pur_hh_meanpti_PERS', 'con_pur_hh_medpti_PERS',\n",
       "       'con_pur_hh_meanpti_REL', 'con_pur_hh_medpti_REL',\n",
       "       'con_pur_hh_meanpti_TRNSP', 'con_pur_hh_medpti_TRNSP'],\n",
       "      dtype='object')"
      ]
     },
     "execution_count": 13,
     "metadata": {},
     "output_type": "execute_result"
    }
   ],
   "source": [
    "con_pur_hh_over_trx_yr_mo_kes.columns"
   ]
  },
  {
   "cell_type": "code",
   "execution_count": 14,
   "metadata": {},
   "outputs": [],
   "source": [
    "mapping = pd.read_csv('../diaries_transactions_all.csv', low_memory = False)"
   ]
  },
  {
   "cell_type": "code",
   "execution_count": 15,
   "metadata": {},
   "outputs": [],
   "source": [
    "mapping = mapping[['m_ids_owner', 'hh_ids']]"
   ]
  },
  {
   "cell_type": "code",
   "execution_count": 16,
   "metadata": {},
   "outputs": [
    {
     "name": "stdout",
     "output_type": "stream",
     "text": [
      "298\n",
      "670\n"
     ]
    }
   ],
   "source": [
    "print(len(mapping.hh_ids.unique()))\n",
    "print(len(mapping.m_ids_owner.unique()))"
   ]
  },
  {
   "cell_type": "code",
   "execution_count": 17,
   "metadata": {},
   "outputs": [],
   "source": [
    "mapping_unique = mapping.drop_duplicates(['m_ids_owner'])"
   ]
  },
  {
   "cell_type": "code",
   "execution_count": 18,
   "metadata": {},
   "outputs": [
    {
     "data": {
      "text/plain": [
       "(670, 2)"
      ]
     },
     "execution_count": 18,
     "metadata": {},
     "output_type": "execute_result"
    }
   ],
   "source": [
    "mapping_unique.shape"
   ]
  },
  {
   "cell_type": "code",
   "execution_count": 19,
   "metadata": {},
   "outputs": [],
   "source": [
    "merge = mapping_unique.merge(con_pur_hh_over_trx_yr_mo_kes,  'right', 'hh_ids')"
   ]
  },
  {
   "cell_type": "code",
   "execution_count": 20,
   "metadata": {},
   "outputs": [
    {
     "data": {
      "text/plain": [
       "(670, 38)"
      ]
     },
     "execution_count": 20,
     "metadata": {},
     "output_type": "execute_result"
    }
   ],
   "source": [
    "merge.shape"
   ]
  },
  {
   "cell_type": "code",
   "execution_count": 21,
   "metadata": {},
   "outputs": [
    {
     "data": {
      "text/html": [
       "<div>\n",
       "<style scoped>\n",
       "    .dataframe tbody tr th:only-of-type {\n",
       "        vertical-align: middle;\n",
       "    }\n",
       "\n",
       "    .dataframe tbody tr th {\n",
       "        vertical-align: top;\n",
       "    }\n",
       "\n",
       "    .dataframe thead th {\n",
       "        text-align: right;\n",
       "    }\n",
       "</style>\n",
       "<table border=\"1\" class=\"dataframe\">\n",
       "  <thead>\n",
       "    <tr style=\"text-align: right;\">\n",
       "      <th></th>\n",
       "      <th>m_ids_owner</th>\n",
       "      <th>hh_ids</th>\n",
       "      <th>con_pur_hh_meanptrx</th>\n",
       "      <th>con_pur_hh_sdptrx</th>\n",
       "      <th>con_pur_hh_minpti</th>\n",
       "      <th>con_pur_hh_meanpti</th>\n",
       "      <th>con_pur_hh_medpti</th>\n",
       "      <th>con_pur_hh_maxpti</th>\n",
       "      <th>con_pur_hh_meanpti_ALC</th>\n",
       "      <th>con_pur_hh_medpti_ALC</th>\n",
       "      <th>...</th>\n",
       "      <th>con_pur_hh_meanpti_MED</th>\n",
       "      <th>con_pur_hh_medpti_MED</th>\n",
       "      <th>con_pur_hh_meanpti_OTH</th>\n",
       "      <th>con_pur_hh_medpti_OTH</th>\n",
       "      <th>con_pur_hh_meanpti_PERS</th>\n",
       "      <th>con_pur_hh_medpti_PERS</th>\n",
       "      <th>con_pur_hh_meanpti_REL</th>\n",
       "      <th>con_pur_hh_medpti_REL</th>\n",
       "      <th>con_pur_hh_meanpti_TRNSP</th>\n",
       "      <th>con_pur_hh_medpti_TRNSP</th>\n",
       "    </tr>\n",
       "  </thead>\n",
       "  <tbody>\n",
       "    <tr>\n",
       "      <th>0</th>\n",
       "      <td>58134383397900000</td>\n",
       "      <td>KELDL02</td>\n",
       "      <td>107.9147</td>\n",
       "      <td>286.7984</td>\n",
       "      <td>3293</td>\n",
       "      <td>14372.27</td>\n",
       "      <td>15640.0</td>\n",
       "      <td>23670</td>\n",
       "      <td>204.5455</td>\n",
       "      <td>0.0</td>\n",
       "      <td>...</td>\n",
       "      <td>27.27273</td>\n",
       "      <td>0</td>\n",
       "      <td>14.09091</td>\n",
       "      <td>0.0</td>\n",
       "      <td>274.72730</td>\n",
       "      <td>286.0</td>\n",
       "      <td>64.54546</td>\n",
       "      <td>20.0</td>\n",
       "      <td>487.7273</td>\n",
       "      <td>550.0</td>\n",
       "    </tr>\n",
       "    <tr>\n",
       "      <th>1</th>\n",
       "      <td>58134383535800000</td>\n",
       "      <td>KELDL02</td>\n",
       "      <td>107.9147</td>\n",
       "      <td>286.7984</td>\n",
       "      <td>3293</td>\n",
       "      <td>14372.27</td>\n",
       "      <td>15640.0</td>\n",
       "      <td>23670</td>\n",
       "      <td>204.5455</td>\n",
       "      <td>0.0</td>\n",
       "      <td>...</td>\n",
       "      <td>27.27273</td>\n",
       "      <td>0</td>\n",
       "      <td>14.09091</td>\n",
       "      <td>0.0</td>\n",
       "      <td>274.72730</td>\n",
       "      <td>286.0</td>\n",
       "      <td>64.54546</td>\n",
       "      <td>20.0</td>\n",
       "      <td>487.7273</td>\n",
       "      <td>550.0</td>\n",
       "    </tr>\n",
       "    <tr>\n",
       "      <th>2</th>\n",
       "      <td>HH</td>\n",
       "      <td>KVIHC16</td>\n",
       "      <td>115.6588</td>\n",
       "      <td>345.8901</td>\n",
       "      <td>1070</td>\n",
       "      <td>5825.00</td>\n",
       "      <td>5470.0</td>\n",
       "      <td>15380</td>\n",
       "      <td>0.0000</td>\n",
       "      <td>0.0</td>\n",
       "      <td>...</td>\n",
       "      <td>50.00000</td>\n",
       "      <td>0</td>\n",
       "      <td>27.27273</td>\n",
       "      <td>0.0</td>\n",
       "      <td>10.90909</td>\n",
       "      <td>0.0</td>\n",
       "      <td>15.45455</td>\n",
       "      <td>0.0</td>\n",
       "      <td>173.6364</td>\n",
       "      <td>60.0</td>\n",
       "    </tr>\n",
       "    <tr>\n",
       "      <th>3</th>\n",
       "      <td>59134423954300000</td>\n",
       "      <td>KVIHC16</td>\n",
       "      <td>115.6588</td>\n",
       "      <td>345.8901</td>\n",
       "      <td>1070</td>\n",
       "      <td>5825.00</td>\n",
       "      <td>5470.0</td>\n",
       "      <td>15380</td>\n",
       "      <td>0.0000</td>\n",
       "      <td>0.0</td>\n",
       "      <td>...</td>\n",
       "      <td>50.00000</td>\n",
       "      <td>0</td>\n",
       "      <td>27.27273</td>\n",
       "      <td>0.0</td>\n",
       "      <td>10.90909</td>\n",
       "      <td>0.0</td>\n",
       "      <td>15.45455</td>\n",
       "      <td>0.0</td>\n",
       "      <td>173.6364</td>\n",
       "      <td>60.0</td>\n",
       "    </tr>\n",
       "    <tr>\n",
       "      <th>4</th>\n",
       "      <td>65134441430300000</td>\n",
       "      <td>KELDK21</td>\n",
       "      <td>1061.1900</td>\n",
       "      <td>4257.9390</td>\n",
       "      <td>1150</td>\n",
       "      <td>26529.75</td>\n",
       "      <td>17300.0</td>\n",
       "      <td>75020</td>\n",
       "      <td>0.0000</td>\n",
       "      <td>0.0</td>\n",
       "      <td>...</td>\n",
       "      <td>16.66667</td>\n",
       "      <td>0</td>\n",
       "      <td>2018.50000</td>\n",
       "      <td>0.0</td>\n",
       "      <td>90.83334</td>\n",
       "      <td>0.0</td>\n",
       "      <td>816.66670</td>\n",
       "      <td>100.0</td>\n",
       "      <td>1198.3330</td>\n",
       "      <td>550.0</td>\n",
       "    </tr>\n",
       "  </tbody>\n",
       "</table>\n",
       "<p>5 rows × 38 columns</p>\n",
       "</div>"
      ],
      "text/plain": [
       "         m_ids_owner   hh_ids  con_pur_hh_meanptrx  con_pur_hh_sdptrx  \\\n",
       "0  58134383397900000  KELDL02             107.9147           286.7984   \n",
       "1  58134383535800000  KELDL02             107.9147           286.7984   \n",
       "2                 HH  KVIHC16             115.6588           345.8901   \n",
       "3  59134423954300000  KVIHC16             115.6588           345.8901   \n",
       "4  65134441430300000  KELDK21            1061.1900          4257.9390   \n",
       "\n",
       "   con_pur_hh_minpti  con_pur_hh_meanpti  con_pur_hh_medpti  \\\n",
       "0               3293            14372.27            15640.0   \n",
       "1               3293            14372.27            15640.0   \n",
       "2               1070             5825.00             5470.0   \n",
       "3               1070             5825.00             5470.0   \n",
       "4               1150            26529.75            17300.0   \n",
       "\n",
       "   con_pur_hh_maxpti  con_pur_hh_meanpti_ALC  con_pur_hh_medpti_ALC  \\\n",
       "0              23670                204.5455                    0.0   \n",
       "1              23670                204.5455                    0.0   \n",
       "2              15380                  0.0000                    0.0   \n",
       "3              15380                  0.0000                    0.0   \n",
       "4              75020                  0.0000                    0.0   \n",
       "\n",
       "            ...             con_pur_hh_meanpti_MED  con_pur_hh_medpti_MED  \\\n",
       "0           ...                           27.27273                      0   \n",
       "1           ...                           27.27273                      0   \n",
       "2           ...                           50.00000                      0   \n",
       "3           ...                           50.00000                      0   \n",
       "4           ...                           16.66667                      0   \n",
       "\n",
       "   con_pur_hh_meanpti_OTH  con_pur_hh_medpti_OTH  con_pur_hh_meanpti_PERS  \\\n",
       "0                14.09091                    0.0                274.72730   \n",
       "1                14.09091                    0.0                274.72730   \n",
       "2                27.27273                    0.0                 10.90909   \n",
       "3                27.27273                    0.0                 10.90909   \n",
       "4              2018.50000                    0.0                 90.83334   \n",
       "\n",
       "   con_pur_hh_medpti_PERS  con_pur_hh_meanpti_REL  con_pur_hh_medpti_REL  \\\n",
       "0                   286.0                64.54546                   20.0   \n",
       "1                   286.0                64.54546                   20.0   \n",
       "2                     0.0                15.45455                    0.0   \n",
       "3                     0.0                15.45455                    0.0   \n",
       "4                     0.0               816.66670                  100.0   \n",
       "\n",
       "   con_pur_hh_meanpti_TRNSP  con_pur_hh_medpti_TRNSP  \n",
       "0                  487.7273                    550.0  \n",
       "1                  487.7273                    550.0  \n",
       "2                  173.6364                     60.0  \n",
       "3                  173.6364                     60.0  \n",
       "4                 1198.3330                    550.0  \n",
       "\n",
       "[5 rows x 38 columns]"
      ]
     },
     "execution_count": 21,
     "metadata": {},
     "output_type": "execute_result"
    }
   ],
   "source": [
    "merge.head()"
   ]
  },
  {
   "cell_type": "code",
   "execution_count": 22,
   "metadata": {},
   "outputs": [],
   "source": [
    "merge.to_csv('consumption_mapped_to_m_ids.csv', index = False)"
   ]
  },
  {
   "cell_type": "code",
   "execution_count": null,
   "metadata": {},
   "outputs": [],
   "source": []
  }
 ],
 "metadata": {
  "kernelspec": {
   "display_name": "Python 3",
   "language": "python",
   "name": "python3"
  },
  "language_info": {
   "codemirror_mode": {
    "name": "ipython",
    "version": 3
   },
   "file_extension": ".py",
   "mimetype": "text/x-python",
   "name": "python",
   "nbconvert_exporter": "python",
   "pygments_lexer": "ipython3",
   "version": "3.7.3"
  }
 },
 "nbformat": 4,
 "nbformat_minor": 2
}
