{
 "cells": [
  {
   "cell_type": "code",
   "execution_count": null,
   "metadata": {},
   "outputs": [],
   "source": [
    "import pandas as pd\n",
    "import numpy as np\n",
    "import math as math\n",
    "import matplotlib.pyplot as plt\n",
    "import seaborn as sns\n",
    "import dateutil\n",
    "import glob\n",
    "\n",
    "%matplotlib inline "
   ]
  },
  {
   "cell_type": "code",
   "execution_count": null,
   "metadata": {},
   "outputs": [],
   "source": [
    "def conv(val):\n",
    "    if val == np.nan:\n",
    "        return 0\n",
    "    return val"
   ]
  },
  {
   "cell_type": "code",
   "execution_count": null,
   "metadata": {},
   "outputs": [],
   "source": [
    "df = pd.read_csv(\"../../diaries_transactions_all.csv\", low_memory=False);\n"
   ]
  },
  {
   "cell_type": "markdown",
   "metadata": {},
   "source": [
    "### Poverty file"
   ]
  },
  {
   "cell_type": "code",
   "execution_count": null,
   "metadata": {
    "scrolled": true
   },
   "outputs": [],
   "source": [
    "dfp = pd.read_csv(\"../../pov_hh_over_trx_yr_mo_kes_excRR.csv\", low_memory=False);\n",
    "dfp.head()\n"
   ]
  },
  {
   "cell_type": "code",
   "execution_count": null,
   "metadata": {},
   "outputs": [],
   "source": [
    "dfp.shape"
   ]
  },
  {
   "cell_type": "code",
   "execution_count": null,
   "metadata": {},
   "outputs": [],
   "source": [
    "dfp.describe()"
   ]
  },
  {
   "cell_type": "markdown",
   "metadata": {},
   "source": [
    "### Here we check poverty info with housing conditions"
   ]
  },
  {
   "cell_type": "code",
   "execution_count": null,
   "metadata": {},
   "outputs": [],
   "source": [
    "dfh = pd.read_csv('../../housing_conditions_ownership.csv')"
   ]
  },
  {
   "cell_type": "code",
   "execution_count": null,
   "metadata": {},
   "outputs": [],
   "source": [
    "dfh.head()"
   ]
  },
  {
   "cell_type": "code",
   "execution_count": null,
   "metadata": {},
   "outputs": [],
   "source": [
    "ids_pov = set(dfp[\"hh_ids\"].unique())\n",
    "len(ids_pov)"
   ]
  },
  {
   "cell_type": "code",
   "execution_count": null,
   "metadata": {},
   "outputs": [],
   "source": [
    "ids_hou = set(dfh[\"hh_ids\"].unique())\n",
    "len(ids_hou)"
   ]
  },
  {
   "cell_type": "code",
   "execution_count": null,
   "metadata": {},
   "outputs": [],
   "source": [
    "if (ids_pov & ids_hou):\n",
    "    print(len(ids_pov & ids_hou))\n",
    "else:\n",
    "    print(\"no matches\")"
   ]
  },
  {
   "cell_type": "code",
   "execution_count": null,
   "metadata": {},
   "outputs": [],
   "source": [
    "for ids in ids_pov:\n",
    "    if ids in ids_hou:\n",
    "        continue\n",
    "    else: print(ids)"
   ]
  },
  {
   "cell_type": "markdown",
   "metadata": {},
   "source": [
    "### Check matches for the remittances as well \n"
   ]
  },
  {
   "cell_type": "code",
   "execution_count": null,
   "metadata": {},
   "outputs": [],
   "source": [
    "dfr= pd.read_csv(\"../../rem_ind_over_trx_yr_mo_kes.csv\")\n",
    "dfr.head()\n"
   ]
  },
  {
   "cell_type": "code",
   "execution_count": null,
   "metadata": {},
   "outputs": [],
   "source": [
    "dfr[\"m_ids_owner\"].describe()"
   ]
  },
  {
   "cell_type": "code",
   "execution_count": null,
   "metadata": {},
   "outputs": [],
   "source": [
    "dfr[\"hh_ids\"].describe()"
   ]
  },
  {
   "cell_type": "code",
   "execution_count": null,
   "metadata": {},
   "outputs": [],
   "source": [
    "ids_rem = dfr[\"hh_ids\"].unique()\n"
   ]
  },
  {
   "cell_type": "code",
   "execution_count": null,
   "metadata": {},
   "outputs": [],
   "source": [
    "for ids in ids_rem:\n",
    "    if ids in ids_pov:\n",
    "        continue\n",
    "    else: print(ids)"
   ]
  },
  {
   "cell_type": "code",
   "execution_count": null,
   "metadata": {},
   "outputs": [],
   "source": [
    "ids_rem = set(dfr[\"m_ids_owner\"].unique())\n",
    "ids_rem.remove(\"HH\")\n",
    "dfr[\"m_ids_owner\"].value_counts()"
   ]
  },
  {
   "cell_type": "code",
   "execution_count": null,
   "metadata": {},
   "outputs": [],
   "source": [
    "(dfr[\"m_ids_owner\"].value_counts()>1).value_counts()"
   ]
  },
  {
   "cell_type": "code",
   "execution_count": null,
   "metadata": {},
   "outputs": [],
   "source": []
  },
  {
   "cell_type": "code",
   "execution_count": null,
   "metadata": {},
   "outputs": [],
   "source": []
  },
  {
   "cell_type": "code",
   "execution_count": null,
   "metadata": {},
   "outputs": [],
   "source": []
  },
  {
   "cell_type": "markdown",
   "metadata": {},
   "source": [
    "### Here we are interested in hh size, monthly consumption and income \n"
   ]
  },
  {
   "cell_type": "markdown",
   "metadata": {},
   "source": [
    "\n",
    "  WE can assess whether family has enough money to cover their needs or they rely on help of relatives and friends most of the time. If monthly left is negative, then family is in debt and they are unable to take any other financil burden as they will not be able to pay it off. "
   ]
  },
  {
   "cell_type": "code",
   "execution_count": null,
   "metadata": {},
   "outputs": [],
   "source": [
    "dfp['monthly_left'] = dfp.apply(lambda row: row.inc_hh_medianpti - row.con_hh_medpti, axis = 1) "
   ]
  },
  {
   "cell_type": "code",
   "execution_count": null,
   "metadata": {},
   "outputs": [],
   "source": [
    "dfp[['hh_ids', 'inc_hh_medianpti', 'dem_hh_size', 'con_hh_medpti', 'monthly_left']]\n"
   ]
  },
  {
   "cell_type": "markdown",
   "metadata": {},
   "source": [
    "### Here is another file with RR included. Not a big sifference, so I assume we can exclude RR and see if the famili is not in debt without RR"
   ]
  },
  {
   "cell_type": "code",
   "execution_count": null,
   "metadata": {},
   "outputs": [],
   "source": [
    "dfp2 = pd.read_csv(\"../../pov_hh_over_trx_yr_mo_kes_incRR.csv\", low_memory=False);\n",
    "dfp2.head()"
   ]
  },
  {
   "cell_type": "code",
   "execution_count": null,
   "metadata": {},
   "outputs": [],
   "source": [
    "dfp2['monthly_left'] = dfp.apply(lambda row: row.inc_hh_medianpti - row.con_hh_medpti, axis = 1) \n",
    "dfp2[['hh_ids', 'inc_hh_medianpti', 'dem_hh_size', 'con_hh_medpti', 'monthly_left']]\n"
   ]
  },
  {
   "cell_type": "code",
   "execution_count": null,
   "metadata": {},
   "outputs": [],
   "source": [
    "dfp['monthly_left'].equals(dfp2['monthly_left'])"
   ]
  },
  {
   "cell_type": "code",
   "execution_count": null,
   "metadata": {},
   "outputs": [],
   "source": [
    "dfh.drop(['hh_int_situation', 'hh_circ_move_why', 'hh_circ_move_when', 'hh_asset_fryingpan_N' ], axis=1, inplace=True)"
   ]
  },
  {
   "cell_type": "code",
   "execution_count": null,
   "metadata": {},
   "outputs": [],
   "source": [
    "dfh.columns\n"
   ]
  },
  {
   "cell_type": "code",
   "execution_count": null,
   "metadata": {},
   "outputs": [],
   "source": [
    "hou_dum = pd.get_dummies(data=dfh, columns=['hh_inf_wall_material', 'hh_circ_problems', 'hh_inf_roof_material','hh_inf_floor_material','hh_inf_cookfuel_source', 'hh_inf_lighting_source', 'hh_inf_water_source', 'hh_inf_toilet_type', 'hh_inf_toilet_shared', 'hh_inf_housing_type',\n",
    "       'hh_inf_electricity_access', 'hh_inf_interiorcond',\n",
    "       'hh_inf_exteriorcond', 'hh_asset_internet_access', 'hh_asset_iron_any',\n",
    "       'hh_asset_mosqnets_N', 'hh_asset_towels_N', 'hh_env_settingdesc',\n",
    "       'hh_env_desc', 'hh_env_dilapbuildings', 'hh_env_streets',\n",
    "       'hh_env_trash', 'hh_ownership_type', 'hh_ownership_plotacquisition',\n",
    "       'hh_ownership_houseacquisition', 'hh_ownership_docu', 'hh_otherprop_any',  'hh_otherprop1_use', 'hh_otherprop2_use','hh_otherprop2_docu', 'hh_otherprop3_docu','hh_otherprop3_use', 'hh_othershamba1_docu', 'hh_othershamba1_use', 'hh_othershamba2_docu', 'hh_othershamba2_use','hh_othershamba3_docu', 'hh_othershamba3_use' ])"
   ]
  },
  {
   "cell_type": "code",
   "execution_count": null,
   "metadata": {},
   "outputs": [],
   "source": [
    "hou_dum.describe"
   ]
  },
  {
   "cell_type": "code",
   "execution_count": null,
   "metadata": {},
   "outputs": [],
   "source": []
  },
  {
   "cell_type": "code",
   "execution_count": null,
   "metadata": {},
   "outputs": [],
   "source": []
  },
  {
   "cell_type": "code",
   "execution_count": null,
   "metadata": {},
   "outputs": [],
   "source": []
  },
  {
   "cell_type": "code",
   "execution_count": null,
   "metadata": {},
   "outputs": [],
   "source": []
  },
  {
   "cell_type": "code",
   "execution_count": null,
   "metadata": {},
   "outputs": [],
   "source": []
  },
  {
   "cell_type": "code",
   "execution_count": null,
   "metadata": {},
   "outputs": [],
   "source": [
    "pov_hh = pd.read_csv('../../pov_hh_over_trx_yr_mo_kes_excRR.csv', dtype = {'hh_ids': 'object'})\n",
    "trx = pd.read_csv('../../diaries_transactions_all.csv',dtype = {'hh_ids': 'object'}, low_memory = False)"
   ]
  },
  {
   "cell_type": "code",
   "execution_count": null,
   "metadata": {},
   "outputs": [],
   "source": [
    "keep_ids = list(trx.m_ids_owner.unique())"
   ]
  },
  {
   "cell_type": "code",
   "execution_count": null,
   "metadata": {},
   "outputs": [],
   "source": [
    "pov_hh.head()"
   ]
  },
  {
   "cell_type": "code",
   "execution_count": null,
   "metadata": {},
   "outputs": [],
   "source": [
    "poverty = dfp.merge(df, how = 'left', on='hh_ids')"
   ]
  },
  {
   "cell_type": "code",
   "execution_count": null,
   "metadata": {},
   "outputs": [],
   "source": [
    "poverty.shape"
   ]
  },
  {
   "cell_type": "code",
   "execution_count": null,
   "metadata": {},
   "outputs": [],
   "source": [
    "pov_hou= hou_dum.merge(poverty, how = 'left', on = 'hh_ids')"
   ]
  },
  {
   "cell_type": "code",
   "execution_count": null,
   "metadata": {},
   "outputs": [],
   "source": [
    "pov_hou.shape"
   ]
  },
  {
   "cell_type": "code",
   "execution_count": null,
   "metadata": {},
   "outputs": [],
   "source": [
    "pov_hou_rem = dfr.merge(pov_hou, how = 'left', on = 'hh_ids')"
   ]
  },
  {
   "cell_type": "code",
   "execution_count": null,
   "metadata": {},
   "outputs": [],
   "source": [
    "pov_hou_rem.shape"
   ]
  },
  {
   "cell_type": "code",
   "execution_count": null,
   "metadata": {},
   "outputs": [],
   "source": [
    "pov_hou_rem.to_csv('pov_hou_rem_merge.csv')"
   ]
  },
  {
   "cell_type": "code",
   "execution_count": null,
   "metadata": {},
   "outputs": [],
   "source": []
  },
  {
   "cell_type": "code",
   "execution_count": null,
   "metadata": {},
   "outputs": [],
   "source": []
  },
  {
   "cell_type": "code",
   "execution_count": null,
   "metadata": {},
   "outputs": [],
   "source": []
  },
  {
   "cell_type": "code",
   "execution_count": null,
   "metadata": {},
   "outputs": [],
   "source": []
  },
  {
   "cell_type": "code",
   "execution_count": null,
   "metadata": {},
   "outputs": [],
   "source": []
  },
  {
   "cell_type": "code",
   "execution_count": null,
   "metadata": {},
   "outputs": [],
   "source": []
  }
 ],
 "metadata": {
  "kernelspec": {
   "display_name": "Python 3",
   "language": "python",
   "name": "python3"
  },
  "language_info": {
   "codemirror_mode": {
    "name": "ipython",
    "version": 3
   },
   "file_extension": ".py",
   "mimetype": "text/x-python",
   "name": "python",
   "nbconvert_exporter": "python",
   "pygments_lexer": "ipython3",
   "version": "3.7.3"
  }
 },
 "nbformat": 4,
 "nbformat_minor": 2
}
