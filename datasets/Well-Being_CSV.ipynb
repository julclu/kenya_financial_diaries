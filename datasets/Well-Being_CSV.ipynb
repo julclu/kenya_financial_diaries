{
 "cells": [
  {
   "cell_type": "markdown",
   "metadata": {},
   "source": [
    "# Well Being To csv"
   ]
  },
  {
   "cell_type": "code",
   "execution_count": 2,
   "metadata": {},
   "outputs": [],
   "source": [
    "import pandas as pd\n",
    "import numpy as np\n",
    "import math as math\n",
    "import matplotlib.pyplot as plt\n",
    "import seaborn as sns\n",
    "import random as rd\n",
    "%matplotlib inline \n"
   ]
  },
  {
   "cell_type": "code",
   "execution_count": 3,
   "metadata": {},
   "outputs": [],
   "source": [
    "# to see all the columns when using head() or describe()\n",
    "pd.set_option('display.max_columns',60)"
   ]
  },
  {
   "cell_type": "code",
   "execution_count": 8,
   "metadata": {},
   "outputs": [],
   "source": [
    "df = pd.read_csv(\"../../Notebooks/aux_data/diaries_wellbeing_ind.csv\",dtype={\"m_ids\":str})"
   ]
  },
  {
   "cell_type": "markdown",
   "metadata": {},
   "source": [
    "# Explanation: \n",
    "###    q1: How happy have you been since I saw you last?\n",
    "###    q2: How have you been doing economically since I saw you last?\n",
    "###    q3: How have your relationship with people been since I saw you last?\n",
    "###    q4: How confident in yourself have you been feeling since I saw you last?"
   ]
  },
  {
   "cell_type": "code",
   "execution_count": 9,
   "metadata": {
    "scrolled": true
   },
   "outputs": [
    {
     "data": {
      "text/html": [
       "<div>\n",
       "<style scoped>\n",
       "    .dataframe tbody tr th:only-of-type {\n",
       "        vertical-align: middle;\n",
       "    }\n",
       "\n",
       "    .dataframe tbody tr th {\n",
       "        vertical-align: top;\n",
       "    }\n",
       "\n",
       "    .dataframe thead th {\n",
       "        text-align: right;\n",
       "    }\n",
       "</style>\n",
       "<table border=\"1\" class=\"dataframe\">\n",
       "  <thead>\n",
       "    <tr style=\"text-align: right;\">\n",
       "      <th></th>\n",
       "      <th>hh_ids</th>\n",
       "      <th>m_ids</th>\n",
       "      <th>int_date</th>\n",
       "      <th>wellbeing_q1</th>\n",
       "      <th>wellbeing_q2</th>\n",
       "      <th>wellbeing_q3</th>\n",
       "      <th>wellbeing_q4</th>\n",
       "    </tr>\n",
       "  </thead>\n",
       "  <tbody>\n",
       "    <tr>\n",
       "      <th>0</th>\n",
       "      <td>KNBOK41</td>\n",
       "      <td>5.01000e+16</td>\n",
       "      <td>26nov2012</td>\n",
       "      <td>Very happy</td>\n",
       "      <td>Very badly</td>\n",
       "      <td>Very well</td>\n",
       "      <td>Very confident</td>\n",
       "    </tr>\n",
       "    <tr>\n",
       "      <th>1</th>\n",
       "      <td>KNBOK41</td>\n",
       "      <td>5.01000e+16</td>\n",
       "      <td>10dec2012</td>\n",
       "      <td>Neither happy nor unhappy</td>\n",
       "      <td>Moderately well</td>\n",
       "      <td>Very well</td>\n",
       "      <td>Very confident</td>\n",
       "    </tr>\n",
       "    <tr>\n",
       "      <th>2</th>\n",
       "      <td>KNBOK41</td>\n",
       "      <td>5.01000e+16</td>\n",
       "      <td>21jan2013</td>\n",
       "      <td>Very happy</td>\n",
       "      <td>Moderately well</td>\n",
       "      <td>Very well</td>\n",
       "      <td>Very confident</td>\n",
       "    </tr>\n",
       "    <tr>\n",
       "      <th>3</th>\n",
       "      <td>KNBOK41</td>\n",
       "      <td>5.01000e+16</td>\n",
       "      <td>05feb2013</td>\n",
       "      <td>Neither happy nor unhappy</td>\n",
       "      <td>Neither well nor badly</td>\n",
       "      <td>Very well</td>\n",
       "      <td>Very confident</td>\n",
       "    </tr>\n",
       "    <tr>\n",
       "      <th>4</th>\n",
       "      <td>KNBOK41</td>\n",
       "      <td>5.01000e+16</td>\n",
       "      <td>19feb2013</td>\n",
       "      <td>Very happy</td>\n",
       "      <td>Moderately well</td>\n",
       "      <td>Moderately well</td>\n",
       "      <td>Very confident</td>\n",
       "    </tr>\n",
       "  </tbody>\n",
       "</table>\n",
       "</div>"
      ],
      "text/plain": [
       "    hh_ids        m_ids   int_date               wellbeing_q1  \\\n",
       "0  KNBOK41  5.01000e+16  26nov2012                 Very happy   \n",
       "1  KNBOK41  5.01000e+16  10dec2012  Neither happy nor unhappy   \n",
       "2  KNBOK41  5.01000e+16  21jan2013                 Very happy   \n",
       "3  KNBOK41  5.01000e+16  05feb2013  Neither happy nor unhappy   \n",
       "4  KNBOK41  5.01000e+16  19feb2013                 Very happy   \n",
       "\n",
       "             wellbeing_q2     wellbeing_q3    wellbeing_q4  \n",
       "0              Very badly        Very well  Very confident  \n",
       "1         Moderately well        Very well  Very confident  \n",
       "2         Moderately well        Very well  Very confident  \n",
       "3  Neither well nor badly        Very well  Very confident  \n",
       "4         Moderately well  Moderately well  Very confident  "
      ]
     },
     "execution_count": 9,
     "metadata": {},
     "output_type": "execute_result"
    }
   ],
   "source": [
    "df.head()"
   ]
  },
  {
   "cell_type": "markdown",
   "metadata": {},
   "source": [
    "## Let's first rename the columns with more meaningful names."
   ]
  },
  {
   "cell_type": "code",
   "execution_count": 10,
   "metadata": {},
   "outputs": [],
   "source": [
    "df.rename(columns={\"wellbeing_q1\":\"happiness\", \"wellbeing_q2\":\"economically\", \"wellbeing_q3\":\"relationships\", \"wellbeing_q4\":\"confidence\"}, inplace=True)"
   ]
  },
  {
   "cell_type": "code",
   "execution_count": 11,
   "metadata": {},
   "outputs": [
    {
     "data": {
      "text/html": [
       "<div>\n",
       "<style scoped>\n",
       "    .dataframe tbody tr th:only-of-type {\n",
       "        vertical-align: middle;\n",
       "    }\n",
       "\n",
       "    .dataframe tbody tr th {\n",
       "        vertical-align: top;\n",
       "    }\n",
       "\n",
       "    .dataframe thead th {\n",
       "        text-align: right;\n",
       "    }\n",
       "</style>\n",
       "<table border=\"1\" class=\"dataframe\">\n",
       "  <thead>\n",
       "    <tr style=\"text-align: right;\">\n",
       "      <th></th>\n",
       "      <th>hh_ids</th>\n",
       "      <th>m_ids</th>\n",
       "      <th>int_date</th>\n",
       "      <th>happiness</th>\n",
       "      <th>economically</th>\n",
       "      <th>relationships</th>\n",
       "      <th>confidence</th>\n",
       "    </tr>\n",
       "  </thead>\n",
       "  <tbody>\n",
       "    <tr>\n",
       "      <th>0</th>\n",
       "      <td>KNBOK41</td>\n",
       "      <td>5.01000e+16</td>\n",
       "      <td>26nov2012</td>\n",
       "      <td>Very happy</td>\n",
       "      <td>Very badly</td>\n",
       "      <td>Very well</td>\n",
       "      <td>Very confident</td>\n",
       "    </tr>\n",
       "    <tr>\n",
       "      <th>1</th>\n",
       "      <td>KNBOK41</td>\n",
       "      <td>5.01000e+16</td>\n",
       "      <td>10dec2012</td>\n",
       "      <td>Neither happy nor unhappy</td>\n",
       "      <td>Moderately well</td>\n",
       "      <td>Very well</td>\n",
       "      <td>Very confident</td>\n",
       "    </tr>\n",
       "    <tr>\n",
       "      <th>2</th>\n",
       "      <td>KNBOK41</td>\n",
       "      <td>5.01000e+16</td>\n",
       "      <td>21jan2013</td>\n",
       "      <td>Very happy</td>\n",
       "      <td>Moderately well</td>\n",
       "      <td>Very well</td>\n",
       "      <td>Very confident</td>\n",
       "    </tr>\n",
       "    <tr>\n",
       "      <th>3</th>\n",
       "      <td>KNBOK41</td>\n",
       "      <td>5.01000e+16</td>\n",
       "      <td>05feb2013</td>\n",
       "      <td>Neither happy nor unhappy</td>\n",
       "      <td>Neither well nor badly</td>\n",
       "      <td>Very well</td>\n",
       "      <td>Very confident</td>\n",
       "    </tr>\n",
       "    <tr>\n",
       "      <th>4</th>\n",
       "      <td>KNBOK41</td>\n",
       "      <td>5.01000e+16</td>\n",
       "      <td>19feb2013</td>\n",
       "      <td>Very happy</td>\n",
       "      <td>Moderately well</td>\n",
       "      <td>Moderately well</td>\n",
       "      <td>Very confident</td>\n",
       "    </tr>\n",
       "  </tbody>\n",
       "</table>\n",
       "</div>"
      ],
      "text/plain": [
       "    hh_ids        m_ids   int_date                  happiness  \\\n",
       "0  KNBOK41  5.01000e+16  26nov2012                 Very happy   \n",
       "1  KNBOK41  5.01000e+16  10dec2012  Neither happy nor unhappy   \n",
       "2  KNBOK41  5.01000e+16  21jan2013                 Very happy   \n",
       "3  KNBOK41  5.01000e+16  05feb2013  Neither happy nor unhappy   \n",
       "4  KNBOK41  5.01000e+16  19feb2013                 Very happy   \n",
       "\n",
       "             economically    relationships      confidence  \n",
       "0              Very badly        Very well  Very confident  \n",
       "1         Moderately well        Very well  Very confident  \n",
       "2         Moderately well        Very well  Very confident  \n",
       "3  Neither well nor badly        Very well  Very confident  \n",
       "4         Moderately well  Moderately well  Very confident  "
      ]
     },
     "execution_count": 11,
     "metadata": {},
     "output_type": "execute_result"
    }
   ],
   "source": [
    "df.head()"
   ]
  },
  {
   "cell_type": "code",
   "execution_count": 12,
   "metadata": {},
   "outputs": [
    {
     "data": {
      "text/plain": [
       "(7835, 7)"
      ]
     },
     "execution_count": 12,
     "metadata": {},
     "output_type": "execute_result"
    }
   ],
   "source": [
    "df.shape"
   ]
  },
  {
   "cell_type": "markdown",
   "metadata": {},
   "source": [
    "# Let's make all the values numerical."
   ]
  },
  {
   "cell_type": "markdown",
   "metadata": {},
   "source": [
    "### q1: How happy have you been since I saw you last?"
   ]
  },
  {
   "cell_type": "code",
   "execution_count": 13,
   "metadata": {},
   "outputs": [],
   "source": [
    "df[\"happiness\"].replace({\"Very unhappy\":1,\"Moderately unhappy\":2, \"Neither happy nor unhappy\":3, \"Moderately happy\":4, \"Very happy\":5}, inplace = True)"
   ]
  },
  {
   "cell_type": "markdown",
   "metadata": {},
   "source": [
    "### q2: How have you been doing economically since I saw you last?"
   ]
  },
  {
   "cell_type": "code",
   "execution_count": 14,
   "metadata": {},
   "outputs": [],
   "source": [
    "df[\"economically\"].replace({\"Very badly\":1, \"Moderately badly\":2, \"Neither well nor badly\":3, \"Moderately well\":4, \"Very well\":5},inplace=True)"
   ]
  },
  {
   "cell_type": "markdown",
   "metadata": {},
   "source": [
    "### q3: How have your relationship with people been since I saw you last?"
   ]
  },
  {
   "cell_type": "code",
   "execution_count": 15,
   "metadata": {},
   "outputs": [],
   "source": [
    "df[\"relationships\"].replace({\"Very badly\":1, \"Moderately badly\":2, \"Neither well nor badly\":3, \"Moderately well\":4, \"Very well\":5},inplace = True)"
   ]
  },
  {
   "cell_type": "markdown",
   "metadata": {},
   "source": [
    "###    q4: How confident in yourself have you been feeling since I saw you last?"
   ]
  },
  {
   "cell_type": "code",
   "execution_count": 16,
   "metadata": {},
   "outputs": [],
   "source": [
    "df[\"confidence\"].replace({\"Very unconfident\":1, \"Moderately unconfident\":2, \"Neither confident nor unconfident\":3, \"Moderately confident\":4, \"Very confident\":5},inplace = True)"
   ]
  },
  {
   "cell_type": "code",
   "execution_count": 17,
   "metadata": {},
   "outputs": [
    {
     "data": {
      "text/html": [
       "<div>\n",
       "<style scoped>\n",
       "    .dataframe tbody tr th:only-of-type {\n",
       "        vertical-align: middle;\n",
       "    }\n",
       "\n",
       "    .dataframe tbody tr th {\n",
       "        vertical-align: top;\n",
       "    }\n",
       "\n",
       "    .dataframe thead th {\n",
       "        text-align: right;\n",
       "    }\n",
       "</style>\n",
       "<table border=\"1\" class=\"dataframe\">\n",
       "  <thead>\n",
       "    <tr style=\"text-align: right;\">\n",
       "      <th></th>\n",
       "      <th>hh_ids</th>\n",
       "      <th>m_ids</th>\n",
       "      <th>int_date</th>\n",
       "      <th>happiness</th>\n",
       "      <th>economically</th>\n",
       "      <th>relationships</th>\n",
       "      <th>confidence</th>\n",
       "    </tr>\n",
       "  </thead>\n",
       "  <tbody>\n",
       "    <tr>\n",
       "      <th>0</th>\n",
       "      <td>KNBOK41</td>\n",
       "      <td>5.01000e+16</td>\n",
       "      <td>26nov2012</td>\n",
       "      <td>5.0</td>\n",
       "      <td>1.0</td>\n",
       "      <td>5.0</td>\n",
       "      <td>5.0</td>\n",
       "    </tr>\n",
       "    <tr>\n",
       "      <th>1</th>\n",
       "      <td>KNBOK41</td>\n",
       "      <td>5.01000e+16</td>\n",
       "      <td>10dec2012</td>\n",
       "      <td>3.0</td>\n",
       "      <td>4.0</td>\n",
       "      <td>5.0</td>\n",
       "      <td>5.0</td>\n",
       "    </tr>\n",
       "    <tr>\n",
       "      <th>2</th>\n",
       "      <td>KNBOK41</td>\n",
       "      <td>5.01000e+16</td>\n",
       "      <td>21jan2013</td>\n",
       "      <td>5.0</td>\n",
       "      <td>4.0</td>\n",
       "      <td>5.0</td>\n",
       "      <td>5.0</td>\n",
       "    </tr>\n",
       "    <tr>\n",
       "      <th>3</th>\n",
       "      <td>KNBOK41</td>\n",
       "      <td>5.01000e+16</td>\n",
       "      <td>05feb2013</td>\n",
       "      <td>3.0</td>\n",
       "      <td>3.0</td>\n",
       "      <td>5.0</td>\n",
       "      <td>5.0</td>\n",
       "    </tr>\n",
       "    <tr>\n",
       "      <th>4</th>\n",
       "      <td>KNBOK41</td>\n",
       "      <td>5.01000e+16</td>\n",
       "      <td>19feb2013</td>\n",
       "      <td>5.0</td>\n",
       "      <td>4.0</td>\n",
       "      <td>4.0</td>\n",
       "      <td>5.0</td>\n",
       "    </tr>\n",
       "  </tbody>\n",
       "</table>\n",
       "</div>"
      ],
      "text/plain": [
       "    hh_ids        m_ids   int_date  happiness  economically  relationships  \\\n",
       "0  KNBOK41  5.01000e+16  26nov2012        5.0           1.0            5.0   \n",
       "1  KNBOK41  5.01000e+16  10dec2012        3.0           4.0            5.0   \n",
       "2  KNBOK41  5.01000e+16  21jan2013        5.0           4.0            5.0   \n",
       "3  KNBOK41  5.01000e+16  05feb2013        3.0           3.0            5.0   \n",
       "4  KNBOK41  5.01000e+16  19feb2013        5.0           4.0            4.0   \n",
       "\n",
       "   confidence  \n",
       "0         5.0  \n",
       "1         5.0  \n",
       "2         5.0  \n",
       "3         5.0  \n",
       "4         5.0  "
      ]
     },
     "execution_count": 17,
     "metadata": {},
     "output_type": "execute_result"
    }
   ],
   "source": [
    "df.head()"
   ]
  },
  {
   "cell_type": "code",
   "execution_count": 18,
   "metadata": {},
   "outputs": [],
   "source": [
    "ndf = df.groupby(\"hh_ids\")[[\"happiness\",\"economically\",\"relationships\",\"confidence\"]].mean()"
   ]
  },
  {
   "cell_type": "code",
   "execution_count": 19,
   "metadata": {},
   "outputs": [
    {
     "data": {
      "text/html": [
       "<div>\n",
       "<style scoped>\n",
       "    .dataframe tbody tr th:only-of-type {\n",
       "        vertical-align: middle;\n",
       "    }\n",
       "\n",
       "    .dataframe tbody tr th {\n",
       "        vertical-align: top;\n",
       "    }\n",
       "\n",
       "    .dataframe thead th {\n",
       "        text-align: right;\n",
       "    }\n",
       "</style>\n",
       "<table border=\"1\" class=\"dataframe\">\n",
       "  <thead>\n",
       "    <tr style=\"text-align: right;\">\n",
       "      <th></th>\n",
       "      <th>happiness</th>\n",
       "      <th>economically</th>\n",
       "      <th>relationships</th>\n",
       "      <th>confidence</th>\n",
       "    </tr>\n",
       "    <tr>\n",
       "      <th>hh_ids</th>\n",
       "      <th></th>\n",
       "      <th></th>\n",
       "      <th></th>\n",
       "      <th></th>\n",
       "    </tr>\n",
       "  </thead>\n",
       "  <tbody>\n",
       "    <tr>\n",
       "      <th>KELDK01</th>\n",
       "      <td>4.045455</td>\n",
       "      <td>3.863636</td>\n",
       "      <td>4.863636</td>\n",
       "      <td>4.681818</td>\n",
       "    </tr>\n",
       "    <tr>\n",
       "      <th>KELDK02</th>\n",
       "      <td>4.105263</td>\n",
       "      <td>3.947368</td>\n",
       "      <td>4.842105</td>\n",
       "      <td>4.736842</td>\n",
       "    </tr>\n",
       "    <tr>\n",
       "      <th>KELDK08</th>\n",
       "      <td>4.038462</td>\n",
       "      <td>3.653846</td>\n",
       "      <td>4.730769</td>\n",
       "      <td>4.884615</td>\n",
       "    </tr>\n",
       "    <tr>\n",
       "      <th>KELDK09</th>\n",
       "      <td>4.052632</td>\n",
       "      <td>3.947368</td>\n",
       "      <td>4.947368</td>\n",
       "      <td>4.894737</td>\n",
       "    </tr>\n",
       "    <tr>\n",
       "      <th>KELDK10</th>\n",
       "      <td>4.111111</td>\n",
       "      <td>4.000000</td>\n",
       "      <td>4.777778</td>\n",
       "      <td>4.944444</td>\n",
       "    </tr>\n",
       "  </tbody>\n",
       "</table>\n",
       "</div>"
      ],
      "text/plain": [
       "         happiness  economically  relationships  confidence\n",
       "hh_ids                                                     \n",
       "KELDK01   4.045455      3.863636       4.863636    4.681818\n",
       "KELDK02   4.105263      3.947368       4.842105    4.736842\n",
       "KELDK08   4.038462      3.653846       4.730769    4.884615\n",
       "KELDK09   4.052632      3.947368       4.947368    4.894737\n",
       "KELDK10   4.111111      4.000000       4.777778    4.944444"
      ]
     },
     "execution_count": 19,
     "metadata": {},
     "output_type": "execute_result"
    }
   ],
   "source": [
    "ndf.head()"
   ]
  },
  {
   "cell_type": "markdown",
   "metadata": {},
   "source": [
    "### to have the hh_ids as a column"
   ]
  },
  {
   "cell_type": "code",
   "execution_count": 20,
   "metadata": {},
   "outputs": [],
   "source": [
    "ndf = ndf.reset_index()"
   ]
  },
  {
   "cell_type": "code",
   "execution_count": 21,
   "metadata": {},
   "outputs": [
    {
     "data": {
      "text/html": [
       "<div>\n",
       "<style scoped>\n",
       "    .dataframe tbody tr th:only-of-type {\n",
       "        vertical-align: middle;\n",
       "    }\n",
       "\n",
       "    .dataframe tbody tr th {\n",
       "        vertical-align: top;\n",
       "    }\n",
       "\n",
       "    .dataframe thead th {\n",
       "        text-align: right;\n",
       "    }\n",
       "</style>\n",
       "<table border=\"1\" class=\"dataframe\">\n",
       "  <thead>\n",
       "    <tr style=\"text-align: right;\">\n",
       "      <th></th>\n",
       "      <th>hh_ids</th>\n",
       "      <th>happiness</th>\n",
       "      <th>economically</th>\n",
       "      <th>relationships</th>\n",
       "      <th>confidence</th>\n",
       "    </tr>\n",
       "  </thead>\n",
       "  <tbody>\n",
       "    <tr>\n",
       "      <th>0</th>\n",
       "      <td>KELDK01</td>\n",
       "      <td>4.045455</td>\n",
       "      <td>3.863636</td>\n",
       "      <td>4.863636</td>\n",
       "      <td>4.681818</td>\n",
       "    </tr>\n",
       "    <tr>\n",
       "      <th>1</th>\n",
       "      <td>KELDK02</td>\n",
       "      <td>4.105263</td>\n",
       "      <td>3.947368</td>\n",
       "      <td>4.842105</td>\n",
       "      <td>4.736842</td>\n",
       "    </tr>\n",
       "    <tr>\n",
       "      <th>2</th>\n",
       "      <td>KELDK08</td>\n",
       "      <td>4.038462</td>\n",
       "      <td>3.653846</td>\n",
       "      <td>4.730769</td>\n",
       "      <td>4.884615</td>\n",
       "    </tr>\n",
       "    <tr>\n",
       "      <th>3</th>\n",
       "      <td>KELDK09</td>\n",
       "      <td>4.052632</td>\n",
       "      <td>3.947368</td>\n",
       "      <td>4.947368</td>\n",
       "      <td>4.894737</td>\n",
       "    </tr>\n",
       "    <tr>\n",
       "      <th>4</th>\n",
       "      <td>KELDK10</td>\n",
       "      <td>4.111111</td>\n",
       "      <td>4.000000</td>\n",
       "      <td>4.777778</td>\n",
       "      <td>4.944444</td>\n",
       "    </tr>\n",
       "  </tbody>\n",
       "</table>\n",
       "</div>"
      ],
      "text/plain": [
       "    hh_ids  happiness  economically  relationships  confidence\n",
       "0  KELDK01   4.045455      3.863636       4.863636    4.681818\n",
       "1  KELDK02   4.105263      3.947368       4.842105    4.736842\n",
       "2  KELDK08   4.038462      3.653846       4.730769    4.884615\n",
       "3  KELDK09   4.052632      3.947368       4.947368    4.894737\n",
       "4  KELDK10   4.111111      4.000000       4.777778    4.944444"
      ]
     },
     "execution_count": 21,
     "metadata": {},
     "output_type": "execute_result"
    }
   ],
   "source": [
    "ndf.head()"
   ]
  },
  {
   "cell_type": "code",
   "execution_count": 22,
   "metadata": {},
   "outputs": [
    {
     "data": {
      "text/html": [
       "<div>\n",
       "<style scoped>\n",
       "    .dataframe tbody tr th:only-of-type {\n",
       "        vertical-align: middle;\n",
       "    }\n",
       "\n",
       "    .dataframe tbody tr th {\n",
       "        vertical-align: top;\n",
       "    }\n",
       "\n",
       "    .dataframe thead th {\n",
       "        text-align: right;\n",
       "    }\n",
       "</style>\n",
       "<table border=\"1\" class=\"dataframe\">\n",
       "  <thead>\n",
       "    <tr style=\"text-align: right;\">\n",
       "      <th></th>\n",
       "      <th>hh_ids</th>\n",
       "      <th>happiness</th>\n",
       "      <th>economically</th>\n",
       "      <th>relationships</th>\n",
       "      <th>confidence</th>\n",
       "    </tr>\n",
       "  </thead>\n",
       "  <tbody>\n",
       "    <tr>\n",
       "      <th>count</th>\n",
       "      <td>298</td>\n",
       "      <td>298</td>\n",
       "      <td>298</td>\n",
       "      <td>298</td>\n",
       "      <td>298</td>\n",
       "    </tr>\n",
       "    <tr>\n",
       "      <th>unique</th>\n",
       "      <td>1</td>\n",
       "      <td>1</td>\n",
       "      <td>1</td>\n",
       "      <td>1</td>\n",
       "      <td>1</td>\n",
       "    </tr>\n",
       "    <tr>\n",
       "      <th>top</th>\n",
       "      <td>False</td>\n",
       "      <td>False</td>\n",
       "      <td>False</td>\n",
       "      <td>False</td>\n",
       "      <td>False</td>\n",
       "    </tr>\n",
       "    <tr>\n",
       "      <th>freq</th>\n",
       "      <td>298</td>\n",
       "      <td>298</td>\n",
       "      <td>298</td>\n",
       "      <td>298</td>\n",
       "      <td>298</td>\n",
       "    </tr>\n",
       "  </tbody>\n",
       "</table>\n",
       "</div>"
      ],
      "text/plain": [
       "       hh_ids happiness economically relationships confidence\n",
       "count     298       298          298           298        298\n",
       "unique      1         1            1             1          1\n",
       "top     False     False        False         False      False\n",
       "freq      298       298          298           298        298"
      ]
     },
     "execution_count": 22,
     "metadata": {},
     "output_type": "execute_result"
    }
   ],
   "source": [
    "ndf.isnull().describe()"
   ]
  },
  {
   "cell_type": "code",
   "execution_count": 23,
   "metadata": {},
   "outputs": [],
   "source": [
    "ndf.to_csv(\"wellbeing.csv\")"
   ]
  },
  {
   "cell_type": "code",
   "execution_count": null,
   "metadata": {},
   "outputs": [],
   "source": []
  },
  {
   "cell_type": "code",
   "execution_count": null,
   "metadata": {},
   "outputs": [],
   "source": []
  }
 ],
 "metadata": {
  "kernelspec": {
   "display_name": "Python 3",
   "language": "python",
   "name": "python3"
  },
  "language_info": {
   "codemirror_mode": {
    "name": "ipython",
    "version": 3
   },
   "file_extension": ".py",
   "mimetype": "text/x-python",
   "name": "python",
   "nbconvert_exporter": "python",
   "pygments_lexer": "ipython3",
   "version": "3.7.3"
  }
 },
 "nbformat": 4,
 "nbformat_minor": 2
}
