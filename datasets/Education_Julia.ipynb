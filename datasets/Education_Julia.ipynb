{
 "cells": [
  {
   "cell_type": "code",
   "execution_count": 14,
   "metadata": {},
   "outputs": [],
   "source": [
    "import pandas as pd \n",
    "import glob \n",
    "import os "
   ]
  },
  {
   "cell_type": "code",
   "execution_count": 24,
   "metadata": {},
   "outputs": [
    {
     "data": {
      "text/plain": [
       "['../aux_data/edu_ind.csv',\n",
       " '../aux_data/edu_hh.dta',\n",
       " '../aux_data/edu_ind.dta',\n",
       " '../aux_data/edu_hh.csv']"
      ]
     },
     "execution_count": 24,
     "metadata": {},
     "output_type": "execute_result"
    }
   ],
   "source": [
    "glob.glob('../aux_data/*edu*')"
   ]
  },
  {
   "cell_type": "code",
   "execution_count": 25,
   "metadata": {},
   "outputs": [],
   "source": [
    "hh_edu = pd.read_csv('../aux_data/edu_hh.csv')"
   ]
  },
  {
   "cell_type": "code",
   "execution_count": 33,
   "metadata": {},
   "outputs": [],
   "source": [
    "ind_edu = pd.read_csv('../aux_data/edu_ind.csv', dtype = {'m_ids': \"object\"})"
   ]
  },
  {
   "cell_type": "code",
   "execution_count": 41,
   "metadata": {},
   "outputs": [],
   "source": [
    "trx = pd.read_csv('../diaries_transactions_all.csv', low_memory = False)"
   ]
  },
  {
   "cell_type": "code",
   "execution_count": 44,
   "metadata": {},
   "outputs": [],
   "source": [
    "keep_ids_list = list(trx.m_ids_owner.unique())"
   ]
  },
  {
   "cell_type": "code",
   "execution_count": 34,
   "metadata": {},
   "outputs": [
    {
     "data": {
      "text/html": [
       "<div>\n",
       "<style scoped>\n",
       "    .dataframe tbody tr th:only-of-type {\n",
       "        vertical-align: middle;\n",
       "    }\n",
       "\n",
       "    .dataframe tbody tr th {\n",
       "        vertical-align: top;\n",
       "    }\n",
       "\n",
       "    .dataframe thead th {\n",
       "        text-align: right;\n",
       "    }\n",
       "</style>\n",
       "<table border=\"1\" class=\"dataframe\">\n",
       "  <thead>\n",
       "    <tr style=\"text-align: right;\">\n",
       "      <th></th>\n",
       "      <th>hh_ids</th>\n",
       "      <th>edu_hh_child613inschool</th>\n",
       "      <th>edu_hh_child1417inschool</th>\n",
       "      <th>edu_hh_girls613inschool</th>\n",
       "      <th>edu_hh_girls1417inschool</th>\n",
       "      <th>edu_hh_boys613inschool</th>\n",
       "      <th>edu_hh_boys1417inschool</th>\n",
       "      <th>edu_hh_headattain_yrs</th>\n",
       "    </tr>\n",
       "  </thead>\n",
       "  <tbody>\n",
       "    <tr>\n",
       "      <th>0</th>\n",
       "      <td>KELDK01</td>\n",
       "      <td>1.0</td>\n",
       "      <td>NaN</td>\n",
       "      <td>1.0</td>\n",
       "      <td>NaN</td>\n",
       "      <td>NaN</td>\n",
       "      <td>NaN</td>\n",
       "      <td>8.0</td>\n",
       "    </tr>\n",
       "    <tr>\n",
       "      <th>1</th>\n",
       "      <td>KELDK02</td>\n",
       "      <td>NaN</td>\n",
       "      <td>1.0</td>\n",
       "      <td>NaN</td>\n",
       "      <td>1.0</td>\n",
       "      <td>NaN</td>\n",
       "      <td>NaN</td>\n",
       "      <td>8.0</td>\n",
       "    </tr>\n",
       "    <tr>\n",
       "      <th>2</th>\n",
       "      <td>KELDK08</td>\n",
       "      <td>0.0</td>\n",
       "      <td>NaN</td>\n",
       "      <td>NaN</td>\n",
       "      <td>NaN</td>\n",
       "      <td>0.0</td>\n",
       "      <td>NaN</td>\n",
       "      <td>5.0</td>\n",
       "    </tr>\n",
       "    <tr>\n",
       "      <th>3</th>\n",
       "      <td>KELDK09</td>\n",
       "      <td>1.0</td>\n",
       "      <td>NaN</td>\n",
       "      <td>1.0</td>\n",
       "      <td>NaN</td>\n",
       "      <td>NaN</td>\n",
       "      <td>NaN</td>\n",
       "      <td>10.0</td>\n",
       "    </tr>\n",
       "    <tr>\n",
       "      <th>4</th>\n",
       "      <td>KELDK10</td>\n",
       "      <td>NaN</td>\n",
       "      <td>NaN</td>\n",
       "      <td>NaN</td>\n",
       "      <td>NaN</td>\n",
       "      <td>NaN</td>\n",
       "      <td>NaN</td>\n",
       "      <td>10.0</td>\n",
       "    </tr>\n",
       "  </tbody>\n",
       "</table>\n",
       "</div>"
      ],
      "text/plain": [
       "    hh_ids  edu_hh_child613inschool  edu_hh_child1417inschool  \\\n",
       "0  KELDK01                      1.0                       NaN   \n",
       "1  KELDK02                      NaN                       1.0   \n",
       "2  KELDK08                      0.0                       NaN   \n",
       "3  KELDK09                      1.0                       NaN   \n",
       "4  KELDK10                      NaN                       NaN   \n",
       "\n",
       "   edu_hh_girls613inschool  edu_hh_girls1417inschool  edu_hh_boys613inschool  \\\n",
       "0                      1.0                       NaN                     NaN   \n",
       "1                      NaN                       1.0                     NaN   \n",
       "2                      NaN                       NaN                     0.0   \n",
       "3                      1.0                       NaN                     NaN   \n",
       "4                      NaN                       NaN                     NaN   \n",
       "\n",
       "   edu_hh_boys1417inschool  edu_hh_headattain_yrs  \n",
       "0                      NaN                    8.0  \n",
       "1                      NaN                    8.0  \n",
       "2                      NaN                    5.0  \n",
       "3                      NaN                   10.0  \n",
       "4                      NaN                   10.0  "
      ]
     },
     "execution_count": 34,
     "metadata": {},
     "output_type": "execute_result"
    }
   ],
   "source": [
    "hh_edu.head()"
   ]
  },
  {
   "cell_type": "code",
   "execution_count": 35,
   "metadata": {},
   "outputs": [
    {
     "data": {
      "text/plain": [
       "Index(['hh_ids', 'edu_hh_child613inschool', 'edu_hh_child1417inschool',\n",
       "       'edu_hh_girls613inschool', 'edu_hh_girls1417inschool',\n",
       "       'edu_hh_boys613inschool', 'edu_hh_boys1417inschool',\n",
       "       'edu_hh_headattain_yrs'],\n",
       "      dtype='object')"
      ]
     },
     "execution_count": 35,
     "metadata": {},
     "output_type": "execute_result"
    }
   ],
   "source": [
    "hh_edu.columns"
   ]
  },
  {
   "cell_type": "code",
   "execution_count": 36,
   "metadata": {},
   "outputs": [
    {
     "data": {
      "text/plain": [
       "(298, 8)"
      ]
     },
     "execution_count": 36,
     "metadata": {},
     "output_type": "execute_result"
    }
   ],
   "source": [
    "hh_edu.shape"
   ]
  },
  {
   "cell_type": "code",
   "execution_count": 37,
   "metadata": {},
   "outputs": [
    {
     "data": {
      "text/plain": [
       "Index(['m_ids', 'hh_ids', 'edu_i_enrolled', 'edu_i_attain',\n",
       "       'edu_i_attain_yrs'],\n",
       "      dtype='object')"
      ]
     },
     "execution_count": 37,
     "metadata": {},
     "output_type": "execute_result"
    }
   ],
   "source": [
    "ind_edu.columns"
   ]
  },
  {
   "cell_type": "code",
   "execution_count": 38,
   "metadata": {},
   "outputs": [
    {
     "data": {
      "text/plain": [
       "(1565, 5)"
      ]
     },
     "execution_count": 38,
     "metadata": {},
     "output_type": "execute_result"
    }
   ],
   "source": [
    "ind_edu.shape"
   ]
  },
  {
   "cell_type": "code",
   "execution_count": 39,
   "metadata": {},
   "outputs": [
    {
     "data": {
      "text/plain": [
       "1565"
      ]
     },
     "execution_count": 39,
     "metadata": {},
     "output_type": "execute_result"
    }
   ],
   "source": [
    "len(ind_edu.m_ids.unique())"
   ]
  },
  {
   "cell_type": "code",
   "execution_count": 46,
   "metadata": {},
   "outputs": [],
   "source": [
    "ind_edu_sub = ind_edu.loc[ind_edu['m_ids'].isin(keep_ids_list)]"
   ]
  },
  {
   "cell_type": "code",
   "execution_count": 47,
   "metadata": {},
   "outputs": [
    {
     "data": {
      "text/plain": [
       "(669, 5)"
      ]
     },
     "execution_count": 47,
     "metadata": {},
     "output_type": "execute_result"
    }
   ],
   "source": [
    "ind_edu_sub.shape"
   ]
  },
  {
   "cell_type": "code",
   "execution_count": 48,
   "metadata": {},
   "outputs": [],
   "source": [
    "edu_hh_ind_merge = ind_edu_sub.merge(hh_edu, 'left', ['hh_ids'])"
   ]
  },
  {
   "cell_type": "code",
   "execution_count": 50,
   "metadata": {},
   "outputs": [
    {
     "data": {
      "text/plain": [
       "(669, 12)"
      ]
     },
     "execution_count": 50,
     "metadata": {},
     "output_type": "execute_result"
    }
   ],
   "source": [
    "edu_hh_ind_merge.shape"
   ]
  },
  {
   "cell_type": "code",
   "execution_count": 51,
   "metadata": {},
   "outputs": [
    {
     "data": {
      "text/html": [
       "<div>\n",
       "<style scoped>\n",
       "    .dataframe tbody tr th:only-of-type {\n",
       "        vertical-align: middle;\n",
       "    }\n",
       "\n",
       "    .dataframe tbody tr th {\n",
       "        vertical-align: top;\n",
       "    }\n",
       "\n",
       "    .dataframe thead th {\n",
       "        text-align: right;\n",
       "    }\n",
       "</style>\n",
       "<table border=\"1\" class=\"dataframe\">\n",
       "  <thead>\n",
       "    <tr style=\"text-align: right;\">\n",
       "      <th></th>\n",
       "      <th>m_ids</th>\n",
       "      <th>hh_ids</th>\n",
       "      <th>edu_i_enrolled</th>\n",
       "      <th>edu_i_attain</th>\n",
       "      <th>edu_i_attain_yrs</th>\n",
       "      <th>edu_hh_child613inschool</th>\n",
       "      <th>edu_hh_child1417inschool</th>\n",
       "      <th>edu_hh_girls613inschool</th>\n",
       "      <th>edu_hh_girls1417inschool</th>\n",
       "      <th>edu_hh_boys613inschool</th>\n",
       "      <th>edu_hh_boys1417inschool</th>\n",
       "      <th>edu_hh_headattain_yrs</th>\n",
       "    </tr>\n",
       "  </thead>\n",
       "  <tbody>\n",
       "    <tr>\n",
       "      <th>0</th>\n",
       "      <td>56134390476100000</td>\n",
       "      <td>KELDK01</td>\n",
       "      <td>0.0</td>\n",
       "      <td>Primary (some or complete)</td>\n",
       "      <td>8.0</td>\n",
       "      <td>1.0</td>\n",
       "      <td>NaN</td>\n",
       "      <td>1.0</td>\n",
       "      <td>NaN</td>\n",
       "      <td>NaN</td>\n",
       "      <td>NaN</td>\n",
       "      <td>8.0</td>\n",
       "    </tr>\n",
       "    <tr>\n",
       "      <th>1</th>\n",
       "      <td>56134390654900000</td>\n",
       "      <td>KELDK01</td>\n",
       "      <td>0.0</td>\n",
       "      <td>Secondary (some or complete)</td>\n",
       "      <td>10.0</td>\n",
       "      <td>1.0</td>\n",
       "      <td>NaN</td>\n",
       "      <td>1.0</td>\n",
       "      <td>NaN</td>\n",
       "      <td>NaN</td>\n",
       "      <td>NaN</td>\n",
       "      <td>8.0</td>\n",
       "    </tr>\n",
       "    <tr>\n",
       "      <th>2</th>\n",
       "      <td>56134389503000000</td>\n",
       "      <td>KELDK02</td>\n",
       "      <td>0.0</td>\n",
       "      <td>Primary (some or complete)</td>\n",
       "      <td>8.0</td>\n",
       "      <td>NaN</td>\n",
       "      <td>1.0</td>\n",
       "      <td>NaN</td>\n",
       "      <td>1.0</td>\n",
       "      <td>NaN</td>\n",
       "      <td>NaN</td>\n",
       "      <td>8.0</td>\n",
       "    </tr>\n",
       "    <tr>\n",
       "      <th>3</th>\n",
       "      <td>56134410699600000</td>\n",
       "      <td>KELDK08</td>\n",
       "      <td>0.0</td>\n",
       "      <td>Primary (some or complete)</td>\n",
       "      <td>5.0</td>\n",
       "      <td>0.0</td>\n",
       "      <td>NaN</td>\n",
       "      <td>NaN</td>\n",
       "      <td>NaN</td>\n",
       "      <td>0.0</td>\n",
       "      <td>NaN</td>\n",
       "      <td>5.0</td>\n",
       "    </tr>\n",
       "    <tr>\n",
       "      <th>4</th>\n",
       "      <td>56134410709700000</td>\n",
       "      <td>KELDK08</td>\n",
       "      <td>0.0</td>\n",
       "      <td>Primary (some or complete)</td>\n",
       "      <td>8.0</td>\n",
       "      <td>0.0</td>\n",
       "      <td>NaN</td>\n",
       "      <td>NaN</td>\n",
       "      <td>NaN</td>\n",
       "      <td>0.0</td>\n",
       "      <td>NaN</td>\n",
       "      <td>5.0</td>\n",
       "    </tr>\n",
       "  </tbody>\n",
       "</table>\n",
       "</div>"
      ],
      "text/plain": [
       "               m_ids   hh_ids  edu_i_enrolled                  edu_i_attain  \\\n",
       "0  56134390476100000  KELDK01             0.0    Primary (some or complete)   \n",
       "1  56134390654900000  KELDK01             0.0  Secondary (some or complete)   \n",
       "2  56134389503000000  KELDK02             0.0    Primary (some or complete)   \n",
       "3  56134410699600000  KELDK08             0.0    Primary (some or complete)   \n",
       "4  56134410709700000  KELDK08             0.0    Primary (some or complete)   \n",
       "\n",
       "   edu_i_attain_yrs  edu_hh_child613inschool  edu_hh_child1417inschool  \\\n",
       "0               8.0                      1.0                       NaN   \n",
       "1              10.0                      1.0                       NaN   \n",
       "2               8.0                      NaN                       1.0   \n",
       "3               5.0                      0.0                       NaN   \n",
       "4               8.0                      0.0                       NaN   \n",
       "\n",
       "   edu_hh_girls613inschool  edu_hh_girls1417inschool  edu_hh_boys613inschool  \\\n",
       "0                      1.0                       NaN                     NaN   \n",
       "1                      1.0                       NaN                     NaN   \n",
       "2                      NaN                       1.0                     NaN   \n",
       "3                      NaN                       NaN                     0.0   \n",
       "4                      NaN                       NaN                     0.0   \n",
       "\n",
       "   edu_hh_boys1417inschool  edu_hh_headattain_yrs  \n",
       "0                      NaN                    8.0  \n",
       "1                      NaN                    8.0  \n",
       "2                      NaN                    8.0  \n",
       "3                      NaN                    5.0  \n",
       "4                      NaN                    5.0  "
      ]
     },
     "execution_count": 51,
     "metadata": {},
     "output_type": "execute_result"
    }
   ],
   "source": [
    "edu_hh_ind_merge.head()"
   ]
  },
  {
   "cell_type": "code",
   "execution_count": 52,
   "metadata": {},
   "outputs": [],
   "source": [
    "edu_hh_ind_merge.columns = ['m_ids', 'hh_ids', 'edu_i_enrolled', 'edu_i_attain', 'edu_i_attain_yrs',\n",
    "       'edu_hh_child613inschool', 'edu_hh_child1417inschool',\n",
    "       'edu_hh_girls613inschool', 'edu_hh_girls1417inschool',\n",
    "       'edu_hh_boys613inschool', 'edu_hh_boys1417inschool',\n",
    "       'edu_hh_headattain_yrs']"
   ]
  },
  {
   "cell_type": "code",
   "execution_count": 53,
   "metadata": {},
   "outputs": [],
   "source": [
    "# os.makedirs('data_ind', exist_ok = True)"
   ]
  },
  {
   "cell_type": "code",
   "execution_count": 54,
   "metadata": {},
   "outputs": [],
   "source": [
    "edu_hh_ind_merge.to_csv('edu_hh_ind_merge.csv')"
   ]
  },
  {
   "cell_type": "code",
   "execution_count": null,
   "metadata": {},
   "outputs": [],
   "source": []
  }
 ],
 "metadata": {
  "kernelspec": {
   "display_name": "Python 3",
   "language": "python",
   "name": "python3"
  },
  "language_info": {
   "codemirror_mode": {
    "name": "ipython",
    "version": 3
   },
   "file_extension": ".py",
   "mimetype": "text/x-python",
   "name": "python",
   "nbconvert_exporter": "python",
   "pygments_lexer": "ipython3",
   "version": "3.7.3"
  }
 },
 "nbformat": 4,
 "nbformat_minor": 2
}
