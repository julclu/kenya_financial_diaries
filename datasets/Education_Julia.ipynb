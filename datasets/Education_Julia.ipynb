{
 "cells": [
  {
   "cell_type": "code",
   "execution_count": 1,
   "metadata": {},
   "outputs": [],
   "source": [
    "import pandas as pd \n",
    "import glob \n",
    "import os "
   ]
  },
  {
   "cell_type": "code",
   "execution_count": 4,
   "metadata": {},
   "outputs": [
    {
     "data": {
      "text/plain": [
       "['../aux_data/edu_ind.csv',\n",
       " '../aux_data/edu_hh.dta',\n",
       " '../aux_data/edu_ind.dta',\n",
       " '../aux_data/edu_hh.csv']"
      ]
     },
     "execution_count": 4,
     "metadata": {},
     "output_type": "execute_result"
    }
   ],
   "source": [
    "glob.glob('../aux_data/*edu*')"
   ]
  },
  {
   "cell_type": "code",
   "execution_count": 6,
   "metadata": {},
   "outputs": [],
   "source": [
    "hh_edu = pd.read_csv('../aux_data/edu_hh.csv')"
   ]
  },
  {
   "cell_type": "code",
   "execution_count": 8,
   "metadata": {},
   "outputs": [],
   "source": [
    "ind_edu = pd.read_csv('../aux_data/edu_ind.csv', dtype = {'m_ids': \"object\"})"
   ]
  },
  {
   "cell_type": "code",
   "execution_count": 10,
   "metadata": {},
   "outputs": [],
   "source": [
    "trx = pd.read_csv('../diaries_transactions_all.csv', low_memory = False)"
   ]
  },
  {
   "cell_type": "code",
   "execution_count": 11,
   "metadata": {},
   "outputs": [],
   "source": [
    "keep_ids_list = list(trx.m_ids_owner.unique())"
   ]
  },
  {
   "cell_type": "code",
   "execution_count": 12,
   "metadata": {},
   "outputs": [
    {
     "data": {
      "text/html": [
       "<div>\n",
       "<style scoped>\n",
       "    .dataframe tbody tr th:only-of-type {\n",
       "        vertical-align: middle;\n",
       "    }\n",
       "\n",
       "    .dataframe tbody tr th {\n",
       "        vertical-align: top;\n",
       "    }\n",
       "\n",
       "    .dataframe thead th {\n",
       "        text-align: right;\n",
       "    }\n",
       "</style>\n",
       "<table border=\"1\" class=\"dataframe\">\n",
       "  <thead>\n",
       "    <tr style=\"text-align: right;\">\n",
       "      <th></th>\n",
       "      <th>hh_ids</th>\n",
       "      <th>edu_hh_child613inschool</th>\n",
       "      <th>edu_hh_child1417inschool</th>\n",
       "      <th>edu_hh_girls613inschool</th>\n",
       "      <th>edu_hh_girls1417inschool</th>\n",
       "      <th>edu_hh_boys613inschool</th>\n",
       "      <th>edu_hh_boys1417inschool</th>\n",
       "      <th>edu_hh_headattain_yrs</th>\n",
       "    </tr>\n",
       "  </thead>\n",
       "  <tbody>\n",
       "    <tr>\n",
       "      <th>0</th>\n",
       "      <td>KELDK01</td>\n",
       "      <td>1.0</td>\n",
       "      <td>NaN</td>\n",
       "      <td>1.0</td>\n",
       "      <td>NaN</td>\n",
       "      <td>NaN</td>\n",
       "      <td>NaN</td>\n",
       "      <td>8.0</td>\n",
       "    </tr>\n",
       "    <tr>\n",
       "      <th>1</th>\n",
       "      <td>KELDK02</td>\n",
       "      <td>NaN</td>\n",
       "      <td>1.0</td>\n",
       "      <td>NaN</td>\n",
       "      <td>1.0</td>\n",
       "      <td>NaN</td>\n",
       "      <td>NaN</td>\n",
       "      <td>8.0</td>\n",
       "    </tr>\n",
       "    <tr>\n",
       "      <th>2</th>\n",
       "      <td>KELDK08</td>\n",
       "      <td>0.0</td>\n",
       "      <td>NaN</td>\n",
       "      <td>NaN</td>\n",
       "      <td>NaN</td>\n",
       "      <td>0.0</td>\n",
       "      <td>NaN</td>\n",
       "      <td>5.0</td>\n",
       "    </tr>\n",
       "    <tr>\n",
       "      <th>3</th>\n",
       "      <td>KELDK09</td>\n",
       "      <td>1.0</td>\n",
       "      <td>NaN</td>\n",
       "      <td>1.0</td>\n",
       "      <td>NaN</td>\n",
       "      <td>NaN</td>\n",
       "      <td>NaN</td>\n",
       "      <td>10.0</td>\n",
       "    </tr>\n",
       "    <tr>\n",
       "      <th>4</th>\n",
       "      <td>KELDK10</td>\n",
       "      <td>NaN</td>\n",
       "      <td>NaN</td>\n",
       "      <td>NaN</td>\n",
       "      <td>NaN</td>\n",
       "      <td>NaN</td>\n",
       "      <td>NaN</td>\n",
       "      <td>10.0</td>\n",
       "    </tr>\n",
       "  </tbody>\n",
       "</table>\n",
       "</div>"
      ],
      "text/plain": [
       "    hh_ids  edu_hh_child613inschool  edu_hh_child1417inschool  \\\n",
       "0  KELDK01                      1.0                       NaN   \n",
       "1  KELDK02                      NaN                       1.0   \n",
       "2  KELDK08                      0.0                       NaN   \n",
       "3  KELDK09                      1.0                       NaN   \n",
       "4  KELDK10                      NaN                       NaN   \n",
       "\n",
       "   edu_hh_girls613inschool  edu_hh_girls1417inschool  edu_hh_boys613inschool  \\\n",
       "0                      1.0                       NaN                     NaN   \n",
       "1                      NaN                       1.0                     NaN   \n",
       "2                      NaN                       NaN                     0.0   \n",
       "3                      1.0                       NaN                     NaN   \n",
       "4                      NaN                       NaN                     NaN   \n",
       "\n",
       "   edu_hh_boys1417inschool  edu_hh_headattain_yrs  \n",
       "0                      NaN                    8.0  \n",
       "1                      NaN                    8.0  \n",
       "2                      NaN                    5.0  \n",
       "3                      NaN                   10.0  \n",
       "4                      NaN                   10.0  "
      ]
     },
     "execution_count": 12,
     "metadata": {},
     "output_type": "execute_result"
    }
   ],
   "source": [
    "hh_edu.head()"
   ]
  },
  {
   "cell_type": "code",
   "execution_count": 13,
   "metadata": {},
   "outputs": [
    {
     "data": {
      "text/plain": [
       "Index(['hh_ids', 'edu_hh_child613inschool', 'edu_hh_child1417inschool',\n",
       "       'edu_hh_girls613inschool', 'edu_hh_girls1417inschool',\n",
       "       'edu_hh_boys613inschool', 'edu_hh_boys1417inschool',\n",
       "       'edu_hh_headattain_yrs'],\n",
       "      dtype='object')"
      ]
     },
     "execution_count": 13,
     "metadata": {},
     "output_type": "execute_result"
    }
   ],
   "source": [
    "hh_edu.columns"
   ]
  },
  {
   "cell_type": "code",
   "execution_count": 14,
   "metadata": {},
   "outputs": [
    {
     "data": {
      "text/plain": [
       "(298, 8)"
      ]
     },
     "execution_count": 14,
     "metadata": {},
     "output_type": "execute_result"
    }
   ],
   "source": [
    "hh_edu.shape"
   ]
  },
  {
   "cell_type": "code",
   "execution_count": 15,
   "metadata": {},
   "outputs": [
    {
     "data": {
      "text/plain": [
       "Index(['m_ids', 'hh_ids', 'edu_i_enrolled', 'edu_i_attain',\n",
       "       'edu_i_attain_yrs'],\n",
       "      dtype='object')"
      ]
     },
     "execution_count": 15,
     "metadata": {},
     "output_type": "execute_result"
    }
   ],
   "source": [
    "ind_edu.columns"
   ]
  },
  {
   "cell_type": "code",
   "execution_count": 16,
   "metadata": {},
   "outputs": [
    {
     "data": {
      "text/plain": [
       "(1565, 5)"
      ]
     },
     "execution_count": 16,
     "metadata": {},
     "output_type": "execute_result"
    }
   ],
   "source": [
    "ind_edu.shape"
   ]
  },
  {
   "cell_type": "code",
   "execution_count": 17,
   "metadata": {},
   "outputs": [
    {
     "data": {
      "text/plain": [
       "1565"
      ]
     },
     "execution_count": 17,
     "metadata": {},
     "output_type": "execute_result"
    }
   ],
   "source": [
    "len(ind_edu.m_ids.unique())"
   ]
  },
  {
   "cell_type": "code",
   "execution_count": 18,
   "metadata": {},
   "outputs": [],
   "source": [
    "ind_edu_sub = ind_edu.loc[ind_edu['m_ids'].isin(keep_ids_list)]"
   ]
  },
  {
   "cell_type": "code",
   "execution_count": 19,
   "metadata": {},
   "outputs": [
    {
     "data": {
      "text/plain": [
       "(669, 5)"
      ]
     },
     "execution_count": 19,
     "metadata": {},
     "output_type": "execute_result"
    }
   ],
   "source": [
    "ind_edu_sub.shape"
   ]
  },
  {
   "cell_type": "code",
   "execution_count": 20,
   "metadata": {},
   "outputs": [],
   "source": [
    "edu_hh_ind_merge = ind_edu_sub.merge(hh_edu, 'left', ['hh_ids'])"
   ]
  },
  {
   "cell_type": "code",
   "execution_count": 21,
   "metadata": {},
   "outputs": [
    {
     "data": {
      "text/plain": [
       "(669, 12)"
      ]
     },
     "execution_count": 21,
     "metadata": {},
     "output_type": "execute_result"
    }
   ],
   "source": [
    "edu_hh_ind_merge.shape"
   ]
  },
  {
   "cell_type": "code",
   "execution_count": 22,
   "metadata": {},
   "outputs": [
    {
     "data": {
      "text/html": [
       "<div>\n",
       "<style scoped>\n",
       "    .dataframe tbody tr th:only-of-type {\n",
       "        vertical-align: middle;\n",
       "    }\n",
       "\n",
       "    .dataframe tbody tr th {\n",
       "        vertical-align: top;\n",
       "    }\n",
       "\n",
       "    .dataframe thead th {\n",
       "        text-align: right;\n",
       "    }\n",
       "</style>\n",
       "<table border=\"1\" class=\"dataframe\">\n",
       "  <thead>\n",
       "    <tr style=\"text-align: right;\">\n",
       "      <th></th>\n",
       "      <th>m_ids</th>\n",
       "      <th>hh_ids</th>\n",
       "      <th>edu_i_enrolled</th>\n",
       "      <th>edu_i_attain</th>\n",
       "      <th>edu_i_attain_yrs</th>\n",
       "      <th>edu_hh_child613inschool</th>\n",
       "      <th>edu_hh_child1417inschool</th>\n",
       "      <th>edu_hh_girls613inschool</th>\n",
       "      <th>edu_hh_girls1417inschool</th>\n",
       "      <th>edu_hh_boys613inschool</th>\n",
       "      <th>edu_hh_boys1417inschool</th>\n",
       "      <th>edu_hh_headattain_yrs</th>\n",
       "    </tr>\n",
       "  </thead>\n",
       "  <tbody>\n",
       "    <tr>\n",
       "      <th>0</th>\n",
       "      <td>56134390476100000</td>\n",
       "      <td>KELDK01</td>\n",
       "      <td>0.0</td>\n",
       "      <td>Primary (some or complete)</td>\n",
       "      <td>8.0</td>\n",
       "      <td>1.0</td>\n",
       "      <td>NaN</td>\n",
       "      <td>1.0</td>\n",
       "      <td>NaN</td>\n",
       "      <td>NaN</td>\n",
       "      <td>NaN</td>\n",
       "      <td>8.0</td>\n",
       "    </tr>\n",
       "    <tr>\n",
       "      <th>1</th>\n",
       "      <td>56134390654900000</td>\n",
       "      <td>KELDK01</td>\n",
       "      <td>0.0</td>\n",
       "      <td>Secondary (some or complete)</td>\n",
       "      <td>10.0</td>\n",
       "      <td>1.0</td>\n",
       "      <td>NaN</td>\n",
       "      <td>1.0</td>\n",
       "      <td>NaN</td>\n",
       "      <td>NaN</td>\n",
       "      <td>NaN</td>\n",
       "      <td>8.0</td>\n",
       "    </tr>\n",
       "    <tr>\n",
       "      <th>2</th>\n",
       "      <td>56134389503000000</td>\n",
       "      <td>KELDK02</td>\n",
       "      <td>0.0</td>\n",
       "      <td>Primary (some or complete)</td>\n",
       "      <td>8.0</td>\n",
       "      <td>NaN</td>\n",
       "      <td>1.0</td>\n",
       "      <td>NaN</td>\n",
       "      <td>1.0</td>\n",
       "      <td>NaN</td>\n",
       "      <td>NaN</td>\n",
       "      <td>8.0</td>\n",
       "    </tr>\n",
       "    <tr>\n",
       "      <th>3</th>\n",
       "      <td>56134410699600000</td>\n",
       "      <td>KELDK08</td>\n",
       "      <td>0.0</td>\n",
       "      <td>Primary (some or complete)</td>\n",
       "      <td>5.0</td>\n",
       "      <td>0.0</td>\n",
       "      <td>NaN</td>\n",
       "      <td>NaN</td>\n",
       "      <td>NaN</td>\n",
       "      <td>0.0</td>\n",
       "      <td>NaN</td>\n",
       "      <td>5.0</td>\n",
       "    </tr>\n",
       "    <tr>\n",
       "      <th>4</th>\n",
       "      <td>56134410709700000</td>\n",
       "      <td>KELDK08</td>\n",
       "      <td>0.0</td>\n",
       "      <td>Primary (some or complete)</td>\n",
       "      <td>8.0</td>\n",
       "      <td>0.0</td>\n",
       "      <td>NaN</td>\n",
       "      <td>NaN</td>\n",
       "      <td>NaN</td>\n",
       "      <td>0.0</td>\n",
       "      <td>NaN</td>\n",
       "      <td>5.0</td>\n",
       "    </tr>\n",
       "  </tbody>\n",
       "</table>\n",
       "</div>"
      ],
      "text/plain": [
       "               m_ids   hh_ids  edu_i_enrolled                  edu_i_attain  \\\n",
       "0  56134390476100000  KELDK01             0.0    Primary (some or complete)   \n",
       "1  56134390654900000  KELDK01             0.0  Secondary (some or complete)   \n",
       "2  56134389503000000  KELDK02             0.0    Primary (some or complete)   \n",
       "3  56134410699600000  KELDK08             0.0    Primary (some or complete)   \n",
       "4  56134410709700000  KELDK08             0.0    Primary (some or complete)   \n",
       "\n",
       "   edu_i_attain_yrs  edu_hh_child613inschool  edu_hh_child1417inschool  \\\n",
       "0               8.0                      1.0                       NaN   \n",
       "1              10.0                      1.0                       NaN   \n",
       "2               8.0                      NaN                       1.0   \n",
       "3               5.0                      0.0                       NaN   \n",
       "4               8.0                      0.0                       NaN   \n",
       "\n",
       "   edu_hh_girls613inschool  edu_hh_girls1417inschool  edu_hh_boys613inschool  \\\n",
       "0                      1.0                       NaN                     NaN   \n",
       "1                      1.0                       NaN                     NaN   \n",
       "2                      NaN                       1.0                     NaN   \n",
       "3                      NaN                       NaN                     0.0   \n",
       "4                      NaN                       NaN                     0.0   \n",
       "\n",
       "   edu_hh_boys1417inschool  edu_hh_headattain_yrs  \n",
       "0                      NaN                    8.0  \n",
       "1                      NaN                    8.0  \n",
       "2                      NaN                    8.0  \n",
       "3                      NaN                    5.0  \n",
       "4                      NaN                    5.0  "
      ]
     },
     "execution_count": 22,
     "metadata": {},
     "output_type": "execute_result"
    }
   ],
   "source": [
    "edu_hh_ind_merge.head()"
   ]
  },
  {
   "cell_type": "code",
   "execution_count": 23,
   "metadata": {},
   "outputs": [],
   "source": [
    "edu_hh_ind_merge.columns = ['m_ids', 'hh_ids', 'edu_i_enrolled', 'edu_i_attain', 'edu_i_attain_yrs',\n",
    "       'edu_hh_child613inschool', 'edu_hh_child1417inschool',\n",
    "       'edu_hh_girls613inschool', 'edu_hh_girls1417inschool',\n",
    "       'edu_hh_boys613inschool', 'edu_hh_boys1417inschool',\n",
    "       'edu_hh_headattain_yrs']"
   ]
  },
  {
   "cell_type": "code",
   "execution_count": 27,
   "metadata": {},
   "outputs": [
    {
     "data": {
      "text/html": [
       "<div>\n",
       "<style scoped>\n",
       "    .dataframe tbody tr th:only-of-type {\n",
       "        vertical-align: middle;\n",
       "    }\n",
       "\n",
       "    .dataframe tbody tr th {\n",
       "        vertical-align: top;\n",
       "    }\n",
       "\n",
       "    .dataframe thead th {\n",
       "        text-align: right;\n",
       "    }\n",
       "</style>\n",
       "<table border=\"1\" class=\"dataframe\">\n",
       "  <thead>\n",
       "    <tr style=\"text-align: right;\">\n",
       "      <th></th>\n",
       "      <th>edu_i_enrolled</th>\n",
       "      <th>edu_i_attain_yrs</th>\n",
       "      <th>edu_hh_child613inschool</th>\n",
       "      <th>edu_hh_child1417inschool</th>\n",
       "      <th>edu_hh_girls613inschool</th>\n",
       "      <th>edu_hh_girls1417inschool</th>\n",
       "      <th>edu_hh_boys613inschool</th>\n",
       "      <th>edu_hh_boys1417inschool</th>\n",
       "      <th>edu_hh_headattain_yrs</th>\n",
       "    </tr>\n",
       "  </thead>\n",
       "  <tbody>\n",
       "    <tr>\n",
       "      <th>count</th>\n",
       "      <td>666.000000</td>\n",
       "      <td>648.000000</td>\n",
       "      <td>482.000000</td>\n",
       "      <td>361.000000</td>\n",
       "      <td>317.000000</td>\n",
       "      <td>240.000000</td>\n",
       "      <td>341.000000</td>\n",
       "      <td>189.000000</td>\n",
       "      <td>656.000000</td>\n",
       "    </tr>\n",
       "    <tr>\n",
       "      <th>mean</th>\n",
       "      <td>0.166667</td>\n",
       "      <td>7.663580</td>\n",
       "      <td>0.868845</td>\n",
       "      <td>0.942752</td>\n",
       "      <td>0.854364</td>\n",
       "      <td>0.930556</td>\n",
       "      <td>0.852151</td>\n",
       "      <td>0.957672</td>\n",
       "      <td>8.045732</td>\n",
       "    </tr>\n",
       "    <tr>\n",
       "      <th>std</th>\n",
       "      <td>0.372958</td>\n",
       "      <td>3.808934</td>\n",
       "      <td>0.271275</td>\n",
       "      <td>0.212533</td>\n",
       "      <td>0.313625</td>\n",
       "      <td>0.242587</td>\n",
       "      <td>0.321595</td>\n",
       "      <td>0.201871</td>\n",
       "      <td>3.434141</td>\n",
       "    </tr>\n",
       "    <tr>\n",
       "      <th>min</th>\n",
       "      <td>0.000000</td>\n",
       "      <td>0.000000</td>\n",
       "      <td>0.000000</td>\n",
       "      <td>0.000000</td>\n",
       "      <td>0.000000</td>\n",
       "      <td>0.000000</td>\n",
       "      <td>0.000000</td>\n",
       "      <td>0.000000</td>\n",
       "      <td>0.000000</td>\n",
       "    </tr>\n",
       "    <tr>\n",
       "      <th>25%</th>\n",
       "      <td>0.000000</td>\n",
       "      <td>6.000000</td>\n",
       "      <td>1.000000</td>\n",
       "      <td>1.000000</td>\n",
       "      <td>1.000000</td>\n",
       "      <td>1.000000</td>\n",
       "      <td>1.000000</td>\n",
       "      <td>1.000000</td>\n",
       "      <td>6.000000</td>\n",
       "    </tr>\n",
       "    <tr>\n",
       "      <th>50%</th>\n",
       "      <td>0.000000</td>\n",
       "      <td>8.000000</td>\n",
       "      <td>1.000000</td>\n",
       "      <td>1.000000</td>\n",
       "      <td>1.000000</td>\n",
       "      <td>1.000000</td>\n",
       "      <td>1.000000</td>\n",
       "      <td>1.000000</td>\n",
       "      <td>8.000000</td>\n",
       "    </tr>\n",
       "    <tr>\n",
       "      <th>75%</th>\n",
       "      <td>0.000000</td>\n",
       "      <td>11.000000</td>\n",
       "      <td>1.000000</td>\n",
       "      <td>1.000000</td>\n",
       "      <td>1.000000</td>\n",
       "      <td>1.000000</td>\n",
       "      <td>1.000000</td>\n",
       "      <td>1.000000</td>\n",
       "      <td>11.250000</td>\n",
       "    </tr>\n",
       "    <tr>\n",
       "      <th>max</th>\n",
       "      <td>1.000000</td>\n",
       "      <td>15.000000</td>\n",
       "      <td>1.000000</td>\n",
       "      <td>1.000000</td>\n",
       "      <td>1.000000</td>\n",
       "      <td>1.000000</td>\n",
       "      <td>1.000000</td>\n",
       "      <td>1.000000</td>\n",
       "      <td>15.000000</td>\n",
       "    </tr>\n",
       "  </tbody>\n",
       "</table>\n",
       "</div>"
      ],
      "text/plain": [
       "       edu_i_enrolled  edu_i_attain_yrs  edu_hh_child613inschool  \\\n",
       "count      666.000000        648.000000               482.000000   \n",
       "mean         0.166667          7.663580                 0.868845   \n",
       "std          0.372958          3.808934                 0.271275   \n",
       "min          0.000000          0.000000                 0.000000   \n",
       "25%          0.000000          6.000000                 1.000000   \n",
       "50%          0.000000          8.000000                 1.000000   \n",
       "75%          0.000000         11.000000                 1.000000   \n",
       "max          1.000000         15.000000                 1.000000   \n",
       "\n",
       "       edu_hh_child1417inschool  edu_hh_girls613inschool  \\\n",
       "count                361.000000               317.000000   \n",
       "mean                   0.942752                 0.854364   \n",
       "std                    0.212533                 0.313625   \n",
       "min                    0.000000                 0.000000   \n",
       "25%                    1.000000                 1.000000   \n",
       "50%                    1.000000                 1.000000   \n",
       "75%                    1.000000                 1.000000   \n",
       "max                    1.000000                 1.000000   \n",
       "\n",
       "       edu_hh_girls1417inschool  edu_hh_boys613inschool  \\\n",
       "count                240.000000              341.000000   \n",
       "mean                   0.930556                0.852151   \n",
       "std                    0.242587                0.321595   \n",
       "min                    0.000000                0.000000   \n",
       "25%                    1.000000                1.000000   \n",
       "50%                    1.000000                1.000000   \n",
       "75%                    1.000000                1.000000   \n",
       "max                    1.000000                1.000000   \n",
       "\n",
       "       edu_hh_boys1417inschool  edu_hh_headattain_yrs  \n",
       "count               189.000000             656.000000  \n",
       "mean                  0.957672               8.045732  \n",
       "std                   0.201871               3.434141  \n",
       "min                   0.000000               0.000000  \n",
       "25%                   1.000000               6.000000  \n",
       "50%                   1.000000               8.000000  \n",
       "75%                   1.000000              11.250000  \n",
       "max                   1.000000              15.000000  "
      ]
     },
     "execution_count": 27,
     "metadata": {},
     "output_type": "execute_result"
    }
   ],
   "source": [
    "edu_hh_ind_merge.describe()"
   ]
  },
  {
   "cell_type": "code",
   "execution_count": 34,
   "metadata": {},
   "outputs": [
    {
     "name": "stdout",
     "output_type": "stream",
     "text": [
      "edu_i_enrolled\n",
      "0.0    555\n",
      "1.0    111\n",
      "Name: edu_i_enrolled, dtype: int64\n",
      "edu_i_attain\n",
      "Primary (some or complete)           349\n",
      "Secondary (some or complete)         197\n",
      "Post-secondary (some or complete)     43\n",
      "No education                          41\n",
      "Nursery/ Kindergarten                 24\n",
      "Name: edu_i_attain, dtype: int64\n",
      "edu_i_attain_yrs\n",
      "8.0     160\n",
      "12.0    108\n",
      "0.0      63\n",
      "7.0      62\n",
      "10.0     47\n",
      "13.0     40\n",
      "6.0      29\n",
      "5.0      29\n",
      "4.0      25\n",
      "11.0     24\n",
      "2.0      20\n",
      "3.0      19\n",
      "9.0      17\n",
      "1.0       3\n",
      "15.0      2\n",
      "Name: edu_i_attain_yrs, dtype: int64\n",
      "edu_hh_child613inschool\n",
      "1.000000    363\n",
      "0.666667     59\n",
      "0.000000     32\n",
      "0.500000     17\n",
      "0.750000      9\n",
      "0.600000      2\n",
      "Name: edu_hh_child613inschool, dtype: int64\n",
      "edu_hh_child1417inschool\n",
      "1.000000    333\n",
      "0.000000     14\n",
      "0.666667      6\n",
      "0.333333      4\n",
      "0.500000      4\n",
      "Name: edu_hh_child1417inschool, dtype: int64\n",
      "edu_hh_girls613inschool\n",
      "1.000000    253\n",
      "0.000000     30\n",
      "0.500000     29\n",
      "0.666667      5\n",
      "Name: edu_hh_girls613inschool, dtype: int64\n",
      "edu_hh_girls1417inschool\n",
      "1.000000    220\n",
      "0.000000     14\n",
      "0.500000      4\n",
      "0.666667      2\n",
      "Name: edu_hh_girls1417inschool, dtype: int64\n",
      "edu_hh_boys613inschool\n",
      "1.000000    269\n",
      "0.000000     37\n",
      "0.500000     17\n",
      "0.750000     13\n",
      "0.666667      5\n",
      "Name: edu_hh_boys613inschool, dtype: int64\n",
      "edu_hh_boys1417inschool\n",
      "1.0    181\n",
      "0.0      8\n",
      "Name: edu_hh_boys1417inschool, dtype: int64\n",
      "edu_hh_headattain_yrs\n",
      "8.0     144\n",
      "12.0    131\n",
      "7.0      79\n",
      "10.0     52\n",
      "4.0      50\n",
      "6.0      34\n",
      "0.0      31\n",
      "13.0     30\n",
      "5.0      26\n",
      "11.0     25\n",
      "9.0      17\n",
      "3.0      17\n",
      "2.0      16\n",
      "15.0      3\n",
      "1.0       1\n",
      "Name: edu_hh_headattain_yrs, dtype: int64\n"
     ]
    }
   ],
   "source": [
    "for col in list(edu_hh_ind_merge.columns)[2:]: \n",
    "    print(col)\n",
    "    print(edu_hh_ind_merge[col].value_counts())"
   ]
  },
  {
   "cell_type": "code",
   "execution_count": 20,
   "metadata": {},
   "outputs": [],
   "source": [
    "# os.makedirs('data_ind', exist_ok = True)"
   ]
  },
  {
   "cell_type": "code",
   "execution_count": 21,
   "metadata": {},
   "outputs": [],
   "source": [
    "edu_hh_ind_merge.to_csv('edu_hh_ind_merge.csv')"
   ]
  },
  {
   "cell_type": "code",
   "execution_count": null,
   "metadata": {},
   "outputs": [],
   "source": []
  }
 ],
 "metadata": {
  "kernelspec": {
   "display_name": "Python 3",
   "language": "python",
   "name": "python3"
  },
  "language_info": {
   "codemirror_mode": {
    "name": "ipython",
    "version": 3
   },
   "file_extension": ".py",
   "mimetype": "text/x-python",
   "name": "python",
   "nbconvert_exporter": "python",
   "pygments_lexer": "ipython3",
   "version": "3.6.4"
  }
 },
 "nbformat": 4,
 "nbformat_minor": 2
}
