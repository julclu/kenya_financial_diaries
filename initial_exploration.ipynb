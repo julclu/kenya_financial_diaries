{
 "cells": [
  {
   "cell_type": "markdown",
   "metadata": {},
   "source": [
    "# Initial data explorations"
   ]
  },
  {
   "cell_type": "markdown",
   "metadata": {},
   "source": [
    "In this notebook, I want to explore the variables to try and determine a suitable outcome for prediction, whether it be for going into debt or predicting loan repayment"
   ]
  },
  {
   "cell_type": "code",
   "execution_count": 11,
   "metadata": {},
   "outputs": [],
   "source": [
    "import os\n",
    "import glob\n",
    "import pandas as pd \n",
    "\n",
    "# sci python and visualization\n",
    "import matplotlib.pyplot as plt\n",
    "import seaborn as sns\n",
    "plt.style.use('ggplot')\n",
    "%matplotlib inline\n",
    "from sklearn.preprocessing import StandardScaler"
   ]
  },
  {
   "cell_type": "code",
   "execution_count": 2,
   "metadata": {},
   "outputs": [
    {
     "data": {
      "text/plain": [
       "['info.pdf',\n",
       " 'initial_exploration.ipynb',\n",
       " 'diaries_transactions_all.csv',\n",
       " 'README.md',\n",
       " '.gitignore',\n",
       " '.ipynb_checkpoints',\n",
       " '.git']"
      ]
     },
     "execution_count": 2,
     "metadata": {},
     "output_type": "execute_result"
    }
   ],
   "source": [
    "os.listdir()"
   ]
  },
  {
   "cell_type": "code",
   "execution_count": 3,
   "metadata": {},
   "outputs": [],
   "source": [
    "data = pd.read_csv('diaries_transactions_all.csv', low_memory = False)"
   ]
  },
  {
   "cell_type": "code",
   "execution_count": 4,
   "metadata": {},
   "outputs": [
    {
     "name": "stdout",
     "output_type": "stream",
     "text": [
      "Index(['hh_ids', 'unique_hhs', 'first_trx_date_hh', 'last_trx_date_hh',\n",
      "       'tot_hh_daysofobs', 'tot_hh_monthsofobs', 'interview_designation',\n",
      "       'int_date', 'int_month', 'int_year', 'int_yr_mo', 'first_int_date',\n",
      "       'account_ids', 'unique_accnts', 'm_ids_owner', 'unique_hm_owner',\n",
      "       'account_bsheet_desig', 'account_startclose_balance', 'account_formal',\n",
      "       'account_liquid', 'first_trx_date_acc', 'last_trx_date_acc',\n",
      "       'tot_acc_daysofobs', 'tot_acc_monthsofobs', 'trx_id', 'm_ids_trx',\n",
      "       'trx_date', 'trx_month', 'trx_year', 'trx_yr_mo', 'trx_dq_round',\n",
      "       'trx_stdtime_days_hh', 'trx_stdtime_mnths_hh', 'trx_stdtime_days_acc',\n",
      "       'trx_stdtime_mnths_acc', 'trx_class_code', 'trx_class_desc',\n",
      "       'trx_family_code', 'trx_family_desc', 'trx_type_code', 'trx_type_desc',\n",
      "       'trx_prx_purpose', 'trx_prx_purpose_fd', 'trx_fee',\n",
      "       'trx_bsheet_direction', 'trx_mode_code', 'trx_mode_desc',\n",
      "       'trx_place_incommunity', 'trx_distance_km', 'trx_outlet',\n",
      "       'trx_direction', 'trx_value_kes', 'trx_value_usd', 'ddd_gift',\n",
      "       'trx_inkind_units', 'trx_inkind_value_usd', 'trx_inkind_value_kes',\n",
      "       'trx_stdtime_mnths_hh_nr'],\n",
      "      dtype='object')\n"
     ]
    }
   ],
   "source": [
    "column_names = data.columns\n",
    "print(column_names)"
   ]
  },
  {
   "cell_type": "code",
   "execution_count": 5,
   "metadata": {},
   "outputs": [
    {
     "data": {
      "text/plain": [
       "(483949, 58)"
      ]
     },
     "execution_count": 5,
     "metadata": {},
     "output_type": "execute_result"
    }
   ],
   "source": [
    "data.shape"
   ]
  },
  {
   "cell_type": "code",
   "execution_count": 6,
   "metadata": {},
   "outputs": [
    {
     "data": {
      "text/html": [
       "<div>\n",
       "<style scoped>\n",
       "    .dataframe tbody tr th:only-of-type {\n",
       "        vertical-align: middle;\n",
       "    }\n",
       "\n",
       "    .dataframe tbody tr th {\n",
       "        vertical-align: top;\n",
       "    }\n",
       "\n",
       "    .dataframe thead th {\n",
       "        text-align: right;\n",
       "    }\n",
       "</style>\n",
       "<table border=\"1\" class=\"dataframe\">\n",
       "  <thead>\n",
       "    <tr style=\"text-align: right;\">\n",
       "      <th></th>\n",
       "      <th>hh_ids</th>\n",
       "      <th>unique_hhs</th>\n",
       "      <th>first_trx_date_hh</th>\n",
       "      <th>last_trx_date_hh</th>\n",
       "      <th>tot_hh_daysofobs</th>\n",
       "      <th>tot_hh_monthsofobs</th>\n",
       "      <th>interview_designation</th>\n",
       "      <th>int_date</th>\n",
       "      <th>int_month</th>\n",
       "      <th>int_year</th>\n",
       "      <th>...</th>\n",
       "      <th>trx_distance_km</th>\n",
       "      <th>trx_outlet</th>\n",
       "      <th>trx_direction</th>\n",
       "      <th>trx_value_kes</th>\n",
       "      <th>trx_value_usd</th>\n",
       "      <th>ddd_gift</th>\n",
       "      <th>trx_inkind_units</th>\n",
       "      <th>trx_inkind_value_usd</th>\n",
       "      <th>trx_inkind_value_kes</th>\n",
       "      <th>trx_stdtime_mnths_hh_nr</th>\n",
       "    </tr>\n",
       "  </thead>\n",
       "  <tbody>\n",
       "    <tr>\n",
       "      <th>0</th>\n",
       "      <td>KELDL02</td>\n",
       "      <td>NaN</td>\n",
       "      <td>03sep2012</td>\n",
       "      <td>02oct2013</td>\n",
       "      <td>394</td>\n",
       "      <td>13</td>\n",
       "      <td>04=Diaries Interview</td>\n",
       "      <td>02oct2013</td>\n",
       "      <td>10</td>\n",
       "      <td>2013</td>\n",
       "      <td>...</td>\n",
       "      <td>NaN</td>\n",
       "      <td>NaN</td>\n",
       "      <td>NaN</td>\n",
       "      <td>0.0</td>\n",
       "      <td>0.000000</td>\n",
       "      <td>0</td>\n",
       "      <td>NaN</td>\n",
       "      <td>NaN</td>\n",
       "      <td>NaN</td>\n",
       "      <td>13.586210</td>\n",
       "    </tr>\n",
       "    <tr>\n",
       "      <th>1</th>\n",
       "      <td>KVIHC16</td>\n",
       "      <td>NaN</td>\n",
       "      <td>24sep2012</td>\n",
       "      <td>19sep2013</td>\n",
       "      <td>360</td>\n",
       "      <td>12</td>\n",
       "      <td>04=Diaries Interview</td>\n",
       "      <td>22apr2013</td>\n",
       "      <td>4</td>\n",
       "      <td>2013</td>\n",
       "      <td>...</td>\n",
       "      <td>NaN</td>\n",
       "      <td>NaN</td>\n",
       "      <td>Outflow</td>\n",
       "      <td>100.0</td>\n",
       "      <td>1.176471</td>\n",
       "      <td>0</td>\n",
       "      <td>NaN</td>\n",
       "      <td>NaN</td>\n",
       "      <td>NaN</td>\n",
       "      <td>7.206897</td>\n",
       "    </tr>\n",
       "    <tr>\n",
       "      <th>2</th>\n",
       "      <td>KELDK21</td>\n",
       "      <td>NaN</td>\n",
       "      <td>20sep2012</td>\n",
       "      <td>22oct2013</td>\n",
       "      <td>397</td>\n",
       "      <td>13</td>\n",
       "      <td>04=Diaries Interview</td>\n",
       "      <td>02oct2013</td>\n",
       "      <td>10</td>\n",
       "      <td>2013</td>\n",
       "      <td>...</td>\n",
       "      <td>NaN</td>\n",
       "      <td>NaN</td>\n",
       "      <td>NaN</td>\n",
       "      <td>0.0</td>\n",
       "      <td>0.000000</td>\n",
       "      <td>0</td>\n",
       "      <td>NaN</td>\n",
       "      <td>NaN</td>\n",
       "      <td>NaN</td>\n",
       "      <td>13.000000</td>\n",
       "    </tr>\n",
       "    <tr>\n",
       "      <th>3</th>\n",
       "      <td>KMOMT22</td>\n",
       "      <td>NaN</td>\n",
       "      <td>21sep2012</td>\n",
       "      <td>01nov2013</td>\n",
       "      <td>406</td>\n",
       "      <td>14</td>\n",
       "      <td>04=Diaries Interview</td>\n",
       "      <td>21feb2013</td>\n",
       "      <td>2</td>\n",
       "      <td>2013</td>\n",
       "      <td>...</td>\n",
       "      <td>NaN</td>\n",
       "      <td>NaN</td>\n",
       "      <td>Inflow</td>\n",
       "      <td>710.0</td>\n",
       "      <td>8.352942</td>\n",
       "      <td>0</td>\n",
       "      <td>NaN</td>\n",
       "      <td>NaN</td>\n",
       "      <td>NaN</td>\n",
       "      <td>4.793103</td>\n",
       "    </tr>\n",
       "    <tr>\n",
       "      <th>4</th>\n",
       "      <td>KMOMT32</td>\n",
       "      <td>NaN</td>\n",
       "      <td>20sep2012</td>\n",
       "      <td>18oct2013</td>\n",
       "      <td>393</td>\n",
       "      <td>13</td>\n",
       "      <td>04=Diaries Interview</td>\n",
       "      <td>02may2013</td>\n",
       "      <td>5</td>\n",
       "      <td>2013</td>\n",
       "      <td>...</td>\n",
       "      <td>NaN</td>\n",
       "      <td>NaN</td>\n",
       "      <td>Outflow</td>\n",
       "      <td>100.0</td>\n",
       "      <td>1.176471</td>\n",
       "      <td>0</td>\n",
       "      <td>NaN</td>\n",
       "      <td>NaN</td>\n",
       "      <td>NaN</td>\n",
       "      <td>6.517241</td>\n",
       "    </tr>\n",
       "  </tbody>\n",
       "</table>\n",
       "<p>5 rows × 58 columns</p>\n",
       "</div>"
      ],
      "text/plain": [
       "    hh_ids  unique_hhs first_trx_date_hh last_trx_date_hh  tot_hh_daysofobs  \\\n",
       "0  KELDL02         NaN         03sep2012        02oct2013               394   \n",
       "1  KVIHC16         NaN         24sep2012        19sep2013               360   \n",
       "2  KELDK21         NaN         20sep2012        22oct2013               397   \n",
       "3  KMOMT22         NaN         21sep2012        01nov2013               406   \n",
       "4  KMOMT32         NaN         20sep2012        18oct2013               393   \n",
       "\n",
       "   tot_hh_monthsofobs interview_designation   int_date  int_month  int_year  \\\n",
       "0                  13  04=Diaries Interview  02oct2013         10      2013   \n",
       "1                  12  04=Diaries Interview  22apr2013          4      2013   \n",
       "2                  13  04=Diaries Interview  02oct2013         10      2013   \n",
       "3                  14  04=Diaries Interview  21feb2013          2      2013   \n",
       "4                  13  04=Diaries Interview  02may2013          5      2013   \n",
       "\n",
       "            ...           trx_distance_km trx_outlet trx_direction  \\\n",
       "0           ...                       NaN        NaN           NaN   \n",
       "1           ...                       NaN        NaN       Outflow   \n",
       "2           ...                       NaN        NaN           NaN   \n",
       "3           ...                       NaN        NaN        Inflow   \n",
       "4           ...                       NaN        NaN       Outflow   \n",
       "\n",
       "   trx_value_kes trx_value_usd  ddd_gift trx_inkind_units  \\\n",
       "0            0.0      0.000000         0              NaN   \n",
       "1          100.0      1.176471         0              NaN   \n",
       "2            0.0      0.000000         0              NaN   \n",
       "3          710.0      8.352942         0              NaN   \n",
       "4          100.0      1.176471         0              NaN   \n",
       "\n",
       "  trx_inkind_value_usd trx_inkind_value_kes trx_stdtime_mnths_hh_nr  \n",
       "0                  NaN                  NaN               13.586210  \n",
       "1                  NaN                  NaN                7.206897  \n",
       "2                  NaN                  NaN               13.000000  \n",
       "3                  NaN                  NaN                4.793103  \n",
       "4                  NaN                  NaN                6.517241  \n",
       "\n",
       "[5 rows x 58 columns]"
      ]
     },
     "execution_count": 6,
     "metadata": {},
     "output_type": "execute_result"
    }
   ],
   "source": [
    "data.head()"
   ]
  },
  {
   "cell_type": "code",
   "execution_count": 7,
   "metadata": {},
   "outputs": [
    {
     "data": {
      "text/plain": [
       "True     483651\n",
       "False       298\n",
       "Name: unique_hhs, dtype: int64"
      ]
     },
     "execution_count": 7,
     "metadata": {},
     "output_type": "execute_result"
    }
   ],
   "source": [
    "data[\"unique_hhs\"].isnull().value_counts()"
   ]
  },
  {
   "cell_type": "markdown",
   "metadata": {},
   "source": [
    "## Getting a sense for how many missing values there are in this data: "
   ]
  },
  {
   "cell_type": "code",
   "execution_count": 9,
   "metadata": {},
   "outputs": [
    {
     "name": "stdout",
     "output_type": "stream",
     "text": [
      "===========================\n",
      "False    483949\n",
      "Name: hh_ids, dtype: int64\n",
      "===========================\n",
      "True     483651\n",
      "False       298\n",
      "Name: unique_hhs, dtype: int64\n",
      "===========================\n",
      "False    483949\n",
      "Name: first_trx_date_hh, dtype: int64\n",
      "===========================\n",
      "False    483949\n",
      "Name: last_trx_date_hh, dtype: int64\n",
      "===========================\n",
      "False    483949\n",
      "Name: tot_hh_daysofobs, dtype: int64\n",
      "===========================\n",
      "False    483949\n",
      "Name: tot_hh_monthsofobs, dtype: int64\n",
      "===========================\n",
      "False    483681\n",
      "True        268\n",
      "Name: interview_designation, dtype: int64\n",
      "===========================\n",
      "False    483949\n",
      "Name: int_date, dtype: int64\n",
      "===========================\n",
      "False    483949\n",
      "Name: int_month, dtype: int64\n",
      "===========================\n",
      "False    483949\n",
      "Name: int_year, dtype: int64\n",
      "===========================\n",
      "False    483949\n",
      "Name: int_yr_mo, dtype: int64\n",
      "===========================\n",
      "False    483949\n",
      "Name: first_int_date, dtype: int64\n",
      "===========================\n",
      "False    483949\n",
      "Name: account_ids, dtype: int64\n",
      "===========================\n",
      "True     474403\n",
      "False      9546\n",
      "Name: unique_accnts, dtype: int64\n",
      "===========================\n",
      "False    483949\n",
      "Name: m_ids_owner, dtype: int64\n",
      "===========================\n",
      "True     483279\n",
      "False       670\n",
      "Name: unique_hm_owner, dtype: int64\n",
      "===========================\n",
      "True     406879\n",
      "False     77070\n",
      "Name: account_bsheet_desig, dtype: int64\n",
      "===========================\n",
      "True     477007\n",
      "False      6942\n",
      "Name: account_startclose_balance, dtype: int64\n",
      "===========================\n",
      "True     406879\n",
      "False     77070\n",
      "Name: account_formal, dtype: int64\n",
      "===========================\n",
      "True     434028\n",
      "False     49921\n",
      "Name: account_liquid, dtype: int64\n",
      "===========================\n",
      "False    483949\n",
      "Name: first_trx_date_acc, dtype: int64\n",
      "===========================\n",
      "False    483949\n",
      "Name: last_trx_date_acc, dtype: int64\n",
      "===========================\n",
      "False    483949\n",
      "Name: tot_acc_daysofobs, dtype: int64\n",
      "===========================\n",
      "False    483949\n",
      "Name: tot_acc_monthsofobs, dtype: int64\n",
      "===========================\n",
      "False    483949\n",
      "Name: trx_id, dtype: int64\n",
      "===========================\n",
      "False    483949\n",
      "Name: m_ids_trx, dtype: int64\n",
      "===========================\n",
      "False    483949\n",
      "Name: trx_date, dtype: int64\n",
      "===========================\n",
      "False    483949\n",
      "Name: trx_month, dtype: int64\n",
      "===========================\n",
      "False    483949\n",
      "Name: trx_year, dtype: int64\n",
      "===========================\n",
      "False    483949\n",
      "Name: trx_yr_mo, dtype: int64\n",
      "===========================\n",
      "False    482647\n",
      "True       1302\n",
      "Name: trx_dq_round, dtype: int64\n",
      "===========================\n",
      "False    483949\n",
      "Name: trx_stdtime_days_hh, dtype: int64\n",
      "===========================\n",
      "False    483949\n",
      "Name: trx_stdtime_mnths_hh, dtype: int64\n",
      "===========================\n",
      "False    483949\n",
      "Name: trx_stdtime_days_acc, dtype: int64\n",
      "===========================\n",
      "False    483949\n",
      "Name: trx_stdtime_mnths_acc, dtype: int64\n",
      "===========================\n",
      "False    483949\n",
      "Name: trx_class_code, dtype: int64\n",
      "===========================\n",
      "False    483949\n",
      "Name: trx_class_desc, dtype: int64\n",
      "===========================\n",
      "False    483949\n",
      "Name: trx_family_code, dtype: int64\n",
      "===========================\n",
      "False    483949\n",
      "Name: trx_family_desc, dtype: int64\n",
      "===========================\n",
      "False    483949\n",
      "Name: trx_type_code, dtype: int64\n",
      "===========================\n",
      "False    483949\n",
      "Name: trx_type_desc, dtype: int64\n",
      "===========================\n",
      "False    483949\n",
      "Name: trx_prx_purpose, dtype: int64\n",
      "===========================\n",
      "True     423999\n",
      "False     59950\n",
      "Name: trx_prx_purpose_fd, dtype: int64\n",
      "===========================\n",
      "True     406879\n",
      "False     77070\n",
      "Name: trx_fee, dtype: int64\n",
      "===========================\n",
      "True     412753\n",
      "False     71196\n",
      "Name: trx_bsheet_direction, dtype: int64\n",
      "===========================\n",
      "False    476292\n",
      "True       7657\n",
      "Name: trx_mode_code, dtype: int64\n",
      "===========================\n",
      "False    476292\n",
      "True       7657\n",
      "Name: trx_mode_desc, dtype: int64\n",
      "===========================\n",
      "False    457703\n",
      "True      26246\n",
      "Name: trx_place_incommunity, dtype: int64\n",
      "===========================\n",
      "False    457498\n",
      "True      26451\n",
      "Name: trx_distance_km, dtype: int64\n",
      "===========================\n",
      "False    336063\n",
      "True     147886\n",
      "Name: trx_outlet, dtype: int64\n",
      "===========================\n",
      "False    469037\n",
      "True      14912\n",
      "Name: trx_direction, dtype: int64\n",
      "===========================\n",
      "False    483430\n",
      "True        519\n",
      "Name: trx_value_kes, dtype: int64\n",
      "===========================\n",
      "False    483430\n",
      "True        519\n",
      "Name: trx_value_usd, dtype: int64\n",
      "===========================\n",
      "False    483949\n",
      "Name: ddd_gift, dtype: int64\n",
      "===========================\n",
      "True     470525\n",
      "False     13424\n",
      "Name: trx_inkind_units, dtype: int64\n",
      "===========================\n",
      "True     471151\n",
      "False     12798\n",
      "Name: trx_inkind_value_usd, dtype: int64\n",
      "===========================\n",
      "True     471151\n",
      "False     12798\n",
      "Name: trx_inkind_value_kes, dtype: int64\n",
      "===========================\n",
      "False    483949\n",
      "Name: trx_stdtime_mnths_hh_nr, dtype: int64\n"
     ]
    }
   ],
   "source": [
    "for col in column_names: \n",
    "    print('===========================')\n",
    "    print(data[col].isnull().value_counts())"
   ]
  },
  {
   "cell_type": "markdown",
   "metadata": {},
   "source": [
    "## Looking at the variables: "
   ]
  },
  {
   "cell_type": "code",
   "execution_count": 18,
   "metadata": {},
   "outputs": [
    {
     "data": {
      "text/plain": [
       "58"
      ]
     },
     "execution_count": 18,
     "metadata": {},
     "output_type": "execute_result"
    }
   ],
   "source": [
    "len(column_names)"
   ]
  },
  {
   "cell_type": "code",
   "execution_count": 19,
   "metadata": {},
   "outputs": [
    {
     "data": {
      "text/plain": [
       "Index(['hh_ids', 'unique_hhs', 'first_trx_date_hh', 'last_trx_date_hh',\n",
       "       'tot_hh_daysofobs', 'tot_hh_monthsofobs', 'interview_designation',\n",
       "       'int_date', 'int_month', 'int_year', 'int_yr_mo', 'first_int_date',\n",
       "       'account_ids', 'unique_accnts', 'm_ids_owner', 'unique_hm_owner',\n",
       "       'account_bsheet_desig', 'account_startclose_balance', 'account_formal',\n",
       "       'account_liquid', 'first_trx_date_acc', 'last_trx_date_acc',\n",
       "       'tot_acc_daysofobs', 'tot_acc_monthsofobs', 'trx_id', 'm_ids_trx',\n",
       "       'trx_date', 'trx_month', 'trx_year'],\n",
       "      dtype='object')"
      ]
     },
     "execution_count": 19,
     "metadata": {},
     "output_type": "execute_result"
    }
   ],
   "source": [
    "column_names[0:29]"
   ]
  },
  {
   "cell_type": "code",
   "execution_count": 20,
   "metadata": {},
   "outputs": [
    {
     "data": {
      "text/plain": [
       "array([[<matplotlib.axes._subplots.AxesSubplot object at 0x112bd6cc0>,\n",
       "        <matplotlib.axes._subplots.AxesSubplot object at 0x112c04cf8>,\n",
       "        <matplotlib.axes._subplots.AxesSubplot object at 0x112d2ad68>],\n",
       "       [<matplotlib.axes._subplots.AxesSubplot object at 0x112d63f28>,\n",
       "        <matplotlib.axes._subplots.AxesSubplot object at 0x112da9048>,\n",
       "        <matplotlib.axes._subplots.AxesSubplot object at 0x112da9080>],\n",
       "       [<matplotlib.axes._subplots.AxesSubplot object at 0x112e07f98>,\n",
       "        <matplotlib.axes._subplots.AxesSubplot object at 0x112e4b0b8>,\n",
       "        <matplotlib.axes._subplots.AxesSubplot object at 0x112e83278>],\n",
       "       [<matplotlib.axes._subplots.AxesSubplot object at 0x112e995f8>,\n",
       "        <matplotlib.axes._subplots.AxesSubplot object at 0x112ee3c18>,\n",
       "        <matplotlib.axes._subplots.AxesSubplot object at 0x1135ae208>]],\n",
       "      dtype=object)"
      ]
     },
     "execution_count": 20,
     "metadata": {},
     "output_type": "execute_result"
    },
    {
     "data": {
      "image/png": "[encoded data removed]",
      "text/plain": [
       "<matplotlib.figure.Figure at 0x112b9a198>"
      ]
     },
     "metadata": {},
     "output_type": "display_data"
    }
   ],
   "source": [
    "data[['hh_ids', 'unique_hhs', 'first_trx_date_hh', 'last_trx_date_hh',\n",
    "       'tot_hh_daysofobs', 'tot_hh_monthsofobs', 'interview_designation',\n",
    "       'int_date', 'int_month', 'int_year', 'int_yr_mo', 'first_int_date',\n",
    "       'account_ids', 'unique_accnts', 'm_ids_owner', 'unique_hm_owner',\n",
    "       'account_bsheet_desig', 'account_startclose_balance', 'account_formal',\n",
    "       'account_liquid', 'first_trx_date_acc', 'last_trx_date_acc',\n",
    "       'tot_acc_daysofobs', 'tot_acc_monthsofobs', 'trx_id', 'm_ids_trx',\n",
    "       'trx_date', 'trx_month', 'trx_year']].hist(figsize=(8, 8))"
   ]
  },
  {
   "cell_type": "code",
   "execution_count": 21,
   "metadata": {},
   "outputs": [
    {
     "data": {
      "text/plain": [
       "Index(['trx_yr_mo', 'trx_dq_round', 'trx_stdtime_days_hh',\n",
       "       'trx_stdtime_mnths_hh', 'trx_stdtime_days_acc', 'trx_stdtime_mnths_acc',\n",
       "       'trx_class_code', 'trx_class_desc', 'trx_family_code',\n",
       "       'trx_family_desc', 'trx_type_code', 'trx_type_desc', 'trx_prx_purpose',\n",
       "       'trx_prx_purpose_fd', 'trx_fee', 'trx_bsheet_direction',\n",
       "       'trx_mode_code', 'trx_mode_desc', 'trx_place_incommunity',\n",
       "       'trx_distance_km', 'trx_outlet', 'trx_direction', 'trx_value_kes',\n",
       "       'trx_value_usd', 'ddd_gift', 'trx_inkind_units', 'trx_inkind_value_usd',\n",
       "       'trx_inkind_value_kes', 'trx_stdtime_mnths_hh_nr'],\n",
       "      dtype='object')"
      ]
     },
     "execution_count": 21,
     "metadata": {},
     "output_type": "execute_result"
    }
   ],
   "source": [
    "column_names[29:59]"
   ]
  },
  {
   "cell_type": "code",
   "execution_count": 22,
   "metadata": {},
   "outputs": [
    {
     "data": {
      "text/plain": [
       "array([[<matplotlib.axes._subplots.AxesSubplot object at 0x11511a898>,\n",
       "        <matplotlib.axes._subplots.AxesSubplot object at 0x11409eeb8>,\n",
       "        <matplotlib.axes._subplots.AxesSubplot object at 0x114631898>,\n",
       "        <matplotlib.axes._subplots.AxesSubplot object at 0x11465d978>],\n",
       "       [<matplotlib.axes._subplots.AxesSubplot object at 0x114691f98>,\n",
       "        <matplotlib.axes._subplots.AxesSubplot object at 0x114691fd0>,\n",
       "        <matplotlib.axes._subplots.AxesSubplot object at 0x1147055f8>,\n",
       "        <matplotlib.axes._subplots.AxesSubplot object at 0x11473c6d8>],\n",
       "       [<matplotlib.axes._subplots.AxesSubplot object at 0x114774cf8>,\n",
       "        <matplotlib.axes._subplots.AxesSubplot object at 0x11477f978>,\n",
       "        <matplotlib.axes._subplots.AxesSubplot object at 0x1147e24a8>,\n",
       "        <matplotlib.axes._subplots.AxesSubplot object at 0x11481c588>],\n",
       "       [<matplotlib.axes._subplots.AxesSubplot object at 0x114854ba8>,\n",
       "        <matplotlib.axes._subplots.AxesSubplot object at 0x115223c88>,\n",
       "        <matplotlib.axes._subplots.AxesSubplot object at 0x11b521208>,\n",
       "        <matplotlib.axes._subplots.AxesSubplot object at 0x11b55b208>]],\n",
       "      dtype=object)"
      ]
     },
     "execution_count": 22,
     "metadata": {},
     "output_type": "execute_result"
    },
    {
     "data": {
      "image/png": "[encoded data removed]",
      "text/plain": [
       "<matplotlib.figure.Figure at 0x1144af9b0>"
      ]
     },
     "metadata": {},
     "output_type": "display_data"
    }
   ],
   "source": [
    "data[['trx_yr_mo', 'trx_dq_round', 'trx_stdtime_days_hh',\n",
    "       'trx_stdtime_mnths_hh', 'trx_stdtime_days_acc', 'trx_stdtime_mnths_acc',\n",
    "       'trx_class_code', 'trx_class_desc', 'trx_family_code',\n",
    "       'trx_family_desc', 'trx_type_code', 'trx_type_desc', 'trx_prx_purpose',\n",
    "       'trx_prx_purpose_fd', 'trx_fee', 'trx_bsheet_direction',\n",
    "       'trx_mode_code', 'trx_mode_desc', 'trx_place_incommunity',\n",
    "       'trx_distance_km', 'trx_outlet', 'trx_direction', 'trx_value_kes',\n",
    "       'trx_value_usd', 'ddd_gift', 'trx_inkind_units', 'trx_inkind_value_usd',\n",
    "       'trx_inkind_value_kes', 'trx_stdtime_mnths_hh_nr']].hist(figsize=(8, 8))"
   ]
  },
  {
   "cell_type": "code",
   "execution_count": null,
   "metadata": {},
   "outputs": [],
   "source": []
  }
 ],
 "metadata": {
  "kernelspec": {
   "display_name": "Python 3",
   "language": "python",
   "name": "python3"
  },
  "language_info": {
   "codemirror_mode": {
    "name": "ipython",
    "version": 3
   },
   "file_extension": ".py",
   "mimetype": "text/x-python",
   "name": "python",
   "nbconvert_exporter": "python",
   "pygments_lexer": "ipython3",
   "version": "3.6.4"
  }
 },
 "nbformat": 4,
 "nbformat_minor": 2
}
