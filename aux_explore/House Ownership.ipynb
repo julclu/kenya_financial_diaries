{
 "cells": [
  {
   "cell_type": "code",
   "execution_count": 2,
   "metadata": {},
   "outputs": [],
   "source": [
    "import pandas as pd\n",
    "import numpy as np\n",
    "import math as math\n",
    "import matplotlib.pyplot as plt\n",
    "import seaborn as sns\n",
    "%matplotlib inline "
   ]
  },
  {
   "cell_type": "code",
   "execution_count": 3,
   "metadata": {},
   "outputs": [],
   "source": [
    "df = pd.read_csv(\"aux_data/housing_conditions_ownership.csv\")"
   ]
  },
  {
   "cell_type": "code",
   "execution_count": 4,
   "metadata": {
    "scrolled": true
   },
   "outputs": [
    {
     "data": {
      "text/html": [
       "<div>\n",
       "<style scoped>\n",
       "    .dataframe tbody tr th:only-of-type {\n",
       "        vertical-align: middle;\n",
       "    }\n",
       "\n",
       "    .dataframe tbody tr th {\n",
       "        vertical-align: top;\n",
       "    }\n",
       "\n",
       "    .dataframe thead th {\n",
       "        text-align: right;\n",
       "    }\n",
       "</style>\n",
       "<table border=\"1\" class=\"dataframe\">\n",
       "  <thead>\n",
       "    <tr style=\"text-align: right;\">\n",
       "      <th></th>\n",
       "      <th>hh_ids</th>\n",
       "      <th>hh_int_situation</th>\n",
       "      <th>hh_circ_move_why</th>\n",
       "      <th>hh_circ_move_when</th>\n",
       "      <th>hh_circ_problems</th>\n",
       "      <th>hh_inf_wall_material</th>\n",
       "      <th>hh_inf_roof_material</th>\n",
       "      <th>hh_inf_floor_material</th>\n",
       "      <th>hh_inf_cookfuel_source</th>\n",
       "      <th>hh_inf_lighting_source</th>\n",
       "      <th>...</th>\n",
       "      <th>hh_othershamba_N</th>\n",
       "      <th>hh_othershamba1_docu</th>\n",
       "      <th>hh_othershamba1_use</th>\n",
       "      <th>hh_othershamba1_value</th>\n",
       "      <th>hh_othershamba2_docu</th>\n",
       "      <th>hh_othershamba2_use</th>\n",
       "      <th>hh_othershamba2_value</th>\n",
       "      <th>hh_othershamba3_docu</th>\n",
       "      <th>hh_othershamba3_use</th>\n",
       "      <th>hh_othershamba3_value</th>\n",
       "    </tr>\n",
       "  </thead>\n",
       "  <tbody>\n",
       "    <tr>\n",
       "      <th>129</th>\n",
       "      <td>KELDK25</td>\n",
       "      <td>01=Initial questionnaire</td>\n",
       "      <td>16=Goverment displacement (took land, building...</td>\n",
       "      <td>12/1/2001</td>\n",
       "      <td>02=Lack of doors or inability to lock house</td>\n",
       "      <td>Mud/wood</td>\n",
       "      <td>Corrugated iron, mabati</td>\n",
       "      <td>Earth/Cowdung</td>\n",
       "      <td>Purchased firewood</td>\n",
       "      <td>Paraffin</td>\n",
       "      <td>...</td>\n",
       "      <td>NaN</td>\n",
       "      <td>NaN</td>\n",
       "      <td>NaN</td>\n",
       "      <td>NaN</td>\n",
       "      <td>NaN</td>\n",
       "      <td>NaN</td>\n",
       "      <td>NaN</td>\n",
       "      <td>NaN</td>\n",
       "      <td>NaN</td>\n",
       "      <td>NaN</td>\n",
       "    </tr>\n",
       "    <tr>\n",
       "      <th>28</th>\n",
       "      <td>KNBOM19</td>\n",
       "      <td>01=Initial questionnaire</td>\n",
       "      <td>09=Other employment related reason</td>\n",
       "      <td>1/1/1997</td>\n",
       "      <td>01=Leaky roof or ceilling,04=Pests: mice, rats...</td>\n",
       "      <td>Corrugated Iron Sheet</td>\n",
       "      <td>Corrugated iron, mabati</td>\n",
       "      <td>Cement/Concrete/Slab</td>\n",
       "      <td>Gas/LPG</td>\n",
       "      <td>Electricity</td>\n",
       "      <td>...</td>\n",
       "      <td>NaN</td>\n",
       "      <td>NaN</td>\n",
       "      <td>NaN</td>\n",
       "      <td>NaN</td>\n",
       "      <td>NaN</td>\n",
       "      <td>NaN</td>\n",
       "      <td>NaN</td>\n",
       "      <td>NaN</td>\n",
       "      <td>NaN</td>\n",
       "      <td>NaN</td>\n",
       "    </tr>\n",
       "    <tr>\n",
       "      <th>244</th>\n",
       "      <td>KVIHC13</td>\n",
       "      <td>01=Initial questionnaire</td>\n",
       "      <td>03=Started own household</td>\n",
       "      <td>1/1/1991</td>\n",
       "      <td>01=Leaky roof or ceilling,04=Pests: mice, rats...</td>\n",
       "      <td>Mud/wood</td>\n",
       "      <td>Corrugated iron, mabati</td>\n",
       "      <td>Earth/Cowdung</td>\n",
       "      <td>Collected firewood</td>\n",
       "      <td>Paraffin</td>\n",
       "      <td>...</td>\n",
       "      <td>NaN</td>\n",
       "      <td>NaN</td>\n",
       "      <td>NaN</td>\n",
       "      <td>NaN</td>\n",
       "      <td>NaN</td>\n",
       "      <td>NaN</td>\n",
       "      <td>NaN</td>\n",
       "      <td>NaN</td>\n",
       "      <td>NaN</td>\n",
       "      <td>NaN</td>\n",
       "    </tr>\n",
       "    <tr>\n",
       "      <th>100</th>\n",
       "      <td>KMOMM12</td>\n",
       "      <td>01=Initial questionnaire</td>\n",
       "      <td>12=Wanted better neighborhood,14=Wanted lower ...</td>\n",
       "      <td>11/1/2011</td>\n",
       "      <td>01=Leaky roof or ceilling,04=Pests: mice, rats...</td>\n",
       "      <td>Mud/cement</td>\n",
       "      <td>Corrugated iron, mabati</td>\n",
       "      <td>Cement/Concrete/Slab</td>\n",
       "      <td>Charcoal</td>\n",
       "      <td>Electricity</td>\n",
       "      <td>...</td>\n",
       "      <td>0.0</td>\n",
       "      <td>NaN</td>\n",
       "      <td>NaN</td>\n",
       "      <td>NaN</td>\n",
       "      <td>NaN</td>\n",
       "      <td>NaN</td>\n",
       "      <td>NaN</td>\n",
       "      <td>NaN</td>\n",
       "      <td>NaN</td>\n",
       "      <td>NaN</td>\n",
       "    </tr>\n",
       "    <tr>\n",
       "      <th>86</th>\n",
       "      <td>KMOMB06</td>\n",
       "      <td>01=Initial questionnaire</td>\n",
       "      <td>12=Wanted better neighborhood</td>\n",
       "      <td>11/5/2003</td>\n",
       "      <td>01=Leaky roof or ceilling,04=Pests: mice, rats...</td>\n",
       "      <td>Mud/cement</td>\n",
       "      <td>Corrugated iron, mabati</td>\n",
       "      <td>Cement/Concrete/Slab</td>\n",
       "      <td>Charcoal</td>\n",
       "      <td>Electricity</td>\n",
       "      <td>...</td>\n",
       "      <td>1.0</td>\n",
       "      <td>03=Yes, a title deed</td>\n",
       "      <td>02=Used by friends and family,04=Agricultural ...</td>\n",
       "      <td>800000.0</td>\n",
       "      <td>NaN</td>\n",
       "      <td>NaN</td>\n",
       "      <td>NaN</td>\n",
       "      <td>NaN</td>\n",
       "      <td>NaN</td>\n",
       "      <td>NaN</td>\n",
       "    </tr>\n",
       "  </tbody>\n",
       "</table>\n",
       "<p>5 rows × 54 columns</p>\n",
       "</div>"
      ],
      "text/plain": [
       "      hh_ids          hh_int_situation  \\\n",
       "129  KELDK25  01=Initial questionnaire   \n",
       "28   KNBOM19  01=Initial questionnaire   \n",
       "244  KVIHC13  01=Initial questionnaire   \n",
       "100  KMOMM12  01=Initial questionnaire   \n",
       "86   KMOMB06  01=Initial questionnaire   \n",
       "\n",
       "                                      hh_circ_move_why hh_circ_move_when  \\\n",
       "129  16=Goverment displacement (took land, building...         12/1/2001   \n",
       "28                  09=Other employment related reason          1/1/1997   \n",
       "244                           03=Started own household          1/1/1991   \n",
       "100  12=Wanted better neighborhood,14=Wanted lower ...         11/1/2011   \n",
       "86                       12=Wanted better neighborhood         11/5/2003   \n",
       "\n",
       "                                      hh_circ_problems   hh_inf_wall_material  \\\n",
       "129        02=Lack of doors or inability to lock house               Mud/wood   \n",
       "28   01=Leaky roof or ceilling,04=Pests: mice, rats...  Corrugated Iron Sheet   \n",
       "244  01=Leaky roof or ceilling,04=Pests: mice, rats...               Mud/wood   \n",
       "100  01=Leaky roof or ceilling,04=Pests: mice, rats...             Mud/cement   \n",
       "86   01=Leaky roof or ceilling,04=Pests: mice, rats...             Mud/cement   \n",
       "\n",
       "        hh_inf_roof_material hh_inf_floor_material hh_inf_cookfuel_source  \\\n",
       "129  Corrugated iron, mabati         Earth/Cowdung     Purchased firewood   \n",
       "28   Corrugated iron, mabati  Cement/Concrete/Slab                Gas/LPG   \n",
       "244  Corrugated iron, mabati         Earth/Cowdung     Collected firewood   \n",
       "100  Corrugated iron, mabati  Cement/Concrete/Slab               Charcoal   \n",
       "86   Corrugated iron, mabati  Cement/Concrete/Slab               Charcoal   \n",
       "\n",
       "    hh_inf_lighting_source          ...          hh_othershamba_N  \\\n",
       "129               Paraffin          ...                       NaN   \n",
       "28             Electricity          ...                       NaN   \n",
       "244               Paraffin          ...                       NaN   \n",
       "100            Electricity          ...                       0.0   \n",
       "86             Electricity          ...                       1.0   \n",
       "\n",
       "     hh_othershamba1_docu                                hh_othershamba1_use  \\\n",
       "129                   NaN                                                NaN   \n",
       "28                    NaN                                                NaN   \n",
       "244                   NaN                                                NaN   \n",
       "100                   NaN                                                NaN   \n",
       "86   03=Yes, a title deed  02=Used by friends and family,04=Agricultural ...   \n",
       "\n",
       "    hh_othershamba1_value hh_othershamba2_docu hh_othershamba2_use  \\\n",
       "129                   NaN                  NaN                 NaN   \n",
       "28                    NaN                  NaN                 NaN   \n",
       "244                   NaN                  NaN                 NaN   \n",
       "100                   NaN                  NaN                 NaN   \n",
       "86               800000.0                  NaN                 NaN   \n",
       "\n",
       "    hh_othershamba2_value hh_othershamba3_docu hh_othershamba3_use  \\\n",
       "129                   NaN                  NaN                 NaN   \n",
       "28                    NaN                  NaN                 NaN   \n",
       "244                   NaN                  NaN                 NaN   \n",
       "100                   NaN                  NaN                 NaN   \n",
       "86                    NaN                  NaN                 NaN   \n",
       "\n",
       "    hh_othershamba3_value  \n",
       "129                   NaN  \n",
       "28                    NaN  \n",
       "244                   NaN  \n",
       "100                   NaN  \n",
       "86                    NaN  \n",
       "\n",
       "[5 rows x 54 columns]"
      ]
     },
     "execution_count": 4,
     "metadata": {},
     "output_type": "execute_result"
    }
   ],
   "source": [
    "df.sample(5)"
   ]
  },
  {
   "cell_type": "code",
   "execution_count": 5,
   "metadata": {},
   "outputs": [
    {
     "data": {
      "text/plain": [
       "(301, 54)"
      ]
     },
     "execution_count": 5,
     "metadata": {},
     "output_type": "execute_result"
    }
   ],
   "source": [
    "df.shape"
   ]
  },
  {
   "cell_type": "code",
   "execution_count": 6,
   "metadata": {},
   "outputs": [
    {
     "data": {
      "text/html": [
       "<div>\n",
       "<style scoped>\n",
       "    .dataframe tbody tr th:only-of-type {\n",
       "        vertical-align: middle;\n",
       "    }\n",
       "\n",
       "    .dataframe tbody tr th {\n",
       "        vertical-align: top;\n",
       "    }\n",
       "\n",
       "    .dataframe thead th {\n",
       "        text-align: right;\n",
       "    }\n",
       "</style>\n",
       "<table border=\"1\" class=\"dataframe\">\n",
       "  <thead>\n",
       "    <tr style=\"text-align: right;\">\n",
       "      <th></th>\n",
       "      <th>hh_inf_rooms_habitable</th>\n",
       "      <th>hh_inf_rooms_other</th>\n",
       "      <th>hh_asset_mosqnets_N</th>\n",
       "      <th>hh_asset_towels_N</th>\n",
       "      <th>hh_asset_fryingpan_N</th>\n",
       "      <th>hh_ownership_type</th>\n",
       "      <th>hh_otherprop_N</th>\n",
       "      <th>hh_otherprop1_value</th>\n",
       "      <th>hh_otherprop2_value</th>\n",
       "      <th>hh_otherprop3_value</th>\n",
       "      <th>hh_othershamba_N</th>\n",
       "      <th>hh_othershamba1_value</th>\n",
       "      <th>hh_othershamba2_value</th>\n",
       "      <th>hh_othershamba3_value</th>\n",
       "    </tr>\n",
       "  </thead>\n",
       "  <tbody>\n",
       "    <tr>\n",
       "      <th>count</th>\n",
       "      <td>296.000000</td>\n",
       "      <td>296.000000</td>\n",
       "      <td>295.000000</td>\n",
       "      <td>296.000000</td>\n",
       "      <td>294.000000</td>\n",
       "      <td>295.000000</td>\n",
       "      <td>82.000000</td>\n",
       "      <td>7.300000e+01</td>\n",
       "      <td>6.000000</td>\n",
       "      <td>1.0</td>\n",
       "      <td>45.000000</td>\n",
       "      <td>3.700000e+01</td>\n",
       "      <td>6.000000e+00</td>\n",
       "      <td>2.000000</td>\n",
       "    </tr>\n",
       "    <tr>\n",
       "      <th>mean</th>\n",
       "      <td>2.486486</td>\n",
       "      <td>1.425676</td>\n",
       "      <td>2.196610</td>\n",
       "      <td>1.510135</td>\n",
       "      <td>0.755102</td>\n",
       "      <td>2.149153</td>\n",
       "      <td>1.085366</td>\n",
       "      <td>5.939479e+05</td>\n",
       "      <td>191666.666667</td>\n",
       "      <td>100000.0</td>\n",
       "      <td>0.888889</td>\n",
       "      <td>4.850541e+05</td>\n",
       "      <td>4.533333e+05</td>\n",
       "      <td>301750.000000</td>\n",
       "    </tr>\n",
       "    <tr>\n",
       "      <th>std</th>\n",
       "      <td>1.345357</td>\n",
       "      <td>1.491632</td>\n",
       "      <td>1.888559</td>\n",
       "      <td>1.667201</td>\n",
       "      <td>0.793247</td>\n",
       "      <td>1.479379</td>\n",
       "      <td>0.612649</td>\n",
       "      <td>1.899143e+06</td>\n",
       "      <td>80104.098938</td>\n",
       "      <td>NaN</td>\n",
       "      <td>0.745356</td>\n",
       "      <td>5.083028e+05</td>\n",
       "      <td>5.394689e+05</td>\n",
       "      <td>421789.194978</td>\n",
       "    </tr>\n",
       "    <tr>\n",
       "      <th>min</th>\n",
       "      <td>1.000000</td>\n",
       "      <td>0.000000</td>\n",
       "      <td>0.000000</td>\n",
       "      <td>0.000000</td>\n",
       "      <td>0.000000</td>\n",
       "      <td>1.000000</td>\n",
       "      <td>0.000000</td>\n",
       "      <td>9.900000e+01</td>\n",
       "      <td>100000.000000</td>\n",
       "      <td>100000.0</td>\n",
       "      <td>0.000000</td>\n",
       "      <td>7.000000e+03</td>\n",
       "      <td>1.000000e+04</td>\n",
       "      <td>3500.000000</td>\n",
       "    </tr>\n",
       "    <tr>\n",
       "      <th>25%</th>\n",
       "      <td>1.000000</td>\n",
       "      <td>1.000000</td>\n",
       "      <td>1.000000</td>\n",
       "      <td>0.000000</td>\n",
       "      <td>0.000000</td>\n",
       "      <td>1.000000</td>\n",
       "      <td>1.000000</td>\n",
       "      <td>5.000000e+04</td>\n",
       "      <td>125000.000000</td>\n",
       "      <td>100000.0</td>\n",
       "      <td>0.000000</td>\n",
       "      <td>1.000000e+05</td>\n",
       "      <td>1.525000e+05</td>\n",
       "      <td>152625.000000</td>\n",
       "    </tr>\n",
       "    <tr>\n",
       "      <th>50%</th>\n",
       "      <td>2.000000</td>\n",
       "      <td>1.000000</td>\n",
       "      <td>2.000000</td>\n",
       "      <td>1.000000</td>\n",
       "      <td>1.000000</td>\n",
       "      <td>1.000000</td>\n",
       "      <td>1.000000</td>\n",
       "      <td>1.000000e+05</td>\n",
       "      <td>200000.000000</td>\n",
       "      <td>100000.0</td>\n",
       "      <td>1.000000</td>\n",
       "      <td>3.000000e+05</td>\n",
       "      <td>1.800000e+05</td>\n",
       "      <td>301750.000000</td>\n",
       "    </tr>\n",
       "    <tr>\n",
       "      <th>75%</th>\n",
       "      <td>3.000000</td>\n",
       "      <td>2.000000</td>\n",
       "      <td>3.000000</td>\n",
       "      <td>2.000000</td>\n",
       "      <td>1.000000</td>\n",
       "      <td>4.000000</td>\n",
       "      <td>1.000000</td>\n",
       "      <td>3.750000e+05</td>\n",
       "      <td>237500.000000</td>\n",
       "      <td>100000.0</td>\n",
       "      <td>1.000000</td>\n",
       "      <td>7.000000e+05</td>\n",
       "      <td>6.500000e+05</td>\n",
       "      <td>450875.000000</td>\n",
       "    </tr>\n",
       "    <tr>\n",
       "      <th>max</th>\n",
       "      <td>8.000000</td>\n",
       "      <td>21.000000</td>\n",
       "      <td>10.000000</td>\n",
       "      <td>14.000000</td>\n",
       "      <td>6.000000</td>\n",
       "      <td>6.000000</td>\n",
       "      <td>5.000000</td>\n",
       "      <td>1.500000e+07</td>\n",
       "      <td>300000.000000</td>\n",
       "      <td>100000.0</td>\n",
       "      <td>4.000000</td>\n",
       "      <td>2.000000e+06</td>\n",
       "      <td>1.400000e+06</td>\n",
       "      <td>600000.000000</td>\n",
       "    </tr>\n",
       "  </tbody>\n",
       "</table>\n",
       "</div>"
      ],
      "text/plain": [
       "       hh_inf_rooms_habitable  hh_inf_rooms_other  hh_asset_mosqnets_N  \\\n",
       "count              296.000000          296.000000           295.000000   \n",
       "mean                 2.486486            1.425676             2.196610   \n",
       "std                  1.345357            1.491632             1.888559   \n",
       "min                  1.000000            0.000000             0.000000   \n",
       "25%                  1.000000            1.000000             1.000000   \n",
       "50%                  2.000000            1.000000             2.000000   \n",
       "75%                  3.000000            2.000000             3.000000   \n",
       "max                  8.000000           21.000000            10.000000   \n",
       "\n",
       "       hh_asset_towels_N  hh_asset_fryingpan_N  hh_ownership_type  \\\n",
       "count         296.000000            294.000000         295.000000   \n",
       "mean            1.510135              0.755102           2.149153   \n",
       "std             1.667201              0.793247           1.479379   \n",
       "min             0.000000              0.000000           1.000000   \n",
       "25%             0.000000              0.000000           1.000000   \n",
       "50%             1.000000              1.000000           1.000000   \n",
       "75%             2.000000              1.000000           4.000000   \n",
       "max            14.000000              6.000000           6.000000   \n",
       "\n",
       "       hh_otherprop_N  hh_otherprop1_value  hh_otherprop2_value  \\\n",
       "count       82.000000         7.300000e+01             6.000000   \n",
       "mean         1.085366         5.939479e+05        191666.666667   \n",
       "std          0.612649         1.899143e+06         80104.098938   \n",
       "min          0.000000         9.900000e+01        100000.000000   \n",
       "25%          1.000000         5.000000e+04        125000.000000   \n",
       "50%          1.000000         1.000000e+05        200000.000000   \n",
       "75%          1.000000         3.750000e+05        237500.000000   \n",
       "max          5.000000         1.500000e+07        300000.000000   \n",
       "\n",
       "       hh_otherprop3_value  hh_othershamba_N  hh_othershamba1_value  \\\n",
       "count                  1.0         45.000000           3.700000e+01   \n",
       "mean              100000.0          0.888889           4.850541e+05   \n",
       "std                    NaN          0.745356           5.083028e+05   \n",
       "min               100000.0          0.000000           7.000000e+03   \n",
       "25%               100000.0          0.000000           1.000000e+05   \n",
       "50%               100000.0          1.000000           3.000000e+05   \n",
       "75%               100000.0          1.000000           7.000000e+05   \n",
       "max               100000.0          4.000000           2.000000e+06   \n",
       "\n",
       "       hh_othershamba2_value  hh_othershamba3_value  \n",
       "count           6.000000e+00               2.000000  \n",
       "mean            4.533333e+05          301750.000000  \n",
       "std             5.394689e+05          421789.194978  \n",
       "min             1.000000e+04            3500.000000  \n",
       "25%             1.525000e+05          152625.000000  \n",
       "50%             1.800000e+05          301750.000000  \n",
       "75%             6.500000e+05          450875.000000  \n",
       "max             1.400000e+06          600000.000000  "
      ]
     },
     "execution_count": 6,
     "metadata": {},
     "output_type": "execute_result"
    }
   ],
   "source": [
    "df.describe()"
   ]
  },
  {
   "cell_type": "code",
   "execution_count": 7,
   "metadata": {},
   "outputs": [
    {
     "data": {
      "text/plain": [
       "count          293\n",
       "unique           7\n",
       "top       Mud/wood\n",
       "freq           104\n",
       "Name: hh_inf_wall_material, dtype: object"
      ]
     },
     "execution_count": 7,
     "metadata": {},
     "output_type": "execute_result"
    }
   ],
   "source": [
    "df[\"hh_inf_wall_material\"].describe()"
   ]
  },
  {
   "cell_type": "code",
   "execution_count": 8,
   "metadata": {},
   "outputs": [
    {
     "data": {
      "text/plain": [
       "Index(['hh_ids', 'hh_int_situation', 'hh_circ_move_why', 'hh_circ_move_when',\n",
       "       'hh_circ_problems', 'hh_inf_wall_material', 'hh_inf_roof_material',\n",
       "       'hh_inf_floor_material', 'hh_inf_cookfuel_source',\n",
       "       'hh_inf_lighting_source', 'hh_inf_water_source',\n",
       "       'hh_inf_rooms_habitable', 'hh_inf_rooms_other', 'hh_inf_toilet_type',\n",
       "       'hh_inf_toilet_shared', 'hh_inf_housing_type',\n",
       "       'hh_inf_electricity_access', 'hh_inf_interiorcond',\n",
       "       'hh_inf_exteriorcond', 'hh_asset_internet_access', 'hh_asset_iron_any',\n",
       "       'hh_asset_mosqnets_N', 'hh_asset_towels_N', 'hh_asset_fryingpan_N',\n",
       "       'hh_env_settingdesc', 'hh_env_desc', 'hh_env_dilapbuildings',\n",
       "       'hh_env_streets', 'hh_env_trash', 'hh_ownership_type',\n",
       "       'hh_ownership_plotacquisition', 'hh_ownership_houseacquisition',\n",
       "       'hh_ownership_docu', 'hh_otherprop_any', 'hh_otherprop_N',\n",
       "       'hh_otherprop1_docu', 'hh_otherprop1_use', 'hh_otherprop1_value',\n",
       "       'hh_otherprop2_use', 'hh_otherprop2_value', 'hh_otherprop2_docu',\n",
       "       'hh_otherprop3_docu', 'hh_otherprop3_use', 'hh_otherprop3_value',\n",
       "       'hh_othershamba_N', 'hh_othershamba1_docu', 'hh_othershamba1_use',\n",
       "       'hh_othershamba1_value', 'hh_othershamba2_docu', 'hh_othershamba2_use',\n",
       "       'hh_othershamba2_value', 'hh_othershamba3_docu', 'hh_othershamba3_use',\n",
       "       'hh_othershamba3_value'],\n",
       "      dtype='object')"
      ]
     },
     "execution_count": 8,
     "metadata": {},
     "output_type": "execute_result"
    }
   ],
   "source": [
    "df.columns"
   ]
  },
  {
   "cell_type": "code",
   "execution_count": 9,
   "metadata": {},
   "outputs": [
    {
     "name": "stdout",
     "output_type": "stream",
     "text": [
      "===========================\n",
      "False    301\n",
      "Name: hh_ids, dtype: int64\n",
      "===========================\n",
      "False    295\n",
      "True       6\n",
      "Name: hh_int_situation, dtype: int64\n",
      "===========================\n",
      "False    288\n",
      "True      13\n",
      "Name: hh_circ_move_why, dtype: int64\n",
      "===========================\n",
      "False    291\n",
      "True      10\n",
      "Name: hh_circ_move_when, dtype: int64\n",
      "===========================\n",
      "False    292\n",
      "True       9\n",
      "Name: hh_circ_problems, dtype: int64\n",
      "===========================\n",
      "False    293\n",
      "True       8\n",
      "Name: hh_inf_wall_material, dtype: int64\n",
      "===========================\n",
      "False    293\n",
      "True       8\n",
      "Name: hh_inf_roof_material, dtype: int64\n",
      "===========================\n",
      "False    294\n",
      "True       7\n",
      "Name: hh_inf_floor_material, dtype: int64\n",
      "===========================\n",
      "False    298\n",
      "True       3\n",
      "Name: hh_inf_cookfuel_source, dtype: int64\n",
      "===========================\n",
      "False    294\n",
      "True       7\n",
      "Name: hh_inf_lighting_source, dtype: int64\n",
      "===========================\n",
      "False    297\n",
      "True       4\n",
      "Name: hh_inf_water_source, dtype: int64\n",
      "===========================\n",
      "False    296\n",
      "True       5\n",
      "Name: hh_inf_rooms_habitable, dtype: int64\n",
      "===========================\n",
      "False    296\n",
      "True       5\n",
      "Name: hh_inf_rooms_other, dtype: int64\n",
      "===========================\n",
      "False    296\n",
      "True       5\n",
      "Name: hh_inf_toilet_type, dtype: int64\n",
      "===========================\n",
      "False    286\n",
      "True      15\n",
      "Name: hh_inf_toilet_shared, dtype: int64\n",
      "===========================\n",
      "False    292\n",
      "True       9\n",
      "Name: hh_inf_housing_type, dtype: int64\n",
      "===========================\n",
      "False    286\n",
      "True      15\n",
      "Name: hh_inf_electricity_access, dtype: int64\n",
      "===========================\n",
      "False    283\n",
      "True      18\n",
      "Name: hh_inf_interiorcond, dtype: int64\n",
      "===========================\n",
      "False    282\n",
      "True      19\n",
      "Name: hh_inf_exteriorcond, dtype: int64\n",
      "===========================\n",
      "False    295\n",
      "True       6\n",
      "Name: hh_asset_internet_access, dtype: int64\n",
      "===========================\n",
      "False    294\n",
      "True       7\n",
      "Name: hh_asset_iron_any, dtype: int64\n",
      "===========================\n",
      "False    295\n",
      "True       6\n",
      "Name: hh_asset_mosqnets_N, dtype: int64\n",
      "===========================\n",
      "False    296\n",
      "True       5\n",
      "Name: hh_asset_towels_N, dtype: int64\n",
      "===========================\n",
      "False    294\n",
      "True       7\n",
      "Name: hh_asset_fryingpan_N, dtype: int64\n",
      "===========================\n",
      "False    294\n",
      "True       7\n",
      "Name: hh_env_settingdesc, dtype: int64\n",
      "===========================\n",
      "False    280\n",
      "True      21\n",
      "Name: hh_env_desc, dtype: int64\n",
      "===========================\n",
      "False    281\n",
      "True      20\n",
      "Name: hh_env_dilapbuildings, dtype: int64\n",
      "===========================\n",
      "False    269\n",
      "True      32\n",
      "Name: hh_env_streets, dtype: int64\n",
      "===========================\n",
      "False    277\n",
      "True      24\n",
      "Name: hh_env_trash, dtype: int64\n",
      "===========================\n",
      "False    295\n",
      "True       6\n",
      "Name: hh_ownership_type, dtype: int64\n",
      "===========================\n",
      "False    180\n",
      "True     121\n",
      "Name: hh_ownership_plotacquisition, dtype: int64\n",
      "===========================\n",
      "False    172\n",
      "True     129\n",
      "Name: hh_ownership_houseacquisition, dtype: int64\n",
      "===========================\n",
      "False    183\n",
      "True     118\n",
      "Name: hh_ownership_docu, dtype: int64\n",
      "===========================\n",
      "False    295\n",
      "True       6\n",
      "Name: hh_otherprop_any, dtype: int64\n",
      "===========================\n",
      "True     219\n",
      "False     82\n",
      "Name: hh_otherprop_N, dtype: int64\n",
      "===========================\n",
      "True     225\n",
      "False     76\n",
      "Name: hh_otherprop1_docu, dtype: int64\n",
      "===========================\n",
      "True     226\n",
      "False     75\n",
      "Name: hh_otherprop1_use, dtype: int64\n",
      "===========================\n",
      "True     228\n",
      "False     73\n",
      "Name: hh_otherprop1_value, dtype: int64\n",
      "===========================\n",
      "True     294\n",
      "False      7\n",
      "Name: hh_otherprop2_use, dtype: int64\n",
      "===========================\n",
      "True     295\n",
      "False      6\n",
      "Name: hh_otherprop2_value, dtype: int64\n",
      "===========================\n",
      "True     294\n",
      "False      7\n",
      "Name: hh_otherprop2_docu, dtype: int64\n",
      "===========================\n",
      "True     300\n",
      "False      1\n",
      "Name: hh_otherprop3_docu, dtype: int64\n",
      "===========================\n",
      "True     300\n",
      "False      1\n",
      "Name: hh_otherprop3_use, dtype: int64\n",
      "===========================\n",
      "True     300\n",
      "False      1\n",
      "Name: hh_otherprop3_value, dtype: int64\n",
      "===========================\n",
      "True     256\n",
      "False     45\n",
      "Name: hh_othershamba_N, dtype: int64\n",
      "===========================\n",
      "True     263\n",
      "False     38\n",
      "Name: hh_othershamba1_docu, dtype: int64\n",
      "===========================\n",
      "True     263\n",
      "False     38\n",
      "Name: hh_othershamba1_use, dtype: int64\n",
      "===========================\n",
      "True     264\n",
      "False     37\n",
      "Name: hh_othershamba1_value, dtype: int64\n",
      "===========================\n",
      "True     295\n",
      "False      6\n",
      "Name: hh_othershamba2_docu, dtype: int64\n",
      "===========================\n",
      "True     295\n",
      "False      6\n",
      "Name: hh_othershamba2_use, dtype: int64\n",
      "===========================\n",
      "True     295\n",
      "False      6\n",
      "Name: hh_othershamba2_value, dtype: int64\n",
      "===========================\n",
      "True     299\n",
      "False      2\n",
      "Name: hh_othershamba3_docu, dtype: int64\n",
      "===========================\n",
      "True     299\n",
      "False      2\n",
      "Name: hh_othershamba3_use, dtype: int64\n",
      "===========================\n",
      "True     299\n",
      "False      2\n",
      "Name: hh_othershamba3_value, dtype: int64\n"
     ]
    }
   ],
   "source": [
    "for col in df.columns:\n",
    "    print('===========================')\n",
    "    print(df[col].isnull().value_counts())"
   ]
  },
  {
   "cell_type": "markdown",
   "metadata": {},
   "source": [
    "### Why does this look so weird?"
   ]
  },
  {
   "cell_type": "code",
   "execution_count": 10,
   "metadata": {
    "scrolled": true
   },
   "outputs": [
    {
     "data": {
      "text/plain": [
       "<matplotlib.axes._subplots.AxesSubplot at 0x1a14fc0c18>"
      ]
     },
     "execution_count": 10,
     "metadata": {},
     "output_type": "execute_result"
    },
    {
     "data": {
      "image/png": "[encoded data removed]",
      "text/plain": [
       "<matplotlib.figure.Figure at 0x1a14f90908>"
      ]
     },
     "metadata": {},
     "output_type": "display_data"
    }
   ],
   "source": [
    "df[\"hh_inf_wall_material\"].hist(figsize=(15,5))"
   ]
  },
  {
   "cell_type": "code",
   "execution_count": 34,
   "metadata": {},
   "outputs": [
    {
     "data": {
      "text/plain": [
       "<matplotlib.axes._subplots.AxesSubplot at 0x1a2cfac9b0>"
      ]
     },
     "execution_count": 34,
     "metadata": {},
     "output_type": "execute_result"
    },
    {
     "data": {
      "image/png": "[encoded data removed]",
      "text/plain": [
       "<Figure size 360x360 with 1 Axes>"
      ]
     },
     "metadata": {
      "needs_background": "light"
     },
     "output_type": "display_data"
    }
   ],
   "source": [
    "df[\"hh_env_settingdesc\"].hist(figsize=(5,5))"
   ]
  },
  {
   "cell_type": "code",
   "execution_count": 32,
   "metadata": {},
   "outputs": [],
   "source": [
    "# again this just took too long\n",
    "#for col in df.columns:\n",
    "#    if col == \"hh_ids\":\n",
    "#        continue\n",
    "#    df[col].hist()\n",
    "#    break"
   ]
  },
  {
   "cell_type": "markdown",
   "metadata": {},
   "source": [
    "## Let's try the seaborn function."
   ]
  },
  {
   "cell_type": "code",
   "execution_count": 47,
   "metadata": {},
   "outputs": [
    {
     "data": {
      "text/plain": [
       "(array([ 0.,  0.,  0.,  0.,  0., 20.,  0.,  0.,  0.,  0.]),\n",
       " array([-0.5, -0.4, -0.3, -0.2, -0.1,  0. ,  0.1,  0.2,  0.3,  0.4,  0.5]),\n",
       " <a list of 10 Patch objects>)"
      ]
     },
     "execution_count": 47,
     "metadata": {},
     "output_type": "execute_result"
    },
    {
     "data": {
      "image/png": "[encoded data removed]",
      "text/plain": [
       "<Figure size 432x288 with 1 Axes>"
      ]
     },
     "metadata": {
      "needs_background": "light"
     },
     "output_type": "display_data"
    }
   ],
   "source": [
    "plt.hist(np.zeros(20))"
   ]
  },
  {
   "cell_type": "code",
   "execution_count": 69,
   "metadata": {},
   "outputs": [
    {
     "data": {
      "text/plain": [
       "0    False\n",
       "1     True\n",
       "2     True\n",
       "3     True\n",
       "4     True\n",
       "Name: hh_inf_wall_material, dtype: bool"
      ]
     },
     "execution_count": 69,
     "metadata": {},
     "output_type": "execute_result"
    }
   ],
   "source": [
    "np.invert(df[\"hh_inf_wall_material\"].isnull()).head()"
   ]
  },
  {
   "cell_type": "code",
   "execution_count": 68,
   "metadata": {},
   "outputs": [
    {
     "data": {
      "text/plain": [
       "<matplotlib.axes._subplots.AxesSubplot at 0x1a3701b438>"
      ]
     },
     "execution_count": 68,
     "metadata": {},
     "output_type": "execute_result"
    },
    {
     "data": {
      "image/png": "[encoded data removed]",
      "text/plain": [
       "<Figure size 720x360 with 1 Axes>"
      ]
     },
     "metadata": {
      "needs_background": "light"
     },
     "output_type": "display_data"
    }
   ],
   "source": [
    "df[np.invert(df[\"hh_inf_wall_material\"].isnull())][\"hh_inf_wall_material\"].hist(figsize=(10,5))"
   ]
  },
  {
   "cell_type": "code",
   "execution_count": 70,
   "metadata": {
    "scrolled": true
   },
   "outputs": [
    {
     "data": {
      "image/png": "[encoded data removed]",
      "text/plain": [
       "<Figure size 432x288 with 1 Axes>"
      ]
     },
     "metadata": {
      "needs_background": "light"
     },
     "output_type": "display_data"
    }
   ],
   "source": [
    "#This does not work either.\n",
    "plt.hist(x=df[np.invert(df[\"hh_inf_wall_material\"].isnull())][\"hh_inf_wall_material\"]);"
   ]
  },
  {
   "cell_type": "code",
   "execution_count": 45,
   "metadata": {},
   "outputs": [
    {
     "data": {
      "text/plain": [
       "<matplotlib.axes._subplots.AxesSubplot at 0x1a29256f60>"
      ]
     },
     "execution_count": 45,
     "metadata": {},
     "output_type": "execute_result"
    },
    {
     "data": {
      "image/png": "[encoded data removed]",
      "text/plain": [
       "<Figure size 432x288 with 1 Axes>"
      ]
     },
     "metadata": {
      "needs_background": "light"
     },
     "output_type": "display_data"
    }
   ],
   "source": [
    "df.plot(kind=\"bar\",x=\"hh_env_settingdesc\")"
   ]
  },
  {
   "cell_type": "code",
   "execution_count": null,
   "metadata": {},
   "outputs": [],
   "source": []
  }
 ],
 "metadata": {
  "kernelspec": {
   "display_name": "Python 3",
   "language": "python",
   "name": "python3"
  },
  "language_info": {
   "codemirror_mode": {
    "name": "ipython",
    "version": 3
   },
   "file_extension": ".py",
   "mimetype": "text/x-python",
   "name": "python",
   "nbconvert_exporter": "python",
   "pygments_lexer": "ipython3",
   "version": "3.7.3"
  }
 },
 "nbformat": 4,
 "nbformat_minor": 2
}
