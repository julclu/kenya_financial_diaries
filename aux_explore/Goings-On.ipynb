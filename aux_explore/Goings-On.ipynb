{
 "cells": [
  {
   "cell_type": "markdown",
   "metadata": {},
   "source": [
    "# Goings-On Exploration"
   ]
  },
  {
   "cell_type": "code",
   "execution_count": 2,
   "metadata": {},
   "outputs": [],
   "source": [
    "import pandas as pd\n",
    "import numpy as np\n",
    "import math as math\n",
    "import matplotlib.pyplot as plt\n",
    "import seaborn as sns\n",
    "import random as rd\n",
    "%matplotlib inline \n"
   ]
  },
  {
   "cell_type": "code",
   "execution_count": 3,
   "metadata": {},
   "outputs": [],
   "source": [
    "# to see all the columns when using head() or describe()\n",
    "pd.set_option('display.max_columns',60)"
   ]
  },
  {
   "cell_type": "code",
   "execution_count": 3,
   "metadata": {},
   "outputs": [],
   "source": [
    "df = pd.read_csv(\"aux_data/diaries_goingson_hh.csv\")"
   ]
  },
  {
   "cell_type": "code",
   "execution_count": 4,
   "metadata": {},
   "outputs": [
    {
     "data": {
      "text/plain": [
       "(5326, 12)"
      ]
     },
     "execution_count": 4,
     "metadata": {},
     "output_type": "execute_result"
    }
   ],
   "source": [
    "df.shape"
   ]
  },
  {
   "cell_type": "code",
   "execution_count": 5,
   "metadata": {},
   "outputs": [
    {
     "data": {
      "text/html": [
       "<div>\n",
       "<style scoped>\n",
       "    .dataframe tbody tr th:only-of-type {\n",
       "        vertical-align: middle;\n",
       "    }\n",
       "\n",
       "    .dataframe tbody tr th {\n",
       "        vertical-align: top;\n",
       "    }\n",
       "\n",
       "    .dataframe thead th {\n",
       "        text-align: right;\n",
       "    }\n",
       "</style>\n",
       "<table border=\"1\" class=\"dataframe\">\n",
       "  <thead>\n",
       "    <tr style=\"text-align: right;\">\n",
       "      <th></th>\n",
       "      <th>hh_ids</th>\n",
       "      <th>int_date</th>\n",
       "      <th>goingson_q1</th>\n",
       "      <th>goingson_q2</th>\n",
       "      <th>goingson_q3</th>\n",
       "      <th>goingson_q4</th>\n",
       "      <th>goingson_q5</th>\n",
       "      <th>goingson_q6</th>\n",
       "      <th>goingson_q7</th>\n",
       "      <th>goingson_q8</th>\n",
       "      <th>goingson_q9</th>\n",
       "      <th>goingson_q10</th>\n",
       "    </tr>\n",
       "  </thead>\n",
       "  <tbody>\n",
       "    <tr>\n",
       "      <th>0</th>\n",
       "      <td>KELDL09</td>\n",
       "      <td>08oct2012</td>\n",
       "      <td>No</td>\n",
       "      <td>No</td>\n",
       "      <td>No</td>\n",
       "      <td>No</td>\n",
       "      <td>No</td>\n",
       "      <td>No</td>\n",
       "      <td>No</td>\n",
       "      <td>No</td>\n",
       "      <td>No</td>\n",
       "      <td>NaN</td>\n",
       "    </tr>\n",
       "    <tr>\n",
       "      <th>1</th>\n",
       "      <td>KELDL10</td>\n",
       "      <td>02oct2012</td>\n",
       "      <td>No</td>\n",
       "      <td>Yes</td>\n",
       "      <td>No</td>\n",
       "      <td>No</td>\n",
       "      <td>No</td>\n",
       "      <td>Yes</td>\n",
       "      <td>Yes</td>\n",
       "      <td>No</td>\n",
       "      <td>Yes</td>\n",
       "      <td>NaN</td>\n",
       "    </tr>\n",
       "    <tr>\n",
       "      <th>2</th>\n",
       "      <td>KMAKL02</td>\n",
       "      <td>12oct2012</td>\n",
       "      <td>No</td>\n",
       "      <td>No</td>\n",
       "      <td>No</td>\n",
       "      <td>No</td>\n",
       "      <td>No</td>\n",
       "      <td>No</td>\n",
       "      <td>No</td>\n",
       "      <td>No</td>\n",
       "      <td>No</td>\n",
       "      <td>NaN</td>\n",
       "    </tr>\n",
       "    <tr>\n",
       "      <th>3</th>\n",
       "      <td>KELDK12</td>\n",
       "      <td>02jul2013</td>\n",
       "      <td>No</td>\n",
       "      <td>No</td>\n",
       "      <td>No</td>\n",
       "      <td>No</td>\n",
       "      <td>No</td>\n",
       "      <td>No</td>\n",
       "      <td>No</td>\n",
       "      <td>No</td>\n",
       "      <td>No</td>\n",
       "      <td>No</td>\n",
       "    </tr>\n",
       "    <tr>\n",
       "      <th>4</th>\n",
       "      <td>KELDK31</td>\n",
       "      <td>02jul2013</td>\n",
       "      <td>No</td>\n",
       "      <td>No</td>\n",
       "      <td>No</td>\n",
       "      <td>No</td>\n",
       "      <td>No</td>\n",
       "      <td>No</td>\n",
       "      <td>No</td>\n",
       "      <td>No</td>\n",
       "      <td>No</td>\n",
       "      <td>Yes</td>\n",
       "    </tr>\n",
       "  </tbody>\n",
       "</table>\n",
       "</div>"
      ],
      "text/plain": [
       "    hh_ids   int_date goingson_q1 goingson_q2 goingson_q3 goingson_q4  \\\n",
       "0  KELDL09  08oct2012          No          No          No          No   \n",
       "1  KELDL10  02oct2012          No         Yes          No          No   \n",
       "2  KMAKL02  12oct2012          No          No          No          No   \n",
       "3  KELDK12  02jul2013          No          No          No          No   \n",
       "4  KELDK31  02jul2013          No          No          No          No   \n",
       "\n",
       "  goingson_q5 goingson_q6 goingson_q7 goingson_q8 goingson_q9 goingson_q10  \n",
       "0          No          No          No          No          No          NaN  \n",
       "1          No         Yes         Yes          No         Yes          NaN  \n",
       "2          No          No          No          No          No          NaN  \n",
       "3          No          No          No          No          No           No  \n",
       "4          No          No          No          No          No          Yes  "
      ]
     },
     "execution_count": 5,
     "metadata": {},
     "output_type": "execute_result"
    }
   ],
   "source": [
    "df.head()"
   ]
  },
  {
   "cell_type": "markdown",
   "metadata": {},
   "source": [
    "# First I will reformat the date so that we have it in the proper format (using the date class from the module datetime)."
   ]
  },
  {
   "cell_type": "code",
   "execution_count": 6,
   "metadata": {},
   "outputs": [],
   "source": [
    "from datetime import date"
   ]
  },
  {
   "cell_type": "code",
   "execution_count": 9,
   "metadata": {
    "scrolled": true
   },
   "outputs": [],
   "source": [
    "df.insert(2,\"int_date2\",[date(2000,1,1)]*df.shape[0])"
   ]
  },
  {
   "cell_type": "code",
   "execution_count": 10,
   "metadata": {},
   "outputs": [
    {
     "data": {
      "text/html": [
       "<div>\n",
       "<style scoped>\n",
       "    .dataframe tbody tr th:only-of-type {\n",
       "        vertical-align: middle;\n",
       "    }\n",
       "\n",
       "    .dataframe tbody tr th {\n",
       "        vertical-align: top;\n",
       "    }\n",
       "\n",
       "    .dataframe thead th {\n",
       "        text-align: right;\n",
       "    }\n",
       "</style>\n",
       "<table border=\"1\" class=\"dataframe\">\n",
       "  <thead>\n",
       "    <tr style=\"text-align: right;\">\n",
       "      <th></th>\n",
       "      <th>hh_ids</th>\n",
       "      <th>int_date</th>\n",
       "      <th>int_date2</th>\n",
       "      <th>goingson_q1</th>\n",
       "      <th>goingson_q2</th>\n",
       "      <th>goingson_q3</th>\n",
       "      <th>goingson_q4</th>\n",
       "      <th>goingson_q5</th>\n",
       "      <th>goingson_q6</th>\n",
       "      <th>goingson_q7</th>\n",
       "      <th>goingson_q8</th>\n",
       "      <th>goingson_q9</th>\n",
       "      <th>goingson_q10</th>\n",
       "    </tr>\n",
       "  </thead>\n",
       "  <tbody>\n",
       "    <tr>\n",
       "      <th>0</th>\n",
       "      <td>KELDL09</td>\n",
       "      <td>08oct2012</td>\n",
       "      <td>2000-01-01</td>\n",
       "      <td>No</td>\n",
       "      <td>No</td>\n",
       "      <td>No</td>\n",
       "      <td>No</td>\n",
       "      <td>No</td>\n",
       "      <td>No</td>\n",
       "      <td>No</td>\n",
       "      <td>No</td>\n",
       "      <td>No</td>\n",
       "      <td>NaN</td>\n",
       "    </tr>\n",
       "    <tr>\n",
       "      <th>1</th>\n",
       "      <td>KELDL10</td>\n",
       "      <td>02oct2012</td>\n",
       "      <td>2000-01-01</td>\n",
       "      <td>No</td>\n",
       "      <td>Yes</td>\n",
       "      <td>No</td>\n",
       "      <td>No</td>\n",
       "      <td>No</td>\n",
       "      <td>Yes</td>\n",
       "      <td>Yes</td>\n",
       "      <td>No</td>\n",
       "      <td>Yes</td>\n",
       "      <td>NaN</td>\n",
       "    </tr>\n",
       "    <tr>\n",
       "      <th>2</th>\n",
       "      <td>KMAKL02</td>\n",
       "      <td>12oct2012</td>\n",
       "      <td>2000-01-01</td>\n",
       "      <td>No</td>\n",
       "      <td>No</td>\n",
       "      <td>No</td>\n",
       "      <td>No</td>\n",
       "      <td>No</td>\n",
       "      <td>No</td>\n",
       "      <td>No</td>\n",
       "      <td>No</td>\n",
       "      <td>No</td>\n",
       "      <td>NaN</td>\n",
       "    </tr>\n",
       "    <tr>\n",
       "      <th>3</th>\n",
       "      <td>KELDK12</td>\n",
       "      <td>02jul2013</td>\n",
       "      <td>2000-01-01</td>\n",
       "      <td>No</td>\n",
       "      <td>No</td>\n",
       "      <td>No</td>\n",
       "      <td>No</td>\n",
       "      <td>No</td>\n",
       "      <td>No</td>\n",
       "      <td>No</td>\n",
       "      <td>No</td>\n",
       "      <td>No</td>\n",
       "      <td>No</td>\n",
       "    </tr>\n",
       "    <tr>\n",
       "      <th>4</th>\n",
       "      <td>KELDK31</td>\n",
       "      <td>02jul2013</td>\n",
       "      <td>2000-01-01</td>\n",
       "      <td>No</td>\n",
       "      <td>No</td>\n",
       "      <td>No</td>\n",
       "      <td>No</td>\n",
       "      <td>No</td>\n",
       "      <td>No</td>\n",
       "      <td>No</td>\n",
       "      <td>No</td>\n",
       "      <td>No</td>\n",
       "      <td>Yes</td>\n",
       "    </tr>\n",
       "  </tbody>\n",
       "</table>\n",
       "</div>"
      ],
      "text/plain": [
       "    hh_ids   int_date   int_date2 goingson_q1 goingson_q2 goingson_q3  \\\n",
       "0  KELDL09  08oct2012  2000-01-01          No          No          No   \n",
       "1  KELDL10  02oct2012  2000-01-01          No         Yes          No   \n",
       "2  KMAKL02  12oct2012  2000-01-01          No          No          No   \n",
       "3  KELDK12  02jul2013  2000-01-01          No          No          No   \n",
       "4  KELDK31  02jul2013  2000-01-01          No          No          No   \n",
       "\n",
       "  goingson_q4 goingson_q5 goingson_q6 goingson_q7 goingson_q8 goingson_q9  \\\n",
       "0          No          No          No          No          No          No   \n",
       "1          No          No         Yes         Yes          No         Yes   \n",
       "2          No          No          No          No          No          No   \n",
       "3          No          No          No          No          No          No   \n",
       "4          No          No          No          No          No          No   \n",
       "\n",
       "  goingson_q10  \n",
       "0          NaN  \n",
       "1          NaN  \n",
       "2          NaN  \n",
       "3           No  \n",
       "4          Yes  "
      ]
     },
     "execution_count": 10,
     "metadata": {},
     "output_type": "execute_result"
    }
   ],
   "source": [
    "df.head()"
   ]
  },
  {
   "cell_type": "code",
   "execution_count": 11,
   "metadata": {},
   "outputs": [],
   "source": [
    "for index, row in df.iterrows():\n",
    "    day = int(df.loc[index,\"int_date\"][0:2])\n",
    "    year = int(df.loc[index,\"int_date\"][5:9])\n",
    "    if df.loc[index,\"int_date\"][2:5] == \"jan\":\n",
    "        month = 1\n",
    "    elif df.loc[index,\"int_date\"][2:5] == \"feb\":\n",
    "        month = 2\n",
    "    elif df.loc[index,\"int_date\"][2:5] == \"mar\":\n",
    "        month = 3\n",
    "    elif df.loc[index,\"int_date\"][2:5] == \"apr\":\n",
    "        month = 4\n",
    "    elif df.loc[index,\"int_date\"][2:5] == \"may\":\n",
    "        month = 5\n",
    "    elif df.loc[index,\"int_date\"][2:5] == \"jun\":\n",
    "        month = 6\n",
    "    elif df.loc[index,\"int_date\"][2:5] == \"jul\":\n",
    "        month = 7\n",
    "    elif df.loc[index,\"int_date\"][2:5] == \"aug\":\n",
    "        month = 8\n",
    "    elif df.loc[index,\"int_date\"][2:5] == \"sep\":\n",
    "        month = 9\n",
    "    elif df.loc[index,\"int_date\"][2:5] == \"oct\":\n",
    "        month = 10\n",
    "    elif df.loc[index,\"int_date\"][2:5] == \"nov\":\n",
    "        month = 11\n",
    "    elif df.loc[index,\"int_date\"][2:5] == \"dec\":\n",
    "        month = 12\n",
    "    else:\n",
    "        print(\"The date seems to be in an odd format.\",dfh.loc[index,\"int_date\"][0:2],dfh.loc[index,\"int_date\"][2:5],dfh.loc[index,\"int_date\"][5:9])\n",
    "    \n",
    "    df.at[index,\"int_date2\"]=date(year,month,day)"
   ]
  },
  {
   "cell_type": "code",
   "execution_count": 12,
   "metadata": {
    "scrolled": false
   },
   "outputs": [
    {
     "data": {
      "text/html": [
       "<div>\n",
       "<style scoped>\n",
       "    .dataframe tbody tr th:only-of-type {\n",
       "        vertical-align: middle;\n",
       "    }\n",
       "\n",
       "    .dataframe tbody tr th {\n",
       "        vertical-align: top;\n",
       "    }\n",
       "\n",
       "    .dataframe thead th {\n",
       "        text-align: right;\n",
       "    }\n",
       "</style>\n",
       "<table border=\"1\" class=\"dataframe\">\n",
       "  <thead>\n",
       "    <tr style=\"text-align: right;\">\n",
       "      <th></th>\n",
       "      <th>hh_ids</th>\n",
       "      <th>int_date</th>\n",
       "      <th>int_date2</th>\n",
       "      <th>goingson_q1</th>\n",
       "      <th>goingson_q2</th>\n",
       "      <th>goingson_q3</th>\n",
       "      <th>goingson_q4</th>\n",
       "      <th>goingson_q5</th>\n",
       "      <th>goingson_q6</th>\n",
       "      <th>goingson_q7</th>\n",
       "      <th>goingson_q8</th>\n",
       "      <th>goingson_q9</th>\n",
       "      <th>goingson_q10</th>\n",
       "    </tr>\n",
       "  </thead>\n",
       "  <tbody>\n",
       "    <tr>\n",
       "      <th>0</th>\n",
       "      <td>KELDL09</td>\n",
       "      <td>08oct2012</td>\n",
       "      <td>2012-10-08</td>\n",
       "      <td>No</td>\n",
       "      <td>No</td>\n",
       "      <td>No</td>\n",
       "      <td>No</td>\n",
       "      <td>No</td>\n",
       "      <td>No</td>\n",
       "      <td>No</td>\n",
       "      <td>No</td>\n",
       "      <td>No</td>\n",
       "      <td>NaN</td>\n",
       "    </tr>\n",
       "    <tr>\n",
       "      <th>1</th>\n",
       "      <td>KELDL10</td>\n",
       "      <td>02oct2012</td>\n",
       "      <td>2012-10-02</td>\n",
       "      <td>No</td>\n",
       "      <td>Yes</td>\n",
       "      <td>No</td>\n",
       "      <td>No</td>\n",
       "      <td>No</td>\n",
       "      <td>Yes</td>\n",
       "      <td>Yes</td>\n",
       "      <td>No</td>\n",
       "      <td>Yes</td>\n",
       "      <td>NaN</td>\n",
       "    </tr>\n",
       "    <tr>\n",
       "      <th>2</th>\n",
       "      <td>KMAKL02</td>\n",
       "      <td>12oct2012</td>\n",
       "      <td>2012-10-12</td>\n",
       "      <td>No</td>\n",
       "      <td>No</td>\n",
       "      <td>No</td>\n",
       "      <td>No</td>\n",
       "      <td>No</td>\n",
       "      <td>No</td>\n",
       "      <td>No</td>\n",
       "      <td>No</td>\n",
       "      <td>No</td>\n",
       "      <td>NaN</td>\n",
       "    </tr>\n",
       "    <tr>\n",
       "      <th>3</th>\n",
       "      <td>KELDK12</td>\n",
       "      <td>02jul2013</td>\n",
       "      <td>2013-07-02</td>\n",
       "      <td>No</td>\n",
       "      <td>No</td>\n",
       "      <td>No</td>\n",
       "      <td>No</td>\n",
       "      <td>No</td>\n",
       "      <td>No</td>\n",
       "      <td>No</td>\n",
       "      <td>No</td>\n",
       "      <td>No</td>\n",
       "      <td>No</td>\n",
       "    </tr>\n",
       "    <tr>\n",
       "      <th>4</th>\n",
       "      <td>KELDK31</td>\n",
       "      <td>02jul2013</td>\n",
       "      <td>2013-07-02</td>\n",
       "      <td>No</td>\n",
       "      <td>No</td>\n",
       "      <td>No</td>\n",
       "      <td>No</td>\n",
       "      <td>No</td>\n",
       "      <td>No</td>\n",
       "      <td>No</td>\n",
       "      <td>No</td>\n",
       "      <td>No</td>\n",
       "      <td>Yes</td>\n",
       "    </tr>\n",
       "  </tbody>\n",
       "</table>\n",
       "</div>"
      ],
      "text/plain": [
       "    hh_ids   int_date   int_date2 goingson_q1 goingson_q2 goingson_q3  \\\n",
       "0  KELDL09  08oct2012  2012-10-08          No          No          No   \n",
       "1  KELDL10  02oct2012  2012-10-02          No         Yes          No   \n",
       "2  KMAKL02  12oct2012  2012-10-12          No          No          No   \n",
       "3  KELDK12  02jul2013  2013-07-02          No          No          No   \n",
       "4  KELDK31  02jul2013  2013-07-02          No          No          No   \n",
       "\n",
       "  goingson_q4 goingson_q5 goingson_q6 goingson_q7 goingson_q8 goingson_q9  \\\n",
       "0          No          No          No          No          No          No   \n",
       "1          No          No         Yes         Yes          No         Yes   \n",
       "2          No          No          No          No          No          No   \n",
       "3          No          No          No          No          No          No   \n",
       "4          No          No          No          No          No          No   \n",
       "\n",
       "  goingson_q10  \n",
       "0          NaN  \n",
       "1          NaN  \n",
       "2          NaN  \n",
       "3           No  \n",
       "4          Yes  "
      ]
     },
     "execution_count": 12,
     "metadata": {},
     "output_type": "execute_result"
    }
   ],
   "source": [
    "df.head()"
   ]
  },
  {
   "cell_type": "code",
   "execution_count": 13,
   "metadata": {},
   "outputs": [],
   "source": [
    "df.sort_values(\"int_date2\", inplace=True)"
   ]
  },
  {
   "cell_type": "code",
   "execution_count": 14,
   "metadata": {},
   "outputs": [],
   "source": [
    "del df[\"int_date\"]"
   ]
  },
  {
   "cell_type": "code",
   "execution_count": 17,
   "metadata": {},
   "outputs": [
    {
     "data": {
      "text/html": [
       "<div>\n",
       "<style scoped>\n",
       "    .dataframe tbody tr th:only-of-type {\n",
       "        vertical-align: middle;\n",
       "    }\n",
       "\n",
       "    .dataframe tbody tr th {\n",
       "        vertical-align: top;\n",
       "    }\n",
       "\n",
       "    .dataframe thead th {\n",
       "        text-align: right;\n",
       "    }\n",
       "</style>\n",
       "<table border=\"1\" class=\"dataframe\">\n",
       "  <thead>\n",
       "    <tr style=\"text-align: right;\">\n",
       "      <th></th>\n",
       "      <th>hh_ids</th>\n",
       "      <th>int_date</th>\n",
       "      <th>goingson_q1</th>\n",
       "      <th>goingson_q2</th>\n",
       "      <th>goingson_q3</th>\n",
       "      <th>goingson_q4</th>\n",
       "      <th>goingson_q5</th>\n",
       "      <th>goingson_q6</th>\n",
       "      <th>goingson_q7</th>\n",
       "      <th>goingson_q8</th>\n",
       "      <th>goingson_q9</th>\n",
       "      <th>goingson_q10</th>\n",
       "    </tr>\n",
       "  </thead>\n",
       "  <tbody>\n",
       "    <tr>\n",
       "      <th>2287</th>\n",
       "      <td>KNBOM26</td>\n",
       "      <td>2012-09-22</td>\n",
       "      <td>No</td>\n",
       "      <td>No</td>\n",
       "      <td>No</td>\n",
       "      <td>No</td>\n",
       "      <td>No</td>\n",
       "      <td>No</td>\n",
       "      <td>NaN</td>\n",
       "      <td>NaN</td>\n",
       "      <td>No</td>\n",
       "      <td>No</td>\n",
       "    </tr>\n",
       "    <tr>\n",
       "      <th>293</th>\n",
       "      <td>KMOMB18</td>\n",
       "      <td>2012-09-25</td>\n",
       "      <td>No</td>\n",
       "      <td>No</td>\n",
       "      <td>Yes</td>\n",
       "      <td>No</td>\n",
       "      <td>No</td>\n",
       "      <td>No</td>\n",
       "      <td>Yes</td>\n",
       "      <td>No</td>\n",
       "      <td>Yes</td>\n",
       "      <td>NaN</td>\n",
       "    </tr>\n",
       "    <tr>\n",
       "      <th>2288</th>\n",
       "      <td>KNBOM02</td>\n",
       "      <td>2012-09-27</td>\n",
       "      <td>No</td>\n",
       "      <td>NaN</td>\n",
       "      <td>NaN</td>\n",
       "      <td>NaN</td>\n",
       "      <td>NaN</td>\n",
       "      <td>NaN</td>\n",
       "      <td>NaN</td>\n",
       "      <td>NaN</td>\n",
       "      <td>NaN</td>\n",
       "      <td>NaN</td>\n",
       "    </tr>\n",
       "    <tr>\n",
       "      <th>2289</th>\n",
       "      <td>KNBOM03</td>\n",
       "      <td>2012-09-27</td>\n",
       "      <td>No</td>\n",
       "      <td>No</td>\n",
       "      <td>No</td>\n",
       "      <td>No</td>\n",
       "      <td>No</td>\n",
       "      <td>No</td>\n",
       "      <td>No</td>\n",
       "      <td>No</td>\n",
       "      <td>No</td>\n",
       "      <td>NaN</td>\n",
       "    </tr>\n",
       "    <tr>\n",
       "      <th>3295</th>\n",
       "      <td>KMAKL01</td>\n",
       "      <td>2012-09-28</td>\n",
       "      <td>No</td>\n",
       "      <td>No</td>\n",
       "      <td>No</td>\n",
       "      <td>No</td>\n",
       "      <td>No</td>\n",
       "      <td>No</td>\n",
       "      <td>No</td>\n",
       "      <td>No</td>\n",
       "      <td>No</td>\n",
       "      <td>NaN</td>\n",
       "    </tr>\n",
       "  </tbody>\n",
       "</table>\n",
       "</div>"
      ],
      "text/plain": [
       "       hh_ids    int_date goingson_q1 goingson_q2 goingson_q3 goingson_q4  \\\n",
       "2287  KNBOM26  2012-09-22          No          No          No          No   \n",
       "293   KMOMB18  2012-09-25          No          No         Yes          No   \n",
       "2288  KNBOM02  2012-09-27          No         NaN         NaN         NaN   \n",
       "2289  KNBOM03  2012-09-27          No          No          No          No   \n",
       "3295  KMAKL01  2012-09-28          No          No          No          No   \n",
       "\n",
       "     goingson_q5 goingson_q6 goingson_q7 goingson_q8 goingson_q9 goingson_q10  \n",
       "2287          No          No         NaN         NaN          No           No  \n",
       "293           No          No         Yes          No         Yes          NaN  \n",
       "2288         NaN         NaN         NaN         NaN         NaN          NaN  \n",
       "2289          No          No          No          No          No          NaN  \n",
       "3295          No          No          No          No          No          NaN  "
      ]
     },
     "execution_count": 17,
     "metadata": {},
     "output_type": "execute_result"
    }
   ],
   "source": [
    "df.rename(columns={\"int_date2\": \"int_date\"}, inplace=True)\n",
    "df.head()"
   ]
  },
  {
   "cell_type": "markdown",
   "metadata": {},
   "source": [
    "## Below I will also rename the columns to have them in numerical values. This is the only way that the plotting function will work I think."
   ]
  },
  {
   "cell_type": "markdown",
   "metadata": {},
   "source": [
    "# Explanation: \n",
    "###    q1: Was stopped, arrested or had some other problem with police or city council askari.\n",
    "###    q2: Needed a doctor or medicine but went without\n",
    "###    q3: Felt unsafe in home or community due to crime committed nearby\n",
    "###    q4: Threatened with or experienced disconnection of electricity or water for not pay\n",
    "###    q5: Had some assets taken to repay a debt\n",
    "###    q6: Missed an appointment or work due to lack of transport or child care\n",
    "###    q7: Expected an important source of income that did not come\n",
    "###    q8: Started or stopped a romantic relationship (besides marriagedivorce)\n",
    "###    q9: Went to sleep hungry or without eating\n",
    "###    q10: A child was sent home from school FOR ANY REASON"
   ]
  },
  {
   "cell_type": "markdown",
   "metadata": {},
   "source": [
    "## Let's first rename the columns with more meaningful names."
   ]
  },
  {
   "cell_type": "code",
   "execution_count": 21,
   "metadata": {},
   "outputs": [],
   "source": [
    "df.rename(columns={\"goingson_q1\":\"police\", \"goingson_q2\":\"doctor\", \"goingson_q3\":\"unsafe\",\"goingson_q4\":\"utilities\",\"goingson_q5\":\"asset_taken\",\"goingson_q6\":\"miss_app\",\"goingson_q7\":\"miss_inc\",\"goingson_q8\":\"romantic\",\"goingson_q9\":\"hungry\",\"goingson_q10\":\"school_sent\",}, inplace=True)"
   ]
  },
  {
   "cell_type": "code",
   "execution_count": 26,
   "metadata": {
    "scrolled": false
   },
   "outputs": [
    {
     "data": {
      "text/html": [
       "<div>\n",
       "<style scoped>\n",
       "    .dataframe tbody tr th:only-of-type {\n",
       "        vertical-align: middle;\n",
       "    }\n",
       "\n",
       "    .dataframe tbody tr th {\n",
       "        vertical-align: top;\n",
       "    }\n",
       "\n",
       "    .dataframe thead th {\n",
       "        text-align: right;\n",
       "    }\n",
       "</style>\n",
       "<table border=\"1\" class=\"dataframe\">\n",
       "  <thead>\n",
       "    <tr style=\"text-align: right;\">\n",
       "      <th></th>\n",
       "      <th>hh_ids</th>\n",
       "      <th>int_date</th>\n",
       "      <th>police</th>\n",
       "      <th>doctor</th>\n",
       "      <th>unsafe</th>\n",
       "      <th>utilities</th>\n",
       "      <th>asset_taken</th>\n",
       "      <th>miss_app</th>\n",
       "      <th>miss_inc</th>\n",
       "      <th>romantic</th>\n",
       "      <th>hungry</th>\n",
       "      <th>school_sent</th>\n",
       "    </tr>\n",
       "  </thead>\n",
       "  <tbody>\n",
       "    <tr>\n",
       "      <th>2287</th>\n",
       "      <td>KNBOM26</td>\n",
       "      <td>2012-09-22</td>\n",
       "      <td>No</td>\n",
       "      <td>No</td>\n",
       "      <td>No</td>\n",
       "      <td>No</td>\n",
       "      <td>No</td>\n",
       "      <td>No</td>\n",
       "      <td>NaN</td>\n",
       "      <td>NaN</td>\n",
       "      <td>No</td>\n",
       "      <td>No</td>\n",
       "    </tr>\n",
       "    <tr>\n",
       "      <th>293</th>\n",
       "      <td>KMOMB18</td>\n",
       "      <td>2012-09-25</td>\n",
       "      <td>No</td>\n",
       "      <td>No</td>\n",
       "      <td>Yes</td>\n",
       "      <td>No</td>\n",
       "      <td>No</td>\n",
       "      <td>No</td>\n",
       "      <td>Yes</td>\n",
       "      <td>No</td>\n",
       "      <td>Yes</td>\n",
       "      <td>NaN</td>\n",
       "    </tr>\n",
       "    <tr>\n",
       "      <th>2288</th>\n",
       "      <td>KNBOM02</td>\n",
       "      <td>2012-09-27</td>\n",
       "      <td>No</td>\n",
       "      <td>NaN</td>\n",
       "      <td>NaN</td>\n",
       "      <td>NaN</td>\n",
       "      <td>NaN</td>\n",
       "      <td>NaN</td>\n",
       "      <td>NaN</td>\n",
       "      <td>NaN</td>\n",
       "      <td>NaN</td>\n",
       "      <td>NaN</td>\n",
       "    </tr>\n",
       "    <tr>\n",
       "      <th>2289</th>\n",
       "      <td>KNBOM03</td>\n",
       "      <td>2012-09-27</td>\n",
       "      <td>No</td>\n",
       "      <td>No</td>\n",
       "      <td>No</td>\n",
       "      <td>No</td>\n",
       "      <td>No</td>\n",
       "      <td>No</td>\n",
       "      <td>No</td>\n",
       "      <td>No</td>\n",
       "      <td>No</td>\n",
       "      <td>NaN</td>\n",
       "    </tr>\n",
       "    <tr>\n",
       "      <th>3295</th>\n",
       "      <td>KMAKL01</td>\n",
       "      <td>2012-09-28</td>\n",
       "      <td>No</td>\n",
       "      <td>No</td>\n",
       "      <td>No</td>\n",
       "      <td>No</td>\n",
       "      <td>No</td>\n",
       "      <td>No</td>\n",
       "      <td>No</td>\n",
       "      <td>No</td>\n",
       "      <td>No</td>\n",
       "      <td>NaN</td>\n",
       "    </tr>\n",
       "  </tbody>\n",
       "</table>\n",
       "</div>"
      ],
      "text/plain": [
       "       hh_ids    int_date police doctor unsafe utilities asset_taken miss_app  \\\n",
       "2287  KNBOM26  2012-09-22     No     No     No        No          No       No   \n",
       "293   KMOMB18  2012-09-25     No     No    Yes        No          No       No   \n",
       "2288  KNBOM02  2012-09-27     No    NaN    NaN       NaN         NaN      NaN   \n",
       "2289  KNBOM03  2012-09-27     No     No     No        No          No       No   \n",
       "3295  KMAKL01  2012-09-28     No     No     No        No          No       No   \n",
       "\n",
       "     miss_inc romantic hungry school_sent  \n",
       "2287      NaN      NaN     No          No  \n",
       "293       Yes       No    Yes         NaN  \n",
       "2288      NaN      NaN    NaN         NaN  \n",
       "2289       No       No     No         NaN  \n",
       "3295       No       No     No         NaN  "
      ]
     },
     "execution_count": 26,
     "metadata": {},
     "output_type": "execute_result"
    }
   ],
   "source": [
    "df.head()"
   ]
  },
  {
   "cell_type": "code",
   "execution_count": 27,
   "metadata": {},
   "outputs": [
    {
     "data": {
      "text/plain": [
       "(5326, 12)"
      ]
     },
     "execution_count": 27,
     "metadata": {},
     "output_type": "execute_result"
    }
   ],
   "source": [
    "df.shape"
   ]
  },
  {
   "cell_type": "code",
   "execution_count": 36,
   "metadata": {},
   "outputs": [],
   "source": [
    "df.replace({\"Yes\":1, \"No\":0}, inplace=True)"
   ]
  },
  {
   "cell_type": "code",
   "execution_count": 37,
   "metadata": {
    "scrolled": true
   },
   "outputs": [
    {
     "data": {
      "text/html": [
       "<div>\n",
       "<style scoped>\n",
       "    .dataframe tbody tr th:only-of-type {\n",
       "        vertical-align: middle;\n",
       "    }\n",
       "\n",
       "    .dataframe tbody tr th {\n",
       "        vertical-align: top;\n",
       "    }\n",
       "\n",
       "    .dataframe thead th {\n",
       "        text-align: right;\n",
       "    }\n",
       "</style>\n",
       "<table border=\"1\" class=\"dataframe\">\n",
       "  <thead>\n",
       "    <tr style=\"text-align: right;\">\n",
       "      <th></th>\n",
       "      <th>hh_ids</th>\n",
       "      <th>int_date</th>\n",
       "      <th>police</th>\n",
       "      <th>doctor</th>\n",
       "      <th>unsafe</th>\n",
       "      <th>utilities</th>\n",
       "      <th>asset_taken</th>\n",
       "      <th>miss_app</th>\n",
       "      <th>miss_inc</th>\n",
       "      <th>romantic</th>\n",
       "      <th>hungry</th>\n",
       "      <th>school_sent</th>\n",
       "    </tr>\n",
       "  </thead>\n",
       "  <tbody>\n",
       "    <tr>\n",
       "      <th>2287</th>\n",
       "      <td>KNBOM26</td>\n",
       "      <td>2012-09-22</td>\n",
       "      <td>0.0</td>\n",
       "      <td>0.0</td>\n",
       "      <td>0.0</td>\n",
       "      <td>0.0</td>\n",
       "      <td>0.0</td>\n",
       "      <td>0.0</td>\n",
       "      <td>NaN</td>\n",
       "      <td>NaN</td>\n",
       "      <td>0.0</td>\n",
       "      <td>0.0</td>\n",
       "    </tr>\n",
       "    <tr>\n",
       "      <th>293</th>\n",
       "      <td>KMOMB18</td>\n",
       "      <td>2012-09-25</td>\n",
       "      <td>0.0</td>\n",
       "      <td>0.0</td>\n",
       "      <td>1.0</td>\n",
       "      <td>0.0</td>\n",
       "      <td>0.0</td>\n",
       "      <td>0.0</td>\n",
       "      <td>1.0</td>\n",
       "      <td>0.0</td>\n",
       "      <td>1.0</td>\n",
       "      <td>NaN</td>\n",
       "    </tr>\n",
       "    <tr>\n",
       "      <th>2288</th>\n",
       "      <td>KNBOM02</td>\n",
       "      <td>2012-09-27</td>\n",
       "      <td>0.0</td>\n",
       "      <td>NaN</td>\n",
       "      <td>NaN</td>\n",
       "      <td>NaN</td>\n",
       "      <td>NaN</td>\n",
       "      <td>NaN</td>\n",
       "      <td>NaN</td>\n",
       "      <td>NaN</td>\n",
       "      <td>NaN</td>\n",
       "      <td>NaN</td>\n",
       "    </tr>\n",
       "    <tr>\n",
       "      <th>2289</th>\n",
       "      <td>KNBOM03</td>\n",
       "      <td>2012-09-27</td>\n",
       "      <td>0.0</td>\n",
       "      <td>0.0</td>\n",
       "      <td>0.0</td>\n",
       "      <td>0.0</td>\n",
       "      <td>0.0</td>\n",
       "      <td>0.0</td>\n",
       "      <td>0.0</td>\n",
       "      <td>0.0</td>\n",
       "      <td>0.0</td>\n",
       "      <td>NaN</td>\n",
       "    </tr>\n",
       "    <tr>\n",
       "      <th>3295</th>\n",
       "      <td>KMAKL01</td>\n",
       "      <td>2012-09-28</td>\n",
       "      <td>0.0</td>\n",
       "      <td>0.0</td>\n",
       "      <td>0.0</td>\n",
       "      <td>0.0</td>\n",
       "      <td>0.0</td>\n",
       "      <td>0.0</td>\n",
       "      <td>0.0</td>\n",
       "      <td>0.0</td>\n",
       "      <td>0.0</td>\n",
       "      <td>NaN</td>\n",
       "    </tr>\n",
       "  </tbody>\n",
       "</table>\n",
       "</div>"
      ],
      "text/plain": [
       "       hh_ids    int_date  police  doctor  unsafe  utilities  asset_taken  \\\n",
       "2287  KNBOM26  2012-09-22     0.0     0.0     0.0        0.0          0.0   \n",
       "293   KMOMB18  2012-09-25     0.0     0.0     1.0        0.0          0.0   \n",
       "2288  KNBOM02  2012-09-27     0.0     NaN     NaN        NaN          NaN   \n",
       "2289  KNBOM03  2012-09-27     0.0     0.0     0.0        0.0          0.0   \n",
       "3295  KMAKL01  2012-09-28     0.0     0.0     0.0        0.0          0.0   \n",
       "\n",
       "      miss_app  miss_inc  romantic  hungry  school_sent  \n",
       "2287       0.0       NaN       NaN     0.0          0.0  \n",
       "293        0.0       1.0       0.0     1.0          NaN  \n",
       "2288       NaN       NaN       NaN     NaN          NaN  \n",
       "2289       0.0       0.0       0.0     0.0          NaN  \n",
       "3295       0.0       0.0       0.0     0.0          NaN  "
      ]
     },
     "execution_count": 37,
     "metadata": {},
     "output_type": "execute_result"
    }
   ],
   "source": [
    "df.head()"
   ]
  },
  {
   "cell_type": "markdown",
   "metadata": {},
   "source": [
    "### When I replace a single value I get integers but when I replace to values at once I get floats. That is very weird."
   ]
  },
  {
   "cell_type": "code",
   "execution_count": 39,
   "metadata": {},
   "outputs": [
    {
     "data": {
      "text/plain": [
       "hh_ids          object\n",
       "int_date        object\n",
       "police         float64\n",
       "doctor         float64\n",
       "unsafe         float64\n",
       "utilities      float64\n",
       "asset_taken    float64\n",
       "miss_app       float64\n",
       "miss_inc       float64\n",
       "romantic       float64\n",
       "hungry         float64\n",
       "school_sent    float64\n",
       "dtype: object"
      ]
     },
     "execution_count": 39,
     "metadata": {},
     "output_type": "execute_result"
    }
   ],
   "source": [
    "df.dtypes"
   ]
  },
  {
   "cell_type": "code",
   "execution_count": 41,
   "metadata": {},
   "outputs": [],
   "source": [
    "df.insert(df.shape[1],\"incidents\",np.zeros(df.shape[0]))"
   ]
  },
  {
   "cell_type": "code",
   "execution_count": 57,
   "metadata": {},
   "outputs": [
    {
     "data": {
      "text/plain": [
       "numpy.float64"
      ]
     },
     "execution_count": 57,
     "metadata": {},
     "output_type": "execute_result"
    }
   ],
   "source": [
    "type(df.loc[2287,\"miss_inc\"])"
   ]
  },
  {
   "cell_type": "code",
   "execution_count": 61,
   "metadata": {},
   "outputs": [],
   "source": [
    "for index, row in df.iterrows():\n",
    "    s = 0\n",
    "    for col in list(df.columns):\n",
    "        if col == \"hh_ids\" or col == \"int_date\":\n",
    "            continue\n",
    "        elif np.isnan(row[col]):\n",
    "            continue\n",
    "        else:\n",
    "            s += row[col]\n",
    "    df.at[index,\"incidents\"] = s"
   ]
  },
  {
   "cell_type": "code",
   "execution_count": 63,
   "metadata": {},
   "outputs": [
    {
     "data": {
      "text/html": [
       "<div>\n",
       "<style scoped>\n",
       "    .dataframe tbody tr th:only-of-type {\n",
       "        vertical-align: middle;\n",
       "    }\n",
       "\n",
       "    .dataframe tbody tr th {\n",
       "        vertical-align: top;\n",
       "    }\n",
       "\n",
       "    .dataframe thead th {\n",
       "        text-align: right;\n",
       "    }\n",
       "</style>\n",
       "<table border=\"1\" class=\"dataframe\">\n",
       "  <thead>\n",
       "    <tr style=\"text-align: right;\">\n",
       "      <th></th>\n",
       "      <th>hh_ids</th>\n",
       "      <th>int_date</th>\n",
       "      <th>police</th>\n",
       "      <th>doctor</th>\n",
       "      <th>unsafe</th>\n",
       "      <th>utilities</th>\n",
       "      <th>asset_taken</th>\n",
       "      <th>miss_app</th>\n",
       "      <th>miss_inc</th>\n",
       "      <th>romantic</th>\n",
       "      <th>hungry</th>\n",
       "      <th>school_sent</th>\n",
       "      <th>incidents</th>\n",
       "    </tr>\n",
       "  </thead>\n",
       "  <tbody>\n",
       "    <tr>\n",
       "      <th>3580</th>\n",
       "      <td>KMAKL17</td>\n",
       "      <td>2013-05-21</td>\n",
       "      <td>0.0</td>\n",
       "      <td>0.0</td>\n",
       "      <td>0.0</td>\n",
       "      <td>0.0</td>\n",
       "      <td>0.0</td>\n",
       "      <td>0.0</td>\n",
       "      <td>0.0</td>\n",
       "      <td>0.0</td>\n",
       "      <td>0.0</td>\n",
       "      <td>0.0</td>\n",
       "      <td>0.0</td>\n",
       "    </tr>\n",
       "    <tr>\n",
       "      <th>990</th>\n",
       "      <td>KELDS03</td>\n",
       "      <td>2013-03-28</td>\n",
       "      <td>0.0</td>\n",
       "      <td>0.0</td>\n",
       "      <td>0.0</td>\n",
       "      <td>0.0</td>\n",
       "      <td>0.0</td>\n",
       "      <td>0.0</td>\n",
       "      <td>0.0</td>\n",
       "      <td>0.0</td>\n",
       "      <td>0.0</td>\n",
       "      <td>NaN</td>\n",
       "      <td>0.0</td>\n",
       "    </tr>\n",
       "    <tr>\n",
       "      <th>1969</th>\n",
       "      <td>KVIHK29</td>\n",
       "      <td>2013-07-15</td>\n",
       "      <td>0.0</td>\n",
       "      <td>0.0</td>\n",
       "      <td>0.0</td>\n",
       "      <td>0.0</td>\n",
       "      <td>0.0</td>\n",
       "      <td>0.0</td>\n",
       "      <td>0.0</td>\n",
       "      <td>0.0</td>\n",
       "      <td>0.0</td>\n",
       "      <td>0.0</td>\n",
       "      <td>0.0</td>\n",
       "    </tr>\n",
       "    <tr>\n",
       "      <th>3944</th>\n",
       "      <td>KNBOK08</td>\n",
       "      <td>2013-01-21</td>\n",
       "      <td>0.0</td>\n",
       "      <td>0.0</td>\n",
       "      <td>0.0</td>\n",
       "      <td>0.0</td>\n",
       "      <td>0.0</td>\n",
       "      <td>0.0</td>\n",
       "      <td>0.0</td>\n",
       "      <td>1.0</td>\n",
       "      <td>0.0</td>\n",
       "      <td>NaN</td>\n",
       "      <td>1.0</td>\n",
       "    </tr>\n",
       "    <tr>\n",
       "      <th>1220</th>\n",
       "      <td>KVIHC09</td>\n",
       "      <td>2013-03-28</td>\n",
       "      <td>0.0</td>\n",
       "      <td>1.0</td>\n",
       "      <td>0.0</td>\n",
       "      <td>0.0</td>\n",
       "      <td>0.0</td>\n",
       "      <td>0.0</td>\n",
       "      <td>1.0</td>\n",
       "      <td>0.0</td>\n",
       "      <td>0.0</td>\n",
       "      <td>1.0</td>\n",
       "      <td>3.0</td>\n",
       "    </tr>\n",
       "    <tr>\n",
       "      <th>253</th>\n",
       "      <td>KELDK18</td>\n",
       "      <td>2013-01-31</td>\n",
       "      <td>1.0</td>\n",
       "      <td>0.0</td>\n",
       "      <td>0.0</td>\n",
       "      <td>0.0</td>\n",
       "      <td>0.0</td>\n",
       "      <td>0.0</td>\n",
       "      <td>0.0</td>\n",
       "      <td>0.0</td>\n",
       "      <td>0.0</td>\n",
       "      <td>NaN</td>\n",
       "      <td>1.0</td>\n",
       "    </tr>\n",
       "    <tr>\n",
       "      <th>5104</th>\n",
       "      <td>KMOMK15</td>\n",
       "      <td>2013-06-20</td>\n",
       "      <td>0.0</td>\n",
       "      <td>0.0</td>\n",
       "      <td>0.0</td>\n",
       "      <td>0.0</td>\n",
       "      <td>0.0</td>\n",
       "      <td>0.0</td>\n",
       "      <td>0.0</td>\n",
       "      <td>0.0</td>\n",
       "      <td>0.0</td>\n",
       "      <td>0.0</td>\n",
       "      <td>0.0</td>\n",
       "    </tr>\n",
       "    <tr>\n",
       "      <th>2280</th>\n",
       "      <td>KMOMK03</td>\n",
       "      <td>2013-05-04</td>\n",
       "      <td>0.0</td>\n",
       "      <td>0.0</td>\n",
       "      <td>0.0</td>\n",
       "      <td>0.0</td>\n",
       "      <td>0.0</td>\n",
       "      <td>0.0</td>\n",
       "      <td>0.0</td>\n",
       "      <td>0.0</td>\n",
       "      <td>0.0</td>\n",
       "      <td>0.0</td>\n",
       "      <td>0.0</td>\n",
       "    </tr>\n",
       "    <tr>\n",
       "      <th>1744</th>\n",
       "      <td>KVIHK13</td>\n",
       "      <td>2013-03-15</td>\n",
       "      <td>0.0</td>\n",
       "      <td>0.0</td>\n",
       "      <td>0.0</td>\n",
       "      <td>0.0</td>\n",
       "      <td>0.0</td>\n",
       "      <td>0.0</td>\n",
       "      <td>0.0</td>\n",
       "      <td>0.0</td>\n",
       "      <td>0.0</td>\n",
       "      <td>NaN</td>\n",
       "      <td>0.0</td>\n",
       "    </tr>\n",
       "    <tr>\n",
       "      <th>438</th>\n",
       "      <td>KMOMM06</td>\n",
       "      <td>2013-01-14</td>\n",
       "      <td>0.0</td>\n",
       "      <td>0.0</td>\n",
       "      <td>0.0</td>\n",
       "      <td>0.0</td>\n",
       "      <td>0.0</td>\n",
       "      <td>0.0</td>\n",
       "      <td>0.0</td>\n",
       "      <td>0.0</td>\n",
       "      <td>0.0</td>\n",
       "      <td>0.0</td>\n",
       "      <td>0.0</td>\n",
       "    </tr>\n",
       "  </tbody>\n",
       "</table>\n",
       "</div>"
      ],
      "text/plain": [
       "       hh_ids    int_date  police  doctor  unsafe  utilities  asset_taken  \\\n",
       "3580  KMAKL17  2013-05-21     0.0     0.0     0.0        0.0          0.0   \n",
       "990   KELDS03  2013-03-28     0.0     0.0     0.0        0.0          0.0   \n",
       "1969  KVIHK29  2013-07-15     0.0     0.0     0.0        0.0          0.0   \n",
       "3944  KNBOK08  2013-01-21     0.0     0.0     0.0        0.0          0.0   \n",
       "1220  KVIHC09  2013-03-28     0.0     1.0     0.0        0.0          0.0   \n",
       "253   KELDK18  2013-01-31     1.0     0.0     0.0        0.0          0.0   \n",
       "5104  KMOMK15  2013-06-20     0.0     0.0     0.0        0.0          0.0   \n",
       "2280  KMOMK03  2013-05-04     0.0     0.0     0.0        0.0          0.0   \n",
       "1744  KVIHK13  2013-03-15     0.0     0.0     0.0        0.0          0.0   \n",
       "438   KMOMM06  2013-01-14     0.0     0.0     0.0        0.0          0.0   \n",
       "\n",
       "      miss_app  miss_inc  romantic  hungry  school_sent  incidents  \n",
       "3580       0.0       0.0       0.0     0.0          0.0        0.0  \n",
       "990        0.0       0.0       0.0     0.0          NaN        0.0  \n",
       "1969       0.0       0.0       0.0     0.0          0.0        0.0  \n",
       "3944       0.0       0.0       1.0     0.0          NaN        1.0  \n",
       "1220       0.0       1.0       0.0     0.0          1.0        3.0  \n",
       "253        0.0       0.0       0.0     0.0          NaN        1.0  \n",
       "5104       0.0       0.0       0.0     0.0          0.0        0.0  \n",
       "2280       0.0       0.0       0.0     0.0          0.0        0.0  \n",
       "1744       0.0       0.0       0.0     0.0          NaN        0.0  \n",
       "438        0.0       0.0       0.0     0.0          0.0        0.0  "
      ]
     },
     "execution_count": 63,
     "metadata": {},
     "output_type": "execute_result"
    }
   ],
   "source": [
    "df.sample(10)"
   ]
  },
  {
   "cell_type": "code",
   "execution_count": 65,
   "metadata": {},
   "outputs": [
    {
     "data": {
      "text/plain": [
       "count    5326.000000\n",
       "mean        0.371010\n",
       "std         0.706892\n",
       "min         0.000000\n",
       "25%         0.000000\n",
       "50%         0.000000\n",
       "75%         1.000000\n",
       "max         7.000000\n",
       "Name: incidents, dtype: float64"
      ]
     },
     "execution_count": 65,
     "metadata": {},
     "output_type": "execute_result"
    }
   ],
   "source": [
    "df[\"incidents\"].describe()"
   ]
  },
  {
   "cell_type": "code",
   "execution_count": 70,
   "metadata": {},
   "outputs": [],
   "source": [
    "grouped = df.groupby(\"hh_ids\")"
   ]
  },
  {
   "cell_type": "code",
   "execution_count": 74,
   "metadata": {
    "scrolled": true
   },
   "outputs": [
    {
     "data": {
      "text/plain": [
       "hh_ids\n",
       "KMOMB21    0.111111\n",
       "KVIHK02    0.047619\n",
       "KMOMT02    0.666667\n",
       "KZIMA08    0.100000\n",
       "KVIHK39    0.000000\n",
       "KMAKL25    0.047619\n",
       "KMOMB03    0.736842\n",
       "KMOMM25    0.190476\n",
       "KVIHK05    0.047619\n",
       "KMAKE03    0.000000\n",
       "Name: incidents, dtype: float64"
      ]
     },
     "execution_count": 74,
     "metadata": {},
     "output_type": "execute_result"
    }
   ],
   "source": [
    "grouped[\"incidents\"].mean().sample(10)"
   ]
  },
  {
   "cell_type": "code",
   "execution_count": 77,
   "metadata": {
    "scrolled": true
   },
   "outputs": [
    {
     "data": {
      "text/plain": [
       "hh_ids\n",
       "KVIHC19    3.0\n",
       "KELDK16    1.0\n",
       "KMAKE29    1.0\n",
       "KNBOK40    2.0\n",
       "KMAKL28    1.0\n",
       "KNBOK23    0.0\n",
       "KVIHC30    2.0\n",
       "KMOMK13    2.0\n",
       "KELDS19    0.0\n",
       "KMAKL27    1.0\n",
       "Name: incidents, dtype: float64"
      ]
     },
     "execution_count": 77,
     "metadata": {},
     "output_type": "execute_result"
    }
   ],
   "source": [
    "grouped[\"incidents\"].max().sample(10)"
   ]
  },
  {
   "cell_type": "code",
   "execution_count": 80,
   "metadata": {
    "scrolled": true
   },
   "outputs": [
    {
     "data": {
      "text/plain": [
       "hh_ids\n",
       "KMOMT31    1.785714\n",
       "KVIHC09    1.700000\n",
       "KNBOM32    1.500000\n",
       "KNBOK32    1.466667\n",
       "KMOMK01    1.300000\n",
       "Name: incidents, dtype: float64"
      ]
     },
     "execution_count": 80,
     "metadata": {},
     "output_type": "execute_result"
    }
   ],
   "source": [
    "grouped[\"incidents\"].mean().sort_values(ascending = False).head()"
   ]
  },
  {
   "cell_type": "code",
   "execution_count": 76,
   "metadata": {
    "scrolled": true
   },
   "outputs": [
    {
     "data": {
      "text/plain": [
       "<matplotlib.axes._subplots.AxesSubplot at 0x1a22bcacf8>"
      ]
     },
     "execution_count": 76,
     "metadata": {},
     "output_type": "execute_result"
    },
    {
     "data": {
      "image/png": "[encoded data removed]",
      "text/plain": [
       "<Figure size 432x288 with 1 Axes>"
      ]
     },
     "metadata": {
      "needs_background": "light"
     },
     "output_type": "display_data"
    }
   ],
   "source": [
    "df[df[\"hh_ids\"]==\"KMOMB21\"].plot(x=\"int_date\")"
   ]
  },
  {
   "cell_type": "code",
   "execution_count": 82,
   "metadata": {},
   "outputs": [
    {
     "data": {
      "text/plain": [
       "<matplotlib.axes._subplots.AxesSubplot at 0x1a22834898>"
      ]
     },
     "execution_count": 82,
     "metadata": {},
     "output_type": "execute_result"
    },
    {
     "data": {
      "image/png": "[encoded data removed]",
      "text/plain": [
       "<Figure size 432x288 with 1 Axes>"
      ]
     },
     "metadata": {
      "needs_background": "light"
     },
     "output_type": "display_data"
    }
   ],
   "source": [
    "df[df[\"hh_ids\"]==\"KMOMT31\"].plot(x=\"int_date\",y=\"incidents\")"
   ]
  },
  {
   "cell_type": "code",
   "execution_count": null,
   "metadata": {},
   "outputs": [],
   "source": []
  }
 ],
 "metadata": {
  "kernelspec": {
   "display_name": "Python 3",
   "language": "python",
   "name": "python3"
  },
  "language_info": {
   "codemirror_mode": {
    "name": "ipython",
    "version": 3
   },
   "file_extension": ".py",
   "mimetype": "text/x-python",
   "name": "python",
   "nbconvert_exporter": "python",
   "pygments_lexer": "ipython3",
   "version": "3.7.3"
  }
 },
 "nbformat": 4,
 "nbformat_minor": 2
}
