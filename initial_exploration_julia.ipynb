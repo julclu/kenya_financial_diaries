{
 "cells": [
  {
   "cell_type": "markdown",
   "metadata": {},
   "source": [
    "# Initial data explorations"
   ]
  },
  {
   "cell_type": "markdown",
   "metadata": {},
   "source": [
    "In this notebook, I want to explore the variables to try and determine a suitable outcome for prediction, whether it be for going into debt or predicting loan repayment"
   ]
  },
  {
   "cell_type": "code",
   "execution_count": 1,
   "metadata": {},
   "outputs": [],
   "source": [
    "import os\n",
    "import glob\n",
    "import pandas as pd \n",
    "\n",
    "# sci python and visualization\n",
    "import matplotlib.pyplot as plt\n",
    "import seaborn as sns\n",
    "plt.style.use('ggplot')\n",
    "%matplotlib inline\n",
    "from sklearn.preprocessing import StandardScaler"
   ]
  },
  {
   "cell_type": "code",
   "execution_count": 2,
   "metadata": {},
   "outputs": [
    {
     "data": {
      "text/plain": [
       "['info.pdf',\n",
       " 'initial_exploration.ipynb',\n",
       " 'diaries_transactions_all.csv',\n",
       " 'README.md',\n",
       " '.gitignore',\n",
       " 'Exploration_Ella.ipynb',\n",
       " '.ipynb_checkpoints',\n",
       " '.git']"
      ]
     },
     "execution_count": 2,
     "metadata": {},
     "output_type": "execute_result"
    }
   ],
   "source": [
    "os.listdir()"
   ]
  },
  {
   "cell_type": "code",
   "execution_count": 3,
   "metadata": {},
   "outputs": [],
   "source": [
    "data = pd.read_csv('diaries_transactions_all.csv', low_memory = False)"
   ]
  },
  {
   "cell_type": "code",
   "execution_count": 4,
   "metadata": {},
   "outputs": [
    {
     "name": "stdout",
     "output_type": "stream",
     "text": [
      "Index(['hh_ids', 'unique_hhs', 'first_trx_date_hh', 'last_trx_date_hh',\n",
      "       'tot_hh_daysofobs', 'tot_hh_monthsofobs', 'interview_designation',\n",
      "       'int_date', 'int_month', 'int_year', 'int_yr_mo', 'first_int_date',\n",
      "       'account_ids', 'unique_accnts', 'm_ids_owner', 'unique_hm_owner',\n",
      "       'account_bsheet_desig', 'account_startclose_balance', 'account_formal',\n",
      "       'account_liquid', 'first_trx_date_acc', 'last_trx_date_acc',\n",
      "       'tot_acc_daysofobs', 'tot_acc_monthsofobs', 'trx_id', 'm_ids_trx',\n",
      "       'trx_date', 'trx_month', 'trx_year', 'trx_yr_mo', 'trx_dq_round',\n",
      "       'trx_stdtime_days_hh', 'trx_stdtime_mnths_hh', 'trx_stdtime_days_acc',\n",
      "       'trx_stdtime_mnths_acc', 'trx_class_code', 'trx_class_desc',\n",
      "       'trx_family_code', 'trx_family_desc', 'trx_type_code', 'trx_type_desc',\n",
      "       'trx_prx_purpose', 'trx_prx_purpose_fd', 'trx_fee',\n",
      "       'trx_bsheet_direction', 'trx_mode_code', 'trx_mode_desc',\n",
      "       'trx_place_incommunity', 'trx_distance_km', 'trx_outlet',\n",
      "       'trx_direction', 'trx_value_kes', 'trx_value_usd', 'ddd_gift',\n",
      "       'trx_inkind_units', 'trx_inkind_value_usd', 'trx_inkind_value_kes',\n",
      "       'trx_stdtime_mnths_hh_nr'],\n",
      "      dtype='object')\n"
     ]
    }
   ],
   "source": [
    "column_names = data.columns\n",
    "print(column_names)"
   ]
  },
  {
   "cell_type": "code",
   "execution_count": 5,
   "metadata": {},
   "outputs": [
    {
     "data": {
      "text/plain": [
       "(483949, 58)"
      ]
     },
     "execution_count": 5,
     "metadata": {},
     "output_type": "execute_result"
    }
   ],
   "source": [
    "data.shape"
   ]
  },
  {
   "cell_type": "code",
   "execution_count": 6,
   "metadata": {},
   "outputs": [
    {
     "data": {
      "text/html": [
       "<div>\n",
       "<style scoped>\n",
       "    .dataframe tbody tr th:only-of-type {\n",
       "        vertical-align: middle;\n",
       "    }\n",
       "\n",
       "    .dataframe tbody tr th {\n",
       "        vertical-align: top;\n",
       "    }\n",
       "\n",
       "    .dataframe thead th {\n",
       "        text-align: right;\n",
       "    }\n",
       "</style>\n",
       "<table border=\"1\" class=\"dataframe\">\n",
       "  <thead>\n",
       "    <tr style=\"text-align: right;\">\n",
       "      <th></th>\n",
       "      <th>hh_ids</th>\n",
       "      <th>unique_hhs</th>\n",
       "      <th>first_trx_date_hh</th>\n",
       "      <th>last_trx_date_hh</th>\n",
       "      <th>tot_hh_daysofobs</th>\n",
       "      <th>tot_hh_monthsofobs</th>\n",
       "      <th>interview_designation</th>\n",
       "      <th>int_date</th>\n",
       "      <th>int_month</th>\n",
       "      <th>int_year</th>\n",
       "      <th>...</th>\n",
       "      <th>trx_distance_km</th>\n",
       "      <th>trx_outlet</th>\n",
       "      <th>trx_direction</th>\n",
       "      <th>trx_value_kes</th>\n",
       "      <th>trx_value_usd</th>\n",
       "      <th>ddd_gift</th>\n",
       "      <th>trx_inkind_units</th>\n",
       "      <th>trx_inkind_value_usd</th>\n",
       "      <th>trx_inkind_value_kes</th>\n",
       "      <th>trx_stdtime_mnths_hh_nr</th>\n",
       "    </tr>\n",
       "  </thead>\n",
       "  <tbody>\n",
       "    <tr>\n",
       "      <th>0</th>\n",
       "      <td>KELDL02</td>\n",
       "      <td>NaN</td>\n",
       "      <td>03sep2012</td>\n",
       "      <td>02oct2013</td>\n",
       "      <td>394</td>\n",
       "      <td>13</td>\n",
       "      <td>04=Diaries Interview</td>\n",
       "      <td>02oct2013</td>\n",
       "      <td>10</td>\n",
       "      <td>2013</td>\n",
       "      <td>...</td>\n",
       "      <td>NaN</td>\n",
       "      <td>NaN</td>\n",
       "      <td>NaN</td>\n",
       "      <td>0.0</td>\n",
       "      <td>0.000000</td>\n",
       "      <td>0</td>\n",
       "      <td>NaN</td>\n",
       "      <td>NaN</td>\n",
       "      <td>NaN</td>\n",
       "      <td>13.586210</td>\n",
       "    </tr>\n",
       "    <tr>\n",
       "      <th>1</th>\n",
       "      <td>KVIHC16</td>\n",
       "      <td>NaN</td>\n",
       "      <td>24sep2012</td>\n",
       "      <td>19sep2013</td>\n",
       "      <td>360</td>\n",
       "      <td>12</td>\n",
       "      <td>04=Diaries Interview</td>\n",
       "      <td>22apr2013</td>\n",
       "      <td>4</td>\n",
       "      <td>2013</td>\n",
       "      <td>...</td>\n",
       "      <td>NaN</td>\n",
       "      <td>NaN</td>\n",
       "      <td>Outflow</td>\n",
       "      <td>100.0</td>\n",
       "      <td>1.176471</td>\n",
       "      <td>0</td>\n",
       "      <td>NaN</td>\n",
       "      <td>NaN</td>\n",
       "      <td>NaN</td>\n",
       "      <td>7.206897</td>\n",
       "    </tr>\n",
       "    <tr>\n",
       "      <th>2</th>\n",
       "      <td>KELDK21</td>\n",
       "      <td>NaN</td>\n",
       "      <td>20sep2012</td>\n",
       "      <td>22oct2013</td>\n",
       "      <td>397</td>\n",
       "      <td>13</td>\n",
       "      <td>04=Diaries Interview</td>\n",
       "      <td>02oct2013</td>\n",
       "      <td>10</td>\n",
       "      <td>2013</td>\n",
       "      <td>...</td>\n",
       "      <td>NaN</td>\n",
       "      <td>NaN</td>\n",
       "      <td>NaN</td>\n",
       "      <td>0.0</td>\n",
       "      <td>0.000000</td>\n",
       "      <td>0</td>\n",
       "      <td>NaN</td>\n",
       "      <td>NaN</td>\n",
       "      <td>NaN</td>\n",
       "      <td>13.000000</td>\n",
       "    </tr>\n",
       "    <tr>\n",
       "      <th>3</th>\n",
       "      <td>KMOMT22</td>\n",
       "      <td>NaN</td>\n",
       "      <td>21sep2012</td>\n",
       "      <td>01nov2013</td>\n",
       "      <td>406</td>\n",
       "      <td>14</td>\n",
       "      <td>04=Diaries Interview</td>\n",
       "      <td>21feb2013</td>\n",
       "      <td>2</td>\n",
       "      <td>2013</td>\n",
       "      <td>...</td>\n",
       "      <td>NaN</td>\n",
       "      <td>NaN</td>\n",
       "      <td>Inflow</td>\n",
       "      <td>710.0</td>\n",
       "      <td>8.352942</td>\n",
       "      <td>0</td>\n",
       "      <td>NaN</td>\n",
       "      <td>NaN</td>\n",
       "      <td>NaN</td>\n",
       "      <td>4.793103</td>\n",
       "    </tr>\n",
       "    <tr>\n",
       "      <th>4</th>\n",
       "      <td>KMOMT32</td>\n",
       "      <td>NaN</td>\n",
       "      <td>20sep2012</td>\n",
       "      <td>18oct2013</td>\n",
       "      <td>393</td>\n",
       "      <td>13</td>\n",
       "      <td>04=Diaries Interview</td>\n",
       "      <td>02may2013</td>\n",
       "      <td>5</td>\n",
       "      <td>2013</td>\n",
       "      <td>...</td>\n",
       "      <td>NaN</td>\n",
       "      <td>NaN</td>\n",
       "      <td>Outflow</td>\n",
       "      <td>100.0</td>\n",
       "      <td>1.176471</td>\n",
       "      <td>0</td>\n",
       "      <td>NaN</td>\n",
       "      <td>NaN</td>\n",
       "      <td>NaN</td>\n",
       "      <td>6.517241</td>\n",
       "    </tr>\n",
       "  </tbody>\n",
       "</table>\n",
       "<p>5 rows × 58 columns</p>\n",
       "</div>"
      ],
      "text/plain": [
       "    hh_ids  unique_hhs first_trx_date_hh last_trx_date_hh  tot_hh_daysofobs  \\\n",
       "0  KELDL02         NaN         03sep2012        02oct2013               394   \n",
       "1  KVIHC16         NaN         24sep2012        19sep2013               360   \n",
       "2  KELDK21         NaN         20sep2012        22oct2013               397   \n",
       "3  KMOMT22         NaN         21sep2012        01nov2013               406   \n",
       "4  KMOMT32         NaN         20sep2012        18oct2013               393   \n",
       "\n",
       "   tot_hh_monthsofobs interview_designation   int_date  int_month  int_year  \\\n",
       "0                  13  04=Diaries Interview  02oct2013         10      2013   \n",
       "1                  12  04=Diaries Interview  22apr2013          4      2013   \n",
       "2                  13  04=Diaries Interview  02oct2013         10      2013   \n",
       "3                  14  04=Diaries Interview  21feb2013          2      2013   \n",
       "4                  13  04=Diaries Interview  02may2013          5      2013   \n",
       "\n",
       "            ...           trx_distance_km trx_outlet trx_direction  \\\n",
       "0           ...                       NaN        NaN           NaN   \n",
       "1           ...                       NaN        NaN       Outflow   \n",
       "2           ...                       NaN        NaN           NaN   \n",
       "3           ...                       NaN        NaN        Inflow   \n",
       "4           ...                       NaN        NaN       Outflow   \n",
       "\n",
       "   trx_value_kes trx_value_usd  ddd_gift trx_inkind_units  \\\n",
       "0            0.0      0.000000         0              NaN   \n",
       "1          100.0      1.176471         0              NaN   \n",
       "2            0.0      0.000000         0              NaN   \n",
       "3          710.0      8.352942         0              NaN   \n",
       "4          100.0      1.176471         0              NaN   \n",
       "\n",
       "  trx_inkind_value_usd trx_inkind_value_kes trx_stdtime_mnths_hh_nr  \n",
       "0                  NaN                  NaN               13.586210  \n",
       "1                  NaN                  NaN                7.206897  \n",
       "2                  NaN                  NaN               13.000000  \n",
       "3                  NaN                  NaN                4.793103  \n",
       "4                  NaN                  NaN                6.517241  \n",
       "\n",
       "[5 rows x 58 columns]"
      ]
     },
     "execution_count": 6,
     "metadata": {},
     "output_type": "execute_result"
    }
   ],
   "source": [
    "data.head()"
   ]
  },
  {
   "cell_type": "code",
   "execution_count": 14,
   "metadata": {},
   "outputs": [
    {
     "data": {
      "text/html": [
       "<div>\n",
       "<style scoped>\n",
       "    .dataframe tbody tr th:only-of-type {\n",
       "        vertical-align: middle;\n",
       "    }\n",
       "\n",
       "    .dataframe tbody tr th {\n",
       "        vertical-align: top;\n",
       "    }\n",
       "\n",
       "    .dataframe thead th {\n",
       "        text-align: right;\n",
       "    }\n",
       "</style>\n",
       "<table border=\"1\" class=\"dataframe\">\n",
       "  <thead>\n",
       "    <tr style=\"text-align: right;\">\n",
       "      <th></th>\n",
       "      <th>unique_hhs</th>\n",
       "      <th>tot_hh_daysofobs</th>\n",
       "      <th>tot_hh_monthsofobs</th>\n",
       "      <th>int_month</th>\n",
       "      <th>int_year</th>\n",
       "      <th>unique_accnts</th>\n",
       "      <th>unique_hm_owner</th>\n",
       "      <th>tot_acc_daysofobs</th>\n",
       "      <th>tot_acc_monthsofobs</th>\n",
       "      <th>trx_id</th>\n",
       "      <th>...</th>\n",
       "      <th>trx_fee</th>\n",
       "      <th>trx_mode_code</th>\n",
       "      <th>trx_place_incommunity</th>\n",
       "      <th>trx_distance_km</th>\n",
       "      <th>trx_value_kes</th>\n",
       "      <th>trx_value_usd</th>\n",
       "      <th>ddd_gift</th>\n",
       "      <th>trx_inkind_value_usd</th>\n",
       "      <th>trx_inkind_value_kes</th>\n",
       "      <th>trx_stdtime_mnths_hh_nr</th>\n",
       "    </tr>\n",
       "  </thead>\n",
       "  <tbody>\n",
       "    <tr>\n",
       "      <th>count</th>\n",
       "      <td>298.0</td>\n",
       "      <td>483949.000000</td>\n",
       "      <td>483949.000000</td>\n",
       "      <td>483949.000000</td>\n",
       "      <td>483949.000000</td>\n",
       "      <td>9546.0</td>\n",
       "      <td>670.0</td>\n",
       "      <td>483949.000000</td>\n",
       "      <td>483949.000000</td>\n",
       "      <td>4.839490e+05</td>\n",
       "      <td>...</td>\n",
       "      <td>77070.000000</td>\n",
       "      <td>476292.000000</td>\n",
       "      <td>457703.000000</td>\n",
       "      <td>457498.000000</td>\n",
       "      <td>4.834300e+05</td>\n",
       "      <td>483430.000000</td>\n",
       "      <td>483949.000000</td>\n",
       "      <td>12798.000000</td>\n",
       "      <td>12798.000000</td>\n",
       "      <td>483949.000000</td>\n",
       "    </tr>\n",
       "    <tr>\n",
       "      <th>mean</th>\n",
       "      <td>1.0</td>\n",
       "      <td>394.805825</td>\n",
       "      <td>13.125895</td>\n",
       "      <td>6.426041</td>\n",
       "      <td>2012.847717</td>\n",
       "      <td>1.0</td>\n",
       "      <td>1.0</td>\n",
       "      <td>421.460920</td>\n",
       "      <td>14.157174</td>\n",
       "      <td>7.068031e+16</td>\n",
       "      <td>...</td>\n",
       "      <td>0.067679</td>\n",
       "      <td>2.199067</td>\n",
       "      <td>0.869527</td>\n",
       "      <td>6.824379</td>\n",
       "      <td>6.547228e+02</td>\n",
       "      <td>7.702621</td>\n",
       "      <td>0.003350</td>\n",
       "      <td>3.616619</td>\n",
       "      <td>307.412564</td>\n",
       "      <td>7.336331</td>\n",
       "    </tr>\n",
       "    <tr>\n",
       "      <th>std</th>\n",
       "      <td>0.0</td>\n",
       "      <td>32.657529</td>\n",
       "      <td>1.141561</td>\n",
       "      <td>3.204513</td>\n",
       "      <td>0.359490</td>\n",
       "      <td>0.0</td>\n",
       "      <td>0.0</td>\n",
       "      <td>118.927981</td>\n",
       "      <td>4.169955</td>\n",
       "      <td>1.964200e+16</td>\n",
       "      <td>...</td>\n",
       "      <td>0.251195</td>\n",
       "      <td>3.461173</td>\n",
       "      <td>0.336824</td>\n",
       "      <td>79.340121</td>\n",
       "      <td>5.453241e+03</td>\n",
       "      <td>64.155778</td>\n",
       "      <td>0.057778</td>\n",
       "      <td>28.127688</td>\n",
       "      <td>2390.853350</td>\n",
       "      <td>3.766231</td>\n",
       "    </tr>\n",
       "    <tr>\n",
       "      <th>min</th>\n",
       "      <td>1.0</td>\n",
       "      <td>214.000000</td>\n",
       "      <td>7.000000</td>\n",
       "      <td>1.000000</td>\n",
       "      <td>2012.000000</td>\n",
       "      <td>1.0</td>\n",
       "      <td>1.0</td>\n",
       "      <td>0.000000</td>\n",
       "      <td>0.000000</td>\n",
       "      <td>3.413549e+16</td>\n",
       "      <td>...</td>\n",
       "      <td>0.000000</td>\n",
       "      <td>1.000000</td>\n",
       "      <td>0.000000</td>\n",
       "      <td>0.000000</td>\n",
       "      <td>-2.595000e+04</td>\n",
       "      <td>-305.294100</td>\n",
       "      <td>0.000000</td>\n",
       "      <td>0.000000</td>\n",
       "      <td>0.000000</td>\n",
       "      <td>0.000000</td>\n",
       "    </tr>\n",
       "    <tr>\n",
       "      <th>25%</th>\n",
       "      <td>1.0</td>\n",
       "      <td>375.000000</td>\n",
       "      <td>12.000000</td>\n",
       "      <td>4.000000</td>\n",
       "      <td>2013.000000</td>\n",
       "      <td>1.0</td>\n",
       "      <td>1.0</td>\n",
       "      <td>358.000000</td>\n",
       "      <td>12.000000</td>\n",
       "      <td>5.713807e+16</td>\n",
       "      <td>...</td>\n",
       "      <td>0.000000</td>\n",
       "      <td>1.000000</td>\n",
       "      <td>1.000000</td>\n",
       "      <td>0.000000</td>\n",
       "      <td>2.000000e+01</td>\n",
       "      <td>0.235294</td>\n",
       "      <td>0.000000</td>\n",
       "      <td>0.000000</td>\n",
       "      <td>0.000000</td>\n",
       "      <td>4.275862</td>\n",
       "    </tr>\n",
       "    <tr>\n",
       "      <th>50%</th>\n",
       "      <td>1.0</td>\n",
       "      <td>391.000000</td>\n",
       "      <td>13.000000</td>\n",
       "      <td>7.000000</td>\n",
       "      <td>2013.000000</td>\n",
       "      <td>1.0</td>\n",
       "      <td>1.0</td>\n",
       "      <td>502.000000</td>\n",
       "      <td>17.000000</td>\n",
       "      <td>6.213598e+16</td>\n",
       "      <td>...</td>\n",
       "      <td>0.000000</td>\n",
       "      <td>1.000000</td>\n",
       "      <td>1.000000</td>\n",
       "      <td>0.000000</td>\n",
       "      <td>5.000000e+01</td>\n",
       "      <td>0.588235</td>\n",
       "      <td>0.000000</td>\n",
       "      <td>0.470588</td>\n",
       "      <td>40.000000</td>\n",
       "      <td>7.620690</td>\n",
       "    </tr>\n",
       "    <tr>\n",
       "      <th>75%</th>\n",
       "      <td>1.0</td>\n",
       "      <td>413.000000</td>\n",
       "      <td>14.000000</td>\n",
       "      <td>9.000000</td>\n",
       "      <td>2013.000000</td>\n",
       "      <td>1.0</td>\n",
       "      <td>1.0</td>\n",
       "      <td>502.000000</td>\n",
       "      <td>17.000000</td>\n",
       "      <td>8.913662e+16</td>\n",
       "      <td>...</td>\n",
       "      <td>0.000000</td>\n",
       "      <td>1.000000</td>\n",
       "      <td>1.000000</td>\n",
       "      <td>0.000000</td>\n",
       "      <td>2.300000e+02</td>\n",
       "      <td>2.705882</td>\n",
       "      <td>0.000000</td>\n",
       "      <td>1.529412</td>\n",
       "      <td>130.000000</td>\n",
       "      <td>10.482760</td>\n",
       "    </tr>\n",
       "    <tr>\n",
       "      <th>max</th>\n",
       "      <td>1.0</td>\n",
       "      <td>501.000000</td>\n",
       "      <td>17.000000</td>\n",
       "      <td>12.000000</td>\n",
       "      <td>2015.000000</td>\n",
       "      <td>1.0</td>\n",
       "      <td>1.0</td>\n",
       "      <td>502.000000</td>\n",
       "      <td>17.000000</td>\n",
       "      <td>1.121385e+17</td>\n",
       "      <td>...</td>\n",
       "      <td>1.000000</td>\n",
       "      <td>19.000000</td>\n",
       "      <td>1.000000</td>\n",
       "      <td>14317.670000</td>\n",
       "      <td>1.200000e+06</td>\n",
       "      <td>14117.650000</td>\n",
       "      <td>1.000000</td>\n",
       "      <td>1529.412000</td>\n",
       "      <td>130000.000000</td>\n",
       "      <td>17.275860</td>\n",
       "    </tr>\n",
       "  </tbody>\n",
       "</table>\n",
       "<p>8 rows × 28 columns</p>\n",
       "</div>"
      ],
      "text/plain": [
       "       unique_hhs  tot_hh_daysofobs  tot_hh_monthsofobs      int_month  \\\n",
       "count       298.0     483949.000000       483949.000000  483949.000000   \n",
       "mean          1.0        394.805825           13.125895       6.426041   \n",
       "std           0.0         32.657529            1.141561       3.204513   \n",
       "min           1.0        214.000000            7.000000       1.000000   \n",
       "25%           1.0        375.000000           12.000000       4.000000   \n",
       "50%           1.0        391.000000           13.000000       7.000000   \n",
       "75%           1.0        413.000000           14.000000       9.000000   \n",
       "max           1.0        501.000000           17.000000      12.000000   \n",
       "\n",
       "            int_year  unique_accnts  unique_hm_owner  tot_acc_daysofobs  \\\n",
       "count  483949.000000         9546.0            670.0      483949.000000   \n",
       "mean     2012.847717            1.0              1.0         421.460920   \n",
       "std         0.359490            0.0              0.0         118.927981   \n",
       "min      2012.000000            1.0              1.0           0.000000   \n",
       "25%      2013.000000            1.0              1.0         358.000000   \n",
       "50%      2013.000000            1.0              1.0         502.000000   \n",
       "75%      2013.000000            1.0              1.0         502.000000   \n",
       "max      2015.000000            1.0              1.0         502.000000   \n",
       "\n",
       "       tot_acc_monthsofobs        trx_id           ...             \\\n",
       "count        483949.000000  4.839490e+05           ...              \n",
       "mean             14.157174  7.068031e+16           ...              \n",
       "std               4.169955  1.964200e+16           ...              \n",
       "min               0.000000  3.413549e+16           ...              \n",
       "25%              12.000000  5.713807e+16           ...              \n",
       "50%              17.000000  6.213598e+16           ...              \n",
       "75%              17.000000  8.913662e+16           ...              \n",
       "max              17.000000  1.121385e+17           ...              \n",
       "\n",
       "            trx_fee  trx_mode_code  trx_place_incommunity  trx_distance_km  \\\n",
       "count  77070.000000  476292.000000          457703.000000    457498.000000   \n",
       "mean       0.067679       2.199067               0.869527         6.824379   \n",
       "std        0.251195       3.461173               0.336824        79.340121   \n",
       "min        0.000000       1.000000               0.000000         0.000000   \n",
       "25%        0.000000       1.000000               1.000000         0.000000   \n",
       "50%        0.000000       1.000000               1.000000         0.000000   \n",
       "75%        0.000000       1.000000               1.000000         0.000000   \n",
       "max        1.000000      19.000000               1.000000     14317.670000   \n",
       "\n",
       "       trx_value_kes  trx_value_usd       ddd_gift  trx_inkind_value_usd  \\\n",
       "count   4.834300e+05  483430.000000  483949.000000          12798.000000   \n",
       "mean    6.547228e+02       7.702621       0.003350              3.616619   \n",
       "std     5.453241e+03      64.155778       0.057778             28.127688   \n",
       "min    -2.595000e+04    -305.294100       0.000000              0.000000   \n",
       "25%     2.000000e+01       0.235294       0.000000              0.000000   \n",
       "50%     5.000000e+01       0.588235       0.000000              0.470588   \n",
       "75%     2.300000e+02       2.705882       0.000000              1.529412   \n",
       "max     1.200000e+06   14117.650000       1.000000           1529.412000   \n",
       "\n",
       "       trx_inkind_value_kes  trx_stdtime_mnths_hh_nr  \n",
       "count          12798.000000            483949.000000  \n",
       "mean             307.412564                 7.336331  \n",
       "std             2390.853350                 3.766231  \n",
       "min                0.000000                 0.000000  \n",
       "25%                0.000000                 4.275862  \n",
       "50%               40.000000                 7.620690  \n",
       "75%              130.000000                10.482760  \n",
       "max           130000.000000                17.275860  \n",
       "\n",
       "[8 rows x 28 columns]"
      ]
     },
     "execution_count": 14,
     "metadata": {},
     "output_type": "execute_result"
    }
   ],
   "source": [
    "data.describe()"
   ]
  },
  {
   "cell_type": "markdown",
   "metadata": {},
   "source": [
    "## Getting a sense for how many missing values there are in this data: "
   ]
  },
  {
   "cell_type": "code",
   "execution_count": 8,
   "metadata": {},
   "outputs": [
    {
     "name": "stdout",
     "output_type": "stream",
     "text": [
      "===========================\n",
      "False    483949\n",
      "Name: hh_ids, dtype: int64\n",
      "===========================\n",
      "True     483651\n",
      "False       298\n",
      "Name: unique_hhs, dtype: int64\n",
      "===========================\n",
      "False    483949\n",
      "Name: first_trx_date_hh, dtype: int64\n",
      "===========================\n",
      "False    483949\n",
      "Name: last_trx_date_hh, dtype: int64\n",
      "===========================\n",
      "False    483949\n",
      "Name: tot_hh_daysofobs, dtype: int64\n",
      "===========================\n",
      "False    483949\n",
      "Name: tot_hh_monthsofobs, dtype: int64\n",
      "===========================\n",
      "False    483681\n",
      "True        268\n",
      "Name: interview_designation, dtype: int64\n",
      "===========================\n",
      "False    483949\n",
      "Name: int_date, dtype: int64\n",
      "===========================\n",
      "False    483949\n",
      "Name: int_month, dtype: int64\n",
      "===========================\n",
      "False    483949\n",
      "Name: int_year, dtype: int64\n",
      "===========================\n",
      "False    483949\n",
      "Name: int_yr_mo, dtype: int64\n",
      "===========================\n",
      "False    483949\n",
      "Name: first_int_date, dtype: int64\n",
      "===========================\n",
      "False    483949\n",
      "Name: account_ids, dtype: int64\n",
      "===========================\n",
      "True     474403\n",
      "False      9546\n",
      "Name: unique_accnts, dtype: int64\n",
      "===========================\n",
      "False    483949\n",
      "Name: m_ids_owner, dtype: int64\n",
      "===========================\n",
      "True     483279\n",
      "False       670\n",
      "Name: unique_hm_owner, dtype: int64\n",
      "===========================\n",
      "True     406879\n",
      "False     77070\n",
      "Name: account_bsheet_desig, dtype: int64\n",
      "===========================\n",
      "True     477007\n",
      "False      6942\n",
      "Name: account_startclose_balance, dtype: int64\n",
      "===========================\n",
      "True     406879\n",
      "False     77070\n",
      "Name: account_formal, dtype: int64\n",
      "===========================\n",
      "True     434028\n",
      "False     49921\n",
      "Name: account_liquid, dtype: int64\n",
      "===========================\n",
      "False    483949\n",
      "Name: first_trx_date_acc, dtype: int64\n",
      "===========================\n",
      "False    483949\n",
      "Name: last_trx_date_acc, dtype: int64\n",
      "===========================\n",
      "False    483949\n",
      "Name: tot_acc_daysofobs, dtype: int64\n",
      "===========================\n",
      "False    483949\n",
      "Name: tot_acc_monthsofobs, dtype: int64\n",
      "===========================\n",
      "False    483949\n",
      "Name: trx_id, dtype: int64\n",
      "===========================\n",
      "False    483949\n",
      "Name: m_ids_trx, dtype: int64\n",
      "===========================\n",
      "False    483949\n",
      "Name: trx_date, dtype: int64\n",
      "===========================\n",
      "False    483949\n",
      "Name: trx_month, dtype: int64\n",
      "===========================\n",
      "False    483949\n",
      "Name: trx_year, dtype: int64\n",
      "===========================\n",
      "False    483949\n",
      "Name: trx_yr_mo, dtype: int64\n",
      "===========================\n",
      "False    482647\n",
      "True       1302\n",
      "Name: trx_dq_round, dtype: int64\n",
      "===========================\n",
      "False    483949\n",
      "Name: trx_stdtime_days_hh, dtype: int64\n",
      "===========================\n",
      "False    483949\n",
      "Name: trx_stdtime_mnths_hh, dtype: int64\n",
      "===========================\n",
      "False    483949\n",
      "Name: trx_stdtime_days_acc, dtype: int64\n",
      "===========================\n",
      "False    483949\n",
      "Name: trx_stdtime_mnths_acc, dtype: int64\n",
      "===========================\n",
      "False    483949\n",
      "Name: trx_class_code, dtype: int64\n",
      "===========================\n",
      "False    483949\n",
      "Name: trx_class_desc, dtype: int64\n",
      "===========================\n",
      "False    483949\n",
      "Name: trx_family_code, dtype: int64\n",
      "===========================\n",
      "False    483949\n",
      "Name: trx_family_desc, dtype: int64\n",
      "===========================\n",
      "False    483949\n",
      "Name: trx_type_code, dtype: int64\n",
      "===========================\n",
      "False    483949\n",
      "Name: trx_type_desc, dtype: int64\n",
      "===========================\n",
      "False    483949\n",
      "Name: trx_prx_purpose, dtype: int64\n",
      "===========================\n",
      "True     423999\n",
      "False     59950\n",
      "Name: trx_prx_purpose_fd, dtype: int64\n",
      "===========================\n",
      "True     406879\n",
      "False     77070\n",
      "Name: trx_fee, dtype: int64\n",
      "===========================\n",
      "True     412753\n",
      "False     71196\n",
      "Name: trx_bsheet_direction, dtype: int64\n",
      "===========================\n",
      "False    476292\n",
      "True       7657\n",
      "Name: trx_mode_code, dtype: int64\n",
      "===========================\n",
      "False    476292\n",
      "True       7657\n",
      "Name: trx_mode_desc, dtype: int64\n",
      "===========================\n",
      "False    457703\n",
      "True      26246\n",
      "Name: trx_place_incommunity, dtype: int64\n",
      "===========================\n",
      "False    457498\n",
      "True      26451\n",
      "Name: trx_distance_km, dtype: int64\n",
      "===========================\n",
      "False    336063\n",
      "True     147886\n",
      "Name: trx_outlet, dtype: int64\n",
      "===========================\n",
      "False    469037\n",
      "True      14912\n",
      "Name: trx_direction, dtype: int64\n",
      "===========================\n",
      "False    483430\n",
      "True        519\n",
      "Name: trx_value_kes, dtype: int64\n",
      "===========================\n",
      "False    483430\n",
      "True        519\n",
      "Name: trx_value_usd, dtype: int64\n",
      "===========================\n",
      "False    483949\n",
      "Name: ddd_gift, dtype: int64\n",
      "===========================\n",
      "True     470525\n",
      "False     13424\n",
      "Name: trx_inkind_units, dtype: int64\n",
      "===========================\n",
      "True     471151\n",
      "False     12798\n",
      "Name: trx_inkind_value_usd, dtype: int64\n",
      "===========================\n",
      "True     471151\n",
      "False     12798\n",
      "Name: trx_inkind_value_kes, dtype: int64\n",
      "===========================\n",
      "False    483949\n",
      "Name: trx_stdtime_mnths_hh_nr, dtype: int64\n"
     ]
    }
   ],
   "source": [
    "for col in column_names: \n",
    "    print('===========================')\n",
    "    print(data[col].isnull().value_counts())"
   ]
  },
  {
   "cell_type": "markdown",
   "metadata": {},
   "source": [
    "## Looking at the variables: "
   ]
  },
  {
   "cell_type": "code",
   "execution_count": 16,
   "metadata": {},
   "outputs": [
    {
     "data": {
      "text/plain": [
       "58"
      ]
     },
     "execution_count": 16,
     "metadata": {},
     "output_type": "execute_result"
    }
   ],
   "source": [
    "len(column_names)"
   ]
  },
  {
   "cell_type": "code",
   "execution_count": 22,
   "metadata": {},
   "outputs": [
    {
     "name": "stdout",
     "output_type": "stream",
     "text": [
      "0 hh_ids\n",
      "1 unique_hhs\n",
      "2 first_trx_date_hh\n",
      "3 last_trx_date_hh\n",
      "4 tot_hh_daysofobs\n",
      "5 tot_hh_monthsofobs\n",
      "6 interview_designation\n",
      "7 int_date\n",
      "8 int_month\n",
      "9 int_year\n",
      "10 int_yr_mo\n",
      "11 first_int_date\n",
      "12 account_ids\n",
      "13 unique_accnts\n",
      "14 m_ids_owner\n",
      "15 unique_hm_owner\n",
      "16 account_bsheet_desig\n",
      "17 account_startclose_balance\n",
      "18 account_formal\n",
      "19 account_liquid\n",
      "20 first_trx_date_acc\n",
      "21 last_trx_date_acc\n",
      "22 tot_acc_daysofobs\n",
      "23 tot_acc_monthsofobs\n",
      "24 trx_id\n",
      "25 m_ids_trx\n",
      "26 trx_date\n",
      "27 trx_month\n",
      "28 trx_year\n",
      "29 trx_yr_mo\n",
      "30 trx_dq_round\n",
      "31 trx_stdtime_days_hh\n",
      "32 trx_stdtime_mnths_hh\n",
      "33 trx_stdtime_days_acc\n",
      "34 trx_stdtime_mnths_acc\n",
      "35 trx_class_code\n",
      "36 trx_class_desc\n",
      "37 trx_family_code\n",
      "38 trx_family_desc\n",
      "39 trx_type_code\n",
      "40 trx_type_desc\n",
      "41 trx_prx_purpose\n",
      "42 trx_prx_purpose_fd\n",
      "43 trx_fee\n",
      "44 trx_bsheet_direction\n",
      "45 trx_mode_code\n",
      "46 trx_mode_desc\n",
      "47 trx_place_incommunity\n",
      "48 trx_distance_km\n",
      "49 trx_outlet\n",
      "50 trx_direction\n",
      "51 trx_value_kes\n",
      "52 trx_value_usd\n",
      "53 ddd_gift\n",
      "54 trx_inkind_units\n",
      "55 trx_inkind_value_usd\n",
      "56 trx_inkind_value_kes\n",
      "57 trx_stdtime_mnths_hh_nr\n"
     ]
    }
   ],
   "source": [
    "for idx, col_name in enumerate(column_names): \n",
    "    print(idx, col_name)"
   ]
  },
  {
   "cell_type": "markdown",
   "metadata": {},
   "source": [
    "## Symantic understanding of variables"
   ]
  },
  {
   "attachments": {},
   "cell_type": "markdown",
   "metadata": {},
   "source": [
    "## hh_ids, unique_hhs"
   ]
  },
  {
   "cell_type": "markdown",
   "metadata": {},
   "source": [
    "What is the range of household IDs? "
   ]
  },
  {
   "cell_type": "code",
   "execution_count": 24,
   "metadata": {},
   "outputs": [
    {
     "name": "stdout",
     "output_type": "stream",
     "text": [
      "KELDK01 KZIMA08\n"
     ]
    }
   ],
   "source": [
    "print(data['hh_ids'].min(), data['hh_ids'].max())"
   ]
  },
  {
   "cell_type": "markdown",
   "metadata": {},
   "source": [
    "How many transactions recorded per household? "
   ]
  },
  {
   "cell_type": "code",
   "execution_count": 41,
   "metadata": {},
   "outputs": [
    {
     "data": {
      "text/plain": [
       "count     298.000000\n",
       "mean     1623.989933\n",
       "std      1050.351205\n",
       "min       208.000000\n",
       "25%       902.250000\n",
       "50%      1304.500000\n",
       "75%      2015.250000\n",
       "max      6749.000000\n",
       "Name: hh_ids, dtype: float64"
      ]
     },
     "execution_count": 41,
     "metadata": {},
     "output_type": "execute_result"
    }
   ],
   "source": [
    "data['hh_ids'].value_counts().describe()"
   ]
  },
  {
   "cell_type": "markdown",
   "metadata": {},
   "source": [
    "Between 208 trx and 6749 trx per househod, with the median beign 1304 trx per hh"
   ]
  },
  {
   "cell_type": "markdown",
   "metadata": {},
   "source": [
    "What does unique_hh's tell us? "
   ]
  },
  {
   "cell_type": "code",
   "execution_count": 28,
   "metadata": {},
   "outputs": [
    {
     "data": {
      "text/plain": [
       "True     483651\n",
       "False       298\n",
       "Name: unique_hhs, dtype: int64"
      ]
     },
     "execution_count": 28,
     "metadata": {},
     "output_type": "execute_result"
    }
   ],
   "source": [
    "data.unique_hhs.isnull().value_counts()"
   ]
  },
  {
   "cell_type": "code",
   "execution_count": 31,
   "metadata": {},
   "outputs": [
    {
     "data": {
      "text/plain": [
       "298"
      ]
     },
     "execution_count": 31,
     "metadata": {},
     "output_type": "execute_result"
    }
   ],
   "source": [
    "len(data.hh_ids.unique())"
   ]
  },
  {
   "cell_type": "code",
   "execution_count": 34,
   "metadata": {},
   "outputs": [
    {
     "data": {
      "text/plain": [
       "array([nan,  1.])"
      ]
     },
     "execution_count": 34,
     "metadata": {},
     "output_type": "execute_result"
    }
   ],
   "source": [
    "data.unique_hhs.unique()"
   ]
  },
  {
   "cell_type": "markdown",
   "metadata": {},
   "source": [
    "This shows the same thing as calling the unique value on hh IDs, which is what we expected/want. There are 298 values of \"1\" in this column, so it is either \"1\" or \"NaN\" value. "
   ]
  },
  {
   "attachments": {},
   "cell_type": "markdown",
   "metadata": {},
   "source": [
    "## first_trx_date_hh, last_trx_date_hh, tot_hh_daysofobs, tot_hh_monthsofobs"
   ]
  },
  {
   "cell_type": "code",
   "execution_count": 38,
   "metadata": {},
   "outputs": [
    {
     "data": {
      "text/plain": [
       "'01apr2013'"
      ]
     },
     "execution_count": 38,
     "metadata": {},
     "output_type": "execute_result"
    }
   ],
   "source": [
    "data.first_trx_date_hh.min()"
   ]
  },
  {
   "cell_type": "markdown",
   "metadata": {},
   "source": [
    "Number of days of observation per household: "
   ]
  },
  {
   "cell_type": "code",
   "execution_count": 42,
   "metadata": {},
   "outputs": [
    {
     "data": {
      "text/plain": [
       "count    483949.000000\n",
       "mean        394.805825\n",
       "std          32.657529\n",
       "min         214.000000\n",
       "25%         375.000000\n",
       "50%         391.000000\n",
       "75%         413.000000\n",
       "max         501.000000\n",
       "Name: tot_hh_daysofobs, dtype: float64"
      ]
     },
     "execution_count": 42,
     "metadata": {},
     "output_type": "execute_result"
    }
   ],
   "source": [
    "data.tot_hh_daysofobs.describe()"
   ]
  },
  {
   "cell_type": "code",
   "execution_count": 43,
   "metadata": {},
   "outputs": [
    {
     "data": {
      "text/plain": [
       "<matplotlib.axes._subplots.AxesSubplot at 0x11059bba8>"
      ]
     },
     "execution_count": 43,
     "metadata": {},
     "output_type": "execute_result"
    },
    {
     "data": {
      "image/png": "[encoded data removed]",
      "text/plain": [
       "<matplotlib.figure.Figure at 0x110642278>"
      ]
     },
     "metadata": {},
     "output_type": "display_data"
    }
   ],
   "source": [
    "data.tot_hh_daysofobs.hist()"
   ]
  },
  {
   "attachments": {},
   "cell_type": "markdown",
   "metadata": {},
   "source": [
    "## interview_designation, int_date, int_month, int_year, int_yr_mo, first_int_date"
   ]
  },
  {
   "cell_type": "code",
   "execution_count": 46,
   "metadata": {},
   "outputs": [
    {
     "data": {
      "text/plain": [
       "04=Diaries Interview     470866\n",
       "06=Cleaning interview     10769\n",
       "03=Q3                      1458\n",
       "05=Module                   588\n",
       "Name: interview_designation, dtype: int64"
      ]
     },
     "execution_count": 46,
     "metadata": {},
     "output_type": "execute_result"
    }
   ],
   "source": [
    "data.interview_designation.value_counts()"
   ]
  },
  {
   "cell_type": "code",
   "execution_count": 49,
   "metadata": {},
   "outputs": [
    {
     "data": {
      "text/plain": [
       "0    02oct2013\n",
       "1    22apr2013\n",
       "2    02oct2013\n",
       "3    21feb2013\n",
       "4    02may2013\n",
       "Name: int_date, dtype: object"
      ]
     },
     "execution_count": 49,
     "metadata": {},
     "output_type": "execute_result"
    }
   ],
   "source": [
    "data.int_date.head()"
   ]
  },
  {
   "cell_type": "code",
   "execution_count": 50,
   "metadata": {},
   "outputs": [
    {
     "data": {
      "text/plain": [
       "0    10\n",
       "1     4\n",
       "2    10\n",
       "3     2\n",
       "4     5\n",
       "Name: int_month, dtype: int64"
      ]
     },
     "execution_count": 50,
     "metadata": {},
     "output_type": "execute_result"
    }
   ],
   "source": [
    "data.int_month.head()"
   ]
  },
  {
   "cell_type": "code",
   "execution_count": 52,
   "metadata": {},
   "outputs": [
    {
     "data": {
      "text/plain": [
       "2013    410196\n",
       "2012     73727\n",
       "2014        22\n",
       "2015         4\n",
       "Name: int_year, dtype: int64"
      ]
     },
     "execution_count": 52,
     "metadata": {},
     "output_type": "execute_result"
    }
   ],
   "source": [
    "data.int_year.value_counts()"
   ]
  },
  {
   "cell_type": "code",
   "execution_count": 56,
   "metadata": {},
   "outputs": [
    {
     "data": {
      "text/plain": [
       "2013_05    50681\n",
       "2013_07    45816\n",
       "2013_08    45330\n",
       "2013_09    44151\n",
       "2013_01    42231\n",
       "Name: int_yr_mo, dtype: int64"
      ]
     },
     "execution_count": 56,
     "metadata": {},
     "output_type": "execute_result"
    }
   ],
   "source": [
    "data.int_yr_mo.value_counts().head()"
   ]
  },
  {
   "cell_type": "code",
   "execution_count": 58,
   "metadata": {},
   "outputs": [
    {
     "data": {
      "text/plain": [
       "0    08sep2012\n",
       "1    20aug2012\n",
       "2    05sep2012\n",
       "3    07sep2012\n",
       "4    29aug2012\n",
       "Name: first_int_date, dtype: object"
      ]
     },
     "execution_count": 58,
     "metadata": {},
     "output_type": "execute_result"
    }
   ],
   "source": [
    "data.first_int_date.head()"
   ]
  },
  {
   "attachments": {},
   "cell_type": "markdown",
   "metadata": {},
   "source": [
    "## account_ids, unique_accnts, m_ids_owner, unique_hm_owner "
   ]
  },
  {
   "cell_type": "code",
   "execution_count": 62,
   "metadata": {},
   "outputs": [
    {
     "data": {
      "text/plain": [
       "HH                   292464\n",
       "57134477344800000      2071\n",
       "60134553688300000      1628\n",
       "57134432595200000      1484\n",
       "62134571549900000      1322\n",
       "Name: account_ids, dtype: int64"
      ]
     },
     "execution_count": 62,
     "metadata": {},
     "output_type": "execute_result"
    }
   ],
   "source": [
    "data.account_ids.value_counts().head()"
   ]
  },
  {
   "cell_type": "code",
   "execution_count": 63,
   "metadata": {},
   "outputs": [
    {
     "data": {
      "text/plain": [
       "0    1.0\n",
       "1    NaN\n",
       "2    NaN\n",
       "3    NaN\n",
       "4    NaN\n",
       "Name: unique_accnts, dtype: float64"
      ]
     },
     "execution_count": 63,
     "metadata": {},
     "output_type": "execute_result"
    }
   ],
   "source": [
    "data.unique_accnts.head()"
   ]
  },
  {
   "cell_type": "code",
   "execution_count": 75,
   "metadata": {},
   "outputs": [
    {
     "data": {
      "text/plain": [
       "False"
      ]
     },
     "execution_count": 75,
     "metadata": {},
     "output_type": "execute_result"
    }
   ],
   "source": [
    "'65134441430300000' in list(data.account_ids)"
   ]
  },
  {
   "cell_type": "code",
   "execution_count": 64,
   "metadata": {},
   "outputs": [
    {
     "data": {
      "text/plain": [
       "0    58134383397900000\n",
       "1                   HH\n",
       "2    65134441430300000\n",
       "3    61134425330400000\n",
       "4                   HH\n",
       "Name: m_ids_owner, dtype: object"
      ]
     },
     "execution_count": 64,
     "metadata": {},
     "output_type": "execute_result"
    }
   ],
   "source": [
    "data.m_ids_owner.head()"
   ]
  },
  {
   "cell_type": "code",
   "execution_count": 66,
   "metadata": {},
   "outputs": [
    {
     "data": {
      "text/plain": [
       "1.0    670\n",
       "Name: unique_hm_owner, dtype: int64"
      ]
     },
     "execution_count": 66,
     "metadata": {},
     "output_type": "execute_result"
    }
   ],
   "source": [
    "data.unique_hm_owner.value_counts()"
   ]
  },
  {
   "cell_type": "code",
   "execution_count": 68,
   "metadata": {},
   "outputs": [
    {
     "data": {
      "text/plain": [
       "Asset        52021\n",
       "Liability    23078\n",
       "Insurance     1971\n",
       "Name: account_bsheet_desig, dtype: int64"
      ]
     },
     "execution_count": 68,
     "metadata": {},
     "output_type": "execute_result"
    }
   ],
   "source": [
    "data.account_bsheet_desig.value_counts()"
   ]
  },
  {
   "cell_type": "code",
   "execution_count": 69,
   "metadata": {},
   "outputs": [
    {
     "data": {
      "text/plain": [
       "True     406879\n",
       "False     77070\n",
       "Name: account_bsheet_desig, dtype: int64"
      ]
     },
     "execution_count": 69,
     "metadata": {},
     "output_type": "execute_result"
    }
   ],
   "source": [
    "data.account_bsheet_desig.isnull().value_counts()"
   ]
  },
  {
   "cell_type": "code",
   "execution_count": null,
   "metadata": {},
   "outputs": [],
   "source": []
  }
 ],
 "metadata": {
  "kernelspec": {
   "display_name": "Python 3",
   "language": "python",
   "name": "python3"
  },
  "language_info": {
   "codemirror_mode": {
    "name": "ipython",
    "version": 3
   },
   "file_extension": ".py",
   "mimetype": "text/x-python",
   "name": "python",
   "nbconvert_exporter": "python",
   "pygments_lexer": "ipython3",
   "version": "3.6.4"
  }
 },
 "nbformat": 4,
 "nbformat_minor": 2
}
