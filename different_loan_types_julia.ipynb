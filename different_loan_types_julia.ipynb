{
 "cells": [
  {
   "cell_type": "markdown",
   "metadata": {},
   "source": [
    "## Want to explore different loan types"
   ]
  },
  {
   "cell_type": "code",
   "execution_count": 95,
   "metadata": {},
   "outputs": [],
   "source": [
    "import os\n",
    "import pandas as pd \n",
    "import glob\n",
    "import random \n",
    "import numpy as np\n",
    "import matplotlib.pyplot as plt\n",
    "%matplotlib inline "
   ]
  },
  {
   "cell_type": "code",
   "execution_count": 2,
   "metadata": {},
   "outputs": [
    {
     "data": {
      "text/plain": [
       "['Well_Being.ipynb',\n",
       " 'info.pdf',\n",
       " '.DS_Store',\n",
       " 'Exploration_LoanInformalGroup_Ella.ipynb',\n",
       " 'different_loan_types_julia.ipynb',\n",
       " 'Demographics_Education_Julia.ipynb',\n",
       " 'Demo_Individual.ipynb',\n",
       " 'House Ownership.ipynb',\n",
       " 'diaries_transactions_all.csv',\n",
       " 'consumption_julia.ipynb',\n",
       " 'Exploration_LoanP2P_Ella.ipynb',\n",
       " 'README.md',\n",
       " 'Goings-On.ipynb',\n",
       " '.gitignore',\n",
       " 'Exploration_Ella.ipynb',\n",
       " '.ipynb_checkpoints',\n",
       " '.git',\n",
       " 'Exploration_Loan_Ella.ipynb',\n",
       " 'initial_exploration_julia.ipynb',\n",
       " 'aux_data']"
      ]
     },
     "execution_count": 2,
     "metadata": {},
     "output_type": "execute_result"
    }
   ],
   "source": [
    "os.listdir()"
   ]
  },
  {
   "cell_type": "code",
   "execution_count": 3,
   "metadata": {},
   "outputs": [],
   "source": [
    "trx = pd.read_csv('diaries_transactions_all.csv', low_memory=False)"
   ]
  },
  {
   "cell_type": "code",
   "execution_count": 4,
   "metadata": {},
   "outputs": [],
   "source": [
    "pd.set_option('display.max_columns',200)"
   ]
  },
  {
   "cell_type": "code",
   "execution_count": 5,
   "metadata": {},
   "outputs": [
    {
     "data": {
      "text/plain": [
       "(483949, 58)"
      ]
     },
     "execution_count": 5,
     "metadata": {},
     "output_type": "execute_result"
    }
   ],
   "source": [
    "trx.shape"
   ]
  },
  {
   "cell_type": "code",
   "execution_count": 6,
   "metadata": {},
   "outputs": [
    {
     "data": {
      "text/plain": [
       "Index(['hh_ids', 'unique_hhs', 'first_trx_date_hh', 'last_trx_date_hh',\n",
       "       'tot_hh_daysofobs', 'tot_hh_monthsofobs', 'interview_designation',\n",
       "       'int_date', 'int_month', 'int_year', 'int_yr_mo', 'first_int_date',\n",
       "       'account_ids', 'unique_accnts', 'm_ids_owner', 'unique_hm_owner',\n",
       "       'account_bsheet_desig', 'account_startclose_balance', 'account_formal',\n",
       "       'account_liquid', 'first_trx_date_acc', 'last_trx_date_acc',\n",
       "       'tot_acc_daysofobs', 'tot_acc_monthsofobs', 'trx_id', 'm_ids_trx',\n",
       "       'trx_date', 'trx_month', 'trx_year', 'trx_yr_mo', 'trx_dq_round',\n",
       "       'trx_stdtime_days_hh', 'trx_stdtime_mnths_hh', 'trx_stdtime_days_acc',\n",
       "       'trx_stdtime_mnths_acc', 'trx_class_code', 'trx_class_desc',\n",
       "       'trx_family_code', 'trx_family_desc', 'trx_type_code', 'trx_type_desc',\n",
       "       'trx_prx_purpose', 'trx_prx_purpose_fd', 'trx_fee',\n",
       "       'trx_bsheet_direction', 'trx_mode_code', 'trx_mode_desc',\n",
       "       'trx_place_incommunity', 'trx_distance_km', 'trx_outlet',\n",
       "       'trx_direction', 'trx_value_kes', 'trx_value_usd', 'ddd_gift',\n",
       "       'trx_inkind_units', 'trx_inkind_value_usd', 'trx_inkind_value_kes',\n",
       "       'trx_stdtime_mnths_hh_nr'],\n",
       "      dtype='object')"
      ]
     },
     "execution_count": 6,
     "metadata": {},
     "output_type": "execute_result"
    }
   ],
   "source": [
    "trx.columns"
   ]
  },
  {
   "cell_type": "markdown",
   "metadata": {},
   "source": [
    "## Account questions: "
   ]
  },
  {
   "cell_type": "markdown",
   "metadata": {},
   "source": [
    "### How many accounts are there? "
   ]
  },
  {
   "cell_type": "code",
   "execution_count": 7,
   "metadata": {},
   "outputs": [
    {
     "data": {
      "text/plain": [
       "9547"
      ]
     },
     "execution_count": 7,
     "metadata": {},
     "output_type": "execute_result"
    }
   ],
   "source": [
    "len(trx.account_ids.unique())"
   ]
  },
  {
   "cell_type": "markdown",
   "metadata": {},
   "source": [
    "Is this the same as unique_accounts ? "
   ]
  },
  {
   "cell_type": "code",
   "execution_count": 8,
   "metadata": {},
   "outputs": [
    {
     "data": {
      "text/plain": [
       "1.0    9546\n",
       "Name: unique_accnts, dtype: int64"
      ]
     },
     "execution_count": 8,
     "metadata": {},
     "output_type": "execute_result"
    }
   ],
   "source": [
    "trx.unique_accnts.value_counts()"
   ]
  },
  {
   "cell_type": "markdown",
   "metadata": {},
   "source": [
    "Yup. "
   ]
  },
  {
   "cell_type": "markdown",
   "metadata": {},
   "source": [
    "### Account types?"
   ]
  },
  {
   "cell_type": "code",
   "execution_count": 9,
   "metadata": {},
   "outputs": [
    {
     "data": {
      "text/plain": [
       "Asset        52021\n",
       "Liability    23078\n",
       "Insurance     1971\n",
       "Name: account_bsheet_desig, dtype: int64"
      ]
     },
     "execution_count": 9,
     "metadata": {},
     "output_type": "execute_result"
    }
   ],
   "source": [
    "trx.account_bsheet_desig.value_counts()"
   ]
  },
  {
   "cell_type": "markdown",
   "metadata": {},
   "source": [
    "### How many unique liabilities accounts, e.g. loans?  "
   ]
  },
  {
   "cell_type": "code",
   "execution_count": 10,
   "metadata": {},
   "outputs": [
    {
     "data": {
      "text/plain": [
       "(9546, 58)"
      ]
     },
     "execution_count": 10,
     "metadata": {},
     "output_type": "execute_result"
    }
   ],
   "source": [
    "trx.loc[trx['unique_accnts']==1].shape"
   ]
  },
  {
   "cell_type": "code",
   "execution_count": 11,
   "metadata": {},
   "outputs": [
    {
     "data": {
      "text/plain": [
       "Asset        2828\n",
       "Liability    1906\n",
       "Insurance     254\n",
       "Name: account_bsheet_desig, dtype: int64"
      ]
     },
     "execution_count": 11,
     "metadata": {},
     "output_type": "execute_result"
    }
   ],
   "source": [
    "trx.loc[trx['unique_accnts']==1].account_bsheet_desig.value_counts()"
   ]
  },
  {
   "cell_type": "markdown",
   "metadata": {},
   "source": [
    "1906 loans in total to work with. "
   ]
  },
  {
   "cell_type": "markdown",
   "metadata": {},
   "source": [
    "### How many of these accounts are formal? "
   ]
  },
  {
   "cell_type": "code",
   "execution_count": 12,
   "metadata": {},
   "outputs": [
    {
     "data": {
      "text/plain": [
       "Informal    1691\n",
       "Formal       215\n",
       "Name: account_formal, dtype: int64"
      ]
     },
     "execution_count": 12,
     "metadata": {},
     "output_type": "execute_result"
    }
   ],
   "source": [
    "trx.loc[trx['unique_accnts']==1].loc[trx['account_bsheet_desig']==\"Liability\"].account_formal.value_counts()"
   ]
  },
  {
   "cell_type": "markdown",
   "metadata": {},
   "source": [
    "### What kinds of transactions are happening with liabilities? "
   ]
  },
  {
   "cell_type": "code",
   "execution_count": 13,
   "metadata": {},
   "outputs": [
    {
     "data": {
      "text/plain": [
       "INFP2P     14755\n",
       "SUPPCRD     4050\n",
       "FRMLN       1429\n",
       "INFGRP      1377\n",
       "ARREARS     1058\n",
       "ADVANCE      280\n",
       "EMPLN        111\n",
       "PAWN          16\n",
       "OTHER          2\n",
       "Name: trx_family_code, dtype: int64"
      ]
     },
     "execution_count": 13,
     "metadata": {},
     "output_type": "execute_result"
    }
   ],
   "source": [
    "trx.loc[trx['account_bsheet_desig']==\"Liability\"].trx_family_code.value_counts()"
   ]
  },
  {
   "cell_type": "code",
   "execution_count": 14,
   "metadata": {},
   "outputs": [
    {
     "data": {
      "text/plain": [
       "Informal P2P                              14755\n",
       "Supplier credit                            4050\n",
       "Formal loan                                1429\n",
       "Informal group                             1377\n",
       "Arrears owed to or owed by respondents     1058\n",
       "Advance                                     280\n",
       "Loan from employer                          111\n",
       "Pawning assets                               16\n",
       "Other                                         2\n",
       "Name: trx_family_desc, dtype: int64"
      ]
     },
     "execution_count": 14,
     "metadata": {},
     "output_type": "execute_result"
    }
   ],
   "source": [
    "trx.loc[trx['account_bsheet_desig']==\"Liability\"].trx_family_desc.value_counts()"
   ]
  },
  {
   "cell_type": "markdown",
   "metadata": {},
   "source": [
    "### What transactions are in \"informal\" loan categories, and which are in the \"formal\" categories? "
   ]
  },
  {
   "cell_type": "code",
   "execution_count": 15,
   "metadata": {},
   "outputs": [
    {
     "data": {
      "text/plain": [
       "Supplier credit    2973\n",
       "Formal loan        1276\n",
       "Other                 2\n",
       "Name: trx_family_desc, dtype: int64"
      ]
     },
     "execution_count": 15,
     "metadata": {},
     "output_type": "execute_result"
    }
   ],
   "source": [
    "trx.loc[trx['account_bsheet_desig']==\"Liability\"].loc[trx['account_formal']==\"Formal\"].trx_family_desc.value_counts()"
   ]
  },
  {
   "cell_type": "code",
   "execution_count": 16,
   "metadata": {},
   "outputs": [
    {
     "data": {
      "text/plain": [
       "Informal P2P                              14755\n",
       "Informal group                             1377\n",
       "Supplier credit                            1077\n",
       "Arrears owed to or owed by respondents     1058\n",
       "Advance                                     280\n",
       "Formal loan                                 153\n",
       "Loan from employer                          111\n",
       "Pawning assets                               16\n",
       "Name: trx_family_desc, dtype: int64"
      ]
     },
     "execution_count": 16,
     "metadata": {},
     "output_type": "execute_result"
    }
   ],
   "source": [
    "trx.loc[trx['account_bsheet_desig']==\"Liability\"].loc[trx['account_formal']==\"Informal\"].trx_family_desc.value_counts()"
   ]
  },
  {
   "cell_type": "markdown",
   "metadata": {},
   "source": [
    "### How many closing balances of a formal loan are recorded? "
   ]
  },
  {
   "cell_type": "code",
   "execution_count": 17,
   "metadata": {},
   "outputs": [
    {
     "data": {
      "text/plain": [
       "Close    201\n",
       "Start     77\n",
       "Name: account_startclose_balance, dtype: int64"
      ]
     },
     "execution_count": 17,
     "metadata": {},
     "output_type": "execute_result"
    }
   ],
   "source": [
    "trx.loc[trx['account_bsheet_desig']==\"Liability\"].loc[trx['account_formal']==\"Formal\"].account_startclose_balance.value_counts()\n"
   ]
  },
  {
   "cell_type": "markdown",
   "metadata": {},
   "source": [
    "### For those listed as a closing balance, how many are zero? "
   ]
  },
  {
   "cell_type": "code",
   "execution_count": 18,
   "metadata": {},
   "outputs": [
    {
     "data": {
      "text/plain": [
       "0.0       114\n",
       "20.0        5\n",
       "50.0        4\n",
       "10.0        4\n",
       "1075.0      2\n",
       "Name: trx_value_kes, dtype: int64"
      ]
     },
     "execution_count": 18,
     "metadata": {},
     "output_type": "execute_result"
    }
   ],
   "source": [
    "trx.loc[trx['account_bsheet_desig']==\"Liability\"].loc[trx['account_formal']==\"Formal\"].loc[trx['account_startclose_balance']=='Close'].trx_value_kes.value_counts().head()\n"
   ]
  },
  {
   "cell_type": "markdown",
   "metadata": {},
   "source": [
    "### What is the average number of days these liability accounts are observed? "
   ]
  },
  {
   "cell_type": "markdown",
   "metadata": {},
   "source": [
    "All liabilities: "
   ]
  },
  {
   "cell_type": "code",
   "execution_count": 19,
   "metadata": {},
   "outputs": [
    {
     "data": {
      "text/plain": [
       "221.24186778593915"
      ]
     },
     "execution_count": 19,
     "metadata": {},
     "output_type": "execute_result"
    }
   ],
   "source": [
    "trx.loc[trx['unique_accnts']==1].loc[trx['account_bsheet_desig']==\"Liability\"].tot_acc_daysofobs.mean()"
   ]
  },
  {
   "cell_type": "markdown",
   "metadata": {},
   "source": [
    "Formal liabilities: "
   ]
  },
  {
   "cell_type": "code",
   "execution_count": 20,
   "metadata": {},
   "outputs": [
    {
     "data": {
      "text/plain": [
       "236.05116279069767"
      ]
     },
     "execution_count": 20,
     "metadata": {},
     "output_type": "execute_result"
    }
   ],
   "source": [
    "trx.loc[trx['unique_accnts']==1].loc[trx['account_bsheet_desig']==\"Liability\"].loc[trx['account_formal']=='Formal'].tot_acc_daysofobs.mean()"
   ]
  },
  {
   "cell_type": "markdown",
   "metadata": {},
   "source": [
    "### For all of the loans, how many unique HH IDs are there, and how many unique owners are there? "
   ]
  },
  {
   "cell_type": "code",
   "execution_count": 28,
   "metadata": {},
   "outputs": [],
   "source": [
    "unique_loans = trx.loc[trx['unique_accnts']==1].loc[trx['account_bsheet_desig']==\"Liability\"]"
   ]
  },
  {
   "cell_type": "code",
   "execution_count": 26,
   "metadata": {},
   "outputs": [
    {
     "data": {
      "text/plain": [
       "291"
      ]
     },
     "execution_count": 26,
     "metadata": {},
     "output_type": "execute_result"
    }
   ],
   "source": [
    "len(unique_loans.hh_ids.unique())"
   ]
  },
  {
   "cell_type": "code",
   "execution_count": 27,
   "metadata": {},
   "outputs": [
    {
     "data": {
      "text/plain": [
       "436"
      ]
     },
     "execution_count": 27,
     "metadata": {},
     "output_type": "execute_result"
    }
   ],
   "source": [
    "len(unique_loans.m_ids_owner.unique())"
   ]
  },
  {
   "cell_type": "markdown",
   "metadata": {},
   "source": [
    "## What do different loan types look like in terms of data? "
   ]
  },
  {
   "cell_type": "markdown",
   "metadata": {},
   "source": [
    "### Formal Liabilities: FRMLN"
   ]
  },
  {
   "cell_type": "code",
   "execution_count": 33,
   "metadata": {},
   "outputs": [
    {
     "data": {
      "text/plain": [
       "FRMLN      133\n",
       "SUPPCRD     82\n",
       "Name: trx_family_code, dtype: int64"
      ]
     },
     "execution_count": 33,
     "metadata": {},
     "output_type": "execute_result"
    }
   ],
   "source": [
    "unique_loans.loc[trx['account_formal']=='Formal'].trx_family_code.value_counts()"
   ]
  },
  {
   "cell_type": "code",
   "execution_count": 34,
   "metadata": {},
   "outputs": [
    {
     "data": {
      "text/plain": [
       "Formal loan        133\n",
       "Supplier credit     82\n",
       "Name: trx_family_desc, dtype: int64"
      ]
     },
     "execution_count": 34,
     "metadata": {},
     "output_type": "execute_result"
    }
   ],
   "source": [
    "unique_loans.loc[trx['account_formal']=='Formal'].trx_family_desc.value_counts()"
   ]
  },
  {
   "cell_type": "code",
   "execution_count": 69,
   "metadata": {},
   "outputs": [],
   "source": [
    "random.seed(1)\n",
    "a = random.choice(unique_loans.loc[trx['trx_family_code']=='FRMLN'][\"account_ids\"].unique())"
   ]
  },
  {
   "cell_type": "code",
   "execution_count": 78,
   "metadata": {},
   "outputs": [],
   "source": [
    "FRMLNa = trx[trx[\"account_ids\"]==a]"
   ]
  },
  {
   "cell_type": "code",
   "execution_count": 81,
   "metadata": {},
   "outputs": [],
   "source": [
    "FRMLNa = FRMLNa.copy()"
   ]
  },
  {
   "cell_type": "code",
   "execution_count": 82,
   "metadata": {},
   "outputs": [],
   "source": [
    "FRMLNa.sort_values(\"trx_stdtime_days_acc\", inplace=True)"
   ]
  },
  {
   "cell_type": "code",
   "execution_count": 85,
   "metadata": {},
   "outputs": [],
   "source": [
    "for index, row in FRMLNa.iterrows():\n",
    "    if FRMLNa.loc[index,\"trx_bsheet_direction\"]==\"Increase\":\n",
    "        FRMLNa.at[index,\"trx_val_dir\"] = FRMLNa.loc[index,\"trx_value_kes\"]\n",
    "    elif FRMLNa.loc[index,\"trx_bsheet_direction\"]==\"Decrease\":\n",
    "        FRMLNa.at[index,\"trx_val_dir\"] = -FRMLNa.loc[index,\"trx_value_kes\"]\n",
    "    else:\n",
    "        print(\"Error neither increase nor decrease at index\" + index)"
   ]
  },
  {
   "cell_type": "code",
   "execution_count": 86,
   "metadata": {},
   "outputs": [
    {
     "data": {
      "text/html": [
       "<div>\n",
       "<style scoped>\n",
       "    .dataframe tbody tr th:only-of-type {\n",
       "        vertical-align: middle;\n",
       "    }\n",
       "\n",
       "    .dataframe tbody tr th {\n",
       "        vertical-align: top;\n",
       "    }\n",
       "\n",
       "    .dataframe thead th {\n",
       "        text-align: right;\n",
       "    }\n",
       "</style>\n",
       "<table border=\"1\" class=\"dataframe\">\n",
       "  <thead>\n",
       "    <tr style=\"text-align: right;\">\n",
       "      <th></th>\n",
       "      <th>trx_stdtime_days_acc</th>\n",
       "      <th>trx_value_kes</th>\n",
       "      <th>trx_prx_purpose</th>\n",
       "      <th>trx_direction</th>\n",
       "      <th>trx_bsheet_direction</th>\n",
       "      <th>trx_val_dir</th>\n",
       "    </tr>\n",
       "  </thead>\n",
       "  <tbody>\n",
       "    <tr>\n",
       "      <th>8312</th>\n",
       "      <td>0</td>\n",
       "      <td>38000.0</td>\n",
       "      <td>1. Starting balance (today)</td>\n",
       "      <td>NaN</td>\n",
       "      <td>Increase</td>\n",
       "      <td>38000.0</td>\n",
       "    </tr>\n",
       "    <tr>\n",
       "      <th>5456</th>\n",
       "      <td>18</td>\n",
       "      <td>3400.0</td>\n",
       "      <td>3. Payments</td>\n",
       "      <td>Outflow</td>\n",
       "      <td>Decrease</td>\n",
       "      <td>-3400.0</td>\n",
       "    </tr>\n",
       "    <tr>\n",
       "      <th>13411</th>\n",
       "      <td>19</td>\n",
       "      <td>304.0</td>\n",
       "      <td>4. Any known fees</td>\n",
       "      <td>NaN</td>\n",
       "      <td>Increase</td>\n",
       "      <td>304.0</td>\n",
       "    </tr>\n",
       "    <tr>\n",
       "      <th>6497</th>\n",
       "      <td>49</td>\n",
       "      <td>3400.0</td>\n",
       "      <td>3. Payments</td>\n",
       "      <td>Outflow</td>\n",
       "      <td>Decrease</td>\n",
       "      <td>-3400.0</td>\n",
       "    </tr>\n",
       "    <tr>\n",
       "      <th>17163</th>\n",
       "      <td>49</td>\n",
       "      <td>270.0</td>\n",
       "      <td>3. Payments</td>\n",
       "      <td>Outflow</td>\n",
       "      <td>Decrease</td>\n",
       "      <td>-270.0</td>\n",
       "    </tr>\n",
       "    <tr>\n",
       "      <th>4513</th>\n",
       "      <td>80</td>\n",
       "      <td>3400.0</td>\n",
       "      <td>3. Payments</td>\n",
       "      <td>Outflow</td>\n",
       "      <td>Decrease</td>\n",
       "      <td>-3400.0</td>\n",
       "    </tr>\n",
       "    <tr>\n",
       "      <th>19338</th>\n",
       "      <td>80</td>\n",
       "      <td>270.0</td>\n",
       "      <td>3. Payments</td>\n",
       "      <td>Outflow</td>\n",
       "      <td>Decrease</td>\n",
       "      <td>-270.0</td>\n",
       "    </tr>\n",
       "    <tr>\n",
       "      <th>454057</th>\n",
       "      <td>112</td>\n",
       "      <td>3400.0</td>\n",
       "      <td>3. Payments</td>\n",
       "      <td>Outflow</td>\n",
       "      <td>Decrease</td>\n",
       "      <td>-3400.0</td>\n",
       "    </tr>\n",
       "    <tr>\n",
       "      <th>438450</th>\n",
       "      <td>139</td>\n",
       "      <td>2100.0</td>\n",
       "      <td>3. Payments</td>\n",
       "      <td>Outflow</td>\n",
       "      <td>Decrease</td>\n",
       "      <td>-2100.0</td>\n",
       "    </tr>\n",
       "    <tr>\n",
       "      <th>438564</th>\n",
       "      <td>170</td>\n",
       "      <td>2100.0</td>\n",
       "      <td>3. Payments</td>\n",
       "      <td>Outflow</td>\n",
       "      <td>Decrease</td>\n",
       "      <td>-2100.0</td>\n",
       "    </tr>\n",
       "    <tr>\n",
       "      <th>438499</th>\n",
       "      <td>200</td>\n",
       "      <td>2100.0</td>\n",
       "      <td>3. Payments</td>\n",
       "      <td>Outflow</td>\n",
       "      <td>Decrease</td>\n",
       "      <td>-2100.0</td>\n",
       "    </tr>\n",
       "  </tbody>\n",
       "</table>\n",
       "</div>"
      ],
      "text/plain": [
       "        trx_stdtime_days_acc  trx_value_kes              trx_prx_purpose  \\\n",
       "8312                       0        38000.0  1. Starting balance (today)   \n",
       "5456                      18         3400.0                  3. Payments   \n",
       "13411                     19          304.0            4. Any known fees   \n",
       "6497                      49         3400.0                  3. Payments   \n",
       "17163                     49          270.0                  3. Payments   \n",
       "4513                      80         3400.0                  3. Payments   \n",
       "19338                     80          270.0                  3. Payments   \n",
       "454057                   112         3400.0                  3. Payments   \n",
       "438450                   139         2100.0                  3. Payments   \n",
       "438564                   170         2100.0                  3. Payments   \n",
       "438499                   200         2100.0                  3. Payments   \n",
       "\n",
       "       trx_direction trx_bsheet_direction  trx_val_dir  \n",
       "8312             NaN             Increase      38000.0  \n",
       "5456         Outflow             Decrease      -3400.0  \n",
       "13411            NaN             Increase        304.0  \n",
       "6497         Outflow             Decrease      -3400.0  \n",
       "17163        Outflow             Decrease       -270.0  \n",
       "4513         Outflow             Decrease      -3400.0  \n",
       "19338        Outflow             Decrease       -270.0  \n",
       "454057       Outflow             Decrease      -3400.0  \n",
       "438450       Outflow             Decrease      -2100.0  \n",
       "438564       Outflow             Decrease      -2100.0  \n",
       "438499       Outflow             Decrease      -2100.0  "
      ]
     },
     "execution_count": 86,
     "metadata": {},
     "output_type": "execute_result"
    }
   ],
   "source": [
    "FRMLNa[[\"trx_stdtime_days_acc\",\"trx_value_kes\",\"trx_prx_purpose\",\"trx_direction\",\"trx_bsheet_direction\",\"trx_val_dir\"]]"
   ]
  },
  {
   "cell_type": "code",
   "execution_count": 90,
   "metadata": {},
   "outputs": [],
   "source": [
    "FRMLNa.insert(59,\"bal_evol\",np.zeros(FRMLNa.shape[0]))"
   ]
  },
  {
   "cell_type": "code",
   "execution_count": 91,
   "metadata": {},
   "outputs": [],
   "source": [
    "s=0\n",
    "for index,row in FRMLNa.iterrows():\n",
    "    s+=FRMLNa.loc[index,\"trx_val_dir\"]\n",
    "    FRMLNa.at[index,\"bal_evol\"]=s"
   ]
  },
  {
   "cell_type": "code",
   "execution_count": 96,
   "metadata": {
    "scrolled": true
   },
   "outputs": [
    {
     "data": {
      "text/plain": [
       "<matplotlib.axes._subplots.AxesSubplot at 0x11d4091d0>"
      ]
     },
     "execution_count": 96,
     "metadata": {},
     "output_type": "execute_result"
    },
    {
     "data": {
      "image/png": "[encoded data removed]",
      "text/plain": [
       "<matplotlib.figure.Figure at 0x11d2144e0>"
      ]
     },
     "metadata": {},
     "output_type": "display_data"
    }
   ],
   "source": [
    "FRMLNa.plot(x=\"trx_stdtime_days_acc\",y=\"bal_evol\")"
   ]
  },
  {
   "cell_type": "markdown",
   "metadata": {},
   "source": [
    "### Formal Liabilities: SUPPCRD"
   ]
  },
  {
   "cell_type": "code",
   "execution_count": 106,
   "metadata": {},
   "outputs": [],
   "source": [
    "random.seed(2)\n",
    "a = random.choice(unique_loans.loc[trx['trx_family_code']=='SUPPCRD'][\"account_ids\"].unique())"
   ]
  },
  {
   "cell_type": "code",
   "execution_count": 110,
   "metadata": {},
   "outputs": [
    {
     "data": {
      "text/plain": [
       "array(['50136878822000000', '57135223754100000', '57134676182300000',\n",
       "       '57137524306300000', '63135288093300000', '60137783227600000',\n",
       "       '58135920263600000', '58136004000800000', '59135877834100000',\n",
       "       '50139088311500000', '63135107500700000', '56135248674800000',\n",
       "       '62136007083200000', '60136057408300000', '59135274677100000',\n",
       "       '57136612748000000', '59137714992800000', '60135392548800000',\n",
       "       '65135953191700000', '62135961838200000', '57135254546100000',\n",
       "       '63137627556700000', '60135469741800000', '62135954274100000',\n",
       "       '65134744520000000', '89137948949600000', '58135965411900000',\n",
       "       '89138561248700000', '89135767680000000', '89135918743300000',\n",
       "       '89136747851100000', '89138561182100000', '89136083469300000',\n",
       "       '60134752365300000', '50138189663900000', '50135219190800000',\n",
       "       '60135175549300000', '105136827062800000', '63135290342200000',\n",
       "       '57137888347200000', '57134752609900000', '62135818010100000',\n",
       "       '57135134172900000', '50136980794800000', '57137087216700000',\n",
       "       '89137343522500000', '62134806611100000', '57136514549200000',\n",
       "       '57137644889400000', '61135096542400000', '63135162478800000',\n",
       "       '112137673478100000', '57137466249700000', '57136006337100000',\n",
       "       '59135410769300000', '57134676139200000', '58135965207400000',\n",
       "       '58136014242300000', '57135404759300000', '57136878994600000',\n",
       "       '60135433709100000', '89135948518700000', '57137596063500000',\n",
       "       '63135109447300000', '58136008143500000', '57134726249700000',\n",
       "       '56135245250200000', '62135996864400000', '57137647210400000',\n",
       "       '65135072522400000', '57137644900200000', '57137466242200000',\n",
       "       '65135288049000000', '50136887880900000', '50136756185100000',\n",
       "       '57134675281100000', '108137265464500000', '65135170923500000',\n",
       "       '79134918081400000', '50135392209600000', '61135175636600000',\n",
       "       '61136083114300000', '57136070256100000', '57136514235900000',\n",
       "       '57136058681200000', '61135212694300000', '59135404292400000',\n",
       "       '57138028075100000', '57137745601100000', '57137662169800000',\n",
       "       '57137437985500000', '60135832619900000', '57136070451200000',\n",
       "       '62134812644100000', '60135399632800000', '50135244822100000',\n",
       "       '57137120374000000', '89137769420300000', '61135473959500000',\n",
       "       '57135254536900000', '57137246646700000', '61135342253900000',\n",
       "       '84137360540700000', '60135430369700000', '61135290365300000',\n",
       "       '57136070379900000', '89136747461100000', '57135988333300000',\n",
       "       '105136815738800000', '59137528223500000', '62137879403700000',\n",
       "       '57136876873200000', '57136876880200000', '58135996826900000',\n",
       "       '57136514187600000', '62137101512700000', '57136393881300000',\n",
       "       '57136784691500000', '61136188855500000', '60135335082300000',\n",
       "       '60136109008500000', '60136177529300000', '61135462301100000',\n",
       "       '57138370944500000', '34135887983100000', '57137120278100000',\n",
       "       '58136008132000000', '57135366401000000', '57137120318200000',\n",
       "       '57136876940800000', '57136784626300000', '89135918696600000',\n",
       "       '57136073315900000', '89140195521000000', '63135965680500000',\n",
       "       '89136134286500000', '63136006518600000', '57135245860600000',\n",
       "       '105137579619400000', '60135433704200000', '57136784498300000',\n",
       "       '57137711963100000', '57136784445400000', '108137087650900000',\n",
       "       '57136876866300000', '59136799471500000', '89137594015400000',\n",
       "       '89135851126300000', '61136188803800000'], dtype=object)"
      ]
     },
     "execution_count": 110,
     "metadata": {},
     "output_type": "execute_result"
    }
   ],
   "source": [
    "unique_suppcrd_trx = unique_loans.loc[trx['trx_family_code']=='SUPPCRD'][\"account_ids\"].unique()"
   ]
  },
  {
   "cell_type": "code",
   "execution_count": 107,
   "metadata": {},
   "outputs": [],
   "source": [
    "SUPPCRDa = trx[trx[\"account_ids\"]==a]"
   ]
  },
  {
   "cell_type": "code",
   "execution_count": 108,
   "metadata": {},
   "outputs": [],
   "source": [
    "SUPPCRDa = SUPPCRDa.copy()"
   ]
  },
  {
   "cell_type": "code",
   "execution_count": 109,
   "metadata": {},
   "outputs": [
    {
     "data": {
      "text/html": [
       "<div>\n",
       "<style scoped>\n",
       "    .dataframe tbody tr th:only-of-type {\n",
       "        vertical-align: middle;\n",
       "    }\n",
       "\n",
       "    .dataframe tbody tr th {\n",
       "        vertical-align: top;\n",
       "    }\n",
       "\n",
       "    .dataframe thead th {\n",
       "        text-align: right;\n",
       "    }\n",
       "</style>\n",
       "<table border=\"1\" class=\"dataframe\">\n",
       "  <thead>\n",
       "    <tr style=\"text-align: right;\">\n",
       "      <th></th>\n",
       "      <th>hh_ids</th>\n",
       "      <th>unique_hhs</th>\n",
       "      <th>first_trx_date_hh</th>\n",
       "      <th>last_trx_date_hh</th>\n",
       "      <th>tot_hh_daysofobs</th>\n",
       "      <th>tot_hh_monthsofobs</th>\n",
       "      <th>interview_designation</th>\n",
       "      <th>int_date</th>\n",
       "      <th>int_month</th>\n",
       "      <th>int_year</th>\n",
       "      <th>int_yr_mo</th>\n",
       "      <th>first_int_date</th>\n",
       "      <th>account_ids</th>\n",
       "      <th>unique_accnts</th>\n",
       "      <th>m_ids_owner</th>\n",
       "      <th>unique_hm_owner</th>\n",
       "      <th>account_bsheet_desig</th>\n",
       "      <th>account_startclose_balance</th>\n",
       "      <th>account_formal</th>\n",
       "      <th>account_liquid</th>\n",
       "      <th>first_trx_date_acc</th>\n",
       "      <th>last_trx_date_acc</th>\n",
       "      <th>tot_acc_daysofobs</th>\n",
       "      <th>tot_acc_monthsofobs</th>\n",
       "      <th>trx_id</th>\n",
       "      <th>m_ids_trx</th>\n",
       "      <th>trx_date</th>\n",
       "      <th>trx_month</th>\n",
       "      <th>trx_year</th>\n",
       "      <th>trx_yr_mo</th>\n",
       "      <th>trx_dq_round</th>\n",
       "      <th>trx_stdtime_days_hh</th>\n",
       "      <th>trx_stdtime_mnths_hh</th>\n",
       "      <th>trx_stdtime_days_acc</th>\n",
       "      <th>trx_stdtime_mnths_acc</th>\n",
       "      <th>trx_class_code</th>\n",
       "      <th>trx_class_desc</th>\n",
       "      <th>trx_family_code</th>\n",
       "      <th>trx_family_desc</th>\n",
       "      <th>trx_type_code</th>\n",
       "      <th>trx_type_desc</th>\n",
       "      <th>trx_prx_purpose</th>\n",
       "      <th>trx_prx_purpose_fd</th>\n",
       "      <th>trx_fee</th>\n",
       "      <th>trx_bsheet_direction</th>\n",
       "      <th>trx_mode_code</th>\n",
       "      <th>trx_mode_desc</th>\n",
       "      <th>trx_place_incommunity</th>\n",
       "      <th>trx_distance_km</th>\n",
       "      <th>trx_outlet</th>\n",
       "      <th>trx_direction</th>\n",
       "      <th>trx_value_kes</th>\n",
       "      <th>trx_value_usd</th>\n",
       "      <th>ddd_gift</th>\n",
       "      <th>trx_inkind_units</th>\n",
       "      <th>trx_inkind_value_usd</th>\n",
       "      <th>trx_inkind_value_kes</th>\n",
       "      <th>trx_stdtime_mnths_hh_nr</th>\n",
       "    </tr>\n",
       "  </thead>\n",
       "  <tbody>\n",
       "    <tr>\n",
       "      <th>3677</th>\n",
       "      <td>KVIHC31</td>\n",
       "      <td>NaN</td>\n",
       "      <td>03sep2012</td>\n",
       "      <td>25sep2013</td>\n",
       "      <td>387</td>\n",
       "      <td>13</td>\n",
       "      <td>04=Diaries Interview</td>\n",
       "      <td>25sep2013</td>\n",
       "      <td>9</td>\n",
       "      <td>2013</td>\n",
       "      <td>2013_09</td>\n",
       "      <td>27aug2012</td>\n",
       "      <td>59135274677100000</td>\n",
       "      <td>NaN</td>\n",
       "      <td>59134363516700000</td>\n",
       "      <td>NaN</td>\n",
       "      <td>Liability</td>\n",
       "      <td>Close</td>\n",
       "      <td>Formal</td>\n",
       "      <td>NaN</td>\n",
       "      <td>16mar2013</td>\n",
       "      <td>25sep2013</td>\n",
       "      <td>193</td>\n",
       "      <td>6</td>\n",
       "      <td>59138017096600000</td>\n",
       "      <td>59134363516700000</td>\n",
       "      <td>25sep2013</td>\n",
       "      <td>9</td>\n",
       "      <td>2013</td>\n",
       "      <td>2013_09</td>\n",
       "      <td>19.0</td>\n",
       "      <td>387</td>\n",
       "      <td>13</td>\n",
       "      <td>193</td>\n",
       "      <td>6</td>\n",
       "      <td>findev</td>\n",
       "      <td>Borrowing, lending, savings or insurance media...</td>\n",
       "      <td>SUPPCRD</td>\n",
       "      <td>Supplier credit</td>\n",
       "      <td>4214</td>\n",
       "      <td>Okoa Jahazi</td>\n",
       "      <td>Closing Balance--End of last DQ</td>\n",
       "      <td>NaN</td>\n",
       "      <td>0.0</td>\n",
       "      <td>NaN</td>\n",
       "      <td>19.0</td>\n",
       "      <td>CLOSING BALANCE</td>\n",
       "      <td>NaN</td>\n",
       "      <td>NaN</td>\n",
       "      <td>NaN</td>\n",
       "      <td>NaN</td>\n",
       "      <td>0.0</td>\n",
       "      <td>0.000000</td>\n",
       "      <td>0</td>\n",
       "      <td>NaN</td>\n",
       "      <td>NaN</td>\n",
       "      <td>NaN</td>\n",
       "      <td>13.344830</td>\n",
       "    </tr>\n",
       "    <tr>\n",
       "      <th>3820</th>\n",
       "      <td>KVIHC31</td>\n",
       "      <td>NaN</td>\n",
       "      <td>03sep2012</td>\n",
       "      <td>25sep2013</td>\n",
       "      <td>387</td>\n",
       "      <td>13</td>\n",
       "      <td>04=Diaries Interview</td>\n",
       "      <td>18mar2013</td>\n",
       "      <td>3</td>\n",
       "      <td>2013</td>\n",
       "      <td>2013_03</td>\n",
       "      <td>27aug2012</td>\n",
       "      <td>59135274677100000</td>\n",
       "      <td>1.0</td>\n",
       "      <td>59134363516700000</td>\n",
       "      <td>NaN</td>\n",
       "      <td>Liability</td>\n",
       "      <td>NaN</td>\n",
       "      <td>Formal</td>\n",
       "      <td>NaN</td>\n",
       "      <td>16mar2013</td>\n",
       "      <td>25sep2013</td>\n",
       "      <td>193</td>\n",
       "      <td>6</td>\n",
       "      <td>59136359710700000</td>\n",
       "      <td>59134363516700000</td>\n",
       "      <td>16mar2013</td>\n",
       "      <td>3</td>\n",
       "      <td>2013</td>\n",
       "      <td>2013_03</td>\n",
       "      <td>7.0</td>\n",
       "      <td>194</td>\n",
       "      <td>6</td>\n",
       "      <td>0</td>\n",
       "      <td>0</td>\n",
       "      <td>findev</td>\n",
       "      <td>Borrowing, lending, savings or insurance media...</td>\n",
       "      <td>SUPPCRD</td>\n",
       "      <td>Supplier credit</td>\n",
       "      <td>4214</td>\n",
       "      <td>Okoa Jahazi</td>\n",
       "      <td>New airtime on credit/new borrowing</td>\n",
       "      <td>New borrowing on financial liability</td>\n",
       "      <td>0.0</td>\n",
       "      <td>Increase</td>\n",
       "      <td>8.0</td>\n",
       "      <td>Purchase on credit/arrears</td>\n",
       "      <td>NaN</td>\n",
       "      <td>NaN</td>\n",
       "      <td>NaN</td>\n",
       "      <td>Inflow</td>\n",
       "      <td>18.0</td>\n",
       "      <td>0.211765</td>\n",
       "      <td>0</td>\n",
       "      <td>NaN</td>\n",
       "      <td>NaN</td>\n",
       "      <td>NaN</td>\n",
       "      <td>6.689655</td>\n",
       "    </tr>\n",
       "    <tr>\n",
       "      <th>3821</th>\n",
       "      <td>KVIHC31</td>\n",
       "      <td>NaN</td>\n",
       "      <td>03sep2012</td>\n",
       "      <td>25sep2013</td>\n",
       "      <td>387</td>\n",
       "      <td>13</td>\n",
       "      <td>04=Diaries Interview</td>\n",
       "      <td>18mar2013</td>\n",
       "      <td>3</td>\n",
       "      <td>2013</td>\n",
       "      <td>2013_03</td>\n",
       "      <td>27aug2012</td>\n",
       "      <td>59135274677100000</td>\n",
       "      <td>NaN</td>\n",
       "      <td>59134363516700000</td>\n",
       "      <td>NaN</td>\n",
       "      <td>Liability</td>\n",
       "      <td>NaN</td>\n",
       "      <td>Formal</td>\n",
       "      <td>NaN</td>\n",
       "      <td>16mar2013</td>\n",
       "      <td>25sep2013</td>\n",
       "      <td>193</td>\n",
       "      <td>6</td>\n",
       "      <td>59136359730000000</td>\n",
       "      <td>59134363516700000</td>\n",
       "      <td>16mar2013</td>\n",
       "      <td>3</td>\n",
       "      <td>2013</td>\n",
       "      <td>2013_03</td>\n",
       "      <td>7.0</td>\n",
       "      <td>194</td>\n",
       "      <td>6</td>\n",
       "      <td>0</td>\n",
       "      <td>0</td>\n",
       "      <td>findev</td>\n",
       "      <td>Borrowing, lending, savings or insurance media...</td>\n",
       "      <td>SUPPCRD</td>\n",
       "      <td>Supplier credit</td>\n",
       "      <td>4214</td>\n",
       "      <td>Okoa Jahazi</td>\n",
       "      <td>Fee for using service (10% of repayment)</td>\n",
       "      <td>NaN</td>\n",
       "      <td>0.0</td>\n",
       "      <td>Increase</td>\n",
       "      <td>16.0</td>\n",
       "      <td>Automatic</td>\n",
       "      <td>NaN</td>\n",
       "      <td>NaN</td>\n",
       "      <td>NaN</td>\n",
       "      <td>NaN</td>\n",
       "      <td>2.0</td>\n",
       "      <td>0.023529</td>\n",
       "      <td>0</td>\n",
       "      <td>NaN</td>\n",
       "      <td>NaN</td>\n",
       "      <td>NaN</td>\n",
       "      <td>6.689655</td>\n",
       "    </tr>\n",
       "    <tr>\n",
       "      <th>10202</th>\n",
       "      <td>KVIHC31</td>\n",
       "      <td>NaN</td>\n",
       "      <td>03sep2012</td>\n",
       "      <td>25sep2013</td>\n",
       "      <td>387</td>\n",
       "      <td>13</td>\n",
       "      <td>04=Diaries Interview</td>\n",
       "      <td>30aug2013</td>\n",
       "      <td>8</td>\n",
       "      <td>2013</td>\n",
       "      <td>2013_08</td>\n",
       "      <td>27aug2012</td>\n",
       "      <td>59135274677100000</td>\n",
       "      <td>NaN</td>\n",
       "      <td>59134363516700000</td>\n",
       "      <td>NaN</td>\n",
       "      <td>Liability</td>\n",
       "      <td>NaN</td>\n",
       "      <td>Formal</td>\n",
       "      <td>NaN</td>\n",
       "      <td>16mar2013</td>\n",
       "      <td>25sep2013</td>\n",
       "      <td>193</td>\n",
       "      <td>6</td>\n",
       "      <td>59137784577700000</td>\n",
       "      <td>59134363516700000</td>\n",
       "      <td>24aug2013</td>\n",
       "      <td>8</td>\n",
       "      <td>2013</td>\n",
       "      <td>2013_08</td>\n",
       "      <td>18.0</td>\n",
       "      <td>355</td>\n",
       "      <td>12</td>\n",
       "      <td>161</td>\n",
       "      <td>5</td>\n",
       "      <td>findev</td>\n",
       "      <td>Borrowing, lending, savings or insurance media...</td>\n",
       "      <td>SUPPCRD</td>\n",
       "      <td>Supplier credit</td>\n",
       "      <td>4214</td>\n",
       "      <td>Okoa Jahazi</td>\n",
       "      <td>New airtime on credit/new borrowing</td>\n",
       "      <td>New borrowing on financial liability</td>\n",
       "      <td>0.0</td>\n",
       "      <td>Increase</td>\n",
       "      <td>8.0</td>\n",
       "      <td>Purchase on credit/arrears</td>\n",
       "      <td>NaN</td>\n",
       "      <td>NaN</td>\n",
       "      <td>NaN</td>\n",
       "      <td>Inflow</td>\n",
       "      <td>9.0</td>\n",
       "      <td>0.105882</td>\n",
       "      <td>0</td>\n",
       "      <td>NaN</td>\n",
       "      <td>NaN</td>\n",
       "      <td>NaN</td>\n",
       "      <td>12.241380</td>\n",
       "    </tr>\n",
       "    <tr>\n",
       "      <th>10647</th>\n",
       "      <td>KVIHC31</td>\n",
       "      <td>NaN</td>\n",
       "      <td>03sep2012</td>\n",
       "      <td>25sep2013</td>\n",
       "      <td>387</td>\n",
       "      <td>13</td>\n",
       "      <td>04=Diaries Interview</td>\n",
       "      <td>29apr2013</td>\n",
       "      <td>4</td>\n",
       "      <td>2013</td>\n",
       "      <td>2013_04</td>\n",
       "      <td>27aug2012</td>\n",
       "      <td>59135274677100000</td>\n",
       "      <td>NaN</td>\n",
       "      <td>59134363516700000</td>\n",
       "      <td>NaN</td>\n",
       "      <td>Liability</td>\n",
       "      <td>NaN</td>\n",
       "      <td>Formal</td>\n",
       "      <td>NaN</td>\n",
       "      <td>16mar2013</td>\n",
       "      <td>25sep2013</td>\n",
       "      <td>193</td>\n",
       "      <td>6</td>\n",
       "      <td>59136723798000000</td>\n",
       "      <td>59134363516700000</td>\n",
       "      <td>15apr2013</td>\n",
       "      <td>4</td>\n",
       "      <td>2013</td>\n",
       "      <td>2013_04</td>\n",
       "      <td>10.0</td>\n",
       "      <td>224</td>\n",
       "      <td>7</td>\n",
       "      <td>30</td>\n",
       "      <td>1</td>\n",
       "      <td>findev</td>\n",
       "      <td>Borrowing, lending, savings or insurance media...</td>\n",
       "      <td>SUPPCRD</td>\n",
       "      <td>Supplier credit</td>\n",
       "      <td>4214</td>\n",
       "      <td>Okoa Jahazi</td>\n",
       "      <td>New airtime on credit/new borrowing</td>\n",
       "      <td>New borrowing on financial liability</td>\n",
       "      <td>0.0</td>\n",
       "      <td>Increase</td>\n",
       "      <td>8.0</td>\n",
       "      <td>Purchase on credit/arrears</td>\n",
       "      <td>NaN</td>\n",
       "      <td>NaN</td>\n",
       "      <td>NaN</td>\n",
       "      <td>Inflow</td>\n",
       "      <td>18.0</td>\n",
       "      <td>0.211765</td>\n",
       "      <td>0</td>\n",
       "      <td>NaN</td>\n",
       "      <td>NaN</td>\n",
       "      <td>NaN</td>\n",
       "      <td>7.724138</td>\n",
       "    </tr>\n",
       "  </tbody>\n",
       "</table>\n",
       "</div>"
      ],
      "text/plain": [
       "        hh_ids  unique_hhs first_trx_date_hh last_trx_date_hh  \\\n",
       "3677   KVIHC31         NaN         03sep2012        25sep2013   \n",
       "3820   KVIHC31         NaN         03sep2012        25sep2013   \n",
       "3821   KVIHC31         NaN         03sep2012        25sep2013   \n",
       "10202  KVIHC31         NaN         03sep2012        25sep2013   \n",
       "10647  KVIHC31         NaN         03sep2012        25sep2013   \n",
       "\n",
       "       tot_hh_daysofobs  tot_hh_monthsofobs interview_designation   int_date  \\\n",
       "3677                387                  13  04=Diaries Interview  25sep2013   \n",
       "3820                387                  13  04=Diaries Interview  18mar2013   \n",
       "3821                387                  13  04=Diaries Interview  18mar2013   \n",
       "10202               387                  13  04=Diaries Interview  30aug2013   \n",
       "10647               387                  13  04=Diaries Interview  29apr2013   \n",
       "\n",
       "       int_month  int_year int_yr_mo first_int_date        account_ids  \\\n",
       "3677           9      2013   2013_09      27aug2012  59135274677100000   \n",
       "3820           3      2013   2013_03      27aug2012  59135274677100000   \n",
       "3821           3      2013   2013_03      27aug2012  59135274677100000   \n",
       "10202          8      2013   2013_08      27aug2012  59135274677100000   \n",
       "10647          4      2013   2013_04      27aug2012  59135274677100000   \n",
       "\n",
       "       unique_accnts        m_ids_owner  unique_hm_owner account_bsheet_desig  \\\n",
       "3677             NaN  59134363516700000              NaN            Liability   \n",
       "3820             1.0  59134363516700000              NaN            Liability   \n",
       "3821             NaN  59134363516700000              NaN            Liability   \n",
       "10202            NaN  59134363516700000              NaN            Liability   \n",
       "10647            NaN  59134363516700000              NaN            Liability   \n",
       "\n",
       "      account_startclose_balance account_formal account_liquid  \\\n",
       "3677                       Close         Formal            NaN   \n",
       "3820                         NaN         Formal            NaN   \n",
       "3821                         NaN         Formal            NaN   \n",
       "10202                        NaN         Formal            NaN   \n",
       "10647                        NaN         Formal            NaN   \n",
       "\n",
       "      first_trx_date_acc last_trx_date_acc  tot_acc_daysofobs  \\\n",
       "3677           16mar2013         25sep2013                193   \n",
       "3820           16mar2013         25sep2013                193   \n",
       "3821           16mar2013         25sep2013                193   \n",
       "10202          16mar2013         25sep2013                193   \n",
       "10647          16mar2013         25sep2013                193   \n",
       "\n",
       "       tot_acc_monthsofobs             trx_id          m_ids_trx   trx_date  \\\n",
       "3677                     6  59138017096600000  59134363516700000  25sep2013   \n",
       "3820                     6  59136359710700000  59134363516700000  16mar2013   \n",
       "3821                     6  59136359730000000  59134363516700000  16mar2013   \n",
       "10202                    6  59137784577700000  59134363516700000  24aug2013   \n",
       "10647                    6  59136723798000000  59134363516700000  15apr2013   \n",
       "\n",
       "       trx_month  trx_year trx_yr_mo  trx_dq_round  trx_stdtime_days_hh  \\\n",
       "3677           9      2013   2013_09          19.0                  387   \n",
       "3820           3      2013   2013_03           7.0                  194   \n",
       "3821           3      2013   2013_03           7.0                  194   \n",
       "10202          8      2013   2013_08          18.0                  355   \n",
       "10647          4      2013   2013_04          10.0                  224   \n",
       "\n",
       "       trx_stdtime_mnths_hh  trx_stdtime_days_acc  trx_stdtime_mnths_acc  \\\n",
       "3677                     13                   193                      6   \n",
       "3820                      6                     0                      0   \n",
       "3821                      6                     0                      0   \n",
       "10202                    12                   161                      5   \n",
       "10647                     7                    30                      1   \n",
       "\n",
       "      trx_class_code                                     trx_class_desc  \\\n",
       "3677          findev  Borrowing, lending, savings or insurance media...   \n",
       "3820          findev  Borrowing, lending, savings or insurance media...   \n",
       "3821          findev  Borrowing, lending, savings or insurance media...   \n",
       "10202         findev  Borrowing, lending, savings or insurance media...   \n",
       "10647         findev  Borrowing, lending, savings or insurance media...   \n",
       "\n",
       "      trx_family_code  trx_family_desc  trx_type_code trx_type_desc  \\\n",
       "3677          SUPPCRD  Supplier credit           4214   Okoa Jahazi   \n",
       "3820          SUPPCRD  Supplier credit           4214   Okoa Jahazi   \n",
       "3821          SUPPCRD  Supplier credit           4214   Okoa Jahazi   \n",
       "10202         SUPPCRD  Supplier credit           4214   Okoa Jahazi   \n",
       "10647         SUPPCRD  Supplier credit           4214   Okoa Jahazi   \n",
       "\n",
       "                                trx_prx_purpose  \\\n",
       "3677            Closing Balance--End of last DQ   \n",
       "3820        New airtime on credit/new borrowing   \n",
       "3821   Fee for using service (10% of repayment)   \n",
       "10202       New airtime on credit/new borrowing   \n",
       "10647       New airtime on credit/new borrowing   \n",
       "\n",
       "                         trx_prx_purpose_fd  trx_fee trx_bsheet_direction  \\\n",
       "3677                                    NaN      0.0                  NaN   \n",
       "3820   New borrowing on financial liability      0.0             Increase   \n",
       "3821                                    NaN      0.0             Increase   \n",
       "10202  New borrowing on financial liability      0.0             Increase   \n",
       "10647  New borrowing on financial liability      0.0             Increase   \n",
       "\n",
       "       trx_mode_code               trx_mode_desc  trx_place_incommunity  \\\n",
       "3677            19.0             CLOSING BALANCE                    NaN   \n",
       "3820             8.0  Purchase on credit/arrears                    NaN   \n",
       "3821            16.0                   Automatic                    NaN   \n",
       "10202            8.0  Purchase on credit/arrears                    NaN   \n",
       "10647            8.0  Purchase on credit/arrears                    NaN   \n",
       "\n",
       "       trx_distance_km trx_outlet trx_direction  trx_value_kes  trx_value_usd  \\\n",
       "3677               NaN        NaN           NaN            0.0       0.000000   \n",
       "3820               NaN        NaN        Inflow           18.0       0.211765   \n",
       "3821               NaN        NaN           NaN            2.0       0.023529   \n",
       "10202              NaN        NaN        Inflow            9.0       0.105882   \n",
       "10647              NaN        NaN        Inflow           18.0       0.211765   \n",
       "\n",
       "       ddd_gift trx_inkind_units  trx_inkind_value_usd  trx_inkind_value_kes  \\\n",
       "3677          0              NaN                   NaN                   NaN   \n",
       "3820          0              NaN                   NaN                   NaN   \n",
       "3821          0              NaN                   NaN                   NaN   \n",
       "10202         0              NaN                   NaN                   NaN   \n",
       "10647         0              NaN                   NaN                   NaN   \n",
       "\n",
       "       trx_stdtime_mnths_hh_nr  \n",
       "3677                 13.344830  \n",
       "3820                  6.689655  \n",
       "3821                  6.689655  \n",
       "10202                12.241380  \n",
       "10647                 7.724138  "
      ]
     },
     "execution_count": 109,
     "metadata": {},
     "output_type": "execute_result"
    }
   ],
   "source": [
    "SUPPCRDa.head()"
   ]
  },
  {
   "cell_type": "code",
   "execution_count": 105,
   "metadata": {},
   "outputs": [],
   "source": [
    "SUPPCRDa.sort_values(\"trx_stdtime_days_acc\", inplace=True)"
   ]
  }
 ],
 "metadata": {
  "kernelspec": {
   "display_name": "Python 3",
   "language": "python",
   "name": "python3"
  },
  "language_info": {
   "codemirror_mode": {
    "name": "ipython",
    "version": 3
   },
   "file_extension": ".py",
   "mimetype": "text/x-python",
   "name": "python",
   "nbconvert_exporter": "python",
   "pygments_lexer": "ipython3",
   "version": "3.6.4"
  }
 },
 "nbformat": 4,
 "nbformat_minor": 2
}
