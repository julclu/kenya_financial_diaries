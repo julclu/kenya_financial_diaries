{
 "cells": [
  {
   "cell_type": "markdown",
   "metadata": {},
   "source": [
    "## Want to explore different loan types"
   ]
  },
  {
   "cell_type": "code",
   "execution_count": 95,
   "metadata": {},
   "outputs": [],
   "source": [
    "import os\n",
    "import pandas as pd \n",
    "import glob\n",
    "import random \n",
    "import numpy as np\n",
    "import matplotlib.pyplot as plt\n",
    "%matplotlib inline "
   ]
  },
  {
   "cell_type": "code",
   "execution_count": 2,
   "metadata": {},
   "outputs": [
    {
     "data": {
      "text/plain": [
       "['Well_Being.ipynb',\n",
       " 'info.pdf',\n",
       " '.DS_Store',\n",
       " 'Exploration_LoanInformalGroup_Ella.ipynb',\n",
       " 'different_loan_types_julia.ipynb',\n",
       " 'Demographics_Education_Julia.ipynb',\n",
       " 'Demo_Individual.ipynb',\n",
       " 'House Ownership.ipynb',\n",
       " 'diaries_transactions_all.csv',\n",
       " 'consumption_julia.ipynb',\n",
       " 'Exploration_LoanP2P_Ella.ipynb',\n",
       " 'README.md',\n",
       " 'Goings-On.ipynb',\n",
       " '.gitignore',\n",
       " 'Exploration_Ella.ipynb',\n",
       " '.ipynb_checkpoints',\n",
       " '.git',\n",
       " 'Exploration_Loan_Ella.ipynb',\n",
       " 'initial_exploration_julia.ipynb',\n",
       " 'aux_data']"
      ]
     },
     "execution_count": 2,
     "metadata": {},
     "output_type": "execute_result"
    }
   ],
   "source": [
    "os.listdir()"
   ]
  },
  {
   "cell_type": "code",
   "execution_count": 3,
   "metadata": {},
   "outputs": [],
   "source": [
    "trx = pd.read_csv('diaries_transactions_all.csv', low_memory=False)"
   ]
  },
  {
   "cell_type": "code",
   "execution_count": 4,
   "metadata": {},
   "outputs": [],
   "source": [
    "pd.set_option('display.max_columns',200)"
   ]
  },
  {
   "cell_type": "code",
   "execution_count": 5,
   "metadata": {},
   "outputs": [
    {
     "data": {
      "text/plain": [
       "(483949, 58)"
      ]
     },
     "execution_count": 5,
     "metadata": {},
     "output_type": "execute_result"
    }
   ],
   "source": [
    "trx.shape"
   ]
  },
  {
   "cell_type": "code",
   "execution_count": 6,
   "metadata": {},
   "outputs": [
    {
     "data": {
      "text/plain": [
       "Index(['hh_ids', 'unique_hhs', 'first_trx_date_hh', 'last_trx_date_hh',\n",
       "       'tot_hh_daysofobs', 'tot_hh_monthsofobs', 'interview_designation',\n",
       "       'int_date', 'int_month', 'int_year', 'int_yr_mo', 'first_int_date',\n",
       "       'account_ids', 'unique_accnts', 'm_ids_owner', 'unique_hm_owner',\n",
       "       'account_bsheet_desig', 'account_startclose_balance', 'account_formal',\n",
       "       'account_liquid', 'first_trx_date_acc', 'last_trx_date_acc',\n",
       "       'tot_acc_daysofobs', 'tot_acc_monthsofobs', 'trx_id', 'm_ids_trx',\n",
       "       'trx_date', 'trx_month', 'trx_year', 'trx_yr_mo', 'trx_dq_round',\n",
       "       'trx_stdtime_days_hh', 'trx_stdtime_mnths_hh', 'trx_stdtime_days_acc',\n",
       "       'trx_stdtime_mnths_acc', 'trx_class_code', 'trx_class_desc',\n",
       "       'trx_family_code', 'trx_family_desc', 'trx_type_code', 'trx_type_desc',\n",
       "       'trx_prx_purpose', 'trx_prx_purpose_fd', 'trx_fee',\n",
       "       'trx_bsheet_direction', 'trx_mode_code', 'trx_mode_desc',\n",
       "       'trx_place_incommunity', 'trx_distance_km', 'trx_outlet',\n",
       "       'trx_direction', 'trx_value_kes', 'trx_value_usd', 'ddd_gift',\n",
       "       'trx_inkind_units', 'trx_inkind_value_usd', 'trx_inkind_value_kes',\n",
       "       'trx_stdtime_mnths_hh_nr'],\n",
       "      dtype='object')"
      ]
     },
     "execution_count": 6,
     "metadata": {},
     "output_type": "execute_result"
    }
   ],
   "source": [
    "trx.columns"
   ]
  },
  {
   "cell_type": "markdown",
   "metadata": {},
   "source": [
    "## Account questions: "
   ]
  },
  {
   "cell_type": "markdown",
   "metadata": {},
   "source": [
    "### How many accounts are there? "
   ]
  },
  {
   "cell_type": "code",
   "execution_count": 7,
   "metadata": {},
   "outputs": [
    {
     "data": {
      "text/plain": [
       "9547"
      ]
     },
     "execution_count": 7,
     "metadata": {},
     "output_type": "execute_result"
    }
   ],
   "source": [
    "len(trx.account_ids.unique())"
   ]
  },
  {
   "cell_type": "markdown",
   "metadata": {},
   "source": [
    "Is this the same as unique_accounts ? "
   ]
  },
  {
   "cell_type": "code",
   "execution_count": 8,
   "metadata": {},
   "outputs": [
    {
     "data": {
      "text/plain": [
       "1.0    9546\n",
       "Name: unique_accnts, dtype: int64"
      ]
     },
     "execution_count": 8,
     "metadata": {},
     "output_type": "execute_result"
    }
   ],
   "source": [
    "trx.unique_accnts.value_counts()"
   ]
  },
  {
   "cell_type": "markdown",
   "metadata": {},
   "source": [
    "Yup. "
   ]
  },
  {
   "cell_type": "markdown",
   "metadata": {},
   "source": [
    "### Account types?"
   ]
  },
  {
   "cell_type": "code",
   "execution_count": 9,
   "metadata": {},
   "outputs": [
    {
     "data": {
      "text/plain": [
       "Asset        52021\n",
       "Liability    23078\n",
       "Insurance     1971\n",
       "Name: account_bsheet_desig, dtype: int64"
      ]
     },
     "execution_count": 9,
     "metadata": {},
     "output_type": "execute_result"
    }
   ],
   "source": [
    "trx.account_bsheet_desig.value_counts()"
   ]
  },
  {
   "cell_type": "markdown",
   "metadata": {},
   "source": [
    "### How many unique liabilities accounts, e.g. loans?  "
   ]
  },
  {
   "cell_type": "code",
   "execution_count": 10,
   "metadata": {},
   "outputs": [
    {
     "data": {
      "text/plain": [
       "(9546, 58)"
      ]
     },
     "execution_count": 10,
     "metadata": {},
     "output_type": "execute_result"
    }
   ],
   "source": [
    "trx.loc[trx['unique_accnts']==1].shape"
   ]
  },
  {
   "cell_type": "code",
   "execution_count": 11,
   "metadata": {},
   "outputs": [
    {
     "data": {
      "text/plain": [
       "Asset        2828\n",
       "Liability    1906\n",
       "Insurance     254\n",
       "Name: account_bsheet_desig, dtype: int64"
      ]
     },
     "execution_count": 11,
     "metadata": {},
     "output_type": "execute_result"
    }
   ],
   "source": [
    "trx.loc[trx['unique_accnts']==1].account_bsheet_desig.value_counts()"
   ]
  },
  {
   "cell_type": "markdown",
   "metadata": {},
   "source": [
    "1906 loans in total to work with. "
   ]
  },
  {
   "cell_type": "markdown",
   "metadata": {},
   "source": [
    "### How many of these accounts are formal? "
   ]
  },
  {
   "cell_type": "code",
   "execution_count": 12,
   "metadata": {},
   "outputs": [
    {
     "data": {
      "text/plain": [
       "Informal    1691\n",
       "Formal       215\n",
       "Name: account_formal, dtype: int64"
      ]
     },
     "execution_count": 12,
     "metadata": {},
     "output_type": "execute_result"
    }
   ],
   "source": [
    "trx.loc[trx['unique_accnts']==1].loc[trx['account_bsheet_desig']==\"Liability\"].account_formal.value_counts()"
   ]
  },
  {
   "cell_type": "markdown",
   "metadata": {},
   "source": [
    "### What kinds of transactions are happening with liabilities? "
   ]
  },
  {
   "cell_type": "code",
   "execution_count": 13,
   "metadata": {},
   "outputs": [
    {
     "data": {
      "text/plain": [
       "INFP2P     14755\n",
       "SUPPCRD     4050\n",
       "FRMLN       1429\n",
       "INFGRP      1377\n",
       "ARREARS     1058\n",
       "ADVANCE      280\n",
       "EMPLN        111\n",
       "PAWN          16\n",
       "OTHER          2\n",
       "Name: trx_family_code, dtype: int64"
      ]
     },
     "execution_count": 13,
     "metadata": {},
     "output_type": "execute_result"
    }
   ],
   "source": [
    "trx.loc[trx['account_bsheet_desig']==\"Liability\"].trx_family_code.value_counts()"
   ]
  },
  {
   "cell_type": "code",
   "execution_count": 14,
   "metadata": {},
   "outputs": [
    {
     "data": {
      "text/plain": [
       "Informal P2P                              14755\n",
       "Supplier credit                            4050\n",
       "Formal loan                                1429\n",
       "Informal group                             1377\n",
       "Arrears owed to or owed by respondents     1058\n",
       "Advance                                     280\n",
       "Loan from employer                          111\n",
       "Pawning assets                               16\n",
       "Other                                         2\n",
       "Name: trx_family_desc, dtype: int64"
      ]
     },
     "execution_count": 14,
     "metadata": {},
     "output_type": "execute_result"
    }
   ],
   "source": [
    "trx.loc[trx['account_bsheet_desig']==\"Liability\"].trx_family_desc.value_counts()"
   ]
  },
  {
   "cell_type": "markdown",
   "metadata": {},
   "source": [
    "### What transactions are in \"informal\" loan categories, and which are in the \"formal\" categories? "
   ]
  },
  {
   "cell_type": "code",
   "execution_count": 15,
   "metadata": {},
   "outputs": [
    {
     "data": {
      "text/plain": [
       "Supplier credit    2973\n",
       "Formal loan        1276\n",
       "Other                 2\n",
       "Name: trx_family_desc, dtype: int64"
      ]
     },
     "execution_count": 15,
     "metadata": {},
     "output_type": "execute_result"
    }
   ],
   "source": [
    "trx.loc[trx['account_bsheet_desig']==\"Liability\"].loc[trx['account_formal']==\"Formal\"].trx_family_desc.value_counts()"
   ]
  },
  {
   "cell_type": "code",
   "execution_count": 16,
   "metadata": {},
   "outputs": [
    {
     "data": {
      "text/plain": [
       "Informal P2P                              14755\n",
       "Informal group                             1377\n",
       "Supplier credit                            1077\n",
       "Arrears owed to or owed by respondents     1058\n",
       "Advance                                     280\n",
       "Formal loan                                 153\n",
       "Loan from employer                          111\n",
       "Pawning assets                               16\n",
       "Name: trx_family_desc, dtype: int64"
      ]
     },
     "execution_count": 16,
     "metadata": {},
     "output_type": "execute_result"
    }
   ],
   "source": [
    "trx.loc[trx['account_bsheet_desig']==\"Liability\"].loc[trx['account_formal']==\"Informal\"].trx_family_desc.value_counts()"
   ]
  },
  {
   "cell_type": "markdown",
   "metadata": {},
   "source": [
    "### How many closing balances of a formal loan are recorded? "
   ]
  },
  {
   "cell_type": "code",
   "execution_count": 17,
   "metadata": {},
   "outputs": [
    {
     "data": {
      "text/plain": [
       "Close    201\n",
       "Start     77\n",
       "Name: account_startclose_balance, dtype: int64"
      ]
     },
     "execution_count": 17,
     "metadata": {},
     "output_type": "execute_result"
    }
   ],
   "source": [
    "trx.loc[trx['account_bsheet_desig']==\"Liability\"].loc[trx['account_formal']==\"Formal\"].account_startclose_balance.value_counts()\n"
   ]
  },
  {
   "cell_type": "markdown",
   "metadata": {},
   "source": [
    "### For those listed as a closing balance, how many are zero? "
   ]
  },
  {
   "cell_type": "code",
   "execution_count": 18,
   "metadata": {},
   "outputs": [
    {
     "data": {
      "text/plain": [
       "0.0       114\n",
       "20.0        5\n",
       "50.0        4\n",
       "10.0        4\n",
       "1075.0      2\n",
       "Name: trx_value_kes, dtype: int64"
      ]
     },
     "execution_count": 18,
     "metadata": {},
     "output_type": "execute_result"
    }
   ],
   "source": [
    "trx.loc[trx['account_bsheet_desig']==\"Liability\"].loc[trx['account_formal']==\"Formal\"].loc[trx['account_startclose_balance']=='Close'].trx_value_kes.value_counts().head()\n"
   ]
  },
  {
   "cell_type": "markdown",
   "metadata": {},
   "source": [
    "### What is the average number of days these liability accounts are observed? "
   ]
  },
  {
   "cell_type": "markdown",
   "metadata": {},
   "source": [
    "All liabilities: "
   ]
  },
  {
   "cell_type": "code",
   "execution_count": 19,
   "metadata": {},
   "outputs": [
    {
     "data": {
      "text/plain": [
       "221.24186778593915"
      ]
     },
     "execution_count": 19,
     "metadata": {},
     "output_type": "execute_result"
    }
   ],
   "source": [
    "trx.loc[trx['unique_accnts']==1].loc[trx['account_bsheet_desig']==\"Liability\"].tot_acc_daysofobs.mean()"
   ]
  },
  {
   "cell_type": "markdown",
   "metadata": {},
   "source": [
    "Formal liabilities: "
   ]
  },
  {
   "cell_type": "code",
   "execution_count": 20,
   "metadata": {},
   "outputs": [
    {
     "data": {
      "text/plain": [
       "236.05116279069767"
      ]
     },
     "execution_count": 20,
     "metadata": {},
     "output_type": "execute_result"
    }
   ],
   "source": [
    "trx.loc[trx['unique_accnts']==1].loc[trx['account_bsheet_desig']==\"Liability\"].loc[trx['account_formal']=='Formal'].tot_acc_daysofobs.mean()"
   ]
  },
  {
   "cell_type": "markdown",
   "metadata": {},
   "source": [
    "### For all of the loans, how many unique HH IDs are there, and how many unique owners are there? "
   ]
  },
  {
   "cell_type": "code",
   "execution_count": 28,
   "metadata": {},
   "outputs": [],
   "source": [
    "unique_loans = trx.loc[trx['unique_accnts']==1].loc[trx['account_bsheet_desig']==\"Liability\"]"
   ]
  },
  {
   "cell_type": "code",
   "execution_count": 26,
   "metadata": {},
   "outputs": [
    {
     "data": {
      "text/plain": [
       "291"
      ]
     },
     "execution_count": 26,
     "metadata": {},
     "output_type": "execute_result"
    }
   ],
   "source": [
    "len(unique_loans.hh_ids.unique())"
   ]
  },
  {
   "cell_type": "code",
   "execution_count": 27,
   "metadata": {},
   "outputs": [
    {
     "data": {
      "text/plain": [
       "436"
      ]
     },
     "execution_count": 27,
     "metadata": {},
     "output_type": "execute_result"
    }
   ],
   "source": [
    "len(unique_loans.m_ids_owner.unique())"
   ]
  },
  {
   "cell_type": "markdown",
   "metadata": {},
   "source": [
    "## What do different loan types look like in terms of data? "
   ]
  },
  {
   "cell_type": "markdown",
   "metadata": {},
   "source": [
    "### Formal Liabilities: FRMLN"
   ]
  },
  {
   "cell_type": "code",
   "execution_count": 33,
   "metadata": {},
   "outputs": [
    {
     "data": {
      "text/plain": [
       "FRMLN      133\n",
       "SUPPCRD     82\n",
       "Name: trx_family_code, dtype: int64"
      ]
     },
     "execution_count": 33,
     "metadata": {},
     "output_type": "execute_result"
    }
   ],
   "source": [
    "unique_loans.loc[trx['account_formal']=='Formal'].trx_family_code.value_counts()"
   ]
  },
  {
   "cell_type": "code",
   "execution_count": 34,
   "metadata": {},
   "outputs": [
    {
     "data": {
      "text/plain": [
       "Formal loan        133\n",
       "Supplier credit     82\n",
       "Name: trx_family_desc, dtype: int64"
      ]
     },
     "execution_count": 34,
     "metadata": {},
     "output_type": "execute_result"
    }
   ],
   "source": [
    "unique_loans.loc[trx['account_formal']=='Formal'].trx_family_desc.value_counts()"
   ]
  },
  {
   "cell_type": "code",
   "execution_count": 112,
   "metadata": {},
   "outputs": [],
   "source": [
    "random.seed(1)\n",
    "a = random.choice(unique_loans.loc[trx['trx_family_code']=='FRMLN'][\"account_ids\"].unique())"
   ]
  },
  {
   "cell_type": "code",
   "execution_count": 113,
   "metadata": {},
   "outputs": [],
   "source": [
    "FRMLNa = trx[trx[\"account_ids\"]==a]"
   ]
  },
  {
   "cell_type": "code",
   "execution_count": 114,
   "metadata": {},
   "outputs": [],
   "source": [
    "FRMLNa = FRMLNa.copy()"
   ]
  },
  {
   "cell_type": "code",
   "execution_count": 82,
   "metadata": {},
   "outputs": [],
   "source": [
    "FRMLNa.sort_values(\"trx_stdtime_days_acc\", inplace=True)"
   ]
  },
  {
   "cell_type": "code",
   "execution_count": 85,
   "metadata": {},
   "outputs": [],
   "source": [
    "for index, row in FRMLNa.iterrows():\n",
    "    if FRMLNa.loc[index,\"trx_bsheet_direction\"]==\"Increase\":\n",
    "        FRMLNa.at[index,\"trx_val_dir\"] = FRMLNa.loc[index,\"trx_value_kes\"]\n",
    "    elif FRMLNa.loc[index,\"trx_bsheet_direction\"]==\"Decrease\":\n",
    "        FRMLNa.at[index,\"trx_val_dir\"] = -FRMLNa.loc[index,\"trx_value_kes\"]\n",
    "    else:\n",
    "        print(\"Error neither increase nor decrease at index\" + index)"
   ]
  },
  {
   "cell_type": "code",
   "execution_count": 86,
   "metadata": {
    "scrolled": true
   },
   "outputs": [
    {
     "data": {
      "text/html": [
       "<div>\n",
       "<style scoped>\n",
       "    .dataframe tbody tr th:only-of-type {\n",
       "        vertical-align: middle;\n",
       "    }\n",
       "\n",
       "    .dataframe tbody tr th {\n",
       "        vertical-align: top;\n",
       "    }\n",
       "\n",
       "    .dataframe thead th {\n",
       "        text-align: right;\n",
       "    }\n",
       "</style>\n",
       "<table border=\"1\" class=\"dataframe\">\n",
       "  <thead>\n",
       "    <tr style=\"text-align: right;\">\n",
       "      <th></th>\n",
       "      <th>trx_stdtime_days_acc</th>\n",
       "      <th>trx_value_kes</th>\n",
       "      <th>trx_prx_purpose</th>\n",
       "      <th>trx_direction</th>\n",
       "      <th>trx_bsheet_direction</th>\n",
       "      <th>trx_val_dir</th>\n",
       "    </tr>\n",
       "  </thead>\n",
       "  <tbody>\n",
       "    <tr>\n",
       "      <th>8312</th>\n",
       "      <td>0</td>\n",
       "      <td>38000.0</td>\n",
       "      <td>1. Starting balance (today)</td>\n",
       "      <td>NaN</td>\n",
       "      <td>Increase</td>\n",
       "      <td>38000.0</td>\n",
       "    </tr>\n",
       "    <tr>\n",
       "      <th>5456</th>\n",
       "      <td>18</td>\n",
       "      <td>3400.0</td>\n",
       "      <td>3. Payments</td>\n",
       "      <td>Outflow</td>\n",
       "      <td>Decrease</td>\n",
       "      <td>-3400.0</td>\n",
       "    </tr>\n",
       "    <tr>\n",
       "      <th>13411</th>\n",
       "      <td>19</td>\n",
       "      <td>304.0</td>\n",
       "      <td>4. Any known fees</td>\n",
       "      <td>NaN</td>\n",
       "      <td>Increase</td>\n",
       "      <td>304.0</td>\n",
       "    </tr>\n",
       "    <tr>\n",
       "      <th>6497</th>\n",
       "      <td>49</td>\n",
       "      <td>3400.0</td>\n",
       "      <td>3. Payments</td>\n",
       "      <td>Outflow</td>\n",
       "      <td>Decrease</td>\n",
       "      <td>-3400.0</td>\n",
       "    </tr>\n",
       "    <tr>\n",
       "      <th>17163</th>\n",
       "      <td>49</td>\n",
       "      <td>270.0</td>\n",
       "      <td>3. Payments</td>\n",
       "      <td>Outflow</td>\n",
       "      <td>Decrease</td>\n",
       "      <td>-270.0</td>\n",
       "    </tr>\n",
       "    <tr>\n",
       "      <th>4513</th>\n",
       "      <td>80</td>\n",
       "      <td>3400.0</td>\n",
       "      <td>3. Payments</td>\n",
       "      <td>Outflow</td>\n",
       "      <td>Decrease</td>\n",
       "      <td>-3400.0</td>\n",
       "    </tr>\n",
       "    <tr>\n",
       "      <th>19338</th>\n",
       "      <td>80</td>\n",
       "      <td>270.0</td>\n",
       "      <td>3. Payments</td>\n",
       "      <td>Outflow</td>\n",
       "      <td>Decrease</td>\n",
       "      <td>-270.0</td>\n",
       "    </tr>\n",
       "    <tr>\n",
       "      <th>454057</th>\n",
       "      <td>112</td>\n",
       "      <td>3400.0</td>\n",
       "      <td>3. Payments</td>\n",
       "      <td>Outflow</td>\n",
       "      <td>Decrease</td>\n",
       "      <td>-3400.0</td>\n",
       "    </tr>\n",
       "    <tr>\n",
       "      <th>438450</th>\n",
       "      <td>139</td>\n",
       "      <td>2100.0</td>\n",
       "      <td>3. Payments</td>\n",
       "      <td>Outflow</td>\n",
       "      <td>Decrease</td>\n",
       "      <td>-2100.0</td>\n",
       "    </tr>\n",
       "    <tr>\n",
       "      <th>438564</th>\n",
       "      <td>170</td>\n",
       "      <td>2100.0</td>\n",
       "      <td>3. Payments</td>\n",
       "      <td>Outflow</td>\n",
       "      <td>Decrease</td>\n",
       "      <td>-2100.0</td>\n",
       "    </tr>\n",
       "    <tr>\n",
       "      <th>438499</th>\n",
       "      <td>200</td>\n",
       "      <td>2100.0</td>\n",
       "      <td>3. Payments</td>\n",
       "      <td>Outflow</td>\n",
       "      <td>Decrease</td>\n",
       "      <td>-2100.0</td>\n",
       "    </tr>\n",
       "  </tbody>\n",
       "</table>\n",
       "</div>"
      ],
      "text/plain": [
       "        trx_stdtime_days_acc  trx_value_kes              trx_prx_purpose  \\\n",
       "8312                       0        38000.0  1. Starting balance (today)   \n",
       "5456                      18         3400.0                  3. Payments   \n",
       "13411                     19          304.0            4. Any known fees   \n",
       "6497                      49         3400.0                  3. Payments   \n",
       "17163                     49          270.0                  3. Payments   \n",
       "4513                      80         3400.0                  3. Payments   \n",
       "19338                     80          270.0                  3. Payments   \n",
       "454057                   112         3400.0                  3. Payments   \n",
       "438450                   139         2100.0                  3. Payments   \n",
       "438564                   170         2100.0                  3. Payments   \n",
       "438499                   200         2100.0                  3. Payments   \n",
       "\n",
       "       trx_direction trx_bsheet_direction  trx_val_dir  \n",
       "8312             NaN             Increase      38000.0  \n",
       "5456         Outflow             Decrease      -3400.0  \n",
       "13411            NaN             Increase        304.0  \n",
       "6497         Outflow             Decrease      -3400.0  \n",
       "17163        Outflow             Decrease       -270.0  \n",
       "4513         Outflow             Decrease      -3400.0  \n",
       "19338        Outflow             Decrease       -270.0  \n",
       "454057       Outflow             Decrease      -3400.0  \n",
       "438450       Outflow             Decrease      -2100.0  \n",
       "438564       Outflow             Decrease      -2100.0  \n",
       "438499       Outflow             Decrease      -2100.0  "
      ]
     },
     "execution_count": 86,
     "metadata": {},
     "output_type": "execute_result"
    }
   ],
   "source": [
    "FRMLNa[[\"trx_stdtime_days_acc\",\"trx_value_kes\",\"trx_prx_purpose\",\"trx_direction\",\"trx_bsheet_direction\",\"trx_val_dir\"]]"
   ]
  },
  {
   "cell_type": "code",
   "execution_count": 90,
   "metadata": {},
   "outputs": [],
   "source": [
    "FRMLNa.insert(59,\"bal_evol\",np.zeros(FRMLNa.shape[0]))"
   ]
  },
  {
   "cell_type": "code",
   "execution_count": 91,
   "metadata": {},
   "outputs": [],
   "source": [
    "s=0\n",
    "for index,row in FRMLNa.iterrows():\n",
    "    s+=FRMLNa.loc[index,\"trx_val_dir\"]\n",
    "    FRMLNa.at[index,\"bal_evol\"]=s"
   ]
  },
  {
   "cell_type": "code",
   "execution_count": 96,
   "metadata": {
    "scrolled": false
   },
   "outputs": [
    {
     "data": {
      "text/plain": [
       "<matplotlib.axes._subplots.AxesSubplot at 0x11d4091d0>"
      ]
     },
     "execution_count": 96,
     "metadata": {},
     "output_type": "execute_result"
    },
    {
     "data": {
      "image/png": "[encoded data removed]",
      "text/plain": [
       "<matplotlib.figure.Figure at 0x11d2144e0>"
      ]
     },
     "metadata": {},
     "output_type": "display_data"
    }
   ],
   "source": [
    "FRMLNa.plot(x=\"trx_stdtime_days_acc\",y=\"bal_evol\")"
   ]
  },
  {
   "cell_type": "markdown",
   "metadata": {},
   "source": [
    "#### FRMLN types: "
   ]
  },
  {
   "cell_type": "code",
   "execution_count": 122,
   "metadata": {},
   "outputs": [],
   "source": [
    "FRMLN_df = unique_loans.loc[trx['trx_family_code']=='FRMLN']"
   ]
  },
  {
   "cell_type": "code",
   "execution_count": 124,
   "metadata": {},
   "outputs": [
    {
     "data": {
      "text/plain": [
       "(159, 58)"
      ]
     },
     "execution_count": 124,
     "metadata": {},
     "output_type": "execute_result"
    }
   ],
   "source": [
    "FRMLN_df.shape"
   ]
  },
  {
   "cell_type": "code",
   "execution_count": 129,
   "metadata": {},
   "outputs": [
    {
     "data": {
      "text/plain": [
       "2760    48\n",
       "2762    33\n",
       "3398    24\n",
       "3247    21\n",
       "4219    14\n",
       "3397    12\n",
       "2761     2\n",
       "2746     2\n",
       "3502     2\n",
       "2759     1\n",
       "Name: trx_type_code, dtype: int64"
      ]
     },
     "execution_count": 129,
     "metadata": {},
     "output_type": "execute_result"
    }
   ],
   "source": [
    "FRMLN_df.trx_type_code.value_counts()"
   ]
  },
  {
   "cell_type": "code",
   "execution_count": 130,
   "metadata": {},
   "outputs": [
    {
     "data": {
      "text/plain": [
       "Individual Business or Agriculture Loan      48\n",
       "Consumer/ personal loan (not payday loan)    33\n",
       "Hire Purchase                                24\n",
       "Joint liability loan                         21\n",
       "M-SHWARI Loan                                14\n",
       "School Fees Loan                             12\n",
       "Group Enterprise Loan                         2\n",
       "Credit card (including store card)            2\n",
       "Payday loan                                   2\n",
       "Student loan                                  1\n",
       "Name: trx_type_desc, dtype: int64"
      ]
     },
     "execution_count": 130,
     "metadata": {},
     "output_type": "execute_result"
    }
   ],
   "source": [
    "FRMLN_df.trx_type_desc.value_counts()"
   ]
  },
  {
   "cell_type": "markdown",
   "metadata": {},
   "source": [
    "### Formal loan types: "
   ]
  },
  {
   "cell_type": "code",
   "execution_count": 142,
   "metadata": {},
   "outputs": [],
   "source": [
    "FRMLN_2760_df = trx.loc[trx['trx_type_code']==2760]"
   ]
  },
  {
   "cell_type": "code",
   "execution_count": 143,
   "metadata": {},
   "outputs": [],
   "source": [
    "random.seed(2)\n",
    "a = random.choice(FRMLN_2760_df[\"account_ids\"].unique())"
   ]
  },
  {
   "cell_type": "code",
   "execution_count": 144,
   "metadata": {},
   "outputs": [],
   "source": [
    "FRMLN_2760_dfa = FRMLN_2760_df[FRMLN_2760_df['account_ids']==a ]"
   ]
  },
  {
   "cell_type": "code",
   "execution_count": 145,
   "metadata": {},
   "outputs": [],
   "source": [
    "FRMLN_2760_dfa = FRMLN_2760_dfa.copy()"
   ]
  },
  {
   "cell_type": "code",
   "execution_count": 146,
   "metadata": {},
   "outputs": [],
   "source": [
    "FRMLN_2760_dfa.sort_values(\"trx_stdtime_days_acc\", inplace=True)"
   ]
  },
  {
   "cell_type": "code",
   "execution_count": 151,
   "metadata": {},
   "outputs": [
    {
     "data": {
      "text/html": [
       "<div>\n",
       "<style scoped>\n",
       "    .dataframe tbody tr th:only-of-type {\n",
       "        vertical-align: middle;\n",
       "    }\n",
       "\n",
       "    .dataframe tbody tr th {\n",
       "        vertical-align: top;\n",
       "    }\n",
       "\n",
       "    .dataframe thead th {\n",
       "        text-align: right;\n",
       "    }\n",
       "</style>\n",
       "<table border=\"1\" class=\"dataframe\">\n",
       "  <thead>\n",
       "    <tr style=\"text-align: right;\">\n",
       "      <th></th>\n",
       "      <th>hh_ids</th>\n",
       "      <th>unique_hhs</th>\n",
       "      <th>first_trx_date_hh</th>\n",
       "      <th>last_trx_date_hh</th>\n",
       "      <th>tot_hh_daysofobs</th>\n",
       "      <th>tot_hh_monthsofobs</th>\n",
       "      <th>interview_designation</th>\n",
       "      <th>int_date</th>\n",
       "      <th>int_month</th>\n",
       "      <th>int_year</th>\n",
       "      <th>int_yr_mo</th>\n",
       "      <th>first_int_date</th>\n",
       "      <th>account_ids</th>\n",
       "      <th>unique_accnts</th>\n",
       "      <th>m_ids_owner</th>\n",
       "      <th>unique_hm_owner</th>\n",
       "      <th>account_bsheet_desig</th>\n",
       "      <th>account_startclose_balance</th>\n",
       "      <th>account_formal</th>\n",
       "      <th>account_liquid</th>\n",
       "      <th>first_trx_date_acc</th>\n",
       "      <th>last_trx_date_acc</th>\n",
       "      <th>tot_acc_daysofobs</th>\n",
       "      <th>tot_acc_monthsofobs</th>\n",
       "      <th>trx_id</th>\n",
       "      <th>m_ids_trx</th>\n",
       "      <th>trx_date</th>\n",
       "      <th>trx_month</th>\n",
       "      <th>trx_year</th>\n",
       "      <th>trx_yr_mo</th>\n",
       "      <th>trx_dq_round</th>\n",
       "      <th>trx_stdtime_days_hh</th>\n",
       "      <th>trx_stdtime_mnths_hh</th>\n",
       "      <th>trx_stdtime_days_acc</th>\n",
       "      <th>trx_stdtime_mnths_acc</th>\n",
       "      <th>trx_class_code</th>\n",
       "      <th>trx_class_desc</th>\n",
       "      <th>trx_family_code</th>\n",
       "      <th>trx_family_desc</th>\n",
       "      <th>trx_type_code</th>\n",
       "      <th>trx_type_desc</th>\n",
       "      <th>trx_prx_purpose</th>\n",
       "      <th>trx_prx_purpose_fd</th>\n",
       "      <th>trx_fee</th>\n",
       "      <th>trx_bsheet_direction</th>\n",
       "      <th>trx_mode_code</th>\n",
       "      <th>trx_mode_desc</th>\n",
       "      <th>trx_place_incommunity</th>\n",
       "      <th>trx_distance_km</th>\n",
       "      <th>trx_outlet</th>\n",
       "      <th>trx_direction</th>\n",
       "      <th>trx_value_kes</th>\n",
       "      <th>trx_value_usd</th>\n",
       "      <th>ddd_gift</th>\n",
       "      <th>trx_inkind_units</th>\n",
       "      <th>trx_inkind_value_usd</th>\n",
       "      <th>trx_inkind_value_kes</th>\n",
       "      <th>trx_stdtime_mnths_hh_nr</th>\n",
       "      <th>trx_val_dir</th>\n",
       "    </tr>\n",
       "  </thead>\n",
       "  <tbody>\n",
       "    <tr>\n",
       "      <th>936</th>\n",
       "      <td>KELDK38</td>\n",
       "      <td>NaN</td>\n",
       "      <td>01sep2012</td>\n",
       "      <td>22oct2013</td>\n",
       "      <td>416</td>\n",
       "      <td>14</td>\n",
       "      <td>04=Diaries Interview</td>\n",
       "      <td>06jun2013</td>\n",
       "      <td>6</td>\n",
       "      <td>2013</td>\n",
       "      <td>2013_06</td>\n",
       "      <td>31aug2012</td>\n",
       "      <td>105137049319900000</td>\n",
       "      <td>1.0</td>\n",
       "      <td>56134397318700000</td>\n",
       "      <td>NaN</td>\n",
       "      <td>Liability</td>\n",
       "      <td>Start</td>\n",
       "      <td>Formal</td>\n",
       "      <td>NaN</td>\n",
       "      <td>01may2013</td>\n",
       "      <td>02oct2013</td>\n",
       "      <td>154</td>\n",
       "      <td>5</td>\n",
       "      <td>105137049360200000</td>\n",
       "      <td>56134397318700000</td>\n",
       "      <td>01may2013</td>\n",
       "      <td>5</td>\n",
       "      <td>2013</td>\n",
       "      <td>2013_05</td>\n",
       "      <td>10.0</td>\n",
       "      <td>242</td>\n",
       "      <td>8</td>\n",
       "      <td>0</td>\n",
       "      <td>0</td>\n",
       "      <td>findev</td>\n",
       "      <td>Borrowing, lending, savings or insurance media...</td>\n",
       "      <td>FRMLN</td>\n",
       "      <td>Formal loan</td>\n",
       "      <td>2760</td>\n",
       "      <td>Individual Business or Agriculture Loan</td>\n",
       "      <td>1. Starting balance (today)</td>\n",
       "      <td>NaN</td>\n",
       "      <td>0.0</td>\n",
       "      <td>Increase</td>\n",
       "      <td>18.0</td>\n",
       "      <td>STARTING BALANCE</td>\n",
       "      <td>NaN</td>\n",
       "      <td>NaN</td>\n",
       "      <td>NaN</td>\n",
       "      <td>NaN</td>\n",
       "      <td>298000.0</td>\n",
       "      <td>3505.8820</td>\n",
       "      <td>0</td>\n",
       "      <td>NaN</td>\n",
       "      <td>NaN</td>\n",
       "      <td>NaN</td>\n",
       "      <td>8.344828</td>\n",
       "      <td>298000.0</td>\n",
       "    </tr>\n",
       "    <tr>\n",
       "      <th>434478</th>\n",
       "      <td>KELDK38</td>\n",
       "      <td>NaN</td>\n",
       "      <td>01sep2012</td>\n",
       "      <td>22oct2013</td>\n",
       "      <td>416</td>\n",
       "      <td>14</td>\n",
       "      <td>04=Diaries Interview</td>\n",
       "      <td>06jun2013</td>\n",
       "      <td>6</td>\n",
       "      <td>2013</td>\n",
       "      <td>2013_06</td>\n",
       "      <td>31aug2012</td>\n",
       "      <td>105137049319900000</td>\n",
       "      <td>NaN</td>\n",
       "      <td>56134397318700000</td>\n",
       "      <td>NaN</td>\n",
       "      <td>Liability</td>\n",
       "      <td>NaN</td>\n",
       "      <td>Formal</td>\n",
       "      <td>NaN</td>\n",
       "      <td>01may2013</td>\n",
       "      <td>02oct2013</td>\n",
       "      <td>154</td>\n",
       "      <td>5</td>\n",
       "      <td>105137049372000000</td>\n",
       "      <td>56134397318700000</td>\n",
       "      <td>31may2013</td>\n",
       "      <td>5</td>\n",
       "      <td>2013</td>\n",
       "      <td>2013_05</td>\n",
       "      <td>10.0</td>\n",
       "      <td>272</td>\n",
       "      <td>9</td>\n",
       "      <td>30</td>\n",
       "      <td>1</td>\n",
       "      <td>findev</td>\n",
       "      <td>Borrowing, lending, savings or insurance media...</td>\n",
       "      <td>FRMLN</td>\n",
       "      <td>Formal loan</td>\n",
       "      <td>2760</td>\n",
       "      <td>Individual Business or Agriculture Loan</td>\n",
       "      <td>3. Payments</td>\n",
       "      <td>Repayment on financial liability</td>\n",
       "      <td>0.0</td>\n",
       "      <td>Decrease</td>\n",
       "      <td>3.0</td>\n",
       "      <td>Transfer into bank, SACCO, or MFI account</td>\n",
       "      <td>0.0</td>\n",
       "      <td>8.651168</td>\n",
       "      <td>01=Bank, MFI, SACCO, insurance branch</td>\n",
       "      <td>Outflow</td>\n",
       "      <td>11098.0</td>\n",
       "      <td>130.5647</td>\n",
       "      <td>0</td>\n",
       "      <td>NaN</td>\n",
       "      <td>NaN</td>\n",
       "      <td>NaN</td>\n",
       "      <td>9.379311</td>\n",
       "      <td>-11098.0</td>\n",
       "    </tr>\n",
       "    <tr>\n",
       "      <th>113491</th>\n",
       "      <td>KELDK38</td>\n",
       "      <td>NaN</td>\n",
       "      <td>01sep2012</td>\n",
       "      <td>22oct2013</td>\n",
       "      <td>416</td>\n",
       "      <td>14</td>\n",
       "      <td>04=Diaries Interview</td>\n",
       "      <td>24jul2013</td>\n",
       "      <td>7</td>\n",
       "      <td>2013</td>\n",
       "      <td>2013_07</td>\n",
       "      <td>31aug2012</td>\n",
       "      <td>105137049319900000</td>\n",
       "      <td>NaN</td>\n",
       "      <td>56134397318700000</td>\n",
       "      <td>NaN</td>\n",
       "      <td>Liability</td>\n",
       "      <td>NaN</td>\n",
       "      <td>Formal</td>\n",
       "      <td>NaN</td>\n",
       "      <td>01may2013</td>\n",
       "      <td>02oct2013</td>\n",
       "      <td>154</td>\n",
       "      <td>5</td>\n",
       "      <td>105137474456700000</td>\n",
       "      <td>56134397318700000</td>\n",
       "      <td>22jul2013</td>\n",
       "      <td>7</td>\n",
       "      <td>2013</td>\n",
       "      <td>2013_07</td>\n",
       "      <td>13.0</td>\n",
       "      <td>324</td>\n",
       "      <td>11</td>\n",
       "      <td>82</td>\n",
       "      <td>2</td>\n",
       "      <td>findev</td>\n",
       "      <td>Borrowing, lending, savings or insurance media...</td>\n",
       "      <td>FRMLN</td>\n",
       "      <td>Formal loan</td>\n",
       "      <td>2760</td>\n",
       "      <td>Individual Business or Agriculture Loan</td>\n",
       "      <td>3. Payments</td>\n",
       "      <td>Repayment on financial liability</td>\n",
       "      <td>0.0</td>\n",
       "      <td>Decrease</td>\n",
       "      <td>3.0</td>\n",
       "      <td>Transfer into bank, SACCO, or MFI account</td>\n",
       "      <td>1.0</td>\n",
       "      <td>0.000000</td>\n",
       "      <td>12=Other institution (school, clinic, church)</td>\n",
       "      <td>Outflow</td>\n",
       "      <td>11098.0</td>\n",
       "      <td>130.5647</td>\n",
       "      <td>0</td>\n",
       "      <td>NaN</td>\n",
       "      <td>NaN</td>\n",
       "      <td>NaN</td>\n",
       "      <td>11.172410</td>\n",
       "      <td>-11098.0</td>\n",
       "    </tr>\n",
       "    <tr>\n",
       "      <th>450879</th>\n",
       "      <td>KELDK38</td>\n",
       "      <td>NaN</td>\n",
       "      <td>01sep2012</td>\n",
       "      <td>22oct2013</td>\n",
       "      <td>416</td>\n",
       "      <td>14</td>\n",
       "      <td>04=Diaries Interview</td>\n",
       "      <td>03sep2013</td>\n",
       "      <td>9</td>\n",
       "      <td>2013</td>\n",
       "      <td>2013_09</td>\n",
       "      <td>31aug2012</td>\n",
       "      <td>105137049319900000</td>\n",
       "      <td>NaN</td>\n",
       "      <td>56134397318700000</td>\n",
       "      <td>NaN</td>\n",
       "      <td>Liability</td>\n",
       "      <td>NaN</td>\n",
       "      <td>Formal</td>\n",
       "      <td>NaN</td>\n",
       "      <td>01may2013</td>\n",
       "      <td>02oct2013</td>\n",
       "      <td>154</td>\n",
       "      <td>5</td>\n",
       "      <td>105137821353700000</td>\n",
       "      <td>56134397318700000</td>\n",
       "      <td>15aug2013</td>\n",
       "      <td>8</td>\n",
       "      <td>2013</td>\n",
       "      <td>2013_08</td>\n",
       "      <td>15.0</td>\n",
       "      <td>348</td>\n",
       "      <td>12</td>\n",
       "      <td>106</td>\n",
       "      <td>3</td>\n",
       "      <td>findev</td>\n",
       "      <td>Borrowing, lending, savings or insurance media...</td>\n",
       "      <td>FRMLN</td>\n",
       "      <td>Formal loan</td>\n",
       "      <td>2760</td>\n",
       "      <td>Individual Business or Agriculture Loan</td>\n",
       "      <td>3. Payments</td>\n",
       "      <td>Repayment on financial liability</td>\n",
       "      <td>0.0</td>\n",
       "      <td>Decrease</td>\n",
       "      <td>3.0</td>\n",
       "      <td>Transfer into bank, SACCO, or MFI account</td>\n",
       "      <td>0.0</td>\n",
       "      <td>245.429700</td>\n",
       "      <td>12=Other institution (school, clinic, church)</td>\n",
       "      <td>Outflow</td>\n",
       "      <td>11098.0</td>\n",
       "      <td>130.5647</td>\n",
       "      <td>0</td>\n",
       "      <td>NaN</td>\n",
       "      <td>NaN</td>\n",
       "      <td>NaN</td>\n",
       "      <td>12.000000</td>\n",
       "      <td>-11098.0</td>\n",
       "    </tr>\n",
       "    <tr>\n",
       "      <th>447761</th>\n",
       "      <td>KELDK38</td>\n",
       "      <td>NaN</td>\n",
       "      <td>01sep2012</td>\n",
       "      <td>22oct2013</td>\n",
       "      <td>416</td>\n",
       "      <td>14</td>\n",
       "      <td>04=Diaries Interview</td>\n",
       "      <td>03sep2013</td>\n",
       "      <td>9</td>\n",
       "      <td>2013</td>\n",
       "      <td>2013_09</td>\n",
       "      <td>31aug2012</td>\n",
       "      <td>105137049319900000</td>\n",
       "      <td>NaN</td>\n",
       "      <td>56134397318700000</td>\n",
       "      <td>NaN</td>\n",
       "      <td>Liability</td>\n",
       "      <td>NaN</td>\n",
       "      <td>Formal</td>\n",
       "      <td>NaN</td>\n",
       "      <td>01may2013</td>\n",
       "      <td>02oct2013</td>\n",
       "      <td>154</td>\n",
       "      <td>5</td>\n",
       "      <td>105137821406600000</td>\n",
       "      <td>56134397318700000</td>\n",
       "      <td>02sep2013</td>\n",
       "      <td>9</td>\n",
       "      <td>2013</td>\n",
       "      <td>2013_09</td>\n",
       "      <td>15.0</td>\n",
       "      <td>366</td>\n",
       "      <td>12</td>\n",
       "      <td>124</td>\n",
       "      <td>4</td>\n",
       "      <td>findev</td>\n",
       "      <td>Borrowing, lending, savings or insurance media...</td>\n",
       "      <td>FRMLN</td>\n",
       "      <td>Formal loan</td>\n",
       "      <td>2760</td>\n",
       "      <td>Individual Business or Agriculture Loan</td>\n",
       "      <td>3. Payments</td>\n",
       "      <td>Repayment on financial liability</td>\n",
       "      <td>0.0</td>\n",
       "      <td>Decrease</td>\n",
       "      <td>3.0</td>\n",
       "      <td>Transfer into bank, SACCO, or MFI account</td>\n",
       "      <td>0.0</td>\n",
       "      <td>245.429700</td>\n",
       "      <td>12=Other institution (school, clinic, church)</td>\n",
       "      <td>Outflow</td>\n",
       "      <td>11098.0</td>\n",
       "      <td>130.5647</td>\n",
       "      <td>0</td>\n",
       "      <td>NaN</td>\n",
       "      <td>NaN</td>\n",
       "      <td>NaN</td>\n",
       "      <td>12.620690</td>\n",
       "      <td>-11098.0</td>\n",
       "    </tr>\n",
       "    <tr>\n",
       "      <th>3193</th>\n",
       "      <td>KELDK38</td>\n",
       "      <td>NaN</td>\n",
       "      <td>01sep2012</td>\n",
       "      <td>22oct2013</td>\n",
       "      <td>416</td>\n",
       "      <td>14</td>\n",
       "      <td>04=Diaries Interview</td>\n",
       "      <td>02oct2013</td>\n",
       "      <td>10</td>\n",
       "      <td>2013</td>\n",
       "      <td>2013_10</td>\n",
       "      <td>31aug2012</td>\n",
       "      <td>105137049319900000</td>\n",
       "      <td>NaN</td>\n",
       "      <td>56134397318700000</td>\n",
       "      <td>NaN</td>\n",
       "      <td>Liability</td>\n",
       "      <td>Close</td>\n",
       "      <td>Formal</td>\n",
       "      <td>NaN</td>\n",
       "      <td>01may2013</td>\n",
       "      <td>02oct2013</td>\n",
       "      <td>154</td>\n",
       "      <td>5</td>\n",
       "      <td>105138069345200000</td>\n",
       "      <td>56134397318700000</td>\n",
       "      <td>02oct2013</td>\n",
       "      <td>10</td>\n",
       "      <td>2013</td>\n",
       "      <td>2013_10</td>\n",
       "      <td>17.0</td>\n",
       "      <td>396</td>\n",
       "      <td>13</td>\n",
       "      <td>154</td>\n",
       "      <td>5</td>\n",
       "      <td>findev</td>\n",
       "      <td>Borrowing, lending, savings or insurance media...</td>\n",
       "      <td>FRMLN</td>\n",
       "      <td>Formal loan</td>\n",
       "      <td>2760</td>\n",
       "      <td>Individual Business or Agriculture Loan</td>\n",
       "      <td>6. Closing Balance--End of last DQ</td>\n",
       "      <td>NaN</td>\n",
       "      <td>0.0</td>\n",
       "      <td>NaN</td>\n",
       "      <td>19.0</td>\n",
       "      <td>CLOSING BALANCE</td>\n",
       "      <td>NaN</td>\n",
       "      <td>NaN</td>\n",
       "      <td>NaN</td>\n",
       "      <td>NaN</td>\n",
       "      <td>253608.0</td>\n",
       "      <td>2983.6240</td>\n",
       "      <td>0</td>\n",
       "      <td>NaN</td>\n",
       "      <td>NaN</td>\n",
       "      <td>NaN</td>\n",
       "      <td>13.655170</td>\n",
       "      <td>NaN</td>\n",
       "    </tr>\n",
       "  </tbody>\n",
       "</table>\n",
       "</div>"
      ],
      "text/plain": [
       "         hh_ids  unique_hhs first_trx_date_hh last_trx_date_hh  \\\n",
       "936     KELDK38         NaN         01sep2012        22oct2013   \n",
       "434478  KELDK38         NaN         01sep2012        22oct2013   \n",
       "113491  KELDK38         NaN         01sep2012        22oct2013   \n",
       "450879  KELDK38         NaN         01sep2012        22oct2013   \n",
       "447761  KELDK38         NaN         01sep2012        22oct2013   \n",
       "3193    KELDK38         NaN         01sep2012        22oct2013   \n",
       "\n",
       "        tot_hh_daysofobs  tot_hh_monthsofobs interview_designation   int_date  \\\n",
       "936                  416                  14  04=Diaries Interview  06jun2013   \n",
       "434478               416                  14  04=Diaries Interview  06jun2013   \n",
       "113491               416                  14  04=Diaries Interview  24jul2013   \n",
       "450879               416                  14  04=Diaries Interview  03sep2013   \n",
       "447761               416                  14  04=Diaries Interview  03sep2013   \n",
       "3193                 416                  14  04=Diaries Interview  02oct2013   \n",
       "\n",
       "        int_month  int_year int_yr_mo first_int_date         account_ids  \\\n",
       "936             6      2013   2013_06      31aug2012  105137049319900000   \n",
       "434478          6      2013   2013_06      31aug2012  105137049319900000   \n",
       "113491          7      2013   2013_07      31aug2012  105137049319900000   \n",
       "450879          9      2013   2013_09      31aug2012  105137049319900000   \n",
       "447761          9      2013   2013_09      31aug2012  105137049319900000   \n",
       "3193           10      2013   2013_10      31aug2012  105137049319900000   \n",
       "\n",
       "        unique_accnts        m_ids_owner  unique_hm_owner  \\\n",
       "936               1.0  56134397318700000              NaN   \n",
       "434478            NaN  56134397318700000              NaN   \n",
       "113491            NaN  56134397318700000              NaN   \n",
       "450879            NaN  56134397318700000              NaN   \n",
       "447761            NaN  56134397318700000              NaN   \n",
       "3193              NaN  56134397318700000              NaN   \n",
       "\n",
       "       account_bsheet_desig account_startclose_balance account_formal  \\\n",
       "936               Liability                      Start         Formal   \n",
       "434478            Liability                        NaN         Formal   \n",
       "113491            Liability                        NaN         Formal   \n",
       "450879            Liability                        NaN         Formal   \n",
       "447761            Liability                        NaN         Formal   \n",
       "3193              Liability                      Close         Formal   \n",
       "\n",
       "       account_liquid first_trx_date_acc last_trx_date_acc  tot_acc_daysofobs  \\\n",
       "936               NaN          01may2013         02oct2013                154   \n",
       "434478            NaN          01may2013         02oct2013                154   \n",
       "113491            NaN          01may2013         02oct2013                154   \n",
       "450879            NaN          01may2013         02oct2013                154   \n",
       "447761            NaN          01may2013         02oct2013                154   \n",
       "3193              NaN          01may2013         02oct2013                154   \n",
       "\n",
       "        tot_acc_monthsofobs              trx_id          m_ids_trx   trx_date  \\\n",
       "936                       5  105137049360200000  56134397318700000  01may2013   \n",
       "434478                    5  105137049372000000  56134397318700000  31may2013   \n",
       "113491                    5  105137474456700000  56134397318700000  22jul2013   \n",
       "450879                    5  105137821353700000  56134397318700000  15aug2013   \n",
       "447761                    5  105137821406600000  56134397318700000  02sep2013   \n",
       "3193                      5  105138069345200000  56134397318700000  02oct2013   \n",
       "\n",
       "        trx_month  trx_year trx_yr_mo  trx_dq_round  trx_stdtime_days_hh  \\\n",
       "936             5      2013   2013_05          10.0                  242   \n",
       "434478          5      2013   2013_05          10.0                  272   \n",
       "113491          7      2013   2013_07          13.0                  324   \n",
       "450879          8      2013   2013_08          15.0                  348   \n",
       "447761          9      2013   2013_09          15.0                  366   \n",
       "3193           10      2013   2013_10          17.0                  396   \n",
       "\n",
       "        trx_stdtime_mnths_hh  trx_stdtime_days_acc  trx_stdtime_mnths_acc  \\\n",
       "936                        8                     0                      0   \n",
       "434478                     9                    30                      1   \n",
       "113491                    11                    82                      2   \n",
       "450879                    12                   106                      3   \n",
       "447761                    12                   124                      4   \n",
       "3193                      13                   154                      5   \n",
       "\n",
       "       trx_class_code                                     trx_class_desc  \\\n",
       "936            findev  Borrowing, lending, savings or insurance media...   \n",
       "434478         findev  Borrowing, lending, savings or insurance media...   \n",
       "113491         findev  Borrowing, lending, savings or insurance media...   \n",
       "450879         findev  Borrowing, lending, savings or insurance media...   \n",
       "447761         findev  Borrowing, lending, savings or insurance media...   \n",
       "3193           findev  Borrowing, lending, savings or insurance media...   \n",
       "\n",
       "       trx_family_code trx_family_desc  trx_type_code  \\\n",
       "936              FRMLN     Formal loan           2760   \n",
       "434478           FRMLN     Formal loan           2760   \n",
       "113491           FRMLN     Formal loan           2760   \n",
       "450879           FRMLN     Formal loan           2760   \n",
       "447761           FRMLN     Formal loan           2760   \n",
       "3193             FRMLN     Formal loan           2760   \n",
       "\n",
       "                                  trx_type_desc  \\\n",
       "936     Individual Business or Agriculture Loan   \n",
       "434478  Individual Business or Agriculture Loan   \n",
       "113491  Individual Business or Agriculture Loan   \n",
       "450879  Individual Business or Agriculture Loan   \n",
       "447761  Individual Business or Agriculture Loan   \n",
       "3193    Individual Business or Agriculture Loan   \n",
       "\n",
       "                           trx_prx_purpose                trx_prx_purpose_fd  \\\n",
       "936            1. Starting balance (today)                               NaN   \n",
       "434478                         3. Payments  Repayment on financial liability   \n",
       "113491                         3. Payments  Repayment on financial liability   \n",
       "450879                         3. Payments  Repayment on financial liability   \n",
       "447761                         3. Payments  Repayment on financial liability   \n",
       "3193    6. Closing Balance--End of last DQ                               NaN   \n",
       "\n",
       "        trx_fee trx_bsheet_direction  trx_mode_code  \\\n",
       "936         0.0             Increase           18.0   \n",
       "434478      0.0             Decrease            3.0   \n",
       "113491      0.0             Decrease            3.0   \n",
       "450879      0.0             Decrease            3.0   \n",
       "447761      0.0             Decrease            3.0   \n",
       "3193        0.0                  NaN           19.0   \n",
       "\n",
       "                                    trx_mode_desc  trx_place_incommunity  \\\n",
       "936                              STARTING BALANCE                    NaN   \n",
       "434478  Transfer into bank, SACCO, or MFI account                    0.0   \n",
       "113491  Transfer into bank, SACCO, or MFI account                    1.0   \n",
       "450879  Transfer into bank, SACCO, or MFI account                    0.0   \n",
       "447761  Transfer into bank, SACCO, or MFI account                    0.0   \n",
       "3193                              CLOSING BALANCE                    NaN   \n",
       "\n",
       "        trx_distance_km                                     trx_outlet  \\\n",
       "936                 NaN                                            NaN   \n",
       "434478         8.651168          01=Bank, MFI, SACCO, insurance branch   \n",
       "113491         0.000000  12=Other institution (school, clinic, church)   \n",
       "450879       245.429700  12=Other institution (school, clinic, church)   \n",
       "447761       245.429700  12=Other institution (school, clinic, church)   \n",
       "3193                NaN                                            NaN   \n",
       "\n",
       "       trx_direction  trx_value_kes  trx_value_usd  ddd_gift trx_inkind_units  \\\n",
       "936              NaN       298000.0      3505.8820         0              NaN   \n",
       "434478       Outflow        11098.0       130.5647         0              NaN   \n",
       "113491       Outflow        11098.0       130.5647         0              NaN   \n",
       "450879       Outflow        11098.0       130.5647         0              NaN   \n",
       "447761       Outflow        11098.0       130.5647         0              NaN   \n",
       "3193             NaN       253608.0      2983.6240         0              NaN   \n",
       "\n",
       "        trx_inkind_value_usd  trx_inkind_value_kes  trx_stdtime_mnths_hh_nr  \\\n",
       "936                      NaN                   NaN                 8.344828   \n",
       "434478                   NaN                   NaN                 9.379311   \n",
       "113491                   NaN                   NaN                11.172410   \n",
       "450879                   NaN                   NaN                12.000000   \n",
       "447761                   NaN                   NaN                12.620690   \n",
       "3193                     NaN                   NaN                13.655170   \n",
       "\n",
       "        trx_val_dir  \n",
       "936        298000.0  \n",
       "434478     -11098.0  \n",
       "113491     -11098.0  \n",
       "450879     -11098.0  \n",
       "447761     -11098.0  \n",
       "3193            NaN  "
      ]
     },
     "execution_count": 151,
     "metadata": {},
     "output_type": "execute_result"
    }
   ],
   "source": [
    "FRMLN_2760_dfa"
   ]
  },
  {
   "cell_type": "code",
   "execution_count": 150,
   "metadata": {},
   "outputs": [
    {
     "name": "stdout",
     "output_type": "stream",
     "text": [
      "Error neither increase nor decrease at index3193\n"
     ]
    }
   ],
   "source": [
    "for index, row in FRMLN_2760_dfa.iterrows():\n",
    "    if FRMLN_2760_dfa.loc[index,\"trx_bsheet_direction\"]==\"Increase\":\n",
    "        FRMLN_2760_dfa.at[index,\"trx_val_dir\"] = FRMLN_2760_dfa.loc[index,\"trx_value_kes\"]\n",
    "    elif FRMLN_2760_dfa.loc[index,\"trx_bsheet_direction\"]==\"Decrease\":\n",
    "        FRMLN_2760_dfa.at[index,\"trx_val_dir\"] = -FRMLN_2760_dfa.loc[index,\"trx_value_kes\"]\n",
    "    else:\n",
    "        print(\"Error neither increase nor decrease at index\" + str(index))"
   ]
  },
  {
   "cell_type": "code",
   "execution_count": 153,
   "metadata": {
    "scrolled": true
   },
   "outputs": [
    {
     "data": {
      "text/html": [
       "<div>\n",
       "<style scoped>\n",
       "    .dataframe tbody tr th:only-of-type {\n",
       "        vertical-align: middle;\n",
       "    }\n",
       "\n",
       "    .dataframe tbody tr th {\n",
       "        vertical-align: top;\n",
       "    }\n",
       "\n",
       "    .dataframe thead th {\n",
       "        text-align: right;\n",
       "    }\n",
       "</style>\n",
       "<table border=\"1\" class=\"dataframe\">\n",
       "  <thead>\n",
       "    <tr style=\"text-align: right;\">\n",
       "      <th></th>\n",
       "      <th>trx_stdtime_days_acc</th>\n",
       "      <th>trx_value_kes</th>\n",
       "      <th>trx_prx_purpose</th>\n",
       "      <th>trx_direction</th>\n",
       "      <th>trx_bsheet_direction</th>\n",
       "      <th>trx_val_dir</th>\n",
       "    </tr>\n",
       "  </thead>\n",
       "  <tbody>\n",
       "    <tr>\n",
       "      <th>936</th>\n",
       "      <td>0</td>\n",
       "      <td>298000.0</td>\n",
       "      <td>1. Starting balance (today)</td>\n",
       "      <td>NaN</td>\n",
       "      <td>Increase</td>\n",
       "      <td>298000.0</td>\n",
       "    </tr>\n",
       "    <tr>\n",
       "      <th>434478</th>\n",
       "      <td>30</td>\n",
       "      <td>11098.0</td>\n",
       "      <td>3. Payments</td>\n",
       "      <td>Outflow</td>\n",
       "      <td>Decrease</td>\n",
       "      <td>-11098.0</td>\n",
       "    </tr>\n",
       "    <tr>\n",
       "      <th>113491</th>\n",
       "      <td>82</td>\n",
       "      <td>11098.0</td>\n",
       "      <td>3. Payments</td>\n",
       "      <td>Outflow</td>\n",
       "      <td>Decrease</td>\n",
       "      <td>-11098.0</td>\n",
       "    </tr>\n",
       "    <tr>\n",
       "      <th>450879</th>\n",
       "      <td>106</td>\n",
       "      <td>11098.0</td>\n",
       "      <td>3. Payments</td>\n",
       "      <td>Outflow</td>\n",
       "      <td>Decrease</td>\n",
       "      <td>-11098.0</td>\n",
       "    </tr>\n",
       "    <tr>\n",
       "      <th>447761</th>\n",
       "      <td>124</td>\n",
       "      <td>11098.0</td>\n",
       "      <td>3. Payments</td>\n",
       "      <td>Outflow</td>\n",
       "      <td>Decrease</td>\n",
       "      <td>-11098.0</td>\n",
       "    </tr>\n",
       "    <tr>\n",
       "      <th>3193</th>\n",
       "      <td>154</td>\n",
       "      <td>253608.0</td>\n",
       "      <td>6. Closing Balance--End of last DQ</td>\n",
       "      <td>NaN</td>\n",
       "      <td>NaN</td>\n",
       "      <td>NaN</td>\n",
       "    </tr>\n",
       "  </tbody>\n",
       "</table>\n",
       "</div>"
      ],
      "text/plain": [
       "        trx_stdtime_days_acc  trx_value_kes  \\\n",
       "936                        0       298000.0   \n",
       "434478                    30        11098.0   \n",
       "113491                    82        11098.0   \n",
       "450879                   106        11098.0   \n",
       "447761                   124        11098.0   \n",
       "3193                     154       253608.0   \n",
       "\n",
       "                           trx_prx_purpose trx_direction trx_bsheet_direction  \\\n",
       "936            1. Starting balance (today)           NaN             Increase   \n",
       "434478                         3. Payments       Outflow             Decrease   \n",
       "113491                         3. Payments       Outflow             Decrease   \n",
       "450879                         3. Payments       Outflow             Decrease   \n",
       "447761                         3. Payments       Outflow             Decrease   \n",
       "3193    6. Closing Balance--End of last DQ           NaN                  NaN   \n",
       "\n",
       "        trx_val_dir  \n",
       "936        298000.0  \n",
       "434478     -11098.0  \n",
       "113491     -11098.0  \n",
       "450879     -11098.0  \n",
       "447761     -11098.0  \n",
       "3193            NaN  "
      ]
     },
     "execution_count": 153,
     "metadata": {},
     "output_type": "execute_result"
    }
   ],
   "source": [
    "FRMLN_2760_dfa[[\"trx_stdtime_days_acc\",\"trx_value_kes\",\"trx_prx_purpose\",\"trx_direction\",\"trx_bsheet_direction\",\"trx_val_dir\"]]"
   ]
  },
  {
   "cell_type": "code",
   "execution_count": 154,
   "metadata": {},
   "outputs": [],
   "source": [
    "FRMLN_2760_dfa.insert(59,\"bal_evol\",np.zeros(FRMLN_2760_dfa.shape[0]))"
   ]
  },
  {
   "cell_type": "code",
   "execution_count": 155,
   "metadata": {},
   "outputs": [],
   "source": [
    "s=0\n",
    "for index,row in FRMLN_2760_dfa.iterrows():\n",
    "    s+=FRMLN_2760_dfa.loc[index,\"trx_val_dir\"]\n",
    "    FRMLN_2760_dfa.at[index,\"bal_evol\"]=s"
   ]
  },
  {
   "cell_type": "code",
   "execution_count": 156,
   "metadata": {
    "scrolled": false
   },
   "outputs": [
    {
     "data": {
      "text/plain": [
       "<matplotlib.axes._subplots.AxesSubplot at 0x11d42dc18>"
      ]
     },
     "execution_count": 156,
     "metadata": {},
     "output_type": "execute_result"
    },
    {
     "data": {
      "image/png": "[encoded data removed]",
      "text/plain": [
       "<matplotlib.figure.Figure at 0x11d4a6518>"
      ]
     },
     "metadata": {},
     "output_type": "display_data"
    }
   ],
   "source": [
    "FRMLN_2760_dfa.plot(x=\"trx_stdtime_days_acc\",y=\"bal_evol\")"
   ]
  },
  {
   "cell_type": "markdown",
   "metadata": {},
   "source": [
    "### What is the average amount of the opening balance of these loans? "
   ]
  },
  {
   "cell_type": "code",
   "execution_count": 157,
   "metadata": {},
   "outputs": [
    {
     "data": {
      "text/plain": [
       "(442, 58)"
      ]
     },
     "execution_count": 157,
     "metadata": {},
     "output_type": "execute_result"
    }
   ],
   "source": [
    "FRMLN_2760_df.shape"
   ]
  },
  {
   "cell_type": "code",
   "execution_count": 159,
   "metadata": {},
   "outputs": [
    {
     "data": {
      "text/plain": [
       "48"
      ]
     },
     "execution_count": 159,
     "metadata": {},
     "output_type": "execute_result"
    }
   ],
   "source": [
    "len(FRMLN_2760_df.account_ids.unique())"
   ]
  },
  {
   "cell_type": "code",
   "execution_count": 209,
   "metadata": {},
   "outputs": [],
   "source": [
    "account_id = FRMLN_2760_df.account_ids.unique()[0]"
   ]
  },
  {
   "cell_type": "code",
   "execution_count": 215,
   "metadata": {},
   "outputs": [],
   "source": [
    "FRMLN_2760_account_df = FRMLN_2760_df.loc[FRMLN_2760_df['account_ids']==account_id].loc[FRMLN_2760_df['trx_prx_purpose']=='1. Starting balance (today)']"
   ]
  },
  {
   "cell_type": "code",
   "execution_count": 220,
   "metadata": {},
   "outputs": [
    {
     "data": {
      "text/plain": [
       "array([], dtype=float64)"
      ]
     },
     "execution_count": 220,
     "metadata": {},
     "output_type": "execute_result"
    }
   ],
   "source": [
    "FRMLN_2760_account_df['trx_value_kes'].values"
   ]
  },
  {
   "cell_type": "code",
   "execution_count": 246,
   "metadata": {},
   "outputs": [],
   "source": [
    "starting_balances = []"
   ]
  },
  {
   "cell_type": "code",
   "execution_count": 247,
   "metadata": {},
   "outputs": [],
   "source": [
    "for account_id in FRMLN_2760_df.account_ids.unique(): \n",
    "    FRMLN_2760_account_df = FRMLN_2760_df.loc[FRMLN_2760_df['account_ids']==account_id].loc[FRMLN_2760_df['trx_prx_purpose']=='1. Starting balance (today)']\n",
    "    starting_balance = FRMLN_2760_account_df['trx_value_kes'].values\n",
    "    if len(starting_balance)>0: \n",
    "        starting_balances.append(starting_balance[0])\n",
    "#         starting_balances.append((account_id, starting_balance[0]))\n"
   ]
  },
  {
   "cell_type": "code",
   "execution_count": 250,
   "metadata": {},
   "outputs": [
    {
     "data": {
      "text/plain": [
       "[18000.0,\n",
       " 18870.0,\n",
       " 298000.0,\n",
       " 0.0,\n",
       " 5450.0,\n",
       " 41000.0,\n",
       " 0.0,\n",
       " 0.0,\n",
       " 23000.0,\n",
       " 4300.0,\n",
       " 3500.0,\n",
       " 126450.0,\n",
       " 12000.0,\n",
       " 0.0,\n",
       " 148609.0,\n",
       " 0.0,\n",
       " 16000.0,\n",
       " 116000.0,\n",
       " 40340.0,\n",
       " 338847.0,\n",
       " 16400.0,\n",
       " 1700.0,\n",
       " 20000.0,\n",
       " 88000.0,\n",
       " 9500.0,\n",
       " 100000.0,\n",
       " 108000.0,\n",
       " 341850.0,\n",
       " 45000.0]"
      ]
     },
     "execution_count": 250,
     "metadata": {},
     "output_type": "execute_result"
    }
   ],
   "source": [
    "starting_balances"
   ]
  },
  {
   "cell_type": "code",
   "execution_count": 251,
   "metadata": {},
   "outputs": [
    {
     "data": {
      "text/plain": [
       "count        29.000000\n",
       "mean      66924.689655\n",
       "std       99874.452584\n",
       "min           0.000000\n",
       "25%        4300.000000\n",
       "50%       18870.000000\n",
       "75%      100000.000000\n",
       "max      341850.000000\n",
       "dtype: float64"
      ]
     },
     "execution_count": 251,
     "metadata": {},
     "output_type": "execute_result"
    }
   ],
   "source": [
    "pd.Series(starting_balances).describe()"
   ]
  },
  {
   "cell_type": "code",
   "execution_count": 261,
   "metadata": {},
   "outputs": [],
   "source": [
    "starting_balances = []"
   ]
  },
  {
   "cell_type": "code",
   "execution_count": 262,
   "metadata": {},
   "outputs": [],
   "source": [
    "for account_id in FRMLN_2760_df.account_ids.unique(): \n",
    "    FRMLN_2760_account_df = FRMLN_2760_df.loc[FRMLN_2760_df['account_ids']==account_id].loc[(FRMLN_2760_df['trx_prx_purpose']=='1. Starting balance (today)') | (FRMLN_2760_df['trx_prx_purpose']=='2. New borrowing')]\n",
    "    starting_balance = FRMLN_2760_account_df['trx_value_kes'].values\n",
    "    if len(starting_balance)>0: \n",
    "        starting_balances.append(starting_balance[0])\n",
    "#         starting_balances.append((account_id, starting_balance[0]))\n"
   ]
  },
  {
   "cell_type": "code",
   "execution_count": 264,
   "metadata": {},
   "outputs": [
    {
     "data": {
      "text/plain": [
       "[100000.0,\n",
       " 18000.0,\n",
       " 18870.0,\n",
       " 298000.0,\n",
       " 50000.0,\n",
       " 0.0,\n",
       " 5450.0,\n",
       " 41000.0,\n",
       " 0.0,\n",
       " 78600.0,\n",
       " 0.0,\n",
       " 23000.0,\n",
       " 4300.0,\n",
       " 9500.0,\n",
       " 3500.0,\n",
       " 126450.0,\n",
       " 12000.0,\n",
       " 0.0,\n",
       " 218000.0,\n",
       " 20000.0,\n",
       " 148609.0,\n",
       " 6000.0,\n",
       " 0.0,\n",
       " 16000.0,\n",
       " 116000.0,\n",
       " 40340.0,\n",
       " 6300.0,\n",
       " 338847.0,\n",
       " 16400.0,\n",
       " 3300.0,\n",
       " 1700.0,\n",
       " 20000.0,\n",
       " 88000.0,\n",
       " 9500.0,\n",
       " 100000.0,\n",
       " 6500.0,\n",
       " 100000.0,\n",
       " 1200.0,\n",
       " 5000.0,\n",
       " 108000.0,\n",
       " 341850.0,\n",
       " 150000.0,\n",
       " 6300.0,\n",
       " 35000.0,\n",
       " 45000.0,\n",
       " 7300.0]"
      ]
     },
     "execution_count": 264,
     "metadata": {},
     "output_type": "execute_result"
    }
   ],
   "source": [
    "starting_balances"
   ]
  },
  {
   "cell_type": "code",
   "execution_count": 263,
   "metadata": {},
   "outputs": [
    {
     "ename": "TypeError",
     "evalue": "'>' not supported between instances of 'list' and 'int'",
     "output_type": "error",
     "traceback": [
      "\u001b[0;31m---------------------------------------------------------------------------\u001b[0m",
      "\u001b[0;31mTypeError\u001b[0m                                 Traceback (most recent call last)",
      "\u001b[0;32m<ipython-input-263-bcd6ccbd2608>\u001b[0m in \u001b[0;36m<module>\u001b[0;34m()\u001b[0m\n\u001b[0;32m----> 1\u001b[0;31m \u001b[0mstarting_balances\u001b[0m\u001b[0;34m=\u001b[0m\u001b[0mstarting_balances\u001b[0m\u001b[0;34m[\u001b[0m\u001b[0mstarting_balances\u001b[0m\u001b[0;34m>\u001b[0m\u001b[0;36m0\u001b[0m\u001b[0;34m]\u001b[0m\u001b[0;34m\u001b[0m\u001b[0m\n\u001b[0m",
      "\u001b[0;31mTypeError\u001b[0m: '>' not supported between instances of 'list' and 'int'"
     ]
    }
   ],
   "source": [
    "starting_balances=starting_balances[starting_balances>0]"
   ]
  },
  {
   "cell_type": "code",
   "execution_count": 265,
   "metadata": {},
   "outputs": [
    {
     "data": {
      "text/plain": [
       "count        46.000000\n",
       "mean      59648.173913\n",
       "std       87710.094483\n",
       "min           0.000000\n",
       "25%        5587.500000\n",
       "50%       18435.000000\n",
       "75%       97000.000000\n",
       "max      341850.000000\n",
       "dtype: float64"
      ]
     },
     "execution_count": 265,
     "metadata": {},
     "output_type": "execute_result"
    }
   ],
   "source": [
    "pd.Series(starting_balances).describe()"
   ]
  },
  {
   "cell_type": "code",
   "execution_count": 245,
   "metadata": {},
   "outputs": [
    {
     "data": {
      "text/html": [
       "<div>\n",
       "<style scoped>\n",
       "    .dataframe tbody tr th:only-of-type {\n",
       "        vertical-align: middle;\n",
       "    }\n",
       "\n",
       "    .dataframe tbody tr th {\n",
       "        vertical-align: top;\n",
       "    }\n",
       "\n",
       "    .dataframe thead th {\n",
       "        text-align: right;\n",
       "    }\n",
       "</style>\n",
       "<table border=\"1\" class=\"dataframe\">\n",
       "  <thead>\n",
       "    <tr style=\"text-align: right;\">\n",
       "      <th></th>\n",
       "      <th>trx_stdtime_days_acc</th>\n",
       "      <th>trx_value_kes</th>\n",
       "      <th>trx_bsheet_direction</th>\n",
       "      <th>trx_prx_purpose</th>\n",
       "      <th>account_bsheet_desig</th>\n",
       "      <th>trx_direction</th>\n",
       "    </tr>\n",
       "  </thead>\n",
       "  <tbody>\n",
       "    <tr>\n",
       "      <th>238132</th>\n",
       "      <td>0</td>\n",
       "      <td>500.0</td>\n",
       "      <td>Decrease</td>\n",
       "      <td>3. Payments</td>\n",
       "      <td>Liability</td>\n",
       "      <td>Outflow</td>\n",
       "    </tr>\n",
       "    <tr>\n",
       "      <th>22651</th>\n",
       "      <td>3</td>\n",
       "      <td>0.0</td>\n",
       "      <td>Increase</td>\n",
       "      <td>1. Starting balance (today)</td>\n",
       "      <td>Liability</td>\n",
       "      <td>NaN</td>\n",
       "    </tr>\n",
       "    <tr>\n",
       "      <th>208302</th>\n",
       "      <td>29</td>\n",
       "      <td>500.0</td>\n",
       "      <td>Decrease</td>\n",
       "      <td>3. Payments</td>\n",
       "      <td>Liability</td>\n",
       "      <td>Outflow</td>\n",
       "    </tr>\n",
       "    <tr>\n",
       "      <th>247140</th>\n",
       "      <td>56</td>\n",
       "      <td>500.0</td>\n",
       "      <td>Decrease</td>\n",
       "      <td>3. Payments</td>\n",
       "      <td>Liability</td>\n",
       "      <td>Outflow</td>\n",
       "    </tr>\n",
       "    <tr>\n",
       "      <th>113772</th>\n",
       "      <td>61</td>\n",
       "      <td>300.0</td>\n",
       "      <td>Decrease</td>\n",
       "      <td>3. Payments</td>\n",
       "      <td>Liability</td>\n",
       "      <td>Outflow</td>\n",
       "    </tr>\n",
       "    <tr>\n",
       "      <th>197066</th>\n",
       "      <td>109</td>\n",
       "      <td>1000.0</td>\n",
       "      <td>Decrease</td>\n",
       "      <td>3. Payments</td>\n",
       "      <td>Liability</td>\n",
       "      <td>Outflow</td>\n",
       "    </tr>\n",
       "    <tr>\n",
       "      <th>213916</th>\n",
       "      <td>109</td>\n",
       "      <td>6300.0</td>\n",
       "      <td>Increase</td>\n",
       "      <td>2. New borrowing</td>\n",
       "      <td>Liability</td>\n",
       "      <td>Inflow</td>\n",
       "    </tr>\n",
       "    <tr>\n",
       "      <th>112538</th>\n",
       "      <td>147</td>\n",
       "      <td>500.0</td>\n",
       "      <td>Decrease</td>\n",
       "      <td>3. Payments</td>\n",
       "      <td>Liability</td>\n",
       "      <td>Outflow</td>\n",
       "    </tr>\n",
       "    <tr>\n",
       "      <th>212320</th>\n",
       "      <td>182</td>\n",
       "      <td>100.0</td>\n",
       "      <td>Decrease</td>\n",
       "      <td>3. Payments</td>\n",
       "      <td>Liability</td>\n",
       "      <td>Outflow</td>\n",
       "    </tr>\n",
       "    <tr>\n",
       "      <th>278108</th>\n",
       "      <td>218</td>\n",
       "      <td>300.0</td>\n",
       "      <td>Decrease</td>\n",
       "      <td>3. Payments</td>\n",
       "      <td>Liability</td>\n",
       "      <td>Outflow</td>\n",
       "    </tr>\n",
       "    <tr>\n",
       "      <th>406242</th>\n",
       "      <td>227</td>\n",
       "      <td>150.0</td>\n",
       "      <td>Decrease</td>\n",
       "      <td>3. Payments</td>\n",
       "      <td>Liability</td>\n",
       "      <td>Outflow</td>\n",
       "    </tr>\n",
       "    <tr>\n",
       "      <th>247134</th>\n",
       "      <td>268</td>\n",
       "      <td>400.0</td>\n",
       "      <td>Decrease</td>\n",
       "      <td>3. Payments</td>\n",
       "      <td>Liability</td>\n",
       "      <td>Outflow</td>\n",
       "    </tr>\n",
       "    <tr>\n",
       "      <th>58770</th>\n",
       "      <td>307</td>\n",
       "      <td>1000.0</td>\n",
       "      <td>Decrease</td>\n",
       "      <td>3. Payments</td>\n",
       "      <td>Liability</td>\n",
       "      <td>Outflow</td>\n",
       "    </tr>\n",
       "    <tr>\n",
       "      <th>147330</th>\n",
       "      <td>336</td>\n",
       "      <td>1550.0</td>\n",
       "      <td>Decrease</td>\n",
       "      <td>3. Payments</td>\n",
       "      <td>Liability</td>\n",
       "      <td>Outflow</td>\n",
       "    </tr>\n",
       "    <tr>\n",
       "      <th>1956</th>\n",
       "      <td>341</td>\n",
       "      <td>0.0</td>\n",
       "      <td>NaN</td>\n",
       "      <td>6. Closing Balance--End of last DQ</td>\n",
       "      <td>Liability</td>\n",
       "      <td>NaN</td>\n",
       "    </tr>\n",
       "  </tbody>\n",
       "</table>\n",
       "</div>"
      ],
      "text/plain": [
       "        trx_stdtime_days_acc  trx_value_kes trx_bsheet_direction  \\\n",
       "238132                     0          500.0             Decrease   \n",
       "22651                      3            0.0             Increase   \n",
       "208302                    29          500.0             Decrease   \n",
       "247140                    56          500.0             Decrease   \n",
       "113772                    61          300.0             Decrease   \n",
       "197066                   109         1000.0             Decrease   \n",
       "213916                   109         6300.0             Increase   \n",
       "112538                   147          500.0             Decrease   \n",
       "212320                   182          100.0             Decrease   \n",
       "278108                   218          300.0             Decrease   \n",
       "406242                   227          150.0             Decrease   \n",
       "247134                   268          400.0             Decrease   \n",
       "58770                    307         1000.0             Decrease   \n",
       "147330                   336         1550.0             Decrease   \n",
       "1956                     341            0.0                  NaN   \n",
       "\n",
       "                           trx_prx_purpose account_bsheet_desig trx_direction  \n",
       "238132                         3. Payments            Liability       Outflow  \n",
       "22651          1. Starting balance (today)            Liability           NaN  \n",
       "208302                         3. Payments            Liability       Outflow  \n",
       "247140                         3. Payments            Liability       Outflow  \n",
       "113772                         3. Payments            Liability       Outflow  \n",
       "197066                         3. Payments            Liability       Outflow  \n",
       "213916                    2. New borrowing            Liability        Inflow  \n",
       "112538                         3. Payments            Liability       Outflow  \n",
       "212320                         3. Payments            Liability       Outflow  \n",
       "278108                         3. Payments            Liability       Outflow  \n",
       "406242                         3. Payments            Liability       Outflow  \n",
       "247134                         3. Payments            Liability       Outflow  \n",
       "58770                          3. Payments            Liability       Outflow  \n",
       "147330                         3. Payments            Liability       Outflow  \n",
       "1956    6. Closing Balance--End of last DQ            Liability           NaN  "
      ]
     },
     "execution_count": 245,
     "metadata": {},
     "output_type": "execute_result"
    }
   ],
   "source": [
    "trx[trx['account_ids']==\"59134726342000000\"].sort_values('trx_stdtime_days_acc')[['trx_stdtime_days_acc', 'trx_value_kes', 'trx_bsheet_direction', 'trx_prx_purpose', 'account_bsheet_desig', 'trx_direction']]"
   ]
  },
  {
   "cell_type": "code",
   "execution_count": 243,
   "metadata": {},
   "outputs": [
    {
     "data": {
      "text/html": [
       "<div>\n",
       "<style scoped>\n",
       "    .dataframe tbody tr th:only-of-type {\n",
       "        vertical-align: middle;\n",
       "    }\n",
       "\n",
       "    .dataframe tbody tr th {\n",
       "        vertical-align: top;\n",
       "    }\n",
       "\n",
       "    .dataframe thead th {\n",
       "        text-align: right;\n",
       "    }\n",
       "</style>\n",
       "<table border=\"1\" class=\"dataframe\">\n",
       "  <thead>\n",
       "    <tr style=\"text-align: right;\">\n",
       "      <th></th>\n",
       "      <th>trx_stdtime_days_acc</th>\n",
       "      <th>trx_value_kes</th>\n",
       "      <th>trx_bsheet_direction</th>\n",
       "      <th>trx_prx_purpose</th>\n",
       "    </tr>\n",
       "  </thead>\n",
       "  <tbody>\n",
       "    <tr>\n",
       "      <th>2981</th>\n",
       "      <td>0</td>\n",
       "      <td>0.0</td>\n",
       "      <td>Increase</td>\n",
       "      <td>1. Starting balance (today)</td>\n",
       "    </tr>\n",
       "    <tr>\n",
       "      <th>3263</th>\n",
       "      <td>35</td>\n",
       "      <td>0.0</td>\n",
       "      <td>Increase</td>\n",
       "      <td>1. Starting balance (today)</td>\n",
       "    </tr>\n",
       "    <tr>\n",
       "      <th>347299</th>\n",
       "      <td>39</td>\n",
       "      <td>2800.0</td>\n",
       "      <td>Decrease</td>\n",
       "      <td>3. Payments</td>\n",
       "    </tr>\n",
       "    <tr>\n",
       "      <th>177978</th>\n",
       "      <td>59</td>\n",
       "      <td>9625.0</td>\n",
       "      <td>Increase</td>\n",
       "      <td>2. New borrowing</td>\n",
       "    </tr>\n",
       "    <tr>\n",
       "      <th>259048</th>\n",
       "      <td>85</td>\n",
       "      <td>500.0</td>\n",
       "      <td>Decrease</td>\n",
       "      <td>3. Payments</td>\n",
       "    </tr>\n",
       "    <tr>\n",
       "      <th>383852</th>\n",
       "      <td>106</td>\n",
       "      <td>300.0</td>\n",
       "      <td>Decrease</td>\n",
       "      <td>3. Payments</td>\n",
       "    </tr>\n",
       "    <tr>\n",
       "      <th>275936</th>\n",
       "      <td>127</td>\n",
       "      <td>200.0</td>\n",
       "      <td>Decrease</td>\n",
       "      <td>3. Payments</td>\n",
       "    </tr>\n",
       "    <tr>\n",
       "      <th>267186</th>\n",
       "      <td>134</td>\n",
       "      <td>500.0</td>\n",
       "      <td>Decrease</td>\n",
       "      <td>3. Payments</td>\n",
       "    </tr>\n",
       "    <tr>\n",
       "      <th>61689</th>\n",
       "      <td>164</td>\n",
       "      <td>100.0</td>\n",
       "      <td>Decrease</td>\n",
       "      <td>3. Payments</td>\n",
       "    </tr>\n",
       "    <tr>\n",
       "      <th>88092</th>\n",
       "      <td>171</td>\n",
       "      <td>50.0</td>\n",
       "      <td>Decrease</td>\n",
       "      <td>3. Payments</td>\n",
       "    </tr>\n",
       "    <tr>\n",
       "      <th>143051</th>\n",
       "      <td>190</td>\n",
       "      <td>200.0</td>\n",
       "      <td>Decrease</td>\n",
       "      <td>3. Payments</td>\n",
       "    </tr>\n",
       "    <tr>\n",
       "      <th>339112</th>\n",
       "      <td>227</td>\n",
       "      <td>400.0</td>\n",
       "      <td>Decrease</td>\n",
       "      <td>3. Payments</td>\n",
       "    </tr>\n",
       "    <tr>\n",
       "      <th>239107</th>\n",
       "      <td>231</td>\n",
       "      <td>400.0</td>\n",
       "      <td>Decrease</td>\n",
       "      <td>3. Payments</td>\n",
       "    </tr>\n",
       "    <tr>\n",
       "      <th>275903</th>\n",
       "      <td>245</td>\n",
       "      <td>400.0</td>\n",
       "      <td>Decrease</td>\n",
       "      <td>3. Payments</td>\n",
       "    </tr>\n",
       "    <tr>\n",
       "      <th>150285</th>\n",
       "      <td>253</td>\n",
       "      <td>400.0</td>\n",
       "      <td>Decrease</td>\n",
       "      <td>3. Payments</td>\n",
       "    </tr>\n",
       "    <tr>\n",
       "      <th>399836</th>\n",
       "      <td>267</td>\n",
       "      <td>400.0</td>\n",
       "      <td>Decrease</td>\n",
       "      <td>3. Payments</td>\n",
       "    </tr>\n",
       "    <tr>\n",
       "      <th>245920</th>\n",
       "      <td>281</td>\n",
       "      <td>400.0</td>\n",
       "      <td>Decrease</td>\n",
       "      <td>3. Payments</td>\n",
       "    </tr>\n",
       "    <tr>\n",
       "      <th>310464</th>\n",
       "      <td>295</td>\n",
       "      <td>400.0</td>\n",
       "      <td>Decrease</td>\n",
       "      <td>3. Payments</td>\n",
       "    </tr>\n",
       "    <tr>\n",
       "      <th>146103</th>\n",
       "      <td>322</td>\n",
       "      <td>400.0</td>\n",
       "      <td>Decrease</td>\n",
       "      <td>3. Payments</td>\n",
       "    </tr>\n",
       "    <tr>\n",
       "      <th>395530</th>\n",
       "      <td>329</td>\n",
       "      <td>275.0</td>\n",
       "      <td>Decrease</td>\n",
       "      <td>3. Payments</td>\n",
       "    </tr>\n",
       "    <tr>\n",
       "      <th>114893</th>\n",
       "      <td>332</td>\n",
       "      <td>1500.0</td>\n",
       "      <td>Decrease</td>\n",
       "      <td>3. Payments</td>\n",
       "    </tr>\n",
       "    <tr>\n",
       "      <th>19693</th>\n",
       "      <td>332</td>\n",
       "      <td>0.0</td>\n",
       "      <td>NaN</td>\n",
       "      <td>6. Closing Balance--End of last DQ</td>\n",
       "    </tr>\n",
       "  </tbody>\n",
       "</table>\n",
       "</div>"
      ],
      "text/plain": [
       "        trx_stdtime_days_acc  trx_value_kes trx_bsheet_direction  \\\n",
       "2981                       0            0.0             Increase   \n",
       "3263                      35            0.0             Increase   \n",
       "347299                    39         2800.0             Decrease   \n",
       "177978                    59         9625.0             Increase   \n",
       "259048                    85          500.0             Decrease   \n",
       "383852                   106          300.0             Decrease   \n",
       "275936                   127          200.0             Decrease   \n",
       "267186                   134          500.0             Decrease   \n",
       "61689                    164          100.0             Decrease   \n",
       "88092                    171           50.0             Decrease   \n",
       "143051                   190          200.0             Decrease   \n",
       "339112                   227          400.0             Decrease   \n",
       "239107                   231          400.0             Decrease   \n",
       "275903                   245          400.0             Decrease   \n",
       "150285                   253          400.0             Decrease   \n",
       "399836                   267          400.0             Decrease   \n",
       "245920                   281          400.0             Decrease   \n",
       "310464                   295          400.0             Decrease   \n",
       "146103                   322          400.0             Decrease   \n",
       "395530                   329          275.0             Decrease   \n",
       "114893                   332         1500.0             Decrease   \n",
       "19693                    332            0.0                  NaN   \n",
       "\n",
       "                           trx_prx_purpose  \n",
       "2981           1. Starting balance (today)  \n",
       "3263           1. Starting balance (today)  \n",
       "347299                         3. Payments  \n",
       "177978                    2. New borrowing  \n",
       "259048                         3. Payments  \n",
       "383852                         3. Payments  \n",
       "275936                         3. Payments  \n",
       "267186                         3. Payments  \n",
       "61689                          3. Payments  \n",
       "88092                          3. Payments  \n",
       "143051                         3. Payments  \n",
       "339112                         3. Payments  \n",
       "239107                         3. Payments  \n",
       "275903                         3. Payments  \n",
       "150285                         3. Payments  \n",
       "399836                         3. Payments  \n",
       "245920                         3. Payments  \n",
       "310464                         3. Payments  \n",
       "146103                         3. Payments  \n",
       "395530                         3. Payments  \n",
       "114893                         3. Payments  \n",
       "19693   6. Closing Balance--End of last DQ  "
      ]
     },
     "execution_count": 243,
     "metadata": {},
     "output_type": "execute_result"
    }
   ],
   "source": [
    "trx[trx['account_ids']==\"59134666467600000\"].sort_values('trx_stdtime_days_acc')[['trx_stdtime_days_acc', 'trx_value_kes', 'trx_bsheet_direction', 'trx_prx_purpose']]"
   ]
  },
  {
   "cell_type": "markdown",
   "metadata": {},
   "source": [
    "### Formal Liabilities: SUPPCRD"
   ]
  },
  {
   "cell_type": "code",
   "execution_count": 115,
   "metadata": {},
   "outputs": [],
   "source": [
    "random.seed(2)\n",
    "a = random.choice(unique_loans.loc[trx['trx_family_code']=='SUPPCRD'][\"account_ids\"].unique())"
   ]
  },
  {
   "cell_type": "code",
   "execution_count": 116,
   "metadata": {},
   "outputs": [],
   "source": [
    "unique_suppcrd_trx = unique_loans.loc[trx['trx_family_code']=='SUPPCRD'][\"account_ids\"].unique()"
   ]
  },
  {
   "cell_type": "code",
   "execution_count": 134,
   "metadata": {},
   "outputs": [
    {
     "data": {
      "text/plain": [
       "count      149.000000\n",
       "mean      1001.402685\n",
       "std       2694.013273\n",
       "min          0.000000\n",
       "25%          9.000000\n",
       "50%         50.000000\n",
       "75%       1000.000000\n",
       "max      20440.000000\n",
       "Name: trx_value_kes, dtype: float64"
      ]
     },
     "execution_count": 134,
     "metadata": {},
     "output_type": "execute_result"
    }
   ],
   "source": [
    "unique_loans.loc[trx['trx_family_code']=='SUPPCRD'].trx_value_kes.describe()"
   ]
  },
  {
   "cell_type": "code",
   "execution_count": 117,
   "metadata": {},
   "outputs": [],
   "source": [
    "SUPPCRDa = trx[trx[\"account_ids\"]==a]"
   ]
  },
  {
   "cell_type": "code",
   "execution_count": 118,
   "metadata": {},
   "outputs": [],
   "source": [
    "SUPPCRDa = SUPPCRDa.copy()"
   ]
  },
  {
   "cell_type": "code",
   "execution_count": 135,
   "metadata": {},
   "outputs": [
    {
     "data": {
      "text/html": [
       "<div>\n",
       "<style scoped>\n",
       "    .dataframe tbody tr th:only-of-type {\n",
       "        vertical-align: middle;\n",
       "    }\n",
       "\n",
       "    .dataframe tbody tr th {\n",
       "        vertical-align: top;\n",
       "    }\n",
       "\n",
       "    .dataframe thead th {\n",
       "        text-align: right;\n",
       "    }\n",
       "</style>\n",
       "<table border=\"1\" class=\"dataframe\">\n",
       "  <thead>\n",
       "    <tr style=\"text-align: right;\">\n",
       "      <th></th>\n",
       "      <th>hh_ids</th>\n",
       "      <th>unique_hhs</th>\n",
       "      <th>first_trx_date_hh</th>\n",
       "      <th>last_trx_date_hh</th>\n",
       "      <th>tot_hh_daysofobs</th>\n",
       "      <th>tot_hh_monthsofobs</th>\n",
       "      <th>interview_designation</th>\n",
       "      <th>int_date</th>\n",
       "      <th>int_month</th>\n",
       "      <th>int_year</th>\n",
       "      <th>int_yr_mo</th>\n",
       "      <th>first_int_date</th>\n",
       "      <th>account_ids</th>\n",
       "      <th>unique_accnts</th>\n",
       "      <th>m_ids_owner</th>\n",
       "      <th>unique_hm_owner</th>\n",
       "      <th>account_bsheet_desig</th>\n",
       "      <th>account_startclose_balance</th>\n",
       "      <th>account_formal</th>\n",
       "      <th>account_liquid</th>\n",
       "      <th>first_trx_date_acc</th>\n",
       "      <th>last_trx_date_acc</th>\n",
       "      <th>tot_acc_daysofobs</th>\n",
       "      <th>tot_acc_monthsofobs</th>\n",
       "      <th>trx_id</th>\n",
       "      <th>m_ids_trx</th>\n",
       "      <th>trx_date</th>\n",
       "      <th>trx_month</th>\n",
       "      <th>trx_year</th>\n",
       "      <th>trx_yr_mo</th>\n",
       "      <th>trx_dq_round</th>\n",
       "      <th>trx_stdtime_days_hh</th>\n",
       "      <th>trx_stdtime_mnths_hh</th>\n",
       "      <th>trx_stdtime_days_acc</th>\n",
       "      <th>trx_stdtime_mnths_acc</th>\n",
       "      <th>trx_class_code</th>\n",
       "      <th>trx_class_desc</th>\n",
       "      <th>trx_family_code</th>\n",
       "      <th>trx_family_desc</th>\n",
       "      <th>trx_type_code</th>\n",
       "      <th>trx_type_desc</th>\n",
       "      <th>trx_prx_purpose</th>\n",
       "      <th>trx_prx_purpose_fd</th>\n",
       "      <th>trx_fee</th>\n",
       "      <th>trx_bsheet_direction</th>\n",
       "      <th>trx_mode_code</th>\n",
       "      <th>trx_mode_desc</th>\n",
       "      <th>trx_place_incommunity</th>\n",
       "      <th>trx_distance_km</th>\n",
       "      <th>trx_outlet</th>\n",
       "      <th>trx_direction</th>\n",
       "      <th>trx_value_kes</th>\n",
       "      <th>trx_value_usd</th>\n",
       "      <th>ddd_gift</th>\n",
       "      <th>trx_inkind_units</th>\n",
       "      <th>trx_inkind_value_usd</th>\n",
       "      <th>trx_inkind_value_kes</th>\n",
       "      <th>trx_stdtime_mnths_hh_nr</th>\n",
       "    </tr>\n",
       "  </thead>\n",
       "  <tbody>\n",
       "    <tr>\n",
       "      <th>3820</th>\n",
       "      <td>KVIHC31</td>\n",
       "      <td>NaN</td>\n",
       "      <td>03sep2012</td>\n",
       "      <td>25sep2013</td>\n",
       "      <td>387</td>\n",
       "      <td>13</td>\n",
       "      <td>04=Diaries Interview</td>\n",
       "      <td>18mar2013</td>\n",
       "      <td>3</td>\n",
       "      <td>2013</td>\n",
       "      <td>2013_03</td>\n",
       "      <td>27aug2012</td>\n",
       "      <td>59135274677100000</td>\n",
       "      <td>1.0</td>\n",
       "      <td>59134363516700000</td>\n",
       "      <td>NaN</td>\n",
       "      <td>Liability</td>\n",
       "      <td>NaN</td>\n",
       "      <td>Formal</td>\n",
       "      <td>NaN</td>\n",
       "      <td>16mar2013</td>\n",
       "      <td>25sep2013</td>\n",
       "      <td>193</td>\n",
       "      <td>6</td>\n",
       "      <td>59136359710700000</td>\n",
       "      <td>59134363516700000</td>\n",
       "      <td>16mar2013</td>\n",
       "      <td>3</td>\n",
       "      <td>2013</td>\n",
       "      <td>2013_03</td>\n",
       "      <td>7.0</td>\n",
       "      <td>194</td>\n",
       "      <td>6</td>\n",
       "      <td>0</td>\n",
       "      <td>0</td>\n",
       "      <td>findev</td>\n",
       "      <td>Borrowing, lending, savings or insurance media...</td>\n",
       "      <td>SUPPCRD</td>\n",
       "      <td>Supplier credit</td>\n",
       "      <td>4214</td>\n",
       "      <td>Okoa Jahazi</td>\n",
       "      <td>New airtime on credit/new borrowing</td>\n",
       "      <td>New borrowing on financial liability</td>\n",
       "      <td>0.0</td>\n",
       "      <td>Increase</td>\n",
       "      <td>8.0</td>\n",
       "      <td>Purchase on credit/arrears</td>\n",
       "      <td>NaN</td>\n",
       "      <td>NaN</td>\n",
       "      <td>NaN</td>\n",
       "      <td>Inflow</td>\n",
       "      <td>18.0</td>\n",
       "      <td>0.211765</td>\n",
       "      <td>0</td>\n",
       "      <td>NaN</td>\n",
       "      <td>NaN</td>\n",
       "      <td>NaN</td>\n",
       "      <td>6.689655</td>\n",
       "    </tr>\n",
       "    <tr>\n",
       "      <th>3821</th>\n",
       "      <td>KVIHC31</td>\n",
       "      <td>NaN</td>\n",
       "      <td>03sep2012</td>\n",
       "      <td>25sep2013</td>\n",
       "      <td>387</td>\n",
       "      <td>13</td>\n",
       "      <td>04=Diaries Interview</td>\n",
       "      <td>18mar2013</td>\n",
       "      <td>3</td>\n",
       "      <td>2013</td>\n",
       "      <td>2013_03</td>\n",
       "      <td>27aug2012</td>\n",
       "      <td>59135274677100000</td>\n",
       "      <td>NaN</td>\n",
       "      <td>59134363516700000</td>\n",
       "      <td>NaN</td>\n",
       "      <td>Liability</td>\n",
       "      <td>NaN</td>\n",
       "      <td>Formal</td>\n",
       "      <td>NaN</td>\n",
       "      <td>16mar2013</td>\n",
       "      <td>25sep2013</td>\n",
       "      <td>193</td>\n",
       "      <td>6</td>\n",
       "      <td>59136359730000000</td>\n",
       "      <td>59134363516700000</td>\n",
       "      <td>16mar2013</td>\n",
       "      <td>3</td>\n",
       "      <td>2013</td>\n",
       "      <td>2013_03</td>\n",
       "      <td>7.0</td>\n",
       "      <td>194</td>\n",
       "      <td>6</td>\n",
       "      <td>0</td>\n",
       "      <td>0</td>\n",
       "      <td>findev</td>\n",
       "      <td>Borrowing, lending, savings or insurance media...</td>\n",
       "      <td>SUPPCRD</td>\n",
       "      <td>Supplier credit</td>\n",
       "      <td>4214</td>\n",
       "      <td>Okoa Jahazi</td>\n",
       "      <td>Fee for using service (10% of repayment)</td>\n",
       "      <td>NaN</td>\n",
       "      <td>0.0</td>\n",
       "      <td>Increase</td>\n",
       "      <td>16.0</td>\n",
       "      <td>Automatic</td>\n",
       "      <td>NaN</td>\n",
       "      <td>NaN</td>\n",
       "      <td>NaN</td>\n",
       "      <td>NaN</td>\n",
       "      <td>2.0</td>\n",
       "      <td>0.023529</td>\n",
       "      <td>0</td>\n",
       "      <td>NaN</td>\n",
       "      <td>NaN</td>\n",
       "      <td>NaN</td>\n",
       "      <td>6.689655</td>\n",
       "    </tr>\n",
       "    <tr>\n",
       "      <th>10647</th>\n",
       "      <td>KVIHC31</td>\n",
       "      <td>NaN</td>\n",
       "      <td>03sep2012</td>\n",
       "      <td>25sep2013</td>\n",
       "      <td>387</td>\n",
       "      <td>13</td>\n",
       "      <td>04=Diaries Interview</td>\n",
       "      <td>29apr2013</td>\n",
       "      <td>4</td>\n",
       "      <td>2013</td>\n",
       "      <td>2013_04</td>\n",
       "      <td>27aug2012</td>\n",
       "      <td>59135274677100000</td>\n",
       "      <td>NaN</td>\n",
       "      <td>59134363516700000</td>\n",
       "      <td>NaN</td>\n",
       "      <td>Liability</td>\n",
       "      <td>NaN</td>\n",
       "      <td>Formal</td>\n",
       "      <td>NaN</td>\n",
       "      <td>16mar2013</td>\n",
       "      <td>25sep2013</td>\n",
       "      <td>193</td>\n",
       "      <td>6</td>\n",
       "      <td>59136723798000000</td>\n",
       "      <td>59134363516700000</td>\n",
       "      <td>15apr2013</td>\n",
       "      <td>4</td>\n",
       "      <td>2013</td>\n",
       "      <td>2013_04</td>\n",
       "      <td>10.0</td>\n",
       "      <td>224</td>\n",
       "      <td>7</td>\n",
       "      <td>30</td>\n",
       "      <td>1</td>\n",
       "      <td>findev</td>\n",
       "      <td>Borrowing, lending, savings or insurance media...</td>\n",
       "      <td>SUPPCRD</td>\n",
       "      <td>Supplier credit</td>\n",
       "      <td>4214</td>\n",
       "      <td>Okoa Jahazi</td>\n",
       "      <td>New airtime on credit/new borrowing</td>\n",
       "      <td>New borrowing on financial liability</td>\n",
       "      <td>0.0</td>\n",
       "      <td>Increase</td>\n",
       "      <td>8.0</td>\n",
       "      <td>Purchase on credit/arrears</td>\n",
       "      <td>NaN</td>\n",
       "      <td>NaN</td>\n",
       "      <td>NaN</td>\n",
       "      <td>Inflow</td>\n",
       "      <td>18.0</td>\n",
       "      <td>0.211765</td>\n",
       "      <td>0</td>\n",
       "      <td>NaN</td>\n",
       "      <td>NaN</td>\n",
       "      <td>NaN</td>\n",
       "      <td>7.724138</td>\n",
       "    </tr>\n",
       "  </tbody>\n",
       "</table>\n",
       "</div>"
      ],
      "text/plain": [
       "        hh_ids  unique_hhs first_trx_date_hh last_trx_date_hh  \\\n",
       "3820   KVIHC31         NaN         03sep2012        25sep2013   \n",
       "3821   KVIHC31         NaN         03sep2012        25sep2013   \n",
       "10647  KVIHC31         NaN         03sep2012        25sep2013   \n",
       "\n",
       "       tot_hh_daysofobs  tot_hh_monthsofobs interview_designation   int_date  \\\n",
       "3820                387                  13  04=Diaries Interview  18mar2013   \n",
       "3821                387                  13  04=Diaries Interview  18mar2013   \n",
       "10647               387                  13  04=Diaries Interview  29apr2013   \n",
       "\n",
       "       int_month  int_year int_yr_mo first_int_date        account_ids  \\\n",
       "3820           3      2013   2013_03      27aug2012  59135274677100000   \n",
       "3821           3      2013   2013_03      27aug2012  59135274677100000   \n",
       "10647          4      2013   2013_04      27aug2012  59135274677100000   \n",
       "\n",
       "       unique_accnts        m_ids_owner  unique_hm_owner account_bsheet_desig  \\\n",
       "3820             1.0  59134363516700000              NaN            Liability   \n",
       "3821             NaN  59134363516700000              NaN            Liability   \n",
       "10647            NaN  59134363516700000              NaN            Liability   \n",
       "\n",
       "      account_startclose_balance account_formal account_liquid  \\\n",
       "3820                         NaN         Formal            NaN   \n",
       "3821                         NaN         Formal            NaN   \n",
       "10647                        NaN         Formal            NaN   \n",
       "\n",
       "      first_trx_date_acc last_trx_date_acc  tot_acc_daysofobs  \\\n",
       "3820           16mar2013         25sep2013                193   \n",
       "3821           16mar2013         25sep2013                193   \n",
       "10647          16mar2013         25sep2013                193   \n",
       "\n",
       "       tot_acc_monthsofobs             trx_id          m_ids_trx   trx_date  \\\n",
       "3820                     6  59136359710700000  59134363516700000  16mar2013   \n",
       "3821                     6  59136359730000000  59134363516700000  16mar2013   \n",
       "10647                    6  59136723798000000  59134363516700000  15apr2013   \n",
       "\n",
       "       trx_month  trx_year trx_yr_mo  trx_dq_round  trx_stdtime_days_hh  \\\n",
       "3820           3      2013   2013_03           7.0                  194   \n",
       "3821           3      2013   2013_03           7.0                  194   \n",
       "10647          4      2013   2013_04          10.0                  224   \n",
       "\n",
       "       trx_stdtime_mnths_hh  trx_stdtime_days_acc  trx_stdtime_mnths_acc  \\\n",
       "3820                      6                     0                      0   \n",
       "3821                      6                     0                      0   \n",
       "10647                     7                    30                      1   \n",
       "\n",
       "      trx_class_code                                     trx_class_desc  \\\n",
       "3820          findev  Borrowing, lending, savings or insurance media...   \n",
       "3821          findev  Borrowing, lending, savings or insurance media...   \n",
       "10647         findev  Borrowing, lending, savings or insurance media...   \n",
       "\n",
       "      trx_family_code  trx_family_desc  trx_type_code trx_type_desc  \\\n",
       "3820          SUPPCRD  Supplier credit           4214   Okoa Jahazi   \n",
       "3821          SUPPCRD  Supplier credit           4214   Okoa Jahazi   \n",
       "10647         SUPPCRD  Supplier credit           4214   Okoa Jahazi   \n",
       "\n",
       "                                trx_prx_purpose  \\\n",
       "3820        New airtime on credit/new borrowing   \n",
       "3821   Fee for using service (10% of repayment)   \n",
       "10647       New airtime on credit/new borrowing   \n",
       "\n",
       "                         trx_prx_purpose_fd  trx_fee trx_bsheet_direction  \\\n",
       "3820   New borrowing on financial liability      0.0             Increase   \n",
       "3821                                    NaN      0.0             Increase   \n",
       "10647  New borrowing on financial liability      0.0             Increase   \n",
       "\n",
       "       trx_mode_code               trx_mode_desc  trx_place_incommunity  \\\n",
       "3820             8.0  Purchase on credit/arrears                    NaN   \n",
       "3821            16.0                   Automatic                    NaN   \n",
       "10647            8.0  Purchase on credit/arrears                    NaN   \n",
       "\n",
       "       trx_distance_km trx_outlet trx_direction  trx_value_kes  trx_value_usd  \\\n",
       "3820               NaN        NaN        Inflow           18.0       0.211765   \n",
       "3821               NaN        NaN           NaN            2.0       0.023529   \n",
       "10647              NaN        NaN        Inflow           18.0       0.211765   \n",
       "\n",
       "       ddd_gift trx_inkind_units  trx_inkind_value_usd  trx_inkind_value_kes  \\\n",
       "3820          0              NaN                   NaN                   NaN   \n",
       "3821          0              NaN                   NaN                   NaN   \n",
       "10647         0              NaN                   NaN                   NaN   \n",
       "\n",
       "       trx_stdtime_mnths_hh_nr  \n",
       "3820                  6.689655  \n",
       "3821                  6.689655  \n",
       "10647                 7.724138  "
      ]
     },
     "execution_count": 135,
     "metadata": {},
     "output_type": "execute_result"
    }
   ],
   "source": [
    "SUPPCRDa.head(3)"
   ]
  }
 ],
 "metadata": {
  "kernelspec": {
   "display_name": "Python 3",
   "language": "python",
   "name": "python3"
  },
  "language_info": {
   "codemirror_mode": {
    "name": "ipython",
    "version": 3
   },
   "file_extension": ".py",
   "mimetype": "text/x-python",
   "name": "python",
   "nbconvert_exporter": "python",
   "pygments_lexer": "ipython3",
   "version": "3.6.4"
  }
 },
 "nbformat": 4,
 "nbformat_minor": 2
}
